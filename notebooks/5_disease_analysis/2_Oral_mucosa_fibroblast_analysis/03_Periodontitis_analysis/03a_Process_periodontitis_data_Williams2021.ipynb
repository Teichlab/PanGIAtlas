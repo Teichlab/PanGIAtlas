{
 "cells": [
  {
   "cell_type": "markdown",
   "id": "charitable-diving",
   "metadata": {},
   "source": [
    "# Williams periodontitis data\n",
    "make object from 10x matrices downloaded from DCP: https://data.humancellatlas.org/explore/projects/50151324-f3ed-4358-98af-ec352a940a61/project-matrices"
   ]
  },
  {
   "cell_type": "code",
   "execution_count": 1,
   "id": "tropical-deposit",
   "metadata": {},
   "outputs": [
    {
     "name": "stderr",
     "output_type": "stream",
     "text": [
      "<ipython-input-1-815cd875e358>:48: FutureWarning: X.dtype being converted to np.float32 from int64. In the next version of anndata (0.9) conversion will not be automatic. Pass dtype explicitly to avoid this warning. Pass `AnnData(X, dtype=X.dtype, ...)` to get the future behavour.\n",
      "  adata = anndata.AnnData(X, var=var, obs=obs)\n"
     ]
    },
    {
     "name": "stdout",
     "output_type": "stream",
     "text": [
      "AnnData object with n_obs × n_vars = 45712 × 33694\n"
     ]
    }
   ],
   "source": [
    "import scipy.io\n",
    "import gzip\n",
    "import pandas as pd\n",
    "import io\n",
    "import anndata\n",
    "\n",
    "# Define a list of sample IDs and corresponding patient IDs\n",
    "sample_info = [\n",
    "    {\"sample_id\": \"GSM5005058_PD134\", \"patient_id\": \"PD134\"},\n",
    "    {\"sample_id\": \"GSM5005059_PD153\", \"patient_id\": \"PD153\"},  \n",
    "    {\"sample_id\": \"GSM5005060_PD161\", \"patient_id\": \"PD161\"},  \n",
    "    {\"sample_id\": \"GSM5005061_PD161b\", \"patient_id\": \"PD161b\"},  \n",
    "    {\"sample_id\": \"GSM5005062_PD164\", \"patient_id\": \"PD164\"},  \n",
    "    {\"sample_id\": \"GSM5177042_PD164b\", \"patient_id\": \"PD164b\"},  \n",
    "    {\"sample_id\": \"GSM5177043_PD164c\", \"patient_id\": \"PD164c\"},  \n",
    "    {\"sample_id\": \"GSM5177044_PD170\", \"patient_id\": \"PD170\"} \n",
    "]\n",
    "\n",
    "# Initialize a list to store the AnnData objects for each sample\n",
    "adata_list = []\n",
    "\n",
    "# Loop through the sample info\n",
    "for sample_data in sample_info:\n",
    "    sample_id = sample_data[\"sample_id\"]\n",
    "    patient_id = sample_data[\"patient_id\"]\n",
    "\n",
    "    # Load the X matrix\n",
    "    X = scipy.io.mmread(f\"/nfs/team205/ao15/Megagut/Williams_data/data/{sample_id}_matrix.mtx.gz\").T\n",
    "    \n",
    "    # Load the obs (barcodes) data\n",
    "    obs_file_path = f\"/nfs/team205/ao15/Megagut/Williams_data/data/{sample_id}_barcodes.tsv\"\n",
    "    with gzip.open(obs_file_path, 'rb') as obs_file:\n",
    "        obs_content = obs_file.read()\n",
    "    obs = pd.read_csv(io.StringIO(obs_content.decode('utf-8')), index_col=0, delimiter='\\t', header=None)\n",
    "    \n",
    "    # Load the var (features) data\n",
    "    var_file_path = f\"/nfs/team205/ao15/Megagut/Williams_data/data/{sample_id}_features.tsv\"\n",
    "    with gzip.open(var_file_path, 'rb') as var_file:\n",
    "        var_content = var_file.read()\n",
    "    var = pd.read_csv(io.StringIO(var_content.decode('utf-8')), index_col=0, delimiter='\\t', header=None)\n",
    "\n",
    "    \n",
    "\n",
    "    # Append the patient ID to the cell barcodes\n",
    "    obs.index = patient_id + \"_\" + obs.index \n",
    "\n",
    "    # Create an AnnData object for each sample\n",
    "    adata = anndata.AnnData(X, var=var, obs=obs)\n",
    "\n",
    "    # Append the adata object to the list\n",
    "    adata_list.append(adata)\n",
    "\n",
    "# Concatenate the list of AnnData objects into a single AnnData object\n",
    "combined_adata = anndata.concat(adata_list, axis=0)  # axis=0 for concatenating vertically (along samples)\n",
    "\n",
    "# You now have a single combined AnnData object containing data from all samples with patient IDs in cell barcodes\n",
    "print(combined_adata)"
   ]
  },
  {
   "cell_type": "code",
   "execution_count": 2,
   "id": "temporal-steam",
   "metadata": {},
   "outputs": [
    {
     "data": {
      "text/plain": [
       "AnnData object with n_obs × n_vars = 45712 × 33694"
      ]
     },
     "execution_count": 2,
     "metadata": {},
     "output_type": "execute_result"
    }
   ],
   "source": [
    "combined_adata"
   ]
  },
  {
   "cell_type": "code",
   "execution_count": 3,
   "id": "floppy-extension",
   "metadata": {},
   "outputs": [],
   "source": [
    "import scanpy as sc\n",
    "annot_adata = sc.read_h5ad('/nfs/team205/ao15/Megagut/Williams_data/gingiva_Health-Disease.h5ad')"
   ]
  },
  {
   "cell_type": "code",
   "execution_count": 4,
   "id": "patent-modification",
   "metadata": {},
   "outputs": [
    {
     "data": {
      "text/plain": [
       "AnnData object with n_obs × n_vars = 87240 × 33694\n",
       "    obs: 'orig.ident', 'nCount_RNA', 'nFeature_RNA', 'project', 'percent.mt', 'S.Score', 'G2M.Score', 'paperLabels'\n",
       "    var: 'name'\n",
       "    obsm: 'X_pca', 'X_umap'"
      ]
     },
     "execution_count": 4,
     "metadata": {},
     "output_type": "execute_result"
    }
   ],
   "source": [
    "annot_adata"
   ]
  },
  {
   "cell_type": "code",
   "execution_count": 5,
   "id": "trying-evolution",
   "metadata": {},
   "outputs": [
    {
     "data": {
      "text/html": [
       "<div>\n",
       "<style scoped>\n",
       "    .dataframe tbody tr th:only-of-type {\n",
       "        vertical-align: middle;\n",
       "    }\n",
       "\n",
       "    .dataframe tbody tr th {\n",
       "        vertical-align: top;\n",
       "    }\n",
       "\n",
       "    .dataframe thead th {\n",
       "        text-align: right;\n",
       "    }\n",
       "</style>\n",
       "<table border=\"1\" class=\"dataframe\">\n",
       "  <thead>\n",
       "    <tr style=\"text-align: right;\">\n",
       "      <th></th>\n",
       "      <th>orig.ident</th>\n",
       "      <th>nCount_RNA</th>\n",
       "      <th>nFeature_RNA</th>\n",
       "      <th>project</th>\n",
       "      <th>percent.mt</th>\n",
       "      <th>S.Score</th>\n",
       "      <th>G2M.Score</th>\n",
       "      <th>paperLabels</th>\n",
       "    </tr>\n",
       "  </thead>\n",
       "  <tbody>\n",
       "    <tr>\n",
       "      <th>GM136_AAACCTGAGACAGAGA-1</th>\n",
       "      <td>GM136</td>\n",
       "      <td>6410.0</td>\n",
       "      <td>2249</td>\n",
       "      <td>GM</td>\n",
       "      <td>2.589704</td>\n",
       "      <td>-0.089278</td>\n",
       "      <td>-0.067567</td>\n",
       "      <td>P.Fib 1.1</td>\n",
       "    </tr>\n",
       "    <tr>\n",
       "      <th>GM136_AAACCTGAGTCCGTAT-1</th>\n",
       "      <td>GM136</td>\n",
       "      <td>12523.0</td>\n",
       "      <td>2860</td>\n",
       "      <td>GM</td>\n",
       "      <td>5.621656</td>\n",
       "      <td>0.025254</td>\n",
       "      <td>0.195841</td>\n",
       "      <td>P.Epi 1</td>\n",
       "    </tr>\n",
       "    <tr>\n",
       "      <th>GM136_AAACCTGGTTCACCTC-1</th>\n",
       "      <td>GM136</td>\n",
       "      <td>4711.0</td>\n",
       "      <td>1752</td>\n",
       "      <td>GM</td>\n",
       "      <td>2.717045</td>\n",
       "      <td>-0.026435</td>\n",
       "      <td>-0.014840</td>\n",
       "      <td>P.VEC 1.4</td>\n",
       "    </tr>\n",
       "    <tr>\n",
       "      <th>GM136_AAACGGGAGACCGGAT-1</th>\n",
       "      <td>GM136</td>\n",
       "      <td>2917.0</td>\n",
       "      <td>1452</td>\n",
       "      <td>GM</td>\n",
       "      <td>2.913953</td>\n",
       "      <td>-0.025327</td>\n",
       "      <td>-0.067934</td>\n",
       "      <td>P.VEC 1.4</td>\n",
       "    </tr>\n",
       "    <tr>\n",
       "      <th>GM136_AAACGGGGTCCGACGT-1</th>\n",
       "      <td>GM136</td>\n",
       "      <td>1827.0</td>\n",
       "      <td>844</td>\n",
       "      <td>GM</td>\n",
       "      <td>10.892173</td>\n",
       "      <td>-0.007948</td>\n",
       "      <td>-0.042850</td>\n",
       "      <td>P.VEC 1.1</td>\n",
       "    </tr>\n",
       "    <tr>\n",
       "      <th>...</th>\n",
       "      <td>...</td>\n",
       "      <td>...</td>\n",
       "      <td>...</td>\n",
       "      <td>...</td>\n",
       "      <td>...</td>\n",
       "      <td>...</td>\n",
       "      <td>...</td>\n",
       "      <td>...</td>\n",
       "    </tr>\n",
       "    <tr>\n",
       "      <th>PD170_TTTGTTGAGTCGGCAA-1</th>\n",
       "      <td>PD170</td>\n",
       "      <td>3933.0</td>\n",
       "      <td>1961</td>\n",
       "      <td>PD</td>\n",
       "      <td>3.839308</td>\n",
       "      <td>-0.021114</td>\n",
       "      <td>-0.020469</td>\n",
       "      <td>P.VEC 1.4</td>\n",
       "    </tr>\n",
       "    <tr>\n",
       "      <th>PD170_TTTGTTGAGTTAACAG-1</th>\n",
       "      <td>PD170</td>\n",
       "      <td>10938.0</td>\n",
       "      <td>3284</td>\n",
       "      <td>PD</td>\n",
       "      <td>5.558603</td>\n",
       "      <td>-0.016251</td>\n",
       "      <td>-0.119871</td>\n",
       "      <td>P.Fib 1.1</td>\n",
       "    </tr>\n",
       "    <tr>\n",
       "      <th>PD170_TTTGTTGCAGGCACTC-1</th>\n",
       "      <td>PD170</td>\n",
       "      <td>1277.0</td>\n",
       "      <td>712</td>\n",
       "      <td>PD</td>\n",
       "      <td>4.463587</td>\n",
       "      <td>-0.021221</td>\n",
       "      <td>0.029080</td>\n",
       "      <td>abT (CD4)</td>\n",
       "    </tr>\n",
       "    <tr>\n",
       "      <th>PD170_TTTGTTGGTTGCATCA-1</th>\n",
       "      <td>PD170</td>\n",
       "      <td>1437.0</td>\n",
       "      <td>772</td>\n",
       "      <td>PD</td>\n",
       "      <td>5.845511</td>\n",
       "      <td>-0.028199</td>\n",
       "      <td>-0.009766</td>\n",
       "      <td>abT (CD4)</td>\n",
       "    </tr>\n",
       "    <tr>\n",
       "      <th>PD170_TTTGTTGTCGCTTACC-1</th>\n",
       "      <td>PD170</td>\n",
       "      <td>1454.0</td>\n",
       "      <td>828</td>\n",
       "      <td>PD</td>\n",
       "      <td>2.819807</td>\n",
       "      <td>0.217578</td>\n",
       "      <td>-0.076508</td>\n",
       "      <td>Monocyte</td>\n",
       "    </tr>\n",
       "  </tbody>\n",
       "</table>\n",
       "<p>87240 rows × 8 columns</p>\n",
       "</div>"
      ],
      "text/plain": [
       "                         orig.ident  nCount_RNA  nFeature_RNA project  \\\n",
       "GM136_AAACCTGAGACAGAGA-1      GM136      6410.0          2249      GM   \n",
       "GM136_AAACCTGAGTCCGTAT-1      GM136     12523.0          2860      GM   \n",
       "GM136_AAACCTGGTTCACCTC-1      GM136      4711.0          1752      GM   \n",
       "GM136_AAACGGGAGACCGGAT-1      GM136      2917.0          1452      GM   \n",
       "GM136_AAACGGGGTCCGACGT-1      GM136      1827.0           844      GM   \n",
       "...                             ...         ...           ...     ...   \n",
       "PD170_TTTGTTGAGTCGGCAA-1      PD170      3933.0          1961      PD   \n",
       "PD170_TTTGTTGAGTTAACAG-1      PD170     10938.0          3284      PD   \n",
       "PD170_TTTGTTGCAGGCACTC-1      PD170      1277.0           712      PD   \n",
       "PD170_TTTGTTGGTTGCATCA-1      PD170      1437.0           772      PD   \n",
       "PD170_TTTGTTGTCGCTTACC-1      PD170      1454.0           828      PD   \n",
       "\n",
       "                          percent.mt   S.Score  G2M.Score paperLabels  \n",
       "GM136_AAACCTGAGACAGAGA-1    2.589704 -0.089278  -0.067567   P.Fib 1.1  \n",
       "GM136_AAACCTGAGTCCGTAT-1    5.621656  0.025254   0.195841     P.Epi 1  \n",
       "GM136_AAACCTGGTTCACCTC-1    2.717045 -0.026435  -0.014840   P.VEC 1.4  \n",
       "GM136_AAACGGGAGACCGGAT-1    2.913953 -0.025327  -0.067934   P.VEC 1.4  \n",
       "GM136_AAACGGGGTCCGACGT-1   10.892173 -0.007948  -0.042850   P.VEC 1.1  \n",
       "...                              ...       ...        ...         ...  \n",
       "PD170_TTTGTTGAGTCGGCAA-1    3.839308 -0.021114  -0.020469   P.VEC 1.4  \n",
       "PD170_TTTGTTGAGTTAACAG-1    5.558603 -0.016251  -0.119871   P.Fib 1.1  \n",
       "PD170_TTTGTTGCAGGCACTC-1    4.463587 -0.021221   0.029080   abT (CD4)  \n",
       "PD170_TTTGTTGGTTGCATCA-1    5.845511 -0.028199  -0.009766   abT (CD4)  \n",
       "PD170_TTTGTTGTCGCTTACC-1    2.819807  0.217578  -0.076508    Monocyte  \n",
       "\n",
       "[87240 rows x 8 columns]"
      ]
     },
     "execution_count": 5,
     "metadata": {},
     "output_type": "execute_result"
    }
   ],
   "source": [
    "annot_adata.obs"
   ]
  },
  {
   "cell_type": "code",
   "execution_count": 6,
   "id": "random-leone",
   "metadata": {
    "tags": []
   },
   "outputs": [
    {
     "data": {
      "text/html": [
       "<div>\n",
       "<style scoped>\n",
       "    .dataframe tbody tr th:only-of-type {\n",
       "        vertical-align: middle;\n",
       "    }\n",
       "\n",
       "    .dataframe tbody tr th {\n",
       "        vertical-align: top;\n",
       "    }\n",
       "\n",
       "    .dataframe thead th {\n",
       "        text-align: right;\n",
       "    }\n",
       "</style>\n",
       "<table border=\"1\" class=\"dataframe\">\n",
       "  <thead>\n",
       "    <tr style=\"text-align: right;\">\n",
       "      <th></th>\n",
       "    </tr>\n",
       "    <tr>\n",
       "      <th>0</th>\n",
       "    </tr>\n",
       "  </thead>\n",
       "  <tbody>\n",
       "    <tr>\n",
       "      <th>PD134_AAACCTGAGAATCTCC-1</th>\n",
       "    </tr>\n",
       "    <tr>\n",
       "      <th>PD134_AAACCTGAGGGAAACA-1</th>\n",
       "    </tr>\n",
       "    <tr>\n",
       "      <th>PD134_AAACCTGCAAAGTCAA-1</th>\n",
       "    </tr>\n",
       "    <tr>\n",
       "      <th>PD134_AAACCTGCAGCTGCAC-1</th>\n",
       "    </tr>\n",
       "    <tr>\n",
       "      <th>PD134_AAACCTGTCCCTCAGT-1</th>\n",
       "    </tr>\n",
       "    <tr>\n",
       "      <th>...</th>\n",
       "    </tr>\n",
       "    <tr>\n",
       "      <th>PD170_TTTGTTGAGTCGGCAA-1</th>\n",
       "    </tr>\n",
       "    <tr>\n",
       "      <th>PD170_TTTGTTGAGTTAACAG-1</th>\n",
       "    </tr>\n",
       "    <tr>\n",
       "      <th>PD170_TTTGTTGCAGGCACTC-1</th>\n",
       "    </tr>\n",
       "    <tr>\n",
       "      <th>PD170_TTTGTTGGTTGCATCA-1</th>\n",
       "    </tr>\n",
       "    <tr>\n",
       "      <th>PD170_TTTGTTGTCGCTTACC-1</th>\n",
       "    </tr>\n",
       "  </tbody>\n",
       "</table>\n",
       "<p>45712 rows × 0 columns</p>\n",
       "</div>"
      ],
      "text/plain": [
       "Empty DataFrame\n",
       "Columns: []\n",
       "Index: [PD134_AAACCTGAGAATCTCC-1, PD134_AAACCTGAGGGAAACA-1, PD134_AAACCTGCAAAGTCAA-1, PD134_AAACCTGCAGCTGCAC-1, PD134_AAACCTGTCCCTCAGT-1, PD134_AAACCTGTCCTCAATT-1, PD134_AAACGGGAGAATCTCC-1, PD134_AAACGGGAGCCCAATT-1, PD134_AAACGGGGTACCGCTG-1, PD134_AAACGGGGTAGAAAGG-1, PD134_AAACGGGGTCCGAAGA-1, PD134_AAACGGGTCATTTGGG-1, PD134_AAACGGGTCGGAAATA-1, PD134_AAAGATGAGATCTGCT-1, PD134_AAAGATGCAGGTTTCA-1, PD134_AAAGATGGTCCTCCAT-1, PD134_AAAGATGGTTGAACTC-1, PD134_AAAGATGTCTAGCACA-1, PD134_AAAGCAAAGACCACGA-1, PD134_AAAGCAAAGAGGTACC-1, PD134_AAAGCAAAGATCGATA-1, PD134_AAAGCAAAGCGATGAC-1, PD134_AAAGCAAAGCTTTGGT-1, PD134_AAAGCAACAAGGGTCA-1, PD134_AAAGCAACACAGATTC-1, PD134_AAAGCAACAGATCGGA-1, PD134_AAAGCAATCTCCGGTT-1, PD134_AAAGTAGAGCGATTCT-1, PD134_AAAGTAGAGTGACATA-1, PD134_AAAGTAGCATGTTCCC-1, PD134_AAAGTAGGTAAATGAC-1, PD134_AAAGTAGGTCACCCAG-1, PD134_AAAGTAGGTCCGCTGA-1, PD134_AAATGCCAGCTAGCCC-1, PD134_AAATGCCAGGTGTGGT-1, PD134_AAATGCCCAGCTCGAC-1, PD134_AAATGCCGTCTCCCTA-1, PD134_AAATGCCTCAATACCG-1, PD134_AAATGCCTCAGGATCT-1, PD134_AACACGTCATCAGTAC-1, PD134_AACACGTGTAAATGTG-1, PD134_AACACGTGTAACGCGA-1, PD134_AACACGTGTGTGAAAT-1, PD134_AACACGTGTTCGTGAT-1, PD134_AACCATGAGCAATCTC-1, PD134_AACCATGAGGTGCACA-1, PD134_AACCATGCAGGAATCG-1, PD134_AACCATGTCTGTCTCG-1, PD134_AACCGCGAGCTGCAAG-1, PD134_AACCGCGCAAGGGTCA-1, PD134_AACCGCGCACCCATGG-1, PD134_AACCGCGTCACCAGGC-1, PD134_AACCGCGTCATGTCCC-1, PD134_AACCGCGTCGATGAGG-1, PD134_AACGTTGAGCCACCTG-1, PD134_AACGTTGCACAGGAGT-1, PD134_AACGTTGGTAAGCACG-1, PD134_AACGTTGGTATCTGCA-1, PD134_AACGTTGGTTCCACTC-1, PD134_AACGTTGTCAGTTGAC-1, PD134_AACGTTGTCGCCCTTA-1, PD134_AACGTTGTCGCGGATC-1, PD134_AACGTTGTCTCTGAGA-1, PD134_AACTCAGAGACGACGT-1, PD134_AACTCCCAGTGGTAAT-1, PD134_AACTCCCAGTTGCAGG-1, PD134_AACTCCCCAAGCCCAC-1, PD134_AACTCCCCACGTCAGC-1, PD134_AACTCCCCATCGATTG-1, PD134_AACTCCCCATTCACTT-1, PD134_AACTCCCGTGGTAACG-1, PD134_AACTCCCTCAGGTAAA-1, PD134_AACTCCCTCCACGAAT-1, PD134_AACTCCCTCCGTAGTA-1, PD134_AACTCTTCACACAGAG-1, PD134_AACTCTTCAGATCGGA-1, PD134_AACTCTTGTCAACATC-1, PD134_AACTCTTGTCGCGGTT-1, PD134_AACTCTTGTCTAGGTT-1, PD134_AACTCTTTCAAACAAG-1, PD134_AACTCTTTCAATACCG-1, PD134_AACTCTTTCTAGAGTC-1, PD134_AACTGGTAGAAAGTGG-1, PD134_AACTGGTAGACTAGGC-1, PD134_AACTGGTAGCTGATAA-1, PD134_AACTGGTCAAGAGTCG-1, PD134_AACTGGTGTACGCTGC-1, PD134_AACTGGTGTAGAAGGA-1, PD134_AACTGGTGTATTCGTG-1, PD134_AACTGGTGTGTTGAGG-1, PD134_AACTGGTGTTCCATGA-1, PD134_AACTGGTGTTGAACTC-1, PD134_AACTTTCCAGTTCATG-1, PD134_AACTTTCCATATACGC-1, PD134_AACTTTCCATGACGGA-1, PD134_AACTTTCGTCAACTGT-1, PD134_AACTTTCTCTCTGCTG-1, PD134_AAGACCTAGATACACA-1, PD134_AAGACCTAGGCATGTG-1, PD134_AAGACCTGTAAGTGTA-1, ...]\n",
       "\n",
       "[45712 rows x 0 columns]"
      ]
     },
     "execution_count": 6,
     "metadata": {},
     "output_type": "execute_result"
    }
   ],
   "source": [
    "combined_adata.obs"
   ]
  },
  {
   "cell_type": "code",
   "execution_count": 34,
   "id": "broken-throat",
   "metadata": {},
   "outputs": [],
   "source": [
    "combined_adata.obs['donorID_original'] = annot_adata.obs['orig.ident'].astype(str)"
   ]
  },
  {
   "cell_type": "code",
   "execution_count": 35,
   "id": "short-vertical",
   "metadata": {},
   "outputs": [],
   "source": [
    "combined_adata.obs['annot_original'] = annot_adata.obs['paperLabels'].astype(str)"
   ]
  },
  {
   "cell_type": "code",
   "execution_count": 36,
   "id": "mounted-massage",
   "metadata": {},
   "outputs": [],
   "source": [
    "combined_adata.obs['disease'] = annot_adata.obs['project'].astype(str)"
   ]
  },
  {
   "cell_type": "code",
   "execution_count": 10,
   "id": "tough-profit",
   "metadata": {},
   "outputs": [
    {
     "data": {
      "text/plain": [
       "AnnData object with n_obs × n_vars = 45712 × 33694\n",
       "    obs: 'donorID_original', 'annot_original', 'disease'"
      ]
     },
     "execution_count": 10,
     "metadata": {},
     "output_type": "execute_result"
    }
   ],
   "source": [
    "combined_adata"
   ]
  },
  {
   "cell_type": "code",
   "execution_count": 11,
   "id": "interior-dallas",
   "metadata": {},
   "outputs": [
    {
     "data": {
      "text/html": [
       "<div>\n",
       "<style scoped>\n",
       "    .dataframe tbody tr th:only-of-type {\n",
       "        vertical-align: middle;\n",
       "    }\n",
       "\n",
       "    .dataframe tbody tr th {\n",
       "        vertical-align: top;\n",
       "    }\n",
       "\n",
       "    .dataframe thead th {\n",
       "        text-align: right;\n",
       "    }\n",
       "</style>\n",
       "<table border=\"1\" class=\"dataframe\">\n",
       "  <thead>\n",
       "    <tr style=\"text-align: right;\">\n",
       "      <th></th>\n",
       "    </tr>\n",
       "    <tr>\n",
       "      <th>0</th>\n",
       "    </tr>\n",
       "  </thead>\n",
       "  <tbody>\n",
       "    <tr>\n",
       "      <th>ENSG00000243485</th>\n",
       "    </tr>\n",
       "    <tr>\n",
       "      <th>ENSG00000237613</th>\n",
       "    </tr>\n",
       "    <tr>\n",
       "      <th>ENSG00000186092</th>\n",
       "    </tr>\n",
       "    <tr>\n",
       "      <th>ENSG00000238009</th>\n",
       "    </tr>\n",
       "    <tr>\n",
       "      <th>ENSG00000239945</th>\n",
       "    </tr>\n",
       "    <tr>\n",
       "      <th>...</th>\n",
       "    </tr>\n",
       "    <tr>\n",
       "      <th>ENSG00000277856</th>\n",
       "    </tr>\n",
       "    <tr>\n",
       "      <th>ENSG00000275063</th>\n",
       "    </tr>\n",
       "    <tr>\n",
       "      <th>ENSG00000271254</th>\n",
       "    </tr>\n",
       "    <tr>\n",
       "      <th>ENSG00000277475</th>\n",
       "    </tr>\n",
       "    <tr>\n",
       "      <th>ENSG00000268674</th>\n",
       "    </tr>\n",
       "  </tbody>\n",
       "</table>\n",
       "<p>33694 rows × 0 columns</p>\n",
       "</div>"
      ],
      "text/plain": [
       "Empty DataFrame\n",
       "Columns: []\n",
       "Index: [ENSG00000243485, ENSG00000237613, ENSG00000186092, ENSG00000238009, ENSG00000239945, ENSG00000239906, ENSG00000241599, ENSG00000279928, ENSG00000279457, ENSG00000228463, ENSG00000236743, ENSG00000236601, ENSG00000237094, ENSG00000278566, ENSG00000230021, ENSG00000235146, ENSG00000273547, ENSG00000229905, ENSG00000237491, ENSG00000177757, ENSG00000225880, ENSG00000230368, ENSG00000272438, ENSG00000230699, ENSG00000241180, ENSG00000223764, ENSG00000187634, ENSG00000188976, ENSG00000187961, ENSG00000187583, ENSG00000187642, ENSG00000272512, ENSG00000188290, ENSG00000187608, ENSG00000224969, ENSG00000188157, ENSG00000273443, ENSG00000237330, ENSG00000131591, ENSG00000223823, ENSG00000272141, ENSG00000205231, ENSG00000162571, ENSG00000186891, ENSG00000186827, ENSG00000078808, ENSG00000176022, ENSG00000184163, ENSG00000260179, ENSG00000160087, ENSG00000230415, ENSG00000162572, ENSG00000131584, ENSG00000169972, ENSG00000127054, ENSG00000224051, ENSG00000169962, ENSG00000107404, ENSG00000162576, ENSG00000175756, ENSG00000221978, ENSG00000242485, ENSG00000272455, ENSG00000235098, ENSG00000225905, ENSG00000205116, ENSG00000225285, ENSG00000179403, ENSG00000215915, ENSG00000160072, ENSG00000197785, ENSG00000205090, ENSG00000160075, ENSG00000215014, ENSG00000279244, ENSG00000228594, ENSG00000272106, ENSG00000197530, ENSG00000189409, ENSG00000248333, ENSG00000272004, ENSG00000189339, ENSG00000269737, ENSG00000008128, ENSG00000215790, ENSG00000008130, ENSG00000078369, ENSG00000231050, ENSG00000169885, ENSG00000178821, ENSG00000142609, ENSG00000233542, ENSG00000187730, ENSG00000226969, ENSG00000067606, ENSG00000271806, ENSG00000182873, ENSG00000162585, ENSG00000234396, ENSG00000157933, ...]\n",
       "\n",
       "[33694 rows x 0 columns]"
      ]
     },
     "execution_count": 11,
     "metadata": {},
     "output_type": "execute_result"
    }
   ],
   "source": [
    "combined_adata.var"
   ]
  },
  {
   "cell_type": "code",
   "execution_count": 12,
   "id": "sitting-journey",
   "metadata": {},
   "outputs": [
    {
     "data": {
      "text/plain": [
       "45267.0"
      ]
     },
     "execution_count": 12,
     "metadata": {},
     "output_type": "execute_result"
    }
   ],
   "source": [
    "combined_adata.X.max()"
   ]
  },
  {
   "cell_type": "code",
   "execution_count": 13,
   "id": "underlying-muscle",
   "metadata": {},
   "outputs": [
    {
     "data": {
      "text/plain": [
       "9.068303"
      ]
     },
     "execution_count": 13,
     "metadata": {},
     "output_type": "execute_result"
    }
   ],
   "source": [
    "annot_adata.X.max()"
   ]
  },
  {
   "cell_type": "code",
   "execution_count": 17,
   "id": "focal-groove",
   "metadata": {},
   "outputs": [
    {
     "data": {
      "text/html": [
       "<div>\n",
       "<style scoped>\n",
       "    .dataframe tbody tr th:only-of-type {\n",
       "        vertical-align: middle;\n",
       "    }\n",
       "\n",
       "    .dataframe tbody tr th {\n",
       "        vertical-align: top;\n",
       "    }\n",
       "\n",
       "    .dataframe thead th {\n",
       "        text-align: right;\n",
       "    }\n",
       "</style>\n",
       "<table border=\"1\" class=\"dataframe\">\n",
       "  <thead>\n",
       "    <tr style=\"text-align: right;\">\n",
       "      <th></th>\n",
       "      <th>name</th>\n",
       "    </tr>\n",
       "  </thead>\n",
       "  <tbody>\n",
       "    <tr>\n",
       "      <th>RP11-34P13.3</th>\n",
       "      <td>RP11-34P13.3</td>\n",
       "    </tr>\n",
       "    <tr>\n",
       "      <th>FAM138A</th>\n",
       "      <td>FAM138A</td>\n",
       "    </tr>\n",
       "    <tr>\n",
       "      <th>OR4F5</th>\n",
       "      <td>OR4F5</td>\n",
       "    </tr>\n",
       "    <tr>\n",
       "      <th>RP11-34P13.7</th>\n",
       "      <td>RP11-34P13.7</td>\n",
       "    </tr>\n",
       "    <tr>\n",
       "      <th>RP11-34P13.8</th>\n",
       "      <td>RP11-34P13.8</td>\n",
       "    </tr>\n",
       "    <tr>\n",
       "      <th>...</th>\n",
       "      <td>...</td>\n",
       "    </tr>\n",
       "    <tr>\n",
       "      <th>AC233755.2</th>\n",
       "      <td>AC233755.2</td>\n",
       "    </tr>\n",
       "    <tr>\n",
       "      <th>AC233755.1</th>\n",
       "      <td>AC233755.1</td>\n",
       "    </tr>\n",
       "    <tr>\n",
       "      <th>AC240274.1</th>\n",
       "      <td>AC240274.1</td>\n",
       "    </tr>\n",
       "    <tr>\n",
       "      <th>AC213203.1</th>\n",
       "      <td>AC213203.1</td>\n",
       "    </tr>\n",
       "    <tr>\n",
       "      <th>FAM231B</th>\n",
       "      <td>FAM231B</td>\n",
       "    </tr>\n",
       "  </tbody>\n",
       "</table>\n",
       "<p>33694 rows × 1 columns</p>\n",
       "</div>"
      ],
      "text/plain": [
       "                      name\n",
       "RP11-34P13.3  RP11-34P13.3\n",
       "FAM138A            FAM138A\n",
       "OR4F5                OR4F5\n",
       "RP11-34P13.7  RP11-34P13.7\n",
       "RP11-34P13.8  RP11-34P13.8\n",
       "...                    ...\n",
       "AC233755.2      AC233755.2\n",
       "AC233755.1      AC233755.1\n",
       "AC240274.1      AC240274.1\n",
       "AC213203.1      AC213203.1\n",
       "FAM231B            FAM231B\n",
       "\n",
       "[33694 rows x 1 columns]"
      ]
     },
     "execution_count": 17,
     "metadata": {},
     "output_type": "execute_result"
    }
   ],
   "source": [
    "annot_adata.var"
   ]
  },
  {
   "cell_type": "code",
   "execution_count": 18,
   "id": "czech-software",
   "metadata": {
    "collapsed": true,
    "jupyter": {
     "outputs_hidden": true
    },
    "tags": []
   },
   "outputs": [
    {
     "ename": "ValueError",
     "evalue": "cannot reindex from a duplicate axis",
     "output_type": "error",
     "traceback": [
      "\u001b[0;31m---------------------------------------------------------------------------\u001b[0m",
      "\u001b[0;31mValueError\u001b[0m                                Traceback (most recent call last)",
      "\u001b[0;32m<ipython-input-18-4c01937556e0>\u001b[0m in \u001b[0;36m<module>\u001b[0;34m\u001b[0m\n\u001b[0;32m----> 1\u001b[0;31m \u001b[0mannot_adata\u001b[0m\u001b[0;34m.\u001b[0m\u001b[0mvar\u001b[0m\u001b[0;34m[\u001b[0m\u001b[0;34m'ensemblID'\u001b[0m\u001b[0;34m]\u001b[0m \u001b[0;34m=\u001b[0m \u001b[0mvar\u001b[0m\u001b[0;34m\u001b[0m\u001b[0;34m\u001b[0m\u001b[0m\n\u001b[0m",
      "\u001b[0;32m~/my-conda-envs/standard/lib/python3.8/site-packages/pandas/core/frame.py\u001b[0m in \u001b[0;36m__setitem__\u001b[0;34m(self, key, value)\u001b[0m\n\u001b[1;32m   3161\u001b[0m         \u001b[0;32melse\u001b[0m\u001b[0;34m:\u001b[0m\u001b[0;34m\u001b[0m\u001b[0;34m\u001b[0m\u001b[0m\n\u001b[1;32m   3162\u001b[0m             \u001b[0;31m# set column\u001b[0m\u001b[0;34m\u001b[0m\u001b[0;34m\u001b[0m\u001b[0;34m\u001b[0m\u001b[0m\n\u001b[0;32m-> 3163\u001b[0;31m             \u001b[0mself\u001b[0m\u001b[0;34m.\u001b[0m\u001b[0m_set_item\u001b[0m\u001b[0;34m(\u001b[0m\u001b[0mkey\u001b[0m\u001b[0;34m,\u001b[0m \u001b[0mvalue\u001b[0m\u001b[0;34m)\u001b[0m\u001b[0;34m\u001b[0m\u001b[0;34m\u001b[0m\u001b[0m\n\u001b[0m\u001b[1;32m   3164\u001b[0m \u001b[0;34m\u001b[0m\u001b[0m\n\u001b[1;32m   3165\u001b[0m     \u001b[0;32mdef\u001b[0m \u001b[0m_setitem_slice\u001b[0m\u001b[0;34m(\u001b[0m\u001b[0mself\u001b[0m\u001b[0;34m,\u001b[0m \u001b[0mkey\u001b[0m\u001b[0;34m:\u001b[0m \u001b[0mslice\u001b[0m\u001b[0;34m,\u001b[0m \u001b[0mvalue\u001b[0m\u001b[0;34m)\u001b[0m\u001b[0;34m:\u001b[0m\u001b[0;34m\u001b[0m\u001b[0;34m\u001b[0m\u001b[0m\n",
      "\u001b[0;32m~/my-conda-envs/standard/lib/python3.8/site-packages/pandas/core/frame.py\u001b[0m in \u001b[0;36m_set_item\u001b[0;34m(self, key, value)\u001b[0m\n\u001b[1;32m   3240\u001b[0m         \"\"\"\n\u001b[1;32m   3241\u001b[0m         \u001b[0mself\u001b[0m\u001b[0;34m.\u001b[0m\u001b[0m_ensure_valid_index\u001b[0m\u001b[0;34m(\u001b[0m\u001b[0mvalue\u001b[0m\u001b[0;34m)\u001b[0m\u001b[0;34m\u001b[0m\u001b[0;34m\u001b[0m\u001b[0m\n\u001b[0;32m-> 3242\u001b[0;31m         \u001b[0mvalue\u001b[0m \u001b[0;34m=\u001b[0m \u001b[0mself\u001b[0m\u001b[0;34m.\u001b[0m\u001b[0m_sanitize_column\u001b[0m\u001b[0;34m(\u001b[0m\u001b[0mkey\u001b[0m\u001b[0;34m,\u001b[0m \u001b[0mvalue\u001b[0m\u001b[0;34m)\u001b[0m\u001b[0;34m\u001b[0m\u001b[0;34m\u001b[0m\u001b[0m\n\u001b[0m\u001b[1;32m   3243\u001b[0m         \u001b[0mNDFrame\u001b[0m\u001b[0;34m.\u001b[0m\u001b[0m_set_item\u001b[0m\u001b[0;34m(\u001b[0m\u001b[0mself\u001b[0m\u001b[0;34m,\u001b[0m \u001b[0mkey\u001b[0m\u001b[0;34m,\u001b[0m \u001b[0mvalue\u001b[0m\u001b[0;34m)\u001b[0m\u001b[0;34m\u001b[0m\u001b[0;34m\u001b[0m\u001b[0m\n\u001b[1;32m   3244\u001b[0m \u001b[0;34m\u001b[0m\u001b[0m\n",
      "\u001b[0;32m~/my-conda-envs/standard/lib/python3.8/site-packages/pandas/core/frame.py\u001b[0m in \u001b[0;36m_sanitize_column\u001b[0;34m(self, key, value, broadcast)\u001b[0m\n\u001b[1;32m   3886\u001b[0m                         \u001b[0mvalue\u001b[0m \u001b[0;34m=\u001b[0m \u001b[0mvalue\u001b[0m\u001b[0;34m.\u001b[0m\u001b[0mreindex\u001b[0m\u001b[0;34m(\u001b[0m\u001b[0mcols\u001b[0m\u001b[0;34m,\u001b[0m \u001b[0maxis\u001b[0m\u001b[0;34m=\u001b[0m\u001b[0;36m1\u001b[0m\u001b[0;34m)\u001b[0m\u001b[0;34m\u001b[0m\u001b[0;34m\u001b[0m\u001b[0m\n\u001b[1;32m   3887\u001b[0m             \u001b[0;31m# now align rows\u001b[0m\u001b[0;34m\u001b[0m\u001b[0;34m\u001b[0m\u001b[0;34m\u001b[0m\u001b[0m\n\u001b[0;32m-> 3888\u001b[0;31m             \u001b[0mvalue\u001b[0m \u001b[0;34m=\u001b[0m \u001b[0mreindexer\u001b[0m\u001b[0;34m(\u001b[0m\u001b[0mvalue\u001b[0m\u001b[0;34m)\u001b[0m\u001b[0;34m.\u001b[0m\u001b[0mT\u001b[0m\u001b[0;34m\u001b[0m\u001b[0;34m\u001b[0m\u001b[0m\n\u001b[0m\u001b[1;32m   3889\u001b[0m \u001b[0;34m\u001b[0m\u001b[0m\n\u001b[1;32m   3890\u001b[0m         \u001b[0;32melif\u001b[0m \u001b[0misinstance\u001b[0m\u001b[0;34m(\u001b[0m\u001b[0mvalue\u001b[0m\u001b[0;34m,\u001b[0m \u001b[0mExtensionArray\u001b[0m\u001b[0;34m)\u001b[0m\u001b[0;34m:\u001b[0m\u001b[0;34m\u001b[0m\u001b[0;34m\u001b[0m\u001b[0m\n",
      "\u001b[0;32m~/my-conda-envs/standard/lib/python3.8/site-packages/pandas/core/frame.py\u001b[0m in \u001b[0;36mreindexer\u001b[0;34m(value)\u001b[0m\n\u001b[1;32m   3865\u001b[0m                     \u001b[0;32mif\u001b[0m \u001b[0;32mnot\u001b[0m \u001b[0mvalue\u001b[0m\u001b[0;34m.\u001b[0m\u001b[0mindex\u001b[0m\u001b[0;34m.\u001b[0m\u001b[0mis_unique\u001b[0m\u001b[0;34m:\u001b[0m\u001b[0;34m\u001b[0m\u001b[0;34m\u001b[0m\u001b[0m\n\u001b[1;32m   3866\u001b[0m                         \u001b[0;31m# duplicate axis\u001b[0m\u001b[0;34m\u001b[0m\u001b[0;34m\u001b[0m\u001b[0;34m\u001b[0m\u001b[0m\n\u001b[0;32m-> 3867\u001b[0;31m                         \u001b[0;32mraise\u001b[0m \u001b[0merr\u001b[0m\u001b[0;34m\u001b[0m\u001b[0;34m\u001b[0m\u001b[0m\n\u001b[0m\u001b[1;32m   3868\u001b[0m \u001b[0;34m\u001b[0m\u001b[0m\n\u001b[1;32m   3869\u001b[0m                     \u001b[0;31m# other\u001b[0m\u001b[0;34m\u001b[0m\u001b[0;34m\u001b[0m\u001b[0;34m\u001b[0m\u001b[0m\n",
      "\u001b[0;32m~/my-conda-envs/standard/lib/python3.8/site-packages/pandas/core/frame.py\u001b[0m in \u001b[0;36mreindexer\u001b[0;34m(value)\u001b[0m\n\u001b[1;32m   3860\u001b[0m                 \u001b[0;31m# GH 4107\u001b[0m\u001b[0;34m\u001b[0m\u001b[0;34m\u001b[0m\u001b[0;34m\u001b[0m\u001b[0m\n\u001b[1;32m   3861\u001b[0m                 \u001b[0;32mtry\u001b[0m\u001b[0;34m:\u001b[0m\u001b[0;34m\u001b[0m\u001b[0;34m\u001b[0m\u001b[0m\n\u001b[0;32m-> 3862\u001b[0;31m                     \u001b[0mvalue\u001b[0m \u001b[0;34m=\u001b[0m \u001b[0mvalue\u001b[0m\u001b[0;34m.\u001b[0m\u001b[0mreindex\u001b[0m\u001b[0;34m(\u001b[0m\u001b[0mself\u001b[0m\u001b[0;34m.\u001b[0m\u001b[0mindex\u001b[0m\u001b[0;34m)\u001b[0m\u001b[0;34m.\u001b[0m\u001b[0m_values\u001b[0m\u001b[0;34m\u001b[0m\u001b[0;34m\u001b[0m\u001b[0m\n\u001b[0m\u001b[1;32m   3863\u001b[0m                 \u001b[0;32mexcept\u001b[0m \u001b[0mValueError\u001b[0m \u001b[0;32mas\u001b[0m \u001b[0merr\u001b[0m\u001b[0;34m:\u001b[0m\u001b[0;34m\u001b[0m\u001b[0;34m\u001b[0m\u001b[0m\n\u001b[1;32m   3864\u001b[0m                     \u001b[0;31m# raised in MultiIndex.from_tuples, see test_insert_error_msmgs\u001b[0m\u001b[0;34m\u001b[0m\u001b[0;34m\u001b[0m\u001b[0;34m\u001b[0m\u001b[0m\n",
      "\u001b[0;32m~/my-conda-envs/standard/lib/python3.8/site-packages/pandas/util/_decorators.py\u001b[0m in \u001b[0;36mwrapper\u001b[0;34m(*args, **kwargs)\u001b[0m\n\u001b[1;32m    310\u001b[0m         \u001b[0;34m@\u001b[0m\u001b[0mwraps\u001b[0m\u001b[0;34m(\u001b[0m\u001b[0mfunc\u001b[0m\u001b[0;34m)\u001b[0m\u001b[0;34m\u001b[0m\u001b[0;34m\u001b[0m\u001b[0m\n\u001b[1;32m    311\u001b[0m         \u001b[0;32mdef\u001b[0m \u001b[0mwrapper\u001b[0m\u001b[0;34m(\u001b[0m\u001b[0;34m*\u001b[0m\u001b[0margs\u001b[0m\u001b[0;34m,\u001b[0m \u001b[0;34m**\u001b[0m\u001b[0mkwargs\u001b[0m\u001b[0;34m)\u001b[0m \u001b[0;34m->\u001b[0m \u001b[0mCallable\u001b[0m\u001b[0;34m[\u001b[0m\u001b[0;34m...\u001b[0m\u001b[0;34m,\u001b[0m \u001b[0mAny\u001b[0m\u001b[0;34m]\u001b[0m\u001b[0;34m:\u001b[0m\u001b[0;34m\u001b[0m\u001b[0;34m\u001b[0m\u001b[0m\n\u001b[0;32m--> 312\u001b[0;31m             \u001b[0;32mreturn\u001b[0m \u001b[0mfunc\u001b[0m\u001b[0;34m(\u001b[0m\u001b[0;34m*\u001b[0m\u001b[0margs\u001b[0m\u001b[0;34m,\u001b[0m \u001b[0;34m**\u001b[0m\u001b[0mkwargs\u001b[0m\u001b[0;34m)\u001b[0m\u001b[0;34m\u001b[0m\u001b[0;34m\u001b[0m\u001b[0m\n\u001b[0m\u001b[1;32m    313\u001b[0m \u001b[0;34m\u001b[0m\u001b[0m\n\u001b[1;32m    314\u001b[0m         \u001b[0mkind\u001b[0m \u001b[0;34m=\u001b[0m \u001b[0minspect\u001b[0m\u001b[0;34m.\u001b[0m\u001b[0mParameter\u001b[0m\u001b[0;34m.\u001b[0m\u001b[0mPOSITIONAL_OR_KEYWORD\u001b[0m\u001b[0;34m\u001b[0m\u001b[0;34m\u001b[0m\u001b[0m\n",
      "\u001b[0;32m~/my-conda-envs/standard/lib/python3.8/site-packages/pandas/core/frame.py\u001b[0m in \u001b[0;36mreindex\u001b[0;34m(self, *args, **kwargs)\u001b[0m\n\u001b[1;32m   4174\u001b[0m         \u001b[0mkwargs\u001b[0m\u001b[0;34m.\u001b[0m\u001b[0mpop\u001b[0m\u001b[0;34m(\u001b[0m\u001b[0;34m\"axis\"\u001b[0m\u001b[0;34m,\u001b[0m \u001b[0;32mNone\u001b[0m\u001b[0;34m)\u001b[0m\u001b[0;34m\u001b[0m\u001b[0;34m\u001b[0m\u001b[0m\n\u001b[1;32m   4175\u001b[0m         \u001b[0mkwargs\u001b[0m\u001b[0;34m.\u001b[0m\u001b[0mpop\u001b[0m\u001b[0;34m(\u001b[0m\u001b[0;34m\"labels\"\u001b[0m\u001b[0;34m,\u001b[0m \u001b[0;32mNone\u001b[0m\u001b[0;34m)\u001b[0m\u001b[0;34m\u001b[0m\u001b[0;34m\u001b[0m\u001b[0m\n\u001b[0;32m-> 4176\u001b[0;31m         \u001b[0;32mreturn\u001b[0m \u001b[0msuper\u001b[0m\u001b[0;34m(\u001b[0m\u001b[0;34m)\u001b[0m\u001b[0;34m.\u001b[0m\u001b[0mreindex\u001b[0m\u001b[0;34m(\u001b[0m\u001b[0;34m**\u001b[0m\u001b[0mkwargs\u001b[0m\u001b[0;34m)\u001b[0m\u001b[0;34m\u001b[0m\u001b[0;34m\u001b[0m\u001b[0m\n\u001b[0m\u001b[1;32m   4177\u001b[0m \u001b[0;34m\u001b[0m\u001b[0m\n\u001b[1;32m   4178\u001b[0m     def drop(\n",
      "\u001b[0;32m~/my-conda-envs/standard/lib/python3.8/site-packages/pandas/core/generic.py\u001b[0m in \u001b[0;36mreindex\u001b[0;34m(self, *args, **kwargs)\u001b[0m\n\u001b[1;32m   4809\u001b[0m \u001b[0;34m\u001b[0m\u001b[0m\n\u001b[1;32m   4810\u001b[0m         \u001b[0;31m# perform the reindex on the axes\u001b[0m\u001b[0;34m\u001b[0m\u001b[0;34m\u001b[0m\u001b[0;34m\u001b[0m\u001b[0m\n\u001b[0;32m-> 4811\u001b[0;31m         return self._reindex_axes(\n\u001b[0m\u001b[1;32m   4812\u001b[0m             \u001b[0maxes\u001b[0m\u001b[0;34m,\u001b[0m \u001b[0mlevel\u001b[0m\u001b[0;34m,\u001b[0m \u001b[0mlimit\u001b[0m\u001b[0;34m,\u001b[0m \u001b[0mtolerance\u001b[0m\u001b[0;34m,\u001b[0m \u001b[0mmethod\u001b[0m\u001b[0;34m,\u001b[0m \u001b[0mfill_value\u001b[0m\u001b[0;34m,\u001b[0m \u001b[0mcopy\u001b[0m\u001b[0;34m\u001b[0m\u001b[0;34m\u001b[0m\u001b[0m\n\u001b[1;32m   4813\u001b[0m         ).__finalize__(self, method=\"reindex\")\n",
      "\u001b[0;32m~/my-conda-envs/standard/lib/python3.8/site-packages/pandas/core/frame.py\u001b[0m in \u001b[0;36m_reindex_axes\u001b[0;34m(self, axes, level, limit, tolerance, method, fill_value, copy)\u001b[0m\n\u001b[1;32m   4020\u001b[0m         \u001b[0mindex\u001b[0m \u001b[0;34m=\u001b[0m \u001b[0maxes\u001b[0m\u001b[0;34m[\u001b[0m\u001b[0;34m\"index\"\u001b[0m\u001b[0;34m]\u001b[0m\u001b[0;34m\u001b[0m\u001b[0;34m\u001b[0m\u001b[0m\n\u001b[1;32m   4021\u001b[0m         \u001b[0;32mif\u001b[0m \u001b[0mindex\u001b[0m \u001b[0;32mis\u001b[0m \u001b[0;32mnot\u001b[0m \u001b[0;32mNone\u001b[0m\u001b[0;34m:\u001b[0m\u001b[0;34m\u001b[0m\u001b[0;34m\u001b[0m\u001b[0m\n\u001b[0;32m-> 4022\u001b[0;31m             frame = frame._reindex_index(\n\u001b[0m\u001b[1;32m   4023\u001b[0m                 \u001b[0mindex\u001b[0m\u001b[0;34m,\u001b[0m \u001b[0mmethod\u001b[0m\u001b[0;34m,\u001b[0m \u001b[0mcopy\u001b[0m\u001b[0;34m,\u001b[0m \u001b[0mlevel\u001b[0m\u001b[0;34m,\u001b[0m \u001b[0mfill_value\u001b[0m\u001b[0;34m,\u001b[0m \u001b[0mlimit\u001b[0m\u001b[0;34m,\u001b[0m \u001b[0mtolerance\u001b[0m\u001b[0;34m\u001b[0m\u001b[0;34m\u001b[0m\u001b[0m\n\u001b[1;32m   4024\u001b[0m             )\n",
      "\u001b[0;32m~/my-conda-envs/standard/lib/python3.8/site-packages/pandas/core/frame.py\u001b[0m in \u001b[0;36m_reindex_index\u001b[0;34m(self, new_index, method, copy, level, fill_value, limit, tolerance)\u001b[0m\n\u001b[1;32m   4039\u001b[0m             \u001b[0mnew_index\u001b[0m\u001b[0;34m,\u001b[0m \u001b[0mmethod\u001b[0m\u001b[0;34m=\u001b[0m\u001b[0mmethod\u001b[0m\u001b[0;34m,\u001b[0m \u001b[0mlevel\u001b[0m\u001b[0;34m=\u001b[0m\u001b[0mlevel\u001b[0m\u001b[0;34m,\u001b[0m \u001b[0mlimit\u001b[0m\u001b[0;34m=\u001b[0m\u001b[0mlimit\u001b[0m\u001b[0;34m,\u001b[0m \u001b[0mtolerance\u001b[0m\u001b[0;34m=\u001b[0m\u001b[0mtolerance\u001b[0m\u001b[0;34m\u001b[0m\u001b[0;34m\u001b[0m\u001b[0m\n\u001b[1;32m   4040\u001b[0m         )\n\u001b[0;32m-> 4041\u001b[0;31m         return self._reindex_with_indexers(\n\u001b[0m\u001b[1;32m   4042\u001b[0m             \u001b[0;34m{\u001b[0m\u001b[0;36m0\u001b[0m\u001b[0;34m:\u001b[0m \u001b[0;34m[\u001b[0m\u001b[0mnew_index\u001b[0m\u001b[0;34m,\u001b[0m \u001b[0mindexer\u001b[0m\u001b[0;34m]\u001b[0m\u001b[0;34m}\u001b[0m\u001b[0;34m,\u001b[0m\u001b[0;34m\u001b[0m\u001b[0;34m\u001b[0m\u001b[0m\n\u001b[1;32m   4043\u001b[0m             \u001b[0mcopy\u001b[0m\u001b[0;34m=\u001b[0m\u001b[0mcopy\u001b[0m\u001b[0;34m,\u001b[0m\u001b[0;34m\u001b[0m\u001b[0;34m\u001b[0m\u001b[0m\n",
      "\u001b[0;32m~/my-conda-envs/standard/lib/python3.8/site-packages/pandas/core/generic.py\u001b[0m in \u001b[0;36m_reindex_with_indexers\u001b[0;34m(self, reindexers, fill_value, copy, allow_dups)\u001b[0m\n\u001b[1;32m   4875\u001b[0m \u001b[0;34m\u001b[0m\u001b[0m\n\u001b[1;32m   4876\u001b[0m             \u001b[0;31m# TODO: speed up on homogeneous DataFrame objects\u001b[0m\u001b[0;34m\u001b[0m\u001b[0;34m\u001b[0m\u001b[0;34m\u001b[0m\u001b[0m\n\u001b[0;32m-> 4877\u001b[0;31m             new_data = new_data.reindex_indexer(\n\u001b[0m\u001b[1;32m   4878\u001b[0m                 \u001b[0mindex\u001b[0m\u001b[0;34m,\u001b[0m\u001b[0;34m\u001b[0m\u001b[0;34m\u001b[0m\u001b[0m\n\u001b[1;32m   4879\u001b[0m                 \u001b[0mindexer\u001b[0m\u001b[0;34m,\u001b[0m\u001b[0;34m\u001b[0m\u001b[0;34m\u001b[0m\u001b[0m\n",
      "\u001b[0;32m~/my-conda-envs/standard/lib/python3.8/site-packages/pandas/core/internals/managers.py\u001b[0m in \u001b[0;36mreindex_indexer\u001b[0;34m(self, new_axis, indexer, axis, fill_value, allow_dups, copy, consolidate, only_slice)\u001b[0m\n\u001b[1;32m   1299\u001b[0m         \u001b[0;31m# some axes don't allow reindexing with dups\u001b[0m\u001b[0;34m\u001b[0m\u001b[0;34m\u001b[0m\u001b[0;34m\u001b[0m\u001b[0m\n\u001b[1;32m   1300\u001b[0m         \u001b[0;32mif\u001b[0m \u001b[0;32mnot\u001b[0m \u001b[0mallow_dups\u001b[0m\u001b[0;34m:\u001b[0m\u001b[0;34m\u001b[0m\u001b[0;34m\u001b[0m\u001b[0m\n\u001b[0;32m-> 1301\u001b[0;31m             \u001b[0mself\u001b[0m\u001b[0;34m.\u001b[0m\u001b[0maxes\u001b[0m\u001b[0;34m[\u001b[0m\u001b[0maxis\u001b[0m\u001b[0;34m]\u001b[0m\u001b[0;34m.\u001b[0m\u001b[0m_can_reindex\u001b[0m\u001b[0;34m(\u001b[0m\u001b[0mindexer\u001b[0m\u001b[0;34m)\u001b[0m\u001b[0;34m\u001b[0m\u001b[0;34m\u001b[0m\u001b[0m\n\u001b[0m\u001b[1;32m   1302\u001b[0m \u001b[0;34m\u001b[0m\u001b[0m\n\u001b[1;32m   1303\u001b[0m         \u001b[0;32mif\u001b[0m \u001b[0maxis\u001b[0m \u001b[0;34m>=\u001b[0m \u001b[0mself\u001b[0m\u001b[0;34m.\u001b[0m\u001b[0mndim\u001b[0m\u001b[0;34m:\u001b[0m\u001b[0;34m\u001b[0m\u001b[0;34m\u001b[0m\u001b[0m\n",
      "\u001b[0;32m~/my-conda-envs/standard/lib/python3.8/site-packages/pandas/core/indexes/base.py\u001b[0m in \u001b[0;36m_can_reindex\u001b[0;34m(self, indexer)\u001b[0m\n\u001b[1;32m   3474\u001b[0m         \u001b[0;31m# trying to reindex on an axis with duplicates\u001b[0m\u001b[0;34m\u001b[0m\u001b[0;34m\u001b[0m\u001b[0;34m\u001b[0m\u001b[0m\n\u001b[1;32m   3475\u001b[0m         \u001b[0;32mif\u001b[0m \u001b[0;32mnot\u001b[0m \u001b[0mself\u001b[0m\u001b[0;34m.\u001b[0m\u001b[0m_index_as_unique\u001b[0m \u001b[0;32mand\u001b[0m \u001b[0mlen\u001b[0m\u001b[0;34m(\u001b[0m\u001b[0mindexer\u001b[0m\u001b[0;34m)\u001b[0m\u001b[0;34m:\u001b[0m\u001b[0;34m\u001b[0m\u001b[0;34m\u001b[0m\u001b[0m\n\u001b[0;32m-> 3476\u001b[0;31m             \u001b[0;32mraise\u001b[0m \u001b[0mValueError\u001b[0m\u001b[0;34m(\u001b[0m\u001b[0;34m\"cannot reindex from a duplicate axis\"\u001b[0m\u001b[0;34m)\u001b[0m\u001b[0;34m\u001b[0m\u001b[0;34m\u001b[0m\u001b[0m\n\u001b[0m\u001b[1;32m   3477\u001b[0m \u001b[0;34m\u001b[0m\u001b[0m\n\u001b[1;32m   3478\u001b[0m     \u001b[0;32mdef\u001b[0m \u001b[0mreindex\u001b[0m\u001b[0;34m(\u001b[0m\u001b[0mself\u001b[0m\u001b[0;34m,\u001b[0m \u001b[0mtarget\u001b[0m\u001b[0;34m,\u001b[0m \u001b[0mmethod\u001b[0m\u001b[0;34m=\u001b[0m\u001b[0;32mNone\u001b[0m\u001b[0;34m,\u001b[0m \u001b[0mlevel\u001b[0m\u001b[0;34m=\u001b[0m\u001b[0;32mNone\u001b[0m\u001b[0;34m,\u001b[0m \u001b[0mlimit\u001b[0m\u001b[0;34m=\u001b[0m\u001b[0;32mNone\u001b[0m\u001b[0;34m,\u001b[0m \u001b[0mtolerance\u001b[0m\u001b[0;34m=\u001b[0m\u001b[0;32mNone\u001b[0m\u001b[0;34m)\u001b[0m\u001b[0;34m:\u001b[0m\u001b[0;34m\u001b[0m\u001b[0;34m\u001b[0m\u001b[0m\n",
      "\u001b[0;31mValueError\u001b[0m: cannot reindex from a duplicate axis"
     ]
    }
   ],
   "source": [
    "annot_adata.var['ensemblID']"
   ]
  },
  {
   "cell_type": "code",
   "execution_count": null,
   "id": "verified-duration",
   "metadata": {},
   "outputs": [],
   "source": []
  },
  {
   "cell_type": "code",
   "execution_count": 19,
   "id": "compressed-arkansas",
   "metadata": {},
   "outputs": [],
   "source": [
    "file_path = \"/nfs/team205/ao15/Megagut/Williams_data/data/GSM5005058_PD134_features.tsv\"\n",
    "\n",
    "with gzip.open(file_path, 'rb') as file:\n",
    "    content = file.read()\n",
    "\n",
    "var = pd.read_csv(io.StringIO(content.decode('utf-8')), index_col=0, delimiter='\\t',header=None)"
   ]
  },
  {
   "cell_type": "code",
   "execution_count": 20,
   "id": "informational-accounting",
   "metadata": {},
   "outputs": [
    {
     "data": {
      "text/html": [
       "<div>\n",
       "<style scoped>\n",
       "    .dataframe tbody tr th:only-of-type {\n",
       "        vertical-align: middle;\n",
       "    }\n",
       "\n",
       "    .dataframe tbody tr th {\n",
       "        vertical-align: top;\n",
       "    }\n",
       "\n",
       "    .dataframe thead th {\n",
       "        text-align: right;\n",
       "    }\n",
       "</style>\n",
       "<table border=\"1\" class=\"dataframe\">\n",
       "  <thead>\n",
       "    <tr style=\"text-align: right;\">\n",
       "      <th></th>\n",
       "      <th>1</th>\n",
       "    </tr>\n",
       "    <tr>\n",
       "      <th>0</th>\n",
       "      <th></th>\n",
       "    </tr>\n",
       "  </thead>\n",
       "  <tbody>\n",
       "    <tr>\n",
       "      <th>ENSG00000243485</th>\n",
       "      <td>RP11-34P13.3</td>\n",
       "    </tr>\n",
       "    <tr>\n",
       "      <th>ENSG00000237613</th>\n",
       "      <td>FAM138A</td>\n",
       "    </tr>\n",
       "    <tr>\n",
       "      <th>ENSG00000186092</th>\n",
       "      <td>OR4F5</td>\n",
       "    </tr>\n",
       "    <tr>\n",
       "      <th>ENSG00000238009</th>\n",
       "      <td>RP11-34P13.7</td>\n",
       "    </tr>\n",
       "    <tr>\n",
       "      <th>ENSG00000239945</th>\n",
       "      <td>RP11-34P13.8</td>\n",
       "    </tr>\n",
       "    <tr>\n",
       "      <th>...</th>\n",
       "      <td>...</td>\n",
       "    </tr>\n",
       "    <tr>\n",
       "      <th>ENSG00000277856</th>\n",
       "      <td>AC233755.2</td>\n",
       "    </tr>\n",
       "    <tr>\n",
       "      <th>ENSG00000275063</th>\n",
       "      <td>AC233755.1</td>\n",
       "    </tr>\n",
       "    <tr>\n",
       "      <th>ENSG00000271254</th>\n",
       "      <td>AC240274.1</td>\n",
       "    </tr>\n",
       "    <tr>\n",
       "      <th>ENSG00000277475</th>\n",
       "      <td>AC213203.1</td>\n",
       "    </tr>\n",
       "    <tr>\n",
       "      <th>ENSG00000268674</th>\n",
       "      <td>FAM231B</td>\n",
       "    </tr>\n",
       "  </tbody>\n",
       "</table>\n",
       "<p>33694 rows × 1 columns</p>\n",
       "</div>"
      ],
      "text/plain": [
       "                            1\n",
       "0                            \n",
       "ENSG00000243485  RP11-34P13.3\n",
       "ENSG00000237613       FAM138A\n",
       "ENSG00000186092         OR4F5\n",
       "ENSG00000238009  RP11-34P13.7\n",
       "ENSG00000239945  RP11-34P13.8\n",
       "...                       ...\n",
       "ENSG00000277856    AC233755.2\n",
       "ENSG00000275063    AC233755.1\n",
       "ENSG00000271254    AC240274.1\n",
       "ENSG00000277475    AC213203.1\n",
       "ENSG00000268674       FAM231B\n",
       "\n",
       "[33694 rows x 1 columns]"
      ]
     },
     "execution_count": 20,
     "metadata": {},
     "output_type": "execute_result"
    }
   ],
   "source": [
    "var"
   ]
  },
  {
   "cell_type": "code",
   "execution_count": 22,
   "id": "thick-brand",
   "metadata": {},
   "outputs": [],
   "source": [
    "combined_adata.var['names'] = var"
   ]
  },
  {
   "cell_type": "code",
   "execution_count": 23,
   "id": "jewish-collective",
   "metadata": {},
   "outputs": [
    {
     "data": {
      "text/html": [
       "<div>\n",
       "<style scoped>\n",
       "    .dataframe tbody tr th:only-of-type {\n",
       "        vertical-align: middle;\n",
       "    }\n",
       "\n",
       "    .dataframe tbody tr th {\n",
       "        vertical-align: top;\n",
       "    }\n",
       "\n",
       "    .dataframe thead th {\n",
       "        text-align: right;\n",
       "    }\n",
       "</style>\n",
       "<table border=\"1\" class=\"dataframe\">\n",
       "  <thead>\n",
       "    <tr style=\"text-align: right;\">\n",
       "      <th></th>\n",
       "      <th>names</th>\n",
       "    </tr>\n",
       "    <tr>\n",
       "      <th>0</th>\n",
       "      <th></th>\n",
       "    </tr>\n",
       "  </thead>\n",
       "  <tbody>\n",
       "    <tr>\n",
       "      <th>ENSG00000243485</th>\n",
       "      <td>RP11-34P13.3</td>\n",
       "    </tr>\n",
       "    <tr>\n",
       "      <th>ENSG00000237613</th>\n",
       "      <td>FAM138A</td>\n",
       "    </tr>\n",
       "    <tr>\n",
       "      <th>ENSG00000186092</th>\n",
       "      <td>OR4F5</td>\n",
       "    </tr>\n",
       "    <tr>\n",
       "      <th>ENSG00000238009</th>\n",
       "      <td>RP11-34P13.7</td>\n",
       "    </tr>\n",
       "    <tr>\n",
       "      <th>ENSG00000239945</th>\n",
       "      <td>RP11-34P13.8</td>\n",
       "    </tr>\n",
       "    <tr>\n",
       "      <th>...</th>\n",
       "      <td>...</td>\n",
       "    </tr>\n",
       "    <tr>\n",
       "      <th>ENSG00000277856</th>\n",
       "      <td>AC233755.2</td>\n",
       "    </tr>\n",
       "    <tr>\n",
       "      <th>ENSG00000275063</th>\n",
       "      <td>AC233755.1</td>\n",
       "    </tr>\n",
       "    <tr>\n",
       "      <th>ENSG00000271254</th>\n",
       "      <td>AC240274.1</td>\n",
       "    </tr>\n",
       "    <tr>\n",
       "      <th>ENSG00000277475</th>\n",
       "      <td>AC213203.1</td>\n",
       "    </tr>\n",
       "    <tr>\n",
       "      <th>ENSG00000268674</th>\n",
       "      <td>FAM231B</td>\n",
       "    </tr>\n",
       "  </tbody>\n",
       "</table>\n",
       "<p>33694 rows × 1 columns</p>\n",
       "</div>"
      ],
      "text/plain": [
       "                        names\n",
       "0                            \n",
       "ENSG00000243485  RP11-34P13.3\n",
       "ENSG00000237613       FAM138A\n",
       "ENSG00000186092         OR4F5\n",
       "ENSG00000238009  RP11-34P13.7\n",
       "ENSG00000239945  RP11-34P13.8\n",
       "...                       ...\n",
       "ENSG00000277856    AC233755.2\n",
       "ENSG00000275063    AC233755.1\n",
       "ENSG00000271254    AC240274.1\n",
       "ENSG00000277475    AC213203.1\n",
       "ENSG00000268674       FAM231B\n",
       "\n",
       "[33694 rows x 1 columns]"
      ]
     },
     "execution_count": 23,
     "metadata": {},
     "output_type": "execute_result"
    }
   ],
   "source": [
    "combined_adata.var"
   ]
  },
  {
   "cell_type": "code",
   "execution_count": 24,
   "id": "deluxe-stranger",
   "metadata": {},
   "outputs": [],
   "source": [
    "combined_adata.var = combined_adata.var.set_index('names')"
   ]
  },
  {
   "cell_type": "code",
   "execution_count": 25,
   "id": "primary-volleyball",
   "metadata": {},
   "outputs": [
    {
     "data": {
      "text/html": [
       "<div>\n",
       "<style scoped>\n",
       "    .dataframe tbody tr th:only-of-type {\n",
       "        vertical-align: middle;\n",
       "    }\n",
       "\n",
       "    .dataframe tbody tr th {\n",
       "        vertical-align: top;\n",
       "    }\n",
       "\n",
       "    .dataframe thead th {\n",
       "        text-align: right;\n",
       "    }\n",
       "</style>\n",
       "<table border=\"1\" class=\"dataframe\">\n",
       "  <thead>\n",
       "    <tr style=\"text-align: right;\">\n",
       "      <th></th>\n",
       "    </tr>\n",
       "    <tr>\n",
       "      <th>names</th>\n",
       "    </tr>\n",
       "  </thead>\n",
       "  <tbody>\n",
       "    <tr>\n",
       "      <th>RP11-34P13.3</th>\n",
       "    </tr>\n",
       "    <tr>\n",
       "      <th>FAM138A</th>\n",
       "    </tr>\n",
       "    <tr>\n",
       "      <th>OR4F5</th>\n",
       "    </tr>\n",
       "    <tr>\n",
       "      <th>RP11-34P13.7</th>\n",
       "    </tr>\n",
       "    <tr>\n",
       "      <th>RP11-34P13.8</th>\n",
       "    </tr>\n",
       "    <tr>\n",
       "      <th>...</th>\n",
       "    </tr>\n",
       "    <tr>\n",
       "      <th>AC233755.2</th>\n",
       "    </tr>\n",
       "    <tr>\n",
       "      <th>AC233755.1</th>\n",
       "    </tr>\n",
       "    <tr>\n",
       "      <th>AC240274.1</th>\n",
       "    </tr>\n",
       "    <tr>\n",
       "      <th>AC213203.1</th>\n",
       "    </tr>\n",
       "    <tr>\n",
       "      <th>FAM231B</th>\n",
       "    </tr>\n",
       "  </tbody>\n",
       "</table>\n",
       "<p>33694 rows × 0 columns</p>\n",
       "</div>"
      ],
      "text/plain": [
       "Empty DataFrame\n",
       "Columns: []\n",
       "Index: [RP11-34P13.3, FAM138A, OR4F5, RP11-34P13.7, RP11-34P13.8, RP11-34P13.14, RP11-34P13.9, FO538757.3, FO538757.2, AP006222.2, RP5-857K21.15, RP4-669L17.2, RP4-669L17.10, OR4F29, RP5-857K21.4, RP5-857K21.2, OR4F16, RP11-206L10.4, RP11-206L10.9, FAM87B, LINC00115, FAM41C, RP11-54O7.16, RP11-54O7.1, RP11-54O7.2, RP11-54O7.3, SAMD11, NOC2L, KLHL17, PLEKHN1, PERM1, RP11-54O7.17, HES4, ISG15, RP11-54O7.11, AGRN, RP11-54O7.18, RNF223, C1orf159, LINC01342, RP11-465B22.8, TTLL10-AS1, TTLL10, TNFRSF18, TNFRSF4, SDF4, B3GALT6, FAM132A, RP5-902P8.12, UBE2J2, RP5-902P8.10, SCNN1D, ACAP3, PUSL1, CPSF3L, CPTP, TAS1R3, DVL1, MXRA8, AURKAIP1, CCNL2, MRPL20, RP4-758J18.13, ANKRD65, RP4-758J18.7, TMEM88B, RP4-758J18.10, VWA1, ATAD3C, ATAD3B, ATAD3A, TMEM240, SSU72, RP5-832C2.5, AL645728.1, C1orf233, RP11-345P4.9, MIB2, MMP23B, CDK11B, RP11-345P4.10, SLC35E2B, RP11-345P4.7, CDK11A, SLC35E2, NADK, GNB1, RP1-140A9.1, CALML6, TMEM52, CFAP74, RP11-547D24.1, GABRD, RP11-547D24.3, PRKCZ, RP5-892K4.1, RP11-181G12.2, FAAP20, RP11-181G12.4, SKI, ...]\n",
       "\n",
       "[33694 rows x 0 columns]"
      ]
     },
     "execution_count": 25,
     "metadata": {},
     "output_type": "execute_result"
    }
   ],
   "source": [
    "combined_adata.var"
   ]
  },
  {
   "cell_type": "code",
   "execution_count": 26,
   "id": "reliable-league",
   "metadata": {},
   "outputs": [
    {
     "data": {
      "text/plain": [
       "<87240x33694 sparse matrix of type '<class 'numpy.float32'>'\n",
       "\twith 107853002 stored elements in Compressed Sparse Column format>"
      ]
     },
     "execution_count": 26,
     "metadata": {},
     "output_type": "execute_result"
    }
   ],
   "source": [
    "annot_adata.X"
   ]
  },
  {
   "cell_type": "code",
   "execution_count": 27,
   "id": "tribal-locator",
   "metadata": {},
   "outputs": [
    {
     "data": {
      "text/plain": [
       "<45712x33694 sparse matrix of type '<class 'numpy.float32'>'\n",
       "\twith 51414147 stored elements in Compressed Sparse Row format>"
      ]
     },
     "execution_count": 27,
     "metadata": {},
     "output_type": "execute_result"
    }
   ],
   "source": [
    "combined_adata.X"
   ]
  },
  {
   "cell_type": "code",
   "execution_count": 28,
   "id": "spectacular-herald",
   "metadata": {},
   "outputs": [
    {
     "data": {
      "text/plain": [
       "AnnData object with n_obs × n_vars = 87240 × 33694\n",
       "    obs: 'orig.ident', 'nCount_RNA', 'nFeature_RNA', 'project', 'percent.mt', 'S.Score', 'G2M.Score', 'paperLabels'\n",
       "    var: 'name'\n",
       "    obsm: 'X_pca', 'X_umap'"
      ]
     },
     "execution_count": 28,
     "metadata": {},
     "output_type": "execute_result"
    }
   ],
   "source": [
    "annot_adata"
   ]
  },
  {
   "cell_type": "code",
   "execution_count": 37,
   "id": "mediterranean-childhood",
   "metadata": {},
   "outputs": [
    {
     "data": {
      "text/plain": [
       "AnnData object with n_obs × n_vars = 45712 × 33694\n",
       "    obs: 'donorID_original', 'annot_original', 'disease'"
      ]
     },
     "execution_count": 37,
     "metadata": {},
     "output_type": "execute_result"
    }
   ],
   "source": [
    "combined_adata"
   ]
  },
  {
   "cell_type": "code",
   "execution_count": 41,
   "id": "earlier-prescription",
   "metadata": {},
   "outputs": [],
   "source": [
    "combined_adata.obs.index.name = None"
   ]
  },
  {
   "cell_type": "code",
   "execution_count": 42,
   "id": "strategic-latest",
   "metadata": {},
   "outputs": [
    {
     "data": {
      "text/plain": [
       "PD134_AAACCTGAGAATCTCC-1     Monocyte\n",
       "PD134_AAACCTGAGGGAAACA-1    abT (CD4)\n",
       "PD134_AAACCTGCAAAGTCAA-1          NaN\n",
       "PD134_AAACCTGCAGCTGCAC-1          NaN\n",
       "PD134_AAACCTGTCCCTCAGT-1          NaN\n",
       "                              ...    \n",
       "PD170_TTTGTTGAGTCGGCAA-1    P.VEC 1.4\n",
       "PD170_TTTGTTGAGTTAACAG-1    P.Fib 1.1\n",
       "PD170_TTTGTTGCAGGCACTC-1    abT (CD4)\n",
       "PD170_TTTGTTGGTTGCATCA-1    abT (CD4)\n",
       "PD170_TTTGTTGTCGCTTACC-1     Monocyte\n",
       "Name: annot_original, Length: 45712, dtype: category\n",
       "Categories (29, object): ['B', 'MAIT', 'Mast', 'Monocyte', ..., 'abT (CD8)', 'gd T', 'mDC', 'pDC']"
      ]
     },
     "execution_count": 42,
     "metadata": {},
     "output_type": "execute_result"
    }
   ],
   "source": [
    "combined_adata.obs.annot_original"
   ]
  },
  {
   "cell_type": "code",
   "execution_count": 43,
   "id": "proper-coaching",
   "metadata": {},
   "outputs": [],
   "source": [
    "combined_adata.write_h5ad('/nfs/team205/ao15/Megagut/Williams_data/Williams2021_PD_data_GSE164241_rawcounts.h5ad')"
   ]
  },
  {
   "cell_type": "code",
   "execution_count": 44,
   "id": "coastal-headline",
   "metadata": {},
   "outputs": [],
   "source": [
    "fib = sc.read_h5ad('/nfs/team205/ao15/Megagut/Williams_data/Williams2021_periodontitis_fibroblasts.h5ad')"
   ]
  },
  {
   "cell_type": "code",
   "execution_count": 45,
   "id": "split-islam",
   "metadata": {},
   "outputs": [
    {
     "data": {
      "text/plain": [
       "AnnData object with n_obs × n_vars = 4777 × 33694\n",
       "    obs: 'orig.ident', 'nCount_RNA', 'nFeature_RNA', 'project', 'percent.mt', 'S.Score', 'G2M.Score', 'paperLabels'\n",
       "    var: 'name'\n",
       "    uns: 'paperLabels_colors'\n",
       "    obsm: 'X_pca', 'X_umap'"
      ]
     },
     "execution_count": 45,
     "metadata": {},
     "output_type": "execute_result"
    }
   ],
   "source": [
    "fib"
   ]
  },
  {
   "cell_type": "code",
   "execution_count": 48,
   "id": "approximate-burlington",
   "metadata": {},
   "outputs": [
    {
     "data": {
      "text/plain": [
       "Plasma        6973\n",
       "abT (CD8)     2751\n",
       "abT (CD4)     2592\n",
       "P.Fib 1.1     2306\n",
       "P.VEC 1.2     2025\n",
       "P.SMC         1827\n",
       "P.VEC 1.1     1684\n",
       "P.VEC 1.3     1472\n",
       "P.Fib 1.2     1243\n",
       "Monocyte      1155\n",
       "B             1140\n",
       "Treg          1106\n",
       "gd T           992\n",
       "mDC            985\n",
       "P.VEC 1.4      974\n",
       "P.Epi 1        715\n",
       "P.Fib 1.4      675\n",
       "Mast           653\n",
       "P.Fib 1.3      542\n",
       "Th17           539\n",
       "NK             500\n",
       "MAIT           392\n",
       "pDC            202\n",
       "Neutrophil     170\n",
       "P.Epi 2        166\n",
       "P.LEC          151\n",
       "P.Epi 3         41\n",
       "P.Mel           23\n",
       "P.Fib 1.5       11\n",
       "Name: annot_original, dtype: int64"
      ]
     },
     "execution_count": 48,
     "metadata": {},
     "output_type": "execute_result"
    }
   ],
   "source": [
    "combined_adata.obs.annot_original.value_counts()"
   ]
  },
  {
   "cell_type": "code",
   "execution_count": 50,
   "id": "understanding-dealer",
   "metadata": {},
   "outputs": [
    {
     "name": "stderr",
     "output_type": "stream",
     "text": [
      "/home/jovyan/my-conda-envs/standard/lib/python3.8/site-packages/anndata/_core/anndata.py:1830: UserWarning: Variable names are not unique. To make them unique, call `.var_names_make_unique`.\n",
      "  utils.warn_names_duplicates(\"var\")\n"
     ]
    }
   ],
   "source": [
    "#subset and export fibroblasts to map onto atlas\n",
    "fib_raw = combined_adata[combined_adata.obs.annot_original.isin(['P.Fib 1.1','P.Fib 1.2','P.Fib 1.3','P.Fib 1.4','P.Fib 1.5'])].copy()"
   ]
  },
  {
   "cell_type": "code",
   "execution_count": 51,
   "id": "fundamental-williams",
   "metadata": {},
   "outputs": [
    {
     "data": {
      "text/plain": [
       "AnnData object with n_obs × n_vars = 4777 × 33694\n",
       "    obs: 'donorID_original', 'annot_original', 'disease'"
      ]
     },
     "execution_count": 51,
     "metadata": {},
     "output_type": "execute_result"
    }
   ],
   "source": [
    "fib_raw"
   ]
  },
  {
   "cell_type": "code",
   "execution_count": 52,
   "id": "collected-valentine",
   "metadata": {},
   "outputs": [],
   "source": [
    "fib.layers['counts'] = fib_raw.X"
   ]
  },
  {
   "cell_type": "code",
   "execution_count": 53,
   "id": "requested-jonathan",
   "metadata": {},
   "outputs": [
    {
     "data": {
      "text/plain": [
       "AnnData object with n_obs × n_vars = 4777 × 33694\n",
       "    obs: 'orig.ident', 'nCount_RNA', 'nFeature_RNA', 'project', 'percent.mt', 'S.Score', 'G2M.Score', 'paperLabels'\n",
       "    var: 'name'\n",
       "    uns: 'paperLabels_colors'\n",
       "    obsm: 'X_pca', 'X_umap'\n",
       "    layers: 'counts'"
      ]
     },
     "execution_count": 53,
     "metadata": {},
     "output_type": "execute_result"
    }
   ],
   "source": [
    "fib"
   ]
  },
  {
   "cell_type": "code",
   "execution_count": 55,
   "id": "centered-seven",
   "metadata": {},
   "outputs": [],
   "source": [
    "fib.write_h5ad('/nfs/team205/ao15/Megagut/Williams_data/Williams2021_periodontitis_fibroblasts_withrawcounts.20231108.h5ad')"
   ]
  },
  {
   "cell_type": "code",
   "execution_count": null,
   "id": "threaded-publisher",
   "metadata": {},
   "outputs": [],
   "source": []
  }
 ],
 "metadata": {
  "kernelspec": {
   "display_name": "Standard single cell",
   "language": "python",
   "name": "standard"
  },
  "language_info": {
   "codemirror_mode": {
    "name": "ipython",
    "version": 3
   },
   "file_extension": ".py",
   "mimetype": "text/x-python",
   "name": "python",
   "nbconvert_exporter": "python",
   "pygments_lexer": "ipython3",
   "version": "3.8.8"
  }
 },
 "nbformat": 4,
 "nbformat_minor": 5
}
