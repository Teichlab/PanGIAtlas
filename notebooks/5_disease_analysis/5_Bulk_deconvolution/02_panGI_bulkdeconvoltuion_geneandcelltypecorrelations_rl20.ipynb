{
 "cells": [
  {
   "cell_type": "code",
   "execution_count": null,
   "id": "patent-victory",
   "metadata": {},
   "outputs": [],
   "source": [
    "library(TCGAbiolinks)"
   ]
  },
  {
   "cell_type": "code",
   "execution_count": null,
   "id": "contrary-committee",
   "metadata": {},
   "outputs": [],
   "source": [
    "#sessionInfo()"
   ]
  },
  {
   "cell_type": "code",
   "execution_count": 1,
   "id": "composite-ownership",
   "metadata": {},
   "outputs": [
    {
     "name": "stderr",
     "output_type": "stream",
     "text": [
      "Loading required package: snowfall\n",
      "\n",
      "Loading required package: snow\n",
      "\n",
      "Loading required package: NMF\n",
      "\n",
      "Loading required package: registry\n",
      "\n",
      "Loading required package: rngtools\n",
      "\n",
      "Loading required package: cluster\n",
      "\n",
      "NMF - BioConductor layer [OK] | Shared memory capabilities [NO: bigmemory] | Cores 2/2\n",
      "\n",
      "  To enable shared memory capabilities, try: install.extras('\n",
      "NMF\n",
      "')\n",
      "\n",
      "Warning message in system(\"timedatectl\", intern = TRUE):\n",
      "“running command 'timedatectl' had status 1”\n",
      "── \u001b[1mAttaching core tidyverse packages\u001b[22m ──────────────────────── tidyverse 2.0.0 ──\n",
      "\u001b[32m✔\u001b[39m \u001b[34mdplyr    \u001b[39m 1.1.3     \u001b[32m✔\u001b[39m \u001b[34mreadr    \u001b[39m 2.1.4\n",
      "\u001b[32m✔\u001b[39m \u001b[34mforcats  \u001b[39m 1.0.0     \u001b[32m✔\u001b[39m \u001b[34mstringr  \u001b[39m 1.5.0\n",
      "\u001b[32m✔\u001b[39m \u001b[34mggplot2  \u001b[39m 3.4.4     \u001b[32m✔\u001b[39m \u001b[34mtibble   \u001b[39m 3.2.1\n",
      "\u001b[32m✔\u001b[39m \u001b[34mlubridate\u001b[39m 1.9.3     \u001b[32m✔\u001b[39m \u001b[34mtidyr    \u001b[39m 1.3.0\n",
      "\u001b[32m✔\u001b[39m \u001b[34mpurrr    \u001b[39m 1.0.2     \n",
      "── \u001b[1mConflicts\u001b[22m ────────────────────────────────────────── tidyverse_conflicts() ──\n",
      "\u001b[31m✖\u001b[39m \u001b[34mdplyr\u001b[39m::\u001b[32mcombine()\u001b[39m    masks \u001b[34mBiobase\u001b[39m::combine(), \u001b[34mBiocGenerics\u001b[39m::combine()\n",
      "\u001b[31m✖\u001b[39m \u001b[34mdplyr\u001b[39m::\u001b[32mfilter()\u001b[39m     masks \u001b[34mstats\u001b[39m::filter()\n",
      "\u001b[31m✖\u001b[39m \u001b[34mdplyr\u001b[39m::\u001b[32mlag()\u001b[39m        masks \u001b[34mstats\u001b[39m::lag()\n",
      "\u001b[31m✖\u001b[39m \u001b[34mggplot2\u001b[39m::\u001b[32mPosition()\u001b[39m masks \u001b[34mBiocGenerics\u001b[39m::Position(), \u001b[34mbase\u001b[39m::Position()\n",
      "\u001b[36mℹ\u001b[39m Use the conflicted package (\u001b[3m\u001b[34m<http://conflicted.r-lib.org/>\u001b[39m\u001b[23m) to force all conflicts to become errors\n",
      "\n",
      "Attaching package: ‘reshape2’\n",
      "\n",
      "\n",
      "The following object is masked from ‘package:tidyr’:\n",
      "\n",
      "    smiths\n",
      "\n",
      "\n",
      "Loading required package: SummarizedExperiment\n",
      "\n",
      "Loading required package: GenomicRanges\n",
      "\n",
      "Loading required package: stats4\n",
      "\n",
      "Loading required package: S4Vectors\n",
      "\n",
      "\n",
      "Attaching package: ‘S4Vectors’\n",
      "\n",
      "\n",
      "The following objects are masked from ‘package:lubridate’:\n",
      "\n",
      "    second, second<-\n",
      "\n",
      "\n",
      "The following objects are masked from ‘package:dplyr’:\n",
      "\n",
      "    first, rename\n",
      "\n",
      "\n",
      "The following object is masked from ‘package:tidyr’:\n",
      "\n",
      "    expand\n",
      "\n",
      "\n",
      "The following object is masked from ‘package:NMF’:\n",
      "\n",
      "    nrun\n",
      "\n",
      "\n",
      "The following object is masked from ‘package:base’:\n",
      "\n",
      "    expand.grid\n",
      "\n",
      "\n",
      "Loading required package: IRanges\n",
      "\n",
      "\n",
      "Attaching package: ‘IRanges’\n",
      "\n",
      "\n",
      "The following object is masked from ‘package:lubridate’:\n",
      "\n",
      "    %within%\n",
      "\n",
      "\n",
      "The following objects are masked from ‘package:dplyr’:\n",
      "\n",
      "    collapse, desc, slice\n",
      "\n",
      "\n",
      "The following object is masked from ‘package:purrr’:\n",
      "\n",
      "    reduce\n",
      "\n",
      "\n",
      "Loading required package: GenomeInfoDb\n",
      "\n",
      "Loading required package: DelayedArray\n",
      "\n",
      "Loading required package: matrixStats\n",
      "\n",
      "\n",
      "Attaching package: ‘matrixStats’\n",
      "\n",
      "\n",
      "The following object is masked from ‘package:dplyr’:\n",
      "\n",
      "    count\n",
      "\n",
      "\n",
      "The following objects are masked from ‘package:Biobase’:\n",
      "\n",
      "    anyMissing, rowMedians\n",
      "\n",
      "\n",
      "\n",
      "Attaching package: ‘DelayedArray’\n",
      "\n",
      "\n",
      "The following objects are masked from ‘package:matrixStats’:\n",
      "\n",
      "    colMaxs, colMins, colRanges, rowMaxs, rowMins, rowRanges\n",
      "\n",
      "\n",
      "The following object is masked from ‘package:purrr’:\n",
      "\n",
      "    simplify\n",
      "\n",
      "\n",
      "The following object is masked from ‘package:NMF’:\n",
      "\n",
      "    seed\n",
      "\n",
      "\n",
      "The following objects are masked from ‘package:base’:\n",
      "\n",
      "    aperm, apply, rowsum\n",
      "\n",
      "\n"
     ]
    }
   ],
   "source": [
    "suppressWarnings(library(BayesPrism))\n",
    "library(tidyverse)\n",
    "library(tidyverse)\n",
    "library(ggbeeswarm)\n",
    "library(ggplot2)\n",
    "library(reshape2)\n",
    "library(SingleCellExperiment)"
   ]
  },
  {
   "cell_type": "code",
   "execution_count": 2,
   "id": "statutory-source",
   "metadata": {},
   "outputs": [],
   "source": [
    "load('/lustre/scratch126/cellgen/team205/rl20/Gut/BayesPrism_out/GSE111889_fine_grained_annot_disease_only_new_sc_ref.rdata')"
   ]
  },
  {
   "cell_type": "code",
   "execution_count": 3,
   "id": "fiscal-divorce",
   "metadata": {},
   "outputs": [
    {
     "data": {
      "text/html": [
       "<table class=\"dataframe\">\n",
       "<caption>A matrix: 6 × 74 of type dbl</caption>\n",
       "<thead>\n",
       "\t<tr><th></th><th scope=col>Trm_Th17</th><th scope=col>Trm/em_CD8</th><th scope=col>Tfh_naive</th><th scope=col>B_plasma_IgA1</th><th scope=col>TA</th><th scope=col>Enterocyte</th><th scope=col>ILC3</th><th scope=col>Treg_IL10</th><th scope=col>Goblet_progenitor</th><th scope=col>Monocyte</th><th scope=col>⋯</th><th scope=col>Glial_2</th><th scope=col>Neuroblast</th><th scope=col>Macrophage_LYVE1</th><th scope=col>DC_langerhans</th><th scope=col>Glial_1</th><th scope=col>Oesophagus_fibroblast</th><th scope=col>Immune_recruiting_pericyte</th><th scope=col>Rectum_fibroblast</th><th scope=col>EC_cycling</th><th scope=col>Erythrocytes</th></tr>\n",
       "</thead>\n",
       "<tbody>\n",
       "\t<tr><th scope=row>CSM5FZ1G</th><td>3.287539e-04</td><td>2.607143e-03</td><td>4.043192e-06</td><td>1.088589e-06</td><td>0.115002791</td><td>1.173454e-06</td><td>1.702651e-06</td><td>4.836712e-05</td><td>7.282225e-03</td><td>3.068778e-06</td><td>⋯</td><td>7.089595e-06</td><td>1.168124e-06</td><td>0.022863784</td><td>2.657288e-06</td><td>1.525938e-03</td><td>1.341023e-03</td><td>3.120300e-06</td><td>1.820309e-03</td><td>2.414444e-06</td><td>1.259404e-03</td></tr>\n",
       "\t<tr><th scope=row>CSM5FZ1F</th><td>2.588207e-06</td><td>2.907866e-06</td><td>4.976976e-07</td><td>9.917840e-07</td><td>0.155967426</td><td>6.051681e-01</td><td>1.398136e-06</td><td>1.573325e-06</td><td>1.852580e-05</td><td>9.496578e-03</td><td>⋯</td><td>1.373276e-05</td><td>9.493208e-07</td><td>0.009546485</td><td>1.583926e-06</td><td>1.025637e-05</td><td>6.120680e-05</td><td>1.849142e-06</td><td>3.262709e-07</td><td>1.591990e-06</td><td>2.063501e-02</td></tr>\n",
       "\t<tr><th scope=row>CSM5FZ1I</th><td>5.718938e-04</td><td>9.702840e-03</td><td>2.976970e-06</td><td>3.855810e-06</td><td>0.082204558</td><td>9.907098e-07</td><td>9.871597e-06</td><td>7.854571e-06</td><td>3.582002e-03</td><td>2.119816e-06</td><td>⋯</td><td>3.835573e-04</td><td>2.289931e-06</td><td>0.036179578</td><td>1.679265e-06</td><td>2.527802e-03</td><td>3.059258e-03</td><td>3.080276e-05</td><td>3.946477e-03</td><td>3.674127e-06</td><td>2.413328e-04</td></tr>\n",
       "\t<tr><th scope=row>CSM5FZ1H</th><td>8.101086e-06</td><td>1.578352e-03</td><td>2.956980e-06</td><td>1.196422e-06</td><td>0.183516055</td><td>7.130945e-07</td><td>3.093092e-06</td><td>1.341906e-06</td><td>8.460672e-03</td><td>8.540433e-06</td><td>⋯</td><td>2.462029e-06</td><td>5.036392e-06</td><td>0.012183825</td><td>1.330969e-06</td><td>6.568065e-04</td><td>6.686127e-04</td><td>1.071161e-06</td><td>1.100590e-03</td><td>8.918356e-06</td><td>2.019149e-04</td></tr>\n",
       "\t<tr><th scope=row>CSM5FZ1J</th><td>6.837522e-06</td><td>2.066901e-06</td><td>4.127411e-06</td><td>1.618799e-06</td><td>0.001304348</td><td>6.961436e-01</td><td>2.943285e-06</td><td>1.461176e-06</td><td>4.610164e-06</td><td>7.269845e-07</td><td>⋯</td><td>1.316694e-06</td><td>1.419401e-04</td><td>0.023296418</td><td>7.320977e-05</td><td>3.031198e-04</td><td>1.804106e-06</td><td>5.025896e-06</td><td>2.970727e-04</td><td>1.467928e-06</td><td>6.317101e-07</td></tr>\n",
       "\t<tr><th scope=row>CSM5FZ1K</th><td>8.078794e-07</td><td>4.803114e-07</td><td>1.140928e-06</td><td>2.079182e-06</td><td>0.005098397</td><td>1.101675e-06</td><td>1.702979e-06</td><td>5.041804e-07</td><td>1.252115e-06</td><td>5.040904e-07</td><td>⋯</td><td>9.430601e-07</td><td>1.753706e-03</td><td>0.005201450</td><td>1.424650e-06</td><td>2.876227e-03</td><td>1.627605e-06</td><td>7.020860e-06</td><td>9.755138e-06</td><td>1.489479e-04</td><td>5.860781e-07</td></tr>\n",
       "</tbody>\n",
       "</table>\n"
      ],
      "text/latex": [
       "A matrix: 6 × 74 of type dbl\n",
       "\\begin{tabular}{r|lllllllllllllllllllll}\n",
       "  & Trm\\_Th17 & Trm/em\\_CD8 & Tfh\\_naive & B\\_plasma\\_IgA1 & TA & Enterocyte & ILC3 & Treg\\_IL10 & Goblet\\_progenitor & Monocyte & ⋯ & Glial\\_2 & Neuroblast & Macrophage\\_LYVE1 & DC\\_langerhans & Glial\\_1 & Oesophagus\\_fibroblast & Immune\\_recruiting\\_pericyte & Rectum\\_fibroblast & EC\\_cycling & Erythrocytes\\\\\n",
       "\\hline\n",
       "\tCSM5FZ1G & 3.287539e-04 & 2.607143e-03 & 4.043192e-06 & 1.088589e-06 & 0.115002791 & 1.173454e-06 & 1.702651e-06 & 4.836712e-05 & 7.282225e-03 & 3.068778e-06 & ⋯ & 7.089595e-06 & 1.168124e-06 & 0.022863784 & 2.657288e-06 & 1.525938e-03 & 1.341023e-03 & 3.120300e-06 & 1.820309e-03 & 2.414444e-06 & 1.259404e-03\\\\\n",
       "\tCSM5FZ1F & 2.588207e-06 & 2.907866e-06 & 4.976976e-07 & 9.917840e-07 & 0.155967426 & 6.051681e-01 & 1.398136e-06 & 1.573325e-06 & 1.852580e-05 & 9.496578e-03 & ⋯ & 1.373276e-05 & 9.493208e-07 & 0.009546485 & 1.583926e-06 & 1.025637e-05 & 6.120680e-05 & 1.849142e-06 & 3.262709e-07 & 1.591990e-06 & 2.063501e-02\\\\\n",
       "\tCSM5FZ1I & 5.718938e-04 & 9.702840e-03 & 2.976970e-06 & 3.855810e-06 & 0.082204558 & 9.907098e-07 & 9.871597e-06 & 7.854571e-06 & 3.582002e-03 & 2.119816e-06 & ⋯ & 3.835573e-04 & 2.289931e-06 & 0.036179578 & 1.679265e-06 & 2.527802e-03 & 3.059258e-03 & 3.080276e-05 & 3.946477e-03 & 3.674127e-06 & 2.413328e-04\\\\\n",
       "\tCSM5FZ1H & 8.101086e-06 & 1.578352e-03 & 2.956980e-06 & 1.196422e-06 & 0.183516055 & 7.130945e-07 & 3.093092e-06 & 1.341906e-06 & 8.460672e-03 & 8.540433e-06 & ⋯ & 2.462029e-06 & 5.036392e-06 & 0.012183825 & 1.330969e-06 & 6.568065e-04 & 6.686127e-04 & 1.071161e-06 & 1.100590e-03 & 8.918356e-06 & 2.019149e-04\\\\\n",
       "\tCSM5FZ1J & 6.837522e-06 & 2.066901e-06 & 4.127411e-06 & 1.618799e-06 & 0.001304348 & 6.961436e-01 & 2.943285e-06 & 1.461176e-06 & 4.610164e-06 & 7.269845e-07 & ⋯ & 1.316694e-06 & 1.419401e-04 & 0.023296418 & 7.320977e-05 & 3.031198e-04 & 1.804106e-06 & 5.025896e-06 & 2.970727e-04 & 1.467928e-06 & 6.317101e-07\\\\\n",
       "\tCSM5FZ1K & 8.078794e-07 & 4.803114e-07 & 1.140928e-06 & 2.079182e-06 & 0.005098397 & 1.101675e-06 & 1.702979e-06 & 5.041804e-07 & 1.252115e-06 & 5.040904e-07 & ⋯ & 9.430601e-07 & 1.753706e-03 & 0.005201450 & 1.424650e-06 & 2.876227e-03 & 1.627605e-06 & 7.020860e-06 & 9.755138e-06 & 1.489479e-04 & 5.860781e-07\\\\\n",
       "\\end{tabular}\n"
      ],
      "text/markdown": [
       "\n",
       "A matrix: 6 × 74 of type dbl\n",
       "\n",
       "| <!--/--> | Trm_Th17 | Trm/em_CD8 | Tfh_naive | B_plasma_IgA1 | TA | Enterocyte | ILC3 | Treg_IL10 | Goblet_progenitor | Monocyte | ⋯ | Glial_2 | Neuroblast | Macrophage_LYVE1 | DC_langerhans | Glial_1 | Oesophagus_fibroblast | Immune_recruiting_pericyte | Rectum_fibroblast | EC_cycling | Erythrocytes |\n",
       "|---|---|---|---|---|---|---|---|---|---|---|---|---|---|---|---|---|---|---|---|---|---|\n",
       "| CSM5FZ1G | 3.287539e-04 | 2.607143e-03 | 4.043192e-06 | 1.088589e-06 | 0.115002791 | 1.173454e-06 | 1.702651e-06 | 4.836712e-05 | 7.282225e-03 | 3.068778e-06 | ⋯ | 7.089595e-06 | 1.168124e-06 | 0.022863784 | 2.657288e-06 | 1.525938e-03 | 1.341023e-03 | 3.120300e-06 | 1.820309e-03 | 2.414444e-06 | 1.259404e-03 |\n",
       "| CSM5FZ1F | 2.588207e-06 | 2.907866e-06 | 4.976976e-07 | 9.917840e-07 | 0.155967426 | 6.051681e-01 | 1.398136e-06 | 1.573325e-06 | 1.852580e-05 | 9.496578e-03 | ⋯ | 1.373276e-05 | 9.493208e-07 | 0.009546485 | 1.583926e-06 | 1.025637e-05 | 6.120680e-05 | 1.849142e-06 | 3.262709e-07 | 1.591990e-06 | 2.063501e-02 |\n",
       "| CSM5FZ1I | 5.718938e-04 | 9.702840e-03 | 2.976970e-06 | 3.855810e-06 | 0.082204558 | 9.907098e-07 | 9.871597e-06 | 7.854571e-06 | 3.582002e-03 | 2.119816e-06 | ⋯ | 3.835573e-04 | 2.289931e-06 | 0.036179578 | 1.679265e-06 | 2.527802e-03 | 3.059258e-03 | 3.080276e-05 | 3.946477e-03 | 3.674127e-06 | 2.413328e-04 |\n",
       "| CSM5FZ1H | 8.101086e-06 | 1.578352e-03 | 2.956980e-06 | 1.196422e-06 | 0.183516055 | 7.130945e-07 | 3.093092e-06 | 1.341906e-06 | 8.460672e-03 | 8.540433e-06 | ⋯ | 2.462029e-06 | 5.036392e-06 | 0.012183825 | 1.330969e-06 | 6.568065e-04 | 6.686127e-04 | 1.071161e-06 | 1.100590e-03 | 8.918356e-06 | 2.019149e-04 |\n",
       "| CSM5FZ1J | 6.837522e-06 | 2.066901e-06 | 4.127411e-06 | 1.618799e-06 | 0.001304348 | 6.961436e-01 | 2.943285e-06 | 1.461176e-06 | 4.610164e-06 | 7.269845e-07 | ⋯ | 1.316694e-06 | 1.419401e-04 | 0.023296418 | 7.320977e-05 | 3.031198e-04 | 1.804106e-06 | 5.025896e-06 | 2.970727e-04 | 1.467928e-06 | 6.317101e-07 |\n",
       "| CSM5FZ1K | 8.078794e-07 | 4.803114e-07 | 1.140928e-06 | 2.079182e-06 | 0.005098397 | 1.101675e-06 | 1.702979e-06 | 5.041804e-07 | 1.252115e-06 | 5.040904e-07 | ⋯ | 9.430601e-07 | 1.753706e-03 | 0.005201450 | 1.424650e-06 | 2.876227e-03 | 1.627605e-06 | 7.020860e-06 | 9.755138e-06 | 1.489479e-04 | 5.860781e-07 |\n",
       "\n"
      ],
      "text/plain": [
       "         Trm_Th17     Trm/em_CD8   Tfh_naive    B_plasma_IgA1 TA         \n",
       "CSM5FZ1G 3.287539e-04 2.607143e-03 4.043192e-06 1.088589e-06  0.115002791\n",
       "CSM5FZ1F 2.588207e-06 2.907866e-06 4.976976e-07 9.917840e-07  0.155967426\n",
       "CSM5FZ1I 5.718938e-04 9.702840e-03 2.976970e-06 3.855810e-06  0.082204558\n",
       "CSM5FZ1H 8.101086e-06 1.578352e-03 2.956980e-06 1.196422e-06  0.183516055\n",
       "CSM5FZ1J 6.837522e-06 2.066901e-06 4.127411e-06 1.618799e-06  0.001304348\n",
       "CSM5FZ1K 8.078794e-07 4.803114e-07 1.140928e-06 2.079182e-06  0.005098397\n",
       "         Enterocyte   ILC3         Treg_IL10    Goblet_progenitor Monocyte    \n",
       "CSM5FZ1G 1.173454e-06 1.702651e-06 4.836712e-05 7.282225e-03      3.068778e-06\n",
       "CSM5FZ1F 6.051681e-01 1.398136e-06 1.573325e-06 1.852580e-05      9.496578e-03\n",
       "CSM5FZ1I 9.907098e-07 9.871597e-06 7.854571e-06 3.582002e-03      2.119816e-06\n",
       "CSM5FZ1H 7.130945e-07 3.093092e-06 1.341906e-06 8.460672e-03      8.540433e-06\n",
       "CSM5FZ1J 6.961436e-01 2.943285e-06 1.461176e-06 4.610164e-06      7.269845e-07\n",
       "CSM5FZ1K 1.101675e-06 1.702979e-06 5.041804e-07 1.252115e-06      5.040904e-07\n",
       "         ⋯ Glial_2      Neuroblast   Macrophage_LYVE1 DC_langerhans\n",
       "CSM5FZ1G ⋯ 7.089595e-06 1.168124e-06 0.022863784      2.657288e-06 \n",
       "CSM5FZ1F ⋯ 1.373276e-05 9.493208e-07 0.009546485      1.583926e-06 \n",
       "CSM5FZ1I ⋯ 3.835573e-04 2.289931e-06 0.036179578      1.679265e-06 \n",
       "CSM5FZ1H ⋯ 2.462029e-06 5.036392e-06 0.012183825      1.330969e-06 \n",
       "CSM5FZ1J ⋯ 1.316694e-06 1.419401e-04 0.023296418      7.320977e-05 \n",
       "CSM5FZ1K ⋯ 9.430601e-07 1.753706e-03 0.005201450      1.424650e-06 \n",
       "         Glial_1      Oesophagus_fibroblast Immune_recruiting_pericyte\n",
       "CSM5FZ1G 1.525938e-03 1.341023e-03          3.120300e-06              \n",
       "CSM5FZ1F 1.025637e-05 6.120680e-05          1.849142e-06              \n",
       "CSM5FZ1I 2.527802e-03 3.059258e-03          3.080276e-05              \n",
       "CSM5FZ1H 6.568065e-04 6.686127e-04          1.071161e-06              \n",
       "CSM5FZ1J 3.031198e-04 1.804106e-06          5.025896e-06              \n",
       "CSM5FZ1K 2.876227e-03 1.627605e-06          7.020860e-06              \n",
       "         Rectum_fibroblast EC_cycling   Erythrocytes\n",
       "CSM5FZ1G 1.820309e-03      2.414444e-06 1.259404e-03\n",
       "CSM5FZ1F 3.262709e-07      1.591990e-06 2.063501e-02\n",
       "CSM5FZ1I 3.946477e-03      3.674127e-06 2.413328e-04\n",
       "CSM5FZ1H 1.100590e-03      8.918356e-06 2.019149e-04\n",
       "CSM5FZ1J 2.970727e-04      1.467928e-06 6.317101e-07\n",
       "CSM5FZ1K 9.755138e-06      1.489479e-04 5.860781e-07"
      ]
     },
     "metadata": {},
     "output_type": "display_data"
    }
   ],
   "source": [
    "theta <- get.fraction(bp=bp.res,\n",
    "            which.theta=\"final\",\n",
    "            state.or.type=\"type\")\n",
    "\n",
    "head(theta)"
   ]
  },
  {
   "cell_type": "code",
   "execution_count": 4,
   "id": "comparable-biology",
   "metadata": {},
   "outputs": [
    {
     "data": {
      "text/html": [
       "<table class=\"dataframe\">\n",
       "<caption>A matrix: 6 × 74 of type dbl</caption>\n",
       "<thead>\n",
       "\t<tr><th></th><th scope=col>Trm_Th17</th><th scope=col>Trm/em_CD8</th><th scope=col>Tfh_naive</th><th scope=col>B_plasma_IgA1</th><th scope=col>TA</th><th scope=col>Enterocyte</th><th scope=col>ILC3</th><th scope=col>Treg_IL10</th><th scope=col>Goblet_progenitor</th><th scope=col>Monocyte</th><th scope=col>⋯</th><th scope=col>Glial_2</th><th scope=col>Neuroblast</th><th scope=col>Macrophage_LYVE1</th><th scope=col>DC_langerhans</th><th scope=col>Glial_1</th><th scope=col>Oesophagus_fibroblast</th><th scope=col>Immune_recruiting_pericyte</th><th scope=col>Rectum_fibroblast</th><th scope=col>EC_cycling</th><th scope=col>Erythrocytes</th></tr>\n",
       "</thead>\n",
       "<tbody>\n",
       "\t<tr><th scope=row>Trm_Th17</th><td> 1.000000000</td><td> 0.48428767</td><td> 0.008318456</td><td>-0.145612948</td><td> 0.34346158</td><td> 0.01890408</td><td>-0.126332414</td><td> 0.28502605</td><td> 0.02258650</td><td> 0.10639478</td><td>⋯</td><td> 0.24593162</td><td>-0.3041097</td><td> 0.28241942</td><td>-0.03304122</td><td> 0.002994513</td><td> 0.155096778</td><td>-0.11429385</td><td> 0.18825684</td><td>-0.16725657</td><td> 0.06087603</td></tr>\n",
       "\t<tr><th scope=row>Trm/em_CD8</th><td> 0.484287672</td><td> 1.00000000</td><td>-0.030968582</td><td>-0.150113877</td><td> 0.26744913</td><td>-0.16918239</td><td>-0.090263220</td><td> 0.49522126</td><td> 0.03915985</td><td> 0.37285208</td><td>⋯</td><td> 0.29527414</td><td>-0.3156535</td><td> 0.24798568</td><td>-0.14888905</td><td>-0.039162964</td><td> 0.182529860</td><td>-0.10702915</td><td> 0.16277354</td><td>-0.18164427</td><td> 0.19999760</td></tr>\n",
       "\t<tr><th scope=row>Tfh_naive</th><td> 0.008318456</td><td>-0.03096858</td><td> 1.000000000</td><td> 0.000210511</td><td>-0.10400948</td><td> 0.10120621</td><td> 0.023325793</td><td>-0.02490591</td><td>-0.05440082</td><td> 0.08046907</td><td>⋯</td><td>-0.03173084</td><td>-0.1042778</td><td> 0.05234308</td><td> 0.15517050</td><td>-0.016945362</td><td>-0.001355023</td><td>-0.02272405</td><td> 0.04542838</td><td>-0.04122233</td><td> 0.11725787</td></tr>\n",
       "\t<tr><th scope=row>B_plasma_IgA1</th><td>-0.145612948</td><td>-0.15011388</td><td> 0.000210511</td><td> 1.000000000</td><td>-0.07602408</td><td>-0.20712567</td><td> 0.245298639</td><td>-0.09681230</td><td>-0.05439588</td><td>-0.05788117</td><td>⋯</td><td>-0.02145266</td><td> 0.4414142</td><td> 0.19654423</td><td> 0.04308316</td><td> 0.309564585</td><td>-0.071497167</td><td> 0.40533351</td><td>-0.09804016</td><td> 0.10749875</td><td>-0.05747553</td></tr>\n",
       "\t<tr><th scope=row>TA</th><td> 0.343461576</td><td> 0.26744913</td><td>-0.104009478</td><td>-0.076024082</td><td> 1.00000000</td><td>-0.33249727</td><td>-0.001968193</td><td> 0.23447735</td><td> 0.18214232</td><td>-0.01998923</td><td>⋯</td><td> 0.12703167</td><td>-0.3239096</td><td>-0.05074890</td><td>-0.21095751</td><td> 0.146559690</td><td> 0.161625972</td><td> 0.10768249</td><td> 0.13124101</td><td>-0.04071268</td><td> 0.02926147</td></tr>\n",
       "\t<tr><th scope=row>Enterocyte</th><td> 0.018904078</td><td>-0.16918239</td><td> 0.101206211</td><td>-0.207125672</td><td>-0.33249727</td><td> 1.00000000</td><td>-0.176754518</td><td>-0.14575206</td><td>-0.17845270</td><td>-0.09544012</td><td>⋯</td><td>-0.15381449</td><td>-0.3543038</td><td>-0.12894071</td><td> 0.15427611</td><td>-0.476568446</td><td>-0.088287590</td><td>-0.12451813</td><td>-0.20251566</td><td>-0.19060853</td><td>-0.09260969</td></tr>\n",
       "</tbody>\n",
       "</table>\n"
      ],
      "text/latex": [
       "A matrix: 6 × 74 of type dbl\n",
       "\\begin{tabular}{r|lllllllllllllllllllll}\n",
       "  & Trm\\_Th17 & Trm/em\\_CD8 & Tfh\\_naive & B\\_plasma\\_IgA1 & TA & Enterocyte & ILC3 & Treg\\_IL10 & Goblet\\_progenitor & Monocyte & ⋯ & Glial\\_2 & Neuroblast & Macrophage\\_LYVE1 & DC\\_langerhans & Glial\\_1 & Oesophagus\\_fibroblast & Immune\\_recruiting\\_pericyte & Rectum\\_fibroblast & EC\\_cycling & Erythrocytes\\\\\n",
       "\\hline\n",
       "\tTrm\\_Th17 &  1.000000000 &  0.48428767 &  0.008318456 & -0.145612948 &  0.34346158 &  0.01890408 & -0.126332414 &  0.28502605 &  0.02258650 &  0.10639478 & ⋯ &  0.24593162 & -0.3041097 &  0.28241942 & -0.03304122 &  0.002994513 &  0.155096778 & -0.11429385 &  0.18825684 & -0.16725657 &  0.06087603\\\\\n",
       "\tTrm/em\\_CD8 &  0.484287672 &  1.00000000 & -0.030968582 & -0.150113877 &  0.26744913 & -0.16918239 & -0.090263220 &  0.49522126 &  0.03915985 &  0.37285208 & ⋯ &  0.29527414 & -0.3156535 &  0.24798568 & -0.14888905 & -0.039162964 &  0.182529860 & -0.10702915 &  0.16277354 & -0.18164427 &  0.19999760\\\\\n",
       "\tTfh\\_naive &  0.008318456 & -0.03096858 &  1.000000000 &  0.000210511 & -0.10400948 &  0.10120621 &  0.023325793 & -0.02490591 & -0.05440082 &  0.08046907 & ⋯ & -0.03173084 & -0.1042778 &  0.05234308 &  0.15517050 & -0.016945362 & -0.001355023 & -0.02272405 &  0.04542838 & -0.04122233 &  0.11725787\\\\\n",
       "\tB\\_plasma\\_IgA1 & -0.145612948 & -0.15011388 &  0.000210511 &  1.000000000 & -0.07602408 & -0.20712567 &  0.245298639 & -0.09681230 & -0.05439588 & -0.05788117 & ⋯ & -0.02145266 &  0.4414142 &  0.19654423 &  0.04308316 &  0.309564585 & -0.071497167 &  0.40533351 & -0.09804016 &  0.10749875 & -0.05747553\\\\\n",
       "\tTA &  0.343461576 &  0.26744913 & -0.104009478 & -0.076024082 &  1.00000000 & -0.33249727 & -0.001968193 &  0.23447735 &  0.18214232 & -0.01998923 & ⋯ &  0.12703167 & -0.3239096 & -0.05074890 & -0.21095751 &  0.146559690 &  0.161625972 &  0.10768249 &  0.13124101 & -0.04071268 &  0.02926147\\\\\n",
       "\tEnterocyte &  0.018904078 & -0.16918239 &  0.101206211 & -0.207125672 & -0.33249727 &  1.00000000 & -0.176754518 & -0.14575206 & -0.17845270 & -0.09544012 & ⋯ & -0.15381449 & -0.3543038 & -0.12894071 &  0.15427611 & -0.476568446 & -0.088287590 & -0.12451813 & -0.20251566 & -0.19060853 & -0.09260969\\\\\n",
       "\\end{tabular}\n"
      ],
      "text/markdown": [
       "\n",
       "A matrix: 6 × 74 of type dbl\n",
       "\n",
       "| <!--/--> | Trm_Th17 | Trm/em_CD8 | Tfh_naive | B_plasma_IgA1 | TA | Enterocyte | ILC3 | Treg_IL10 | Goblet_progenitor | Monocyte | ⋯ | Glial_2 | Neuroblast | Macrophage_LYVE1 | DC_langerhans | Glial_1 | Oesophagus_fibroblast | Immune_recruiting_pericyte | Rectum_fibroblast | EC_cycling | Erythrocytes |\n",
       "|---|---|---|---|---|---|---|---|---|---|---|---|---|---|---|---|---|---|---|---|---|---|\n",
       "| Trm_Th17 |  1.000000000 |  0.48428767 |  0.008318456 | -0.145612948 |  0.34346158 |  0.01890408 | -0.126332414 |  0.28502605 |  0.02258650 |  0.10639478 | ⋯ |  0.24593162 | -0.3041097 |  0.28241942 | -0.03304122 |  0.002994513 |  0.155096778 | -0.11429385 |  0.18825684 | -0.16725657 |  0.06087603 |\n",
       "| Trm/em_CD8 |  0.484287672 |  1.00000000 | -0.030968582 | -0.150113877 |  0.26744913 | -0.16918239 | -0.090263220 |  0.49522126 |  0.03915985 |  0.37285208 | ⋯ |  0.29527414 | -0.3156535 |  0.24798568 | -0.14888905 | -0.039162964 |  0.182529860 | -0.10702915 |  0.16277354 | -0.18164427 |  0.19999760 |\n",
       "| Tfh_naive |  0.008318456 | -0.03096858 |  1.000000000 |  0.000210511 | -0.10400948 |  0.10120621 |  0.023325793 | -0.02490591 | -0.05440082 |  0.08046907 | ⋯ | -0.03173084 | -0.1042778 |  0.05234308 |  0.15517050 | -0.016945362 | -0.001355023 | -0.02272405 |  0.04542838 | -0.04122233 |  0.11725787 |\n",
       "| B_plasma_IgA1 | -0.145612948 | -0.15011388 |  0.000210511 |  1.000000000 | -0.07602408 | -0.20712567 |  0.245298639 | -0.09681230 | -0.05439588 | -0.05788117 | ⋯ | -0.02145266 |  0.4414142 |  0.19654423 |  0.04308316 |  0.309564585 | -0.071497167 |  0.40533351 | -0.09804016 |  0.10749875 | -0.05747553 |\n",
       "| TA |  0.343461576 |  0.26744913 | -0.104009478 | -0.076024082 |  1.00000000 | -0.33249727 | -0.001968193 |  0.23447735 |  0.18214232 | -0.01998923 | ⋯ |  0.12703167 | -0.3239096 | -0.05074890 | -0.21095751 |  0.146559690 |  0.161625972 |  0.10768249 |  0.13124101 | -0.04071268 |  0.02926147 |\n",
       "| Enterocyte |  0.018904078 | -0.16918239 |  0.101206211 | -0.207125672 | -0.33249727 |  1.00000000 | -0.176754518 | -0.14575206 | -0.17845270 | -0.09544012 | ⋯ | -0.15381449 | -0.3543038 | -0.12894071 |  0.15427611 | -0.476568446 | -0.088287590 | -0.12451813 | -0.20251566 | -0.19060853 | -0.09260969 |\n",
       "\n"
      ],
      "text/plain": [
       "              Trm_Th17     Trm/em_CD8  Tfh_naive    B_plasma_IgA1 TA         \n",
       "Trm_Th17       1.000000000  0.48428767  0.008318456 -0.145612948   0.34346158\n",
       "Trm/em_CD8     0.484287672  1.00000000 -0.030968582 -0.150113877   0.26744913\n",
       "Tfh_naive      0.008318456 -0.03096858  1.000000000  0.000210511  -0.10400948\n",
       "B_plasma_IgA1 -0.145612948 -0.15011388  0.000210511  1.000000000  -0.07602408\n",
       "TA             0.343461576  0.26744913 -0.104009478 -0.076024082   1.00000000\n",
       "Enterocyte     0.018904078 -0.16918239  0.101206211 -0.207125672  -0.33249727\n",
       "              Enterocyte  ILC3         Treg_IL10   Goblet_progenitor\n",
       "Trm_Th17       0.01890408 -0.126332414  0.28502605  0.02258650      \n",
       "Trm/em_CD8    -0.16918239 -0.090263220  0.49522126  0.03915985      \n",
       "Tfh_naive      0.10120621  0.023325793 -0.02490591 -0.05440082      \n",
       "B_plasma_IgA1 -0.20712567  0.245298639 -0.09681230 -0.05439588      \n",
       "TA            -0.33249727 -0.001968193  0.23447735  0.18214232      \n",
       "Enterocyte     1.00000000 -0.176754518 -0.14575206 -0.17845270      \n",
       "              Monocyte    ⋯ Glial_2     Neuroblast Macrophage_LYVE1\n",
       "Trm_Th17       0.10639478 ⋯  0.24593162 -0.3041097  0.28241942     \n",
       "Trm/em_CD8     0.37285208 ⋯  0.29527414 -0.3156535  0.24798568     \n",
       "Tfh_naive      0.08046907 ⋯ -0.03173084 -0.1042778  0.05234308     \n",
       "B_plasma_IgA1 -0.05788117 ⋯ -0.02145266  0.4414142  0.19654423     \n",
       "TA            -0.01998923 ⋯  0.12703167 -0.3239096 -0.05074890     \n",
       "Enterocyte    -0.09544012 ⋯ -0.15381449 -0.3543038 -0.12894071     \n",
       "              DC_langerhans Glial_1      Oesophagus_fibroblast\n",
       "Trm_Th17      -0.03304122    0.002994513  0.155096778         \n",
       "Trm/em_CD8    -0.14888905   -0.039162964  0.182529860         \n",
       "Tfh_naive      0.15517050   -0.016945362 -0.001355023         \n",
       "B_plasma_IgA1  0.04308316    0.309564585 -0.071497167         \n",
       "TA            -0.21095751    0.146559690  0.161625972         \n",
       "Enterocyte     0.15427611   -0.476568446 -0.088287590         \n",
       "              Immune_recruiting_pericyte Rectum_fibroblast EC_cycling \n",
       "Trm_Th17      -0.11429385                 0.18825684       -0.16725657\n",
       "Trm/em_CD8    -0.10702915                 0.16277354       -0.18164427\n",
       "Tfh_naive     -0.02272405                 0.04542838       -0.04122233\n",
       "B_plasma_IgA1  0.40533351                -0.09804016        0.10749875\n",
       "TA             0.10768249                 0.13124101       -0.04071268\n",
       "Enterocyte    -0.12451813                -0.20251566       -0.19060853\n",
       "              Erythrocytes\n",
       "Trm_Th17       0.06087603 \n",
       "Trm/em_CD8     0.19999760 \n",
       "Tfh_naive      0.11725787 \n",
       "B_plasma_IgA1 -0.05747553 \n",
       "TA             0.02926147 \n",
       "Enterocyte    -0.09260969 "
      ]
     },
     "metadata": {},
     "output_type": "display_data"
    }
   ],
   "source": [
    "Corr <- cor(theta)\n",
    "Corr %>% head"
   ]
  },
  {
   "cell_type": "code",
   "execution_count": 5,
   "id": "apparent-benjamin",
   "metadata": {},
   "outputs": [
    {
     "data": {
      "text/html": [
       "<table class=\"dataframe\">\n",
       "<caption>A data.frame: 6 × 2</caption>\n",
       "<thead>\n",
       "\t<tr><th></th><th scope=col>corr</th><th scope=col>highlight</th></tr>\n",
       "\t<tr><th></th><th scope=col>&lt;dbl&gt;</th><th scope=col>&lt;chr&gt;</th></tr>\n",
       "</thead>\n",
       "<tbody>\n",
       "\t<tr><th scope=row>Mucous_gland_neck</th><td>1.0000000</td><td>no</td></tr>\n",
       "\t<tr><th scope=row>Macrophage_TREM2</th><td>0.6078429</td><td>no</td></tr>\n",
       "\t<tr><th scope=row>EC_venous</th><td>0.4377427</td><td>no</td></tr>\n",
       "\t<tr><th scope=row>B_plasma_IgG</th><td>0.3633646</td><td>no</td></tr>\n",
       "\t<tr><th scope=row>Trm/em_CD8</th><td>0.3552519</td><td>no</td></tr>\n",
       "\t<tr><th scope=row>Crypt_fibroblast_PI16</th><td>0.3439901</td><td>no</td></tr>\n",
       "</tbody>\n",
       "</table>\n"
      ],
      "text/latex": [
       "A data.frame: 6 × 2\n",
       "\\begin{tabular}{r|ll}\n",
       "  & corr & highlight\\\\\n",
       "  & <dbl> & <chr>\\\\\n",
       "\\hline\n",
       "\tMucous\\_gland\\_neck & 1.0000000 & no\\\\\n",
       "\tMacrophage\\_TREM2 & 0.6078429 & no\\\\\n",
       "\tEC\\_venous & 0.4377427 & no\\\\\n",
       "\tB\\_plasma\\_IgG & 0.3633646 & no\\\\\n",
       "\tTrm/em\\_CD8 & 0.3552519 & no\\\\\n",
       "\tCrypt\\_fibroblast\\_PI16 & 0.3439901 & no\\\\\n",
       "\\end{tabular}\n"
      ],
      "text/markdown": [
       "\n",
       "A data.frame: 6 × 2\n",
       "\n",
       "| <!--/--> | corr &lt;dbl&gt; | highlight &lt;chr&gt; |\n",
       "|---|---|---|\n",
       "| Mucous_gland_neck | 1.0000000 | no |\n",
       "| Macrophage_TREM2 | 0.6078429 | no |\n",
       "| EC_venous | 0.4377427 | no |\n",
       "| B_plasma_IgG | 0.3633646 | no |\n",
       "| Trm/em_CD8 | 0.3552519 | no |\n",
       "| Crypt_fibroblast_PI16 | 0.3439901 | no |\n",
       "\n"
      ],
      "text/plain": [
       "                      corr      highlight\n",
       "Mucous_gland_neck     1.0000000 no       \n",
       "Macrophage_TREM2      0.6078429 no       \n",
       "EC_venous             0.4377427 no       \n",
       "B_plasma_IgG          0.3633646 no       \n",
       "Trm/em_CD8            0.3552519 no       \n",
       "Crypt_fibroblast_PI16 0.3439901 no       "
      ]
     },
     "metadata": {},
     "output_type": "display_data"
    }
   ],
   "source": [
    "ll <- Corr['Mucous_gland_neck',] %>% sort(decreasing=T)\n",
    "ll <- data.frame(corr = ll, highlight = rep('no', length(ll)))\n",
    "ll %>% head"
   ]
  },
  {
   "cell_type": "code",
   "execution_count": 21,
   "id": "graphic-alfred",
   "metadata": {},
   "outputs": [],
   "source": [
    "#write.csv(Corr['Mucous_gland_neck',] %>% sort(decreasing=T), file='./GSE111889_cell_type_corr.csv',quote=F)"
   ]
  },
  {
   "cell_type": "code",
   "execution_count": 15,
   "id": "minute-chest",
   "metadata": {},
   "outputs": [],
   "source": [
    "ll['EC_venous', 'highlight'] <- 'yes'\n",
    "ll$gene <- rownames(ll)\n",
    "ll$x <- 1:nrow(ll)"
   ]
  },
  {
   "cell_type": "code",
   "execution_count": 21,
   "id": "amended-forwarding",
   "metadata": {},
   "outputs": [
    {
     "data": {
      "image/png": "[encoded data removed]",
      "text/plain": [
       "plot without title"
      ]
     },
     "metadata": {
      "image/png": {
       "height": 420,
       "width": 420
      }
     },
     "output_type": "display_data"
    }
   ],
   "source": [
    "library(tidyverse)\n",
    "library(ggrepel)\n",
    "library(ggfun)\n",
    "library(grid)\n",
    "\n",
    "ggplot(ll %>% arrange(highlight),\n",
    "       aes(x = x, y = corr, color = highlight, \n",
    "           size = highlight, shape = highlight)) +\n",
    "       geom_point() + \n",
    "       scale_color_manual(values = c(no = 'grey50', yes = 'black')) + \n",
    "       scale_size_manual(values = c(no = 2, yes = 4)) + \n",
    "       scale_shape_manual(values = c(no = 1, yes = 20)) + \n",
    "geom_text_repel(data =  ll %>% filter(highlight == 'yes'),\n",
    "                aes(x = x, y = corr, label = gene),\n",
    "                box.padding = 0.5,\n",
    "                nudge_x = 0.2,\n",
    "                nudge_y = 0.2,\n",
    "                segment.curvature = -0.1,\n",
    "                segment.ncp = 3,\n",
    "                segment.angle = 10,\n",
    "                direction = \"x\", \n",
    "                hjust = \"right\",\n",
    "                force = 5,\n",
    "                point.padding = 1\n",
    "                  ) +        \n",
    "theme_bw()\n",
    "ggsave(\"figures/GSE111889_celltype_corr_new_sc_ref.pdf\", width = 6.2, height = 6)"
   ]
  },
  {
   "cell_type": "code",
   "execution_count": 12,
   "id": "sensitive-latter",
   "metadata": {},
   "outputs": [
    {
     "data": {
      "text/html": [
       "<strong>png:</strong> 2"
      ],
      "text/latex": [
       "\\textbf{png:} 2"
      ],
      "text/markdown": [
       "**png:** 2"
      ],
      "text/plain": [
       "png \n",
       "  2 "
      ]
     },
     "metadata": {},
     "output_type": "display_data"
    }
   ],
   "source": [
    "pdf(\"GSE111889_celltype_corr.pdf\", w=7, h=7)\n",
    "ll <- Corr['Mucous_gland_neck',] %>% sort(decreasing=T)\n",
    "par(las=1);plot(ll)\n",
    "text(which(names(ll)=='EC_venous')+12, ll[which(names(ll)=='EC_venous')], labels='EC_venous')\n",
    "dev.off()"
   ]
  },
  {
   "cell_type": "code",
   "execution_count": 5,
   "id": "satisfied-archives",
   "metadata": {},
   "outputs": [
    {
     "data": {
      "text/html": [
       "<table class=\"dataframe\">\n",
       "<caption>A data.frame: 6 × 251</caption>\n",
       "<thead>\n",
       "\t<tr><th></th><th scope=col>CSM5FZ1F</th><th scope=col>CSM5FZ1G</th><th scope=col>CSM5FZ1H</th><th scope=col>CSM5FZ1I</th><th scope=col>CSM5FZ1J</th><th scope=col>CSM5FZ1K</th><th scope=col>CSM5FZ1L</th><th scope=col>CSM5FZ1M</th><th scope=col>CSM5FZ1N</th><th scope=col>CSM5FZ1O</th><th scope=col>⋯</th><th scope=col>PSM6XC13</th><th scope=col>PSM6XC14</th><th scope=col>PSM6XC15</th><th scope=col>PSM7J4EU</th><th scope=col>PSM7J4EV</th><th scope=col>PSM7J4EW</th><th scope=col>PSM7J4EX</th><th scope=col>PSM7J4F3</th><th scope=col>PSM7J4F4</th><th scope=col>PSM7J4FL</th></tr>\n",
       "\t<tr><th></th><th scope=col>&lt;dbl&gt;</th><th scope=col>&lt;dbl&gt;</th><th scope=col>&lt;dbl&gt;</th><th scope=col>&lt;dbl&gt;</th><th scope=col>&lt;dbl&gt;</th><th scope=col>&lt;dbl&gt;</th><th scope=col>&lt;dbl&gt;</th><th scope=col>&lt;dbl&gt;</th><th scope=col>&lt;dbl&gt;</th><th scope=col>&lt;dbl&gt;</th><th scope=col>⋯</th><th scope=col>&lt;dbl&gt;</th><th scope=col>&lt;dbl&gt;</th><th scope=col>&lt;dbl&gt;</th><th scope=col>&lt;dbl&gt;</th><th scope=col>&lt;dbl&gt;</th><th scope=col>&lt;dbl&gt;</th><th scope=col>&lt;dbl&gt;</th><th scope=col>&lt;dbl&gt;</th><th scope=col>&lt;dbl&gt;</th><th scope=col>&lt;dbl&gt;</th></tr>\n",
       "</thead>\n",
       "<tbody>\n",
       "\t<tr><th scope=row>5S_rRNA</th><td>   1.080733</td><td>   2.107608</td><td>   3.106095</td><td>    2.044676</td><td>    1.026653</td><td>   2.070730</td><td>    1.039419</td><td>    3.126879</td><td>    1.101525</td><td>    1.008319</td><td>⋯</td><td>    4.044430</td><td>    2.005531</td><td>    1.021167</td><td>    2.005531</td><td>    1.005538</td><td>    1.002765</td><td>    8.088859</td><td>    2.039038</td><td>    3.016615</td><td>   2.082198</td></tr>\n",
       "\t<tr><th scope=row>7SK</th><td>  83.216469</td><td>  40.044556</td><td>  49.697514</td><td>  108.367847</td><td>  106.771954</td><td>  15.530473</td><td>   51.970934</td><td>  120.905993</td><td>   47.365587</td><td>   77.640566</td><td>⋯</td><td>  435.787291</td><td>  164.453519</td><td>   58.206525</td><td>  175.483938</td><td>  192.057828</td><td>  201.555837</td><td>  352.876484</td><td>  153.947346</td><td>  410.259653</td><td>  68.712541</td></tr>\n",
       "\t<tr><th scope=row>A1BG</th><td>   1.080733</td><td>   2.107608</td><td>   1.035365</td><td>    2.044676</td><td>    7.186574</td><td>   1.035365</td><td>    2.078837</td><td>    1.042293</td><td>    1.101525</td><td>    1.008319</td><td>⋯</td><td>    7.077752</td><td>    4.011061</td><td>    3.063501</td><td>    2.005531</td><td>    2.011077</td><td>    4.011061</td><td>    2.022215</td><td>    5.097594</td><td>    1.005538</td><td>   1.041099</td></tr>\n",
       "\t<tr><th scope=row>A1BG-AS1</th><td>  34.583468</td><td>  24.237494</td><td>  15.530473</td><td>   68.496658</td><td>   32.852909</td><td>  14.495108</td><td>   47.813259</td><td>   38.564843</td><td>   49.568638</td><td>  125.031561</td><td>⋯</td><td>  127.399533</td><td>  102.282067</td><td>   50.037188</td><td>   90.248882</td><td>   76.420916</td><td>   54.149329</td><td>   77.855270</td><td>   57.093055</td><td>  271.495359</td><td>  16.657586</td></tr>\n",
       "\t<tr><th scope=row>A1CF</th><td>3932.788702</td><td>2345.767919</td><td>2444.496491</td><td> 1966.978665</td><td> 9760.393865</td><td>5777.336052</td><td> 5859.203101</td><td> 9345.199453</td><td> 2368.279366</td><td> 2801.110294</td><td>⋯</td><td> 8818.878781</td><td> 2957.155044</td><td> 2709.156338</td><td> 2357.501359</td><td> 5487.222860</td><td> 2246.194404</td><td> 5612.657202</td><td> 4053.606938</td><td>  436.403651</td><td>3498.093020</td></tr>\n",
       "\t<tr><th scope=row>A2M</th><td>4523.949851</td><td>9439.977095</td><td>5246.193867</td><td>29276.698554</td><td>31206.156719</td><td>6326.079441</td><td>25541.635234</td><td>26942.232955</td><td>37875.946980</td><td>76451.757943</td><td>⋯</td><td>24977.386211</td><td>23791.610911</td><td>13633.602059</td><td>22586.286949</td><td>55610.293763</td><td>40571.886430</td><td>29819.579571</td><td>24781.444626</td><td>51570.040611</td><td>6232.019291</td></tr>\n",
       "</tbody>\n",
       "</table>\n"
      ],
      "text/latex": [
       "A data.frame: 6 × 251\n",
       "\\begin{tabular}{r|lllllllllllllllllllll}\n",
       "  & CSM5FZ1F & CSM5FZ1G & CSM5FZ1H & CSM5FZ1I & CSM5FZ1J & CSM5FZ1K & CSM5FZ1L & CSM5FZ1M & CSM5FZ1N & CSM5FZ1O & ⋯ & PSM6XC13 & PSM6XC14 & PSM6XC15 & PSM7J4EU & PSM7J4EV & PSM7J4EW & PSM7J4EX & PSM7J4F3 & PSM7J4F4 & PSM7J4FL\\\\\n",
       "  & <dbl> & <dbl> & <dbl> & <dbl> & <dbl> & <dbl> & <dbl> & <dbl> & <dbl> & <dbl> & ⋯ & <dbl> & <dbl> & <dbl> & <dbl> & <dbl> & <dbl> & <dbl> & <dbl> & <dbl> & <dbl>\\\\\n",
       "\\hline\n",
       "\t5S\\_rRNA &    1.080733 &    2.107608 &    3.106095 &     2.044676 &     1.026653 &    2.070730 &     1.039419 &     3.126879 &     1.101525 &     1.008319 & ⋯ &     4.044430 &     2.005531 &     1.021167 &     2.005531 &     1.005538 &     1.002765 &     8.088859 &     2.039038 &     3.016615 &    2.082198\\\\\n",
       "\t7SK &   83.216469 &   40.044556 &   49.697514 &   108.367847 &   106.771954 &   15.530473 &    51.970934 &   120.905993 &    47.365587 &    77.640566 & ⋯ &   435.787291 &   164.453519 &    58.206525 &   175.483938 &   192.057828 &   201.555837 &   352.876484 &   153.947346 &   410.259653 &   68.712541\\\\\n",
       "\tA1BG &    1.080733 &    2.107608 &    1.035365 &     2.044676 &     7.186574 &    1.035365 &     2.078837 &     1.042293 &     1.101525 &     1.008319 & ⋯ &     7.077752 &     4.011061 &     3.063501 &     2.005531 &     2.011077 &     4.011061 &     2.022215 &     5.097594 &     1.005538 &    1.041099\\\\\n",
       "\tA1BG-AS1 &   34.583468 &   24.237494 &   15.530473 &    68.496658 &    32.852909 &   14.495108 &    47.813259 &    38.564843 &    49.568638 &   125.031561 & ⋯ &   127.399533 &   102.282067 &    50.037188 &    90.248882 &    76.420916 &    54.149329 &    77.855270 &    57.093055 &   271.495359 &   16.657586\\\\\n",
       "\tA1CF & 3932.788702 & 2345.767919 & 2444.496491 &  1966.978665 &  9760.393865 & 5777.336052 &  5859.203101 &  9345.199453 &  2368.279366 &  2801.110294 & ⋯ &  8818.878781 &  2957.155044 &  2709.156338 &  2357.501359 &  5487.222860 &  2246.194404 &  5612.657202 &  4053.606938 &   436.403651 & 3498.093020\\\\\n",
       "\tA2M & 4523.949851 & 9439.977095 & 5246.193867 & 29276.698554 & 31206.156719 & 6326.079441 & 25541.635234 & 26942.232955 & 37875.946980 & 76451.757943 & ⋯ & 24977.386211 & 23791.610911 & 13633.602059 & 22586.286949 & 55610.293763 & 40571.886430 & 29819.579571 & 24781.444626 & 51570.040611 & 6232.019291\\\\\n",
       "\\end{tabular}\n"
      ],
      "text/markdown": [
       "\n",
       "A data.frame: 6 × 251\n",
       "\n",
       "| <!--/--> | CSM5FZ1F &lt;dbl&gt; | CSM5FZ1G &lt;dbl&gt; | CSM5FZ1H &lt;dbl&gt; | CSM5FZ1I &lt;dbl&gt; | CSM5FZ1J &lt;dbl&gt; | CSM5FZ1K &lt;dbl&gt; | CSM5FZ1L &lt;dbl&gt; | CSM5FZ1M &lt;dbl&gt; | CSM5FZ1N &lt;dbl&gt; | CSM5FZ1O &lt;dbl&gt; | ⋯ ⋯ | PSM6XC13 &lt;dbl&gt; | PSM6XC14 &lt;dbl&gt; | PSM6XC15 &lt;dbl&gt; | PSM7J4EU &lt;dbl&gt; | PSM7J4EV &lt;dbl&gt; | PSM7J4EW &lt;dbl&gt; | PSM7J4EX &lt;dbl&gt; | PSM7J4F3 &lt;dbl&gt; | PSM7J4F4 &lt;dbl&gt; | PSM7J4FL &lt;dbl&gt; |\n",
       "|---|---|---|---|---|---|---|---|---|---|---|---|---|---|---|---|---|---|---|---|---|---|\n",
       "| 5S_rRNA |    1.080733 |    2.107608 |    3.106095 |     2.044676 |     1.026653 |    2.070730 |     1.039419 |     3.126879 |     1.101525 |     1.008319 | ⋯ |     4.044430 |     2.005531 |     1.021167 |     2.005531 |     1.005538 |     1.002765 |     8.088859 |     2.039038 |     3.016615 |    2.082198 |\n",
       "| 7SK |   83.216469 |   40.044556 |   49.697514 |   108.367847 |   106.771954 |   15.530473 |    51.970934 |   120.905993 |    47.365587 |    77.640566 | ⋯ |   435.787291 |   164.453519 |    58.206525 |   175.483938 |   192.057828 |   201.555837 |   352.876484 |   153.947346 |   410.259653 |   68.712541 |\n",
       "| A1BG |    1.080733 |    2.107608 |    1.035365 |     2.044676 |     7.186574 |    1.035365 |     2.078837 |     1.042293 |     1.101525 |     1.008319 | ⋯ |     7.077752 |     4.011061 |     3.063501 |     2.005531 |     2.011077 |     4.011061 |     2.022215 |     5.097594 |     1.005538 |    1.041099 |\n",
       "| A1BG-AS1 |   34.583468 |   24.237494 |   15.530473 |    68.496658 |    32.852909 |   14.495108 |    47.813259 |    38.564843 |    49.568638 |   125.031561 | ⋯ |   127.399533 |   102.282067 |    50.037188 |    90.248882 |    76.420916 |    54.149329 |    77.855270 |    57.093055 |   271.495359 |   16.657586 |\n",
       "| A1CF | 3932.788702 | 2345.767919 | 2444.496491 |  1966.978665 |  9760.393865 | 5777.336052 |  5859.203101 |  9345.199453 |  2368.279366 |  2801.110294 | ⋯ |  8818.878781 |  2957.155044 |  2709.156338 |  2357.501359 |  5487.222860 |  2246.194404 |  5612.657202 |  4053.606938 |   436.403651 | 3498.093020 |\n",
       "| A2M | 4523.949851 | 9439.977095 | 5246.193867 | 29276.698554 | 31206.156719 | 6326.079441 | 25541.635234 | 26942.232955 | 37875.946980 | 76451.757943 | ⋯ | 24977.386211 | 23791.610911 | 13633.602059 | 22586.286949 | 55610.293763 | 40571.886430 | 29819.579571 | 24781.444626 | 51570.040611 | 6232.019291 |\n",
       "\n"
      ],
      "text/plain": [
       "         CSM5FZ1F    CSM5FZ1G    CSM5FZ1H    CSM5FZ1I     CSM5FZ1J    \n",
       "5S_rRNA     1.080733    2.107608    3.106095     2.044676     1.026653\n",
       "7SK        83.216469   40.044556   49.697514   108.367847   106.771954\n",
       "A1BG        1.080733    2.107608    1.035365     2.044676     7.186574\n",
       "A1BG-AS1   34.583468   24.237494   15.530473    68.496658    32.852909\n",
       "A1CF     3932.788702 2345.767919 2444.496491  1966.978665  9760.393865\n",
       "A2M      4523.949851 9439.977095 5246.193867 29276.698554 31206.156719\n",
       "         CSM5FZ1K    CSM5FZ1L     CSM5FZ1M     CSM5FZ1N     CSM5FZ1O     ⋯\n",
       "5S_rRNA     2.070730     1.039419     3.126879     1.101525     1.008319 ⋯\n",
       "7SK        15.530473    51.970934   120.905993    47.365587    77.640566 ⋯\n",
       "A1BG        1.035365     2.078837     1.042293     1.101525     1.008319 ⋯\n",
       "A1BG-AS1   14.495108    47.813259    38.564843    49.568638   125.031561 ⋯\n",
       "A1CF     5777.336052  5859.203101  9345.199453  2368.279366  2801.110294 ⋯\n",
       "A2M      6326.079441 25541.635234 26942.232955 37875.946980 76451.757943 ⋯\n",
       "         PSM6XC13     PSM6XC14     PSM6XC15     PSM7J4EU     PSM7J4EV    \n",
       "5S_rRNA      4.044430     2.005531     1.021167     2.005531     1.005538\n",
       "7SK        435.787291   164.453519    58.206525   175.483938   192.057828\n",
       "A1BG         7.077752     4.011061     3.063501     2.005531     2.011077\n",
       "A1BG-AS1   127.399533   102.282067    50.037188    90.248882    76.420916\n",
       "A1CF      8818.878781  2957.155044  2709.156338  2357.501359  5487.222860\n",
       "A2M      24977.386211 23791.610911 13633.602059 22586.286949 55610.293763\n",
       "         PSM7J4EW     PSM7J4EX     PSM7J4F3     PSM7J4F4     PSM7J4FL   \n",
       "5S_rRNA      1.002765     8.088859     2.039038     3.016615    2.082198\n",
       "7SK        201.555837   352.876484   153.947346   410.259653   68.712541\n",
       "A1BG         4.011061     2.022215     5.097594     1.005538    1.041099\n",
       "A1BG-AS1    54.149329    77.855270    57.093055   271.495359   16.657586\n",
       "A1CF      2246.194404  5612.657202  4053.606938   436.403651 3498.093020\n",
       "A2M      40571.886430 29819.579571 24781.444626 51570.040611 6232.019291"
      ]
     },
     "metadata": {},
     "output_type": "display_data"
    }
   ],
   "source": [
    "mat <- read.table('/home/jovyan/farm/Gut/Deconvolution/GSE111889_host_tx_counts_norm.xls', check.names=F)\n",
    "mat %>% head"
   ]
  },
  {
   "cell_type": "code",
   "execution_count": 6,
   "id": "altered-robertson",
   "metadata": {},
   "outputs": [
    {
     "data": {
      "text/html": [
       "<style>\n",
       ".list-inline {list-style: none; margin:0; padding: 0}\n",
       ".list-inline>li {display: inline-block}\n",
       ".list-inline>li:not(:last-child)::after {content: \"\\00b7\"; padding: 0 .5ex}\n",
       "</style>\n",
       "<ol class=list-inline><li>249</li><li>74</li></ol>\n"
      ],
      "text/latex": [
       "\\begin{enumerate*}\n",
       "\\item 249\n",
       "\\item 74\n",
       "\\end{enumerate*}\n"
      ],
      "text/markdown": [
       "1. 249\n",
       "2. 74\n",
       "\n",
       "\n"
      ],
      "text/plain": [
       "[1] 249  74"
      ]
     },
     "metadata": {},
     "output_type": "display_data"
    },
    {
     "data": {
      "text/html": [
       "<style>\n",
       ".list-inline {list-style: none; margin:0; padding: 0}\n",
       ".list-inline>li {display: inline-block}\n",
       ".list-inline>li:not(:last-child)::after {content: \"\\00b7\"; padding: 0 .5ex}\n",
       "</style>\n",
       "<ol class=list-inline><li>53065</li><li>251</li></ol>\n"
      ],
      "text/latex": [
       "\\begin{enumerate*}\n",
       "\\item 53065\n",
       "\\item 251\n",
       "\\end{enumerate*}\n"
      ],
      "text/markdown": [
       "1. 53065\n",
       "2. 251\n",
       "\n",
       "\n"
      ],
      "text/plain": [
       "[1] 53065   251"
      ]
     },
     "metadata": {},
     "output_type": "display_data"
    }
   ],
   "source": [
    "dim(theta)\n",
    "dim(mat)"
   ]
  },
  {
   "cell_type": "code",
   "execution_count": 7,
   "id": "material-saturn",
   "metadata": {},
   "outputs": [
    {
     "data": {
      "text/html": [
       "<style>\n",
       ".list-inline {list-style: none; margin:0; padding: 0}\n",
       ".list-inline>li {display: inline-block}\n",
       ".list-inline>li:not(:last-child)::after {content: \"\\00b7\"; padding: 0 .5ex}\n",
       "</style>\n",
       "<ol class=list-inline><li>53065</li><li>249</li></ol>\n"
      ],
      "text/latex": [
       "\\begin{enumerate*}\n",
       "\\item 53065\n",
       "\\item 249\n",
       "\\end{enumerate*}\n"
      ],
      "text/markdown": [
       "1. 53065\n",
       "2. 249\n",
       "\n",
       "\n"
      ],
      "text/plain": [
       "[1] 53065   249"
      ]
     },
     "metadata": {},
     "output_type": "display_data"
    }
   ],
   "source": [
    "mat <- mat[,rownames(theta)]\n",
    "dim(mat)"
   ]
  },
  {
   "cell_type": "code",
   "execution_count": 8,
   "id": "solar-gauge",
   "metadata": {},
   "outputs": [
    {
     "data": {
      "text/html": [
       "<style>\n",
       ".list-inline {list-style: none; margin:0; padding: 0}\n",
       ".list-inline>li {display: inline-block}\n",
       ".list-inline>li:not(:last-child)::after {content: \"\\00b7\"; padding: 0 .5ex}\n",
       "</style>\n",
       "<ol class=list-inline><li>249</li><li>53066</li></ol>\n"
      ],
      "text/latex": [
       "\\begin{enumerate*}\n",
       "\\item 249\n",
       "\\item 53066\n",
       "\\end{enumerate*}\n"
      ],
      "text/markdown": [
       "1. 249\n",
       "2. 53066\n",
       "\n",
       "\n"
      ],
      "text/plain": [
       "[1]   249 53066"
      ]
     },
     "metadata": {},
     "output_type": "display_data"
    }
   ],
   "source": [
    "mat <- cbind(theta[,'Mucous_gland_neck'],\n",
    "             t(mat))\n",
    "dim(mat)"
   ]
  },
  {
   "cell_type": "code",
   "execution_count": 9,
   "id": "extensive-employer",
   "metadata": {},
   "outputs": [],
   "source": [
    "Corr <- cor(mat)"
   ]
  },
  {
   "cell_type": "code",
   "execution_count": 10,
   "id": "sealed-happiness",
   "metadata": {},
   "outputs": [
    {
     "data": {
      "text/html": [
       "<style>\n",
       ".dl-inline {width: auto; margin:0; padding: 0}\n",
       ".dl-inline>dt, .dl-inline>dd {float: none; width: auto; display: inline-block}\n",
       ".dl-inline>dt::after {content: \":\\0020\"; padding-right: .5ex}\n",
       ".dl-inline>dt:not(:first-of-type) {padding-left: .5ex}\n",
       "</style><dl class=dl-inline><dt>1</dt><dd>1</dd><dt>TCN1</dt><dd>0.849560466893556</dd><dt>VTCN1</dt><dd>0.831303686866321</dd><dt>VSIG1</dt><dd>0.791128140319323</dd><dt>SLC4A11</dt><dd>0.769275043775881</dd><dt>LCN2</dt><dd>0.765139789562029</dd><dt>RP11-350J20.12</dt><dd>0.760908719945005</dd><dt>AZGP1</dt><dd>0.760673595861259</dd><dt>SFTA2</dt><dd>0.754669953849769</dd><dt>LY6D</dt><dd>0.739861853574563</dd><dt>SLCO4A1</dt><dd>0.723803527375998</dd><dt>CHAC1</dt><dd>0.715075283391907</dd><dt>SAA2</dt><dd>0.710466236432865</dd><dt>PF4</dt><dd>0.707230676656333</dd><dt>ARHGAP40</dt><dd>0.704841631342232</dd><dt>PDZK1IP1</dt><dd>0.703181520458664</dd><dt>SAA1</dt><dd>0.701784399840886</dd><dt>KRT7</dt><dd>0.6999456869828</dd><dt>MMP7</dt><dd>0.696558709818859</dd><dt>KRT80</dt><dd>0.696521325115502</dd><dt>KRT6C</dt><dd>0.696454788649782</dd><dt>RP11-469H8.6</dt><dd>0.695788272644102</dd><dt>BEAN1</dt><dd>0.694879351776936</dd><dt>TNFSF9</dt><dd>0.693329539032721</dd><dt>DUOXA2</dt><dd>0.69297583978201</dd><dt>RP11-20B7.1</dt><dd>0.692538825140257</dd><dt>RP6-65G23.1</dt><dd>0.68982359876711</dd><dt>MDFI</dt><dd>0.68766878675622</dd><dt>ANXA1</dt><dd>0.681855958831658</dd><dt>APOL1</dt><dd>0.679690747936546</dd><dt>INSL4</dt><dd>0.679626711412076</dd><dt>IGKV3-11</dt><dd>0.677569598340757</dd><dt>RP11-397C18.2</dt><dd>0.677444472149608</dd><dt>PI3</dt><dd>0.676817897967808</dd><dt>SERPINB7</dt><dd>0.67123769951966</dd><dt>SYT12</dt><dd>0.670557830192408</dd><dt>RP11-65J3.1</dt><dd>0.669257910452359</dd><dt>RP11-447E20.1</dt><dd>0.668883958944031</dd><dt>PLEKHN1</dt><dd>0.666315816019298</dd><dt>CBR3</dt><dd>0.665926470909681</dd><dt>CLDN1</dt><dd>0.665232792119044</dd><dt>DUOX2</dt><dd>0.658089927632365</dd><dt>PKM</dt><dd>0.65711570502854</dd><dt>IGHV4-59</dt><dd>0.656293417641345</dd><dt>SPRR2E</dt><dd>0.655445942596622</dd><dt>GPR87</dt><dd>0.653728170430546</dd><dt>KLK10</dt><dd>0.652788920822678</dd><dt>WFDC5</dt><dd>0.649075126980121</dd><dt>GNA15</dt><dd>0.648961515064373</dd><dt>SRD5A3</dt><dd>0.6488980418625</dd></dl>\n"
      ],
      "text/latex": [
       "\\begin{description*}\n",
       "\\item[1] 1\n",
       "\\item[TCN1] 0.849560466893556\n",
       "\\item[VTCN1] 0.831303686866321\n",
       "\\item[VSIG1] 0.791128140319323\n",
       "\\item[SLC4A11] 0.769275043775881\n",
       "\\item[LCN2] 0.765139789562029\n",
       "\\item[RP11-350J20.12] 0.760908719945005\n",
       "\\item[AZGP1] 0.760673595861259\n",
       "\\item[SFTA2] 0.754669953849769\n",
       "\\item[LY6D] 0.739861853574563\n",
       "\\item[SLCO4A1] 0.723803527375998\n",
       "\\item[CHAC1] 0.715075283391907\n",
       "\\item[SAA2] 0.710466236432865\n",
       "\\item[PF4] 0.707230676656333\n",
       "\\item[ARHGAP40] 0.704841631342232\n",
       "\\item[PDZK1IP1] 0.703181520458664\n",
       "\\item[SAA1] 0.701784399840886\n",
       "\\item[KRT7] 0.6999456869828\n",
       "\\item[MMP7] 0.696558709818859\n",
       "\\item[KRT80] 0.696521325115502\n",
       "\\item[KRT6C] 0.696454788649782\n",
       "\\item[RP11-469H8.6] 0.695788272644102\n",
       "\\item[BEAN1] 0.694879351776936\n",
       "\\item[TNFSF9] 0.693329539032721\n",
       "\\item[DUOXA2] 0.69297583978201\n",
       "\\item[RP11-20B7.1] 0.692538825140257\n",
       "\\item[RP6-65G23.1] 0.68982359876711\n",
       "\\item[MDFI] 0.68766878675622\n",
       "\\item[ANXA1] 0.681855958831658\n",
       "\\item[APOL1] 0.679690747936546\n",
       "\\item[INSL4] 0.679626711412076\n",
       "\\item[IGKV3-11] 0.677569598340757\n",
       "\\item[RP11-397C18.2] 0.677444472149608\n",
       "\\item[PI3] 0.676817897967808\n",
       "\\item[SERPINB7] 0.67123769951966\n",
       "\\item[SYT12] 0.670557830192408\n",
       "\\item[RP11-65J3.1] 0.669257910452359\n",
       "\\item[RP11-447E20.1] 0.668883958944031\n",
       "\\item[PLEKHN1] 0.666315816019298\n",
       "\\item[CBR3] 0.665926470909681\n",
       "\\item[CLDN1] 0.665232792119044\n",
       "\\item[DUOX2] 0.658089927632365\n",
       "\\item[PKM] 0.65711570502854\n",
       "\\item[IGHV4-59] 0.656293417641345\n",
       "\\item[SPRR2E] 0.655445942596622\n",
       "\\item[GPR87] 0.653728170430546\n",
       "\\item[KLK10] 0.652788920822678\n",
       "\\item[WFDC5] 0.649075126980121\n",
       "\\item[GNA15] 0.648961515064373\n",
       "\\item[SRD5A3] 0.6488980418625\n",
       "\\end{description*}\n"
      ],
      "text/markdown": [
       "1\n",
       ":   1TCN1\n",
       ":   0.849560466893556VTCN1\n",
       ":   0.831303686866321VSIG1\n",
       ":   0.791128140319323SLC4A11\n",
       ":   0.769275043775881LCN2\n",
       ":   0.765139789562029RP11-350J20.12\n",
       ":   0.760908719945005AZGP1\n",
       ":   0.760673595861259SFTA2\n",
       ":   0.754669953849769LY6D\n",
       ":   0.739861853574563SLCO4A1\n",
       ":   0.723803527375998CHAC1\n",
       ":   0.715075283391907SAA2\n",
       ":   0.710466236432865PF4\n",
       ":   0.707230676656333ARHGAP40\n",
       ":   0.704841631342232PDZK1IP1\n",
       ":   0.703181520458664SAA1\n",
       ":   0.701784399840886KRT7\n",
       ":   0.6999456869828MMP7\n",
       ":   0.696558709818859KRT80\n",
       ":   0.696521325115502KRT6C\n",
       ":   0.696454788649782RP11-469H8.6\n",
       ":   0.695788272644102BEAN1\n",
       ":   0.694879351776936TNFSF9\n",
       ":   0.693329539032721DUOXA2\n",
       ":   0.69297583978201RP11-20B7.1\n",
       ":   0.692538825140257RP6-65G23.1\n",
       ":   0.68982359876711MDFI\n",
       ":   0.68766878675622ANXA1\n",
       ":   0.681855958831658APOL1\n",
       ":   0.679690747936546INSL4\n",
       ":   0.679626711412076IGKV3-11\n",
       ":   0.677569598340757RP11-397C18.2\n",
       ":   0.677444472149608PI3\n",
       ":   0.676817897967808SERPINB7\n",
       ":   0.67123769951966SYT12\n",
       ":   0.670557830192408RP11-65J3.1\n",
       ":   0.669257910452359RP11-447E20.1\n",
       ":   0.668883958944031PLEKHN1\n",
       ":   0.666315816019298CBR3\n",
       ":   0.665926470909681CLDN1\n",
       ":   0.665232792119044DUOX2\n",
       ":   0.658089927632365PKM\n",
       ":   0.65711570502854IGHV4-59\n",
       ":   0.656293417641345SPRR2E\n",
       ":   0.655445942596622GPR87\n",
       ":   0.653728170430546KLK10\n",
       ":   0.652788920822678WFDC5\n",
       ":   0.649075126980121GNA15\n",
       ":   0.648961515064373SRD5A3\n",
       ":   0.6488980418625\n",
       "\n"
      ],
      "text/plain": [
       "                         TCN1          VTCN1          VSIG1        SLC4A11 \n",
       "     1.0000000      0.8495605      0.8313037      0.7911281      0.7692750 \n",
       "          LCN2 RP11-350J20.12          AZGP1          SFTA2           LY6D \n",
       "     0.7651398      0.7609087      0.7606736      0.7546700      0.7398619 \n",
       "       SLCO4A1          CHAC1           SAA2            PF4       ARHGAP40 \n",
       "     0.7238035      0.7150753      0.7104662      0.7072307      0.7048416 \n",
       "      PDZK1IP1           SAA1           KRT7           MMP7          KRT80 \n",
       "     0.7031815      0.7017844      0.6999457      0.6965587      0.6965213 \n",
       "         KRT6C   RP11-469H8.6          BEAN1         TNFSF9         DUOXA2 \n",
       "     0.6964548      0.6957883      0.6948794      0.6933295      0.6929758 \n",
       "   RP11-20B7.1    RP6-65G23.1           MDFI          ANXA1          APOL1 \n",
       "     0.6925388      0.6898236      0.6876688      0.6818560      0.6796907 \n",
       "         INSL4       IGKV3-11  RP11-397C18.2            PI3       SERPINB7 \n",
       "     0.6796267      0.6775696      0.6774445      0.6768179      0.6712377 \n",
       "         SYT12    RP11-65J3.1  RP11-447E20.1        PLEKHN1           CBR3 \n",
       "     0.6705578      0.6692579      0.6688840      0.6663158      0.6659265 \n",
       "         CLDN1          DUOX2            PKM       IGHV4-59         SPRR2E \n",
       "     0.6652328      0.6580899      0.6571157      0.6562934      0.6554459 \n",
       "         GPR87          KLK10          WFDC5          GNA15         SRD5A3 \n",
       "     0.6537282      0.6527889      0.6490751      0.6489615      0.6488980 "
      ]
     },
     "metadata": {},
     "output_type": "display_data"
    }
   ],
   "source": [
    "Corr[1,] %>% sort(decreasing=T) %>% head(50)"
   ]
  },
  {
   "cell_type": "code",
   "execution_count": 14,
   "id": "physical-lindsay",
   "metadata": {},
   "outputs": [
    {
     "data": {
      "text/html": [
       "0.472262133336854"
      ],
      "text/latex": [
       "0.472262133336854"
      ],
      "text/markdown": [
       "0.472262133336854"
      ],
      "text/plain": [
       "[1] 0.4722621"
      ]
     },
     "metadata": {},
     "output_type": "display_data"
    }
   ],
   "source": [
    "Corr[1,'MUC6']"
   ]
  },
  {
   "cell_type": "code",
   "execution_count": 15,
   "id": "manufactured-acquisition",
   "metadata": {},
   "outputs": [],
   "source": [
    "write.csv(Corr[1,], file='./GSE111889_gene_corr_nor_counts_new_sc_ref.csv',quote=F)"
   ]
  },
  {
   "cell_type": "code",
   "execution_count": 16,
   "id": "seven-annual",
   "metadata": {},
   "outputs": [
    {
     "data": {
      "text/html": [
       "<table class=\"dataframe\">\n",
       "<caption>A data.frame: 6 × 1</caption>\n",
       "<thead>\n",
       "\t<tr><th></th><th scope=col>corr_with_genes</th></tr>\n",
       "\t<tr><th></th><th scope=col>&lt;dbl&gt;</th></tr>\n",
       "</thead>\n",
       "<tbody>\n",
       "\t<tr><th scope=row>5S_rRNA</th><td> 0.004971467</td></tr>\n",
       "\t<tr><th scope=row>7SK</th><td>-0.022168325</td></tr>\n",
       "\t<tr><th scope=row>A1BG</th><td> 0.076958338</td></tr>\n",
       "\t<tr><th scope=row>A1BG-AS1</th><td> 0.163976741</td></tr>\n",
       "\t<tr><th scope=row>A1CF</th><td>-0.294191723</td></tr>\n",
       "\t<tr><th scope=row>A2M</th><td> 0.136672103</td></tr>\n",
       "</tbody>\n",
       "</table>\n"
      ],
      "text/latex": [
       "A data.frame: 6 × 1\n",
       "\\begin{tabular}{r|l}\n",
       "  & corr\\_with\\_genes\\\\\n",
       "  & <dbl>\\\\\n",
       "\\hline\n",
       "\t5S\\_rRNA &  0.004971467\\\\\n",
       "\t7SK & -0.022168325\\\\\n",
       "\tA1BG &  0.076958338\\\\\n",
       "\tA1BG-AS1 &  0.163976741\\\\\n",
       "\tA1CF & -0.294191723\\\\\n",
       "\tA2M &  0.136672103\\\\\n",
       "\\end{tabular}\n"
      ],
      "text/markdown": [
       "\n",
       "A data.frame: 6 × 1\n",
       "\n",
       "| <!--/--> | corr_with_genes &lt;dbl&gt; |\n",
       "|---|---|\n",
       "| 5S_rRNA |  0.004971467 |\n",
       "| 7SK | -0.022168325 |\n",
       "| A1BG |  0.076958338 |\n",
       "| A1BG-AS1 |  0.163976741 |\n",
       "| A1CF | -0.294191723 |\n",
       "| A2M |  0.136672103 |\n",
       "\n"
      ],
      "text/plain": [
       "         corr_with_genes\n",
       "5S_rRNA   0.004971467   \n",
       "7SK      -0.022168325   \n",
       "A1BG      0.076958338   \n",
       "A1BG-AS1  0.163976741   \n",
       "A1CF     -0.294191723   \n",
       "A2M       0.136672103   "
      ]
     },
     "metadata": {},
     "output_type": "display_data"
    }
   ],
   "source": [
    "mat <- read.csv('./GSE111889_gene_corr_nor_counts_new_sc_ref.csv')\n",
    "mat %>% head"
   ]
  },
  {
   "cell_type": "code",
   "execution_count": 17,
   "id": "following-sector",
   "metadata": {},
   "outputs": [
    {
     "data": {
      "text/html": [
       "<table class=\"dataframe\">\n",
       "<caption>A data.frame: 6 × 2</caption>\n",
       "<thead>\n",
       "\t<tr><th></th><th scope=col>corr_with_genes</th><th scope=col>highlight</th></tr>\n",
       "\t<tr><th></th><th scope=col>&lt;dbl&gt;</th><th scope=col>&lt;chr&gt;</th></tr>\n",
       "</thead>\n",
       "<tbody>\n",
       "\t<tr><th scope=row>5S_rRNA</th><td> 0.004971467</td><td>no</td></tr>\n",
       "\t<tr><th scope=row>7SK</th><td>-0.022168325</td><td>no</td></tr>\n",
       "\t<tr><th scope=row>A1BG</th><td> 0.076958338</td><td>no</td></tr>\n",
       "\t<tr><th scope=row>A1BG-AS1</th><td> 0.163976741</td><td>no</td></tr>\n",
       "\t<tr><th scope=row>A1CF</th><td>-0.294191723</td><td>no</td></tr>\n",
       "\t<tr><th scope=row>A2M</th><td> 0.136672103</td><td>no</td></tr>\n",
       "</tbody>\n",
       "</table>\n"
      ],
      "text/latex": [
       "A data.frame: 6 × 2\n",
       "\\begin{tabular}{r|ll}\n",
       "  & corr\\_with\\_genes & highlight\\\\\n",
       "  & <dbl> & <chr>\\\\\n",
       "\\hline\n",
       "\t5S\\_rRNA &  0.004971467 & no\\\\\n",
       "\t7SK & -0.022168325 & no\\\\\n",
       "\tA1BG &  0.076958338 & no\\\\\n",
       "\tA1BG-AS1 &  0.163976741 & no\\\\\n",
       "\tA1CF & -0.294191723 & no\\\\\n",
       "\tA2M &  0.136672103 & no\\\\\n",
       "\\end{tabular}\n"
      ],
      "text/markdown": [
       "\n",
       "A data.frame: 6 × 2\n",
       "\n",
       "| <!--/--> | corr_with_genes &lt;dbl&gt; | highlight &lt;chr&gt; |\n",
       "|---|---|---|\n",
       "| 5S_rRNA |  0.004971467 | no |\n",
       "| 7SK | -0.022168325 | no |\n",
       "| A1BG |  0.076958338 | no |\n",
       "| A1BG-AS1 |  0.163976741 | no |\n",
       "| A1CF | -0.294191723 | no |\n",
       "| A2M |  0.136672103 | no |\n",
       "\n"
      ],
      "text/plain": [
       "         corr_with_genes highlight\n",
       "5S_rRNA   0.004971467    no       \n",
       "7SK      -0.022168325    no       \n",
       "A1BG      0.076958338    no       \n",
       "A1BG-AS1  0.163976741    no       \n",
       "A1CF     -0.294191723    no       \n",
       "A2M       0.136672103    no       "
      ]
     },
     "metadata": {},
     "output_type": "display_data"
    }
   ],
   "source": [
    "mat <- as.data.frame(mat)\n",
    "mat$highlight <- rep('no', nrow(mat))\n",
    "mat %>% head"
   ]
  },
  {
   "cell_type": "code",
   "execution_count": 18,
   "id": "endangered-cartridge",
   "metadata": {},
   "outputs": [],
   "source": [
    "gene_list <- c('MUC6','MUC5AC','BPIFB1','AQP5','ACKR1','PROK2','CXCR1','CXCR2','FCGR3B')\n",
    "mat[gene_list, 'highlight'] <- 'yes'"
   ]
  },
  {
   "cell_type": "code",
   "execution_count": 19,
   "id": "ethical-commercial",
   "metadata": {},
   "outputs": [
    {
     "data": {
      "text/html": [
       "<table class=\"dataframe\">\n",
       "<caption>A data.frame: 6 × 2</caption>\n",
       "<thead>\n",
       "\t<tr><th></th><th scope=col>corr_with_genes</th><th scope=col>highlight</th></tr>\n",
       "\t<tr><th></th><th scope=col>&lt;dbl&gt;</th><th scope=col>&lt;chr&gt;</th></tr>\n",
       "</thead>\n",
       "<tbody>\n",
       "\t<tr><th scope=row>5S_rRNA</th><td> 0.004971467</td><td>no</td></tr>\n",
       "\t<tr><th scope=row>7SK</th><td>-0.022168325</td><td>no</td></tr>\n",
       "\t<tr><th scope=row>A1BG</th><td> 0.076958338</td><td>no</td></tr>\n",
       "\t<tr><th scope=row>A1BG-AS1</th><td> 0.163976741</td><td>no</td></tr>\n",
       "\t<tr><th scope=row>A1CF</th><td>-0.294191723</td><td>no</td></tr>\n",
       "\t<tr><th scope=row>A2M</th><td> 0.136672103</td><td>no</td></tr>\n",
       "</tbody>\n",
       "</table>\n"
      ],
      "text/latex": [
       "A data.frame: 6 × 2\n",
       "\\begin{tabular}{r|ll}\n",
       "  & corr\\_with\\_genes & highlight\\\\\n",
       "  & <dbl> & <chr>\\\\\n",
       "\\hline\n",
       "\t5S\\_rRNA &  0.004971467 & no\\\\\n",
       "\t7SK & -0.022168325 & no\\\\\n",
       "\tA1BG &  0.076958338 & no\\\\\n",
       "\tA1BG-AS1 &  0.163976741 & no\\\\\n",
       "\tA1CF & -0.294191723 & no\\\\\n",
       "\tA2M &  0.136672103 & no\\\\\n",
       "\\end{tabular}\n"
      ],
      "text/markdown": [
       "\n",
       "A data.frame: 6 × 2\n",
       "\n",
       "| <!--/--> | corr_with_genes &lt;dbl&gt; | highlight &lt;chr&gt; |\n",
       "|---|---|---|\n",
       "| 5S_rRNA |  0.004971467 | no |\n",
       "| 7SK | -0.022168325 | no |\n",
       "| A1BG |  0.076958338 | no |\n",
       "| A1BG-AS1 |  0.163976741 | no |\n",
       "| A1CF | -0.294191723 | no |\n",
       "| A2M |  0.136672103 | no |\n",
       "\n"
      ],
      "text/plain": [
       "         corr_with_genes highlight\n",
       "5S_rRNA   0.004971467    no       \n",
       "7SK      -0.022168325    no       \n",
       "A1BG      0.076958338    no       \n",
       "A1BG-AS1  0.163976741    no       \n",
       "A1CF     -0.294191723    no       \n",
       "A2M       0.136672103    no       "
      ]
     },
     "metadata": {},
     "output_type": "display_data"
    }
   ],
   "source": [
    "head(mat)"
   ]
  },
  {
   "cell_type": "code",
   "execution_count": 20,
   "id": "listed-roman",
   "metadata": {},
   "outputs": [
    {
     "data": {
      "text/html": [
       "<table class=\"dataframe\">\n",
       "<caption>A data.frame: 6 × 4</caption>\n",
       "<thead>\n",
       "\t<tr><th></th><th scope=col>corr_with_genes</th><th scope=col>highlight</th><th scope=col>x</th><th scope=col>gene</th></tr>\n",
       "\t<tr><th></th><th scope=col>&lt;dbl&gt;</th><th scope=col>&lt;chr&gt;</th><th scope=col>&lt;int&gt;</th><th scope=col>&lt;chr&gt;</th></tr>\n",
       "</thead>\n",
       "<tbody>\n",
       "\t<tr><th scope=row>TCN1</th><td>0.8495605</td><td>no</td><td>1</td><td>TCN1          </td></tr>\n",
       "\t<tr><th scope=row>VTCN1</th><td>0.8313037</td><td>no</td><td>2</td><td>VTCN1         </td></tr>\n",
       "\t<tr><th scope=row>VSIG1</th><td>0.7911281</td><td>no</td><td>3</td><td>VSIG1         </td></tr>\n",
       "\t<tr><th scope=row>SLC4A11</th><td>0.7692750</td><td>no</td><td>4</td><td>SLC4A11       </td></tr>\n",
       "\t<tr><th scope=row>LCN2</th><td>0.7651398</td><td>no</td><td>5</td><td>LCN2          </td></tr>\n",
       "\t<tr><th scope=row>RP11-350J20.12</th><td>0.7609087</td><td>no</td><td>6</td><td>RP11-350J20.12</td></tr>\n",
       "</tbody>\n",
       "</table>\n"
      ],
      "text/latex": [
       "A data.frame: 6 × 4\n",
       "\\begin{tabular}{r|llll}\n",
       "  & corr\\_with\\_genes & highlight & x & gene\\\\\n",
       "  & <dbl> & <chr> & <int> & <chr>\\\\\n",
       "\\hline\n",
       "\tTCN1 & 0.8495605 & no & 1 & TCN1          \\\\\n",
       "\tVTCN1 & 0.8313037 & no & 2 & VTCN1         \\\\\n",
       "\tVSIG1 & 0.7911281 & no & 3 & VSIG1         \\\\\n",
       "\tSLC4A11 & 0.7692750 & no & 4 & SLC4A11       \\\\\n",
       "\tLCN2 & 0.7651398 & no & 5 & LCN2          \\\\\n",
       "\tRP11-350J20.12 & 0.7609087 & no & 6 & RP11-350J20.12\\\\\n",
       "\\end{tabular}\n"
      ],
      "text/markdown": [
       "\n",
       "A data.frame: 6 × 4\n",
       "\n",
       "| <!--/--> | corr_with_genes &lt;dbl&gt; | highlight &lt;chr&gt; | x &lt;int&gt; | gene &lt;chr&gt; |\n",
       "|---|---|---|---|---|\n",
       "| TCN1 | 0.8495605 | no | 1 | TCN1           |\n",
       "| VTCN1 | 0.8313037 | no | 2 | VTCN1          |\n",
       "| VSIG1 | 0.7911281 | no | 3 | VSIG1          |\n",
       "| SLC4A11 | 0.7692750 | no | 4 | SLC4A11        |\n",
       "| LCN2 | 0.7651398 | no | 5 | LCN2           |\n",
       "| RP11-350J20.12 | 0.7609087 | no | 6 | RP11-350J20.12 |\n",
       "\n"
      ],
      "text/plain": [
       "               corr_with_genes highlight x gene          \n",
       "TCN1           0.8495605       no        1 TCN1          \n",
       "VTCN1          0.8313037       no        2 VTCN1         \n",
       "VSIG1          0.7911281       no        3 VSIG1         \n",
       "SLC4A11        0.7692750       no        4 SLC4A11       \n",
       "LCN2           0.7651398       no        5 LCN2          \n",
       "RP11-350J20.12 0.7609087       no        6 RP11-350J20.12"
      ]
     },
     "metadata": {},
     "output_type": "display_data"
    }
   ],
   "source": [
    "mat <- mat[order(mat$corr_with_genes, decreasing=T), ]\n",
    "mat$x <- 1:nrow(mat)\n",
    "mat$gene <- rownames(mat)\n",
    "mat %>% head"
   ]
  },
  {
   "cell_type": "code",
   "execution_count": 22,
   "id": "involved-processor",
   "metadata": {},
   "outputs": [
    {
     "data": {
      "image/png": "[encoded data removed]",
      "text/plain": [
       "plot without title"
      ]
     },
     "metadata": {
      "image/png": {
       "height": 420,
       "width": 420
      }
     },
     "output_type": "display_data"
    }
   ],
   "source": [
    "library(tidyverse)\n",
    "library(ggrepel)\n",
    "library(ggfun)\n",
    "library(grid)\n",
    "\n",
    "ggplot(mat %>% arrange(highlight),\n",
    "       aes(x = x, y = corr_with_genes, color = highlight, \n",
    "           size = highlight, shape = highlight)) +\n",
    "       geom_point() + \n",
    "       scale_color_manual(values = c(no = 'grey80', yes = 'black')) + \n",
    "       scale_size_manual(values = c(no = 1, yes = 4)) + \n",
    "       scale_shape_manual(values = c(no = 1, yes = 20)) + \n",
    "geom_text_repel(data =  mat %>% filter(highlight == 'yes'),\n",
    "                aes(x = x, y = corr_with_genes, label = gene),\n",
    "                box.padding = 0.5,\n",
    "                nudge_x = 0.2,\n",
    "                nudge_y = 0.2,\n",
    "                segment.curvature = -0.1,\n",
    "                segment.ncp = 3,\n",
    "                segment.angle = 10,\n",
    "                direction = \"x\", \n",
    "                hjust = \"right\",\n",
    "                force = 5,\n",
    "                point.padding = 1\n",
    "                  ) +        \n",
    "theme_bw()\n",
    "ggsave(\"figures/GSE111889_gene_corr_nor_counts_new_sc_ref.pdf\", width = 6.5, height = 6)"
   ]
  },
  {
   "cell_type": "code",
   "execution_count": 86,
   "id": "cooked-candy",
   "metadata": {},
   "outputs": [
    {
     "data": {
      "image/png": "[encoded data removed]",
      "text/plain": [
       "plot without title"
      ]
     },
     "metadata": {
      "image/png": {
       "height": 420,
       "width": 420
      }
     },
     "output_type": "display_data"
    }
   ],
   "source": [
    "mm <- sort(Corr[1,],decreasing=T)\n",
    "par(las=1);plot(mm, col=\"grey\")\n",
    "text(which(names(mm)=='SPI1')+3000, mm[which(names(mm)=='SPI1')], labels='SPI1')\n",
    "text(which(names(mm)=='CXCR1')+4000, mm[which(names(mm)=='CXCR1')], labels='CXCR1')\n",
    "text(which(names(mm)=='CXCR2')+11000, mm[which(names(mm)=='CXCR2')], labels='CXCR2')\n",
    "text(which(names(mm)=='MUC6')+8000, mm[which(names(mm)=='MUC6')], labels='MUC6')\n",
    "text(which(names(mm)=='BPIFB1')+13000, mm[which(names(mm)=='BPIFB1')], labels='BPIFB1')\n",
    "text(which(names(mm)=='AQP5')+3000, mm[which(names(mm)=='AQP5')], labels='AQP5')\n",
    "text(which(names(mm)=='ACKR1')+9000, mm[which(names(mm)=='ACKR1')], labels='ACKR1')\n",
    "text(which(names(mm)=='MUC5AC')+17000, mm[which(names(mm)=='MUC5AC')], labels='MUC5AC')"
   ]
  },
  {
   "cell_type": "code",
   "execution_count": 87,
   "id": "major-colorado",
   "metadata": {},
   "outputs": [
    {
     "data": {
      "text/html": [
       "<strong>png:</strong> 2"
      ],
      "text/latex": [
       "\\textbf{png:} 2"
      ],
      "text/markdown": [
       "**png:** 2"
      ],
      "text/plain": [
       "png \n",
       "  2 "
      ]
     },
     "metadata": {},
     "output_type": "display_data"
    }
   ],
   "source": [
    "pdf(\"GSE111889_gene_corr_nor_counts.pdf\", w=7, h=7)\n",
    "mm <- sort(Corr[1,],decreasing=T)\n",
    "par(las=1);plot(mm, col=\"grey\")\n",
    "text(which(names(mm)=='SPI1')+3000, mm[which(names(mm)=='SPI1')], labels='SPI1')\n",
    "text(which(names(mm)=='CXCR1')+4000, mm[which(names(mm)=='CXCR1')], labels='CXCR1')\n",
    "text(which(names(mm)=='CXCR2')+11000, mm[which(names(mm)=='CXCR2')], labels='CXCR2')\n",
    "text(which(names(mm)=='MUC6')+8000, mm[which(names(mm)=='MUC6')], labels='MUC6')\n",
    "text(which(names(mm)=='BPIFB1')+13000, mm[which(names(mm)=='BPIFB1')], labels='BPIFB1')\n",
    "text(which(names(mm)=='AQP5')+3000, mm[which(names(mm)=='AQP5')], labels='AQP5')\n",
    "text(which(names(mm)=='ACKR1')+9000, mm[which(names(mm)=='ACKR1')], labels='ACKR1')\n",
    "text(which(names(mm)=='MUC5AC')+17000, mm[which(names(mm)=='MUC5AC')], labels='MUC5AC')\n",
    "dev.off()"
   ]
  },
  {
   "cell_type": "code",
   "execution_count": 25,
   "id": "composed-laundry",
   "metadata": {},
   "outputs": [],
   "source": [
    "write.csv(Corr[1,], file=\"./GSE111889_gene_corr_nor_counts.csv\",quote=F)"
   ]
  },
  {
   "cell_type": "markdown",
   "id": "herbal-manor",
   "metadata": {},
   "source": [
    "#### E_MTAB_5464"
   ]
  },
  {
   "cell_type": "code",
   "execution_count": 31,
   "id": "played-crime",
   "metadata": {},
   "outputs": [],
   "source": [
    "load('/lustre/scratch126/cellgen/team205/rl20/Gut/BayesPrism_out/E_MTAB_5464_fine_grained_annot_disease_only_new_sc_ref.rdata')"
   ]
  },
  {
   "cell_type": "code",
   "execution_count": 32,
   "id": "bearing-fancy",
   "metadata": {},
   "outputs": [
    {
     "data": {
      "text/html": [
       "<table class=\"dataframe\">\n",
       "<caption>A matrix: 6 × 74 of type dbl</caption>\n",
       "<thead>\n",
       "\t<tr><th></th><th scope=col>Trm_Th17</th><th scope=col>Trm/em_CD8</th><th scope=col>Tfh_naive</th><th scope=col>B_plasma_IgA1</th><th scope=col>TA</th><th scope=col>Enterocyte</th><th scope=col>ILC3</th><th scope=col>Treg_IL10</th><th scope=col>Goblet_progenitor</th><th scope=col>Monocyte</th><th scope=col>⋯</th><th scope=col>Glial_2</th><th scope=col>Neuroblast</th><th scope=col>Macrophage_LYVE1</th><th scope=col>DC_langerhans</th><th scope=col>Glial_1</th><th scope=col>Oesophagus_fibroblast</th><th scope=col>Immune_recruiting_pericyte</th><th scope=col>Rectum_fibroblast</th><th scope=col>EC_cycling</th><th scope=col>Erythrocytes</th></tr>\n",
       "</thead>\n",
       "<tbody>\n",
       "\t<tr><th scope=row>ERR2270963</th><td>2.951314e-05</td><td>2.664299e-05</td><td>2.218460e-05</td><td>6.677739e-04</td><td>0.002061031</td><td>1.856775e-05</td><td>8.230299e-04</td><td>1.354940e-05</td><td>1.247142e-05</td><td>2.222492e-05</td><td>⋯</td><td>3.441488e-05</td><td>5.603859e-04</td><td>0.015007025</td><td>9.601697e-06</td><td>0.0038145684</td><td>2.572268e-05</td><td>1.118161e-05</td><td>0.0008708424</td><td>1.200945e-05</td><td>9.424722e-05</td></tr>\n",
       "\t<tr><th scope=row>ERR2270964</th><td>1.869904e-04</td><td>4.281146e-05</td><td>1.091165e-03</td><td>2.007211e-03</td><td>0.082537579</td><td>1.652605e-05</td><td>4.271609e-03</td><td>9.964572e-05</td><td>1.195854e-05</td><td>1.531249e-03</td><td>⋯</td><td>1.016272e-03</td><td>5.768424e-05</td><td>0.052020167</td><td>8.320809e-06</td><td>0.0087170073</td><td>1.796966e-03</td><td>1.906560e-05</td><td>0.0132307996</td><td>1.843518e-05</td><td>3.589744e-03</td></tr>\n",
       "\t<tr><th scope=row>ERR2270965</th><td>1.699380e-05</td><td>1.335464e-05</td><td>4.948554e-04</td><td>3.260267e-03</td><td>0.027742600</td><td>1.087527e-05</td><td>2.550994e-03</td><td>4.858923e-05</td><td>3.225356e-03</td><td>1.724041e-05</td><td>⋯</td><td>2.971755e-05</td><td>1.729347e-04</td><td>0.027271100</td><td>1.055214e-05</td><td>0.0026584570</td><td>4.446103e-04</td><td>8.101221e-06</td><td>0.0236921127</td><td>2.015464e-05</td><td>1.140812e-03</td></tr>\n",
       "\t<tr><th scope=row>ERR2270966</th><td>5.110304e-06</td><td>3.546814e-06</td><td>3.772600e-06</td><td>3.383922e-06</td><td>0.143832870</td><td>1.989847e-05</td><td>4.643801e-06</td><td>3.601205e-06</td><td>2.551983e-05</td><td>3.951243e-06</td><td>⋯</td><td>9.537270e-06</td><td>2.858685e-03</td><td>0.001726533</td><td>8.638235e-06</td><td>0.0023985396</td><td>2.926699e-05</td><td>1.397528e-05</td><td>0.0014805386</td><td>1.639948e-05</td><td>2.313965e-05</td></tr>\n",
       "\t<tr><th scope=row>ERR2270967</th><td>5.427199e-06</td><td>3.764581e-06</td><td>5.088888e-06</td><td>6.244020e-06</td><td>0.065079888</td><td>8.275642e-03</td><td>1.849902e-03</td><td>4.983317e-06</td><td>1.745305e-05</td><td>3.706057e-06</td><td>⋯</td><td>7.915511e-06</td><td>2.225072e-03</td><td>0.006442722</td><td>2.461827e-06</td><td>0.0023961293</td><td>2.254677e-05</td><td>6.725643e-05</td><td>0.0067124625</td><td>4.462196e-04</td><td>8.897948e-05</td></tr>\n",
       "\t<tr><th scope=row>ERR2270968</th><td>3.137116e-06</td><td>2.842193e-06</td><td>3.255146e-06</td><td>5.105841e-06</td><td>0.054227933</td><td>5.290546e-06</td><td>2.856975e-03</td><td>3.091161e-06</td><td>3.907945e-06</td><td>2.783837e-06</td><td>⋯</td><td>5.153541e-06</td><td>5.324750e-04</td><td>0.003794623</td><td>7.845229e-06</td><td>0.0001318338</td><td>4.294372e-05</td><td>2.287396e-05</td><td>0.0009927610</td><td>1.349907e-03</td><td>6.127315e-06</td></tr>\n",
       "</tbody>\n",
       "</table>\n"
      ],
      "text/latex": [
       "A matrix: 6 × 74 of type dbl\n",
       "\\begin{tabular}{r|lllllllllllllllllllll}\n",
       "  & Trm\\_Th17 & Trm/em\\_CD8 & Tfh\\_naive & B\\_plasma\\_IgA1 & TA & Enterocyte & ILC3 & Treg\\_IL10 & Goblet\\_progenitor & Monocyte & ⋯ & Glial\\_2 & Neuroblast & Macrophage\\_LYVE1 & DC\\_langerhans & Glial\\_1 & Oesophagus\\_fibroblast & Immune\\_recruiting\\_pericyte & Rectum\\_fibroblast & EC\\_cycling & Erythrocytes\\\\\n",
       "\\hline\n",
       "\tERR2270963 & 2.951314e-05 & 2.664299e-05 & 2.218460e-05 & 6.677739e-04 & 0.002061031 & 1.856775e-05 & 8.230299e-04 & 1.354940e-05 & 1.247142e-05 & 2.222492e-05 & ⋯ & 3.441488e-05 & 5.603859e-04 & 0.015007025 & 9.601697e-06 & 0.0038145684 & 2.572268e-05 & 1.118161e-05 & 0.0008708424 & 1.200945e-05 & 9.424722e-05\\\\\n",
       "\tERR2270964 & 1.869904e-04 & 4.281146e-05 & 1.091165e-03 & 2.007211e-03 & 0.082537579 & 1.652605e-05 & 4.271609e-03 & 9.964572e-05 & 1.195854e-05 & 1.531249e-03 & ⋯ & 1.016272e-03 & 5.768424e-05 & 0.052020167 & 8.320809e-06 & 0.0087170073 & 1.796966e-03 & 1.906560e-05 & 0.0132307996 & 1.843518e-05 & 3.589744e-03\\\\\n",
       "\tERR2270965 & 1.699380e-05 & 1.335464e-05 & 4.948554e-04 & 3.260267e-03 & 0.027742600 & 1.087527e-05 & 2.550994e-03 & 4.858923e-05 & 3.225356e-03 & 1.724041e-05 & ⋯ & 2.971755e-05 & 1.729347e-04 & 0.027271100 & 1.055214e-05 & 0.0026584570 & 4.446103e-04 & 8.101221e-06 & 0.0236921127 & 2.015464e-05 & 1.140812e-03\\\\\n",
       "\tERR2270966 & 5.110304e-06 & 3.546814e-06 & 3.772600e-06 & 3.383922e-06 & 0.143832870 & 1.989847e-05 & 4.643801e-06 & 3.601205e-06 & 2.551983e-05 & 3.951243e-06 & ⋯ & 9.537270e-06 & 2.858685e-03 & 0.001726533 & 8.638235e-06 & 0.0023985396 & 2.926699e-05 & 1.397528e-05 & 0.0014805386 & 1.639948e-05 & 2.313965e-05\\\\\n",
       "\tERR2270967 & 5.427199e-06 & 3.764581e-06 & 5.088888e-06 & 6.244020e-06 & 0.065079888 & 8.275642e-03 & 1.849902e-03 & 4.983317e-06 & 1.745305e-05 & 3.706057e-06 & ⋯ & 7.915511e-06 & 2.225072e-03 & 0.006442722 & 2.461827e-06 & 0.0023961293 & 2.254677e-05 & 6.725643e-05 & 0.0067124625 & 4.462196e-04 & 8.897948e-05\\\\\n",
       "\tERR2270968 & 3.137116e-06 & 2.842193e-06 & 3.255146e-06 & 5.105841e-06 & 0.054227933 & 5.290546e-06 & 2.856975e-03 & 3.091161e-06 & 3.907945e-06 & 2.783837e-06 & ⋯ & 5.153541e-06 & 5.324750e-04 & 0.003794623 & 7.845229e-06 & 0.0001318338 & 4.294372e-05 & 2.287396e-05 & 0.0009927610 & 1.349907e-03 & 6.127315e-06\\\\\n",
       "\\end{tabular}\n"
      ],
      "text/markdown": [
       "\n",
       "A matrix: 6 × 74 of type dbl\n",
       "\n",
       "| <!--/--> | Trm_Th17 | Trm/em_CD8 | Tfh_naive | B_plasma_IgA1 | TA | Enterocyte | ILC3 | Treg_IL10 | Goblet_progenitor | Monocyte | ⋯ | Glial_2 | Neuroblast | Macrophage_LYVE1 | DC_langerhans | Glial_1 | Oesophagus_fibroblast | Immune_recruiting_pericyte | Rectum_fibroblast | EC_cycling | Erythrocytes |\n",
       "|---|---|---|---|---|---|---|---|---|---|---|---|---|---|---|---|---|---|---|---|---|---|\n",
       "| ERR2270963 | 2.951314e-05 | 2.664299e-05 | 2.218460e-05 | 6.677739e-04 | 0.002061031 | 1.856775e-05 | 8.230299e-04 | 1.354940e-05 | 1.247142e-05 | 2.222492e-05 | ⋯ | 3.441488e-05 | 5.603859e-04 | 0.015007025 | 9.601697e-06 | 0.0038145684 | 2.572268e-05 | 1.118161e-05 | 0.0008708424 | 1.200945e-05 | 9.424722e-05 |\n",
       "| ERR2270964 | 1.869904e-04 | 4.281146e-05 | 1.091165e-03 | 2.007211e-03 | 0.082537579 | 1.652605e-05 | 4.271609e-03 | 9.964572e-05 | 1.195854e-05 | 1.531249e-03 | ⋯ | 1.016272e-03 | 5.768424e-05 | 0.052020167 | 8.320809e-06 | 0.0087170073 | 1.796966e-03 | 1.906560e-05 | 0.0132307996 | 1.843518e-05 | 3.589744e-03 |\n",
       "| ERR2270965 | 1.699380e-05 | 1.335464e-05 | 4.948554e-04 | 3.260267e-03 | 0.027742600 | 1.087527e-05 | 2.550994e-03 | 4.858923e-05 | 3.225356e-03 | 1.724041e-05 | ⋯ | 2.971755e-05 | 1.729347e-04 | 0.027271100 | 1.055214e-05 | 0.0026584570 | 4.446103e-04 | 8.101221e-06 | 0.0236921127 | 2.015464e-05 | 1.140812e-03 |\n",
       "| ERR2270966 | 5.110304e-06 | 3.546814e-06 | 3.772600e-06 | 3.383922e-06 | 0.143832870 | 1.989847e-05 | 4.643801e-06 | 3.601205e-06 | 2.551983e-05 | 3.951243e-06 | ⋯ | 9.537270e-06 | 2.858685e-03 | 0.001726533 | 8.638235e-06 | 0.0023985396 | 2.926699e-05 | 1.397528e-05 | 0.0014805386 | 1.639948e-05 | 2.313965e-05 |\n",
       "| ERR2270967 | 5.427199e-06 | 3.764581e-06 | 5.088888e-06 | 6.244020e-06 | 0.065079888 | 8.275642e-03 | 1.849902e-03 | 4.983317e-06 | 1.745305e-05 | 3.706057e-06 | ⋯ | 7.915511e-06 | 2.225072e-03 | 0.006442722 | 2.461827e-06 | 0.0023961293 | 2.254677e-05 | 6.725643e-05 | 0.0067124625 | 4.462196e-04 | 8.897948e-05 |\n",
       "| ERR2270968 | 3.137116e-06 | 2.842193e-06 | 3.255146e-06 | 5.105841e-06 | 0.054227933 | 5.290546e-06 | 2.856975e-03 | 3.091161e-06 | 3.907945e-06 | 2.783837e-06 | ⋯ | 5.153541e-06 | 5.324750e-04 | 0.003794623 | 7.845229e-06 | 0.0001318338 | 4.294372e-05 | 2.287396e-05 | 0.0009927610 | 1.349907e-03 | 6.127315e-06 |\n",
       "\n"
      ],
      "text/plain": [
       "           Trm_Th17     Trm/em_CD8   Tfh_naive    B_plasma_IgA1 TA         \n",
       "ERR2270963 2.951314e-05 2.664299e-05 2.218460e-05 6.677739e-04  0.002061031\n",
       "ERR2270964 1.869904e-04 4.281146e-05 1.091165e-03 2.007211e-03  0.082537579\n",
       "ERR2270965 1.699380e-05 1.335464e-05 4.948554e-04 3.260267e-03  0.027742600\n",
       "ERR2270966 5.110304e-06 3.546814e-06 3.772600e-06 3.383922e-06  0.143832870\n",
       "ERR2270967 5.427199e-06 3.764581e-06 5.088888e-06 6.244020e-06  0.065079888\n",
       "ERR2270968 3.137116e-06 2.842193e-06 3.255146e-06 5.105841e-06  0.054227933\n",
       "           Enterocyte   ILC3         Treg_IL10    Goblet_progenitor\n",
       "ERR2270963 1.856775e-05 8.230299e-04 1.354940e-05 1.247142e-05     \n",
       "ERR2270964 1.652605e-05 4.271609e-03 9.964572e-05 1.195854e-05     \n",
       "ERR2270965 1.087527e-05 2.550994e-03 4.858923e-05 3.225356e-03     \n",
       "ERR2270966 1.989847e-05 4.643801e-06 3.601205e-06 2.551983e-05     \n",
       "ERR2270967 8.275642e-03 1.849902e-03 4.983317e-06 1.745305e-05     \n",
       "ERR2270968 5.290546e-06 2.856975e-03 3.091161e-06 3.907945e-06     \n",
       "           Monocyte     ⋯ Glial_2      Neuroblast   Macrophage_LYVE1\n",
       "ERR2270963 2.222492e-05 ⋯ 3.441488e-05 5.603859e-04 0.015007025     \n",
       "ERR2270964 1.531249e-03 ⋯ 1.016272e-03 5.768424e-05 0.052020167     \n",
       "ERR2270965 1.724041e-05 ⋯ 2.971755e-05 1.729347e-04 0.027271100     \n",
       "ERR2270966 3.951243e-06 ⋯ 9.537270e-06 2.858685e-03 0.001726533     \n",
       "ERR2270967 3.706057e-06 ⋯ 7.915511e-06 2.225072e-03 0.006442722     \n",
       "ERR2270968 2.783837e-06 ⋯ 5.153541e-06 5.324750e-04 0.003794623     \n",
       "           DC_langerhans Glial_1      Oesophagus_fibroblast\n",
       "ERR2270963 9.601697e-06  0.0038145684 2.572268e-05         \n",
       "ERR2270964 8.320809e-06  0.0087170073 1.796966e-03         \n",
       "ERR2270965 1.055214e-05  0.0026584570 4.446103e-04         \n",
       "ERR2270966 8.638235e-06  0.0023985396 2.926699e-05         \n",
       "ERR2270967 2.461827e-06  0.0023961293 2.254677e-05         \n",
       "ERR2270968 7.845229e-06  0.0001318338 4.294372e-05         \n",
       "           Immune_recruiting_pericyte Rectum_fibroblast EC_cycling  \n",
       "ERR2270963 1.118161e-05               0.0008708424      1.200945e-05\n",
       "ERR2270964 1.906560e-05               0.0132307996      1.843518e-05\n",
       "ERR2270965 8.101221e-06               0.0236921127      2.015464e-05\n",
       "ERR2270966 1.397528e-05               0.0014805386      1.639948e-05\n",
       "ERR2270967 6.725643e-05               0.0067124625      4.462196e-04\n",
       "ERR2270968 2.287396e-05               0.0009927610      1.349907e-03\n",
       "           Erythrocytes\n",
       "ERR2270963 9.424722e-05\n",
       "ERR2270964 3.589744e-03\n",
       "ERR2270965 1.140812e-03\n",
       "ERR2270966 2.313965e-05\n",
       "ERR2270967 8.897948e-05\n",
       "ERR2270968 6.127315e-06"
      ]
     },
     "metadata": {},
     "output_type": "display_data"
    }
   ],
   "source": [
    "theta <- get.fraction(bp=bp.res,\n",
    "            which.theta=\"final\",\n",
    "            state.or.type=\"type\")\n",
    "\n",
    "head(theta)"
   ]
  },
  {
   "cell_type": "code",
   "execution_count": 33,
   "id": "novel-measurement",
   "metadata": {},
   "outputs": [
    {
     "data": {
      "text/html": [
       "<table class=\"dataframe\">\n",
       "<caption>A matrix: 6 × 74 of type dbl</caption>\n",
       "<thead>\n",
       "\t<tr><th></th><th scope=col>Trm_Th17</th><th scope=col>Trm/em_CD8</th><th scope=col>Tfh_naive</th><th scope=col>B_plasma_IgA1</th><th scope=col>TA</th><th scope=col>Enterocyte</th><th scope=col>ILC3</th><th scope=col>Treg_IL10</th><th scope=col>Goblet_progenitor</th><th scope=col>Monocyte</th><th scope=col>⋯</th><th scope=col>Glial_2</th><th scope=col>Neuroblast</th><th scope=col>Macrophage_LYVE1</th><th scope=col>DC_langerhans</th><th scope=col>Glial_1</th><th scope=col>Oesophagus_fibroblast</th><th scope=col>Immune_recruiting_pericyte</th><th scope=col>Rectum_fibroblast</th><th scope=col>EC_cycling</th><th scope=col>Erythrocytes</th></tr>\n",
       "</thead>\n",
       "<tbody>\n",
       "\t<tr><th scope=row>Trm_Th17</th><td> 1.00000000</td><td> 0.05517598</td><td> 0.97622487</td><td> 0.98631594</td><td>-0.08266998</td><td>-0.10948898</td><td>-0.118461408</td><td> 0.01744693</td><td>-0.03447638</td><td> 0.1959724</td><td>⋯</td><td> 0.32755380</td><td>-0.04966750</td><td> 0.68504590</td><td> 0.01312724</td><td> 0.1195044</td><td>-0.02271444</td><td>-0.08172260</td><td> 0.11111604</td><td>-0.09187066</td><td> 0.1784400</td></tr>\n",
       "\t<tr><th scope=row>Trm/em_CD8</th><td> 0.05517598</td><td> 1.00000000</td><td>-0.03699671</td><td>-0.02438029</td><td> 0.10553879</td><td>-0.21450128</td><td>-0.163285663</td><td> 0.35861864</td><td>-0.05798176</td><td> 0.2653429</td><td>⋯</td><td> 0.22674026</td><td> 0.05189224</td><td> 0.13059186</td><td> 0.06667676</td><td> 0.1383690</td><td> 0.25237115</td><td>-0.02207939</td><td> 0.30432133</td><td>-0.11931184</td><td> 0.2903059</td></tr>\n",
       "\t<tr><th scope=row>Tfh_naive</th><td> 0.97622487</td><td>-0.03699671</td><td> 1.00000000</td><td> 0.98908790</td><td>-0.12079671</td><td>-0.06219286</td><td>-0.025449408</td><td>-0.03820707</td><td>-0.04683478</td><td> 0.1543791</td><td>⋯</td><td> 0.30551244</td><td>-0.05737073</td><td> 0.70347538</td><td> 0.05422281</td><td> 0.1066299</td><td>-0.02978820</td><td>-0.04266761</td><td> 0.04106863</td><td>-0.07098293</td><td> 0.1366074</td></tr>\n",
       "\t<tr><th scope=row>B_plasma_IgA1</th><td> 0.98631594</td><td>-0.02438029</td><td> 0.98908790</td><td> 1.00000000</td><td>-0.11151919</td><td>-0.09724804</td><td>-0.079379392</td><td>-0.02320992</td><td>-0.04326073</td><td> 0.1398564</td><td>⋯</td><td> 0.31464576</td><td>-0.04142663</td><td> 0.70864223</td><td> 0.01882764</td><td> 0.1340207</td><td>-0.02133778</td><td>-0.06499619</td><td> 0.05943628</td><td>-0.06848691</td><td> 0.1230360</td></tr>\n",
       "\t<tr><th scope=row>TA</th><td>-0.08266998</td><td> 0.10553879</td><td>-0.12079671</td><td>-0.11151919</td><td> 1.00000000</td><td>-0.38003690</td><td>-0.341867039</td><td> 0.04693382</td><td>-0.05696488</td><td> 0.3524088</td><td>⋯</td><td>-0.11412230</td><td> 0.05024597</td><td>-0.04240208</td><td>-0.07366518</td><td> 0.4294110</td><td> 0.17431524</td><td>-0.10268680</td><td>-0.05808030</td><td>-0.05620070</td><td> 0.2524790</td></tr>\n",
       "\t<tr><th scope=row>Enterocyte</th><td>-0.10948898</td><td>-0.21450128</td><td>-0.06219286</td><td>-0.09724804</td><td>-0.38003690</td><td> 1.00000000</td><td>-0.006706317</td><td>-0.15341402</td><td>-0.17041540</td><td>-0.1218712</td><td>⋯</td><td>-0.08850789</td><td>-0.50102363</td><td>-0.39977132</td><td>-0.09548668</td><td>-0.5819016</td><td>-0.19686264</td><td> 0.21938133</td><td>-0.40046149</td><td>-0.08431629</td><td>-0.1707500</td></tr>\n",
       "</tbody>\n",
       "</table>\n"
      ],
      "text/latex": [
       "A matrix: 6 × 74 of type dbl\n",
       "\\begin{tabular}{r|lllllllllllllllllllll}\n",
       "  & Trm\\_Th17 & Trm/em\\_CD8 & Tfh\\_naive & B\\_plasma\\_IgA1 & TA & Enterocyte & ILC3 & Treg\\_IL10 & Goblet\\_progenitor & Monocyte & ⋯ & Glial\\_2 & Neuroblast & Macrophage\\_LYVE1 & DC\\_langerhans & Glial\\_1 & Oesophagus\\_fibroblast & Immune\\_recruiting\\_pericyte & Rectum\\_fibroblast & EC\\_cycling & Erythrocytes\\\\\n",
       "\\hline\n",
       "\tTrm\\_Th17 &  1.00000000 &  0.05517598 &  0.97622487 &  0.98631594 & -0.08266998 & -0.10948898 & -0.118461408 &  0.01744693 & -0.03447638 &  0.1959724 & ⋯ &  0.32755380 & -0.04966750 &  0.68504590 &  0.01312724 &  0.1195044 & -0.02271444 & -0.08172260 &  0.11111604 & -0.09187066 &  0.1784400\\\\\n",
       "\tTrm/em\\_CD8 &  0.05517598 &  1.00000000 & -0.03699671 & -0.02438029 &  0.10553879 & -0.21450128 & -0.163285663 &  0.35861864 & -0.05798176 &  0.2653429 & ⋯ &  0.22674026 &  0.05189224 &  0.13059186 &  0.06667676 &  0.1383690 &  0.25237115 & -0.02207939 &  0.30432133 & -0.11931184 &  0.2903059\\\\\n",
       "\tTfh\\_naive &  0.97622487 & -0.03699671 &  1.00000000 &  0.98908790 & -0.12079671 & -0.06219286 & -0.025449408 & -0.03820707 & -0.04683478 &  0.1543791 & ⋯ &  0.30551244 & -0.05737073 &  0.70347538 &  0.05422281 &  0.1066299 & -0.02978820 & -0.04266761 &  0.04106863 & -0.07098293 &  0.1366074\\\\\n",
       "\tB\\_plasma\\_IgA1 &  0.98631594 & -0.02438029 &  0.98908790 &  1.00000000 & -0.11151919 & -0.09724804 & -0.079379392 & -0.02320992 & -0.04326073 &  0.1398564 & ⋯ &  0.31464576 & -0.04142663 &  0.70864223 &  0.01882764 &  0.1340207 & -0.02133778 & -0.06499619 &  0.05943628 & -0.06848691 &  0.1230360\\\\\n",
       "\tTA & -0.08266998 &  0.10553879 & -0.12079671 & -0.11151919 &  1.00000000 & -0.38003690 & -0.341867039 &  0.04693382 & -0.05696488 &  0.3524088 & ⋯ & -0.11412230 &  0.05024597 & -0.04240208 & -0.07366518 &  0.4294110 &  0.17431524 & -0.10268680 & -0.05808030 & -0.05620070 &  0.2524790\\\\\n",
       "\tEnterocyte & -0.10948898 & -0.21450128 & -0.06219286 & -0.09724804 & -0.38003690 &  1.00000000 & -0.006706317 & -0.15341402 & -0.17041540 & -0.1218712 & ⋯ & -0.08850789 & -0.50102363 & -0.39977132 & -0.09548668 & -0.5819016 & -0.19686264 &  0.21938133 & -0.40046149 & -0.08431629 & -0.1707500\\\\\n",
       "\\end{tabular}\n"
      ],
      "text/markdown": [
       "\n",
       "A matrix: 6 × 74 of type dbl\n",
       "\n",
       "| <!--/--> | Trm_Th17 | Trm/em_CD8 | Tfh_naive | B_plasma_IgA1 | TA | Enterocyte | ILC3 | Treg_IL10 | Goblet_progenitor | Monocyte | ⋯ | Glial_2 | Neuroblast | Macrophage_LYVE1 | DC_langerhans | Glial_1 | Oesophagus_fibroblast | Immune_recruiting_pericyte | Rectum_fibroblast | EC_cycling | Erythrocytes |\n",
       "|---|---|---|---|---|---|---|---|---|---|---|---|---|---|---|---|---|---|---|---|---|---|\n",
       "| Trm_Th17 |  1.00000000 |  0.05517598 |  0.97622487 |  0.98631594 | -0.08266998 | -0.10948898 | -0.118461408 |  0.01744693 | -0.03447638 |  0.1959724 | ⋯ |  0.32755380 | -0.04966750 |  0.68504590 |  0.01312724 |  0.1195044 | -0.02271444 | -0.08172260 |  0.11111604 | -0.09187066 |  0.1784400 |\n",
       "| Trm/em_CD8 |  0.05517598 |  1.00000000 | -0.03699671 | -0.02438029 |  0.10553879 | -0.21450128 | -0.163285663 |  0.35861864 | -0.05798176 |  0.2653429 | ⋯ |  0.22674026 |  0.05189224 |  0.13059186 |  0.06667676 |  0.1383690 |  0.25237115 | -0.02207939 |  0.30432133 | -0.11931184 |  0.2903059 |\n",
       "| Tfh_naive |  0.97622487 | -0.03699671 |  1.00000000 |  0.98908790 | -0.12079671 | -0.06219286 | -0.025449408 | -0.03820707 | -0.04683478 |  0.1543791 | ⋯ |  0.30551244 | -0.05737073 |  0.70347538 |  0.05422281 |  0.1066299 | -0.02978820 | -0.04266761 |  0.04106863 | -0.07098293 |  0.1366074 |\n",
       "| B_plasma_IgA1 |  0.98631594 | -0.02438029 |  0.98908790 |  1.00000000 | -0.11151919 | -0.09724804 | -0.079379392 | -0.02320992 | -0.04326073 |  0.1398564 | ⋯ |  0.31464576 | -0.04142663 |  0.70864223 |  0.01882764 |  0.1340207 | -0.02133778 | -0.06499619 |  0.05943628 | -0.06848691 |  0.1230360 |\n",
       "| TA | -0.08266998 |  0.10553879 | -0.12079671 | -0.11151919 |  1.00000000 | -0.38003690 | -0.341867039 |  0.04693382 | -0.05696488 |  0.3524088 | ⋯ | -0.11412230 |  0.05024597 | -0.04240208 | -0.07366518 |  0.4294110 |  0.17431524 | -0.10268680 | -0.05808030 | -0.05620070 |  0.2524790 |\n",
       "| Enterocyte | -0.10948898 | -0.21450128 | -0.06219286 | -0.09724804 | -0.38003690 |  1.00000000 | -0.006706317 | -0.15341402 | -0.17041540 | -0.1218712 | ⋯ | -0.08850789 | -0.50102363 | -0.39977132 | -0.09548668 | -0.5819016 | -0.19686264 |  0.21938133 | -0.40046149 | -0.08431629 | -0.1707500 |\n",
       "\n"
      ],
      "text/plain": [
       "              Trm_Th17    Trm/em_CD8  Tfh_naive   B_plasma_IgA1 TA         \n",
       "Trm_Th17       1.00000000  0.05517598  0.97622487  0.98631594   -0.08266998\n",
       "Trm/em_CD8     0.05517598  1.00000000 -0.03699671 -0.02438029    0.10553879\n",
       "Tfh_naive      0.97622487 -0.03699671  1.00000000  0.98908790   -0.12079671\n",
       "B_plasma_IgA1  0.98631594 -0.02438029  0.98908790  1.00000000   -0.11151919\n",
       "TA            -0.08266998  0.10553879 -0.12079671 -0.11151919    1.00000000\n",
       "Enterocyte    -0.10948898 -0.21450128 -0.06219286 -0.09724804   -0.38003690\n",
       "              Enterocyte  ILC3         Treg_IL10   Goblet_progenitor Monocyte  \n",
       "Trm_Th17      -0.10948898 -0.118461408  0.01744693 -0.03447638        0.1959724\n",
       "Trm/em_CD8    -0.21450128 -0.163285663  0.35861864 -0.05798176        0.2653429\n",
       "Tfh_naive     -0.06219286 -0.025449408 -0.03820707 -0.04683478        0.1543791\n",
       "B_plasma_IgA1 -0.09724804 -0.079379392 -0.02320992 -0.04326073        0.1398564\n",
       "TA            -0.38003690 -0.341867039  0.04693382 -0.05696488        0.3524088\n",
       "Enterocyte     1.00000000 -0.006706317 -0.15341402 -0.17041540       -0.1218712\n",
       "              ⋯ Glial_2     Neuroblast  Macrophage_LYVE1 DC_langerhans\n",
       "Trm_Th17      ⋯  0.32755380 -0.04966750  0.68504590       0.01312724  \n",
       "Trm/em_CD8    ⋯  0.22674026  0.05189224  0.13059186       0.06667676  \n",
       "Tfh_naive     ⋯  0.30551244 -0.05737073  0.70347538       0.05422281  \n",
       "B_plasma_IgA1 ⋯  0.31464576 -0.04142663  0.70864223       0.01882764  \n",
       "TA            ⋯ -0.11412230  0.05024597 -0.04240208      -0.07366518  \n",
       "Enterocyte    ⋯ -0.08850789 -0.50102363 -0.39977132      -0.09548668  \n",
       "              Glial_1    Oesophagus_fibroblast Immune_recruiting_pericyte\n",
       "Trm_Th17       0.1195044 -0.02271444           -0.08172260               \n",
       "Trm/em_CD8     0.1383690  0.25237115           -0.02207939               \n",
       "Tfh_naive      0.1066299 -0.02978820           -0.04266761               \n",
       "B_plasma_IgA1  0.1340207 -0.02133778           -0.06499619               \n",
       "TA             0.4294110  0.17431524           -0.10268680               \n",
       "Enterocyte    -0.5819016 -0.19686264            0.21938133               \n",
       "              Rectum_fibroblast EC_cycling  Erythrocytes\n",
       "Trm_Th17       0.11111604       -0.09187066  0.1784400  \n",
       "Trm/em_CD8     0.30432133       -0.11931184  0.2903059  \n",
       "Tfh_naive      0.04106863       -0.07098293  0.1366074  \n",
       "B_plasma_IgA1  0.05943628       -0.06848691  0.1230360  \n",
       "TA            -0.05808030       -0.05620070  0.2524790  \n",
       "Enterocyte    -0.40046149       -0.08431629 -0.1707500  "
      ]
     },
     "metadata": {},
     "output_type": "display_data"
    }
   ],
   "source": [
    "Corr <- cor(theta)\n",
    "Corr %>% head"
   ]
  },
  {
   "cell_type": "code",
   "execution_count": 34,
   "id": "accessory-riverside",
   "metadata": {},
   "outputs": [
    {
     "data": {
      "text/html": [
       "<table class=\"dataframe\">\n",
       "<caption>A data.frame: 6 × 2</caption>\n",
       "<thead>\n",
       "\t<tr><th></th><th scope=col>corr</th><th scope=col>highlight</th></tr>\n",
       "\t<tr><th></th><th scope=col>&lt;dbl&gt;</th><th scope=col>&lt;chr&gt;</th></tr>\n",
       "</thead>\n",
       "<tbody>\n",
       "\t<tr><th scope=row>Mucous_gland_neck</th><td>1.0000000</td><td>no</td></tr>\n",
       "\t<tr><th scope=row>Erythrocytes</th><td>0.7625740</td><td>no</td></tr>\n",
       "\t<tr><th scope=row>Oral_mucosa_fibroblast</th><td>0.7153624</td><td>no</td></tr>\n",
       "\t<tr><th scope=row>Monocyte</th><td>0.6576322</td><td>no</td></tr>\n",
       "\t<tr><th scope=row>Pericyte</th><td>0.6492290</td><td>no</td></tr>\n",
       "\t<tr><th scope=row>EC_venous</th><td>0.4790791</td><td>no</td></tr>\n",
       "</tbody>\n",
       "</table>\n"
      ],
      "text/latex": [
       "A data.frame: 6 × 2\n",
       "\\begin{tabular}{r|ll}\n",
       "  & corr & highlight\\\\\n",
       "  & <dbl> & <chr>\\\\\n",
       "\\hline\n",
       "\tMucous\\_gland\\_neck & 1.0000000 & no\\\\\n",
       "\tErythrocytes & 0.7625740 & no\\\\\n",
       "\tOral\\_mucosa\\_fibroblast & 0.7153624 & no\\\\\n",
       "\tMonocyte & 0.6576322 & no\\\\\n",
       "\tPericyte & 0.6492290 & no\\\\\n",
       "\tEC\\_venous & 0.4790791 & no\\\\\n",
       "\\end{tabular}\n"
      ],
      "text/markdown": [
       "\n",
       "A data.frame: 6 × 2\n",
       "\n",
       "| <!--/--> | corr &lt;dbl&gt; | highlight &lt;chr&gt; |\n",
       "|---|---|---|\n",
       "| Mucous_gland_neck | 1.0000000 | no |\n",
       "| Erythrocytes | 0.7625740 | no |\n",
       "| Oral_mucosa_fibroblast | 0.7153624 | no |\n",
       "| Monocyte | 0.6576322 | no |\n",
       "| Pericyte | 0.6492290 | no |\n",
       "| EC_venous | 0.4790791 | no |\n",
       "\n"
      ],
      "text/plain": [
       "                       corr      highlight\n",
       "Mucous_gland_neck      1.0000000 no       \n",
       "Erythrocytes           0.7625740 no       \n",
       "Oral_mucosa_fibroblast 0.7153624 no       \n",
       "Monocyte               0.6576322 no       \n",
       "Pericyte               0.6492290 no       \n",
       "EC_venous              0.4790791 no       "
      ]
     },
     "metadata": {},
     "output_type": "display_data"
    }
   ],
   "source": [
    "ll <- Corr['Mucous_gland_neck',] %>% sort(decreasing=T)\n",
    "ll <- data.frame(corr = ll, highlight = rep('no', length(ll)))\n",
    "ll %>% head"
   ]
  },
  {
   "cell_type": "code",
   "execution_count": 35,
   "id": "liable-trailer",
   "metadata": {},
   "outputs": [],
   "source": [
    "ll['EC_venous', 'highlight'] <- 'yes'\n",
    "ll$gene <- rownames(ll)\n",
    "ll$x <- 1:nrow(ll)"
   ]
  },
  {
   "cell_type": "code",
   "execution_count": 37,
   "id": "waiting-share",
   "metadata": {},
   "outputs": [
    {
     "data": {
      "image/png": "[encoded data removed]",
      "text/plain": [
       "plot without title"
      ]
     },
     "metadata": {
      "image/png": {
       "height": 420,
       "width": 420
      }
     },
     "output_type": "display_data"
    }
   ],
   "source": [
    "library(tidyverse)\n",
    "library(ggrepel)\n",
    "library(ggfun)\n",
    "library(grid)\n",
    "\n",
    "ggplot(ll %>% arrange(highlight),\n",
    "       aes(x = x, y = corr, color = highlight, \n",
    "           size = highlight, shape = highlight)) +\n",
    "       geom_point() + \n",
    "       scale_color_manual(values = c(no = 'grey50', yes = 'black')) + \n",
    "       scale_size_manual(values = c(no = 2, yes = 4)) + \n",
    "       scale_shape_manual(values = c(no = 1, yes = 20)) + \n",
    "geom_text_repel(data =  ll %>% filter(highlight == 'yes'),\n",
    "                aes(x = x, y = corr, label = gene),\n",
    "                box.padding = 0.5,\n",
    "                nudge_x = 0.2,\n",
    "                nudge_y = 0.2,\n",
    "                segment.curvature = -0.1,\n",
    "                segment.ncp = 3,\n",
    "                segment.angle = 10,\n",
    "                direction = \"x\", \n",
    "                hjust = \"right\",\n",
    "                force = 5,\n",
    "                point.padding = 1\n",
    "                  ) +        \n",
    "theme_bw()\n",
    "ggsave(\"figures/E_MTAB_5464_celltype_corr_new_sc_ref.pdf\", width = 6.2, height = 6)"
   ]
  },
  {
   "cell_type": "code",
   "execution_count": 29,
   "id": "central-joining",
   "metadata": {},
   "outputs": [],
   "source": [
    "#write.csv(Corr['Mucous_gland_neck',] %>% sort(decreasing=T), file='./E_MTAB_5464_cell_type_corr.csv',quote=F)"
   ]
  },
  {
   "cell_type": "code",
   "execution_count": 43,
   "id": "wireless-receiver",
   "metadata": {},
   "outputs": [
    {
     "data": {
      "text/html": [
       "<table class=\"dataframe\">\n",
       "<caption>A data.frame: 6 × 79</caption>\n",
       "<thead>\n",
       "\t<tr><th></th><th scope=col>ERR2271011</th><th scope=col>ERR2271007</th><th scope=col>ERR2271003</th><th scope=col>ERR2270965</th><th scope=col>ERR2270986</th><th scope=col>ERR2271000</th><th scope=col>ERR2270977</th><th scope=col>ERR2270967</th><th scope=col>ERR2270964</th><th scope=col>ERR2271035</th><th scope=col>⋯</th><th scope=col>ERR2270966</th><th scope=col>ERR2271006</th><th scope=col>ERR2270983</th><th scope=col>ERR2270971</th><th scope=col>ERR2271024</th><th scope=col>ERR2270970</th><th scope=col>ERR2271023</th><th scope=col>ERR2271022</th><th scope=col>ERR2270982</th><th scope=col>ERR2271029</th></tr>\n",
       "\t<tr><th></th><th scope=col>&lt;dbl&gt;</th><th scope=col>&lt;dbl&gt;</th><th scope=col>&lt;dbl&gt;</th><th scope=col>&lt;dbl&gt;</th><th scope=col>&lt;dbl&gt;</th><th scope=col>&lt;dbl&gt;</th><th scope=col>&lt;dbl&gt;</th><th scope=col>&lt;dbl&gt;</th><th scope=col>&lt;dbl&gt;</th><th scope=col>&lt;dbl&gt;</th><th scope=col>⋯</th><th scope=col>&lt;dbl&gt;</th><th scope=col>&lt;dbl&gt;</th><th scope=col>&lt;dbl&gt;</th><th scope=col>&lt;dbl&gt;</th><th scope=col>&lt;dbl&gt;</th><th scope=col>&lt;dbl&gt;</th><th scope=col>&lt;dbl&gt;</th><th scope=col>&lt;dbl&gt;</th><th scope=col>&lt;dbl&gt;</th><th scope=col>&lt;dbl&gt;</th></tr>\n",
       "</thead>\n",
       "<tbody>\n",
       "\t<tr><th scope=row>5_8S_rRNA</th><td>   0.0000000</td><td>   0.000000</td><td>   0.000</td><td>  0.000000</td><td>  0.00000</td><td>   0.000000</td><td>  0.0000</td><td>  0.0000000</td><td>  0.0000000</td><td>  0.000000</td><td>⋯</td><td>   0.000000</td><td>  0.000000</td><td>  0.0000</td><td>  0.000000</td><td>  0.000000</td><td>  0.000000</td><td>  0.00000</td><td>  0.000000</td><td>  0.0000</td><td>  0.000000</td></tr>\n",
       "\t<tr><th scope=row>5S_rRNA</th><td>   0.0000000</td><td>   0.000000</td><td>   0.000</td><td>  0.000000</td><td>  0.00000</td><td>   0.000000</td><td>  0.0000</td><td>  0.0000000</td><td>  0.0000000</td><td>  0.000000</td><td>⋯</td><td>   0.000000</td><td>  0.000000</td><td>  0.0000</td><td>  0.000000</td><td>  0.000000</td><td>  0.000000</td><td>  0.00000</td><td>  0.000000</td><td>  0.0000</td><td>  0.000000</td></tr>\n",
       "\t<tr><th scope=row>7SK</th><td>   0.0000000</td><td>   0.000000</td><td>   0.000</td><td>  0.000000</td><td>  0.00000</td><td>   0.000000</td><td>  0.0000</td><td>  0.0000000</td><td>  0.0000000</td><td>  0.000000</td><td>⋯</td><td>   0.000000</td><td>  0.000000</td><td>  0.0000</td><td>  0.000000</td><td>  0.000000</td><td>  0.000000</td><td>  0.00000</td><td>  0.000000</td><td>  0.0000</td><td>  0.000000</td></tr>\n",
       "\t<tr><th scope=row>A1BG</th><td>   1.5475706</td><td>   0.000000</td><td>   0.000</td><td>  1.844166</td><td>  1.80101</td><td>   1.264898</td><td>  0.0000</td><td>  0.0000000</td><td>  0.8343611</td><td>  0.000000</td><td>⋯</td><td>   0.000000</td><td>  2.500222</td><td>  0.0000</td><td>  0.000000</td><td>  2.982270</td><td>  1.699310</td><td>  0.00000</td><td>  2.492910</td><td>  0.0000</td><td>  1.700275</td></tr>\n",
       "\t<tr><th scope=row>A1BG-AS1</th><td>   0.7737853</td><td>   3.332964</td><td>   0.000</td><td>  4.303055</td><td>  0.00000</td><td>   0.000000</td><td>  0.0000</td><td>  0.5211796</td><td> 10.0123327</td><td>  1.660136</td><td>⋯</td><td>   1.299592</td><td>  2.500222</td><td>  0.0000</td><td>  2.360815</td><td>  9.692379</td><td>  5.097931</td><td>  1.28399</td><td>  5.484401</td><td>  0.0000</td><td>  2.833791</td></tr>\n",
       "\t<tr><th scope=row>A1CF</th><td>1575.4268639</td><td>1154.871888</td><td>1852.682</td><td>414.322699</td><td>452.05360</td><td>1745.559789</td><td>744.9487</td><td>568.0857747</td><td>317.8915645</td><td>614.250271</td><td>⋯</td><td>1216.417839</td><td>960.085430</td><td>646.5808</td><td>809.759700</td><td>197.575417</td><td>561.622091</td><td>455.81646</td><td>306.129294</td><td>656.2378</td><td>582.627503</td></tr>\n",
       "</tbody>\n",
       "</table>\n"
      ],
      "text/latex": [
       "A data.frame: 6 × 79\n",
       "\\begin{tabular}{r|lllllllllllllllllllll}\n",
       "  & ERR2271011 & ERR2271007 & ERR2271003 & ERR2270965 & ERR2270986 & ERR2271000 & ERR2270977 & ERR2270967 & ERR2270964 & ERR2271035 & ⋯ & ERR2270966 & ERR2271006 & ERR2270983 & ERR2270971 & ERR2271024 & ERR2270970 & ERR2271023 & ERR2271022 & ERR2270982 & ERR2271029\\\\\n",
       "  & <dbl> & <dbl> & <dbl> & <dbl> & <dbl> & <dbl> & <dbl> & <dbl> & <dbl> & <dbl> & ⋯ & <dbl> & <dbl> & <dbl> & <dbl> & <dbl> & <dbl> & <dbl> & <dbl> & <dbl> & <dbl>\\\\\n",
       "\\hline\n",
       "\t5\\_8S\\_rRNA &    0.0000000 &    0.000000 &    0.000 &   0.000000 &   0.00000 &    0.000000 &   0.0000 &   0.0000000 &   0.0000000 &   0.000000 & ⋯ &    0.000000 &   0.000000 &   0.0000 &   0.000000 &   0.000000 &   0.000000 &   0.00000 &   0.000000 &   0.0000 &   0.000000\\\\\n",
       "\t5S\\_rRNA &    0.0000000 &    0.000000 &    0.000 &   0.000000 &   0.00000 &    0.000000 &   0.0000 &   0.0000000 &   0.0000000 &   0.000000 & ⋯ &    0.000000 &   0.000000 &   0.0000 &   0.000000 &   0.000000 &   0.000000 &   0.00000 &   0.000000 &   0.0000 &   0.000000\\\\\n",
       "\t7SK &    0.0000000 &    0.000000 &    0.000 &   0.000000 &   0.00000 &    0.000000 &   0.0000 &   0.0000000 &   0.0000000 &   0.000000 & ⋯ &    0.000000 &   0.000000 &   0.0000 &   0.000000 &   0.000000 &   0.000000 &   0.00000 &   0.000000 &   0.0000 &   0.000000\\\\\n",
       "\tA1BG &    1.5475706 &    0.000000 &    0.000 &   1.844166 &   1.80101 &    1.264898 &   0.0000 &   0.0000000 &   0.8343611 &   0.000000 & ⋯ &    0.000000 &   2.500222 &   0.0000 &   0.000000 &   2.982270 &   1.699310 &   0.00000 &   2.492910 &   0.0000 &   1.700275\\\\\n",
       "\tA1BG-AS1 &    0.7737853 &    3.332964 &    0.000 &   4.303055 &   0.00000 &    0.000000 &   0.0000 &   0.5211796 &  10.0123327 &   1.660136 & ⋯ &    1.299592 &   2.500222 &   0.0000 &   2.360815 &   9.692379 &   5.097931 &   1.28399 &   5.484401 &   0.0000 &   2.833791\\\\\n",
       "\tA1CF & 1575.4268639 & 1154.871888 & 1852.682 & 414.322699 & 452.05360 & 1745.559789 & 744.9487 & 568.0857747 & 317.8915645 & 614.250271 & ⋯ & 1216.417839 & 960.085430 & 646.5808 & 809.759700 & 197.575417 & 561.622091 & 455.81646 & 306.129294 & 656.2378 & 582.627503\\\\\n",
       "\\end{tabular}\n"
      ],
      "text/markdown": [
       "\n",
       "A data.frame: 6 × 79\n",
       "\n",
       "| <!--/--> | ERR2271011 &lt;dbl&gt; | ERR2271007 &lt;dbl&gt; | ERR2271003 &lt;dbl&gt; | ERR2270965 &lt;dbl&gt; | ERR2270986 &lt;dbl&gt; | ERR2271000 &lt;dbl&gt; | ERR2270977 &lt;dbl&gt; | ERR2270967 &lt;dbl&gt; | ERR2270964 &lt;dbl&gt; | ERR2271035 &lt;dbl&gt; | ⋯ ⋯ | ERR2270966 &lt;dbl&gt; | ERR2271006 &lt;dbl&gt; | ERR2270983 &lt;dbl&gt; | ERR2270971 &lt;dbl&gt; | ERR2271024 &lt;dbl&gt; | ERR2270970 &lt;dbl&gt; | ERR2271023 &lt;dbl&gt; | ERR2271022 &lt;dbl&gt; | ERR2270982 &lt;dbl&gt; | ERR2271029 &lt;dbl&gt; |\n",
       "|---|---|---|---|---|---|---|---|---|---|---|---|---|---|---|---|---|---|---|---|---|---|\n",
       "| 5_8S_rRNA |    0.0000000 |    0.000000 |    0.000 |   0.000000 |   0.00000 |    0.000000 |   0.0000 |   0.0000000 |   0.0000000 |   0.000000 | ⋯ |    0.000000 |   0.000000 |   0.0000 |   0.000000 |   0.000000 |   0.000000 |   0.00000 |   0.000000 |   0.0000 |   0.000000 |\n",
       "| 5S_rRNA |    0.0000000 |    0.000000 |    0.000 |   0.000000 |   0.00000 |    0.000000 |   0.0000 |   0.0000000 |   0.0000000 |   0.000000 | ⋯ |    0.000000 |   0.000000 |   0.0000 |   0.000000 |   0.000000 |   0.000000 |   0.00000 |   0.000000 |   0.0000 |   0.000000 |\n",
       "| 7SK |    0.0000000 |    0.000000 |    0.000 |   0.000000 |   0.00000 |    0.000000 |   0.0000 |   0.0000000 |   0.0000000 |   0.000000 | ⋯ |    0.000000 |   0.000000 |   0.0000 |   0.000000 |   0.000000 |   0.000000 |   0.00000 |   0.000000 |   0.0000 |   0.000000 |\n",
       "| A1BG |    1.5475706 |    0.000000 |    0.000 |   1.844166 |   1.80101 |    1.264898 |   0.0000 |   0.0000000 |   0.8343611 |   0.000000 | ⋯ |    0.000000 |   2.500222 |   0.0000 |   0.000000 |   2.982270 |   1.699310 |   0.00000 |   2.492910 |   0.0000 |   1.700275 |\n",
       "| A1BG-AS1 |    0.7737853 |    3.332964 |    0.000 |   4.303055 |   0.00000 |    0.000000 |   0.0000 |   0.5211796 |  10.0123327 |   1.660136 | ⋯ |    1.299592 |   2.500222 |   0.0000 |   2.360815 |   9.692379 |   5.097931 |   1.28399 |   5.484401 |   0.0000 |   2.833791 |\n",
       "| A1CF | 1575.4268639 | 1154.871888 | 1852.682 | 414.322699 | 452.05360 | 1745.559789 | 744.9487 | 568.0857747 | 317.8915645 | 614.250271 | ⋯ | 1216.417839 | 960.085430 | 646.5808 | 809.759700 | 197.575417 | 561.622091 | 455.81646 | 306.129294 | 656.2378 | 582.627503 |\n",
       "\n"
      ],
      "text/plain": [
       "          ERR2271011   ERR2271007  ERR2271003 ERR2270965 ERR2270986 ERR2271000 \n",
       "5_8S_rRNA    0.0000000    0.000000    0.000     0.000000   0.00000     0.000000\n",
       "5S_rRNA      0.0000000    0.000000    0.000     0.000000   0.00000     0.000000\n",
       "7SK          0.0000000    0.000000    0.000     0.000000   0.00000     0.000000\n",
       "A1BG         1.5475706    0.000000    0.000     1.844166   1.80101     1.264898\n",
       "A1BG-AS1     0.7737853    3.332964    0.000     4.303055   0.00000     0.000000\n",
       "A1CF      1575.4268639 1154.871888 1852.682   414.322699 452.05360  1745.559789\n",
       "          ERR2270977 ERR2270967  ERR2270964  ERR2271035 ⋯ ERR2270966 \n",
       "5_8S_rRNA   0.0000     0.0000000   0.0000000   0.000000 ⋯    0.000000\n",
       "5S_rRNA     0.0000     0.0000000   0.0000000   0.000000 ⋯    0.000000\n",
       "7SK         0.0000     0.0000000   0.0000000   0.000000 ⋯    0.000000\n",
       "A1BG        0.0000     0.0000000   0.8343611   0.000000 ⋯    0.000000\n",
       "A1BG-AS1    0.0000     0.5211796  10.0123327   1.660136 ⋯    1.299592\n",
       "A1CF      744.9487   568.0857747 317.8915645 614.250271 ⋯ 1216.417839\n",
       "          ERR2271006 ERR2270983 ERR2270971 ERR2271024 ERR2270970 ERR2271023\n",
       "5_8S_rRNA   0.000000   0.0000     0.000000   0.000000   0.000000   0.00000 \n",
       "5S_rRNA     0.000000   0.0000     0.000000   0.000000   0.000000   0.00000 \n",
       "7SK         0.000000   0.0000     0.000000   0.000000   0.000000   0.00000 \n",
       "A1BG        2.500222   0.0000     0.000000   2.982270   1.699310   0.00000 \n",
       "A1BG-AS1    2.500222   0.0000     2.360815   9.692379   5.097931   1.28399 \n",
       "A1CF      960.085430 646.5808   809.759700 197.575417 561.622091 455.81646 \n",
       "          ERR2271022 ERR2270982 ERR2271029\n",
       "5_8S_rRNA   0.000000   0.0000     0.000000\n",
       "5S_rRNA     0.000000   0.0000     0.000000\n",
       "7SK         0.000000   0.0000     0.000000\n",
       "A1BG        2.492910   0.0000     1.700275\n",
       "A1BG-AS1    5.484401   0.0000     2.833791\n",
       "A1CF      306.129294 656.2378   582.627503"
      ]
     },
     "metadata": {},
     "output_type": "display_data"
    }
   ],
   "source": [
    "mat <- read.table('/home/jovyan/farm/Gut/Deconvolution/E_MTAB_5464/E-MTAB-5464-nor-counts_rmdup.txt', check.names=F)\n",
    "mat %>% head"
   ]
  },
  {
   "cell_type": "code",
   "execution_count": 44,
   "id": "existing-claim",
   "metadata": {},
   "outputs": [
    {
     "data": {
      "text/html": [
       "<style>\n",
       ".list-inline {list-style: none; margin:0; padding: 0}\n",
       ".list-inline>li {display: inline-block}\n",
       ".list-inline>li:not(:last-child)::after {content: \"\\00b7\"; padding: 0 .5ex}\n",
       "</style>\n",
       "<ol class=list-inline><li>79</li><li>74</li></ol>\n"
      ],
      "text/latex": [
       "\\begin{enumerate*}\n",
       "\\item 79\n",
       "\\item 74\n",
       "\\end{enumerate*}\n"
      ],
      "text/markdown": [
       "1. 79\n",
       "2. 74\n",
       "\n",
       "\n"
      ],
      "text/plain": [
       "[1] 79 74"
      ]
     },
     "metadata": {},
     "output_type": "display_data"
    },
    {
     "data": {
      "text/html": [
       "<style>\n",
       ".list-inline {list-style: none; margin:0; padding: 0}\n",
       ".list-inline>li {display: inline-block}\n",
       ".list-inline>li:not(:last-child)::after {content: \"\\00b7\"; padding: 0 .5ex}\n",
       "</style>\n",
       "<ol class=list-inline><li>39331</li><li>79</li></ol>\n"
      ],
      "text/latex": [
       "\\begin{enumerate*}\n",
       "\\item 39331\n",
       "\\item 79\n",
       "\\end{enumerate*}\n"
      ],
      "text/markdown": [
       "1. 39331\n",
       "2. 79\n",
       "\n",
       "\n"
      ],
      "text/plain": [
       "[1] 39331    79"
      ]
     },
     "metadata": {},
     "output_type": "display_data"
    }
   ],
   "source": [
    "theta %>% dim\n",
    "mat %>% dim\n"
   ]
  },
  {
   "cell_type": "code",
   "execution_count": 45,
   "id": "stylish-empty",
   "metadata": {},
   "outputs": [
    {
     "data": {
      "text/html": [
       "<style>\n",
       ".list-inline {list-style: none; margin:0; padding: 0}\n",
       ".list-inline>li {display: inline-block}\n",
       ".list-inline>li:not(:last-child)::after {content: \"\\00b7\"; padding: 0 .5ex}\n",
       "</style>\n",
       "<ol class=list-inline><li>79</li><li>39332</li></ol>\n"
      ],
      "text/latex": [
       "\\begin{enumerate*}\n",
       "\\item 79\n",
       "\\item 39332\n",
       "\\end{enumerate*}\n"
      ],
      "text/markdown": [
       "1. 79\n",
       "2. 39332\n",
       "\n",
       "\n"
      ],
      "text/plain": [
       "[1]    79 39332"
      ]
     },
     "metadata": {},
     "output_type": "display_data"
    }
   ],
   "source": [
    "mat <- mat[,rownames(theta)]\n",
    "mat <- cbind(theta[,'Mucous_gland_neck'],\n",
    "             t(mat))\n",
    "dim(mat)"
   ]
  },
  {
   "cell_type": "code",
   "execution_count": 46,
   "id": "behind-thermal",
   "metadata": {},
   "outputs": [
    {
     "name": "stderr",
     "output_type": "stream",
     "text": [
      "Warning message in cor(mat):\n",
      "“the standard deviation is zero”\n"
     ]
    }
   ],
   "source": [
    "Corr <- cor(mat)"
   ]
  },
  {
   "cell_type": "code",
   "execution_count": 47,
   "id": "offensive-commander",
   "metadata": {},
   "outputs": [],
   "source": [
    "#Corr[1,] %>% sort(decreasing=T) %>% head(50)"
   ]
  },
  {
   "cell_type": "code",
   "execution_count": 48,
   "id": "allied-burlington",
   "metadata": {},
   "outputs": [
    {
     "data": {
      "text/html": [
       "0.596899201850599"
      ],
      "text/latex": [
       "0.596899201850599"
      ],
      "text/markdown": [
       "0.596899201850599"
      ],
      "text/plain": [
       "[1] 0.5968992"
      ]
     },
     "metadata": {},
     "output_type": "display_data"
    }
   ],
   "source": [
    "Corr['MUC6','CXCR2']"
   ]
  },
  {
   "cell_type": "code",
   "execution_count": 49,
   "id": "environmental-tsunami",
   "metadata": {},
   "outputs": [
    {
     "data": {
      "image/png": "[encoded data removed]",
      "text/plain": [
       "plot without title"
      ]
     },
     "metadata": {
      "image/png": {
       "height": 420,
       "width": 420
      }
     },
     "output_type": "display_data"
    }
   ],
   "source": [
    "mm <- sort(Corr[1,],decreasing=T)\n",
    "par(las=1);plot(mm, col=\"grey\")\n",
    "text(which(names(mm)=='SPI1')+3000, mm[which(names(mm)=='SPI1')], labels='SPI1')\n",
    "text(which(names(mm)=='CXCR1')+4000, mm[which(names(mm)=='CXCR1')], labels='CXCR1')\n",
    "text(which(names(mm)=='CXCR2')+8000, mm[which(names(mm)=='CXCR2')], labels='CXCR2')\n",
    "text(which(names(mm)=='MUC6')+4000, mm[which(names(mm)=='MUC6')], labels='MUC6')\n",
    "text(which(names(mm)=='BPIFB1')+9000, mm[which(names(mm)=='BPIFB1')], labels='BPIFB1')\n",
    "text(which(names(mm)=='AQP5')+3000, mm[which(names(mm)=='AQP5')], labels='AQP5')\n",
    "text(which(names(mm)=='ACKR1')+8000, mm[which(names(mm)=='ACKR1')], labels='ACKR1')\n",
    "text(which(names(mm)=='MUC5AC')+6000, mm[which(names(mm)=='MUC5AC')], labels='MUC5AC')"
   ]
  },
  {
   "cell_type": "code",
   "execution_count": 101,
   "id": "forced-filename",
   "metadata": {},
   "outputs": [
    {
     "data": {
      "text/html": [
       "<strong>png:</strong> 2"
      ],
      "text/latex": [
       "\\textbf{png:} 2"
      ],
      "text/markdown": [
       "**png:** 2"
      ],
      "text/plain": [
       "png \n",
       "  2 "
      ]
     },
     "metadata": {},
     "output_type": "display_data"
    }
   ],
   "source": [
    "pdf(\"E-MTAB-5464_gene_corr_nor_counts.pdf\", w=7, h=7)\n",
    "mm <- sort(Corr[1,],decreasing=T)\n",
    "par(las=1);plot(mm, col=\"grey\")\n",
    "text(which(names(mm)=='SPI1')+3000, mm[which(names(mm)=='SPI1')], labels='SPI1')\n",
    "text(which(names(mm)=='CXCR1')+4000, mm[which(names(mm)=='CXCR1')], labels='CXCR1')\n",
    "text(which(names(mm)=='CXCR2')+8000, mm[which(names(mm)=='CXCR2')], labels='CXCR2')\n",
    "text(which(names(mm)=='MUC6')+4000, mm[which(names(mm)=='MUC6')], labels='MUC6')\n",
    "text(which(names(mm)=='BPIFB1')+9000, mm[which(names(mm)=='BPIFB1')], labels='BPIFB1')\n",
    "text(which(names(mm)=='AQP5')+3000, mm[which(names(mm)=='AQP5')], labels='AQP5')\n",
    "text(which(names(mm)=='ACKR1')+8000, mm[which(names(mm)=='ACKR1')], labels='ACKR1')\n",
    "text(which(names(mm)=='MUC5AC')+6000, mm[which(names(mm)=='MUC5AC')], labels='MUC5AC')\n",
    "dev.off()"
   ]
  },
  {
   "cell_type": "code",
   "execution_count": 50,
   "id": "liked-nepal",
   "metadata": {},
   "outputs": [],
   "source": [
    "write.csv(Corr[1,], file=\"./E-MTAB-5464_gene_corr_nor_counts_new_sc_ref.csv\",quote=F)"
   ]
  },
  {
   "cell_type": "code",
   "execution_count": 51,
   "id": "fossil-responsibility",
   "metadata": {},
   "outputs": [
    {
     "data": {
      "text/html": [
       "<table class=\"dataframe\">\n",
       "<caption>A data.frame: 6 × 1</caption>\n",
       "<thead>\n",
       "\t<tr><th></th><th scope=col>corr_with_genes</th></tr>\n",
       "\t<tr><th></th><th scope=col>&lt;dbl&gt;</th></tr>\n",
       "</thead>\n",
       "<tbody>\n",
       "\t<tr><th scope=row>5_8S_rRNA</th><td>        NA</td></tr>\n",
       "\t<tr><th scope=row>5S_rRNA</th><td>        NA</td></tr>\n",
       "\t<tr><th scope=row>7SK</th><td>        NA</td></tr>\n",
       "\t<tr><th scope=row>A1BG</th><td> 0.1881944</td></tr>\n",
       "\t<tr><th scope=row>A1BG-AS1</th><td> 0.2718287</td></tr>\n",
       "\t<tr><th scope=row>A1CF</th><td>-0.3172086</td></tr>\n",
       "</tbody>\n",
       "</table>\n"
      ],
      "text/latex": [
       "A data.frame: 6 × 1\n",
       "\\begin{tabular}{r|l}\n",
       "  & corr\\_with\\_genes\\\\\n",
       "  & <dbl>\\\\\n",
       "\\hline\n",
       "\t5\\_8S\\_rRNA &         NA\\\\\n",
       "\t5S\\_rRNA &         NA\\\\\n",
       "\t7SK &         NA\\\\\n",
       "\tA1BG &  0.1881944\\\\\n",
       "\tA1BG-AS1 &  0.2718287\\\\\n",
       "\tA1CF & -0.3172086\\\\\n",
       "\\end{tabular}\n"
      ],
      "text/markdown": [
       "\n",
       "A data.frame: 6 × 1\n",
       "\n",
       "| <!--/--> | corr_with_genes &lt;dbl&gt; |\n",
       "|---|---|\n",
       "| 5_8S_rRNA |         NA |\n",
       "| 5S_rRNA |         NA |\n",
       "| 7SK |         NA |\n",
       "| A1BG |  0.1881944 |\n",
       "| A1BG-AS1 |  0.2718287 |\n",
       "| A1CF | -0.3172086 |\n",
       "\n"
      ],
      "text/plain": [
       "          corr_with_genes\n",
       "5_8S_rRNA         NA     \n",
       "5S_rRNA           NA     \n",
       "7SK               NA     \n",
       "A1BG       0.1881944     \n",
       "A1BG-AS1   0.2718287     \n",
       "A1CF      -0.3172086     "
      ]
     },
     "metadata": {},
     "output_type": "display_data"
    }
   ],
   "source": [
    "mat <- read.csv('./E-MTAB-5464_gene_corr_nor_counts_new_sc_ref.csv')\n",
    "mat %>% head"
   ]
  },
  {
   "cell_type": "code",
   "execution_count": 52,
   "id": "labeled-mainland",
   "metadata": {},
   "outputs": [
    {
     "data": {
      "text/html": [
       "<table class=\"dataframe\">\n",
       "<caption>A data.frame: 6 × 2</caption>\n",
       "<thead>\n",
       "\t<tr><th></th><th scope=col>corr_with_genes</th><th scope=col>highlight</th></tr>\n",
       "\t<tr><th></th><th scope=col>&lt;dbl&gt;</th><th scope=col>&lt;chr&gt;</th></tr>\n",
       "</thead>\n",
       "<tbody>\n",
       "\t<tr><th scope=row>A1BG</th><td> 0.18819438</td><td>no</td></tr>\n",
       "\t<tr><th scope=row>A1BG-AS1</th><td> 0.27182868</td><td>no</td></tr>\n",
       "\t<tr><th scope=row>A1CF</th><td>-0.31720862</td><td>no</td></tr>\n",
       "\t<tr><th scope=row>A2M</th><td> 0.22527138</td><td>no</td></tr>\n",
       "\t<tr><th scope=row>A2M-AS1</th><td>-0.04334411</td><td>no</td></tr>\n",
       "\t<tr><th scope=row>A2ML1</th><td> 0.04756193</td><td>no</td></tr>\n",
       "</tbody>\n",
       "</table>\n"
      ],
      "text/latex": [
       "A data.frame: 6 × 2\n",
       "\\begin{tabular}{r|ll}\n",
       "  & corr\\_with\\_genes & highlight\\\\\n",
       "  & <dbl> & <chr>\\\\\n",
       "\\hline\n",
       "\tA1BG &  0.18819438 & no\\\\\n",
       "\tA1BG-AS1 &  0.27182868 & no\\\\\n",
       "\tA1CF & -0.31720862 & no\\\\\n",
       "\tA2M &  0.22527138 & no\\\\\n",
       "\tA2M-AS1 & -0.04334411 & no\\\\\n",
       "\tA2ML1 &  0.04756193 & no\\\\\n",
       "\\end{tabular}\n"
      ],
      "text/markdown": [
       "\n",
       "A data.frame: 6 × 2\n",
       "\n",
       "| <!--/--> | corr_with_genes &lt;dbl&gt; | highlight &lt;chr&gt; |\n",
       "|---|---|---|\n",
       "| A1BG |  0.18819438 | no |\n",
       "| A1BG-AS1 |  0.27182868 | no |\n",
       "| A1CF | -0.31720862 | no |\n",
       "| A2M |  0.22527138 | no |\n",
       "| A2M-AS1 | -0.04334411 | no |\n",
       "| A2ML1 |  0.04756193 | no |\n",
       "\n"
      ],
      "text/plain": [
       "         corr_with_genes highlight\n",
       "A1BG      0.18819438     no       \n",
       "A1BG-AS1  0.27182868     no       \n",
       "A1CF     -0.31720862     no       \n",
       "A2M       0.22527138     no       \n",
       "A2M-AS1  -0.04334411     no       \n",
       "A2ML1     0.04756193     no       "
      ]
     },
     "metadata": {},
     "output_type": "display_data"
    }
   ],
   "source": [
    "mat <- as.data.frame(mat)\n",
    "mat$highlight <- rep('no', nrow(mat))\n",
    "gene_list <- c('MUC6','MUC5AC','BPIFB1','AQP5','ACKR1','PROK2','CXCR1','CXCR2','FCGR3B')\n",
    "\n",
    "mat[gene_list, 'highlight'] <- 'yes'\n",
    "mat <- mat %>% drop_na()\n",
    "mat %>% head"
   ]
  },
  {
   "cell_type": "code",
   "execution_count": 53,
   "id": "conceptual-cause",
   "metadata": {},
   "outputs": [
    {
     "data": {
      "text/html": [
       "<table class=\"dataframe\">\n",
       "<caption>A data.frame: 6 × 4</caption>\n",
       "<thead>\n",
       "\t<tr><th></th><th scope=col>corr_with_genes</th><th scope=col>highlight</th><th scope=col>x</th><th scope=col>gene</th></tr>\n",
       "\t<tr><th></th><th scope=col>&lt;dbl&gt;</th><th scope=col>&lt;chr&gt;</th><th scope=col>&lt;int&gt;</th><th scope=col>&lt;chr&gt;</th></tr>\n",
       "</thead>\n",
       "<tbody>\n",
       "\t<tr><th scope=row>MMP8</th><td>0.8481868</td><td>no </td><td>1</td><td>MMP8     </td></tr>\n",
       "\t<tr><th scope=row>STEAP4</th><td>0.8260846</td><td>no </td><td>2</td><td>STEAP4   </td></tr>\n",
       "\t<tr><th scope=row>SLC11A1</th><td>0.8233420</td><td>no </td><td>3</td><td>SLC11A1  </td></tr>\n",
       "\t<tr><th scope=row>PROK2</th><td>0.8135572</td><td>yes</td><td>4</td><td>PROK2    </td></tr>\n",
       "\t<tr><th scope=row>TCN1</th><td>0.8129821</td><td>no </td><td>5</td><td>TCN1     </td></tr>\n",
       "\t<tr><th scope=row>RN7SL124P</th><td>0.8063519</td><td>no </td><td>6</td><td>RN7SL124P</td></tr>\n",
       "</tbody>\n",
       "</table>\n"
      ],
      "text/latex": [
       "A data.frame: 6 × 4\n",
       "\\begin{tabular}{r|llll}\n",
       "  & corr\\_with\\_genes & highlight & x & gene\\\\\n",
       "  & <dbl> & <chr> & <int> & <chr>\\\\\n",
       "\\hline\n",
       "\tMMP8 & 0.8481868 & no  & 1 & MMP8     \\\\\n",
       "\tSTEAP4 & 0.8260846 & no  & 2 & STEAP4   \\\\\n",
       "\tSLC11A1 & 0.8233420 & no  & 3 & SLC11A1  \\\\\n",
       "\tPROK2 & 0.8135572 & yes & 4 & PROK2    \\\\\n",
       "\tTCN1 & 0.8129821 & no  & 5 & TCN1     \\\\\n",
       "\tRN7SL124P & 0.8063519 & no  & 6 & RN7SL124P\\\\\n",
       "\\end{tabular}\n"
      ],
      "text/markdown": [
       "\n",
       "A data.frame: 6 × 4\n",
       "\n",
       "| <!--/--> | corr_with_genes &lt;dbl&gt; | highlight &lt;chr&gt; | x &lt;int&gt; | gene &lt;chr&gt; |\n",
       "|---|---|---|---|---|\n",
       "| MMP8 | 0.8481868 | no  | 1 | MMP8      |\n",
       "| STEAP4 | 0.8260846 | no  | 2 | STEAP4    |\n",
       "| SLC11A1 | 0.8233420 | no  | 3 | SLC11A1   |\n",
       "| PROK2 | 0.8135572 | yes | 4 | PROK2     |\n",
       "| TCN1 | 0.8129821 | no  | 5 | TCN1      |\n",
       "| RN7SL124P | 0.8063519 | no  | 6 | RN7SL124P |\n",
       "\n"
      ],
      "text/plain": [
       "          corr_with_genes highlight x gene     \n",
       "MMP8      0.8481868       no        1 MMP8     \n",
       "STEAP4    0.8260846       no        2 STEAP4   \n",
       "SLC11A1   0.8233420       no        3 SLC11A1  \n",
       "PROK2     0.8135572       yes       4 PROK2    \n",
       "TCN1      0.8129821       no        5 TCN1     \n",
       "RN7SL124P 0.8063519       no        6 RN7SL124P"
      ]
     },
     "metadata": {},
     "output_type": "display_data"
    }
   ],
   "source": [
    "mat <- mat[order(mat[,1], decreasing=T), ]\n",
    "mat$x <- 1:nrow(mat)\n",
    "mat$gene <- rownames(mat)\n",
    "mat %>% head"
   ]
  },
  {
   "cell_type": "code",
   "execution_count": 54,
   "id": "negative-camel",
   "metadata": {},
   "outputs": [
    {
     "data": {
      "image/png": "[encoded data removed]",
      "text/plain": [
       "plot without title"
      ]
     },
     "metadata": {
      "image/png": {
       "height": 420,
       "width": 420
      }
     },
     "output_type": "display_data"
    }
   ],
   "source": [
    "library(tidyverse)\n",
    "library(ggrepel)\n",
    "library(ggfun)\n",
    "library(grid)\n",
    "\n",
    "ggplot(mat %>% arrange(highlight),\n",
    "       aes(x = x, y = corr_with_genes, color = highlight, \n",
    "           size = highlight, shape = highlight)) +\n",
    "       geom_point() + \n",
    "       scale_color_manual(values = c(no = 'grey80', yes = 'black')) + \n",
    "       scale_size_manual(values = c(no = 1, yes = 4)) + \n",
    "       scale_shape_manual(values = c(no = 1, yes = 20)) + \n",
    "geom_text_repel(data =  mat %>% filter(highlight == 'yes'),\n",
    "                aes(x = x, y = corr_with_genes, label = gene),\n",
    "                box.padding = 0.5,\n",
    "                nudge_x = 0.2,\n",
    "                nudge_y = 0.2,\n",
    "                segment.curvature = -0.1,\n",
    "                segment.ncp = 3,\n",
    "                segment.angle = 10,\n",
    "                direction = \"x\", \n",
    "                hjust = \"right\",\n",
    "                force = 5,\n",
    "                point.padding = 1\n",
    "                  ) +        \n",
    "theme_bw()\n",
    "ggsave(\"figures/E_MTAB_5464_gene_corr_nor_counts_new_sc_ref.pdf\", width = 6.5, height = 6)"
   ]
  },
  {
   "cell_type": "markdown",
   "id": "cordless-tenant",
   "metadata": {},
   "source": [
    "#### E-GEOD-101794"
   ]
  },
  {
   "cell_type": "code",
   "execution_count": 38,
   "id": "effective-hormone",
   "metadata": {},
   "outputs": [],
   "source": [
    "load('/lustre/scratch126/cellgen/team205/rl20/Gut/BayesPrism_out/E_CEOD_101794_fine_grained_annot_disease_only_new_sc_ref.rdata')"
   ]
  },
  {
   "cell_type": "code",
   "execution_count": 39,
   "id": "alpine-father",
   "metadata": {},
   "outputs": [
    {
     "data": {
      "text/html": [
       "<table class=\"dataframe\">\n",
       "<caption>A matrix: 6 × 74 of type dbl</caption>\n",
       "<thead>\n",
       "\t<tr><th></th><th scope=col>Trm_Th17</th><th scope=col>Trm/em_CD8</th><th scope=col>Tfh_naive</th><th scope=col>B_plasma_IgA1</th><th scope=col>TA</th><th scope=col>Enterocyte</th><th scope=col>ILC3</th><th scope=col>Treg_IL10</th><th scope=col>Goblet_progenitor</th><th scope=col>Monocyte</th><th scope=col>⋯</th><th scope=col>Glial_2</th><th scope=col>Neuroblast</th><th scope=col>Macrophage_LYVE1</th><th scope=col>DC_langerhans</th><th scope=col>Glial_1</th><th scope=col>Oesophagus_fibroblast</th><th scope=col>Immune_recruiting_pericyte</th><th scope=col>Rectum_fibroblast</th><th scope=col>EC_cycling</th><th scope=col>Erythrocytes</th></tr>\n",
       "</thead>\n",
       "<tbody>\n",
       "\t<tr><th scope=row>SRR5861974</th><td>1.143677e-05</td><td>4.701361e-06</td><td>7.442831e-06</td><td>3.145727e-06</td><td>1.351912e-06</td><td>0.84505399</td><td>3.632809e-05</td><td>7.137126e-06</td><td>2.334311e-06</td><td>1.014228e-05</td><td>⋯</td><td>1.140209e-03</td><td>6.295627e-06</td><td>5.066890e-06</td><td>6.296149e-06</td><td>7.080271e-06</td><td>2.291126e-03</td><td>7.362413e-06</td><td>1.111992e-05</td><td>1.210472e-03</td><td>3.971807e-03</td></tr>\n",
       "\t<tr><th scope=row>SRR5861975</th><td>1.180092e-04</td><td>2.068004e-05</td><td>2.385542e-05</td><td>4.593757e-06</td><td>4.278731e-04</td><td>0.64036509</td><td>3.080801e-05</td><td>7.940434e-06</td><td>4.242883e-06</td><td>1.731173e-06</td><td>⋯</td><td>1.626579e-03</td><td>3.919296e-05</td><td>2.580124e-02</td><td>2.315544e-05</td><td>1.838102e-03</td><td>8.774271e-06</td><td>3.049020e-05</td><td>2.930478e-03</td><td>2.825261e-03</td><td>1.077798e-06</td></tr>\n",
       "\t<tr><th scope=row>SRR5861976</th><td>1.377049e-02</td><td>4.010303e-03</td><td>3.520986e-05</td><td>1.812115e-05</td><td>1.298353e-01</td><td>0.07387349</td><td>3.488410e-05</td><td>1.312060e-03</td><td>5.145023e-03</td><td>3.884925e-02</td><td>⋯</td><td>2.149704e-03</td><td>1.977633e-04</td><td>1.401691e-02</td><td>1.536271e-05</td><td>7.560778e-04</td><td>4.774939e-03</td><td>3.628786e-04</td><td>1.816616e-05</td><td>4.085124e-03</td><td>1.572157e-02</td></tr>\n",
       "\t<tr><th scope=row>SRR5861977</th><td>1.692073e-06</td><td>4.031744e-06</td><td>3.348692e-06</td><td>2.793446e-06</td><td>4.754375e-04</td><td>0.52965408</td><td>1.469865e-05</td><td>4.586059e-06</td><td>4.441921e-06</td><td>1.123990e-03</td><td>⋯</td><td>1.525048e-05</td><td>4.702328e-04</td><td>4.128130e-02</td><td>1.238386e-03</td><td>2.665133e-03</td><td>2.493083e-06</td><td>8.273126e-06</td><td>4.909824e-03</td><td>5.453063e-06</td><td>5.466907e-03</td></tr>\n",
       "\t<tr><th scope=row>SRR5861978</th><td>4.314030e-06</td><td>4.452151e-06</td><td>5.672876e-06</td><td>7.796237e-06</td><td>3.096435e-06</td><td>0.67691301</td><td>1.077185e-05</td><td>4.335845e-06</td><td>7.654752e-06</td><td>1.881442e-06</td><td>⋯</td><td>1.879261e-05</td><td>3.032750e-03</td><td>3.961885e-02</td><td>7.742634e-04</td><td>3.768476e-04</td><td>2.483236e-06</td><td>1.399693e-04</td><td>3.948176e-03</td><td>7.005151e-06</td><td>1.204150e-06</td></tr>\n",
       "\t<tr><th scope=row>SRR5861979</th><td>9.946313e-05</td><td>1.968192e-05</td><td>9.745683e-06</td><td>4.696709e-04</td><td>1.155001e-01</td><td>0.30849547</td><td>7.846800e-06</td><td>2.524810e-05</td><td>2.922997e-02</td><td>5.537543e-04</td><td>⋯</td><td>3.065704e-04</td><td>4.952419e-05</td><td>4.329905e-02</td><td>4.093849e-05</td><td>3.406867e-03</td><td>2.065408e-03</td><td>9.425942e-06</td><td>2.235047e-02</td><td>8.189967e-06</td><td>2.300167e-03</td></tr>\n",
       "</tbody>\n",
       "</table>\n"
      ],
      "text/latex": [
       "A matrix: 6 × 74 of type dbl\n",
       "\\begin{tabular}{r|lllllllllllllllllllll}\n",
       "  & Trm\\_Th17 & Trm/em\\_CD8 & Tfh\\_naive & B\\_plasma\\_IgA1 & TA & Enterocyte & ILC3 & Treg\\_IL10 & Goblet\\_progenitor & Monocyte & ⋯ & Glial\\_2 & Neuroblast & Macrophage\\_LYVE1 & DC\\_langerhans & Glial\\_1 & Oesophagus\\_fibroblast & Immune\\_recruiting\\_pericyte & Rectum\\_fibroblast & EC\\_cycling & Erythrocytes\\\\\n",
       "\\hline\n",
       "\tSRR5861974 & 1.143677e-05 & 4.701361e-06 & 7.442831e-06 & 3.145727e-06 & 1.351912e-06 & 0.84505399 & 3.632809e-05 & 7.137126e-06 & 2.334311e-06 & 1.014228e-05 & ⋯ & 1.140209e-03 & 6.295627e-06 & 5.066890e-06 & 6.296149e-06 & 7.080271e-06 & 2.291126e-03 & 7.362413e-06 & 1.111992e-05 & 1.210472e-03 & 3.971807e-03\\\\\n",
       "\tSRR5861975 & 1.180092e-04 & 2.068004e-05 & 2.385542e-05 & 4.593757e-06 & 4.278731e-04 & 0.64036509 & 3.080801e-05 & 7.940434e-06 & 4.242883e-06 & 1.731173e-06 & ⋯ & 1.626579e-03 & 3.919296e-05 & 2.580124e-02 & 2.315544e-05 & 1.838102e-03 & 8.774271e-06 & 3.049020e-05 & 2.930478e-03 & 2.825261e-03 & 1.077798e-06\\\\\n",
       "\tSRR5861976 & 1.377049e-02 & 4.010303e-03 & 3.520986e-05 & 1.812115e-05 & 1.298353e-01 & 0.07387349 & 3.488410e-05 & 1.312060e-03 & 5.145023e-03 & 3.884925e-02 & ⋯ & 2.149704e-03 & 1.977633e-04 & 1.401691e-02 & 1.536271e-05 & 7.560778e-04 & 4.774939e-03 & 3.628786e-04 & 1.816616e-05 & 4.085124e-03 & 1.572157e-02\\\\\n",
       "\tSRR5861977 & 1.692073e-06 & 4.031744e-06 & 3.348692e-06 & 2.793446e-06 & 4.754375e-04 & 0.52965408 & 1.469865e-05 & 4.586059e-06 & 4.441921e-06 & 1.123990e-03 & ⋯ & 1.525048e-05 & 4.702328e-04 & 4.128130e-02 & 1.238386e-03 & 2.665133e-03 & 2.493083e-06 & 8.273126e-06 & 4.909824e-03 & 5.453063e-06 & 5.466907e-03\\\\\n",
       "\tSRR5861978 & 4.314030e-06 & 4.452151e-06 & 5.672876e-06 & 7.796237e-06 & 3.096435e-06 & 0.67691301 & 1.077185e-05 & 4.335845e-06 & 7.654752e-06 & 1.881442e-06 & ⋯ & 1.879261e-05 & 3.032750e-03 & 3.961885e-02 & 7.742634e-04 & 3.768476e-04 & 2.483236e-06 & 1.399693e-04 & 3.948176e-03 & 7.005151e-06 & 1.204150e-06\\\\\n",
       "\tSRR5861979 & 9.946313e-05 & 1.968192e-05 & 9.745683e-06 & 4.696709e-04 & 1.155001e-01 & 0.30849547 & 7.846800e-06 & 2.524810e-05 & 2.922997e-02 & 5.537543e-04 & ⋯ & 3.065704e-04 & 4.952419e-05 & 4.329905e-02 & 4.093849e-05 & 3.406867e-03 & 2.065408e-03 & 9.425942e-06 & 2.235047e-02 & 8.189967e-06 & 2.300167e-03\\\\\n",
       "\\end{tabular}\n"
      ],
      "text/markdown": [
       "\n",
       "A matrix: 6 × 74 of type dbl\n",
       "\n",
       "| <!--/--> | Trm_Th17 | Trm/em_CD8 | Tfh_naive | B_plasma_IgA1 | TA | Enterocyte | ILC3 | Treg_IL10 | Goblet_progenitor | Monocyte | ⋯ | Glial_2 | Neuroblast | Macrophage_LYVE1 | DC_langerhans | Glial_1 | Oesophagus_fibroblast | Immune_recruiting_pericyte | Rectum_fibroblast | EC_cycling | Erythrocytes |\n",
       "|---|---|---|---|---|---|---|---|---|---|---|---|---|---|---|---|---|---|---|---|---|---|\n",
       "| SRR5861974 | 1.143677e-05 | 4.701361e-06 | 7.442831e-06 | 3.145727e-06 | 1.351912e-06 | 0.84505399 | 3.632809e-05 | 7.137126e-06 | 2.334311e-06 | 1.014228e-05 | ⋯ | 1.140209e-03 | 6.295627e-06 | 5.066890e-06 | 6.296149e-06 | 7.080271e-06 | 2.291126e-03 | 7.362413e-06 | 1.111992e-05 | 1.210472e-03 | 3.971807e-03 |\n",
       "| SRR5861975 | 1.180092e-04 | 2.068004e-05 | 2.385542e-05 | 4.593757e-06 | 4.278731e-04 | 0.64036509 | 3.080801e-05 | 7.940434e-06 | 4.242883e-06 | 1.731173e-06 | ⋯ | 1.626579e-03 | 3.919296e-05 | 2.580124e-02 | 2.315544e-05 | 1.838102e-03 | 8.774271e-06 | 3.049020e-05 | 2.930478e-03 | 2.825261e-03 | 1.077798e-06 |\n",
       "| SRR5861976 | 1.377049e-02 | 4.010303e-03 | 3.520986e-05 | 1.812115e-05 | 1.298353e-01 | 0.07387349 | 3.488410e-05 | 1.312060e-03 | 5.145023e-03 | 3.884925e-02 | ⋯ | 2.149704e-03 | 1.977633e-04 | 1.401691e-02 | 1.536271e-05 | 7.560778e-04 | 4.774939e-03 | 3.628786e-04 | 1.816616e-05 | 4.085124e-03 | 1.572157e-02 |\n",
       "| SRR5861977 | 1.692073e-06 | 4.031744e-06 | 3.348692e-06 | 2.793446e-06 | 4.754375e-04 | 0.52965408 | 1.469865e-05 | 4.586059e-06 | 4.441921e-06 | 1.123990e-03 | ⋯ | 1.525048e-05 | 4.702328e-04 | 4.128130e-02 | 1.238386e-03 | 2.665133e-03 | 2.493083e-06 | 8.273126e-06 | 4.909824e-03 | 5.453063e-06 | 5.466907e-03 |\n",
       "| SRR5861978 | 4.314030e-06 | 4.452151e-06 | 5.672876e-06 | 7.796237e-06 | 3.096435e-06 | 0.67691301 | 1.077185e-05 | 4.335845e-06 | 7.654752e-06 | 1.881442e-06 | ⋯ | 1.879261e-05 | 3.032750e-03 | 3.961885e-02 | 7.742634e-04 | 3.768476e-04 | 2.483236e-06 | 1.399693e-04 | 3.948176e-03 | 7.005151e-06 | 1.204150e-06 |\n",
       "| SRR5861979 | 9.946313e-05 | 1.968192e-05 | 9.745683e-06 | 4.696709e-04 | 1.155001e-01 | 0.30849547 | 7.846800e-06 | 2.524810e-05 | 2.922997e-02 | 5.537543e-04 | ⋯ | 3.065704e-04 | 4.952419e-05 | 4.329905e-02 | 4.093849e-05 | 3.406867e-03 | 2.065408e-03 | 9.425942e-06 | 2.235047e-02 | 8.189967e-06 | 2.300167e-03 |\n",
       "\n"
      ],
      "text/plain": [
       "           Trm_Th17     Trm/em_CD8   Tfh_naive    B_plasma_IgA1 TA          \n",
       "SRR5861974 1.143677e-05 4.701361e-06 7.442831e-06 3.145727e-06  1.351912e-06\n",
       "SRR5861975 1.180092e-04 2.068004e-05 2.385542e-05 4.593757e-06  4.278731e-04\n",
       "SRR5861976 1.377049e-02 4.010303e-03 3.520986e-05 1.812115e-05  1.298353e-01\n",
       "SRR5861977 1.692073e-06 4.031744e-06 3.348692e-06 2.793446e-06  4.754375e-04\n",
       "SRR5861978 4.314030e-06 4.452151e-06 5.672876e-06 7.796237e-06  3.096435e-06\n",
       "SRR5861979 9.946313e-05 1.968192e-05 9.745683e-06 4.696709e-04  1.155001e-01\n",
       "           Enterocyte ILC3         Treg_IL10    Goblet_progenitor Monocyte    \n",
       "SRR5861974 0.84505399 3.632809e-05 7.137126e-06 2.334311e-06      1.014228e-05\n",
       "SRR5861975 0.64036509 3.080801e-05 7.940434e-06 4.242883e-06      1.731173e-06\n",
       "SRR5861976 0.07387349 3.488410e-05 1.312060e-03 5.145023e-03      3.884925e-02\n",
       "SRR5861977 0.52965408 1.469865e-05 4.586059e-06 4.441921e-06      1.123990e-03\n",
       "SRR5861978 0.67691301 1.077185e-05 4.335845e-06 7.654752e-06      1.881442e-06\n",
       "SRR5861979 0.30849547 7.846800e-06 2.524810e-05 2.922997e-02      5.537543e-04\n",
       "           ⋯ Glial_2      Neuroblast   Macrophage_LYVE1 DC_langerhans\n",
       "SRR5861974 ⋯ 1.140209e-03 6.295627e-06 5.066890e-06     6.296149e-06 \n",
       "SRR5861975 ⋯ 1.626579e-03 3.919296e-05 2.580124e-02     2.315544e-05 \n",
       "SRR5861976 ⋯ 2.149704e-03 1.977633e-04 1.401691e-02     1.536271e-05 \n",
       "SRR5861977 ⋯ 1.525048e-05 4.702328e-04 4.128130e-02     1.238386e-03 \n",
       "SRR5861978 ⋯ 1.879261e-05 3.032750e-03 3.961885e-02     7.742634e-04 \n",
       "SRR5861979 ⋯ 3.065704e-04 4.952419e-05 4.329905e-02     4.093849e-05 \n",
       "           Glial_1      Oesophagus_fibroblast Immune_recruiting_pericyte\n",
       "SRR5861974 7.080271e-06 2.291126e-03          7.362413e-06              \n",
       "SRR5861975 1.838102e-03 8.774271e-06          3.049020e-05              \n",
       "SRR5861976 7.560778e-04 4.774939e-03          3.628786e-04              \n",
       "SRR5861977 2.665133e-03 2.493083e-06          8.273126e-06              \n",
       "SRR5861978 3.768476e-04 2.483236e-06          1.399693e-04              \n",
       "SRR5861979 3.406867e-03 2.065408e-03          9.425942e-06              \n",
       "           Rectum_fibroblast EC_cycling   Erythrocytes\n",
       "SRR5861974 1.111992e-05      1.210472e-03 3.971807e-03\n",
       "SRR5861975 2.930478e-03      2.825261e-03 1.077798e-06\n",
       "SRR5861976 1.816616e-05      4.085124e-03 1.572157e-02\n",
       "SRR5861977 4.909824e-03      5.453063e-06 5.466907e-03\n",
       "SRR5861978 3.948176e-03      7.005151e-06 1.204150e-06\n",
       "SRR5861979 2.235047e-02      8.189967e-06 2.300167e-03"
      ]
     },
     "metadata": {},
     "output_type": "display_data"
    }
   ],
   "source": [
    "theta <- get.fraction(bp=bp.res,\n",
    "            which.theta=\"final\",\n",
    "            state.or.type=\"type\")\n",
    "\n",
    "head(theta)"
   ]
  },
  {
   "cell_type": "code",
   "execution_count": 41,
   "id": "convenient-westminster",
   "metadata": {},
   "outputs": [
    {
     "data": {
      "text/html": [
       "<table class=\"dataframe\">\n",
       "<caption>A data.frame: 6 × 4</caption>\n",
       "<thead>\n",
       "\t<tr><th></th><th scope=col>corr</th><th scope=col>highlight</th><th scope=col>gene</th><th scope=col>x</th></tr>\n",
       "\t<tr><th></th><th scope=col>&lt;dbl&gt;</th><th scope=col>&lt;chr&gt;</th><th scope=col>&lt;chr&gt;</th><th scope=col>&lt;int&gt;</th></tr>\n",
       "</thead>\n",
       "<tbody>\n",
       "\t<tr><th scope=row>Mucous_gland_neck</th><td>1.0000000</td><td>no </td><td>Mucous_gland_neck     </td><td>1</td></tr>\n",
       "\t<tr><th scope=row>Pericyte</th><td>0.2097028</td><td>no </td><td>Pericyte              </td><td>2</td></tr>\n",
       "\t<tr><th scope=row>TA</th><td>0.1727332</td><td>no </td><td>TA                    </td><td>3</td></tr>\n",
       "\t<tr><th scope=row>EC_capillary</th><td>0.1599658</td><td>no </td><td>EC_capillary          </td><td>4</td></tr>\n",
       "\t<tr><th scope=row>Oral_mucosa_fibroblast</th><td>0.1537546</td><td>no </td><td>Oral_mucosa_fibroblast</td><td>5</td></tr>\n",
       "\t<tr><th scope=row>EC_venous</th><td>0.1183099</td><td>yes</td><td>EC_venous             </td><td>6</td></tr>\n",
       "</tbody>\n",
       "</table>\n"
      ],
      "text/latex": [
       "A data.frame: 6 × 4\n",
       "\\begin{tabular}{r|llll}\n",
       "  & corr & highlight & gene & x\\\\\n",
       "  & <dbl> & <chr> & <chr> & <int>\\\\\n",
       "\\hline\n",
       "\tMucous\\_gland\\_neck & 1.0000000 & no  & Mucous\\_gland\\_neck      & 1\\\\\n",
       "\tPericyte & 0.2097028 & no  & Pericyte               & 2\\\\\n",
       "\tTA & 0.1727332 & no  & TA                     & 3\\\\\n",
       "\tEC\\_capillary & 0.1599658 & no  & EC\\_capillary           & 4\\\\\n",
       "\tOral\\_mucosa\\_fibroblast & 0.1537546 & no  & Oral\\_mucosa\\_fibroblast & 5\\\\\n",
       "\tEC\\_venous & 0.1183099 & yes & EC\\_venous              & 6\\\\\n",
       "\\end{tabular}\n"
      ],
      "text/markdown": [
       "\n",
       "A data.frame: 6 × 4\n",
       "\n",
       "| <!--/--> | corr &lt;dbl&gt; | highlight &lt;chr&gt; | gene &lt;chr&gt; | x &lt;int&gt; |\n",
       "|---|---|---|---|---|\n",
       "| Mucous_gland_neck | 1.0000000 | no  | Mucous_gland_neck      | 1 |\n",
       "| Pericyte | 0.2097028 | no  | Pericyte               | 2 |\n",
       "| TA | 0.1727332 | no  | TA                     | 3 |\n",
       "| EC_capillary | 0.1599658 | no  | EC_capillary           | 4 |\n",
       "| Oral_mucosa_fibroblast | 0.1537546 | no  | Oral_mucosa_fibroblast | 5 |\n",
       "| EC_venous | 0.1183099 | yes | EC_venous              | 6 |\n",
       "\n"
      ],
      "text/plain": [
       "                       corr      highlight gene                   x\n",
       "Mucous_gland_neck      1.0000000 no        Mucous_gland_neck      1\n",
       "Pericyte               0.2097028 no        Pericyte               2\n",
       "TA                     0.1727332 no        TA                     3\n",
       "EC_capillary           0.1599658 no        EC_capillary           4\n",
       "Oral_mucosa_fibroblast 0.1537546 no        Oral_mucosa_fibroblast 5\n",
       "EC_venous              0.1183099 yes       EC_venous              6"
      ]
     },
     "metadata": {},
     "output_type": "display_data"
    }
   ],
   "source": [
    "Corr <- cor(theta)\n",
    "\n",
    "ll <- Corr['Mucous_gland_neck',] %>% sort(decreasing=T)\n",
    "ll <- data.frame(corr = ll, highlight = rep('no', length(ll)))\n",
    "ll['EC_venous', 'highlight'] <- 'yes'\n",
    "ll$gene <- rownames(ll)\n",
    "ll$x <- 1:nrow(ll)\n",
    "\n",
    "ll %>% head"
   ]
  },
  {
   "cell_type": "code",
   "execution_count": 42,
   "id": "textile-trace",
   "metadata": {},
   "outputs": [
    {
     "data": {
      "image/png": "[encoded data removed]",
      "text/plain": [
       "plot without title"
      ]
     },
     "metadata": {
      "image/png": {
       "height": 420,
       "width": 420
      }
     },
     "output_type": "display_data"
    }
   ],
   "source": [
    "library(tidyverse)\n",
    "library(ggrepel)\n",
    "library(ggfun)\n",
    "library(grid)\n",
    "\n",
    "ggplot(ll %>% arrange(highlight),\n",
    "       aes(x = x, y = corr, color = highlight, \n",
    "           size = highlight, shape = highlight)) +\n",
    "       geom_point() + \n",
    "       scale_color_manual(values = c(no = 'grey50', yes = 'black')) + \n",
    "       scale_size_manual(values = c(no = 2, yes = 4)) + \n",
    "       scale_shape_manual(values = c(no = 1, yes = 20)) + \n",
    "geom_text_repel(data =  ll %>% filter(highlight == 'yes'),\n",
    "                aes(x = x, y = corr, label = gene),\n",
    "                box.padding = 0.5,\n",
    "                nudge_x = 0.2,\n",
    "                nudge_y = 0.2,\n",
    "                segment.curvature = -0.1,\n",
    "                segment.ncp = 3,\n",
    "                segment.angle = 10,\n",
    "                direction = \"x\", \n",
    "                hjust = \"right\",\n",
    "                force = 5,\n",
    "                point.padding = 1\n",
    "                  ) +        \n",
    "theme_bw()\n",
    "ggsave(\"figures/E_CEOD_101794_celltype_corr_new_sc_ref.pdf\", width = 6.2, height = 6)"
   ]
  },
  {
   "cell_type": "code",
   "execution_count": 7,
   "id": "cellular-opposition",
   "metadata": {},
   "outputs": [
    {
     "data": {
      "text/html": [
       "<table class=\"dataframe\">\n",
       "<caption>A data.frame: 6 × 304</caption>\n",
       "<thead>\n",
       "\t<tr><th></th><th scope=col>SRR5861974</th><th scope=col>SRR5861975</th><th scope=col>SRR5861976</th><th scope=col>SRR5861977</th><th scope=col>SRR5861978</th><th scope=col>SRR5861979</th><th scope=col>SRR5861980</th><th scope=col>SRR5861981</th><th scope=col>SRR5861982</th><th scope=col>SRR5861983</th><th scope=col>⋯</th><th scope=col>SRR5862268</th><th scope=col>SRR5862269</th><th scope=col>SRR5862270</th><th scope=col>SRR5862271</th><th scope=col>SRR5862272</th><th scope=col>SRR5862273</th><th scope=col>SRR5862274</th><th scope=col>SRR5862275</th><th scope=col>SRR5862276</th><th scope=col>SRR5862277</th></tr>\n",
       "\t<tr><th></th><th scope=col>&lt;dbl&gt;</th><th scope=col>&lt;dbl&gt;</th><th scope=col>&lt;dbl&gt;</th><th scope=col>&lt;dbl&gt;</th><th scope=col>&lt;dbl&gt;</th><th scope=col>&lt;dbl&gt;</th><th scope=col>&lt;dbl&gt;</th><th scope=col>&lt;dbl&gt;</th><th scope=col>&lt;dbl&gt;</th><th scope=col>&lt;dbl&gt;</th><th scope=col>⋯</th><th scope=col>&lt;dbl&gt;</th><th scope=col>&lt;dbl&gt;</th><th scope=col>&lt;dbl&gt;</th><th scope=col>&lt;dbl&gt;</th><th scope=col>&lt;dbl&gt;</th><th scope=col>&lt;dbl&gt;</th><th scope=col>&lt;dbl&gt;</th><th scope=col>&lt;dbl&gt;</th><th scope=col>&lt;dbl&gt;</th><th scope=col>&lt;dbl&gt;</th></tr>\n",
       "</thead>\n",
       "<tbody>\n",
       "\t<tr><th scope=row>DEFB108A</th><td>0</td><td>0.000000</td><td>0.000000</td><td>0.0000000</td><td>0</td><td>0</td><td>0</td><td>0.000000</td><td>0</td><td>0</td><td>⋯</td><td>0.0000000</td><td>0</td><td>0.0000000</td><td>0.0000000</td><td>0.000000</td><td>0.0000000</td><td>0</td><td>0</td><td>0</td><td>0</td></tr>\n",
       "\t<tr><th scope=row>DEFB108D</th><td>0</td><td>0.000000</td><td>0.000000</td><td>0.0000000</td><td>0</td><td>0</td><td>0</td><td>0.000000</td><td>0</td><td>0</td><td>⋯</td><td>0.0000000</td><td>0</td><td>0.0000000</td><td>0.0000000</td><td>0.000000</td><td>0.0000000</td><td>0</td><td>0</td><td>0</td><td>0</td></tr>\n",
       "\t<tr><th scope=row>PSMA2P3</th><td>0</td><td>2.040223</td><td>4.242563</td><td>0.5365065</td><td>0</td><td>0</td><td>0</td><td>1.377688</td><td>0</td><td>0</td><td>⋯</td><td>0.9165115</td><td>0</td><td>0.0000000</td><td>0.0000000</td><td>0.000000</td><td>0.0000000</td><td>0</td><td>0</td><td>0</td><td>0</td></tr>\n",
       "\t<tr><th scope=row>DEFB108E</th><td>0</td><td>0.000000</td><td>0.000000</td><td>0.0000000</td><td>0</td><td>0</td><td>0</td><td>0.000000</td><td>0</td><td>0</td><td>⋯</td><td>0.0000000</td><td>0</td><td>0.0000000</td><td>0.0000000</td><td>0.000000</td><td>0.0000000</td><td>0</td><td>0</td><td>0</td><td>0</td></tr>\n",
       "\t<tr><th scope=row>OR10V3P</th><td>0</td><td>0.000000</td><td>2.121281</td><td>0.0000000</td><td>0</td><td>0</td><td>0</td><td>0.000000</td><td>0</td><td>0</td><td>⋯</td><td>0.9165115</td><td>0</td><td>0.0000000</td><td>0.8513859</td><td>0.000000</td><td>0.8702195</td><td>0</td><td>0</td><td>0</td><td>0</td></tr>\n",
       "\t<tr><th scope=row>PSMA2P1</th><td>0</td><td>2.040223</td><td>0.000000</td><td>0.0000000</td><td>0</td><td>0</td><td>0</td><td>0.000000</td><td>0</td><td>0</td><td>⋯</td><td>0.9165115</td><td>0</td><td>0.7005361</td><td>0.0000000</td><td>1.043061</td><td>0.0000000</td><td>0</td><td>0</td><td>0</td><td>0</td></tr>\n",
       "</tbody>\n",
       "</table>\n"
      ],
      "text/latex": [
       "A data.frame: 6 × 304\n",
       "\\begin{tabular}{r|lllllllllllllllllllll}\n",
       "  & SRR5861974 & SRR5861975 & SRR5861976 & SRR5861977 & SRR5861978 & SRR5861979 & SRR5861980 & SRR5861981 & SRR5861982 & SRR5861983 & ⋯ & SRR5862268 & SRR5862269 & SRR5862270 & SRR5862271 & SRR5862272 & SRR5862273 & SRR5862274 & SRR5862275 & SRR5862276 & SRR5862277\\\\\n",
       "  & <dbl> & <dbl> & <dbl> & <dbl> & <dbl> & <dbl> & <dbl> & <dbl> & <dbl> & <dbl> & ⋯ & <dbl> & <dbl> & <dbl> & <dbl> & <dbl> & <dbl> & <dbl> & <dbl> & <dbl> & <dbl>\\\\\n",
       "\\hline\n",
       "\tDEFB108A & 0 & 0.000000 & 0.000000 & 0.0000000 & 0 & 0 & 0 & 0.000000 & 0 & 0 & ⋯ & 0.0000000 & 0 & 0.0000000 & 0.0000000 & 0.000000 & 0.0000000 & 0 & 0 & 0 & 0\\\\\n",
       "\tDEFB108D & 0 & 0.000000 & 0.000000 & 0.0000000 & 0 & 0 & 0 & 0.000000 & 0 & 0 & ⋯ & 0.0000000 & 0 & 0.0000000 & 0.0000000 & 0.000000 & 0.0000000 & 0 & 0 & 0 & 0\\\\\n",
       "\tPSMA2P3 & 0 & 2.040223 & 4.242563 & 0.5365065 & 0 & 0 & 0 & 1.377688 & 0 & 0 & ⋯ & 0.9165115 & 0 & 0.0000000 & 0.0000000 & 0.000000 & 0.0000000 & 0 & 0 & 0 & 0\\\\\n",
       "\tDEFB108E & 0 & 0.000000 & 0.000000 & 0.0000000 & 0 & 0 & 0 & 0.000000 & 0 & 0 & ⋯ & 0.0000000 & 0 & 0.0000000 & 0.0000000 & 0.000000 & 0.0000000 & 0 & 0 & 0 & 0\\\\\n",
       "\tOR10V3P & 0 & 0.000000 & 2.121281 & 0.0000000 & 0 & 0 & 0 & 0.000000 & 0 & 0 & ⋯ & 0.9165115 & 0 & 0.0000000 & 0.8513859 & 0.000000 & 0.8702195 & 0 & 0 & 0 & 0\\\\\n",
       "\tPSMA2P1 & 0 & 2.040223 & 0.000000 & 0.0000000 & 0 & 0 & 0 & 0.000000 & 0 & 0 & ⋯ & 0.9165115 & 0 & 0.7005361 & 0.0000000 & 1.043061 & 0.0000000 & 0 & 0 & 0 & 0\\\\\n",
       "\\end{tabular}\n"
      ],
      "text/markdown": [
       "\n",
       "A data.frame: 6 × 304\n",
       "\n",
       "| <!--/--> | SRR5861974 &lt;dbl&gt; | SRR5861975 &lt;dbl&gt; | SRR5861976 &lt;dbl&gt; | SRR5861977 &lt;dbl&gt; | SRR5861978 &lt;dbl&gt; | SRR5861979 &lt;dbl&gt; | SRR5861980 &lt;dbl&gt; | SRR5861981 &lt;dbl&gt; | SRR5861982 &lt;dbl&gt; | SRR5861983 &lt;dbl&gt; | ⋯ ⋯ | SRR5862268 &lt;dbl&gt; | SRR5862269 &lt;dbl&gt; | SRR5862270 &lt;dbl&gt; | SRR5862271 &lt;dbl&gt; | SRR5862272 &lt;dbl&gt; | SRR5862273 &lt;dbl&gt; | SRR5862274 &lt;dbl&gt; | SRR5862275 &lt;dbl&gt; | SRR5862276 &lt;dbl&gt; | SRR5862277 &lt;dbl&gt; |\n",
       "|---|---|---|---|---|---|---|---|---|---|---|---|---|---|---|---|---|---|---|---|---|---|\n",
       "| DEFB108A | 0 | 0.000000 | 0.000000 | 0.0000000 | 0 | 0 | 0 | 0.000000 | 0 | 0 | ⋯ | 0.0000000 | 0 | 0.0000000 | 0.0000000 | 0.000000 | 0.0000000 | 0 | 0 | 0 | 0 |\n",
       "| DEFB108D | 0 | 0.000000 | 0.000000 | 0.0000000 | 0 | 0 | 0 | 0.000000 | 0 | 0 | ⋯ | 0.0000000 | 0 | 0.0000000 | 0.0000000 | 0.000000 | 0.0000000 | 0 | 0 | 0 | 0 |\n",
       "| PSMA2P3 | 0 | 2.040223 | 4.242563 | 0.5365065 | 0 | 0 | 0 | 1.377688 | 0 | 0 | ⋯ | 0.9165115 | 0 | 0.0000000 | 0.0000000 | 0.000000 | 0.0000000 | 0 | 0 | 0 | 0 |\n",
       "| DEFB108E | 0 | 0.000000 | 0.000000 | 0.0000000 | 0 | 0 | 0 | 0.000000 | 0 | 0 | ⋯ | 0.0000000 | 0 | 0.0000000 | 0.0000000 | 0.000000 | 0.0000000 | 0 | 0 | 0 | 0 |\n",
       "| OR10V3P | 0 | 0.000000 | 2.121281 | 0.0000000 | 0 | 0 | 0 | 0.000000 | 0 | 0 | ⋯ | 0.9165115 | 0 | 0.0000000 | 0.8513859 | 0.000000 | 0.8702195 | 0 | 0 | 0 | 0 |\n",
       "| PSMA2P1 | 0 | 2.040223 | 0.000000 | 0.0000000 | 0 | 0 | 0 | 0.000000 | 0 | 0 | ⋯ | 0.9165115 | 0 | 0.7005361 | 0.0000000 | 1.043061 | 0.0000000 | 0 | 0 | 0 | 0 |\n",
       "\n"
      ],
      "text/plain": [
       "         SRR5861974 SRR5861975 SRR5861976 SRR5861977 SRR5861978 SRR5861979\n",
       "DEFB108A 0          0.000000   0.000000   0.0000000  0          0         \n",
       "DEFB108D 0          0.000000   0.000000   0.0000000  0          0         \n",
       "PSMA2P3  0          2.040223   4.242563   0.5365065  0          0         \n",
       "DEFB108E 0          0.000000   0.000000   0.0000000  0          0         \n",
       "OR10V3P  0          0.000000   2.121281   0.0000000  0          0         \n",
       "PSMA2P1  0          2.040223   0.000000   0.0000000  0          0         \n",
       "         SRR5861980 SRR5861981 SRR5861982 SRR5861983 ⋯ SRR5862268 SRR5862269\n",
       "DEFB108A 0          0.000000   0          0          ⋯ 0.0000000  0         \n",
       "DEFB108D 0          0.000000   0          0          ⋯ 0.0000000  0         \n",
       "PSMA2P3  0          1.377688   0          0          ⋯ 0.9165115  0         \n",
       "DEFB108E 0          0.000000   0          0          ⋯ 0.0000000  0         \n",
       "OR10V3P  0          0.000000   0          0          ⋯ 0.9165115  0         \n",
       "PSMA2P1  0          0.000000   0          0          ⋯ 0.9165115  0         \n",
       "         SRR5862270 SRR5862271 SRR5862272 SRR5862273 SRR5862274 SRR5862275\n",
       "DEFB108A 0.0000000  0.0000000  0.000000   0.0000000  0          0         \n",
       "DEFB108D 0.0000000  0.0000000  0.000000   0.0000000  0          0         \n",
       "PSMA2P3  0.0000000  0.0000000  0.000000   0.0000000  0          0         \n",
       "DEFB108E 0.0000000  0.0000000  0.000000   0.0000000  0          0         \n",
       "OR10V3P  0.0000000  0.8513859  0.000000   0.8702195  0          0         \n",
       "PSMA2P1  0.7005361  0.0000000  1.043061   0.0000000  0          0         \n",
       "         SRR5862276 SRR5862277\n",
       "DEFB108A 0          0         \n",
       "DEFB108D 0          0         \n",
       "PSMA2P3  0          0         \n",
       "DEFB108E 0          0         \n",
       "OR10V3P  0          0         \n",
       "PSMA2P1  0          0         "
      ]
     },
     "metadata": {},
     "output_type": "display_data"
    }
   ],
   "source": [
    "mat <- read.table('/home/jovyan/farm/Gut/Deconvolution/E_CEOD_101794/E-GEOD-101794-norm-counts_genes.txt', check.names=F)\n",
    "mat %>% head"
   ]
  },
  {
   "cell_type": "code",
   "execution_count": 8,
   "id": "built-queensland",
   "metadata": {},
   "outputs": [
    {
     "data": {
      "text/html": [
       "<style>\n",
       ".list-inline {list-style: none; margin:0; padding: 0}\n",
       ".list-inline>li {display: inline-block}\n",
       ".list-inline>li:not(:last-child)::after {content: \"\\00b7\"; padding: 0 .5ex}\n",
       "</style>\n",
       "<ol class=list-inline><li>304</li><li>74</li></ol>\n"
      ],
      "text/latex": [
       "\\begin{enumerate*}\n",
       "\\item 304\n",
       "\\item 74\n",
       "\\end{enumerate*}\n"
      ],
      "text/markdown": [
       "1. 304\n",
       "2. 74\n",
       "\n",
       "\n"
      ],
      "text/plain": [
       "[1] 304  74"
      ]
     },
     "metadata": {},
     "output_type": "display_data"
    },
    {
     "data": {
      "text/html": [
       "<style>\n",
       ".list-inline {list-style: none; margin:0; padding: 0}\n",
       ".list-inline>li {display: inline-block}\n",
       ".list-inline>li:not(:last-child)::after {content: \"\\00b7\"; padding: 0 .5ex}\n",
       "</style>\n",
       "<ol class=list-inline><li>38592</li><li>304</li></ol>\n"
      ],
      "text/latex": [
       "\\begin{enumerate*}\n",
       "\\item 38592\n",
       "\\item 304\n",
       "\\end{enumerate*}\n"
      ],
      "text/markdown": [
       "1. 38592\n",
       "2. 304\n",
       "\n",
       "\n"
      ],
      "text/plain": [
       "[1] 38592   304"
      ]
     },
     "metadata": {},
     "output_type": "display_data"
    }
   ],
   "source": [
    "theta %>% dim\n",
    "mat %>% dim"
   ]
  },
  {
   "cell_type": "code",
   "execution_count": 9,
   "id": "greatest-jewelry",
   "metadata": {},
   "outputs": [
    {
     "data": {
      "text/html": [
       "<style>\n",
       ".list-inline {list-style: none; margin:0; padding: 0}\n",
       ".list-inline>li {display: inline-block}\n",
       ".list-inline>li:not(:last-child)::after {content: \"\\00b7\"; padding: 0 .5ex}\n",
       "</style>\n",
       "<ol class=list-inline><li>304</li><li>38593</li></ol>\n"
      ],
      "text/latex": [
       "\\begin{enumerate*}\n",
       "\\item 304\n",
       "\\item 38593\n",
       "\\end{enumerate*}\n"
      ],
      "text/markdown": [
       "1. 304\n",
       "2. 38593\n",
       "\n",
       "\n"
      ],
      "text/plain": [
       "[1]   304 38593"
      ]
     },
     "metadata": {},
     "output_type": "display_data"
    }
   ],
   "source": [
    "mat <- mat[,rownames(theta)]\n",
    "mat <- cbind(theta[,'Mucous_gland_neck'],\n",
    "             t(mat))\n",
    "dim(mat)"
   ]
  },
  {
   "cell_type": "code",
   "execution_count": 10,
   "id": "derived-lindsay",
   "metadata": {},
   "outputs": [
    {
     "name": "stderr",
     "output_type": "stream",
     "text": [
      "Warning message in cor(mat):\n",
      "“the standard deviation is zero”\n"
     ]
    }
   ],
   "source": [
    "Corr <- cor(mat)"
   ]
  },
  {
   "cell_type": "code",
   "execution_count": 11,
   "id": "lesser-modem",
   "metadata": {},
   "outputs": [
    {
     "data": {
      "text/html": [
       "0.563123663885864"
      ],
      "text/latex": [
       "0.563123663885864"
      ],
      "text/markdown": [
       "0.563123663885864"
      ],
      "text/plain": [
       "[1] 0.5631237"
      ]
     },
     "metadata": {},
     "output_type": "display_data"
    }
   ],
   "source": [
    "Corr['MUC6','MUC5AC']"
   ]
  },
  {
   "cell_type": "code",
   "execution_count": 12,
   "id": "premium-wages",
   "metadata": {},
   "outputs": [
    {
     "data": {
      "text/html": [
       "<style>\n",
       ".dl-inline {width: auto; margin:0; padding: 0}\n",
       ".dl-inline>dt, .dl-inline>dd {float: none; width: auto; display: inline-block}\n",
       ".dl-inline>dt::after {content: \":\\0020\"; padding-right: .5ex}\n",
       ".dl-inline>dt:not(:first-of-type) {padding-left: .5ex}\n",
       "</style><dl class=dl-inline><dt>1</dt><dd>1</dd><dt>DEFB108A</dt><dd>&lt;NA&gt;</dd><dt>DEFB108D</dt><dd>-0.0128957726034727</dd><dt>PSMA2P3</dt><dd>0.0234713366991636</dd><dt>DEFB108E</dt><dd>0.00249622419079597</dd><dt>OR10V3P</dt><dd>-0.0397657791704614</dd><dt>PSMA2P1</dt><dd>0.0175896335083475</dd><dt>LINC01634</dt><dd>0.0316211161786449</dd><dt>SHQ1P1</dt><dd>-0.0236586782991918</dd><dt>CPHL1P</dt><dd>0.0163174507585293</dd></dl>\n"
      ],
      "text/latex": [
       "\\begin{description*}\n",
       "\\item[1] 1\n",
       "\\item[DEFB108A] <NA>\n",
       "\\item[DEFB108D] -0.0128957726034727\n",
       "\\item[PSMA2P3] 0.0234713366991636\n",
       "\\item[DEFB108E] 0.00249622419079597\n",
       "\\item[OR10V3P] -0.0397657791704614\n",
       "\\item[PSMA2P1] 0.0175896335083475\n",
       "\\item[LINC01634] 0.0316211161786449\n",
       "\\item[SHQ1P1] -0.0236586782991918\n",
       "\\item[CPHL1P] 0.0163174507585293\n",
       "\\end{description*}\n"
      ],
      "text/markdown": [
       "1\n",
       ":   1DEFB108A\n",
       ":   &lt;NA&gt;DEFB108D\n",
       ":   -0.0128957726034727PSMA2P3\n",
       ":   0.0234713366991636DEFB108E\n",
       ":   0.00249622419079597OR10V3P\n",
       ":   -0.0397657791704614PSMA2P1\n",
       ":   0.0175896335083475LINC01634\n",
       ":   0.0316211161786449SHQ1P1\n",
       ":   -0.0236586782991918CPHL1P\n",
       ":   0.0163174507585293\n",
       "\n"
      ],
      "text/plain": [
       "                 DEFB108A     DEFB108D      PSMA2P3     DEFB108E      OR10V3P \n",
       " 1.000000000           NA -0.012895773  0.023471337  0.002496224 -0.039765779 \n",
       "     PSMA2P1    LINC01634       SHQ1P1       CPHL1P \n",
       " 0.017589634  0.031621116 -0.023658678  0.016317451 "
      ]
     },
     "metadata": {},
     "output_type": "display_data"
    }
   ],
   "source": [
    "Corr[1,1:10]"
   ]
  },
  {
   "cell_type": "code",
   "execution_count": 13,
   "id": "coordinated-cache",
   "metadata": {},
   "outputs": [],
   "source": [
    "write.csv(Corr[1,], file=\"./E-GEOD-101794_gene_corr_nor_counts_new_sc_ref.csv\",quote=F)"
   ]
  },
  {
   "cell_type": "code",
   "execution_count": 164,
   "id": "surgical-preparation",
   "metadata": {},
   "outputs": [
    {
     "data": {
      "image/png": "[encoded data removed]",
      "text/plain": [
       "plot without title"
      ]
     },
     "metadata": {
      "image/png": {
       "height": 420,
       "width": 420
      }
     },
     "output_type": "display_data"
    }
   ],
   "source": [
    "mm <- sort(Corr[1,],decreasing=T)\n",
    "par(las=1);plot(mm, col=\"grey\")\n",
    "text(which(names(mm)=='SPI1')+3000, mm[which(names(mm)=='SPI1')], labels='SPI1')\n",
    "text(which(names(mm)=='CXCR1')+4000, mm[which(names(mm)=='CXCR1')], labels='CXCR1')\n",
    "text(which(names(mm)=='CXCR2')+8000, mm[which(names(mm)=='CXCR2')], labels='CXCR2')\n",
    "text(which(names(mm)=='MUC6')+4000, mm[which(names(mm)=='MUC6')], labels='MUC6')\n",
    "text(which(names(mm)=='BPIFB1')+9000, mm[which(names(mm)=='BPIFB1')], labels='BPIFB1')\n",
    "text(which(names(mm)=='AQP5')+3000, mm[which(names(mm)=='AQP5')], labels='AQP5')\n",
    "text(which(names(mm)=='ACKR1')+8000, mm[which(names(mm)=='ACKR1')], labels='ACKR1')"
   ]
  },
  {
   "cell_type": "code",
   "execution_count": 61,
   "id": "monetary-teach",
   "metadata": {},
   "outputs": [
    {
     "data": {
      "text/html": [
       "<strong>png:</strong> 2"
      ],
      "text/latex": [
       "\\textbf{png:} 2"
      ],
      "text/markdown": [
       "**png:** 2"
      ],
      "text/plain": [
       "png \n",
       "  2 "
      ]
     },
     "metadata": {},
     "output_type": "display_data"
    }
   ],
   "source": [
    "pdf(\"E_CEOD_101794_gene_corr_nor_counts.pdf\", w=7, h=7)\n",
    "mm <- sort(Corr[1,],decreasing=T)\n",
    "par(las=1);plot(mm, col=\"grey\")\n",
    "text(which(names(mm)=='SPI1')+3000, mm[which(names(mm)=='SPI1')], labels='SPI1')\n",
    "text(which(names(mm)=='CXCR1')+4000, mm[which(names(mm)=='CXCR1')], labels='CXCR1')\n",
    "text(which(names(mm)=='CXCR2')+11000, mm[which(names(mm)=='CXCR2')], labels='CXCR2')\n",
    "text(which(names(mm)=='MUC6')+4000, mm[which(names(mm)=='MUC6')], labels='MUC6')\n",
    "text(which(names(mm)=='BPIFB1')+15000, mm[which(names(mm)=='BPIFB1')], labels='BPIFB1')\n",
    "text(which(names(mm)=='AQP5')+3000, mm[which(names(mm)=='AQP5')], labels='AQP5')\n",
    "text(which(names(mm)=='ACKR1')+9000, mm[which(names(mm)=='ACKR1')], labels='ACKR1')\n",
    "dev.off()"
   ]
  },
  {
   "cell_type": "code",
   "execution_count": 14,
   "id": "swiss-columbia",
   "metadata": {},
   "outputs": [
    {
     "data": {
      "text/html": [
       "<table class=\"dataframe\">\n",
       "<caption>A data.frame: 6 × 1</caption>\n",
       "<thead>\n",
       "\t<tr><th></th><th scope=col>corr_with_genes</th></tr>\n",
       "\t<tr><th></th><th scope=col>&lt;dbl&gt;</th></tr>\n",
       "</thead>\n",
       "<tbody>\n",
       "\t<tr><th scope=row>DEFB108A</th><td>          NA</td></tr>\n",
       "\t<tr><th scope=row>DEFB108D</th><td>-0.012895773</td></tr>\n",
       "\t<tr><th scope=row>PSMA2P3</th><td> 0.023471337</td></tr>\n",
       "\t<tr><th scope=row>DEFB108E</th><td> 0.002496224</td></tr>\n",
       "\t<tr><th scope=row>OR10V3P</th><td>-0.039765779</td></tr>\n",
       "\t<tr><th scope=row>PSMA2P1</th><td> 0.017589634</td></tr>\n",
       "</tbody>\n",
       "</table>\n"
      ],
      "text/latex": [
       "A data.frame: 6 × 1\n",
       "\\begin{tabular}{r|l}\n",
       "  & corr\\_with\\_genes\\\\\n",
       "  & <dbl>\\\\\n",
       "\\hline\n",
       "\tDEFB108A &           NA\\\\\n",
       "\tDEFB108D & -0.012895773\\\\\n",
       "\tPSMA2P3 &  0.023471337\\\\\n",
       "\tDEFB108E &  0.002496224\\\\\n",
       "\tOR10V3P & -0.039765779\\\\\n",
       "\tPSMA2P1 &  0.017589634\\\\\n",
       "\\end{tabular}\n"
      ],
      "text/markdown": [
       "\n",
       "A data.frame: 6 × 1\n",
       "\n",
       "| <!--/--> | corr_with_genes &lt;dbl&gt; |\n",
       "|---|---|\n",
       "| DEFB108A |           NA |\n",
       "| DEFB108D | -0.012895773 |\n",
       "| PSMA2P3 |  0.023471337 |\n",
       "| DEFB108E |  0.002496224 |\n",
       "| OR10V3P | -0.039765779 |\n",
       "| PSMA2P1 |  0.017589634 |\n",
       "\n"
      ],
      "text/plain": [
       "         corr_with_genes\n",
       "DEFB108A           NA   \n",
       "DEFB108D -0.012895773   \n",
       "PSMA2P3   0.023471337   \n",
       "DEFB108E  0.002496224   \n",
       "OR10V3P  -0.039765779   \n",
       "PSMA2P1   0.017589634   "
      ]
     },
     "metadata": {},
     "output_type": "display_data"
    }
   ],
   "source": [
    "mat <- read.csv('./E-GEOD-101794_gene_corr_nor_counts_new_sc_ref.csv')\n",
    "mat %>% head"
   ]
  },
  {
   "cell_type": "code",
   "execution_count": 15,
   "id": "sustained-profession",
   "metadata": {},
   "outputs": [
    {
     "data": {
      "text/html": [
       "<table class=\"dataframe\">\n",
       "<caption>A data.frame: 6 × 2</caption>\n",
       "<thead>\n",
       "\t<tr><th></th><th scope=col>corr_with_genes</th><th scope=col>highlight</th></tr>\n",
       "\t<tr><th></th><th scope=col>&lt;dbl&gt;</th><th scope=col>&lt;chr&gt;</th></tr>\n",
       "</thead>\n",
       "<tbody>\n",
       "\t<tr><th scope=row>DEFB108D</th><td>-0.012895773</td><td>no</td></tr>\n",
       "\t<tr><th scope=row>PSMA2P3</th><td> 0.023471337</td><td>no</td></tr>\n",
       "\t<tr><th scope=row>DEFB108E</th><td> 0.002496224</td><td>no</td></tr>\n",
       "\t<tr><th scope=row>OR10V3P</th><td>-0.039765779</td><td>no</td></tr>\n",
       "\t<tr><th scope=row>PSMA2P1</th><td> 0.017589634</td><td>no</td></tr>\n",
       "\t<tr><th scope=row>LINC01634</th><td> 0.031621116</td><td>no</td></tr>\n",
       "</tbody>\n",
       "</table>\n"
      ],
      "text/latex": [
       "A data.frame: 6 × 2\n",
       "\\begin{tabular}{r|ll}\n",
       "  & corr\\_with\\_genes & highlight\\\\\n",
       "  & <dbl> & <chr>\\\\\n",
       "\\hline\n",
       "\tDEFB108D & -0.012895773 & no\\\\\n",
       "\tPSMA2P3 &  0.023471337 & no\\\\\n",
       "\tDEFB108E &  0.002496224 & no\\\\\n",
       "\tOR10V3P & -0.039765779 & no\\\\\n",
       "\tPSMA2P1 &  0.017589634 & no\\\\\n",
       "\tLINC01634 &  0.031621116 & no\\\\\n",
       "\\end{tabular}\n"
      ],
      "text/markdown": [
       "\n",
       "A data.frame: 6 × 2\n",
       "\n",
       "| <!--/--> | corr_with_genes &lt;dbl&gt; | highlight &lt;chr&gt; |\n",
       "|---|---|---|\n",
       "| DEFB108D | -0.012895773 | no |\n",
       "| PSMA2P3 |  0.023471337 | no |\n",
       "| DEFB108E |  0.002496224 | no |\n",
       "| OR10V3P | -0.039765779 | no |\n",
       "| PSMA2P1 |  0.017589634 | no |\n",
       "| LINC01634 |  0.031621116 | no |\n",
       "\n"
      ],
      "text/plain": [
       "          corr_with_genes highlight\n",
       "DEFB108D  -0.012895773    no       \n",
       "PSMA2P3    0.023471337    no       \n",
       "DEFB108E   0.002496224    no       \n",
       "OR10V3P   -0.039765779    no       \n",
       "PSMA2P1    0.017589634    no       \n",
       "LINC01634  0.031621116    no       "
      ]
     },
     "metadata": {},
     "output_type": "display_data"
    }
   ],
   "source": [
    "mat <- as.data.frame(mat)\n",
    "mat$highlight <- rep('no', nrow(mat))\n",
    "gene_list <- c('MUC6','MUC5AC','BPIFB1','AQP5','ACKR1','PROK2','CXCR1','CXCR2','FCGR3B')\n",
    "\n",
    "mat[gene_list, 'highlight'] <- 'yes'\n",
    "mat <- mat %>% drop_na()\n",
    "mat %>% head"
   ]
  },
  {
   "cell_type": "code",
   "execution_count": 16,
   "id": "deadly-warren",
   "metadata": {},
   "outputs": [
    {
     "data": {
      "text/html": [
       "<table class=\"dataframe\">\n",
       "<caption>A data.frame: 6 × 4</caption>\n",
       "<thead>\n",
       "\t<tr><th></th><th scope=col>corr_with_genes</th><th scope=col>highlight</th><th scope=col>x</th><th scope=col>gene</th></tr>\n",
       "\t<tr><th></th><th scope=col>&lt;dbl&gt;</th><th scope=col>&lt;chr&gt;</th><th scope=col>&lt;int&gt;</th><th scope=col>&lt;chr&gt;</th></tr>\n",
       "</thead>\n",
       "<tbody>\n",
       "\t<tr><th scope=row>MUC6</th><td>0.9749976</td><td>yes</td><td>1</td><td>MUC6     </td></tr>\n",
       "\t<tr><th scope=row>BPIFB1</th><td>0.9669425</td><td>yes</td><td>2</td><td>BPIFB1   </td></tr>\n",
       "\t<tr><th scope=row>PGC</th><td>0.9594567</td><td>no </td><td>3</td><td>PGC      </td></tr>\n",
       "\t<tr><th scope=row>A4GNT</th><td>0.9578536</td><td>no </td><td>4</td><td>A4GNT    </td></tr>\n",
       "\t<tr><th scope=row>AQP5</th><td>0.9502218</td><td>yes</td><td>5</td><td>AQP5     </td></tr>\n",
       "\t<tr><th scope=row>LINC02688</th><td>0.9163909</td><td>no </td><td>6</td><td>LINC02688</td></tr>\n",
       "</tbody>\n",
       "</table>\n"
      ],
      "text/latex": [
       "A data.frame: 6 × 4\n",
       "\\begin{tabular}{r|llll}\n",
       "  & corr\\_with\\_genes & highlight & x & gene\\\\\n",
       "  & <dbl> & <chr> & <int> & <chr>\\\\\n",
       "\\hline\n",
       "\tMUC6 & 0.9749976 & yes & 1 & MUC6     \\\\\n",
       "\tBPIFB1 & 0.9669425 & yes & 2 & BPIFB1   \\\\\n",
       "\tPGC & 0.9594567 & no  & 3 & PGC      \\\\\n",
       "\tA4GNT & 0.9578536 & no  & 4 & A4GNT    \\\\\n",
       "\tAQP5 & 0.9502218 & yes & 5 & AQP5     \\\\\n",
       "\tLINC02688 & 0.9163909 & no  & 6 & LINC02688\\\\\n",
       "\\end{tabular}\n"
      ],
      "text/markdown": [
       "\n",
       "A data.frame: 6 × 4\n",
       "\n",
       "| <!--/--> | corr_with_genes &lt;dbl&gt; | highlight &lt;chr&gt; | x &lt;int&gt; | gene &lt;chr&gt; |\n",
       "|---|---|---|---|---|\n",
       "| MUC6 | 0.9749976 | yes | 1 | MUC6      |\n",
       "| BPIFB1 | 0.9669425 | yes | 2 | BPIFB1    |\n",
       "| PGC | 0.9594567 | no  | 3 | PGC       |\n",
       "| A4GNT | 0.9578536 | no  | 4 | A4GNT     |\n",
       "| AQP5 | 0.9502218 | yes | 5 | AQP5      |\n",
       "| LINC02688 | 0.9163909 | no  | 6 | LINC02688 |\n",
       "\n"
      ],
      "text/plain": [
       "          corr_with_genes highlight x gene     \n",
       "MUC6      0.9749976       yes       1 MUC6     \n",
       "BPIFB1    0.9669425       yes       2 BPIFB1   \n",
       "PGC       0.9594567       no        3 PGC      \n",
       "A4GNT     0.9578536       no        4 A4GNT    \n",
       "AQP5      0.9502218       yes       5 AQP5     \n",
       "LINC02688 0.9163909       no        6 LINC02688"
      ]
     },
     "metadata": {},
     "output_type": "display_data"
    }
   ],
   "source": [
    "mat <- mat[order(mat[,1], decreasing=T), ]\n",
    "mat$x <- 1:nrow(mat)\n",
    "mat$gene <- rownames(mat)\n",
    "mat %>% head"
   ]
  },
  {
   "cell_type": "code",
   "execution_count": 17,
   "id": "round-nation",
   "metadata": {},
   "outputs": [
    {
     "data": {
      "image/png": "[encoded data removed]",
      "text/plain": [
       "plot without title"
      ]
     },
     "metadata": {
      "image/png": {
       "height": 420,
       "width": 420
      }
     },
     "output_type": "display_data"
    }
   ],
   "source": [
    "library(tidyverse)\n",
    "library(ggrepel)\n",
    "library(ggfun)\n",
    "library(grid)\n",
    "\n",
    "ggplot(mat %>% arrange(highlight),\n",
    "       aes(x = x, y = corr_with_genes, color = highlight, \n",
    "           size = highlight, shape = highlight)) +\n",
    "       geom_point() + \n",
    "       scale_color_manual(values = c(no = 'grey80', yes = 'black')) + \n",
    "       scale_size_manual(values = c(no = 1, yes = 4)) + \n",
    "       scale_shape_manual(values = c(no = 1, yes = 20)) + \n",
    "geom_text_repel(data =  mat %>% filter(highlight == 'yes'),\n",
    "                aes(x = x, y = corr_with_genes, label = gene),\n",
    "                box.padding = 0.5,\n",
    "                nudge_x = 0.2,\n",
    "                nudge_y = 0.2,\n",
    "                segment.curvature = -0.1,\n",
    "                segment.ncp = 3,\n",
    "                segment.angle = 10,\n",
    "                direction = \"x\", \n",
    "                hjust = \"right\",\n",
    "                force = 5,\n",
    "                point.padding = 1\n",
    "                  ) +        \n",
    "theme_bw()\n",
    "ggsave(\"figures/E-GEOD-101794_gene_corr_nor_counts_new_sc_ref.pdf\", width = 6.5, height = 6)"
   ]
  },
  {
   "cell_type": "markdown",
   "id": "fourth-athletics",
   "metadata": {},
   "source": [
    "#### TCGA COAD"
   ]
  },
  {
   "cell_type": "code",
   "execution_count": 43,
   "id": "damaged-question",
   "metadata": {},
   "outputs": [],
   "source": [
    "load(\"/lustre/scratch126/cellgen/team205/rl20/Gut/BayesPrism_out/COAD_TCGA_fine_grained_annot_disease_only_new_sc_ref.rdata\")"
   ]
  },
  {
   "cell_type": "code",
   "execution_count": 44,
   "id": "julian-taxation",
   "metadata": {},
   "outputs": [],
   "source": [
    "# extract posterior mean of cell type fraction theta\n",
    "theta <- get.fraction(bp=bp.res,\n",
    "            which.theta=\"final\",\n",
    "            state.or.type=\"type\")"
   ]
  },
  {
   "cell_type": "code",
   "execution_count": 45,
   "id": "collectible-fifth",
   "metadata": {},
   "outputs": [
    {
     "data": {
      "text/html": [
       "<table class=\"dataframe\">\n",
       "<caption>A data.frame: 6 × 4</caption>\n",
       "<thead>\n",
       "\t<tr><th></th><th scope=col>corr</th><th scope=col>highlight</th><th scope=col>gene</th><th scope=col>x</th></tr>\n",
       "\t<tr><th></th><th scope=col>&lt;dbl&gt;</th><th scope=col>&lt;chr&gt;</th><th scope=col>&lt;chr&gt;</th><th scope=col>&lt;int&gt;</th></tr>\n",
       "</thead>\n",
       "<tbody>\n",
       "\t<tr><th scope=row>Mucous_gland_neck</th><td>1.0000000</td><td>no</td><td>Mucous_gland_neck     </td><td>1</td></tr>\n",
       "\t<tr><th scope=row>Goblet_progenitor</th><td>0.3085043</td><td>no</td><td>Goblet_progenitor     </td><td>2</td></tr>\n",
       "\t<tr><th scope=row>DC_cDC1</th><td>0.2304886</td><td>no</td><td>DC_cDC1               </td><td>3</td></tr>\n",
       "\t<tr><th scope=row>Paneth</th><td>0.2276683</td><td>no</td><td>Paneth                </td><td>4</td></tr>\n",
       "\t<tr><th scope=row>Oral_mucosa_fibroblast</th><td>0.1749093</td><td>no</td><td>Oral_mucosa_fibroblast</td><td>5</td></tr>\n",
       "\t<tr><th scope=row>Goblet</th><td>0.1681464</td><td>no</td><td>Goblet                </td><td>6</td></tr>\n",
       "</tbody>\n",
       "</table>\n"
      ],
      "text/latex": [
       "A data.frame: 6 × 4\n",
       "\\begin{tabular}{r|llll}\n",
       "  & corr & highlight & gene & x\\\\\n",
       "  & <dbl> & <chr> & <chr> & <int>\\\\\n",
       "\\hline\n",
       "\tMucous\\_gland\\_neck & 1.0000000 & no & Mucous\\_gland\\_neck      & 1\\\\\n",
       "\tGoblet\\_progenitor & 0.3085043 & no & Goblet\\_progenitor      & 2\\\\\n",
       "\tDC\\_cDC1 & 0.2304886 & no & DC\\_cDC1                & 3\\\\\n",
       "\tPaneth & 0.2276683 & no & Paneth                 & 4\\\\\n",
       "\tOral\\_mucosa\\_fibroblast & 0.1749093 & no & Oral\\_mucosa\\_fibroblast & 5\\\\\n",
       "\tGoblet & 0.1681464 & no & Goblet                 & 6\\\\\n",
       "\\end{tabular}\n"
      ],
      "text/markdown": [
       "\n",
       "A data.frame: 6 × 4\n",
       "\n",
       "| <!--/--> | corr &lt;dbl&gt; | highlight &lt;chr&gt; | gene &lt;chr&gt; | x &lt;int&gt; |\n",
       "|---|---|---|---|---|\n",
       "| Mucous_gland_neck | 1.0000000 | no | Mucous_gland_neck      | 1 |\n",
       "| Goblet_progenitor | 0.3085043 | no | Goblet_progenitor      | 2 |\n",
       "| DC_cDC1 | 0.2304886 | no | DC_cDC1                | 3 |\n",
       "| Paneth | 0.2276683 | no | Paneth                 | 4 |\n",
       "| Oral_mucosa_fibroblast | 0.1749093 | no | Oral_mucosa_fibroblast | 5 |\n",
       "| Goblet | 0.1681464 | no | Goblet                 | 6 |\n",
       "\n"
      ],
      "text/plain": [
       "                       corr      highlight gene                   x\n",
       "Mucous_gland_neck      1.0000000 no        Mucous_gland_neck      1\n",
       "Goblet_progenitor      0.3085043 no        Goblet_progenitor      2\n",
       "DC_cDC1                0.2304886 no        DC_cDC1                3\n",
       "Paneth                 0.2276683 no        Paneth                 4\n",
       "Oral_mucosa_fibroblast 0.1749093 no        Oral_mucosa_fibroblast 5\n",
       "Goblet                 0.1681464 no        Goblet                 6"
      ]
     },
     "metadata": {},
     "output_type": "display_data"
    }
   ],
   "source": [
    "Corr <- cor(theta)\n",
    "\n",
    "ll <- Corr['Mucous_gland_neck',] %>% sort(decreasing=T)\n",
    "ll <- data.frame(corr = ll, highlight = rep('no', length(ll)))\n",
    "ll['EC_venous', 'highlight'] <- 'yes'\n",
    "ll$gene <- rownames(ll)\n",
    "ll$x <- 1:nrow(ll)\n",
    "\n",
    "ll %>% head"
   ]
  },
  {
   "cell_type": "code",
   "execution_count": 46,
   "id": "express-thousand",
   "metadata": {},
   "outputs": [
    {
     "data": {
      "image/png": "[encoded data removed]",
      "text/plain": [
       "plot without title"
      ]
     },
     "metadata": {
      "image/png": {
       "height": 420,
       "width": 420
      }
     },
     "output_type": "display_data"
    }
   ],
   "source": [
    "library(tidyverse)\n",
    "library(ggrepel)\n",
    "library(ggfun)\n",
    "library(grid)\n",
    "\n",
    "ggplot(ll %>% arrange(highlight),\n",
    "       aes(x = x, y = corr, color = highlight, \n",
    "           size = highlight, shape = highlight)) +\n",
    "       geom_point() + \n",
    "       scale_color_manual(values = c(no = 'grey50', yes = 'black')) + \n",
    "       scale_size_manual(values = c(no = 2, yes = 4)) + \n",
    "       scale_shape_manual(values = c(no = 1, yes = 20)) + \n",
    "geom_text_repel(data =  ll %>% filter(highlight == 'yes'),\n",
    "                aes(x = x, y = corr, label = gene),\n",
    "                box.padding = 0.5,\n",
    "                nudge_x = 0.2,\n",
    "                nudge_y = 0.2,\n",
    "                segment.curvature = -0.1,\n",
    "                segment.ncp = 3,\n",
    "                segment.angle = 10,\n",
    "                direction = \"x\", \n",
    "                hjust = \"right\",\n",
    "                force = 5,\n",
    "                point.padding = 1\n",
    "                  ) +        \n",
    "theme_bw()\n",
    "ggsave(\"figures/COAD_TCGA_celltype_corr_new_sc_ref.pdf\", width = 6.2, height = 6)"
   ]
  },
  {
   "cell_type": "code",
   "execution_count": null,
   "id": "turkish-stranger",
   "metadata": {},
   "outputs": [],
   "source": []
  },
  {
   "cell_type": "code",
   "execution_count": 20,
   "id": "united-scratch",
   "metadata": {},
   "outputs": [
    {
     "data": {
      "text/html": [
       "<table class=\"dataframe\">\n",
       "<caption>A data.frame: 6 × 521</caption>\n",
       "<thead>\n",
       "\t<tr><th></th><th scope=col>TCGA-AA-3693-01A-01R-0905-07</th><th scope=col>TCGA-A6-6781-01A-22R-1928-07</th><th scope=col>TCGA-AA-3506-01A-01R-1410-07</th><th scope=col>TCGA-AM-5821-01A-01R-1653-07</th><th scope=col>TCGA-DM-A1D8-01A-11R-A155-07</th><th scope=col>TCGA-F4-6460-01A-11R-1774-07</th><th scope=col>TCGA-AA-3930-01A-01R-1022-07</th><th scope=col>TCGA-D5-6539-01A-11R-1723-07</th><th scope=col>TCGA-AA-A02W-01A-01R-A00A-07</th><th scope=col>TCGA-F4-6855-01A-11R-1928-07</th><th scope=col>⋯</th><th scope=col>TCGA-AA-3696-01A-01R-0905-07</th><th scope=col>TCGA-DM-A285-01A-11R-A16W-07</th><th scope=col>TCGA-AA-A02E-01A-01R-A00A-07</th><th scope=col>TCGA-AA-A00R-01A-01R-A002-07</th><th scope=col>TCGA-A6-6137-01A-11R-1774-07</th><th scope=col>TCGA-AA-3692-01A-01R-0905-07</th><th scope=col>TCGA-A6-3807-01A-01R-1022-07</th><th scope=col>TCGA-AA-A02R-01A-01R-A00A-07</th><th scope=col>TCGA-CM-6675-01A-11R-1839-07</th><th scope=col>TCGA-AA-3966-01A-01R-1113-07</th></tr>\n",
       "\t<tr><th></th><th scope=col>&lt;dbl&gt;</th><th scope=col>&lt;dbl&gt;</th><th scope=col>&lt;dbl&gt;</th><th scope=col>&lt;dbl&gt;</th><th scope=col>&lt;dbl&gt;</th><th scope=col>&lt;dbl&gt;</th><th scope=col>&lt;dbl&gt;</th><th scope=col>&lt;dbl&gt;</th><th scope=col>&lt;dbl&gt;</th><th scope=col>&lt;dbl&gt;</th><th scope=col>⋯</th><th scope=col>&lt;dbl&gt;</th><th scope=col>&lt;dbl&gt;</th><th scope=col>&lt;dbl&gt;</th><th scope=col>&lt;dbl&gt;</th><th scope=col>&lt;dbl&gt;</th><th scope=col>&lt;dbl&gt;</th><th scope=col>&lt;dbl&gt;</th><th scope=col>&lt;dbl&gt;</th><th scope=col>&lt;dbl&gt;</th><th scope=col>&lt;dbl&gt;</th></tr>\n",
       "</thead>\n",
       "<tbody>\n",
       "\t<tr><th scope=row>TSPAN6</th><td>8899.02099</td><td>804.637369</td><td>3228.29673</td><td>1568.3509</td><td>4745.4023664</td><td>5466.39975</td><td>2917.47172</td><td>2989.04427</td><td>9229.24116</td><td>5032.87709</td><td>⋯</td><td>4988.35119</td><td>5483.67986</td><td>3847.07082</td><td>3274.01094</td><td>8481.57887</td><td>9669.966373</td><td>6391.27694</td><td>1482.8662</td><td>3110.464532</td><td>3877.4826</td></tr>\n",
       "\t<tr><th scope=row>TNMD</th><td>  22.76242</td><td>  2.168834</td><td>  64.97631</td><td>   0.0000</td><td>   0.4565082</td><td>  16.26905</td><td>  20.09278</td><td>  19.77161</td><td>  29.08756</td><td>  14.85994</td><td>⋯</td><td>  15.88647</td><td>  18.51771</td><td>  26.33853</td><td>  41.16261</td><td>  68.20265</td><td>   7.603029</td><td>  91.01502</td><td>   0.0000</td><td>   1.790711</td><td>   0.0000</td></tr>\n",
       "\t<tr><th scope=row>DPM1</th><td>4067.96904</td><td>940.550959</td><td> 690.80078</td><td>1947.4856</td><td>1898.1609466</td><td>1868.11099</td><td>2718.55320</td><td>1310.57552</td><td>2186.41511</td><td>1316.96249</td><td>⋯</td><td> 762.55050</td><td>3309.31040</td><td>1499.64977</td><td> 778.92330</td><td>1421.31753</td><td>1632.478879</td><td>2022.55599</td><td> 641.6248</td><td>1424.808835</td><td>1102.3607</td></tr>\n",
       "\t<tr><th scope=row>SCYL3</th><td> 666.61363</td><td>463.407506</td><td> 400.11729</td><td> 374.2001</td><td> 477.0510315</td><td> 418.04377</td><td> 596.75558</td><td> 552.89905</td><td> 420.55767</td><td> 799.65071</td><td>⋯</td><td> 754.60727</td><td> 272.40532</td><td> 646.94002</td><td> 337.21679</td><td> 576.50544</td><td> 614.759179</td><td> 410.57887</td><td> 317.9607</td><td> 594.515961</td><td> 473.6803</td></tr>\n",
       "\t<tr><th scope=row>C1orf112</th><td> 379.37361</td><td>132.298867</td><td> 208.60816</td><td> 312.5188</td><td> 320.0122231</td><td> 309.81924</td><td> 612.82980</td><td> 528.18453</td><td> 358.74660</td><td> 335.27747</td><td>⋯</td><td> 365.38878</td><td> 204.66947</td><td> 406.60098</td><td> 398.96071</td><td> 235.49218</td><td> 422.511167</td><td> 337.76685</td><td> 248.0949</td><td> 432.755092</td><td> 233.1202</td></tr>\n",
       "\t<tr><th scope=row>FGR</th><td>  72.62295</td><td>672.338503</td><td> 311.20233</td><td> 229.4546</td><td>  41.5422429</td><td> 168.34927</td><td> 446.05973</td><td> 148.28710</td><td> 119.98620</td><td> 226.61414</td><td>⋯</td><td>  55.60264</td><td> 101.84743</td><td>  72.43094</td><td> 639.60369</td><td> 164.07242</td><td> 255.244535</td><td> 380.24053</td><td> 591.7207</td><td>  84.163404</td><td> 928.7606</td></tr>\n",
       "</tbody>\n",
       "</table>\n"
      ],
      "text/latex": [
       "A data.frame: 6 × 521\n",
       "\\begin{tabular}{r|lllllllllllllllllllll}\n",
       "  & TCGA-AA-3693-01A-01R-0905-07 & TCGA-A6-6781-01A-22R-1928-07 & TCGA-AA-3506-01A-01R-1410-07 & TCGA-AM-5821-01A-01R-1653-07 & TCGA-DM-A1D8-01A-11R-A155-07 & TCGA-F4-6460-01A-11R-1774-07 & TCGA-AA-3930-01A-01R-1022-07 & TCGA-D5-6539-01A-11R-1723-07 & TCGA-AA-A02W-01A-01R-A00A-07 & TCGA-F4-6855-01A-11R-1928-07 & ⋯ & TCGA-AA-3696-01A-01R-0905-07 & TCGA-DM-A285-01A-11R-A16W-07 & TCGA-AA-A02E-01A-01R-A00A-07 & TCGA-AA-A00R-01A-01R-A002-07 & TCGA-A6-6137-01A-11R-1774-07 & TCGA-AA-3692-01A-01R-0905-07 & TCGA-A6-3807-01A-01R-1022-07 & TCGA-AA-A02R-01A-01R-A00A-07 & TCGA-CM-6675-01A-11R-1839-07 & TCGA-AA-3966-01A-01R-1113-07\\\\\n",
       "  & <dbl> & <dbl> & <dbl> & <dbl> & <dbl> & <dbl> & <dbl> & <dbl> & <dbl> & <dbl> & ⋯ & <dbl> & <dbl> & <dbl> & <dbl> & <dbl> & <dbl> & <dbl> & <dbl> & <dbl> & <dbl>\\\\\n",
       "\\hline\n",
       "\tTSPAN6 & 8899.02099 & 804.637369 & 3228.29673 & 1568.3509 & 4745.4023664 & 5466.39975 & 2917.47172 & 2989.04427 & 9229.24116 & 5032.87709 & ⋯ & 4988.35119 & 5483.67986 & 3847.07082 & 3274.01094 & 8481.57887 & 9669.966373 & 6391.27694 & 1482.8662 & 3110.464532 & 3877.4826\\\\\n",
       "\tTNMD &   22.76242 &   2.168834 &   64.97631 &    0.0000 &    0.4565082 &   16.26905 &   20.09278 &   19.77161 &   29.08756 &   14.85994 & ⋯ &   15.88647 &   18.51771 &   26.33853 &   41.16261 &   68.20265 &    7.603029 &   91.01502 &    0.0000 &    1.790711 &    0.0000\\\\\n",
       "\tDPM1 & 4067.96904 & 940.550959 &  690.80078 & 1947.4856 & 1898.1609466 & 1868.11099 & 2718.55320 & 1310.57552 & 2186.41511 & 1316.96249 & ⋯ &  762.55050 & 3309.31040 & 1499.64977 &  778.92330 & 1421.31753 & 1632.478879 & 2022.55599 &  641.6248 & 1424.808835 & 1102.3607\\\\\n",
       "\tSCYL3 &  666.61363 & 463.407506 &  400.11729 &  374.2001 &  477.0510315 &  418.04377 &  596.75558 &  552.89905 &  420.55767 &  799.65071 & ⋯ &  754.60727 &  272.40532 &  646.94002 &  337.21679 &  576.50544 &  614.759179 &  410.57887 &  317.9607 &  594.515961 &  473.6803\\\\\n",
       "\tC1orf112 &  379.37361 & 132.298867 &  208.60816 &  312.5188 &  320.0122231 &  309.81924 &  612.82980 &  528.18453 &  358.74660 &  335.27747 & ⋯ &  365.38878 &  204.66947 &  406.60098 &  398.96071 &  235.49218 &  422.511167 &  337.76685 &  248.0949 &  432.755092 &  233.1202\\\\\n",
       "\tFGR &   72.62295 & 672.338503 &  311.20233 &  229.4546 &   41.5422429 &  168.34927 &  446.05973 &  148.28710 &  119.98620 &  226.61414 & ⋯ &   55.60264 &  101.84743 &   72.43094 &  639.60369 &  164.07242 &  255.244535 &  380.24053 &  591.7207 &   84.163404 &  928.7606\\\\\n",
       "\\end{tabular}\n"
      ],
      "text/markdown": [
       "\n",
       "A data.frame: 6 × 521\n",
       "\n",
       "| <!--/--> | TCGA-AA-3693-01A-01R-0905-07 &lt;dbl&gt; | TCGA-A6-6781-01A-22R-1928-07 &lt;dbl&gt; | TCGA-AA-3506-01A-01R-1410-07 &lt;dbl&gt; | TCGA-AM-5821-01A-01R-1653-07 &lt;dbl&gt; | TCGA-DM-A1D8-01A-11R-A155-07 &lt;dbl&gt; | TCGA-F4-6460-01A-11R-1774-07 &lt;dbl&gt; | TCGA-AA-3930-01A-01R-1022-07 &lt;dbl&gt; | TCGA-D5-6539-01A-11R-1723-07 &lt;dbl&gt; | TCGA-AA-A02W-01A-01R-A00A-07 &lt;dbl&gt; | TCGA-F4-6855-01A-11R-1928-07 &lt;dbl&gt; | ⋯ ⋯ | TCGA-AA-3696-01A-01R-0905-07 &lt;dbl&gt; | TCGA-DM-A285-01A-11R-A16W-07 &lt;dbl&gt; | TCGA-AA-A02E-01A-01R-A00A-07 &lt;dbl&gt; | TCGA-AA-A00R-01A-01R-A002-07 &lt;dbl&gt; | TCGA-A6-6137-01A-11R-1774-07 &lt;dbl&gt; | TCGA-AA-3692-01A-01R-0905-07 &lt;dbl&gt; | TCGA-A6-3807-01A-01R-1022-07 &lt;dbl&gt; | TCGA-AA-A02R-01A-01R-A00A-07 &lt;dbl&gt; | TCGA-CM-6675-01A-11R-1839-07 &lt;dbl&gt; | TCGA-AA-3966-01A-01R-1113-07 &lt;dbl&gt; |\n",
       "|---|---|---|---|---|---|---|---|---|---|---|---|---|---|---|---|---|---|---|---|---|---|\n",
       "| TSPAN6 | 8899.02099 | 804.637369 | 3228.29673 | 1568.3509 | 4745.4023664 | 5466.39975 | 2917.47172 | 2989.04427 | 9229.24116 | 5032.87709 | ⋯ | 4988.35119 | 5483.67986 | 3847.07082 | 3274.01094 | 8481.57887 | 9669.966373 | 6391.27694 | 1482.8662 | 3110.464532 | 3877.4826 |\n",
       "| TNMD |   22.76242 |   2.168834 |   64.97631 |    0.0000 |    0.4565082 |   16.26905 |   20.09278 |   19.77161 |   29.08756 |   14.85994 | ⋯ |   15.88647 |   18.51771 |   26.33853 |   41.16261 |   68.20265 |    7.603029 |   91.01502 |    0.0000 |    1.790711 |    0.0000 |\n",
       "| DPM1 | 4067.96904 | 940.550959 |  690.80078 | 1947.4856 | 1898.1609466 | 1868.11099 | 2718.55320 | 1310.57552 | 2186.41511 | 1316.96249 | ⋯ |  762.55050 | 3309.31040 | 1499.64977 |  778.92330 | 1421.31753 | 1632.478879 | 2022.55599 |  641.6248 | 1424.808835 | 1102.3607 |\n",
       "| SCYL3 |  666.61363 | 463.407506 |  400.11729 |  374.2001 |  477.0510315 |  418.04377 |  596.75558 |  552.89905 |  420.55767 |  799.65071 | ⋯ |  754.60727 |  272.40532 |  646.94002 |  337.21679 |  576.50544 |  614.759179 |  410.57887 |  317.9607 |  594.515961 |  473.6803 |\n",
       "| C1orf112 |  379.37361 | 132.298867 |  208.60816 |  312.5188 |  320.0122231 |  309.81924 |  612.82980 |  528.18453 |  358.74660 |  335.27747 | ⋯ |  365.38878 |  204.66947 |  406.60098 |  398.96071 |  235.49218 |  422.511167 |  337.76685 |  248.0949 |  432.755092 |  233.1202 |\n",
       "| FGR |   72.62295 | 672.338503 |  311.20233 |  229.4546 |   41.5422429 |  168.34927 |  446.05973 |  148.28710 |  119.98620 |  226.61414 | ⋯ |   55.60264 |  101.84743 |   72.43094 |  639.60369 |  164.07242 |  255.244535 |  380.24053 |  591.7207 |   84.163404 |  928.7606 |\n",
       "\n"
      ],
      "text/plain": [
       "         TCGA-AA-3693-01A-01R-0905-07 TCGA-A6-6781-01A-22R-1928-07\n",
       "TSPAN6   8899.02099                   804.637369                  \n",
       "TNMD       22.76242                     2.168834                  \n",
       "DPM1     4067.96904                   940.550959                  \n",
       "SCYL3     666.61363                   463.407506                  \n",
       "C1orf112  379.37361                   132.298867                  \n",
       "FGR        72.62295                   672.338503                  \n",
       "         TCGA-AA-3506-01A-01R-1410-07 TCGA-AM-5821-01A-01R-1653-07\n",
       "TSPAN6   3228.29673                   1568.3509                   \n",
       "TNMD       64.97631                      0.0000                   \n",
       "DPM1      690.80078                   1947.4856                   \n",
       "SCYL3     400.11729                    374.2001                   \n",
       "C1orf112  208.60816                    312.5188                   \n",
       "FGR       311.20233                    229.4546                   \n",
       "         TCGA-DM-A1D8-01A-11R-A155-07 TCGA-F4-6460-01A-11R-1774-07\n",
       "TSPAN6   4745.4023664                 5466.39975                  \n",
       "TNMD        0.4565082                   16.26905                  \n",
       "DPM1     1898.1609466                 1868.11099                  \n",
       "SCYL3     477.0510315                  418.04377                  \n",
       "C1orf112  320.0122231                  309.81924                  \n",
       "FGR        41.5422429                  168.34927                  \n",
       "         TCGA-AA-3930-01A-01R-1022-07 TCGA-D5-6539-01A-11R-1723-07\n",
       "TSPAN6   2917.47172                   2989.04427                  \n",
       "TNMD       20.09278                     19.77161                  \n",
       "DPM1     2718.55320                   1310.57552                  \n",
       "SCYL3     596.75558                    552.89905                  \n",
       "C1orf112  612.82980                    528.18453                  \n",
       "FGR       446.05973                    148.28710                  \n",
       "         TCGA-AA-A02W-01A-01R-A00A-07 TCGA-F4-6855-01A-11R-1928-07 ⋯\n",
       "TSPAN6   9229.24116                   5032.87709                   ⋯\n",
       "TNMD       29.08756                     14.85994                   ⋯\n",
       "DPM1     2186.41511                   1316.96249                   ⋯\n",
       "SCYL3     420.55767                    799.65071                   ⋯\n",
       "C1orf112  358.74660                    335.27747                   ⋯\n",
       "FGR       119.98620                    226.61414                   ⋯\n",
       "         TCGA-AA-3696-01A-01R-0905-07 TCGA-DM-A285-01A-11R-A16W-07\n",
       "TSPAN6   4988.35119                   5483.67986                  \n",
       "TNMD       15.88647                     18.51771                  \n",
       "DPM1      762.55050                   3309.31040                  \n",
       "SCYL3     754.60727                    272.40532                  \n",
       "C1orf112  365.38878                    204.66947                  \n",
       "FGR        55.60264                    101.84743                  \n",
       "         TCGA-AA-A02E-01A-01R-A00A-07 TCGA-AA-A00R-01A-01R-A002-07\n",
       "TSPAN6   3847.07082                   3274.01094                  \n",
       "TNMD       26.33853                     41.16261                  \n",
       "DPM1     1499.64977                    778.92330                  \n",
       "SCYL3     646.94002                    337.21679                  \n",
       "C1orf112  406.60098                    398.96071                  \n",
       "FGR        72.43094                    639.60369                  \n",
       "         TCGA-A6-6137-01A-11R-1774-07 TCGA-AA-3692-01A-01R-0905-07\n",
       "TSPAN6   8481.57887                   9669.966373                 \n",
       "TNMD       68.20265                      7.603029                 \n",
       "DPM1     1421.31753                   1632.478879                 \n",
       "SCYL3     576.50544                    614.759179                 \n",
       "C1orf112  235.49218                    422.511167                 \n",
       "FGR       164.07242                    255.244535                 \n",
       "         TCGA-A6-3807-01A-01R-1022-07 TCGA-AA-A02R-01A-01R-A00A-07\n",
       "TSPAN6   6391.27694                   1482.8662                   \n",
       "TNMD       91.01502                      0.0000                   \n",
       "DPM1     2022.55599                    641.6248                   \n",
       "SCYL3     410.57887                    317.9607                   \n",
       "C1orf112  337.76685                    248.0949                   \n",
       "FGR       380.24053                    591.7207                   \n",
       "         TCGA-CM-6675-01A-11R-1839-07 TCGA-AA-3966-01A-01R-1113-07\n",
       "TSPAN6   3110.464532                  3877.4826                   \n",
       "TNMD        1.790711                     0.0000                   \n",
       "DPM1     1424.808835                  1102.3607                   \n",
       "SCYL3     594.515961                   473.6803                   \n",
       "C1orf112  432.755092                   233.1202                   \n",
       "FGR        84.163404                   928.7606                   "
      ]
     },
     "metadata": {},
     "output_type": "display_data"
    }
   ],
   "source": [
    "mat <- read.table('/home/jovyan/farm/Gut/COAD_TCGA-norm-counts.txt', check.names=F)\n",
    "mat %>% head"
   ]
  },
  {
   "cell_type": "code",
   "execution_count": 21,
   "id": "typical-semiconductor",
   "metadata": {},
   "outputs": [
    {
     "data": {
      "text/html": [
       "<style>\n",
       ".list-inline {list-style: none; margin:0; padding: 0}\n",
       ".list-inline>li {display: inline-block}\n",
       ".list-inline>li:not(:last-child)::after {content: \"\\00b7\"; padding: 0 .5ex}\n",
       "</style>\n",
       "<ol class=list-inline><li>521</li><li>74</li></ol>\n"
      ],
      "text/latex": [
       "\\begin{enumerate*}\n",
       "\\item 521\n",
       "\\item 74\n",
       "\\end{enumerate*}\n"
      ],
      "text/markdown": [
       "1. 521\n",
       "2. 74\n",
       "\n",
       "\n"
      ],
      "text/plain": [
       "[1] 521  74"
      ]
     },
     "metadata": {},
     "output_type": "display_data"
    },
    {
     "data": {
      "text/html": [
       "<style>\n",
       ".list-inline {list-style: none; margin:0; padding: 0}\n",
       ".list-inline>li {display: inline-block}\n",
       ".list-inline>li:not(:last-child)::after {content: \"\\00b7\"; padding: 0 .5ex}\n",
       "</style>\n",
       "<ol class=list-inline><li>55150</li><li>521</li></ol>\n"
      ],
      "text/latex": [
       "\\begin{enumerate*}\n",
       "\\item 55150\n",
       "\\item 521\n",
       "\\end{enumerate*}\n"
      ],
      "text/markdown": [
       "1. 55150\n",
       "2. 521\n",
       "\n",
       "\n"
      ],
      "text/plain": [
       "[1] 55150   521"
      ]
     },
     "metadata": {},
     "output_type": "display_data"
    }
   ],
   "source": [
    "theta %>% dim\n",
    "mat %>% dim"
   ]
  },
  {
   "cell_type": "code",
   "execution_count": 22,
   "id": "respective-universe",
   "metadata": {},
   "outputs": [
    {
     "data": {
      "text/html": [
       "<style>\n",
       ".list-inline {list-style: none; margin:0; padding: 0}\n",
       ".list-inline>li {display: inline-block}\n",
       ".list-inline>li:not(:last-child)::after {content: \"\\00b7\"; padding: 0 .5ex}\n",
       "</style>\n",
       "<ol class=list-inline><li>521</li><li>55151</li></ol>\n"
      ],
      "text/latex": [
       "\\begin{enumerate*}\n",
       "\\item 521\n",
       "\\item 55151\n",
       "\\end{enumerate*}\n"
      ],
      "text/markdown": [
       "1. 521\n",
       "2. 55151\n",
       "\n",
       "\n"
      ],
      "text/plain": [
       "[1]   521 55151"
      ]
     },
     "metadata": {},
     "output_type": "display_data"
    }
   ],
   "source": [
    "mat <- mat[,rownames(theta)]\n",
    "mat <- cbind(theta[,'Mucous_gland_neck'],\n",
    "             t(mat))\n",
    "dim(mat)"
   ]
  },
  {
   "cell_type": "code",
   "execution_count": 23,
   "id": "humanitarian-classic",
   "metadata": {},
   "outputs": [
    {
     "name": "stderr",
     "output_type": "stream",
     "text": [
      "Warning message in cor(mat):\n",
      "“the standard deviation is zero”\n"
     ]
    }
   ],
   "source": [
    "Corr <- cor(mat)"
   ]
  },
  {
   "cell_type": "code",
   "execution_count": 24,
   "id": "crazy-small",
   "metadata": {},
   "outputs": [],
   "source": [
    "write.csv(Corr[1,], file=\"./COAD_TCGA_gene_corr_nor_counts_new_sc_ref.csv\",quote=F)"
   ]
  },
  {
   "cell_type": "code",
   "execution_count": 25,
   "id": "fresh-serum",
   "metadata": {},
   "outputs": [
    {
     "data": {
      "text/html": [
       "0.344736547614749"
      ],
      "text/latex": [
       "0.344736547614749"
      ],
      "text/markdown": [
       "0.344736547614749"
      ],
      "text/plain": [
       "[1] 0.3447365"
      ]
     },
     "metadata": {},
     "output_type": "display_data"
    }
   ],
   "source": [
    "Corr['MUC6','MUC5AC']"
   ]
  },
  {
   "cell_type": "code",
   "execution_count": 69,
   "id": "floppy-twins",
   "metadata": {},
   "outputs": [
    {
     "data": {
      "image/png": "[encoded data removed]",
      "text/plain": [
       "plot without title"
      ]
     },
     "metadata": {
      "image/png": {
       "height": 420,
       "width": 420
      }
     },
     "output_type": "display_data"
    }
   ],
   "source": [
    "mm <- sort(Corr[1,],decreasing=T)\n",
    "par(las=1);plot(mm, col=\"grey\")\n",
    "text(which(names(mm)=='SPI1')+3000, mm[which(names(mm)=='SPI1')], labels='SPI1')\n",
    "text(which(names(mm)=='CXCR1')+6000, mm[which(names(mm)=='CXCR1')], labels='CXCR1')\n",
    "text(which(names(mm)=='CXCR2')+8000, mm[which(names(mm)=='CXCR2')], labels='CXCR2')\n",
    "text(which(names(mm)=='MUC6')+8000, mm[which(names(mm)=='MUC6')], labels='MUC6')\n",
    "text(which(names(mm)=='BPIFB1')+9000, mm[which(names(mm)=='BPIFB1')], labels='BPIFB1')\n",
    "text(which(names(mm)=='AQP5')+3000, mm[which(names(mm)=='AQP5')], labels='AQP5')\n",
    "text(which(names(mm)=='ACKR1')+3000, mm[which(names(mm)=='ACKR1')], labels='ACKR1')"
   ]
  },
  {
   "cell_type": "code",
   "execution_count": 70,
   "id": "driven-working",
   "metadata": {},
   "outputs": [
    {
     "data": {
      "text/html": [
       "<strong>png:</strong> 2"
      ],
      "text/latex": [
       "\\textbf{png:} 2"
      ],
      "text/markdown": [
       "**png:** 2"
      ],
      "text/plain": [
       "png \n",
       "  2 "
      ]
     },
     "metadata": {},
     "output_type": "display_data"
    }
   ],
   "source": [
    "pdf(\"COAD_TCGA_gene_corr_nor_counts.pdf\", w=7, h=7)\n",
    "mm <- sort(Corr[1,],decreasing=T)\n",
    "par(las=1);plot(mm, col=\"grey\")\n",
    "text(which(names(mm)=='SPI1')+3000, mm[which(names(mm)=='SPI1')], labels='SPI1')\n",
    "text(which(names(mm)=='CXCR1')+4000, mm[which(names(mm)=='CXCR1')], labels='CXCR1')\n",
    "text(which(names(mm)=='CXCR2')+11000, mm[which(names(mm)=='CXCR2')], labels='CXCR2')\n",
    "text(which(names(mm)=='MUC6')+4000, mm[which(names(mm)=='MUC6')], labels='MUC6')\n",
    "text(which(names(mm)=='BPIFB1')+15000, mm[which(names(mm)=='BPIFB1')], labels='BPIFB1')\n",
    "text(which(names(mm)=='AQP5')+3000, mm[which(names(mm)=='AQP5')], labels='AQP5')\n",
    "text(which(names(mm)=='ACKR1')+9000, mm[which(names(mm)=='ACKR1')], labels='ACKR1')\n",
    "dev.off()"
   ]
  },
  {
   "cell_type": "code",
   "execution_count": 26,
   "id": "contemporary-charter",
   "metadata": {},
   "outputs": [
    {
     "data": {
      "text/html": [
       "<table class=\"dataframe\">\n",
       "<caption>A data.frame: 6 × 1</caption>\n",
       "<thead>\n",
       "\t<tr><th></th><th scope=col>corr_with_genes</th></tr>\n",
       "\t<tr><th></th><th scope=col>&lt;dbl&gt;</th></tr>\n",
       "</thead>\n",
       "<tbody>\n",
       "\t<tr><th scope=row>TSPAN6</th><td>-0.295918079</td></tr>\n",
       "\t<tr><th scope=row>TNMD</th><td>-0.154309803</td></tr>\n",
       "\t<tr><th scope=row>DPM1</th><td>-0.258419521</td></tr>\n",
       "\t<tr><th scope=row>SCYL3</th><td>-0.008909479</td></tr>\n",
       "\t<tr><th scope=row>C1orf112</th><td>-0.083783625</td></tr>\n",
       "\t<tr><th scope=row>FGR</th><td> 0.064749880</td></tr>\n",
       "</tbody>\n",
       "</table>\n"
      ],
      "text/latex": [
       "A data.frame: 6 × 1\n",
       "\\begin{tabular}{r|l}\n",
       "  & corr\\_with\\_genes\\\\\n",
       "  & <dbl>\\\\\n",
       "\\hline\n",
       "\tTSPAN6 & -0.295918079\\\\\n",
       "\tTNMD & -0.154309803\\\\\n",
       "\tDPM1 & -0.258419521\\\\\n",
       "\tSCYL3 & -0.008909479\\\\\n",
       "\tC1orf112 & -0.083783625\\\\\n",
       "\tFGR &  0.064749880\\\\\n",
       "\\end{tabular}\n"
      ],
      "text/markdown": [
       "\n",
       "A data.frame: 6 × 1\n",
       "\n",
       "| <!--/--> | corr_with_genes &lt;dbl&gt; |\n",
       "|---|---|\n",
       "| TSPAN6 | -0.295918079 |\n",
       "| TNMD | -0.154309803 |\n",
       "| DPM1 | -0.258419521 |\n",
       "| SCYL3 | -0.008909479 |\n",
       "| C1orf112 | -0.083783625 |\n",
       "| FGR |  0.064749880 |\n",
       "\n"
      ],
      "text/plain": [
       "         corr_with_genes\n",
       "TSPAN6   -0.295918079   \n",
       "TNMD     -0.154309803   \n",
       "DPM1     -0.258419521   \n",
       "SCYL3    -0.008909479   \n",
       "C1orf112 -0.083783625   \n",
       "FGR       0.064749880   "
      ]
     },
     "metadata": {},
     "output_type": "display_data"
    }
   ],
   "source": [
    "mat <- read.csv('./COAD_TCGA_gene_corr_nor_counts_new_sc_ref.csv')\n",
    "mat %>% head"
   ]
  },
  {
   "cell_type": "code",
   "execution_count": 27,
   "id": "aquatic-approval",
   "metadata": {},
   "outputs": [
    {
     "data": {
      "text/html": [
       "<table class=\"dataframe\">\n",
       "<caption>A data.frame: 6 × 2</caption>\n",
       "<thead>\n",
       "\t<tr><th></th><th scope=col>corr_with_genes</th><th scope=col>highlight</th></tr>\n",
       "\t<tr><th></th><th scope=col>&lt;dbl&gt;</th><th scope=col>&lt;chr&gt;</th></tr>\n",
       "</thead>\n",
       "<tbody>\n",
       "\t<tr><th scope=row>TSPAN6</th><td>-0.295918079</td><td>no</td></tr>\n",
       "\t<tr><th scope=row>TNMD</th><td>-0.154309803</td><td>no</td></tr>\n",
       "\t<tr><th scope=row>DPM1</th><td>-0.258419521</td><td>no</td></tr>\n",
       "\t<tr><th scope=row>SCYL3</th><td>-0.008909479</td><td>no</td></tr>\n",
       "\t<tr><th scope=row>C1orf112</th><td>-0.083783625</td><td>no</td></tr>\n",
       "\t<tr><th scope=row>FGR</th><td> 0.064749880</td><td>no</td></tr>\n",
       "</tbody>\n",
       "</table>\n"
      ],
      "text/latex": [
       "A data.frame: 6 × 2\n",
       "\\begin{tabular}{r|ll}\n",
       "  & corr\\_with\\_genes & highlight\\\\\n",
       "  & <dbl> & <chr>\\\\\n",
       "\\hline\n",
       "\tTSPAN6 & -0.295918079 & no\\\\\n",
       "\tTNMD & -0.154309803 & no\\\\\n",
       "\tDPM1 & -0.258419521 & no\\\\\n",
       "\tSCYL3 & -0.008909479 & no\\\\\n",
       "\tC1orf112 & -0.083783625 & no\\\\\n",
       "\tFGR &  0.064749880 & no\\\\\n",
       "\\end{tabular}\n"
      ],
      "text/markdown": [
       "\n",
       "A data.frame: 6 × 2\n",
       "\n",
       "| <!--/--> | corr_with_genes &lt;dbl&gt; | highlight &lt;chr&gt; |\n",
       "|---|---|---|\n",
       "| TSPAN6 | -0.295918079 | no |\n",
       "| TNMD | -0.154309803 | no |\n",
       "| DPM1 | -0.258419521 | no |\n",
       "| SCYL3 | -0.008909479 | no |\n",
       "| C1orf112 | -0.083783625 | no |\n",
       "| FGR |  0.064749880 | no |\n",
       "\n"
      ],
      "text/plain": [
       "         corr_with_genes highlight\n",
       "TSPAN6   -0.295918079    no       \n",
       "TNMD     -0.154309803    no       \n",
       "DPM1     -0.258419521    no       \n",
       "SCYL3    -0.008909479    no       \n",
       "C1orf112 -0.083783625    no       \n",
       "FGR       0.064749880    no       "
      ]
     },
     "metadata": {},
     "output_type": "display_data"
    }
   ],
   "source": [
    "mat <- as.data.frame(mat)\n",
    "mat$highlight <- rep('no', nrow(mat))\n",
    "gene_list <- c('MUC6','MUC5AC','BPIFB1','AQP5','ACKR1','PROK2','CXCR1','CXCR2','FCGR3B')\n",
    "mat[gene_list, 'highlight'] <- 'yes'\n",
    "mat <- mat %>% drop_na()\n",
    "mat %>% head"
   ]
  },
  {
   "cell_type": "code",
   "execution_count": 28,
   "id": "entitled-cedar",
   "metadata": {},
   "outputs": [
    {
     "data": {
      "text/html": [
       "<table class=\"dataframe\">\n",
       "<caption>A data.frame: 6 × 4</caption>\n",
       "<thead>\n",
       "\t<tr><th></th><th scope=col>corr_with_genes</th><th scope=col>highlight</th><th scope=col>x</th><th scope=col>gene</th></tr>\n",
       "\t<tr><th></th><th scope=col>&lt;dbl&gt;</th><th scope=col>&lt;chr&gt;</th><th scope=col>&lt;int&gt;</th><th scope=col>&lt;chr&gt;</th></tr>\n",
       "</thead>\n",
       "<tbody>\n",
       "\t<tr><th scope=row>MUC5B</th><td>0.7327933</td><td>no</td><td>1</td><td>MUC5B     </td></tr>\n",
       "\t<tr><th scope=row>PGC</th><td>0.6376174</td><td>no</td><td>2</td><td>PGC       </td></tr>\n",
       "\t<tr><th scope=row>ADGRG6</th><td>0.5733809</td><td>no</td><td>3</td><td>ADGRG6    </td></tr>\n",
       "\t<tr><th scope=row>LCN2</th><td>0.5667702</td><td>no</td><td>4</td><td>LCN2      </td></tr>\n",
       "\t<tr><th scope=row>AGR2</th><td>0.5586994</td><td>no</td><td>5</td><td>AGR2      </td></tr>\n",
       "\t<tr><th scope=row>AC108451.2</th><td>0.5569082</td><td>no</td><td>6</td><td>AC108451.2</td></tr>\n",
       "</tbody>\n",
       "</table>\n"
      ],
      "text/latex": [
       "A data.frame: 6 × 4\n",
       "\\begin{tabular}{r|llll}\n",
       "  & corr\\_with\\_genes & highlight & x & gene\\\\\n",
       "  & <dbl> & <chr> & <int> & <chr>\\\\\n",
       "\\hline\n",
       "\tMUC5B & 0.7327933 & no & 1 & MUC5B     \\\\\n",
       "\tPGC & 0.6376174 & no & 2 & PGC       \\\\\n",
       "\tADGRG6 & 0.5733809 & no & 3 & ADGRG6    \\\\\n",
       "\tLCN2 & 0.5667702 & no & 4 & LCN2      \\\\\n",
       "\tAGR2 & 0.5586994 & no & 5 & AGR2      \\\\\n",
       "\tAC108451.2 & 0.5569082 & no & 6 & AC108451.2\\\\\n",
       "\\end{tabular}\n"
      ],
      "text/markdown": [
       "\n",
       "A data.frame: 6 × 4\n",
       "\n",
       "| <!--/--> | corr_with_genes &lt;dbl&gt; | highlight &lt;chr&gt; | x &lt;int&gt; | gene &lt;chr&gt; |\n",
       "|---|---|---|---|---|\n",
       "| MUC5B | 0.7327933 | no | 1 | MUC5B      |\n",
       "| PGC | 0.6376174 | no | 2 | PGC        |\n",
       "| ADGRG6 | 0.5733809 | no | 3 | ADGRG6     |\n",
       "| LCN2 | 0.5667702 | no | 4 | LCN2       |\n",
       "| AGR2 | 0.5586994 | no | 5 | AGR2       |\n",
       "| AC108451.2 | 0.5569082 | no | 6 | AC108451.2 |\n",
       "\n"
      ],
      "text/plain": [
       "           corr_with_genes highlight x gene      \n",
       "MUC5B      0.7327933       no        1 MUC5B     \n",
       "PGC        0.6376174       no        2 PGC       \n",
       "ADGRG6     0.5733809       no        3 ADGRG6    \n",
       "LCN2       0.5667702       no        4 LCN2      \n",
       "AGR2       0.5586994       no        5 AGR2      \n",
       "AC108451.2 0.5569082       no        6 AC108451.2"
      ]
     },
     "metadata": {},
     "output_type": "display_data"
    }
   ],
   "source": [
    "mat <- mat[order(mat[,1], decreasing=T), ]\n",
    "mat$x <- 1:nrow(mat)\n",
    "mat$gene <- rownames(mat)\n",
    "mat %>% head"
   ]
  },
  {
   "cell_type": "code",
   "execution_count": 29,
   "id": "cellular-portsmouth",
   "metadata": {},
   "outputs": [
    {
     "data": {
      "image/png": "[encoded data removed]",
      "text/plain": [
       "plot without title"
      ]
     },
     "metadata": {
      "image/png": {
       "height": 420,
       "width": 420
      }
     },
     "output_type": "display_data"
    }
   ],
   "source": [
    "library(tidyverse)\n",
    "library(ggrepel)\n",
    "library(ggfun)\n",
    "library(grid)\n",
    "\n",
    "ggplot(mat %>% arrange(highlight),\n",
    "       aes(x = x, y = corr_with_genes, color = highlight, \n",
    "           size = highlight, shape = highlight)) +\n",
    "       geom_point() + \n",
    "       scale_color_manual(values = c(no = 'grey80', yes = 'black')) + \n",
    "       scale_size_manual(values = c(no = 1, yes = 4)) + \n",
    "       scale_shape_manual(values = c(no = 1, yes = 20)) + \n",
    "geom_text_repel(data =  mat %>% filter(highlight == 'yes'),\n",
    "                aes(x = x, y = corr_with_genes, label = gene),\n",
    "                box.padding = 0.5,\n",
    "                nudge_x = 0.2,\n",
    "                nudge_y = 0.2,\n",
    "                segment.curvature = -0.1,\n",
    "                segment.ncp = 3,\n",
    "                segment.angle = 10,\n",
    "                direction = \"x\", \n",
    "                hjust = \"right\",\n",
    "                force = 5,\n",
    "                point.padding = 1\n",
    "                  ) +        \n",
    "theme_bw()\n",
    "ggsave(\"figures/COAD_TCGA_gene_corr_nor_counts_new_sc_ref.pdf\", width = 6.5, height = 6)"
   ]
  },
  {
   "cell_type": "code",
   "execution_count": null,
   "id": "concerned-captain",
   "metadata": {},
   "outputs": [],
   "source": []
  }
 ],
 "metadata": {
  "kernelspec": {
   "display_name": "R",
   "language": "R",
   "name": "ir"
  },
  "language_info": {
   "codemirror_mode": "r",
   "file_extension": ".r",
   "mimetype": "text/x-r-source",
   "name": "R",
   "pygments_lexer": "r",
   "version": "4.0.4"
  }
 },
 "nbformat": 4,
 "nbformat_minor": 5
}
