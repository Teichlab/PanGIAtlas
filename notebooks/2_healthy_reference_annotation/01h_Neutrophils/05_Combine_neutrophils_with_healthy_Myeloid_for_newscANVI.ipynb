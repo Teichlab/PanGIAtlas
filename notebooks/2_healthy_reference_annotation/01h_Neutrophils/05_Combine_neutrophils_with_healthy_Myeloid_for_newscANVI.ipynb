{
 "cells": [
  {
   "cell_type": "markdown",
   "id": "atomic-vatican",
   "metadata": {},
   "source": [
    "# Prepare objects for cellxgene - Pan-GI integration project"
   ]
  },
  {
   "cell_type": "code",
   "execution_count": 3,
   "id": "precious-rolling",
   "metadata": {},
   "outputs": [],
   "source": [
    "import scanpy as sc\n",
    "import pandas as pd\n",
    "import numpy as np\n",
    "import sys\n",
    "import os\n",
    "from collections import Counter\n",
    "\n",
    "import seaborn as sns\n",
    "import matplotlib.pyplot as plt\n",
    "from matplotlib.colors import to_hex\n",
    "import ast"
   ]
  },
  {
   "cell_type": "code",
   "execution_count": 4,
   "id": "large-religious",
   "metadata": {},
   "outputs": [
    {
     "name": "stdout",
     "output_type": "stream",
     "text": [
      "scanpy==1.8.0 anndata==0.8.0 umap==0.4.6 numpy==1.20.1 scipy==1.6.1 pandas==1.3.5 scikit-learn==0.24.1 statsmodels==0.13.5 python-igraph==0.8.3 louvain==0.7.0 leidenalg==0.8.3 pynndescent==0.5.2\n"
     ]
    }
   ],
   "source": [
    "sc.logging.print_header()"
   ]
  },
  {
   "cell_type": "code",
   "execution_count": 5,
   "id": "lonely-arlington",
   "metadata": {},
   "outputs": [],
   "source": [
    "healthy = sc.read_h5ad('/nfs/team205/ao15/Megagut/Annotations_v3/h5ad/compartments/post_scvi20230126/Myeloid.hvg5000_noCC.scvi_output_nocatcovar.fine_annot.20230126.h5ad')"
   ]
  },
  {
   "cell_type": "code",
   "execution_count": 6,
   "id": "complete-czech",
   "metadata": {},
   "outputs": [],
   "source": [
    "healthy_annot = pd.read_csv('/nfs/team205/ao15/Megagut/Annotations_v3/compartment_annotations/csv/Myeloid_annot_v3.csv',index_col=0)"
   ]
  },
  {
   "cell_type": "code",
   "execution_count": 7,
   "id": "ordered-captain",
   "metadata": {},
   "outputs": [],
   "source": [
    "healthy.obs['level_3_annot'] = healthy_annot.annot_v3"
   ]
  },
  {
   "cell_type": "code",
   "execution_count": 8,
   "id": "honest-ladder",
   "metadata": {},
   "outputs": [],
   "source": [
    "neutro = sc.read_h5ad('/nfs/team205/ao15/Megagut/Annotations_v3/neutrophils/pooled_healthy.gene_cellbender.bad_qc_cluster_mito80.neutrophil.20221013.h5ad')"
   ]
  },
  {
   "cell_type": "code",
   "execution_count": 9,
   "id": "personalized-hygiene",
   "metadata": {},
   "outputs": [],
   "source": [
    "neutro_annot = pd.read_csv('/nfs/team205/ao15/Megagut/Annotations_v3/disease_annot/resolved_annot/Myeloid_neutrophils_annot20231207.csv',index_col=0)"
   ]
  },
  {
   "cell_type": "code",
   "execution_count": 10,
   "id": "modular-revelation",
   "metadata": {},
   "outputs": [
    {
     "data": {
      "text/plain": [
       "AnnData object with n_obs × n_vars = 1893 × 36601\n",
       "    obs: 'latent_cell_probability', 'latent_RT_efficiency', 'cecilia22_predH', 'cecilia22_predH_prob', 'cecilia22_predH_uncertain', 'cecilia22_predL', 'cecilia22_predL_prob', 'cecilia22_predL_uncertain', 'elmentaite21_pred', 'elmentaite21_pred_prob', 'elmentaite21_pred_uncertain', 'suo22_pred', 'suo22_pred_prob', 'suo22_pred_uncertain', 'n_counts', 'log1p_n_counts', 'n_genes', 'log1p_n_genes', 'percent_mito', 'n_counts_mito', 'percent_ribo', 'n_counts_ribo', 'percent_hb', 'n_counts_hb', 'percent_top50', 'n_counts_raw', 'log1p_n_counts_raw', 'n_genes_raw', 'log1p_n_genes_raw', 'percent_mito_raw', 'n_counts_mito_raw', 'percent_ribo_raw', 'n_counts_ribo_raw', 'percent_hb_raw', 'n_counts_hb_raw', 'percent_top50_raw', 'n_counts_spliced', 'log1p_n_counts_spliced', 'n_genes_spliced', 'log1p_n_genes_spliced', 'percent_mito_spliced', 'n_counts_mito_spliced', 'percent_ribo_spliced', 'n_counts_ribo_spliced', 'percent_hb_spliced', 'n_counts_hb_spliced', 'percent_top50_spliced', 'n_counts_unspliced', 'log1p_n_counts_unspliced', 'n_genes_unspliced', 'log1p_n_genes_unspliced', 'percent_mito_unspliced', 'n_counts_mito_unspliced', 'percent_ribo_unspliced', 'n_counts_ribo_unspliced', 'percent_hb_unspliced', 'n_counts_hb_unspliced', 'percent_top50_unspliced', 'percent_soup', 'percent_spliced', 'qc_cluster', 'pass_auto_filter_mito20', 'good_qc_cluster_mito20', 'pass_auto_filter_mito50', 'good_qc_cluster_mito50', 'pass_auto_filter_mito80', 'good_qc_cluster_mito80', 'pass_auto_filter', 'good_qc_cluster', 'pass_default', 'sampleID', 'sourceID', 'donorID_original', 'study', 'donorID_corrected', 'donorID_unified', 'donor_category', 'donor_disease', 'organ_original', 'organ_unified', 'organ_broad', 'age_original', 'age_unified', 'age_continuousadult', 'age_continuousdev', 'sex', 'sample_type', 'sample_category', 'sample_retrieval', 'tissue_fraction', 'cell_fraction', 'cell_fraction_unified', 'cell_sorting', 'technology', 'include_150722'\n",
       "    var: 'gene_ids', 'feature_type', 'mito', 'ribo', 'hb', 'n_counts', 'n_counts_raw', 'n_counts_spliced', 'n_counts_unspliced', 'n_cells', 'n_cells_raw', 'n_cells_spliced', 'n_cells_unspliced', 'cc', 'ig', 'tcr'"
      ]
     },
     "execution_count": 10,
     "metadata": {},
     "output_type": "execute_result"
    }
   ],
   "source": [
    "neutro"
   ]
  },
  {
   "cell_type": "code",
   "execution_count": 11,
   "id": "surrounded-oxford",
   "metadata": {
    "tags": []
   },
   "outputs": [
    {
     "data": {
      "text/html": [
       "<div>\n",
       "<style scoped>\n",
       "    .dataframe tbody tr th:only-of-type {\n",
       "        vertical-align: middle;\n",
       "    }\n",
       "\n",
       "    .dataframe tbody tr th {\n",
       "        vertical-align: top;\n",
       "    }\n",
       "\n",
       "    .dataframe thead th {\n",
       "        text-align: right;\n",
       "    }\n",
       "</style>\n",
       "<table border=\"1\" class=\"dataframe\">\n",
       "  <thead>\n",
       "    <tr style=\"text-align: right;\">\n",
       "      <th></th>\n",
       "      <th>fine_predicted_labels_uncertflagged</th>\n",
       "      <th>fine_predicted_labels_resolved</th>\n",
       "    </tr>\n",
       "    <tr>\n",
       "      <th>index</th>\n",
       "      <th></th>\n",
       "      <th></th>\n",
       "    </tr>\n",
       "  </thead>\n",
       "  <tbody>\n",
       "    <tr>\n",
       "      <th>AAACCTGCAACTGCGC-HCA_A_GT12934997</th>\n",
       "      <td>Monocyte</td>\n",
       "      <td>Neutrophil_circulating</td>\n",
       "    </tr>\n",
       "    <tr>\n",
       "      <th>AAACCTGCATGGTAGG-HCA_A_GT12934997</th>\n",
       "      <td>Monocyte</td>\n",
       "      <td>Neutrophil_circulating</td>\n",
       "    </tr>\n",
       "    <tr>\n",
       "      <th>AAAGATGAGGACAGCT-HCA_A_GT12934997</th>\n",
       "      <td>Monocyte</td>\n",
       "      <td>Neutrophil_circulating</td>\n",
       "    </tr>\n",
       "    <tr>\n",
       "      <th>AAAGTAGTCAACGAAA-HCA_A_GT12934997</th>\n",
       "      <td>Monocyte</td>\n",
       "      <td>Neutrophil_circulating</td>\n",
       "    </tr>\n",
       "    <tr>\n",
       "      <th>AACACGTAGAGACTAT-HCA_A_GT12934997</th>\n",
       "      <td>Monocyte</td>\n",
       "      <td>Neutrophil_circulating</td>\n",
       "    </tr>\n",
       "    <tr>\n",
       "      <th>...</th>\n",
       "      <td>...</td>\n",
       "      <td>...</td>\n",
       "    </tr>\n",
       "    <tr>\n",
       "      <th>CTACATTGTCTGCCAG-HT228-fetal-ileum</th>\n",
       "      <td>Mono/neutrophil_MPO</td>\n",
       "      <td>Neutrophil_mature</td>\n",
       "    </tr>\n",
       "    <tr>\n",
       "      <th>CTCGTCATCACCTTAT-HT228-fetal-ileum</th>\n",
       "      <td>Mono/neutrophil_MPO</td>\n",
       "      <td>Neutrophil_mature</td>\n",
       "    </tr>\n",
       "    <tr>\n",
       "      <th>TGACAACAGAAGGGTA-HT228-fetal-ileum</th>\n",
       "      <td>Monocyte</td>\n",
       "      <td>Neutrophil_circulating</td>\n",
       "    </tr>\n",
       "    <tr>\n",
       "      <th>TTCTACACATGACATC-HT228-fetal-ileum</th>\n",
       "      <td>Monocyte</td>\n",
       "      <td>Neutrophil_fetal</td>\n",
       "    </tr>\n",
       "    <tr>\n",
       "      <th>TTTCCTCGTTCGTGAT-HT228-fetal-ileum</th>\n",
       "      <td>Unknown</td>\n",
       "      <td>Neutrophil_mature</td>\n",
       "    </tr>\n",
       "  </tbody>\n",
       "</table>\n",
       "<p>1893 rows × 2 columns</p>\n",
       "</div>"
      ],
      "text/plain": [
       "                                   fine_predicted_labels_uncertflagged  \\\n",
       "index                                                                    \n",
       "AAACCTGCAACTGCGC-HCA_A_GT12934997                             Monocyte   \n",
       "AAACCTGCATGGTAGG-HCA_A_GT12934997                             Monocyte   \n",
       "AAAGATGAGGACAGCT-HCA_A_GT12934997                             Monocyte   \n",
       "AAAGTAGTCAACGAAA-HCA_A_GT12934997                             Monocyte   \n",
       "AACACGTAGAGACTAT-HCA_A_GT12934997                             Monocyte   \n",
       "...                                                                ...   \n",
       "CTACATTGTCTGCCAG-HT228-fetal-ileum                 Mono/neutrophil_MPO   \n",
       "CTCGTCATCACCTTAT-HT228-fetal-ileum                 Mono/neutrophil_MPO   \n",
       "TGACAACAGAAGGGTA-HT228-fetal-ileum                            Monocyte   \n",
       "TTCTACACATGACATC-HT228-fetal-ileum                            Monocyte   \n",
       "TTTCCTCGTTCGTGAT-HT228-fetal-ileum                             Unknown   \n",
       "\n",
       "                                   fine_predicted_labels_resolved  \n",
       "index                                                              \n",
       "AAACCTGCAACTGCGC-HCA_A_GT12934997          Neutrophil_circulating  \n",
       "AAACCTGCATGGTAGG-HCA_A_GT12934997          Neutrophil_circulating  \n",
       "AAAGATGAGGACAGCT-HCA_A_GT12934997          Neutrophil_circulating  \n",
       "AAAGTAGTCAACGAAA-HCA_A_GT12934997          Neutrophil_circulating  \n",
       "AACACGTAGAGACTAT-HCA_A_GT12934997          Neutrophil_circulating  \n",
       "...                                                           ...  \n",
       "CTACATTGTCTGCCAG-HT228-fetal-ileum              Neutrophil_mature  \n",
       "CTCGTCATCACCTTAT-HT228-fetal-ileum              Neutrophil_mature  \n",
       "TGACAACAGAAGGGTA-HT228-fetal-ileum         Neutrophil_circulating  \n",
       "TTCTACACATGACATC-HT228-fetal-ileum               Neutrophil_fetal  \n",
       "TTTCCTCGTTCGTGAT-HT228-fetal-ileum              Neutrophil_mature  \n",
       "\n",
       "[1893 rows x 2 columns]"
      ]
     },
     "execution_count": 11,
     "metadata": {},
     "output_type": "execute_result"
    }
   ],
   "source": [
    "neutro_annot"
   ]
  },
  {
   "cell_type": "code",
   "execution_count": 12,
   "id": "under-citizenship",
   "metadata": {},
   "outputs": [],
   "source": [
    "neutro.obs['level_3_annot'] = neutro_annot.fine_predicted_labels_resolved"
   ]
  },
  {
   "cell_type": "code",
   "execution_count": 13,
   "id": "cubic-camping",
   "metadata": {},
   "outputs": [],
   "source": [
    "obs_to_keep = neutro.obs[['donorID_unified', 'level_3_annot', 'log1p_n_counts','percent_mito']]"
   ]
  },
  {
   "cell_type": "code",
   "execution_count": 14,
   "id": "amateur-century",
   "metadata": {
    "tags": []
   },
   "outputs": [
    {
     "data": {
      "text/html": [
       "<div>\n",
       "<style scoped>\n",
       "    .dataframe tbody tr th:only-of-type {\n",
       "        vertical-align: middle;\n",
       "    }\n",
       "\n",
       "    .dataframe tbody tr th {\n",
       "        vertical-align: top;\n",
       "    }\n",
       "\n",
       "    .dataframe thead th {\n",
       "        text-align: right;\n",
       "    }\n",
       "</style>\n",
       "<table border=\"1\" class=\"dataframe\">\n",
       "  <thead>\n",
       "    <tr style=\"text-align: right;\">\n",
       "      <th></th>\n",
       "      <th>donorID_unified</th>\n",
       "      <th>level_3_annot</th>\n",
       "      <th>log1p_n_counts</th>\n",
       "      <th>percent_mito</th>\n",
       "    </tr>\n",
       "    <tr>\n",
       "      <th>index</th>\n",
       "      <th></th>\n",
       "      <th></th>\n",
       "      <th></th>\n",
       "      <th></th>\n",
       "    </tr>\n",
       "  </thead>\n",
       "  <tbody>\n",
       "    <tr>\n",
       "      <th>AAACCTGCAACTGCGC-HCA_A_GT12934997</th>\n",
       "      <td>D105</td>\n",
       "      <td>Neutrophil_circulating</td>\n",
       "      <td>6.432940</td>\n",
       "      <td>0.000000</td>\n",
       "    </tr>\n",
       "    <tr>\n",
       "      <th>AAACCTGCATGGTAGG-HCA_A_GT12934997</th>\n",
       "      <td>D105</td>\n",
       "      <td>Neutrophil_circulating</td>\n",
       "      <td>7.060476</td>\n",
       "      <td>0.000000</td>\n",
       "    </tr>\n",
       "    <tr>\n",
       "      <th>AAAGATGAGGACAGCT-HCA_A_GT12934997</th>\n",
       "      <td>D105</td>\n",
       "      <td>Neutrophil_circulating</td>\n",
       "      <td>6.345636</td>\n",
       "      <td>0.000000</td>\n",
       "    </tr>\n",
       "    <tr>\n",
       "      <th>AAAGTAGTCAACGAAA-HCA_A_GT12934997</th>\n",
       "      <td>D105</td>\n",
       "      <td>Neutrophil_circulating</td>\n",
       "      <td>6.343881</td>\n",
       "      <td>0.000000</td>\n",
       "    </tr>\n",
       "    <tr>\n",
       "      <th>AACACGTAGAGACTAT-HCA_A_GT12934997</th>\n",
       "      <td>D105</td>\n",
       "      <td>Neutrophil_circulating</td>\n",
       "      <td>6.882438</td>\n",
       "      <td>0.000000</td>\n",
       "    </tr>\n",
       "    <tr>\n",
       "      <th>...</th>\n",
       "      <td>...</td>\n",
       "      <td>...</td>\n",
       "      <td>...</td>\n",
       "      <td>...</td>\n",
       "    </tr>\n",
       "    <tr>\n",
       "      <th>CTACATTGTCTGCCAG-HT228-fetal-ileum</th>\n",
       "      <td>F25</td>\n",
       "      <td>Neutrophil_mature</td>\n",
       "      <td>7.082549</td>\n",
       "      <td>0.504202</td>\n",
       "    </tr>\n",
       "    <tr>\n",
       "      <th>CTCGTCATCACCTTAT-HT228-fetal-ileum</th>\n",
       "      <td>F25</td>\n",
       "      <td>Neutrophil_mature</td>\n",
       "      <td>7.309882</td>\n",
       "      <td>0.803213</td>\n",
       "    </tr>\n",
       "    <tr>\n",
       "      <th>TGACAACAGAAGGGTA-HT228-fetal-ileum</th>\n",
       "      <td>F25</td>\n",
       "      <td>Neutrophil_circulating</td>\n",
       "      <td>7.782390</td>\n",
       "      <td>1.126408</td>\n",
       "    </tr>\n",
       "    <tr>\n",
       "      <th>TTCTACACATGACATC-HT228-fetal-ileum</th>\n",
       "      <td>F25</td>\n",
       "      <td>Neutrophil_fetal</td>\n",
       "      <td>8.425735</td>\n",
       "      <td>0.986409</td>\n",
       "    </tr>\n",
       "    <tr>\n",
       "      <th>TTTCCTCGTTCGTGAT-HT228-fetal-ileum</th>\n",
       "      <td>F25</td>\n",
       "      <td>Neutrophil_mature</td>\n",
       "      <td>6.569481</td>\n",
       "      <td>0.280899</td>\n",
       "    </tr>\n",
       "  </tbody>\n",
       "</table>\n",
       "<p>1893 rows × 4 columns</p>\n",
       "</div>"
      ],
      "text/plain": [
       "                                   donorID_unified           level_3_annot  \\\n",
       "index                                                                        \n",
       "AAACCTGCAACTGCGC-HCA_A_GT12934997             D105  Neutrophil_circulating   \n",
       "AAACCTGCATGGTAGG-HCA_A_GT12934997             D105  Neutrophil_circulating   \n",
       "AAAGATGAGGACAGCT-HCA_A_GT12934997             D105  Neutrophil_circulating   \n",
       "AAAGTAGTCAACGAAA-HCA_A_GT12934997             D105  Neutrophil_circulating   \n",
       "AACACGTAGAGACTAT-HCA_A_GT12934997             D105  Neutrophil_circulating   \n",
       "...                                            ...                     ...   \n",
       "CTACATTGTCTGCCAG-HT228-fetal-ileum             F25       Neutrophil_mature   \n",
       "CTCGTCATCACCTTAT-HT228-fetal-ileum             F25       Neutrophil_mature   \n",
       "TGACAACAGAAGGGTA-HT228-fetal-ileum             F25  Neutrophil_circulating   \n",
       "TTCTACACATGACATC-HT228-fetal-ileum             F25        Neutrophil_fetal   \n",
       "TTTCCTCGTTCGTGAT-HT228-fetal-ileum             F25       Neutrophil_mature   \n",
       "\n",
       "                                    log1p_n_counts  percent_mito  \n",
       "index                                                             \n",
       "AAACCTGCAACTGCGC-HCA_A_GT12934997         6.432940      0.000000  \n",
       "AAACCTGCATGGTAGG-HCA_A_GT12934997         7.060476      0.000000  \n",
       "AAAGATGAGGACAGCT-HCA_A_GT12934997         6.345636      0.000000  \n",
       "AAAGTAGTCAACGAAA-HCA_A_GT12934997         6.343881      0.000000  \n",
       "AACACGTAGAGACTAT-HCA_A_GT12934997         6.882438      0.000000  \n",
       "...                                            ...           ...  \n",
       "CTACATTGTCTGCCAG-HT228-fetal-ileum        7.082549      0.504202  \n",
       "CTCGTCATCACCTTAT-HT228-fetal-ileum        7.309882      0.803213  \n",
       "TGACAACAGAAGGGTA-HT228-fetal-ileum        7.782390      1.126408  \n",
       "TTCTACACATGACATC-HT228-fetal-ileum        8.425735      0.986409  \n",
       "TTTCCTCGTTCGTGAT-HT228-fetal-ileum        6.569481      0.280899  \n",
       "\n",
       "[1893 rows x 4 columns]"
      ]
     },
     "execution_count": 14,
     "metadata": {},
     "output_type": "execute_result"
    }
   ],
   "source": [
    "obs_to_keep"
   ]
  },
  {
   "cell_type": "code",
   "execution_count": 15,
   "id": "planned-freight",
   "metadata": {},
   "outputs": [],
   "source": [
    "del neutro.obs"
   ]
  },
  {
   "cell_type": "code",
   "execution_count": 16,
   "id": "reverse-campbell",
   "metadata": {},
   "outputs": [],
   "source": [
    "neutro.obs = obs_to_keep"
   ]
  },
  {
   "cell_type": "code",
   "execution_count": 17,
   "id": "rational-professor",
   "metadata": {},
   "outputs": [
    {
     "data": {
      "text/plain": [
       "1277.0"
      ]
     },
     "execution_count": 17,
     "metadata": {},
     "output_type": "execute_result"
    }
   ],
   "source": [
    "neutro.X.max()"
   ]
  },
  {
   "cell_type": "code",
   "execution_count": 18,
   "id": "passing-sociology",
   "metadata": {},
   "outputs": [],
   "source": [
    "obs_to_keep = healthy.obs[['donorID_unified', 'level_3_annot', 'log1p_n_counts','percent_mito']]"
   ]
  },
  {
   "cell_type": "code",
   "execution_count": 19,
   "id": "pediatric-period",
   "metadata": {},
   "outputs": [],
   "source": [
    "del healthy.obs"
   ]
  },
  {
   "cell_type": "code",
   "execution_count": 20,
   "id": "julian-arkansas",
   "metadata": {},
   "outputs": [
    {
     "data": {
      "text/plain": [
       "13567.0"
      ]
     },
     "execution_count": 20,
     "metadata": {},
     "output_type": "execute_result"
    }
   ],
   "source": [
    "healthy.X.max()"
   ]
  },
  {
   "cell_type": "code",
   "execution_count": 21,
   "id": "frequent-mistress",
   "metadata": {},
   "outputs": [],
   "source": [
    "healthy.obs = obs_to_keep"
   ]
  },
  {
   "cell_type": "code",
   "execution_count": 22,
   "id": "sexual-gates",
   "metadata": {},
   "outputs": [
    {
     "name": "stderr",
     "output_type": "stream",
     "text": [
      "/home/jovyan/my-conda-envs/standard_plotting/lib/python3.8/site-packages/anndata/_core/anndata.py:1785: FutureWarning: X.dtype being converted to np.float32 from float64. In the next version of anndata (0.9) conversion will not be automatic. Pass dtype explicitly to avoid this warning. Pass `AnnData(X, dtype=X.dtype, ...)` to get the future behavour.\n",
      "  [AnnData(sparse.csr_matrix(a.shape), obs=a.obs) for a in all_adatas],\n"
     ]
    }
   ],
   "source": [
    "adata = healthy.concatenate(neutro,index_unique=None)"
   ]
  },
  {
   "cell_type": "code",
   "execution_count": 23,
   "id": "intensive-exercise",
   "metadata": {},
   "outputs": [
    {
     "data": {
      "text/plain": [
       "AnnData object with n_obs × n_vars = 39286 × 36601\n",
       "    obs: 'donorID_unified', 'level_3_annot', 'log1p_n_counts', 'percent_mito', 'batch'\n",
       "    var: 'gene_ids', 'feature_type', 'mito', 'ribo', 'hb', 'n_counts', 'n_counts_raw', 'n_counts_spliced', 'n_counts_unspliced', 'n_cells', 'n_cells_raw', 'n_cells_spliced', 'n_cells_unspliced', 'cc', 'ig', 'tcr'"
      ]
     },
     "execution_count": 23,
     "metadata": {},
     "output_type": "execute_result"
    }
   ],
   "source": [
    "adata"
   ]
  },
  {
   "cell_type": "code",
   "execution_count": 24,
   "id": "yellow-spine",
   "metadata": {},
   "outputs": [
    {
     "data": {
      "text/plain": [
       "AnnData object with n_obs × n_vars = 37393 × 36601\n",
       "    obs: 'donorID_unified', 'level_3_annot', 'log1p_n_counts', 'percent_mito'\n",
       "    var: 'gene_ids', 'feature_type', 'mito', 'ribo', 'hb', 'n_counts', 'n_counts_raw', 'n_counts_spliced', 'n_counts_unspliced', 'n_cells', 'n_cells_raw', 'n_cells_spliced', 'n_cells_unspliced', 'cc', 'ig', 'tcr'\n",
       "    uns: 'age_unified_colors', 'fine_annot_colors', 'neighbors_scvi', 'organ_unified_colors', 'study_colors', 'umap'\n",
       "    obsm: 'X_scvi', 'X_umap'\n",
       "    obsp: 'neighbors_scvi_connectivities', 'neighbors_scvi_distances'"
      ]
     },
     "execution_count": 24,
     "metadata": {},
     "output_type": "execute_result"
    }
   ],
   "source": [
    "healthy"
   ]
  },
  {
   "cell_type": "code",
   "execution_count": 25,
   "id": "copyrighted-aurora",
   "metadata": {},
   "outputs": [],
   "source": [
    "adata.write_h5ad('/nfs/team205/ao15/Megagut/Annotations_v3/neutrophils/pooled_healthy.Myeloid_withNeutrophils.20240131.h5ad')"
   ]
  },
  {
   "cell_type": "code",
   "execution_count": 26,
   "id": "magnetic-safety",
   "metadata": {},
   "outputs": [
    {
     "data": {
      "text/plain": [
       "Macrophage                8594\n",
       "DC_cDC2                   6381\n",
       "Mast                      5607\n",
       "Doublets                  4239\n",
       "Monocyte                  3792\n",
       "Macrophage_LYVE1          3627\n",
       "Macrophage_TREM2          1511\n",
       "Neutrophil_circulating    1342\n",
       "DC_cDC1                    946\n",
       "Macrophage_MMP9            907\n",
       "DC_pDC                     565\n",
       "Neutrophil_mature          467\n",
       "DC_migratory               417\n",
       "Erythrocytes               350\n",
       "Mono/neutrophil_MPO        178\n",
       "DC_langerhans              164\n",
       "Macrophage_CD5L            100\n",
       "Eosinophil/basophil         70\n",
       "Neutrophil_fetal            25\n",
       "Megakaryocyte/platelet       4\n",
       "Name: level_3_annot, dtype: int64"
      ]
     },
     "execution_count": 26,
     "metadata": {},
     "output_type": "execute_result"
    }
   ],
   "source": [
    "adata.obs.level_3_annot.value_counts()"
   ]
  },
  {
   "cell_type": "code",
   "execution_count": null,
   "id": "sapphire-burst",
   "metadata": {},
   "outputs": [],
   "source": []
  }
 ],
 "metadata": {
  "kernelspec": {
   "display_name": "Standard sc plotting",
   "language": "python",
   "name": "standard_plotting"
  },
  "language_info": {
   "codemirror_mode": {
    "name": "ipython",
    "version": 3
   },
   "file_extension": ".py",
   "mimetype": "text/x-python",
   "name": "python",
   "nbconvert_exporter": "python",
   "pygments_lexer": "ipython3",
   "version": "3.8.8"
  }
 },
 "nbformat": 4,
 "nbformat_minor": 5
}
