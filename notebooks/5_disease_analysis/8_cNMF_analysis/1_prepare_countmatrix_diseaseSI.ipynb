{
 "cells": [
  {
   "cell_type": "code",
   "execution_count": 1,
   "id": "adapted-genius",
   "metadata": {},
   "outputs": [],
   "source": [
    "import scanpy as sc\n",
    "import pandas as pd\n",
    "import numpy as np"
   ]
  },
  {
   "cell_type": "code",
   "execution_count": 2,
   "id": "accredited-excess",
   "metadata": {},
   "outputs": [],
   "source": [
    "# Load integrated object from Amanda\n",
    "adata = sc.read_h5ad('/nfs/team205/ao15/Megagut/Annotations_v3/h5ad/pooled_healthy_disease.plus_additional_epi.18485genes.with_fineannot.nodoublets.20230322.h5ad')"
   ]
  },
  {
   "cell_type": "code",
   "execution_count": 3,
   "id": "compliant-syndicate",
   "metadata": {},
   "outputs": [
    {
     "data": {
      "text/plain": [
       "AnnData object with n_obs × n_vars = 1596203 × 18485\n",
       "    var: 'gene_ids-0', 'feature_type-0', 'mito-0', 'ribo-0', 'hb-0', 'cc-0', 'ig-0', 'tcr-0', 'n_counts-0-0', 'n_counts_raw-0-0', 'n_counts_spliced-0-0', 'n_counts_unspliced-0-0', 'n_cells-0-0', 'n_cells_raw-0-0', 'n_cells_spliced-0-0', 'n_cells_unspliced-0-0', 'n_counts-1-0', 'n_counts_raw-1-0', 'n_counts_spliced-1-0', 'n_counts_unspliced-1-0', 'n_cells-1-0', 'n_cells_raw-1-0', 'n_cells_spliced-1-0', 'n_cells_unspliced-1-0', 'gene_ids-0-0-1', 'feature_type-0-0-1', 'mito-0-0-1', 'ribo-0-0-1', 'hb-0-0-1', 'n_counts-0-0-1', 'n_counts_raw-0-0-1', 'n_counts_spliced-0-0-1', 'n_counts_unspliced-0-0-1', 'n_cells-0-0-1', 'n_cells_raw-0-0-1', 'n_cells_spliced-0-0-1', 'n_cells_unspliced-0-0-1', 'cc-0-0-1', 'ig-0-0-1', 'tcr-0-0-1', 'gene_id-1-0-1', 'mt-1-0-1', 'ensmbl_id-colon-1-0-1', 'n_cells_by_counts-colon-1-0-1', 'mean_counts-colon-1-0-1', 'pct_dropout_by_counts-colon-1-0-1', 'total_counts-colon-1-0-1', 'n_cells_by_counts-ileum-1-0-1', 'mean_counts-ileum-1-0-1', 'pct_dropout_by_counts-ileum-1-0-1', 'total_counts-ileum-1-0-1'\n",
       "    uns: 'age_unified_colors', 'control_vs_disease_colors', 'disease_colors', 'level_1_annot_colors', 'level_3_annot_colors', 'neighbors', 'organ_groups_colors', 'organ_unified_colors', 'study_colors', 'umap'\n",
       "    obsm: 'X_scANVI', 'X_umap'\n",
       "    obsp: 'connectivities', 'distances'"
      ]
     },
     "execution_count": 3,
     "metadata": {},
     "output_type": "execute_result"
    }
   ],
   "source": [
    "adata"
   ]
  },
  {
   "cell_type": "code",
   "execution_count": 4,
   "id": "expressed-cylinder",
   "metadata": {},
   "outputs": [
    {
     "name": "stdout",
     "output_type": "stream",
     "text": [
      "  (1, 7)\t1.0\n",
      "  (1, 8)\t1.0\n",
      "  (3, 4)\t1.0\n",
      "  (5, 4)\t1.0\n",
      "  (5, 8)\t1.0\n",
      "  (8, 1)\t1.0\n",
      "  (8, 4)\t1.0\n",
      "  (8, 7)\t6.0\n",
      "  (8, 8)\t4.0\n"
     ]
    }
   ],
   "source": [
    "# Check that data is raw count matrix data\n",
    "print(adata.X[1:10, 1:10])"
   ]
  },
  {
   "cell_type": "code",
   "execution_count": 5,
   "id": "impressive-gender",
   "metadata": {},
   "outputs": [
    {
     "name": "stderr",
     "output_type": "stream",
     "text": [
      "/home/jovyan/my-conda-envs/ni_env2/lib/python3.10/site-packages/IPython/core/interactiveshell.py:3398: DtypeWarning: Columns (3,5,6,8,9,11,12,14,62,63,64,65,66,67,70,73,75,82,83,84,86,92,93,95,100,101,102,105,106,108,109,111,112,113,114,115,117,119,123,124,125,126,127,128,129,130,131,132,133) have mixed types.Specify dtype option on import or set low_memory=False.\n",
      "  exec(code_obj, self.user_global_ns, self.user_ns)\n"
     ]
    }
   ],
   "source": [
    "# Load metadata\n",
    "adata.obs = pd.read_csv(\n",
    "    '/nfs/team205/ao15/Megagut/Annotations_v3/metadata/pooled_healthy_disease.plus_additional_epi.18485genes.with_fineannot.nodoublets.20230322.csv',\n",
    "    index_col=0,\n",
    "    #low_memory=False  # to avoid dtype parsing warning (does not fix the issue)\n",
    ")"
   ]
  },
  {
   "cell_type": "code",
   "execution_count": 6,
   "id": "published-cradle",
   "metadata": {},
   "outputs": [
    {
     "data": {
      "text/plain": [
       "AnnData object with n_obs × n_vars = 1596203 × 18485\n",
       "    obs: 'latent_cell_probability', 'latent_RT_efficiency', 'cecilia22_predH', 'cecilia22_predH_prob', 'cecilia22_predH_uncertain', 'cecilia22_predL', 'cecilia22_predL_prob', 'cecilia22_predL_uncertain', 'elmentaite21_pred', 'elmentaite21_pred_prob', 'elmentaite21_pred_uncertain', 'suo22_pred', 'suo22_pred_prob', 'suo22_pred_uncertain', 'n_counts', 'log1p_n_counts', 'n_genes', 'log1p_n_genes', 'percent_mito', 'n_counts_mito', 'percent_ribo', 'n_counts_ribo', 'percent_hb', 'n_counts_hb', 'percent_top50', 'n_counts_raw', 'log1p_n_counts_raw', 'n_genes_raw', 'log1p_n_genes_raw', 'percent_mito_raw', 'n_counts_mito_raw', 'percent_ribo_raw', 'n_counts_ribo_raw', 'percent_hb_raw', 'n_counts_hb_raw', 'percent_top50_raw', 'n_counts_spliced', 'log1p_n_counts_spliced', 'n_genes_spliced', 'log1p_n_genes_spliced', 'percent_mito_spliced', 'n_counts_mito_spliced', 'percent_ribo_spliced', 'n_counts_ribo_spliced', 'percent_hb_spliced', 'n_counts_hb_spliced', 'percent_top50_spliced', 'n_counts_unspliced', 'log1p_n_counts_unspliced', 'n_genes_unspliced', 'log1p_n_genes_unspliced', 'percent_mito_unspliced', 'n_counts_mito_unspliced', 'percent_ribo_unspliced', 'n_counts_ribo_unspliced', 'percent_hb_unspliced', 'n_counts_hb_unspliced', 'percent_top50_unspliced', 'percent_soup', 'percent_spliced', 'qc_cluster', 'pass_auto_filter_mito20', 'good_qc_cluster_mito20', 'pass_auto_filter_mito50', 'good_qc_cluster_mito50', 'pass_auto_filter_mito80', 'good_qc_cluster_mito80', 'pass_auto_filter', 'good_qc_cluster', 'pass_default', 'sampleID', 'sourceID', 'donorID_original', 'study', 'donorID_corrected', 'donorID_unified', 'donor_category', 'donor_disease', 'organ_original', 'organ_unified', 'organ_broad', 'age_original', 'age_unified', 'age_continuousadult', 'age_continuousdev', 'sex', 'sample_type', 'sample_category', 'sample_retrieval', 'tissue_fraction', 'cell_fraction', 'cell_fraction_unified', 'cell_sorting', 'technology', 'include_150722', 'cluster_scrublet_score', 'bh_pval', 'scrublet_score', 'scrublet_score_z', 'doublet', 'stringent_doublet', 'integration_grouping', '_scvi_batch', '_scvi_labels', 'broad_annot_20220914', 'martin19_pred', 'martin19_pred_prob', 'martin19_pred_uncertain', 'warner20_pred', 'warner20_pred_prob', 'warner20_pred_uncertain', 'broad_annot_20220917', 'donor_organ_lineage', 'fine_annot', 'fine_annot_original', 'level_1_annot', 'level_2_annot', 'level_3_annot', 'broad_predicted_labels', 'broad_predicted_labels_uncert', 'batch', 'scrublet_done', 'disease_stage_original1', 'disease_stage_original2', 'TX_antidiarrheal', 'TX_5_ASA', 'TX_biologics', 'TX_steroid', 'TX_immunomodulators', 'TX_antibiotic', 'Smoking', 'celltype', 'fine_predicted_labels_uncertflagged', 'organ_groups', 'disease', 'control_vs_disease', 'mapping_status'\n",
       "    var: 'gene_ids-0', 'feature_type-0', 'mito-0', 'ribo-0', 'hb-0', 'cc-0', 'ig-0', 'tcr-0', 'n_counts-0-0', 'n_counts_raw-0-0', 'n_counts_spliced-0-0', 'n_counts_unspliced-0-0', 'n_cells-0-0', 'n_cells_raw-0-0', 'n_cells_spliced-0-0', 'n_cells_unspliced-0-0', 'n_counts-1-0', 'n_counts_raw-1-0', 'n_counts_spliced-1-0', 'n_counts_unspliced-1-0', 'n_cells-1-0', 'n_cells_raw-1-0', 'n_cells_spliced-1-0', 'n_cells_unspliced-1-0', 'gene_ids-0-0-1', 'feature_type-0-0-1', 'mito-0-0-1', 'ribo-0-0-1', 'hb-0-0-1', 'n_counts-0-0-1', 'n_counts_raw-0-0-1', 'n_counts_spliced-0-0-1', 'n_counts_unspliced-0-0-1', 'n_cells-0-0-1', 'n_cells_raw-0-0-1', 'n_cells_spliced-0-0-1', 'n_cells_unspliced-0-0-1', 'cc-0-0-1', 'ig-0-0-1', 'tcr-0-0-1', 'gene_id-1-0-1', 'mt-1-0-1', 'ensmbl_id-colon-1-0-1', 'n_cells_by_counts-colon-1-0-1', 'mean_counts-colon-1-0-1', 'pct_dropout_by_counts-colon-1-0-1', 'total_counts-colon-1-0-1', 'n_cells_by_counts-ileum-1-0-1', 'mean_counts-ileum-1-0-1', 'pct_dropout_by_counts-ileum-1-0-1', 'total_counts-ileum-1-0-1'\n",
       "    uns: 'age_unified_colors', 'control_vs_disease_colors', 'disease_colors', 'level_1_annot_colors', 'level_3_annot_colors', 'neighbors', 'organ_groups_colors', 'organ_unified_colors', 'study_colors', 'umap'\n",
       "    obsm: 'X_scANVI', 'X_umap'\n",
       "    obsp: 'connectivities', 'distances'"
      ]
     },
     "execution_count": 6,
     "metadata": {},
     "output_type": "execute_result"
    }
   ],
   "source": [
    "adata "
   ]
  },
  {
   "cell_type": "code",
   "execution_count": 7,
   "id": "several-packaging",
   "metadata": {},
   "outputs": [],
   "source": [
    "#filter out cells from developing gut. In place for improved memory efficiency.\n",
    "adata = adata[~adata.obs.disease.isin(['inutero', 'preterm'])]"
   ]
  },
  {
   "cell_type": "code",
   "execution_count": 8,
   "id": "smoking-consumption",
   "metadata": {},
   "outputs": [],
   "source": [
    "#adata"
   ]
  },
  {
   "cell_type": "code",
   "execution_count": 9,
   "id": "pediatric-newark",
   "metadata": {},
   "outputs": [],
   "source": [
    "#filter cells in small intestine only.\n",
    "adata = adata[adata.obs.organ_groups.isin(['Small_intestine'])]"
   ]
  },
  {
   "cell_type": "code",
   "execution_count": 10,
   "id": "fitting-ministry",
   "metadata": {},
   "outputs": [],
   "source": [
    "#filter out cells from controls (control, neighbouring samples, treated celiac)\n",
    "adata = adata[~adata.obs.disease.isin(['control', 'neighbouring_inflammed', 'neighbouring_polyps', 'neighbouring_cancer', 'celiac_treated'])]"
   ]
  },
  {
   "cell_type": "code",
   "execution_count": 11,
   "id": "humanitarian-sunday",
   "metadata": {},
   "outputs": [
    {
     "data": {
      "text/plain": [
       "View of AnnData object with n_obs × n_vars = 99465 × 18485\n",
       "    obs: 'latent_cell_probability', 'latent_RT_efficiency', 'cecilia22_predH', 'cecilia22_predH_prob', 'cecilia22_predH_uncertain', 'cecilia22_predL', 'cecilia22_predL_prob', 'cecilia22_predL_uncertain', 'elmentaite21_pred', 'elmentaite21_pred_prob', 'elmentaite21_pred_uncertain', 'suo22_pred', 'suo22_pred_prob', 'suo22_pred_uncertain', 'n_counts', 'log1p_n_counts', 'n_genes', 'log1p_n_genes', 'percent_mito', 'n_counts_mito', 'percent_ribo', 'n_counts_ribo', 'percent_hb', 'n_counts_hb', 'percent_top50', 'n_counts_raw', 'log1p_n_counts_raw', 'n_genes_raw', 'log1p_n_genes_raw', 'percent_mito_raw', 'n_counts_mito_raw', 'percent_ribo_raw', 'n_counts_ribo_raw', 'percent_hb_raw', 'n_counts_hb_raw', 'percent_top50_raw', 'n_counts_spliced', 'log1p_n_counts_spliced', 'n_genes_spliced', 'log1p_n_genes_spliced', 'percent_mito_spliced', 'n_counts_mito_spliced', 'percent_ribo_spliced', 'n_counts_ribo_spliced', 'percent_hb_spliced', 'n_counts_hb_spliced', 'percent_top50_spliced', 'n_counts_unspliced', 'log1p_n_counts_unspliced', 'n_genes_unspliced', 'log1p_n_genes_unspliced', 'percent_mito_unspliced', 'n_counts_mito_unspliced', 'percent_ribo_unspliced', 'n_counts_ribo_unspliced', 'percent_hb_unspliced', 'n_counts_hb_unspliced', 'percent_top50_unspliced', 'percent_soup', 'percent_spliced', 'qc_cluster', 'pass_auto_filter_mito20', 'good_qc_cluster_mito20', 'pass_auto_filter_mito50', 'good_qc_cluster_mito50', 'pass_auto_filter_mito80', 'good_qc_cluster_mito80', 'pass_auto_filter', 'good_qc_cluster', 'pass_default', 'sampleID', 'sourceID', 'donorID_original', 'study', 'donorID_corrected', 'donorID_unified', 'donor_category', 'donor_disease', 'organ_original', 'organ_unified', 'organ_broad', 'age_original', 'age_unified', 'age_continuousadult', 'age_continuousdev', 'sex', 'sample_type', 'sample_category', 'sample_retrieval', 'tissue_fraction', 'cell_fraction', 'cell_fraction_unified', 'cell_sorting', 'technology', 'include_150722', 'cluster_scrublet_score', 'bh_pval', 'scrublet_score', 'scrublet_score_z', 'doublet', 'stringent_doublet', 'integration_grouping', '_scvi_batch', '_scvi_labels', 'broad_annot_20220914', 'martin19_pred', 'martin19_pred_prob', 'martin19_pred_uncertain', 'warner20_pred', 'warner20_pred_prob', 'warner20_pred_uncertain', 'broad_annot_20220917', 'donor_organ_lineage', 'fine_annot', 'fine_annot_original', 'level_1_annot', 'level_2_annot', 'level_3_annot', 'broad_predicted_labels', 'broad_predicted_labels_uncert', 'batch', 'scrublet_done', 'disease_stage_original1', 'disease_stage_original2', 'TX_antidiarrheal', 'TX_5_ASA', 'TX_biologics', 'TX_steroid', 'TX_immunomodulators', 'TX_antibiotic', 'Smoking', 'celltype', 'fine_predicted_labels_uncertflagged', 'organ_groups', 'disease', 'control_vs_disease', 'mapping_status'\n",
       "    var: 'gene_ids-0', 'feature_type-0', 'mito-0', 'ribo-0', 'hb-0', 'cc-0', 'ig-0', 'tcr-0', 'n_counts-0-0', 'n_counts_raw-0-0', 'n_counts_spliced-0-0', 'n_counts_unspliced-0-0', 'n_cells-0-0', 'n_cells_raw-0-0', 'n_cells_spliced-0-0', 'n_cells_unspliced-0-0', 'n_counts-1-0', 'n_counts_raw-1-0', 'n_counts_spliced-1-0', 'n_counts_unspliced-1-0', 'n_cells-1-0', 'n_cells_raw-1-0', 'n_cells_spliced-1-0', 'n_cells_unspliced-1-0', 'gene_ids-0-0-1', 'feature_type-0-0-1', 'mito-0-0-1', 'ribo-0-0-1', 'hb-0-0-1', 'n_counts-0-0-1', 'n_counts_raw-0-0-1', 'n_counts_spliced-0-0-1', 'n_counts_unspliced-0-0-1', 'n_cells-0-0-1', 'n_cells_raw-0-0-1', 'n_cells_spliced-0-0-1', 'n_cells_unspliced-0-0-1', 'cc-0-0-1', 'ig-0-0-1', 'tcr-0-0-1', 'gene_id-1-0-1', 'mt-1-0-1', 'ensmbl_id-colon-1-0-1', 'n_cells_by_counts-colon-1-0-1', 'mean_counts-colon-1-0-1', 'pct_dropout_by_counts-colon-1-0-1', 'total_counts-colon-1-0-1', 'n_cells_by_counts-ileum-1-0-1', 'mean_counts-ileum-1-0-1', 'pct_dropout_by_counts-ileum-1-0-1', 'total_counts-ileum-1-0-1'\n",
       "    uns: 'age_unified_colors', 'control_vs_disease_colors', 'disease_colors', 'level_1_annot_colors', 'level_3_annot_colors', 'neighbors', 'organ_groups_colors', 'organ_unified_colors', 'study_colors', 'umap'\n",
       "    obsm: 'X_scANVI', 'X_umap'\n",
       "    obsp: 'connectivities', 'distances'"
      ]
     },
     "execution_count": 11,
     "metadata": {},
     "output_type": "execute_result"
    }
   ],
   "source": [
    "adata"
   ]
  },
  {
   "cell_type": "markdown",
   "id": "bulgarian-letters",
   "metadata": {},
   "source": [
    "## Write data"
   ]
  },
  {
   "cell_type": "code",
   "execution_count": 12,
   "id": "expired-council",
   "metadata": {},
   "outputs": [],
   "source": [
    "# Remove obs data due to dtype issues, which are inconsistent with write_h5ad()\n",
    "adata_obs = adata.obs  # store obs\n",
    "del adata.obs  # delete from AnnData object"
   ]
  },
  {
   "cell_type": "code",
   "execution_count": 13,
   "id": "postal-paraguay",
   "metadata": {},
   "outputs": [],
   "source": [
    "#adata_obs"
   ]
  },
  {
   "cell_type": "code",
   "execution_count": 14,
   "id": "personalized-shelter",
   "metadata": {},
   "outputs": [],
   "source": [
    "adata = adata.copy()  # resolve issue"
   ]
  },
  {
   "cell_type": "code",
   "execution_count": 17,
   "id": "numeric-cruise",
   "metadata": {},
   "outputs": [],
   "source": [
    "# Typecast to resolve downstream issues with cNMF parsing of results\n",
    "adata.X = adata.X.astype(np.float64)"
   ]
  },
  {
   "cell_type": "code",
   "execution_count": 18,
   "id": "periodic-anthony",
   "metadata": {},
   "outputs": [
    {
     "name": "stdout",
     "output_type": "stream",
     "text": [
      "mkdir: cannot create directory ‘h5ad’: File exists\n"
     ]
    }
   ],
   "source": [
    "!mkdir h5ad"
   ]
  },
  {
   "cell_type": "code",
   "execution_count": 19,
   "id": "postal-summary",
   "metadata": {},
   "outputs": [],
   "source": [
    "adata.write_h5ad(\"h5ad/pooled_healthy_disease.plus_additional_epi.18485genes.with_fineannot.nodoublets.20230322.smallintestine.h5ad\")  "
   ]
  },
  {
   "cell_type": "code",
   "execution_count": 20,
   "id": "driven-jacksonville",
   "metadata": {},
   "outputs": [],
   "source": [
    "# Store associated obs metadata separately\n",
    "adata_obs.to_csv(\"h5ad/pooled_healthy_disease.plus_additional_epi.18485genes.with_fineannot.nodoublets.20230322.smallintestine.csv\")"
   ]
  },
  {
   "cell_type": "code",
   "execution_count": null,
   "id": "foreign-relative",
   "metadata": {},
   "outputs": [],
   "source": [
    "#adata.obs.columns.to_list()"
   ]
  },
  {
   "cell_type": "code",
   "execution_count": null,
   "id": "sorted-omega",
   "metadata": {},
   "outputs": [],
   "source": [
    "# typecast mixed columns\n",
    "#adata.obs = adata.obs.convert_dtypes()"
   ]
  },
  {
   "cell_type": "code",
   "execution_count": null,
   "id": "interpreted-direction",
   "metadata": {},
   "outputs": [],
   "source": [
    "#adata.obs.dtypes.value_counts()"
   ]
  },
  {
   "cell_type": "code",
   "execution_count": null,
   "id": "continent-season",
   "metadata": {},
   "outputs": [],
   "source": [
    "#adata.obs = adata.obs.astype({'latent_cell_probability': float})"
   ]
  },
  {
   "cell_type": "code",
   "execution_count": null,
   "id": "composite-trail",
   "metadata": {},
   "outputs": [],
   "source": []
  },
  {
   "cell_type": "code",
   "execution_count": null,
   "id": "embedded-exercise",
   "metadata": {},
   "outputs": [],
   "source": []
  }
 ],
 "metadata": {
  "kernelspec": {
   "display_name": "ni_env2",
   "language": "python",
   "name": "ni_env2"
  },
  "language_info": {
   "codemirror_mode": {
    "name": "ipython",
    "version": 3
   },
   "file_extension": ".py",
   "mimetype": "text/x-python",
   "name": "python",
   "nbconvert_exporter": "python",
   "pygments_lexer": "ipython3",
   "version": "3.10.9"
  },
  "widgets": {
   "application/vnd.jupyter.widget-state+json": {
    "state": {},
    "version_major": 2,
    "version_minor": 0
   }
  }
 },
 "nbformat": 4,
 "nbformat_minor": 5
}
