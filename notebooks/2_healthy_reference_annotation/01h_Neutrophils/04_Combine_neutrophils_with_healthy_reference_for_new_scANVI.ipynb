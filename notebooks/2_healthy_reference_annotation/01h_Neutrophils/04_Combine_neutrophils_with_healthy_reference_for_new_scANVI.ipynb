{
 "cells": [
  {
   "cell_type": "markdown",
   "id": "defined-taste",
   "metadata": {},
   "source": [
    "# Combine neutrophils from failed QC cells with the entire reference for new scANVI model"
   ]
  },
  {
   "cell_type": "code",
   "execution_count": 1,
   "id": "changing-howard",
   "metadata": {},
   "outputs": [
    {
     "name": "stdout",
     "output_type": "stream",
     "text": [
      "scanpy==1.7.1 anndata==0.8.0 umap==0.4.6 numpy==1.20.1 scipy==1.6.1 pandas==1.2.3 scikit-learn==0.24.1 statsmodels==0.12.2 python-igraph==0.8.3 louvain==0.7.0 leidenalg==0.8.3\n"
     ]
    }
   ],
   "source": [
    "import scanpy as sc\n",
    "import pandas as pd\n",
    "import numpy as np\n",
    "\n",
    "sc.logging.print_header()"
   ]
  },
  {
   "cell_type": "code",
   "execution_count": 2,
   "id": "graduate-homeless",
   "metadata": {},
   "outputs": [],
   "source": [
    "adata = sc.read_h5ad('/nfs/team205/ao15/Megagut/Annotations_v3/h5ad/pooled_healthy.no_doublets.annot_all_levels.updated_donorID.20230126.metadata_update.20230421.h5ad')"
   ]
  },
  {
   "cell_type": "code",
   "execution_count": 3,
   "id": "specific-pipeline",
   "metadata": {},
   "outputs": [
    {
     "data": {
      "text/plain": [
       "AnnData object with n_obs × n_vars = 1077241 × 36601\n",
       "    var: 'gene_ids', 'feature_type', 'mito', 'ribo', 'hb', 'n_counts', 'n_counts_raw', 'n_counts_spliced', 'n_counts_unspliced', 'n_cells', 'n_cells_raw', 'n_cells_spliced', 'n_cells_unspliced', 'cc', 'ig', 'tcr'\n",
       "    uns: '_scvi_manager_uuid', '_scvi_uuid', 'age_unified_colors', 'broad_annot_20220914_colors', 'broad_annot_20220917_colors', 'elmentaite21_pred_colors', 'fine_annot_colors', 'hvg', 'level2_annot_colors', 'neighbors', 'neighbors_scvi', 'organ_unified_colors', 'study_colors', 'umap'\n",
       "    obsm: 'X_mde', 'X_scvi', 'X_umap', '_scvi_extra_categorical_covs', '_scvi_extra_continuous_covs'\n",
       "    layers: 'counts'\n",
       "    obsp: 'connectivities', 'distances', 'neighbors_scvi_connectivities', 'neighbors_scvi_distances'"
      ]
     },
     "execution_count": 3,
     "metadata": {},
     "output_type": "execute_result"
    }
   ],
   "source": [
    "adata"
   ]
  },
  {
   "cell_type": "code",
   "execution_count": 4,
   "id": "sorted-surfing",
   "metadata": {},
   "outputs": [
    {
     "name": "stderr",
     "output_type": "stream",
     "text": [
      "/home/jovyan/my-conda-envs/standard/lib/python3.8/site-packages/IPython/core/interactiveshell.py:3165: DtypeWarning: Columns (73,83,84,86,93) have mixed types.Specify dtype option on import or set low_memory=False.\n",
      "  has_raised = await self.run_ast_nodes(code_ast.body, cell_name,\n"
     ]
    }
   ],
   "source": [
    "adata.obs = pd.read_csv('/nfs/team205/ao15/Megagut/Annotations_v3/metadata/pooled_healthy.no_doublets.annot_all_levels.updated_donorID.20230126.metadata_update.20230421.csv',index_col=0)"
   ]
  },
  {
   "cell_type": "code",
   "execution_count": 5,
   "id": "robust-belief",
   "metadata": {},
   "outputs": [
    {
     "data": {
      "text/plain": [
       "AnnData object with n_obs × n_vars = 1077241 × 36601\n",
       "    obs: 'latent_cell_probability', 'latent_RT_efficiency', 'cecilia22_predH', 'cecilia22_predH_prob', 'cecilia22_predH_uncertain', 'cecilia22_predL', 'cecilia22_predL_prob', 'cecilia22_predL_uncertain', 'elmentaite21_pred', 'elmentaite21_pred_prob', 'elmentaite21_pred_uncertain', 'suo22_pred', 'suo22_pred_prob', 'suo22_pred_uncertain', 'n_counts', 'log1p_n_counts', 'n_genes', 'log1p_n_genes', 'percent_mito', 'n_counts_mito', 'percent_ribo', 'n_counts_ribo', 'percent_hb', 'n_counts_hb', 'percent_top50', 'n_counts_raw', 'log1p_n_counts_raw', 'n_genes_raw', 'log1p_n_genes_raw', 'percent_mito_raw', 'n_counts_mito_raw', 'percent_ribo_raw', 'n_counts_ribo_raw', 'percent_hb_raw', 'n_counts_hb_raw', 'percent_top50_raw', 'n_counts_spliced', 'log1p_n_counts_spliced', 'n_genes_spliced', 'log1p_n_genes_spliced', 'percent_mito_spliced', 'n_counts_mito_spliced', 'percent_ribo_spliced', 'n_counts_ribo_spliced', 'percent_hb_spliced', 'n_counts_hb_spliced', 'percent_top50_spliced', 'n_counts_unspliced', 'log1p_n_counts_unspliced', 'n_genes_unspliced', 'log1p_n_genes_unspliced', 'percent_mito_unspliced', 'n_counts_mito_unspliced', 'percent_ribo_unspliced', 'n_counts_ribo_unspliced', 'percent_hb_unspliced', 'n_counts_hb_unspliced', 'percent_top50_unspliced', 'percent_soup', 'percent_spliced', 'qc_cluster', 'pass_auto_filter_mito20', 'good_qc_cluster_mito20', 'pass_auto_filter_mito50', 'good_qc_cluster_mito50', 'pass_auto_filter_mito80', 'good_qc_cluster_mito80', 'pass_auto_filter', 'good_qc_cluster', 'pass_default', 'sampleID', 'sourceID', 'donorID_original', 'study', 'donorID_corrected', 'donorID_unified', 'donor_category', 'donor_disease', 'organ_original', 'organ_unified', 'organ_broad', 'age_original', 'age_unified', 'age_continuousadult', 'age_continuousdev', 'sex', 'sample_type', 'sample_category', 'sample_retrieval', 'tissue_fraction', 'cell_fraction', 'cell_fraction_unified', 'cell_sorting', 'technology', 'include_150722', 'cluster_scrublet_score', 'bh_pval', 'scrublet_score', 'scrublet_score_z', 'scrublet_done', 'doublet', 'stringent_doublet', 'integration_grouping', '_scvi_batch', '_scvi_labels', 'broad_annot_20220914', 'martin19_pred', 'martin19_pred_prob', 'martin19_pred_uncertain', 'warner20_pred', 'warner20_pred_prob', 'warner20_pred_uncertain', 'broad_annot_20220917', 'donor_organ_lineage', 'fine_annot', 'fine_annot_original', 'level_1_annot', 'level_2_annot', 'level_3_annot', 'organ_groups', 'disease', 'control_vs_disease'\n",
       "    var: 'gene_ids', 'feature_type', 'mito', 'ribo', 'hb', 'n_counts', 'n_counts_raw', 'n_counts_spliced', 'n_counts_unspliced', 'n_cells', 'n_cells_raw', 'n_cells_spliced', 'n_cells_unspliced', 'cc', 'ig', 'tcr'\n",
       "    uns: '_scvi_manager_uuid', '_scvi_uuid', 'age_unified_colors', 'broad_annot_20220914_colors', 'broad_annot_20220917_colors', 'elmentaite21_pred_colors', 'fine_annot_colors', 'hvg', 'level2_annot_colors', 'neighbors', 'neighbors_scvi', 'organ_unified_colors', 'study_colors', 'umap'\n",
       "    obsm: 'X_mde', 'X_scvi', 'X_umap', '_scvi_extra_categorical_covs', '_scvi_extra_continuous_covs'\n",
       "    layers: 'counts'\n",
       "    obsp: 'connectivities', 'distances', 'neighbors_scvi_connectivities', 'neighbors_scvi_distances'"
      ]
     },
     "execution_count": 5,
     "metadata": {},
     "output_type": "execute_result"
    }
   ],
   "source": [
    "adata"
   ]
  },
  {
   "cell_type": "code",
   "execution_count": 6,
   "id": "olive-tourist",
   "metadata": {},
   "outputs": [],
   "source": [
    "neutro = sc.read_h5ad('/nfs/team205/ao15/Megagut/Annotations_v3/neutrophils/pooled_healthy.gene_cellbender.bad_qc_cluster_mito80.neutrophil.20221013.h5ad')"
   ]
  },
  {
   "cell_type": "code",
   "execution_count": 7,
   "id": "illegal-pharmacology",
   "metadata": {},
   "outputs": [
    {
     "data": {
      "text/plain": [
       "AnnData object with n_obs × n_vars = 1893 × 36601\n",
       "    obs: 'latent_cell_probability', 'latent_RT_efficiency', 'cecilia22_predH', 'cecilia22_predH_prob', 'cecilia22_predH_uncertain', 'cecilia22_predL', 'cecilia22_predL_prob', 'cecilia22_predL_uncertain', 'elmentaite21_pred', 'elmentaite21_pred_prob', 'elmentaite21_pred_uncertain', 'suo22_pred', 'suo22_pred_prob', 'suo22_pred_uncertain', 'n_counts', 'log1p_n_counts', 'n_genes', 'log1p_n_genes', 'percent_mito', 'n_counts_mito', 'percent_ribo', 'n_counts_ribo', 'percent_hb', 'n_counts_hb', 'percent_top50', 'n_counts_raw', 'log1p_n_counts_raw', 'n_genes_raw', 'log1p_n_genes_raw', 'percent_mito_raw', 'n_counts_mito_raw', 'percent_ribo_raw', 'n_counts_ribo_raw', 'percent_hb_raw', 'n_counts_hb_raw', 'percent_top50_raw', 'n_counts_spliced', 'log1p_n_counts_spliced', 'n_genes_spliced', 'log1p_n_genes_spliced', 'percent_mito_spliced', 'n_counts_mito_spliced', 'percent_ribo_spliced', 'n_counts_ribo_spliced', 'percent_hb_spliced', 'n_counts_hb_spliced', 'percent_top50_spliced', 'n_counts_unspliced', 'log1p_n_counts_unspliced', 'n_genes_unspliced', 'log1p_n_genes_unspliced', 'percent_mito_unspliced', 'n_counts_mito_unspliced', 'percent_ribo_unspliced', 'n_counts_ribo_unspliced', 'percent_hb_unspliced', 'n_counts_hb_unspliced', 'percent_top50_unspliced', 'percent_soup', 'percent_spliced', 'qc_cluster', 'pass_auto_filter_mito20', 'good_qc_cluster_mito20', 'pass_auto_filter_mito50', 'good_qc_cluster_mito50', 'pass_auto_filter_mito80', 'good_qc_cluster_mito80', 'pass_auto_filter', 'good_qc_cluster', 'pass_default', 'sampleID', 'sourceID', 'donorID_original', 'study', 'donorID_corrected', 'donorID_unified', 'donor_category', 'donor_disease', 'organ_original', 'organ_unified', 'organ_broad', 'age_original', 'age_unified', 'age_continuousadult', 'age_continuousdev', 'sex', 'sample_type', 'sample_category', 'sample_retrieval', 'tissue_fraction', 'cell_fraction', 'cell_fraction_unified', 'cell_sorting', 'technology', 'include_150722'\n",
       "    var: 'gene_ids', 'feature_type', 'mito', 'ribo', 'hb', 'n_counts', 'n_counts_raw', 'n_counts_spliced', 'n_counts_unspliced', 'n_cells', 'n_cells_raw', 'n_cells_spliced', 'n_cells_unspliced', 'cc', 'ig', 'tcr'"
      ]
     },
     "execution_count": 7,
     "metadata": {},
     "output_type": "execute_result"
    }
   ],
   "source": [
    "neutro"
   ]
  },
  {
   "cell_type": "code",
   "execution_count": 8,
   "id": "upset-classification",
   "metadata": {},
   "outputs": [],
   "source": [
    "annot = pd.read_csv('/nfs/team205/ao15/Megagut/Annotations_v3/disease_annot/resolved_annot/Myeloid_neutrophils_annot20231207.csv',index_col=0)"
   ]
  },
  {
   "cell_type": "code",
   "execution_count": 9,
   "id": "noted-bristol",
   "metadata": {},
   "outputs": [
    {
     "data": {
      "text/html": [
       "<div>\n",
       "<style scoped>\n",
       "    .dataframe tbody tr th:only-of-type {\n",
       "        vertical-align: middle;\n",
       "    }\n",
       "\n",
       "    .dataframe tbody tr th {\n",
       "        vertical-align: top;\n",
       "    }\n",
       "\n",
       "    .dataframe thead th {\n",
       "        text-align: right;\n",
       "    }\n",
       "</style>\n",
       "<table border=\"1\" class=\"dataframe\">\n",
       "  <thead>\n",
       "    <tr style=\"text-align: right;\">\n",
       "      <th></th>\n",
       "      <th>fine_predicted_labels_uncertflagged</th>\n",
       "      <th>fine_predicted_labels_resolved</th>\n",
       "    </tr>\n",
       "    <tr>\n",
       "      <th>index</th>\n",
       "      <th></th>\n",
       "      <th></th>\n",
       "    </tr>\n",
       "  </thead>\n",
       "  <tbody>\n",
       "    <tr>\n",
       "      <th>AAACCTGCAACTGCGC-HCA_A_GT12934997</th>\n",
       "      <td>Monocyte</td>\n",
       "      <td>Neutrophil_circulating</td>\n",
       "    </tr>\n",
       "    <tr>\n",
       "      <th>AAACCTGCATGGTAGG-HCA_A_GT12934997</th>\n",
       "      <td>Monocyte</td>\n",
       "      <td>Neutrophil_circulating</td>\n",
       "    </tr>\n",
       "    <tr>\n",
       "      <th>AAAGATGAGGACAGCT-HCA_A_GT12934997</th>\n",
       "      <td>Monocyte</td>\n",
       "      <td>Neutrophil_circulating</td>\n",
       "    </tr>\n",
       "    <tr>\n",
       "      <th>AAAGTAGTCAACGAAA-HCA_A_GT12934997</th>\n",
       "      <td>Monocyte</td>\n",
       "      <td>Neutrophil_circulating</td>\n",
       "    </tr>\n",
       "    <tr>\n",
       "      <th>AACACGTAGAGACTAT-HCA_A_GT12934997</th>\n",
       "      <td>Monocyte</td>\n",
       "      <td>Neutrophil_circulating</td>\n",
       "    </tr>\n",
       "    <tr>\n",
       "      <th>...</th>\n",
       "      <td>...</td>\n",
       "      <td>...</td>\n",
       "    </tr>\n",
       "    <tr>\n",
       "      <th>CTACATTGTCTGCCAG-HT228-fetal-ileum</th>\n",
       "      <td>Mono/neutrophil_MPO</td>\n",
       "      <td>Neutrophil_mature</td>\n",
       "    </tr>\n",
       "    <tr>\n",
       "      <th>CTCGTCATCACCTTAT-HT228-fetal-ileum</th>\n",
       "      <td>Mono/neutrophil_MPO</td>\n",
       "      <td>Neutrophil_mature</td>\n",
       "    </tr>\n",
       "    <tr>\n",
       "      <th>TGACAACAGAAGGGTA-HT228-fetal-ileum</th>\n",
       "      <td>Monocyte</td>\n",
       "      <td>Neutrophil_circulating</td>\n",
       "    </tr>\n",
       "    <tr>\n",
       "      <th>TTCTACACATGACATC-HT228-fetal-ileum</th>\n",
       "      <td>Monocyte</td>\n",
       "      <td>Neutrophil_fetal</td>\n",
       "    </tr>\n",
       "    <tr>\n",
       "      <th>TTTCCTCGTTCGTGAT-HT228-fetal-ileum</th>\n",
       "      <td>Unknown</td>\n",
       "      <td>Neutrophil_mature</td>\n",
       "    </tr>\n",
       "  </tbody>\n",
       "</table>\n",
       "<p>1893 rows × 2 columns</p>\n",
       "</div>"
      ],
      "text/plain": [
       "                                   fine_predicted_labels_uncertflagged  \\\n",
       "index                                                                    \n",
       "AAACCTGCAACTGCGC-HCA_A_GT12934997                             Monocyte   \n",
       "AAACCTGCATGGTAGG-HCA_A_GT12934997                             Monocyte   \n",
       "AAAGATGAGGACAGCT-HCA_A_GT12934997                             Monocyte   \n",
       "AAAGTAGTCAACGAAA-HCA_A_GT12934997                             Monocyte   \n",
       "AACACGTAGAGACTAT-HCA_A_GT12934997                             Monocyte   \n",
       "...                                                                ...   \n",
       "CTACATTGTCTGCCAG-HT228-fetal-ileum                 Mono/neutrophil_MPO   \n",
       "CTCGTCATCACCTTAT-HT228-fetal-ileum                 Mono/neutrophil_MPO   \n",
       "TGACAACAGAAGGGTA-HT228-fetal-ileum                            Monocyte   \n",
       "TTCTACACATGACATC-HT228-fetal-ileum                            Monocyte   \n",
       "TTTCCTCGTTCGTGAT-HT228-fetal-ileum                             Unknown   \n",
       "\n",
       "                                   fine_predicted_labels_resolved  \n",
       "index                                                              \n",
       "AAACCTGCAACTGCGC-HCA_A_GT12934997          Neutrophil_circulating  \n",
       "AAACCTGCATGGTAGG-HCA_A_GT12934997          Neutrophil_circulating  \n",
       "AAAGATGAGGACAGCT-HCA_A_GT12934997          Neutrophil_circulating  \n",
       "AAAGTAGTCAACGAAA-HCA_A_GT12934997          Neutrophil_circulating  \n",
       "AACACGTAGAGACTAT-HCA_A_GT12934997          Neutrophil_circulating  \n",
       "...                                                           ...  \n",
       "CTACATTGTCTGCCAG-HT228-fetal-ileum              Neutrophil_mature  \n",
       "CTCGTCATCACCTTAT-HT228-fetal-ileum              Neutrophil_mature  \n",
       "TGACAACAGAAGGGTA-HT228-fetal-ileum         Neutrophil_circulating  \n",
       "TTCTACACATGACATC-HT228-fetal-ileum               Neutrophil_fetal  \n",
       "TTTCCTCGTTCGTGAT-HT228-fetal-ileum              Neutrophil_mature  \n",
       "\n",
       "[1893 rows x 2 columns]"
      ]
     },
     "execution_count": 9,
     "metadata": {},
     "output_type": "execute_result"
    }
   ],
   "source": [
    "annot"
   ]
  },
  {
   "cell_type": "code",
   "execution_count": 10,
   "id": "systematic-clock",
   "metadata": {},
   "outputs": [],
   "source": [
    "neutro.obs['level_3_annot'] = annot.fine_predicted_labels_resolved"
   ]
  },
  {
   "cell_type": "code",
   "execution_count": 11,
   "id": "nutritional-refrigerator",
   "metadata": {},
   "outputs": [
    {
     "data": {
      "text/plain": [
       "array(['Neutrophil_circulating', 'Neutrophil_mature', 'Doublets',\n",
       "       'Neutrophil_fetal'], dtype=object)"
      ]
     },
     "execution_count": 11,
     "metadata": {},
     "output_type": "execute_result"
    }
   ],
   "source": [
    "neutro.obs['level_3_annot'].unique()"
   ]
  },
  {
   "cell_type": "code",
   "execution_count": 12,
   "id": "private-breach",
   "metadata": {},
   "outputs": [
    {
     "data": {
      "text/plain": [
       "array(['Endothelial', 'Myeloid', 'Epithelial', 'T and NK cells',\n",
       "       'Mesenchymal', 'B and B plasma', 'Neural'], dtype=object)"
      ]
     },
     "execution_count": 12,
     "metadata": {},
     "output_type": "execute_result"
    }
   ],
   "source": [
    "adata.obs['level_1_annot'].unique()"
   ]
  },
  {
   "cell_type": "code",
   "execution_count": 13,
   "id": "solar-chance",
   "metadata": {},
   "outputs": [],
   "source": [
    "neutro.obs['level_1_annot'] = (\n",
    "    neutro.obs[\"level_3_annot\"]\n",
    "    .map(lambda x: {'Neutrophil_circulating':'Myeloid', \n",
    "                    'Neutrophil_mature':'Myeloid', \n",
    "                    'Doublets':'Myeloid',\n",
    "       'Neutrophil_fetal':'Myeloid'\n",
    "    }.get(x, x))\n",
    "    .astype(\"category\")\n",
    ")"
   ]
  },
  {
   "cell_type": "code",
   "execution_count": 14,
   "id": "reasonable-debut",
   "metadata": {},
   "outputs": [
    {
     "name": "stderr",
     "output_type": "stream",
     "text": [
      "/home/jovyan/my-conda-envs/standard/lib/python3.8/site-packages/anndata/_core/anndata.py:1785: FutureWarning: X.dtype being converted to np.float32 from float64. In the next version of anndata (0.9) conversion will not be automatic. Pass dtype explicitly to avoid this warning. Pass `AnnData(X, dtype=X.dtype, ...)` to get the future behavour.\n",
      "  [AnnData(sparse.csr_matrix(a.shape), obs=a.obs) for a in all_adatas],\n"
     ]
    }
   ],
   "source": [
    "adata = adata.concatenate(neutro,index_unique=None)"
   ]
  },
  {
   "cell_type": "code",
   "execution_count": 15,
   "id": "religious-briefing",
   "metadata": {},
   "outputs": [
    {
     "data": {
      "text/plain": [
       "AnnData object with n_obs × n_vars = 1079134 × 36601\n",
       "    obs: 'latent_cell_probability', 'latent_RT_efficiency', 'cecilia22_predH', 'cecilia22_predH_prob', 'cecilia22_predH_uncertain', 'cecilia22_predL', 'cecilia22_predL_prob', 'cecilia22_predL_uncertain', 'elmentaite21_pred', 'elmentaite21_pred_prob', 'elmentaite21_pred_uncertain', 'suo22_pred', 'suo22_pred_prob', 'suo22_pred_uncertain', 'n_counts', 'log1p_n_counts', 'n_genes', 'log1p_n_genes', 'percent_mito', 'n_counts_mito', 'percent_ribo', 'n_counts_ribo', 'percent_hb', 'n_counts_hb', 'percent_top50', 'n_counts_raw', 'log1p_n_counts_raw', 'n_genes_raw', 'log1p_n_genes_raw', 'percent_mito_raw', 'n_counts_mito_raw', 'percent_ribo_raw', 'n_counts_ribo_raw', 'percent_hb_raw', 'n_counts_hb_raw', 'percent_top50_raw', 'n_counts_spliced', 'log1p_n_counts_spliced', 'n_genes_spliced', 'log1p_n_genes_spliced', 'percent_mito_spliced', 'n_counts_mito_spliced', 'percent_ribo_spliced', 'n_counts_ribo_spliced', 'percent_hb_spliced', 'n_counts_hb_spliced', 'percent_top50_spliced', 'n_counts_unspliced', 'log1p_n_counts_unspliced', 'n_genes_unspliced', 'log1p_n_genes_unspliced', 'percent_mito_unspliced', 'n_counts_mito_unspliced', 'percent_ribo_unspliced', 'n_counts_ribo_unspliced', 'percent_hb_unspliced', 'n_counts_hb_unspliced', 'percent_top50_unspliced', 'percent_soup', 'percent_spliced', 'qc_cluster', 'pass_auto_filter_mito20', 'good_qc_cluster_mito20', 'pass_auto_filter_mito50', 'good_qc_cluster_mito50', 'pass_auto_filter_mito80', 'good_qc_cluster_mito80', 'pass_auto_filter', 'good_qc_cluster', 'pass_default', 'sampleID', 'sourceID', 'donorID_original', 'study', 'donorID_corrected', 'donorID_unified', 'donor_category', 'donor_disease', 'organ_original', 'organ_unified', 'organ_broad', 'age_original', 'age_unified', 'age_continuousadult', 'age_continuousdev', 'sex', 'sample_type', 'sample_category', 'sample_retrieval', 'tissue_fraction', 'cell_fraction', 'cell_fraction_unified', 'cell_sorting', 'technology', 'include_150722', 'cluster_scrublet_score', 'bh_pval', 'scrublet_score', 'scrublet_score_z', 'scrublet_done', 'doublet', 'stringent_doublet', 'integration_grouping', '_scvi_batch', '_scvi_labels', 'broad_annot_20220914', 'martin19_pred', 'martin19_pred_prob', 'martin19_pred_uncertain', 'warner20_pred', 'warner20_pred_prob', 'warner20_pred_uncertain', 'broad_annot_20220917', 'donor_organ_lineage', 'fine_annot', 'fine_annot_original', 'level_1_annot', 'level_2_annot', 'level_3_annot', 'organ_groups', 'disease', 'control_vs_disease', 'batch'\n",
       "    var: 'gene_ids', 'feature_type', 'mito', 'ribo', 'hb', 'n_counts', 'n_counts_raw', 'n_counts_spliced', 'n_counts_unspliced', 'n_cells', 'n_cells_raw', 'n_cells_spliced', 'n_cells_unspliced', 'cc', 'ig', 'tcr'"
      ]
     },
     "execution_count": 15,
     "metadata": {},
     "output_type": "execute_result"
    }
   ],
   "source": [
    "adata"
   ]
  },
  {
   "cell_type": "code",
   "execution_count": 16,
   "id": "similar-wales",
   "metadata": {},
   "outputs": [
    {
     "data": {
      "text/plain": [
       "array(['Endothelial', 'Myeloid', 'Epithelial', 'T and NK cells',\n",
       "       'Mesenchymal', 'B and B plasma', 'Neural'], dtype=object)"
      ]
     },
     "execution_count": 16,
     "metadata": {},
     "output_type": "execute_result"
    }
   ],
   "source": [
    "adata.obs.level_1_annot.unique()"
   ]
  },
  {
   "cell_type": "code",
   "execution_count": 17,
   "id": "appropriate-seattle",
   "metadata": {},
   "outputs": [],
   "source": [
    "obs_to_keep = adata.obs[['log1p_n_counts','percent_mito','level_1_annot','level_3_annot','donorID_unified']]"
   ]
  },
  {
   "cell_type": "code",
   "execution_count": 18,
   "id": "together-monte",
   "metadata": {},
   "outputs": [],
   "source": [
    "adata.obs = obs_to_keep"
   ]
  },
  {
   "cell_type": "code",
   "execution_count": 19,
   "id": "fitted-strike",
   "metadata": {},
   "outputs": [
    {
     "data": {
      "text/plain": [
       "AnnData object with n_obs × n_vars = 1079134 × 36601\n",
       "    obs: 'log1p_n_counts', 'percent_mito', 'level_1_annot', 'level_3_annot', 'donorID_unified'\n",
       "    var: 'gene_ids', 'feature_type', 'mito', 'ribo', 'hb', 'n_counts', 'n_counts_raw', 'n_counts_spliced', 'n_counts_unspliced', 'n_cells', 'n_cells_raw', 'n_cells_spliced', 'n_cells_unspliced', 'cc', 'ig', 'tcr'"
      ]
     },
     "execution_count": 19,
     "metadata": {},
     "output_type": "execute_result"
    }
   ],
   "source": [
    "adata"
   ]
  },
  {
   "cell_type": "code",
   "execution_count": 20,
   "id": "embedded-marsh",
   "metadata": {},
   "outputs": [
    {
     "data": {
      "text/plain": [
       "40699.0"
      ]
     },
     "execution_count": 20,
     "metadata": {},
     "output_type": "execute_result"
    }
   ],
   "source": [
    "adata.X.max()"
   ]
  },
  {
   "cell_type": "code",
   "execution_count": 21,
   "id": "entire-liberty",
   "metadata": {},
   "outputs": [
    {
     "data": {
      "text/plain": [
       "1277.0"
      ]
     },
     "execution_count": 21,
     "metadata": {},
     "output_type": "execute_result"
    }
   ],
   "source": [
    "neutro.X.max()"
   ]
  },
  {
   "cell_type": "code",
   "execution_count": 22,
   "id": "julian-burns",
   "metadata": {},
   "outputs": [
    {
     "name": "stderr",
     "output_type": "stream",
     "text": [
      "/home/jovyan/my-conda-envs/standard/lib/python3.8/site-packages/anndata/_core/anndata.py:1235: SettingWithCopyWarning: \n",
      "A value is trying to be set on a copy of a slice from a DataFrame.\n",
      "Try using .loc[row_indexer,col_indexer] = value instead\n",
      "\n",
      "See the caveats in the documentation: https://pandas.pydata.org/pandas-docs/stable/user_guide/indexing.html#returning-a-view-versus-a-copy\n",
      "  df[key] = c\n"
     ]
    }
   ],
   "source": [
    "adata.write_h5ad('/nfs/team205/ao15/Megagut/Annotations_v3/h5ad/pooled_healthy.no_doublets.annot_all_levels.updated_donorID.20230126.metadata_update.withneutrophils.20240125.h5ad')"
   ]
  },
  {
   "cell_type": "code",
   "execution_count": null,
   "id": "noticed-surfing",
   "metadata": {},
   "outputs": [],
   "source": []
  }
 ],
 "metadata": {
  "kernelspec": {
   "display_name": "Standard single cell",
   "language": "python",
   "name": "standard"
  },
  "language_info": {
   "codemirror_mode": {
    "name": "ipython",
    "version": 3
   },
   "file_extension": ".py",
   "mimetype": "text/x-python",
   "name": "python",
   "nbconvert_exporter": "python",
   "pygments_lexer": "ipython3",
   "version": "3.8.8"
  }
 },
 "nbformat": 4,
 "nbformat_minor": 5
}
