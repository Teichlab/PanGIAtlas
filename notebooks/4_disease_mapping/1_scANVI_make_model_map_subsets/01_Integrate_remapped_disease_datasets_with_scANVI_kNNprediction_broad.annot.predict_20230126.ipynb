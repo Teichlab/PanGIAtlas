{
 "cells": [
  {
   "cell_type": "markdown",
   "id": "multiple-nirvana",
   "metadata": {},
   "source": [
    "# scANVI integration of disease dataset\n",
    "- Reran scvi without study as a categorical covariate as this currently isn't handled by scArches \n",
    "'''./run_scvi_adsaves.py --n-hvg 7500 \\\n",
    "            --remove-from-hvg feature_list/cc_genes.csv \\\n",
    "            --batch donorID_unified \\\n",
    "            --min-batch-size 0 \\\n",
    "            --continuous log1p_n_counts,percent_mito \\\n",
    "            --train-reference \\\n",
    "            ~/Annotations_v3/pooled_healthy.gene_cellbender.good_qc_cluster_mito80.raw.subsetted.manual_doublet_removed.fine_annot.20230110.h5ad \\\n",
    "            ~/Annotations_v3/scvi_output20230116/pooled_healthy.hvg7500_noCC.nodoublets.scvi_output.20230113\n",
    "- Then used this notebook (from Ni) to run scANVI \n",
    "- Adapt predictions to run from KNN graph rather than genes based on HLCA code: https://github.com/LungCellAtlas/HLCA_reproducibility/blob/main/scripts/label_transfer.py\n"
   ]
  },
  {
   "cell_type": "markdown",
   "id": "mechanical-twenty",
   "metadata": {},
   "source": [
    "# Import and settings"
   ]
  },
  {
   "cell_type": "code",
   "execution_count": 1,
   "id": "uniform-melbourne",
   "metadata": {
    "tags": []
   },
   "outputs": [
    {
     "name": "stderr",
     "output_type": "stream",
     "text": [
      "Global seed set to 0\n"
     ]
    }
   ],
   "source": [
    "%load_ext autoreload\n",
    "%autoreload 2\n",
    "\n",
    "import os, re, gc, joblib\n",
    "\n",
    "import numpy as np\n",
    "import numpy_groupies as npg\n",
    "import scipy.sparse as sp\n",
    "import pandas as pd\n",
    "from sklearn.preprocessing import minmax_scale\n",
    "\n",
    "import matplotlib.pyplot as plt\n",
    "from matplotlib import rcParams\n",
    "from matplotlib.colors import ListedColormap, LogNorm\n",
    "\n",
    "import seaborn as sn\n",
    "\n",
    "import anndata\n",
    "\n",
    "import scanpy as sc\n",
    "import sctk as sk\n",
    "\n",
    "import torch\n",
    "import scvi\n",
    "\n",
    "\n",
    "from collections import Counter\n",
    "\n",
    "import numpy as np\n",
    "from sklearn.neighbors import KNeighborsTransformer"
   ]
  },
  {
   "cell_type": "code",
   "execution_count": 2,
   "id": "latest-neighborhood",
   "metadata": {
    "tags": []
   },
   "outputs": [],
   "source": [
    "rcParams[\"pdf.fonttype\"] = 42\n",
    "rcParams[\"ps.fonttype\"] = 42\n",
    "expr_cmap = sk.expression_colormap()\n",
    "np.set_printoptions(linewidth=150)\n",
    "sc.settings.verbosity = 0\n",
    "sk.set_figsize((4, 4))\n",
    "#torch.cuda.set_device(1)\n",
    "\n",
    "#PYTHON = \"/software/team205/miniconda3/envs/rapids-torch/bin/python\"\n",
    "\n",
    "#%cd ~/scratch/20220125_digestive_tract_integration/v2/"
   ]
  },
  {
   "cell_type": "markdown",
   "id": "gothic-circulation",
   "metadata": {},
   "source": [
    "# Define functions"
   ]
  },
  {
   "cell_type": "code",
   "execution_count": 3,
   "id": "88b520b9-0b72-4dee-bfd3-b49a01a87e37",
   "metadata": {},
   "outputs": [],
   "source": [
    "def weighted_knn_trainer(train_adata, train_adata_emb, label_key, n_neighbors=50):\n",
    "    \"\"\"Trains a weighted KNN classifier on ``train_adata``.\n",
    "    Parameters\n",
    "    ----------\n",
    "    train_adata: :class:`~anndata.AnnData`\n",
    "        Annotated dataset to be used to train KNN classifier with ``label_key`` as the target variable.\n",
    "    train_adata_emb: str\n",
    "        Name of the obsm layer to be used for calculation of neighbors. If set to \"X\", anndata.X will be\n",
    "        used\n",
    "    label_key: str\n",
    "        Name of the column to be used as target variable (e.g. cell_type) in ``train_adata`` and ``query_adata``.\n",
    "    n_neighbors: int\n",
    "        Number of nearest neighbors in KNN classifier.\n",
    "    \"\"\"\n",
    "    print(\n",
    "        f\"Weighted KNN with n_neighbors = {n_neighbors} ... \",\n",
    "        end=\"\",\n",
    "    )\n",
    "    k_neighbors_transformer = KNeighborsTransformer(\n",
    "        n_neighbors=n_neighbors,\n",
    "        mode=\"distance\",\n",
    "        algorithm=\"brute\",\n",
    "        metric=\"euclidean\",\n",
    "        n_jobs=-1,\n",
    "    )\n",
    "    if train_adata_emb == \"X\":\n",
    "        train_emb = train_adata.X\n",
    "    elif train_adata_emb in train_adata.obsm.keys():\n",
    "        train_emb = train_adata.obsm[train_adata_emb]\n",
    "    else:\n",
    "        raise ValueError(\n",
    "            \"train_adata_emb should be set to either 'X' or the name of the obsm layer to be used!\"\n",
    "        )\n",
    "    k_neighbors_transformer.fit(train_emb)\n",
    "    return k_neighbors_transformer"
   ]
  },
  {
   "cell_type": "code",
   "execution_count": 4,
   "id": "26dff2cf-301b-4f57-9fa4-ca2233064bcd",
   "metadata": {},
   "outputs": [],
   "source": [
    "def weighted_knn_transfer(\n",
    "    query_adata,\n",
    "    query_adata_emb,\n",
    "    ref_adata_obs,\n",
    "    label_keys,\n",
    "    knn_model,\n",
    "    threshold=1,\n",
    "    pred_unknown=False,\n",
    "    mode=\"package\",\n",
    "):\n",
    "    \"\"\"Annotates ``query_adata`` cells with an input trained weighted KNN classifier.\n",
    "    Parameters\n",
    "    ----------\n",
    "    query_adata: :class:`~anndata.AnnData`\n",
    "        Annotated dataset to be used to queryate KNN classifier. Embedding to be used\n",
    "    query_adata_emb: str\n",
    "        Name of the obsm layer to be used for label transfer. If set to \"X\",\n",
    "        query_adata.X will be used\n",
    "    ref_adata_obs: :class:`pd.DataFrame`\n",
    "        obs of ref Anndata\n",
    "    label_keys: str\n",
    "        Names of the columns to be used as target variables (e.g. cell_type) in ``query_adata``.\n",
    "    knn_model: :class:`~sklearn.neighbors._graph.KNeighborsTransformer`\n",
    "        knn model trained on reference adata with weighted_knn_trainer function\n",
    "    threshold: float\n",
    "        Threshold of uncertainty used to annotating cells as \"Unknown\". cells with\n",
    "        uncertainties higher than this value will be annotated as \"Unknown\".\n",
    "        Set to 1 to keep all predictions. This enables one to later on play\n",
    "        with thresholds.\n",
    "    pred_unknown: bool\n",
    "        ``False`` by default. Whether to annotate any cell as \"unknown\" or not.\n",
    "        If `False`, ``threshold`` will not be used and each cell will be annotated\n",
    "        with the label which is the most common in its ``n_neighbors`` nearest cells.\n",
    "    mode: str\n",
    "        Has to be one of \"paper\" or \"package\". If mode is set to \"package\",\n",
    "        uncertainties will be 1 - P(pred_label), otherwise it will be 1 - P(true_label).\n",
    "    \"\"\"\n",
    "    if not type(knn_model) == KNeighborsTransformer:\n",
    "        raise ValueError(\n",
    "            \"knn_model should be of type sklearn.neighbors._graph.KNeighborsTransformer!\"\n",
    "        )\n",
    "\n",
    "    if query_adata_emb == \"X\":\n",
    "        query_emb = query_adata.X\n",
    "    elif query_adata_emb in query_adata.obsm.keys():\n",
    "        query_emb = query_adata.obsm[query_adata_emb]\n",
    "    else:\n",
    "        raise ValueError(\n",
    "            \"query_adata_emb should be set to either 'X' or the name of the obsm layer to be used!\"\n",
    "        )\n",
    "    top_k_distances, top_k_indices = k_neighbors_transformer.kneighbors(X=query_emb)\n",
    "\n",
    "    stds = np.std(top_k_distances, axis=1)\n",
    "    stds = (2.0 / stds) ** 2\n",
    "    stds = stds.reshape(-1, 1)\n",
    "\n",
    "    top_k_distances_tilda = np.exp(-np.true_divide(top_k_distances, stds))\n",
    "\n",
    "    weights = top_k_distances_tilda / np.sum(\n",
    "        top_k_distances_tilda, axis=1, keepdims=True\n",
    "    )\n",
    "    cols = ref_adata_obs.columns[ref_adata_obs.columns.str.startswith(label_keys)]\n",
    "    uncertainties = pd.DataFrame(columns=cols, index=query_adata.obs_names)\n",
    "    pred_labels = pd.DataFrame(columns=cols, index=query_adata.obs_names)\n",
    "    for i in range(len(weights)):\n",
    "        for j in cols:\n",
    "            y_train_labels = ref_adata_obs[j].values\n",
    "            unique_labels = np.unique(y_train_labels[top_k_indices[i]])\n",
    "            best_label, best_prob = None, 0.0\n",
    "            for candidate_label in unique_labels:\n",
    "                candidate_prob = weights[\n",
    "                    i, y_train_labels[top_k_indices[i]] == candidate_label\n",
    "                ].sum()\n",
    "                if best_prob < candidate_prob:\n",
    "                    best_prob = candidate_prob\n",
    "                    best_label = candidate_label\n",
    "\n",
    "            if pred_unknown:\n",
    "                if best_prob >= threshold:\n",
    "                    pred_label = best_label\n",
    "                else:\n",
    "                    pred_label = \"Unknown\"\n",
    "            else:\n",
    "                pred_label = best_label\n",
    "\n",
    "            if mode == \"package\":\n",
    "                uncertainties.iloc[i][j] = (max(1 - best_prob, 0))\n",
    "\n",
    "            else:\n",
    "                raise Exception(\"Inquery Mode!\")\n",
    "\n",
    "            pred_labels.iloc[i][j] = (pred_label)\n",
    "\n",
    "    print(\"finished!\")\n",
    "\n",
    "    return pred_labels, uncertainties"
   ]
  },
  {
   "cell_type": "markdown",
   "id": "7c1a8312-5d60-4866-a936-0e4ab60ed642",
   "metadata": {},
   "source": [
    "# Load data"
   ]
  },
  {
   "cell_type": "code",
   "execution_count": 5,
   "id": "2adc6abd-cdf8-4910-a77c-2777916f4434",
   "metadata": {},
   "outputs": [],
   "source": [
    "#output from scvi run, used to mask adata so that genes match up with scvi HVG\n",
    "ad_output = sc.read_h5ad('/home/jupyter/Annotations_v3/scvi_output20230126/pooled_healthy.hvg7500_noCC.nodoublets.scvi_output.20230126-ad1.h5ad')"
   ]
  },
  {
   "cell_type": "code",
   "execution_count": 6,
   "id": "7878dcc9-ca64-4da6-909d-f1ed82c32e33",
   "metadata": {},
   "outputs": [],
   "source": [
    "#output from CPU notebook with scvi coordinates and UMAP\n",
    "adata = sc.read_h5ad('/home/jupyter/Annotations_v3/h5ad/post_scvi20230126/pooled_healthy.hvg7500_noCC.scvi_output_nocatcovar.fine_annot.20230126.h5ad')"
   ]
  },
  {
   "cell_type": "code",
   "execution_count": 7,
   "id": "2a17a0bc-f351-49c3-a1e1-2b4a535ecd7c",
   "metadata": {},
   "outputs": [
    {
     "data": {
      "text/plain": [
       "AnnData object with n_obs × n_vars = 1077241 × 36601\n",
       "    obs: 'latent_cell_probability', 'latent_RT_efficiency', 'cecilia22_predH', 'cecilia22_predH_prob', 'cecilia22_predH_uncertain', 'cecilia22_predL', 'cecilia22_predL_prob', 'cecilia22_predL_uncertain', 'elmentaite21_pred', 'elmentaite21_pred_prob', 'elmentaite21_pred_uncertain', 'suo22_pred', 'suo22_pred_prob', 'suo22_pred_uncertain', 'n_counts', 'log1p_n_counts', 'n_genes', 'log1p_n_genes', 'percent_mito', 'n_counts_mito', 'percent_ribo', 'n_counts_ribo', 'percent_hb', 'n_counts_hb', 'percent_top50', 'n_counts_raw', 'log1p_n_counts_raw', 'n_genes_raw', 'log1p_n_genes_raw', 'percent_mito_raw', 'n_counts_mito_raw', 'percent_ribo_raw', 'n_counts_ribo_raw', 'percent_hb_raw', 'n_counts_hb_raw', 'percent_top50_raw', 'n_counts_spliced', 'log1p_n_counts_spliced', 'n_genes_spliced', 'log1p_n_genes_spliced', 'percent_mito_spliced', 'n_counts_mito_spliced', 'percent_ribo_spliced', 'n_counts_ribo_spliced', 'percent_hb_spliced', 'n_counts_hb_spliced', 'percent_top50_spliced', 'n_counts_unspliced', 'log1p_n_counts_unspliced', 'n_genes_unspliced', 'log1p_n_genes_unspliced', 'percent_mito_unspliced', 'n_counts_mito_unspliced', 'percent_ribo_unspliced', 'n_counts_ribo_unspliced', 'percent_hb_unspliced', 'n_counts_hb_unspliced', 'percent_top50_unspliced', 'percent_soup', 'percent_spliced', 'qc_cluster', 'pass_auto_filter_mito20', 'good_qc_cluster_mito20', 'pass_auto_filter_mito50', 'good_qc_cluster_mito50', 'pass_auto_filter_mito80', 'good_qc_cluster_mito80', 'pass_auto_filter', 'good_qc_cluster', 'pass_default', 'sampleID', 'sourceID', 'donorID_original', 'study', 'donorID_corrected', 'donorID_unified', 'donor_category', 'donor_disease', 'organ_original', 'organ_unified', 'organ_broad', 'age_original', 'age_unified', 'age_continuousadult', 'age_continuousdev', 'sex', 'sample_type', 'sample_category', 'sample_retrieval', 'tissue_fraction', 'cell_fraction', 'cell_fraction_unified', 'cell_sorting', 'technology', 'include_150722', 'cluster_scrublet_score', 'bh_pval', 'scrublet_score', 'scrublet_score_z', 'scrublet_done', 'doublet', 'stringent_doublet', 'integration_grouping', '_scvi_batch', '_scvi_labels', 'broad_annot_20220914', 'martin19_pred', 'martin19_pred_prob', 'martin19_pred_uncertain', 'warner20_pred', 'warner20_pred_prob', 'warner20_pred_uncertain', 'broad_annot_20220917', 'donor_organ_lineage', 'fine_annot', 'fine_annot_original'\n",
       "    var: 'gene_ids', 'feature_type', 'mito', 'ribo', 'hb', 'n_counts', 'n_counts_raw', 'n_counts_spliced', 'n_counts_unspliced', 'n_cells', 'n_cells_raw', 'n_cells_spliced', 'n_cells_unspliced', 'cc', 'ig', 'tcr'\n",
       "    uns: '_scvi_manager_uuid', '_scvi_uuid', 'age_unified_colors', 'broad_annot_20220914_colors', 'elmentaite21_pred_colors', 'fine_annot_colors', 'hvg', 'neighbors', 'neighbors_scvi', 'organ_unified_colors', 'study_colors', 'umap'\n",
       "    obsm: 'X_mde', 'X_scvi', 'X_umap', '_scvi_extra_categorical_covs', '_scvi_extra_continuous_covs'\n",
       "    layers: 'counts'\n",
       "    obsp: 'connectivities', 'distances', 'neighbors_scvi_connectivities', 'neighbors_scvi_distances'"
      ]
     },
     "execution_count": 7,
     "metadata": {},
     "output_type": "execute_result"
    }
   ],
   "source": [
    "adata"
   ]
  },
  {
   "cell_type": "code",
   "execution_count": 8,
   "id": "67d141d0-7310-4a55-b33e-4478422d67f2",
   "metadata": {},
   "outputs": [
    {
     "data": {
      "text/plain": [
       "AnnData object with n_obs × n_vars = 1077241 × 7280\n",
       "    obs: 'latent_cell_probability', 'latent_RT_efficiency', 'cecilia22_predH', 'cecilia22_predH_prob', 'cecilia22_predH_uncertain', 'cecilia22_predL', 'cecilia22_predL_prob', 'cecilia22_predL_uncertain', 'elmentaite21_pred', 'elmentaite21_pred_prob', 'elmentaite21_pred_uncertain', 'suo22_pred', 'suo22_pred_prob', 'suo22_pred_uncertain', 'n_counts', 'log1p_n_counts', 'n_genes', 'log1p_n_genes', 'percent_mito', 'n_counts_mito', 'percent_ribo', 'n_counts_ribo', 'percent_hb', 'n_counts_hb', 'percent_top50', 'n_counts_raw', 'log1p_n_counts_raw', 'n_genes_raw', 'log1p_n_genes_raw', 'percent_mito_raw', 'n_counts_mito_raw', 'percent_ribo_raw', 'n_counts_ribo_raw', 'percent_hb_raw', 'n_counts_hb_raw', 'percent_top50_raw', 'n_counts_spliced', 'log1p_n_counts_spliced', 'n_genes_spliced', 'log1p_n_genes_spliced', 'percent_mito_spliced', 'n_counts_mito_spliced', 'percent_ribo_spliced', 'n_counts_ribo_spliced', 'percent_hb_spliced', 'n_counts_hb_spliced', 'percent_top50_spliced', 'n_counts_unspliced', 'log1p_n_counts_unspliced', 'n_genes_unspliced', 'log1p_n_genes_unspliced', 'percent_mito_unspliced', 'n_counts_mito_unspliced', 'percent_ribo_unspliced', 'n_counts_ribo_unspliced', 'percent_hb_unspliced', 'n_counts_hb_unspliced', 'percent_top50_unspliced', 'percent_soup', 'percent_spliced', 'qc_cluster', 'pass_auto_filter_mito20', 'good_qc_cluster_mito20', 'pass_auto_filter_mito50', 'good_qc_cluster_mito50', 'pass_auto_filter_mito80', 'good_qc_cluster_mito80', 'pass_auto_filter', 'good_qc_cluster', 'pass_default', 'sampleID', 'sourceID', 'donorID_original', 'study', 'donorID_corrected', 'donorID_unified', 'donor_category', 'donor_disease', 'organ_original', 'organ_unified', 'organ_broad', 'age_original', 'age_unified', 'age_continuousadult', 'age_continuousdev', 'sex', 'sample_type', 'sample_category', 'sample_retrieval', 'tissue_fraction', 'cell_fraction', 'cell_fraction_unified', 'cell_sorting', 'technology', 'include_150722', 'cluster_scrublet_score', 'bh_pval', 'scrublet_score', 'scrublet_score_z', 'scrublet_done', 'doublet', 'stringent_doublet', 'integration_grouping', '_scvi_batch', '_scvi_labels', 'broad_annot_20220914', 'martin19_pred', 'martin19_pred_prob', 'martin19_pred_uncertain', 'warner20_pred', 'warner20_pred_prob', 'warner20_pred_uncertain', 'broad_annot_20220917', 'donor_organ_lineage', 'fine_annot', 'fine_annot_original'\n",
       "    var: 'gene_ids', 'feature_type', 'mito', 'ribo', 'hb', 'n_counts', 'n_counts_raw', 'n_counts_spliced', 'n_counts_unspliced', 'n_cells', 'n_cells_raw', 'n_cells_spliced', 'n_cells_unspliced', 'cc', 'ig', 'tcr', 'highly_variable', 'highly_variable_rank', 'means', 'variances', 'variances_norm'\n",
       "    uns: '_scvi_manager_uuid', '_scvi_uuid', 'broad_annot_20220914_colors', 'elmentaite21_pred_colors', 'fine_annot_colors', 'hvg', 'neighbors', 'neighbors_scvi', 'organ_unified_colors', 'umap'\n",
       "    obsm: 'X_mde', 'X_scvi', 'X_umap', '_scvi_extra_categorical_covs', '_scvi_extra_continuous_covs'\n",
       "    layers: 'counts'\n",
       "    obsp: 'connectivities', 'distances', 'neighbors_scvi_connectivities', 'neighbors_scvi_distances'"
      ]
     },
     "execution_count": 8,
     "metadata": {},
     "output_type": "execute_result"
    }
   ],
   "source": [
    "ad_output"
   ]
  },
  {
   "cell_type": "code",
   "execution_count": 9,
   "id": "6133d2ca-a2cc-4d8c-a3f6-32b522105c88",
   "metadata": {},
   "outputs": [],
   "source": [
    "adata = adata[:, adata.var_names.isin(ad_output.var_names)].copy()"
   ]
  },
  {
   "cell_type": "code",
   "execution_count": 10,
   "id": "1e707f92-3505-407d-b579-aafadd04ee39",
   "metadata": {},
   "outputs": [
    {
     "data": {
      "text/plain": [
       "AnnData object with n_obs × n_vars = 1077241 × 7280\n",
       "    obs: 'latent_cell_probability', 'latent_RT_efficiency', 'cecilia22_predH', 'cecilia22_predH_prob', 'cecilia22_predH_uncertain', 'cecilia22_predL', 'cecilia22_predL_prob', 'cecilia22_predL_uncertain', 'elmentaite21_pred', 'elmentaite21_pred_prob', 'elmentaite21_pred_uncertain', 'suo22_pred', 'suo22_pred_prob', 'suo22_pred_uncertain', 'n_counts', 'log1p_n_counts', 'n_genes', 'log1p_n_genes', 'percent_mito', 'n_counts_mito', 'percent_ribo', 'n_counts_ribo', 'percent_hb', 'n_counts_hb', 'percent_top50', 'n_counts_raw', 'log1p_n_counts_raw', 'n_genes_raw', 'log1p_n_genes_raw', 'percent_mito_raw', 'n_counts_mito_raw', 'percent_ribo_raw', 'n_counts_ribo_raw', 'percent_hb_raw', 'n_counts_hb_raw', 'percent_top50_raw', 'n_counts_spliced', 'log1p_n_counts_spliced', 'n_genes_spliced', 'log1p_n_genes_spliced', 'percent_mito_spliced', 'n_counts_mito_spliced', 'percent_ribo_spliced', 'n_counts_ribo_spliced', 'percent_hb_spliced', 'n_counts_hb_spliced', 'percent_top50_spliced', 'n_counts_unspliced', 'log1p_n_counts_unspliced', 'n_genes_unspliced', 'log1p_n_genes_unspliced', 'percent_mito_unspliced', 'n_counts_mito_unspliced', 'percent_ribo_unspliced', 'n_counts_ribo_unspliced', 'percent_hb_unspliced', 'n_counts_hb_unspliced', 'percent_top50_unspliced', 'percent_soup', 'percent_spliced', 'qc_cluster', 'pass_auto_filter_mito20', 'good_qc_cluster_mito20', 'pass_auto_filter_mito50', 'good_qc_cluster_mito50', 'pass_auto_filter_mito80', 'good_qc_cluster_mito80', 'pass_auto_filter', 'good_qc_cluster', 'pass_default', 'sampleID', 'sourceID', 'donorID_original', 'study', 'donorID_corrected', 'donorID_unified', 'donor_category', 'donor_disease', 'organ_original', 'organ_unified', 'organ_broad', 'age_original', 'age_unified', 'age_continuousadult', 'age_continuousdev', 'sex', 'sample_type', 'sample_category', 'sample_retrieval', 'tissue_fraction', 'cell_fraction', 'cell_fraction_unified', 'cell_sorting', 'technology', 'include_150722', 'cluster_scrublet_score', 'bh_pval', 'scrublet_score', 'scrublet_score_z', 'scrublet_done', 'doublet', 'stringent_doublet', 'integration_grouping', '_scvi_batch', '_scvi_labels', 'broad_annot_20220914', 'martin19_pred', 'martin19_pred_prob', 'martin19_pred_uncertain', 'warner20_pred', 'warner20_pred_prob', 'warner20_pred_uncertain', 'broad_annot_20220917', 'donor_organ_lineage', 'fine_annot', 'fine_annot_original'\n",
       "    var: 'gene_ids', 'feature_type', 'mito', 'ribo', 'hb', 'n_counts', 'n_counts_raw', 'n_counts_spliced', 'n_counts_unspliced', 'n_cells', 'n_cells_raw', 'n_cells_spliced', 'n_cells_unspliced', 'cc', 'ig', 'tcr'\n",
       "    uns: '_scvi_manager_uuid', '_scvi_uuid', 'age_unified_colors', 'broad_annot_20220914_colors', 'elmentaite21_pred_colors', 'fine_annot_colors', 'hvg', 'neighbors', 'neighbors_scvi', 'organ_unified_colors', 'study_colors', 'umap'\n",
       "    obsm: 'X_mde', 'X_scvi', 'X_umap', '_scvi_extra_categorical_covs', '_scvi_extra_continuous_covs'\n",
       "    layers: 'counts'\n",
       "    obsp: 'connectivities', 'distances', 'neighbors_scvi_connectivities', 'neighbors_scvi_distances'"
      ]
     },
     "execution_count": 10,
     "metadata": {},
     "output_type": "execute_result"
    }
   ],
   "source": [
    "adata"
   ]
  },
  {
   "cell_type": "code",
   "execution_count": 11,
   "id": "7df142ea-6dce-4cbe-b79a-f2bb3b6de8a9",
   "metadata": {
    "tags": []
   },
   "outputs": [
    {
     "data": {
      "image/png": "[encoded data removed]",
      "text/plain": [
       "<Figure size 288x288 with 1 Axes>"
      ]
     },
     "metadata": {},
     "output_type": "display_data"
    }
   ],
   "source": [
    "sc.pl.umap(adata,color='broad_annot_20220917')"
   ]
  },
  {
   "cell_type": "code",
   "execution_count": 13,
   "id": "10cca8bf-d3e7-49d6-a343-27f84660eeea",
   "metadata": {},
   "outputs": [
    {
     "name": "stdout",
     "output_type": "stream",
     "text": [
      "\u001b[34mINFO    \u001b[0m File \u001b[35m/home/jupyter/Annotations_v3/scvi_output20230126/pooled_healthy.hvg7500_noCC.no\u001b[0m\n",
      "         \u001b[35mdoublets.scvi_output.20230126.vae/\u001b[0m\u001b[95mmodel.pt\u001b[0m already downloaded                       \n"
     ]
    }
   ],
   "source": [
    "#load reference that was run without study as a categorical co-variate\n",
    "scvi_ref = scvi.model.SCVI.load(\"/home/jupyter/Annotations_v3/scvi_output20230126/pooled_healthy.hvg7500_noCC.nodoublets.scvi_output.20230126.vae/\",adata)"
   ]
  },
  {
   "cell_type": "markdown",
   "id": "minus-population",
   "metadata": {},
   "source": [
    "# Process"
   ]
  },
  {
   "cell_type": "markdown",
   "id": "recreational-platinum",
   "metadata": {},
   "source": [
    "## Train\n",
    "Trains a SCANVI model based on the scvi model"
   ]
  },
  {
   "cell_type": "code",
   "execution_count": 14,
   "id": "48e96ce2-b67d-4b7b-868a-3a2f13829c1e",
   "metadata": {},
   "outputs": [
    {
     "data": {
      "text/html": [
       "<pre style=\"white-space:pre;overflow-x:auto;line-height:normal;font-family:Menlo,'DejaVu Sans Mono',consolas,'Courier New',monospace\">SCVI Model with the following params: \n",
       "n_hidden: <span style=\"color: #008080; text-decoration-color: #008080; font-weight: bold\">128</span>, n_latent: <span style=\"color: #008080; text-decoration-color: #008080; font-weight: bold\">20</span>, n_layers: <span style=\"color: #008080; text-decoration-color: #008080; font-weight: bold\">2</span>, dropout_rate: <span style=\"color: #008080; text-decoration-color: #008080; font-weight: bold\">0.2</span>, dispersion: gene, \n",
       "gene_likelihood: zinb, latent_distribution: normal\n",
       "Training status: Trained\n",
       "</pre>\n"
      ],
      "text/plain": [
       "SCVI Model with the following params: \n",
       "n_hidden: \u001b[1;36m128\u001b[0m, n_latent: \u001b[1;36m20\u001b[0m, n_layers: \u001b[1;36m2\u001b[0m, dropout_rate: \u001b[1;36m0.2\u001b[0m, dispersion: gene, \n",
       "gene_likelihood: zinb, latent_distribution: normal\n",
       "Training status: Trained\n"
      ]
     },
     "metadata": {},
     "output_type": "display_data"
    },
    {
     "data": {
      "text/plain": []
     },
     "execution_count": 14,
     "metadata": {},
     "output_type": "execute_result"
    }
   ],
   "source": [
    "scvi_ref"
   ]
  },
  {
   "cell_type": "code",
   "execution_count": 15,
   "id": "representative-columbus",
   "metadata": {
    "tags": []
   },
   "outputs": [
    {
     "data": {
      "text/plain": [
       "AnnData object with n_obs × n_vars = 1077241 × 7280\n",
       "    obs: 'latent_cell_probability', 'latent_RT_efficiency', 'cecilia22_predH', 'cecilia22_predH_prob', 'cecilia22_predH_uncertain', 'cecilia22_predL', 'cecilia22_predL_prob', 'cecilia22_predL_uncertain', 'elmentaite21_pred', 'elmentaite21_pred_prob', 'elmentaite21_pred_uncertain', 'suo22_pred', 'suo22_pred_prob', 'suo22_pred_uncertain', 'n_counts', 'log1p_n_counts', 'n_genes', 'log1p_n_genes', 'percent_mito', 'n_counts_mito', 'percent_ribo', 'n_counts_ribo', 'percent_hb', 'n_counts_hb', 'percent_top50', 'n_counts_raw', 'log1p_n_counts_raw', 'n_genes_raw', 'log1p_n_genes_raw', 'percent_mito_raw', 'n_counts_mito_raw', 'percent_ribo_raw', 'n_counts_ribo_raw', 'percent_hb_raw', 'n_counts_hb_raw', 'percent_top50_raw', 'n_counts_spliced', 'log1p_n_counts_spliced', 'n_genes_spliced', 'log1p_n_genes_spliced', 'percent_mito_spliced', 'n_counts_mito_spliced', 'percent_ribo_spliced', 'n_counts_ribo_spliced', 'percent_hb_spliced', 'n_counts_hb_spliced', 'percent_top50_spliced', 'n_counts_unspliced', 'log1p_n_counts_unspliced', 'n_genes_unspliced', 'log1p_n_genes_unspliced', 'percent_mito_unspliced', 'n_counts_mito_unspliced', 'percent_ribo_unspliced', 'n_counts_ribo_unspliced', 'percent_hb_unspliced', 'n_counts_hb_unspliced', 'percent_top50_unspliced', 'percent_soup', 'percent_spliced', 'qc_cluster', 'pass_auto_filter_mito20', 'good_qc_cluster_mito20', 'pass_auto_filter_mito50', 'good_qc_cluster_mito50', 'pass_auto_filter_mito80', 'good_qc_cluster_mito80', 'pass_auto_filter', 'good_qc_cluster', 'pass_default', 'sampleID', 'sourceID', 'donorID_original', 'study', 'donorID_corrected', 'donorID_unified', 'donor_category', 'donor_disease', 'organ_original', 'organ_unified', 'organ_broad', 'age_original', 'age_unified', 'age_continuousadult', 'age_continuousdev', 'sex', 'sample_type', 'sample_category', 'sample_retrieval', 'tissue_fraction', 'cell_fraction', 'cell_fraction_unified', 'cell_sorting', 'technology', 'include_150722', 'cluster_scrublet_score', 'bh_pval', 'scrublet_score', 'scrublet_score_z', 'scrublet_done', 'doublet', 'stringent_doublet', 'integration_grouping', '_scvi_batch', '_scvi_labels', 'broad_annot_20220914', 'martin19_pred', 'martin19_pred_prob', 'martin19_pred_uncertain', 'warner20_pred', 'warner20_pred_prob', 'warner20_pred_uncertain', 'broad_annot_20220917', 'donor_organ_lineage', 'fine_annot', 'fine_annot_original'\n",
       "    var: 'gene_ids', 'feature_type', 'mito', 'ribo', 'hb', 'n_counts', 'n_counts_raw', 'n_counts_spliced', 'n_counts_unspliced', 'n_cells', 'n_cells_raw', 'n_cells_spliced', 'n_cells_unspliced', 'cc', 'ig', 'tcr'\n",
       "    uns: '_scvi_manager_uuid', '_scvi_uuid', 'age_unified_colors', 'broad_annot_20220914_colors', 'elmentaite21_pred_colors', 'fine_annot_colors', 'hvg', 'neighbors', 'neighbors_scvi', 'organ_unified_colors', 'study_colors', 'umap', 'broad_annot_20220917_colors'\n",
       "    obsm: 'X_mde', 'X_scvi', 'X_umap', '_scvi_extra_categorical_covs', '_scvi_extra_continuous_covs'\n",
       "    layers: 'counts'\n",
       "    obsp: 'connectivities', 'distances', 'neighbors_scvi_connectivities', 'neighbors_scvi_distances'"
      ]
     },
     "execution_count": 15,
     "metadata": {},
     "output_type": "execute_result"
    }
   ],
   "source": [
    "scvi_ref.adata"
   ]
  },
  {
   "cell_type": "code",
   "execution_count": 16,
   "id": "electoral-james",
   "metadata": {
    "tags": []
   },
   "outputs": [
    {
     "data": {
      "text/plain": [
       "Index(['latent_cell_probability', 'latent_RT_efficiency', 'cecilia22_predH',\n",
       "       'cecilia22_predH_prob', 'cecilia22_predH_uncertain', 'cecilia22_predL',\n",
       "       'cecilia22_predL_prob', 'cecilia22_predL_uncertain',\n",
       "       'elmentaite21_pred', 'elmentaite21_pred_prob',\n",
       "       ...\n",
       "       'martin19_pred', 'martin19_pred_prob', 'martin19_pred_uncertain',\n",
       "       'warner20_pred', 'warner20_pred_prob', 'warner20_pred_uncertain',\n",
       "       'broad_annot_20220917', 'donor_organ_lineage', 'fine_annot',\n",
       "       'fine_annot_original'],\n",
       "      dtype='object', length=116)"
      ]
     },
     "execution_count": 16,
     "metadata": {},
     "output_type": "execute_result"
    }
   ],
   "source": [
    "scvi_ref.adata.obs.columns"
   ]
  },
  {
   "cell_type": "code",
   "execution_count": 17,
   "id": "periodic-dealing",
   "metadata": {
    "tags": []
   },
   "outputs": [],
   "source": [
    "scanvi_ref = scvi.model.SCANVI.from_scvi_model(\n",
    "    scvi_ref, unlabeled_category=\"Unknown\", labels_key=\"broad_annot_20220917\"\n",
    ")"
   ]
  },
  {
   "cell_type": "code",
   "execution_count": 18,
   "id": "aging-above",
   "metadata": {
    "tags": []
   },
   "outputs": [
    {
     "name": "stdout",
     "output_type": "stream",
     "text": [
      "\u001b[34mINFO    \u001b[0m Training for \u001b[1;36m20\u001b[0m epochs.                                                             \n"
     ]
    },
    {
     "name": "stderr",
     "output_type": "stream",
     "text": [
      "/opt/conda/envs/scvi/lib/python3.9/site-packages/torchmetrics/utilities/prints.py:36: UserWarning: Torchmetrics v0.9 introduced a new argument class property called `full_state_update` that has\n",
      "                not been set for this class (ElboMetric). The property determines if `update` by\n",
      "                default needs access to the full metric state. If this is not the case, significant speedups can be\n",
      "                achieved and we recommend setting this to `False`.\n",
      "                We provide an checking function\n",
      "                `from torchmetrics.utilities import check_forward_no_full_state`\n",
      "                that can be used to check if the `full_state_update=True` (old and potential slower behaviour,\n",
      "                default for now) or if `full_state_update=False` can be used safely.\n",
      "                \n",
      "  warnings.warn(*args, **kwargs)\n",
      "GPU available: True, used: True\n",
      "TPU available: False, using: 0 TPU cores\n",
      "IPU available: False, using: 0 IPUs\n",
      "LOCAL_RANK: 0 - CUDA_VISIBLE_DEVICES: [0]\n"
     ]
    },
    {
     "name": "stdout",
     "output_type": "stream",
     "text": [
      "Epoch 1/20:   0%|          | 0/20 [00:00<?, ?it/s]"
     ]
    },
    {
     "name": "stderr",
     "output_type": "stream",
     "text": [
      "/opt/conda/envs/scvi/lib/python3.9/site-packages/scvi/distributions/_negative_binomial.py:61: UserWarning: Specified kernel cache directory could not be created! This disables kernel caching. Specified directory is /home/jupyter/.cache/torch/kernels. This warning will appear only once per process. (Triggered internally at  ../aten/src/ATen/native/cuda/jit_utils.cpp:860.)\n",
      "  + torch.lgamma(x + theta)\n"
     ]
    },
    {
     "name": "stdout",
     "output_type": "stream",
     "text": [
      "Epoch 20/20: 100%|██████████| 20/20 [56:27<00:00, 169.38s/it, loss=889, v_num=1]\n"
     ]
    }
   ],
   "source": [
    "scanvi_ref.train(max_epochs=20, n_samples_per_label=100)"
   ]
  },
  {
   "cell_type": "code",
   "execution_count": 19,
   "id": "fc51a138-b38b-4680-b664-39b2f8764dc7",
   "metadata": {},
   "outputs": [
    {
     "data": {
      "text/html": [
       "<pre style=\"white-space:pre;overflow-x:auto;line-height:normal;font-family:Menlo,'DejaVu Sans Mono',consolas,'Courier New',monospace\">ScanVI Model with the following params: \n",
       "unlabeled_category: Unknown, n_hidden: <span style=\"color: #008080; text-decoration-color: #008080; font-weight: bold\">128</span>, n_latent: <span style=\"color: #008080; text-decoration-color: #008080; font-weight: bold\">20</span>, n_layers: <span style=\"color: #008080; text-decoration-color: #008080; font-weight: bold\">2</span>, dropout_rate: <span style=\"color: #008080; text-decoration-color: #008080; font-weight: bold\">0.2</span>, \n",
       "dispersion: gene, gene_likelihood: zinb\n",
       "Training status: Trained\n",
       "</pre>\n"
      ],
      "text/plain": [
       "ScanVI Model with the following params: \n",
       "unlabeled_category: Unknown, n_hidden: \u001b[1;36m128\u001b[0m, n_latent: \u001b[1;36m20\u001b[0m, n_layers: \u001b[1;36m2\u001b[0m, dropout_rate: \u001b[1;36m0.2\u001b[0m, \n",
       "dispersion: gene, gene_likelihood: zinb\n",
       "Training status: Trained\n"
      ]
     },
     "metadata": {},
     "output_type": "display_data"
    },
    {
     "data": {
      "text/plain": []
     },
     "execution_count": 19,
     "metadata": {},
     "output_type": "execute_result"
    }
   ],
   "source": [
    "scanvi_ref"
   ]
  },
  {
   "cell_type": "code",
   "execution_count": 20,
   "id": "27e0ad85-dbad-4413-8578-0511fc93f223",
   "metadata": {},
   "outputs": [],
   "source": [
    "scanvi_ref.save(\n",
    "    \"/home/jupyter/Annotations_v3/models/scanvi_output20230126/pooled_healthy.broad_annot_20220817.scanvi_model.pt\"\n",
    ")"
   ]
  },
  {
   "cell_type": "code",
   "execution_count": 21,
   "id": "preliminary-raising",
   "metadata": {
    "tags": []
   },
   "outputs": [
    {
     "data": {
      "text/plain": [
       "AnnData object with n_obs × n_vars = 1077241 × 7280\n",
       "    obs: 'latent_cell_probability', 'latent_RT_efficiency', 'cecilia22_predH', 'cecilia22_predH_prob', 'cecilia22_predH_uncertain', 'cecilia22_predL', 'cecilia22_predL_prob', 'cecilia22_predL_uncertain', 'elmentaite21_pred', 'elmentaite21_pred_prob', 'elmentaite21_pred_uncertain', 'suo22_pred', 'suo22_pred_prob', 'suo22_pred_uncertain', 'n_counts', 'log1p_n_counts', 'n_genes', 'log1p_n_genes', 'percent_mito', 'n_counts_mito', 'percent_ribo', 'n_counts_ribo', 'percent_hb', 'n_counts_hb', 'percent_top50', 'n_counts_raw', 'log1p_n_counts_raw', 'n_genes_raw', 'log1p_n_genes_raw', 'percent_mito_raw', 'n_counts_mito_raw', 'percent_ribo_raw', 'n_counts_ribo_raw', 'percent_hb_raw', 'n_counts_hb_raw', 'percent_top50_raw', 'n_counts_spliced', 'log1p_n_counts_spliced', 'n_genes_spliced', 'log1p_n_genes_spliced', 'percent_mito_spliced', 'n_counts_mito_spliced', 'percent_ribo_spliced', 'n_counts_ribo_spliced', 'percent_hb_spliced', 'n_counts_hb_spliced', 'percent_top50_spliced', 'n_counts_unspliced', 'log1p_n_counts_unspliced', 'n_genes_unspliced', 'log1p_n_genes_unspliced', 'percent_mito_unspliced', 'n_counts_mito_unspliced', 'percent_ribo_unspliced', 'n_counts_ribo_unspliced', 'percent_hb_unspliced', 'n_counts_hb_unspliced', 'percent_top50_unspliced', 'percent_soup', 'percent_spliced', 'qc_cluster', 'pass_auto_filter_mito20', 'good_qc_cluster_mito20', 'pass_auto_filter_mito50', 'good_qc_cluster_mito50', 'pass_auto_filter_mito80', 'good_qc_cluster_mito80', 'pass_auto_filter', 'good_qc_cluster', 'pass_default', 'sampleID', 'sourceID', 'donorID_original', 'study', 'donorID_corrected', 'donorID_unified', 'donor_category', 'donor_disease', 'organ_original', 'organ_unified', 'organ_broad', 'age_original', 'age_unified', 'age_continuousadult', 'age_continuousdev', 'sex', 'sample_type', 'sample_category', 'sample_retrieval', 'tissue_fraction', 'cell_fraction', 'cell_fraction_unified', 'cell_sorting', 'technology', 'include_150722', 'cluster_scrublet_score', 'bh_pval', 'scrublet_score', 'scrublet_score_z', 'scrublet_done', 'doublet', 'stringent_doublet', 'integration_grouping', '_scvi_batch', '_scvi_labels', 'broad_annot_20220914', 'martin19_pred', 'martin19_pred_prob', 'martin19_pred_uncertain', 'warner20_pred', 'warner20_pred_prob', 'warner20_pred_uncertain', 'broad_annot_20220917', 'donor_organ_lineage', 'fine_annot', 'fine_annot_original'\n",
       "    var: 'gene_ids', 'feature_type', 'mito', 'ribo', 'hb', 'n_counts', 'n_counts_raw', 'n_counts_spliced', 'n_counts_unspliced', 'n_cells', 'n_cells_raw', 'n_cells_spliced', 'n_cells_unspliced', 'cc', 'ig', 'tcr'\n",
       "    uns: '_scvi_manager_uuid', '_scvi_uuid', 'age_unified_colors', 'broad_annot_20220914_colors', 'elmentaite21_pred_colors', 'fine_annot_colors', 'hvg', 'neighbors', 'neighbors_scvi', 'organ_unified_colors', 'study_colors', 'umap', 'broad_annot_20220917_colors'\n",
       "    obsm: 'X_mde', 'X_scvi', 'X_umap', '_scvi_extra_categorical_covs', '_scvi_extra_continuous_covs'\n",
       "    layers: 'counts'\n",
       "    obsp: 'connectivities', 'distances', 'neighbors_scvi_connectivities', 'neighbors_scvi_distances'"
      ]
     },
     "execution_count": 21,
     "metadata": {},
     "output_type": "execute_result"
    }
   ],
   "source": [
    "scanvi_ref.adata"
   ]
  },
  {
   "cell_type": "code",
   "execution_count": 22,
   "id": "material-delivery",
   "metadata": {
    "tags": []
   },
   "outputs": [],
   "source": [
    "scanvi_ref.adata.obsm[\"X_scANVI\"] = scanvi_ref.get_latent_representation()"
   ]
  },
  {
   "cell_type": "code",
   "execution_count": 38,
   "id": "726bf002-c01b-4117-a07e-39439b0ab7dc",
   "metadata": {},
   "outputs": [
    {
     "data": {
      "text/plain": [
       "AnnData object with n_obs × n_vars = 1077241 × 7280\n",
       "    obs: 'latent_cell_probability', 'latent_RT_efficiency', 'cecilia22_predH', 'cecilia22_predH_prob', 'cecilia22_predH_uncertain', 'cecilia22_predL', 'cecilia22_predL_prob', 'cecilia22_predL_uncertain', 'elmentaite21_pred', 'elmentaite21_pred_prob', 'elmentaite21_pred_uncertain', 'suo22_pred', 'suo22_pred_prob', 'suo22_pred_uncertain', 'n_counts', 'log1p_n_counts', 'n_genes', 'log1p_n_genes', 'percent_mito', 'n_counts_mito', 'percent_ribo', 'n_counts_ribo', 'percent_hb', 'n_counts_hb', 'percent_top50', 'n_counts_raw', 'log1p_n_counts_raw', 'n_genes_raw', 'log1p_n_genes_raw', 'percent_mito_raw', 'n_counts_mito_raw', 'percent_ribo_raw', 'n_counts_ribo_raw', 'percent_hb_raw', 'n_counts_hb_raw', 'percent_top50_raw', 'n_counts_spliced', 'log1p_n_counts_spliced', 'n_genes_spliced', 'log1p_n_genes_spliced', 'percent_mito_spliced', 'n_counts_mito_spliced', 'percent_ribo_spliced', 'n_counts_ribo_spliced', 'percent_hb_spliced', 'n_counts_hb_spliced', 'percent_top50_spliced', 'n_counts_unspliced', 'log1p_n_counts_unspliced', 'n_genes_unspliced', 'log1p_n_genes_unspliced', 'percent_mito_unspliced', 'n_counts_mito_unspliced', 'percent_ribo_unspliced', 'n_counts_ribo_unspliced', 'percent_hb_unspliced', 'n_counts_hb_unspliced', 'percent_top50_unspliced', 'percent_soup', 'percent_spliced', 'qc_cluster', 'pass_auto_filter_mito20', 'good_qc_cluster_mito20', 'pass_auto_filter_mito50', 'good_qc_cluster_mito50', 'pass_auto_filter_mito80', 'good_qc_cluster_mito80', 'pass_auto_filter', 'good_qc_cluster', 'pass_default', 'sampleID', 'sourceID', 'donorID_original', 'study', 'donorID_corrected', 'donorID_unified', 'donor_category', 'donor_disease', 'organ_original', 'organ_unified', 'organ_broad', 'age_original', 'age_unified', 'age_continuousadult', 'age_continuousdev', 'sex', 'sample_type', 'sample_category', 'sample_retrieval', 'tissue_fraction', 'cell_fraction', 'cell_fraction_unified', 'cell_sorting', 'technology', 'include_150722', 'cluster_scrublet_score', 'bh_pval', 'scrublet_score', 'scrublet_score_z', 'scrublet_done', 'doublet', 'stringent_doublet', 'integration_grouping', '_scvi_batch', '_scvi_labels', 'broad_annot_20220914', 'martin19_pred', 'martin19_pred_prob', 'martin19_pred_uncertain', 'warner20_pred', 'warner20_pred_prob', 'warner20_pred_uncertain', 'broad_annot_20220917', 'donor_organ_lineage', 'fine_annot', 'fine_annot_original'\n",
       "    var: 'gene_ids', 'feature_type', 'mito', 'ribo', 'hb', 'n_counts', 'n_counts_raw', 'n_counts_spliced', 'n_counts_unspliced', 'n_cells', 'n_cells_raw', 'n_cells_spliced', 'n_cells_unspliced', 'cc', 'ig', 'tcr'\n",
       "    uns: '_scvi_manager_uuid', '_scvi_uuid', 'hvg', 'neighbors', 'neighbors_scvi', 'umap'\n",
       "    obsm: 'X_mde', 'X_scvi', 'X_umap', '_scvi_extra_categorical_covs', '_scvi_extra_continuous_covs', 'X_scANVI'\n",
       "    layers: 'counts'\n",
       "    obsp: 'connectivities', 'distances', 'neighbors_scvi_connectivities', 'neighbors_scvi_distances'"
      ]
     },
     "execution_count": 38,
     "metadata": {},
     "output_type": "execute_result"
    }
   ],
   "source": [
    "scanvi_ref.adata"
   ]
  },
  {
   "cell_type": "raw",
   "id": "6fd7e84c-1977-4213-9711-90275a808f34",
   "metadata": {},
   "source": [
    "sc.pp.neighbors(adata, use_rep=\"X_scANVI\")\n",
    "sc.tl.umap(adata)\n",
    "sc.pl.umap(adata, color=['fine_annot'])"
   ]
  },
  {
   "cell_type": "raw",
   "id": "d4cce07e-afdb-448d-bde9-46bb322a7f54",
   "metadata": {},
   "source": [
    "sc.pl.umap(scanvi_ref.adata,color='broad_annot_20220917')"
   ]
  },
  {
   "cell_type": "raw",
   "id": "b69feb5d-3b3f-48e1-bc56-886cec99bab8",
   "metadata": {},
   "source": [
    "adata"
   ]
  },
  {
   "cell_type": "raw",
   "id": "377ebda3-e73a-49c9-994e-1d9ffdc436ab",
   "metadata": {},
   "source": [
    "adata.write_h5ad('/home/jupyter/Annotations_v3/h5ad/scanvi_20230126/pooled_healthy.scanvi_broad_annot.20230126.h5ad',compression=\"gzip\")"
   ]
  },
  {
   "cell_type": "code",
   "execution_count": null,
   "id": "2c0de4fe-e360-4ef9-a1ce-051390d34314",
   "metadata": {},
   "outputs": [],
   "source": [
    "pd.DataFrame(\n",
    "    scanvi_ref.adata.obsm[\"X_scANVI\"],\n",
    "    index=scanvi_ref.adata.obs_names,\n",
    "    columns=[f\"LV{i+1}\" for i in range(scanvi_ref.adata.obsm[\"X_scANVI\"].shape[1])],\n",
    ").to_csv(\n",
    "    \"/home/jupyter/Annotations_v3/models/scanvi_20230126/pooled_healthy.scanvi_broad_annot.X_scANVI.20230126.csv.gz\"\n",
    ")"
   ]
  },
  {
   "cell_type": "code",
   "execution_count": null,
   "id": "composite-gates",
   "metadata": {
    "tags": []
   },
   "outputs": [],
   "source": [
    "for ct in adata.obs.broad_annot_20220917.unique():\n",
    "    sk.clear_colors(scanvi_ref.adata)\n",
    "    sk.plot_embedding(\n",
    "        scanvi_ref.adata[scanvi_ref.adata.obs.broad_annot_20220917 == ct],\n",
    "        basis=\"umap\",\n",
    "        groupby=\"fine_annot\",\n",
    "        annot=\"full\",\n",
    "        title=ct,\n",
    "        figsize=(12, 12),\n",
    "    );"
   ]
  },
  {
   "cell_type": "markdown",
   "id": "physical-lover",
   "metadata": {},
   "source": [
    "## Query\n",
    "Use SCANVI "
   ]
  },
  {
   "cell_type": "code",
   "execution_count": 5,
   "id": "c4ebb30b-adfa-45d9-9844-6947dfd6619e",
   "metadata": {},
   "outputs": [],
   "source": [
    "adata = sc.read_h5ad('/home/jupyter/Annotations_v3/h5ad/post_scvi20230126/pooled_healthy.hvg7500_noCC.scvi_output_nocatcovar.fine_annot.20230126.h5ad')"
   ]
  },
  {
   "cell_type": "code",
   "execution_count": 6,
   "id": "65817178-6230-4e98-9f8b-f31b2e2c20ae",
   "metadata": {},
   "outputs": [],
   "source": [
    "ad_output = sc.read_h5ad('/home/jupyter/Annotations_v3/scvi_output20230126/pooled_healthy.hvg7500_noCC.nodoublets.scvi_output.20230126-ad1.h5ad')"
   ]
  },
  {
   "cell_type": "code",
   "execution_count": 7,
   "id": "a7e8c087-b81d-40b1-a14c-63fb938238ea",
   "metadata": {},
   "outputs": [],
   "source": [
    "adata = adata[:, adata.var_names.isin(ad_output.var_names)].copy()"
   ]
  },
  {
   "cell_type": "code",
   "execution_count": 9,
   "id": "f283e2d3-9a48-4129-bbec-2b21be22dac9",
   "metadata": {},
   "outputs": [],
   "source": [
    "adata.obsm['X_scANVI'] = pd.read_csv(\"/home/jupyter/Annotations_v3/models/scanvi_20230126/pooled_healthy.scanvi_broad_annot.X_scANVI.20230126.csv.gz\", compression='gzip',index_col=0)"
   ]
  },
  {
   "cell_type": "code",
   "execution_count": 10,
   "id": "510f251b-0f21-4de1-86ba-a2eb571b11de",
   "metadata": {},
   "outputs": [
    {
     "data": {
      "text/html": [
       "<div>\n",
       "<style scoped>\n",
       "    .dataframe tbody tr th:only-of-type {\n",
       "        vertical-align: middle;\n",
       "    }\n",
       "\n",
       "    .dataframe tbody tr th {\n",
       "        vertical-align: top;\n",
       "    }\n",
       "\n",
       "    .dataframe thead th {\n",
       "        text-align: right;\n",
       "    }\n",
       "</style>\n",
       "<table border=\"1\" class=\"dataframe\">\n",
       "  <thead>\n",
       "    <tr style=\"text-align: right;\">\n",
       "      <th></th>\n",
       "      <th>LV1</th>\n",
       "      <th>LV2</th>\n",
       "      <th>LV3</th>\n",
       "      <th>LV4</th>\n",
       "      <th>LV5</th>\n",
       "      <th>LV6</th>\n",
       "      <th>LV7</th>\n",
       "      <th>LV8</th>\n",
       "      <th>LV9</th>\n",
       "      <th>LV10</th>\n",
       "      <th>LV11</th>\n",
       "      <th>LV12</th>\n",
       "      <th>LV13</th>\n",
       "      <th>LV14</th>\n",
       "      <th>LV15</th>\n",
       "      <th>LV16</th>\n",
       "      <th>LV17</th>\n",
       "      <th>LV18</th>\n",
       "      <th>LV19</th>\n",
       "      <th>LV20</th>\n",
       "    </tr>\n",
       "    <tr>\n",
       "      <th>index</th>\n",
       "      <th></th>\n",
       "      <th></th>\n",
       "      <th></th>\n",
       "      <th></th>\n",
       "      <th></th>\n",
       "      <th></th>\n",
       "      <th></th>\n",
       "      <th></th>\n",
       "      <th></th>\n",
       "      <th></th>\n",
       "      <th></th>\n",
       "      <th></th>\n",
       "      <th></th>\n",
       "      <th></th>\n",
       "      <th></th>\n",
       "      <th></th>\n",
       "      <th></th>\n",
       "      <th></th>\n",
       "      <th></th>\n",
       "      <th></th>\n",
       "    </tr>\n",
       "  </thead>\n",
       "  <tbody>\n",
       "    <tr>\n",
       "      <th>AAACGAATCTCTTGCG-GSM4600896</th>\n",
       "      <td>-0.262764</td>\n",
       "      <td>1.340677</td>\n",
       "      <td>-2.160902</td>\n",
       "      <td>0.069910</td>\n",
       "      <td>0.357158</td>\n",
       "      <td>-0.287108</td>\n",
       "      <td>-0.965917</td>\n",
       "      <td>0.034153</td>\n",
       "      <td>0.520506</td>\n",
       "      <td>-1.790125</td>\n",
       "      <td>-2.397438</td>\n",
       "      <td>0.138315</td>\n",
       "      <td>1.872088</td>\n",
       "      <td>0.020697</td>\n",
       "      <td>1.892465</td>\n",
       "      <td>-1.511135</td>\n",
       "      <td>0.019417</td>\n",
       "      <td>0.131700</td>\n",
       "      <td>-0.495227</td>\n",
       "      <td>-0.556520</td>\n",
       "    </tr>\n",
       "    <tr>\n",
       "      <th>AAACGCTAGCGACCCT-GSM4600896</th>\n",
       "      <td>-0.072241</td>\n",
       "      <td>-0.613696</td>\n",
       "      <td>-1.073295</td>\n",
       "      <td>0.022658</td>\n",
       "      <td>-0.044960</td>\n",
       "      <td>-2.545102</td>\n",
       "      <td>2.844645</td>\n",
       "      <td>0.187638</td>\n",
       "      <td>1.874540</td>\n",
       "      <td>0.084587</td>\n",
       "      <td>0.673198</td>\n",
       "      <td>0.001966</td>\n",
       "      <td>1.555422</td>\n",
       "      <td>0.085497</td>\n",
       "      <td>-0.334869</td>\n",
       "      <td>-1.109183</td>\n",
       "      <td>-0.238280</td>\n",
       "      <td>0.009870</td>\n",
       "      <td>1.183070</td>\n",
       "      <td>-0.461780</td>\n",
       "    </tr>\n",
       "    <tr>\n",
       "      <th>AAAGAACAGCGACCCT-GSM4600896</th>\n",
       "      <td>-0.186965</td>\n",
       "      <td>0.732935</td>\n",
       "      <td>-3.169084</td>\n",
       "      <td>0.021434</td>\n",
       "      <td>-0.143460</td>\n",
       "      <td>1.466100</td>\n",
       "      <td>-0.358301</td>\n",
       "      <td>0.016458</td>\n",
       "      <td>-0.353812</td>\n",
       "      <td>-1.221823</td>\n",
       "      <td>-2.798178</td>\n",
       "      <td>0.058806</td>\n",
       "      <td>2.864401</td>\n",
       "      <td>0.021629</td>\n",
       "      <td>-0.075594</td>\n",
       "      <td>-1.860333</td>\n",
       "      <td>-0.053360</td>\n",
       "      <td>0.139438</td>\n",
       "      <td>0.201179</td>\n",
       "      <td>0.432220</td>\n",
       "    </tr>\n",
       "    <tr>\n",
       "      <th>AAAGGGCAGTCACACT-GSM4600896</th>\n",
       "      <td>-0.214525</td>\n",
       "      <td>0.690759</td>\n",
       "      <td>-1.187455</td>\n",
       "      <td>0.021666</td>\n",
       "      <td>-0.333761</td>\n",
       "      <td>-2.460742</td>\n",
       "      <td>2.626953</td>\n",
       "      <td>0.113892</td>\n",
       "      <td>1.936636</td>\n",
       "      <td>0.166195</td>\n",
       "      <td>0.925668</td>\n",
       "      <td>0.042487</td>\n",
       "      <td>1.396114</td>\n",
       "      <td>0.062435</td>\n",
       "      <td>-0.161051</td>\n",
       "      <td>-1.128958</td>\n",
       "      <td>-0.226845</td>\n",
       "      <td>0.067524</td>\n",
       "      <td>1.113563</td>\n",
       "      <td>-0.178845</td>\n",
       "    </tr>\n",
       "    <tr>\n",
       "      <th>AAAGGGCCAACACAGG-GSM4600896</th>\n",
       "      <td>-0.132387</td>\n",
       "      <td>0.666024</td>\n",
       "      <td>-2.914824</td>\n",
       "      <td>0.050465</td>\n",
       "      <td>-0.749595</td>\n",
       "      <td>-1.104950</td>\n",
       "      <td>0.792894</td>\n",
       "      <td>0.157958</td>\n",
       "      <td>-1.469138</td>\n",
       "      <td>0.220614</td>\n",
       "      <td>-0.774842</td>\n",
       "      <td>0.057308</td>\n",
       "      <td>3.286594</td>\n",
       "      <td>0.115430</td>\n",
       "      <td>0.791877</td>\n",
       "      <td>1.670156</td>\n",
       "      <td>-0.374083</td>\n",
       "      <td>0.084604</td>\n",
       "      <td>3.532067</td>\n",
       "      <td>-0.859793</td>\n",
       "    </tr>\n",
       "    <tr>\n",
       "      <th>...</th>\n",
       "      <td>...</td>\n",
       "      <td>...</td>\n",
       "      <td>...</td>\n",
       "      <td>...</td>\n",
       "      <td>...</td>\n",
       "      <td>...</td>\n",
       "      <td>...</td>\n",
       "      <td>...</td>\n",
       "      <td>...</td>\n",
       "      <td>...</td>\n",
       "      <td>...</td>\n",
       "      <td>...</td>\n",
       "      <td>...</td>\n",
       "      <td>...</td>\n",
       "      <td>...</td>\n",
       "      <td>...</td>\n",
       "      <td>...</td>\n",
       "      <td>...</td>\n",
       "      <td>...</td>\n",
       "      <td>...</td>\n",
       "    </tr>\n",
       "    <tr>\n",
       "      <th>TTTGTCAAGAACAACT-GSM5525958</th>\n",
       "      <td>-0.082769</td>\n",
       "      <td>0.065547</td>\n",
       "      <td>0.018543</td>\n",
       "      <td>0.025168</td>\n",
       "      <td>0.171616</td>\n",
       "      <td>0.287131</td>\n",
       "      <td>0.165565</td>\n",
       "      <td>0.105013</td>\n",
       "      <td>2.332270</td>\n",
       "      <td>0.280057</td>\n",
       "      <td>-1.596661</td>\n",
       "      <td>0.070707</td>\n",
       "      <td>1.596012</td>\n",
       "      <td>-0.017695</td>\n",
       "      <td>-0.493651</td>\n",
       "      <td>1.424329</td>\n",
       "      <td>-0.008835</td>\n",
       "      <td>0.028931</td>\n",
       "      <td>0.241978</td>\n",
       "      <td>0.316227</td>\n",
       "    </tr>\n",
       "    <tr>\n",
       "      <th>TTTGTCAAGATAGGAG-GSM5525958</th>\n",
       "      <td>-0.089325</td>\n",
       "      <td>0.314489</td>\n",
       "      <td>0.136367</td>\n",
       "      <td>-0.003346</td>\n",
       "      <td>-0.200382</td>\n",
       "      <td>0.061592</td>\n",
       "      <td>0.648185</td>\n",
       "      <td>0.115966</td>\n",
       "      <td>-1.006780</td>\n",
       "      <td>0.291699</td>\n",
       "      <td>2.153949</td>\n",
       "      <td>-0.020209</td>\n",
       "      <td>1.295467</td>\n",
       "      <td>-0.091060</td>\n",
       "      <td>-0.919412</td>\n",
       "      <td>0.742865</td>\n",
       "      <td>0.037235</td>\n",
       "      <td>0.024060</td>\n",
       "      <td>0.007070</td>\n",
       "      <td>-0.251480</td>\n",
       "    </tr>\n",
       "    <tr>\n",
       "      <th>TTTGTCAAGTAGGCCA-GSM5525958</th>\n",
       "      <td>-0.132377</td>\n",
       "      <td>0.496524</td>\n",
       "      <td>0.069856</td>\n",
       "      <td>-0.000387</td>\n",
       "      <td>-0.512903</td>\n",
       "      <td>-0.079071</td>\n",
       "      <td>0.597407</td>\n",
       "      <td>0.104690</td>\n",
       "      <td>-1.041012</td>\n",
       "      <td>0.328690</td>\n",
       "      <td>1.783911</td>\n",
       "      <td>-0.035832</td>\n",
       "      <td>1.460910</td>\n",
       "      <td>-0.092021</td>\n",
       "      <td>-0.789184</td>\n",
       "      <td>1.106185</td>\n",
       "      <td>-0.010677</td>\n",
       "      <td>0.053218</td>\n",
       "      <td>-0.306778</td>\n",
       "      <td>-0.069698</td>\n",
       "    </tr>\n",
       "    <tr>\n",
       "      <th>TTTGTCAGTTGGACCC-GSM5525958</th>\n",
       "      <td>-0.112043</td>\n",
       "      <td>-0.085015</td>\n",
       "      <td>0.491207</td>\n",
       "      <td>0.025162</td>\n",
       "      <td>0.292144</td>\n",
       "      <td>-0.161325</td>\n",
       "      <td>0.033565</td>\n",
       "      <td>0.130139</td>\n",
       "      <td>1.861353</td>\n",
       "      <td>0.902727</td>\n",
       "      <td>-1.244643</td>\n",
       "      <td>0.093687</td>\n",
       "      <td>1.495138</td>\n",
       "      <td>-0.058275</td>\n",
       "      <td>-0.438696</td>\n",
       "      <td>1.131863</td>\n",
       "      <td>0.116039</td>\n",
       "      <td>0.004840</td>\n",
       "      <td>-0.907961</td>\n",
       "      <td>0.762826</td>\n",
       "    </tr>\n",
       "    <tr>\n",
       "      <th>TTTGTCATCACATACG-GSM5525958</th>\n",
       "      <td>-0.169020</td>\n",
       "      <td>0.856356</td>\n",
       "      <td>0.031581</td>\n",
       "      <td>-0.002371</td>\n",
       "      <td>-0.365949</td>\n",
       "      <td>0.243730</td>\n",
       "      <td>0.148172</td>\n",
       "      <td>0.093796</td>\n",
       "      <td>-0.981825</td>\n",
       "      <td>0.284793</td>\n",
       "      <td>2.304328</td>\n",
       "      <td>0.001380</td>\n",
       "      <td>1.384044</td>\n",
       "      <td>-0.066629</td>\n",
       "      <td>-0.859466</td>\n",
       "      <td>0.874790</td>\n",
       "      <td>0.008589</td>\n",
       "      <td>0.066813</td>\n",
       "      <td>0.184234</td>\n",
       "      <td>-0.099124</td>\n",
       "    </tr>\n",
       "  </tbody>\n",
       "</table>\n",
       "<p>1077241 rows × 20 columns</p>\n",
       "</div>"
      ],
      "text/plain": [
       "                                  LV1       LV2       LV3       LV4       LV5  \\\n",
       "index                                                                           \n",
       "AAACGAATCTCTTGCG-GSM4600896 -0.262764  1.340677 -2.160902  0.069910  0.357158   \n",
       "AAACGCTAGCGACCCT-GSM4600896 -0.072241 -0.613696 -1.073295  0.022658 -0.044960   \n",
       "AAAGAACAGCGACCCT-GSM4600896 -0.186965  0.732935 -3.169084  0.021434 -0.143460   \n",
       "AAAGGGCAGTCACACT-GSM4600896 -0.214525  0.690759 -1.187455  0.021666 -0.333761   \n",
       "AAAGGGCCAACACAGG-GSM4600896 -0.132387  0.666024 -2.914824  0.050465 -0.749595   \n",
       "...                               ...       ...       ...       ...       ...   \n",
       "TTTGTCAAGAACAACT-GSM5525958 -0.082769  0.065547  0.018543  0.025168  0.171616   \n",
       "TTTGTCAAGATAGGAG-GSM5525958 -0.089325  0.314489  0.136367 -0.003346 -0.200382   \n",
       "TTTGTCAAGTAGGCCA-GSM5525958 -0.132377  0.496524  0.069856 -0.000387 -0.512903   \n",
       "TTTGTCAGTTGGACCC-GSM5525958 -0.112043 -0.085015  0.491207  0.025162  0.292144   \n",
       "TTTGTCATCACATACG-GSM5525958 -0.169020  0.856356  0.031581 -0.002371 -0.365949   \n",
       "\n",
       "                                  LV6       LV7       LV8       LV9      LV10  \\\n",
       "index                                                                           \n",
       "AAACGAATCTCTTGCG-GSM4600896 -0.287108 -0.965917  0.034153  0.520506 -1.790125   \n",
       "AAACGCTAGCGACCCT-GSM4600896 -2.545102  2.844645  0.187638  1.874540  0.084587   \n",
       "AAAGAACAGCGACCCT-GSM4600896  1.466100 -0.358301  0.016458 -0.353812 -1.221823   \n",
       "AAAGGGCAGTCACACT-GSM4600896 -2.460742  2.626953  0.113892  1.936636  0.166195   \n",
       "AAAGGGCCAACACAGG-GSM4600896 -1.104950  0.792894  0.157958 -1.469138  0.220614   \n",
       "...                               ...       ...       ...       ...       ...   \n",
       "TTTGTCAAGAACAACT-GSM5525958  0.287131  0.165565  0.105013  2.332270  0.280057   \n",
       "TTTGTCAAGATAGGAG-GSM5525958  0.061592  0.648185  0.115966 -1.006780  0.291699   \n",
       "TTTGTCAAGTAGGCCA-GSM5525958 -0.079071  0.597407  0.104690 -1.041012  0.328690   \n",
       "TTTGTCAGTTGGACCC-GSM5525958 -0.161325  0.033565  0.130139  1.861353  0.902727   \n",
       "TTTGTCATCACATACG-GSM5525958  0.243730  0.148172  0.093796 -0.981825  0.284793   \n",
       "\n",
       "                                 LV11      LV12      LV13      LV14      LV15  \\\n",
       "index                                                                           \n",
       "AAACGAATCTCTTGCG-GSM4600896 -2.397438  0.138315  1.872088  0.020697  1.892465   \n",
       "AAACGCTAGCGACCCT-GSM4600896  0.673198  0.001966  1.555422  0.085497 -0.334869   \n",
       "AAAGAACAGCGACCCT-GSM4600896 -2.798178  0.058806  2.864401  0.021629 -0.075594   \n",
       "AAAGGGCAGTCACACT-GSM4600896  0.925668  0.042487  1.396114  0.062435 -0.161051   \n",
       "AAAGGGCCAACACAGG-GSM4600896 -0.774842  0.057308  3.286594  0.115430  0.791877   \n",
       "...                               ...       ...       ...       ...       ...   \n",
       "TTTGTCAAGAACAACT-GSM5525958 -1.596661  0.070707  1.596012 -0.017695 -0.493651   \n",
       "TTTGTCAAGATAGGAG-GSM5525958  2.153949 -0.020209  1.295467 -0.091060 -0.919412   \n",
       "TTTGTCAAGTAGGCCA-GSM5525958  1.783911 -0.035832  1.460910 -0.092021 -0.789184   \n",
       "TTTGTCAGTTGGACCC-GSM5525958 -1.244643  0.093687  1.495138 -0.058275 -0.438696   \n",
       "TTTGTCATCACATACG-GSM5525958  2.304328  0.001380  1.384044 -0.066629 -0.859466   \n",
       "\n",
       "                                 LV16      LV17      LV18      LV19      LV20  \n",
       "index                                                                          \n",
       "AAACGAATCTCTTGCG-GSM4600896 -1.511135  0.019417  0.131700 -0.495227 -0.556520  \n",
       "AAACGCTAGCGACCCT-GSM4600896 -1.109183 -0.238280  0.009870  1.183070 -0.461780  \n",
       "AAAGAACAGCGACCCT-GSM4600896 -1.860333 -0.053360  0.139438  0.201179  0.432220  \n",
       "AAAGGGCAGTCACACT-GSM4600896 -1.128958 -0.226845  0.067524  1.113563 -0.178845  \n",
       "AAAGGGCCAACACAGG-GSM4600896  1.670156 -0.374083  0.084604  3.532067 -0.859793  \n",
       "...                               ...       ...       ...       ...       ...  \n",
       "TTTGTCAAGAACAACT-GSM5525958  1.424329 -0.008835  0.028931  0.241978  0.316227  \n",
       "TTTGTCAAGATAGGAG-GSM5525958  0.742865  0.037235  0.024060  0.007070 -0.251480  \n",
       "TTTGTCAAGTAGGCCA-GSM5525958  1.106185 -0.010677  0.053218 -0.306778 -0.069698  \n",
       "TTTGTCAGTTGGACCC-GSM5525958  1.131863  0.116039  0.004840 -0.907961  0.762826  \n",
       "TTTGTCATCACATACG-GSM5525958  0.874790  0.008589  0.066813  0.184234 -0.099124  \n",
       "\n",
       "[1077241 rows x 20 columns]"
      ]
     },
     "execution_count": 10,
     "metadata": {},
     "output_type": "execute_result"
    }
   ],
   "source": [
    "adata.obsm['X_scANVI']"
   ]
  },
  {
   "cell_type": "code",
   "execution_count": 11,
   "id": "everyday-subscription",
   "metadata": {
    "tags": []
   },
   "outputs": [],
   "source": [
    "disease_ad = sc.read('/home/jupyter/Annotations_v3/h5ad/pooled_disease.gene_cellbender.good_qc_cluster_mito80.stringent_doublet_removed.hvg7500_noCC.scvi_output.lv20_batch256.with_broad_annotation.20220930.h5ad')"
   ]
  },
  {
   "cell_type": "code",
   "execution_count": 12,
   "id": "studied-hobby",
   "metadata": {
    "tags": []
   },
   "outputs": [
    {
     "data": {
      "text/plain": [
       "AnnData object with n_obs × n_vars = 299041 × 36601\n",
       "    obs: 'latent_cell_probability', 'latent_RT_efficiency', 'cecilia22_predH', 'cecilia22_predH_prob', 'cecilia22_predH_uncertain', 'cecilia22_predL', 'cecilia22_predL_prob', 'cecilia22_predL_uncertain', 'elmentaite21_pred', 'elmentaite21_pred_prob', 'elmentaite21_pred_uncertain', 'suo22_pred', 'suo22_pred_prob', 'suo22_pred_uncertain', 'n_counts', 'log1p_n_counts', 'n_genes', 'log1p_n_genes', 'percent_mito', 'n_counts_mito', 'percent_ribo', 'n_counts_ribo', 'percent_hb', 'n_counts_hb', 'percent_top50', 'n_counts_raw', 'log1p_n_counts_raw', 'n_genes_raw', 'log1p_n_genes_raw', 'percent_mito_raw', 'n_counts_mito_raw', 'percent_ribo_raw', 'n_counts_ribo_raw', 'percent_hb_raw', 'n_counts_hb_raw', 'percent_top50_raw', 'n_counts_spliced', 'log1p_n_counts_spliced', 'n_genes_spliced', 'log1p_n_genes_spliced', 'percent_mito_spliced', 'n_counts_mito_spliced', 'percent_ribo_spliced', 'n_counts_ribo_spliced', 'percent_hb_spliced', 'n_counts_hb_spliced', 'percent_top50_spliced', 'n_counts_unspliced', 'log1p_n_counts_unspliced', 'n_genes_unspliced', 'log1p_n_genes_unspliced', 'percent_mito_unspliced', 'n_counts_mito_unspliced', 'percent_ribo_unspliced', 'n_counts_ribo_unspliced', 'percent_hb_unspliced', 'n_counts_hb_unspliced', 'percent_top50_unspliced', 'percent_soup', 'percent_spliced', 'qc_cluster', 'pass_auto_filter_mito20', 'good_qc_cluster_mito20', 'pass_auto_filter_mito50', 'good_qc_cluster_mito50', 'pass_auto_filter_mito80', 'good_qc_cluster_mito80', 'pass_auto_filter', 'good_qc_cluster', 'pass_default', 'sampleID', 'sourceID', 'donorID_original', 'study', 'donorID_corrected', 'donorID_unified', 'donor_category', 'donor_disease', 'organ_original', 'organ_unified', 'organ_broad', 'age_original', 'age_unified', 'age_continuousadult', 'age_continuousdev', 'sex', 'sample_type', 'sample_category', 'sample_retrieval', 'tissue_fraction', 'cell_fraction', 'cell_fraction_unified', 'cell_sorting', 'technology', 'include_150722', 'cluster_scrublet_score', 'bh_pval', 'scrublet_score', 'scrublet_score_z', 'scrublet_done', 'doublet', 'stringent_doublet', '_scvi_batch', '_scvi_labels', 'martin19_pred', 'martin19_pred_prob', 'martin19_pred_uncertain', 'warner20_pred', 'warner20_pred_prob', 'warner20_pred_uncertain'\n",
       "    var: 'gene_ids', 'feature_type', 'mito', 'ribo', 'hb', 'n_counts', 'n_counts_raw', 'n_counts_spliced', 'n_counts_unspliced', 'n_cells', 'n_cells_raw', 'n_cells_spliced', 'n_cells_unspliced', 'cc', 'ig', 'tcr'\n",
       "    uns: '_scvi_manager_uuid', '_scvi_uuid', 'neighbors'\n",
       "    obsm: 'X_mde', 'X_scvi', '_scvi_extra_continuous_covs'\n",
       "    obsp: 'connectivities', 'distances'"
      ]
     },
     "execution_count": 12,
     "metadata": {},
     "output_type": "execute_result"
    }
   ],
   "source": [
    "disease_ad"
   ]
  },
  {
   "cell_type": "code",
   "execution_count": 13,
   "id": "7d12704b-f196-4ab2-8e27-59c5ebe6fcea",
   "metadata": {},
   "outputs": [
    {
     "data": {
      "text/html": [
       "<div>\n",
       "<style scoped>\n",
       "    .dataframe tbody tr th:only-of-type {\n",
       "        vertical-align: middle;\n",
       "    }\n",
       "\n",
       "    .dataframe tbody tr th {\n",
       "        vertical-align: top;\n",
       "    }\n",
       "\n",
       "    .dataframe thead th {\n",
       "        text-align: right;\n",
       "    }\n",
       "</style>\n",
       "<table border=\"1\" class=\"dataframe\">\n",
       "  <thead>\n",
       "    <tr style=\"text-align: right;\">\n",
       "      <th></th>\n",
       "      <th>latent_cell_probability</th>\n",
       "      <th>latent_RT_efficiency</th>\n",
       "      <th>cecilia22_predH</th>\n",
       "      <th>cecilia22_predH_prob</th>\n",
       "      <th>cecilia22_predH_uncertain</th>\n",
       "      <th>cecilia22_predL</th>\n",
       "      <th>cecilia22_predL_prob</th>\n",
       "      <th>cecilia22_predL_uncertain</th>\n",
       "      <th>elmentaite21_pred</th>\n",
       "      <th>elmentaite21_pred_prob</th>\n",
       "      <th>...</th>\n",
       "      <th>doublet</th>\n",
       "      <th>stringent_doublet</th>\n",
       "      <th>_scvi_batch</th>\n",
       "      <th>_scvi_labels</th>\n",
       "      <th>martin19_pred</th>\n",
       "      <th>martin19_pred_prob</th>\n",
       "      <th>martin19_pred_uncertain</th>\n",
       "      <th>warner20_pred</th>\n",
       "      <th>warner20_pred_prob</th>\n",
       "      <th>warner20_pred_uncertain</th>\n",
       "    </tr>\n",
       "    <tr>\n",
       "      <th>index</th>\n",
       "      <th></th>\n",
       "      <th></th>\n",
       "      <th></th>\n",
       "      <th></th>\n",
       "      <th></th>\n",
       "      <th></th>\n",
       "      <th></th>\n",
       "      <th></th>\n",
       "      <th></th>\n",
       "      <th></th>\n",
       "      <th></th>\n",
       "      <th></th>\n",
       "      <th></th>\n",
       "      <th></th>\n",
       "      <th></th>\n",
       "      <th></th>\n",
       "      <th></th>\n",
       "      <th></th>\n",
       "      <th></th>\n",
       "      <th></th>\n",
       "      <th></th>\n",
       "    </tr>\n",
       "  </thead>\n",
       "  <tbody>\n",
       "    <tr>\n",
       "      <th>AAACCTGAGAGGTTAT-4918STDY7273964</th>\n",
       "      <td>0.999636</td>\n",
       "      <td>1.277868</td>\n",
       "      <td>B cells</td>\n",
       "      <td>0.999935</td>\n",
       "      <td>B cells</td>\n",
       "      <td>Naive B cells</td>\n",
       "      <td>0.532800</td>\n",
       "      <td>Naive B cells</td>\n",
       "      <td>Naive B</td>\n",
       "      <td>0.997290</td>\n",
       "      <td>...</td>\n",
       "      <td>False</td>\n",
       "      <td>False</td>\n",
       "      <td>181</td>\n",
       "      <td>0</td>\n",
       "      <td>B naive</td>\n",
       "      <td>0.733306</td>\n",
       "      <td>B naive</td>\n",
       "      <td>Th</td>\n",
       "      <td>0.269990</td>\n",
       "      <td>Uncertain</td>\n",
       "    </tr>\n",
       "    <tr>\n",
       "      <th>AAACCTGAGGCCCTCA-4918STDY7273964</th>\n",
       "      <td>0.999551</td>\n",
       "      <td>1.287072</td>\n",
       "      <td>T cells</td>\n",
       "      <td>0.999993</td>\n",
       "      <td>T cells</td>\n",
       "      <td>Tcm/Naive helper T cells</td>\n",
       "      <td>0.186769</td>\n",
       "      <td>Uncertain</td>\n",
       "      <td>SELL+ CD4 T</td>\n",
       "      <td>0.260945</td>\n",
       "      <td>...</td>\n",
       "      <td>False</td>\n",
       "      <td>False</td>\n",
       "      <td>181</td>\n",
       "      <td>0</td>\n",
       "      <td>T CD8 naive</td>\n",
       "      <td>0.846878</td>\n",
       "      <td>T CD8 naive</td>\n",
       "      <td>Th</td>\n",
       "      <td>0.597118</td>\n",
       "      <td>Th</td>\n",
       "    </tr>\n",
       "    <tr>\n",
       "      <th>AAACCTGTCCAAACTG-4918STDY7273964</th>\n",
       "      <td>0.999662</td>\n",
       "      <td>1.191093</td>\n",
       "      <td>T cells</td>\n",
       "      <td>0.999954</td>\n",
       "      <td>T cells</td>\n",
       "      <td>Tcm/Naive helper T cells</td>\n",
       "      <td>0.977933</td>\n",
       "      <td>Tcm/Naive helper T cells</td>\n",
       "      <td>SELL+ CD4 T</td>\n",
       "      <td>0.993349</td>\n",
       "      <td>...</td>\n",
       "      <td>False</td>\n",
       "      <td>False</td>\n",
       "      <td>181</td>\n",
       "      <td>0</td>\n",
       "      <td>T CD4 naive</td>\n",
       "      <td>0.883033</td>\n",
       "      <td>T CD4 naive</td>\n",
       "      <td>Th</td>\n",
       "      <td>0.757285</td>\n",
       "      <td>Th</td>\n",
       "    </tr>\n",
       "    <tr>\n",
       "      <th>AAACGGGAGAGCTGGT-4918STDY7273964</th>\n",
       "      <td>0.999145</td>\n",
       "      <td>1.139521</td>\n",
       "      <td>B cells</td>\n",
       "      <td>0.999925</td>\n",
       "      <td>B cells</td>\n",
       "      <td>Naive B cells</td>\n",
       "      <td>0.999827</td>\n",
       "      <td>Naive B cells</td>\n",
       "      <td>Naive B</td>\n",
       "      <td>0.990829</td>\n",
       "      <td>...</td>\n",
       "      <td>False</td>\n",
       "      <td>False</td>\n",
       "      <td>181</td>\n",
       "      <td>0</td>\n",
       "      <td>B naive</td>\n",
       "      <td>0.956381</td>\n",
       "      <td>B naive</td>\n",
       "      <td>Th</td>\n",
       "      <td>0.298665</td>\n",
       "      <td>Uncertain</td>\n",
       "    </tr>\n",
       "    <tr>\n",
       "      <th>AAACGGGCACTAAGTC-4918STDY7273964</th>\n",
       "      <td>0.999503</td>\n",
       "      <td>1.281189</td>\n",
       "      <td>B cells</td>\n",
       "      <td>0.999567</td>\n",
       "      <td>B cells</td>\n",
       "      <td>Naive B cells</td>\n",
       "      <td>0.964691</td>\n",
       "      <td>Naive B cells</td>\n",
       "      <td>Naive B</td>\n",
       "      <td>0.998023</td>\n",
       "      <td>...</td>\n",
       "      <td>False</td>\n",
       "      <td>False</td>\n",
       "      <td>181</td>\n",
       "      <td>0</td>\n",
       "      <td>B naive</td>\n",
       "      <td>0.974881</td>\n",
       "      <td>B naive</td>\n",
       "      <td>Th</td>\n",
       "      <td>0.355680</td>\n",
       "      <td>Th</td>\n",
       "    </tr>\n",
       "    <tr>\n",
       "      <th>...</th>\n",
       "      <td>...</td>\n",
       "      <td>...</td>\n",
       "      <td>...</td>\n",
       "      <td>...</td>\n",
       "      <td>...</td>\n",
       "      <td>...</td>\n",
       "      <td>...</td>\n",
       "      <td>...</td>\n",
       "      <td>...</td>\n",
       "      <td>...</td>\n",
       "      <td>...</td>\n",
       "      <td>...</td>\n",
       "      <td>...</td>\n",
       "      <td>...</td>\n",
       "      <td>...</td>\n",
       "      <td>...</td>\n",
       "      <td>...</td>\n",
       "      <td>...</td>\n",
       "      <td>...</td>\n",
       "      <td>...</td>\n",
       "      <td>...</td>\n",
       "    </tr>\n",
       "    <tr>\n",
       "      <th>TTTGGTTTCAGGTTCA-GSM4546346</th>\n",
       "      <td>0.999940</td>\n",
       "      <td>2.888317</td>\n",
       "      <td>Epithelial cells</td>\n",
       "      <td>0.025135</td>\n",
       "      <td>Uncertain</td>\n",
       "      <td>Epithelial cells</td>\n",
       "      <td>0.095139</td>\n",
       "      <td>Uncertain</td>\n",
       "      <td>Microfold cell</td>\n",
       "      <td>0.997442</td>\n",
       "      <td>...</td>\n",
       "      <td>False</td>\n",
       "      <td>False</td>\n",
       "      <td>126</td>\n",
       "      <td>0</td>\n",
       "      <td>Epi cycling</td>\n",
       "      <td>0.583857</td>\n",
       "      <td>Epi cycling</td>\n",
       "      <td>Mucous Acini</td>\n",
       "      <td>0.402162</td>\n",
       "      <td>Mucous Acini</td>\n",
       "    </tr>\n",
       "    <tr>\n",
       "      <th>TTTGTCAGTCGCCATG-GSM4546346</th>\n",
       "      <td>0.999626</td>\n",
       "      <td>1.551974</td>\n",
       "      <td>Macrophages</td>\n",
       "      <td>0.362724</td>\n",
       "      <td>Macrophages</td>\n",
       "      <td>Intermediate macrophages</td>\n",
       "      <td>0.163352</td>\n",
       "      <td>Uncertain</td>\n",
       "      <td>Monocytes</td>\n",
       "      <td>0.169558</td>\n",
       "      <td>...</td>\n",
       "      <td>False</td>\n",
       "      <td>False</td>\n",
       "      <td>126</td>\n",
       "      <td>0</td>\n",
       "      <td>nrMac</td>\n",
       "      <td>0.527260</td>\n",
       "      <td>nrMac</td>\n",
       "      <td>DC2</td>\n",
       "      <td>0.815706</td>\n",
       "      <td>DC2</td>\n",
       "    </tr>\n",
       "    <tr>\n",
       "      <th>TTTGTCAGTGGTGTAG-GSM4546346</th>\n",
       "      <td>0.999744</td>\n",
       "      <td>1.542765</td>\n",
       "      <td>T cells</td>\n",
       "      <td>0.000322</td>\n",
       "      <td>Uncertain</td>\n",
       "      <td>NK cells</td>\n",
       "      <td>0.001026</td>\n",
       "      <td>Uncertain</td>\n",
       "      <td>Pericyte</td>\n",
       "      <td>0.999998</td>\n",
       "      <td>...</td>\n",
       "      <td>False</td>\n",
       "      <td>False</td>\n",
       "      <td>126</td>\n",
       "      <td>0</td>\n",
       "      <td>Pericyte</td>\n",
       "      <td>0.979788</td>\n",
       "      <td>Pericyte</td>\n",
       "      <td>SM</td>\n",
       "      <td>0.419596</td>\n",
       "      <td>SM</td>\n",
       "    </tr>\n",
       "    <tr>\n",
       "      <th>TTTGTCATCGGAAACG-GSM4546346</th>\n",
       "      <td>0.999914</td>\n",
       "      <td>1.798503</td>\n",
       "      <td>Plasma cells</td>\n",
       "      <td>0.999448</td>\n",
       "      <td>Plasma cells</td>\n",
       "      <td>Plasma cells</td>\n",
       "      <td>0.998327</td>\n",
       "      <td>Plasma cells</td>\n",
       "      <td>IgA plasma cell</td>\n",
       "      <td>0.786484</td>\n",
       "      <td>...</td>\n",
       "      <td>False</td>\n",
       "      <td>False</td>\n",
       "      <td>126</td>\n",
       "      <td>0</td>\n",
       "      <td>Plasma IgM</td>\n",
       "      <td>0.870566</td>\n",
       "      <td>Plasma IgM</td>\n",
       "      <td>Plasma</td>\n",
       "      <td>0.998994</td>\n",
       "      <td>Plasma</td>\n",
       "    </tr>\n",
       "    <tr>\n",
       "      <th>TTTGTCATCGGATGTT-GSM4546346</th>\n",
       "      <td>0.999864</td>\n",
       "      <td>1.511129</td>\n",
       "      <td>Plasma cells</td>\n",
       "      <td>0.998636</td>\n",
       "      <td>Plasma cells</td>\n",
       "      <td>Plasma cells</td>\n",
       "      <td>0.994491</td>\n",
       "      <td>Plasma cells</td>\n",
       "      <td>IgG plasma cell</td>\n",
       "      <td>0.995965</td>\n",
       "      <td>...</td>\n",
       "      <td>False</td>\n",
       "      <td>False</td>\n",
       "      <td>126</td>\n",
       "      <td>0</td>\n",
       "      <td>Plasma IgG</td>\n",
       "      <td>0.991759</td>\n",
       "      <td>Plasma IgG</td>\n",
       "      <td>Plasma</td>\n",
       "      <td>0.996080</td>\n",
       "      <td>Plasma</td>\n",
       "    </tr>\n",
       "  </tbody>\n",
       "</table>\n",
       "<p>299041 rows × 110 columns</p>\n",
       "</div>"
      ],
      "text/plain": [
       "                                  latent_cell_probability  \\\n",
       "index                                                       \n",
       "AAACCTGAGAGGTTAT-4918STDY7273964                 0.999636   \n",
       "AAACCTGAGGCCCTCA-4918STDY7273964                 0.999551   \n",
       "AAACCTGTCCAAACTG-4918STDY7273964                 0.999662   \n",
       "AAACGGGAGAGCTGGT-4918STDY7273964                 0.999145   \n",
       "AAACGGGCACTAAGTC-4918STDY7273964                 0.999503   \n",
       "...                                                   ...   \n",
       "TTTGGTTTCAGGTTCA-GSM4546346                      0.999940   \n",
       "TTTGTCAGTCGCCATG-GSM4546346                      0.999626   \n",
       "TTTGTCAGTGGTGTAG-GSM4546346                      0.999744   \n",
       "TTTGTCATCGGAAACG-GSM4546346                      0.999914   \n",
       "TTTGTCATCGGATGTT-GSM4546346                      0.999864   \n",
       "\n",
       "                                  latent_RT_efficiency   cecilia22_predH  \\\n",
       "index                                                                      \n",
       "AAACCTGAGAGGTTAT-4918STDY7273964              1.277868           B cells   \n",
       "AAACCTGAGGCCCTCA-4918STDY7273964              1.287072           T cells   \n",
       "AAACCTGTCCAAACTG-4918STDY7273964              1.191093           T cells   \n",
       "AAACGGGAGAGCTGGT-4918STDY7273964              1.139521           B cells   \n",
       "AAACGGGCACTAAGTC-4918STDY7273964              1.281189           B cells   \n",
       "...                                                ...               ...   \n",
       "TTTGGTTTCAGGTTCA-GSM4546346                   2.888317  Epithelial cells   \n",
       "TTTGTCAGTCGCCATG-GSM4546346                   1.551974       Macrophages   \n",
       "TTTGTCAGTGGTGTAG-GSM4546346                   1.542765           T cells   \n",
       "TTTGTCATCGGAAACG-GSM4546346                   1.798503      Plasma cells   \n",
       "TTTGTCATCGGATGTT-GSM4546346                   1.511129      Plasma cells   \n",
       "\n",
       "                                  cecilia22_predH_prob  \\\n",
       "index                                                    \n",
       "AAACCTGAGAGGTTAT-4918STDY7273964              0.999935   \n",
       "AAACCTGAGGCCCTCA-4918STDY7273964              0.999993   \n",
       "AAACCTGTCCAAACTG-4918STDY7273964              0.999954   \n",
       "AAACGGGAGAGCTGGT-4918STDY7273964              0.999925   \n",
       "AAACGGGCACTAAGTC-4918STDY7273964              0.999567   \n",
       "...                                                ...   \n",
       "TTTGGTTTCAGGTTCA-GSM4546346                   0.025135   \n",
       "TTTGTCAGTCGCCATG-GSM4546346                   0.362724   \n",
       "TTTGTCAGTGGTGTAG-GSM4546346                   0.000322   \n",
       "TTTGTCATCGGAAACG-GSM4546346                   0.999448   \n",
       "TTTGTCATCGGATGTT-GSM4546346                   0.998636   \n",
       "\n",
       "                                 cecilia22_predH_uncertain  \\\n",
       "index                                                        \n",
       "AAACCTGAGAGGTTAT-4918STDY7273964                   B cells   \n",
       "AAACCTGAGGCCCTCA-4918STDY7273964                   T cells   \n",
       "AAACCTGTCCAAACTG-4918STDY7273964                   T cells   \n",
       "AAACGGGAGAGCTGGT-4918STDY7273964                   B cells   \n",
       "AAACGGGCACTAAGTC-4918STDY7273964                   B cells   \n",
       "...                                                    ...   \n",
       "TTTGGTTTCAGGTTCA-GSM4546346                      Uncertain   \n",
       "TTTGTCAGTCGCCATG-GSM4546346                    Macrophages   \n",
       "TTTGTCAGTGGTGTAG-GSM4546346                      Uncertain   \n",
       "TTTGTCATCGGAAACG-GSM4546346                   Plasma cells   \n",
       "TTTGTCATCGGATGTT-GSM4546346                   Plasma cells   \n",
       "\n",
       "                                           cecilia22_predL  \\\n",
       "index                                                        \n",
       "AAACCTGAGAGGTTAT-4918STDY7273964             Naive B cells   \n",
       "AAACCTGAGGCCCTCA-4918STDY7273964  Tcm/Naive helper T cells   \n",
       "AAACCTGTCCAAACTG-4918STDY7273964  Tcm/Naive helper T cells   \n",
       "AAACGGGAGAGCTGGT-4918STDY7273964             Naive B cells   \n",
       "AAACGGGCACTAAGTC-4918STDY7273964             Naive B cells   \n",
       "...                                                    ...   \n",
       "TTTGGTTTCAGGTTCA-GSM4546346               Epithelial cells   \n",
       "TTTGTCAGTCGCCATG-GSM4546346       Intermediate macrophages   \n",
       "TTTGTCAGTGGTGTAG-GSM4546346                       NK cells   \n",
       "TTTGTCATCGGAAACG-GSM4546346                   Plasma cells   \n",
       "TTTGTCATCGGATGTT-GSM4546346                   Plasma cells   \n",
       "\n",
       "                                  cecilia22_predL_prob  \\\n",
       "index                                                    \n",
       "AAACCTGAGAGGTTAT-4918STDY7273964              0.532800   \n",
       "AAACCTGAGGCCCTCA-4918STDY7273964              0.186769   \n",
       "AAACCTGTCCAAACTG-4918STDY7273964              0.977933   \n",
       "AAACGGGAGAGCTGGT-4918STDY7273964              0.999827   \n",
       "AAACGGGCACTAAGTC-4918STDY7273964              0.964691   \n",
       "...                                                ...   \n",
       "TTTGGTTTCAGGTTCA-GSM4546346                   0.095139   \n",
       "TTTGTCAGTCGCCATG-GSM4546346                   0.163352   \n",
       "TTTGTCAGTGGTGTAG-GSM4546346                   0.001026   \n",
       "TTTGTCATCGGAAACG-GSM4546346                   0.998327   \n",
       "TTTGTCATCGGATGTT-GSM4546346                   0.994491   \n",
       "\n",
       "                                 cecilia22_predL_uncertain elmentaite21_pred  \\\n",
       "index                                                                          \n",
       "AAACCTGAGAGGTTAT-4918STDY7273964             Naive B cells           Naive B   \n",
       "AAACCTGAGGCCCTCA-4918STDY7273964                 Uncertain       SELL+ CD4 T   \n",
       "AAACCTGTCCAAACTG-4918STDY7273964  Tcm/Naive helper T cells       SELL+ CD4 T   \n",
       "AAACGGGAGAGCTGGT-4918STDY7273964             Naive B cells           Naive B   \n",
       "AAACGGGCACTAAGTC-4918STDY7273964             Naive B cells           Naive B   \n",
       "...                                                    ...               ...   \n",
       "TTTGGTTTCAGGTTCA-GSM4546346                      Uncertain    Microfold cell   \n",
       "TTTGTCAGTCGCCATG-GSM4546346                      Uncertain         Monocytes   \n",
       "TTTGTCAGTGGTGTAG-GSM4546346                      Uncertain          Pericyte   \n",
       "TTTGTCATCGGAAACG-GSM4546346                   Plasma cells   IgA plasma cell   \n",
       "TTTGTCATCGGATGTT-GSM4546346                   Plasma cells   IgG plasma cell   \n",
       "\n",
       "                                  elmentaite21_pred_prob  ... doublet  \\\n",
       "index                                                     ...           \n",
       "AAACCTGAGAGGTTAT-4918STDY7273964                0.997290  ...   False   \n",
       "AAACCTGAGGCCCTCA-4918STDY7273964                0.260945  ...   False   \n",
       "AAACCTGTCCAAACTG-4918STDY7273964                0.993349  ...   False   \n",
       "AAACGGGAGAGCTGGT-4918STDY7273964                0.990829  ...   False   \n",
       "AAACGGGCACTAAGTC-4918STDY7273964                0.998023  ...   False   \n",
       "...                                                  ...  ...     ...   \n",
       "TTTGGTTTCAGGTTCA-GSM4546346                     0.997442  ...   False   \n",
       "TTTGTCAGTCGCCATG-GSM4546346                     0.169558  ...   False   \n",
       "TTTGTCAGTGGTGTAG-GSM4546346                     0.999998  ...   False   \n",
       "TTTGTCATCGGAAACG-GSM4546346                     0.786484  ...   False   \n",
       "TTTGTCATCGGATGTT-GSM4546346                     0.995965  ...   False   \n",
       "\n",
       "                                 stringent_doublet  _scvi_batch _scvi_labels  \\\n",
       "index                                                                          \n",
       "AAACCTGAGAGGTTAT-4918STDY7273964             False          181            0   \n",
       "AAACCTGAGGCCCTCA-4918STDY7273964             False          181            0   \n",
       "AAACCTGTCCAAACTG-4918STDY7273964             False          181            0   \n",
       "AAACGGGAGAGCTGGT-4918STDY7273964             False          181            0   \n",
       "AAACGGGCACTAAGTC-4918STDY7273964             False          181            0   \n",
       "...                                            ...          ...          ...   \n",
       "TTTGGTTTCAGGTTCA-GSM4546346                  False          126            0   \n",
       "TTTGTCAGTCGCCATG-GSM4546346                  False          126            0   \n",
       "TTTGTCAGTGGTGTAG-GSM4546346                  False          126            0   \n",
       "TTTGTCATCGGAAACG-GSM4546346                  False          126            0   \n",
       "TTTGTCATCGGATGTT-GSM4546346                  False          126            0   \n",
       "\n",
       "                                  martin19_pred  martin19_pred_prob  \\\n",
       "index                                                                 \n",
       "AAACCTGAGAGGTTAT-4918STDY7273964        B naive            0.733306   \n",
       "AAACCTGAGGCCCTCA-4918STDY7273964    T CD8 naive            0.846878   \n",
       "AAACCTGTCCAAACTG-4918STDY7273964    T CD4 naive            0.883033   \n",
       "AAACGGGAGAGCTGGT-4918STDY7273964        B naive            0.956381   \n",
       "AAACGGGCACTAAGTC-4918STDY7273964        B naive            0.974881   \n",
       "...                                         ...                 ...   \n",
       "TTTGGTTTCAGGTTCA-GSM4546346         Epi cycling            0.583857   \n",
       "TTTGTCAGTCGCCATG-GSM4546346               nrMac            0.527260   \n",
       "TTTGTCAGTGGTGTAG-GSM4546346            Pericyte            0.979788   \n",
       "TTTGTCATCGGAAACG-GSM4546346          Plasma IgM            0.870566   \n",
       "TTTGTCATCGGATGTT-GSM4546346          Plasma IgG            0.991759   \n",
       "\n",
       "                                  martin19_pred_uncertain  warner20_pred  \\\n",
       "index                                                                      \n",
       "AAACCTGAGAGGTTAT-4918STDY7273964                  B naive             Th   \n",
       "AAACCTGAGGCCCTCA-4918STDY7273964              T CD8 naive             Th   \n",
       "AAACCTGTCCAAACTG-4918STDY7273964              T CD4 naive             Th   \n",
       "AAACGGGAGAGCTGGT-4918STDY7273964                  B naive             Th   \n",
       "AAACGGGCACTAAGTC-4918STDY7273964                  B naive             Th   \n",
       "...                                                   ...            ...   \n",
       "TTTGGTTTCAGGTTCA-GSM4546346                   Epi cycling   Mucous Acini   \n",
       "TTTGTCAGTCGCCATG-GSM4546346                         nrMac            DC2   \n",
       "TTTGTCAGTGGTGTAG-GSM4546346                      Pericyte             SM   \n",
       "TTTGTCATCGGAAACG-GSM4546346                    Plasma IgM         Plasma   \n",
       "TTTGTCATCGGATGTT-GSM4546346                    Plasma IgG         Plasma   \n",
       "\n",
       "                                  warner20_pred_prob  warner20_pred_uncertain  \n",
       "index                                                                          \n",
       "AAACCTGAGAGGTTAT-4918STDY7273964            0.269990                Uncertain  \n",
       "AAACCTGAGGCCCTCA-4918STDY7273964            0.597118                       Th  \n",
       "AAACCTGTCCAAACTG-4918STDY7273964            0.757285                       Th  \n",
       "AAACGGGAGAGCTGGT-4918STDY7273964            0.298665                Uncertain  \n",
       "AAACGGGCACTAAGTC-4918STDY7273964            0.355680                       Th  \n",
       "...                                              ...                      ...  \n",
       "TTTGGTTTCAGGTTCA-GSM4546346                 0.402162             Mucous Acini  \n",
       "TTTGTCAGTCGCCATG-GSM4546346                 0.815706                      DC2  \n",
       "TTTGTCAGTGGTGTAG-GSM4546346                 0.419596                       SM  \n",
       "TTTGTCATCGGAAACG-GSM4546346                 0.998994                   Plasma  \n",
       "TTTGTCATCGGATGTT-GSM4546346                 0.996080                   Plasma  \n",
       "\n",
       "[299041 rows x 110 columns]"
      ]
     },
     "execution_count": 13,
     "metadata": {},
     "output_type": "execute_result"
    }
   ],
   "source": [
    "disease_ad.obs"
   ]
  },
  {
   "cell_type": "code",
   "execution_count": 14,
   "id": "metallic-charge",
   "metadata": {
    "tags": []
   },
   "outputs": [],
   "source": [
    "disease_ad = disease_ad[:, disease_ad.var_names.isin(adata.var_names)].copy()"
   ]
  },
  {
   "cell_type": "code",
   "execution_count": 15,
   "id": "b13c62fb-661c-4d35-a47e-c767833b1bf9",
   "metadata": {},
   "outputs": [
    {
     "data": {
      "text/plain": [
       "AnnData object with n_obs × n_vars = 299041 × 7280\n",
       "    obs: 'latent_cell_probability', 'latent_RT_efficiency', 'cecilia22_predH', 'cecilia22_predH_prob', 'cecilia22_predH_uncertain', 'cecilia22_predL', 'cecilia22_predL_prob', 'cecilia22_predL_uncertain', 'elmentaite21_pred', 'elmentaite21_pred_prob', 'elmentaite21_pred_uncertain', 'suo22_pred', 'suo22_pred_prob', 'suo22_pred_uncertain', 'n_counts', 'log1p_n_counts', 'n_genes', 'log1p_n_genes', 'percent_mito', 'n_counts_mito', 'percent_ribo', 'n_counts_ribo', 'percent_hb', 'n_counts_hb', 'percent_top50', 'n_counts_raw', 'log1p_n_counts_raw', 'n_genes_raw', 'log1p_n_genes_raw', 'percent_mito_raw', 'n_counts_mito_raw', 'percent_ribo_raw', 'n_counts_ribo_raw', 'percent_hb_raw', 'n_counts_hb_raw', 'percent_top50_raw', 'n_counts_spliced', 'log1p_n_counts_spliced', 'n_genes_spliced', 'log1p_n_genes_spliced', 'percent_mito_spliced', 'n_counts_mito_spliced', 'percent_ribo_spliced', 'n_counts_ribo_spliced', 'percent_hb_spliced', 'n_counts_hb_spliced', 'percent_top50_spliced', 'n_counts_unspliced', 'log1p_n_counts_unspliced', 'n_genes_unspliced', 'log1p_n_genes_unspliced', 'percent_mito_unspliced', 'n_counts_mito_unspliced', 'percent_ribo_unspliced', 'n_counts_ribo_unspliced', 'percent_hb_unspliced', 'n_counts_hb_unspliced', 'percent_top50_unspliced', 'percent_soup', 'percent_spliced', 'qc_cluster', 'pass_auto_filter_mito20', 'good_qc_cluster_mito20', 'pass_auto_filter_mito50', 'good_qc_cluster_mito50', 'pass_auto_filter_mito80', 'good_qc_cluster_mito80', 'pass_auto_filter', 'good_qc_cluster', 'pass_default', 'sampleID', 'sourceID', 'donorID_original', 'study', 'donorID_corrected', 'donorID_unified', 'donor_category', 'donor_disease', 'organ_original', 'organ_unified', 'organ_broad', 'age_original', 'age_unified', 'age_continuousadult', 'age_continuousdev', 'sex', 'sample_type', 'sample_category', 'sample_retrieval', 'tissue_fraction', 'cell_fraction', 'cell_fraction_unified', 'cell_sorting', 'technology', 'include_150722', 'cluster_scrublet_score', 'bh_pval', 'scrublet_score', 'scrublet_score_z', 'scrublet_done', 'doublet', 'stringent_doublet', '_scvi_batch', '_scvi_labels', 'martin19_pred', 'martin19_pred_prob', 'martin19_pred_uncertain', 'warner20_pred', 'warner20_pred_prob', 'warner20_pred_uncertain'\n",
       "    var: 'gene_ids', 'feature_type', 'mito', 'ribo', 'hb', 'n_counts', 'n_counts_raw', 'n_counts_spliced', 'n_counts_unspliced', 'n_cells', 'n_cells_raw', 'n_cells_spliced', 'n_cells_unspliced', 'cc', 'ig', 'tcr'\n",
       "    uns: '_scvi_manager_uuid', '_scvi_uuid', 'neighbors'\n",
       "    obsm: 'X_mde', 'X_scvi', '_scvi_extra_continuous_covs'\n",
       "    obsp: 'connectivities', 'distances'"
      ]
     },
     "execution_count": 15,
     "metadata": {},
     "output_type": "execute_result"
    }
   ],
   "source": [
    "disease_ad"
   ]
  },
  {
   "cell_type": "code",
   "execution_count": 16,
   "id": "bigger-prevention",
   "metadata": {
    "tags": []
   },
   "outputs": [
    {
     "name": "stdout",
     "output_type": "stream",
     "text": [
      "\u001b[34mINFO    \u001b[0m File \u001b[35m/home/jupyter/Annotations_v3/models/scanvi_output20230126/pooled_healthy.broad_\u001b[0m\n",
      "         \u001b[35mannot_20220817.scanvi_model.pt/\u001b[0m\u001b[95mmodel.pt\u001b[0m already downloaded                          \n"
     ]
    },
    {
     "name": "stderr",
     "output_type": "stream",
     "text": [
      "/opt/conda/envs/scvi/lib/python3.9/site-packages/scvi/data/fields/_layer_field.py:78: UserWarning: adata.X does not contain unnormalized count data. Are you sure this is what you want?\n",
      "  warnings.warn(\n",
      "/opt/conda/envs/scvi/lib/python3.9/site-packages/scvi/data/fields/_scanvi.py:89: UserWarning: Missing labels key broad_annot_20220917. Filling in with unlabeled category Unknown.\n",
      "  warnings.warn(\n"
     ]
    }
   ],
   "source": [
    "scanvi_query = scvi.model.SCANVI.load_query_data(\n",
    "    disease_ad,\n",
    "    \"/home/jupyter/Annotations_v3/models/scanvi_output20230126/pooled_healthy.broad_annot_20220817.scanvi_model.pt\",\n",
    ")"
   ]
  },
  {
   "cell_type": "code",
   "execution_count": 17,
   "id": "local-dealing",
   "metadata": {
    "tags": []
   },
   "outputs": [
    {
     "name": "stdout",
     "output_type": "stream",
     "text": [
      "\u001b[34mINFO    \u001b[0m Training for \u001b[1;36m100\u001b[0m epochs.                                                            \n"
     ]
    },
    {
     "name": "stderr",
     "output_type": "stream",
     "text": [
      "/opt/conda/envs/scvi/lib/python3.9/site-packages/torchmetrics/utilities/prints.py:36: UserWarning: Torchmetrics v0.9 introduced a new argument class property called `full_state_update` that has\n",
      "                not been set for this class (ElboMetric). The property determines if `update` by\n",
      "                default needs access to the full metric state. If this is not the case, significant speedups can be\n",
      "                achieved and we recommend setting this to `False`.\n",
      "                We provide an checking function\n",
      "                `from torchmetrics.utilities import check_forward_no_full_state`\n",
      "                that can be used to check if the `full_state_update=True` (old and potential slower behaviour,\n",
      "                default for now) or if `full_state_update=False` can be used safely.\n",
      "                \n",
      "  warnings.warn(*args, **kwargs)\n",
      "GPU available: True, used: True\n",
      "TPU available: False, using: 0 TPU cores\n",
      "IPU available: False, using: 0 IPUs\n",
      "LOCAL_RANK: 0 - CUDA_VISIBLE_DEVICES: [0]\n"
     ]
    },
    {
     "name": "stdout",
     "output_type": "stream",
     "text": [
      "Epoch 1/100:   0%|          | 0/100 [00:00<?, ?it/s]"
     ]
    },
    {
     "name": "stderr",
     "output_type": "stream",
     "text": [
      "/opt/conda/envs/scvi/lib/python3.9/site-packages/scvi/distributions/_negative_binomial.py:436: UserWarning: The value argument must be within the support of the distribution\n",
      "  warnings.warn(\n",
      "/opt/conda/envs/scvi/lib/python3.9/site-packages/scvi/distributions/_negative_binomial.py:61: UserWarning: Specified kernel cache directory could not be created! This disables kernel caching. Specified directory is /home/jupyter/.cache/torch/kernels. This warning will appear only once per process. (Triggered internally at  ../aten/src/ATen/native/cuda/jit_utils.cpp:860.)\n",
      "  + torch.lgamma(x + theta)\n",
      "/opt/conda/envs/scvi/lib/python3.9/site-packages/scvi/distributions/_negative_binomial.py:436: UserWarning: The value argument must be within the support of the distribution\n",
      "  warnings.warn(\n"
     ]
    },
    {
     "name": "stdout",
     "output_type": "stream",
     "text": [
      "Epoch 2/100:   1%|          | 1/100 [00:38<1:04:01, 38.80s/it, loss=583, v_num=1]"
     ]
    },
    {
     "name": "stderr",
     "output_type": "stream",
     "text": [
      "/opt/conda/envs/scvi/lib/python3.9/site-packages/scvi/distributions/_negative_binomial.py:436: UserWarning: The value argument must be within the support of the distribution\n",
      "  warnings.warn(\n",
      "/opt/conda/envs/scvi/lib/python3.9/site-packages/scvi/distributions/_negative_binomial.py:436: UserWarning: The value argument must be within the support of the distribution\n",
      "  warnings.warn(\n"
     ]
    },
    {
     "name": "stdout",
     "output_type": "stream",
     "text": [
      "Epoch 3/100:   2%|▏         | 2/100 [01:16<1:02:35, 38.32s/it, loss=570, v_num=1]"
     ]
    },
    {
     "name": "stderr",
     "output_type": "stream",
     "text": [
      "/opt/conda/envs/scvi/lib/python3.9/site-packages/scvi/distributions/_negative_binomial.py:436: UserWarning: The value argument must be within the support of the distribution\n",
      "  warnings.warn(\n",
      "/opt/conda/envs/scvi/lib/python3.9/site-packages/scvi/distributions/_negative_binomial.py:436: UserWarning: The value argument must be within the support of the distribution\n",
      "  warnings.warn(\n"
     ]
    },
    {
     "name": "stdout",
     "output_type": "stream",
     "text": [
      "Epoch 4/100:   3%|▎         | 3/100 [01:54<1:01:27, 38.02s/it, loss=571, v_num=1]"
     ]
    },
    {
     "name": "stderr",
     "output_type": "stream",
     "text": [
      "/opt/conda/envs/scvi/lib/python3.9/site-packages/scvi/distributions/_negative_binomial.py:436: UserWarning: The value argument must be within the support of the distribution\n",
      "  warnings.warn(\n",
      "/opt/conda/envs/scvi/lib/python3.9/site-packages/scvi/distributions/_negative_binomial.py:436: UserWarning: The value argument must be within the support of the distribution\n",
      "  warnings.warn(\n"
     ]
    },
    {
     "name": "stdout",
     "output_type": "stream",
     "text": [
      "Epoch 5/100:   4%|▍         | 4/100 [02:32<1:01:02, 38.15s/it, loss=565, v_num=1]"
     ]
    },
    {
     "name": "stderr",
     "output_type": "stream",
     "text": [
      "/opt/conda/envs/scvi/lib/python3.9/site-packages/scvi/distributions/_negative_binomial.py:436: UserWarning: The value argument must be within the support of the distribution\n",
      "  warnings.warn(\n",
      "/opt/conda/envs/scvi/lib/python3.9/site-packages/scvi/distributions/_negative_binomial.py:436: UserWarning: The value argument must be within the support of the distribution\n",
      "  warnings.warn(\n"
     ]
    },
    {
     "name": "stdout",
     "output_type": "stream",
     "text": [
      "Epoch 6/100:   5%|▌         | 5/100 [03:10<59:53, 37.83s/it, loss=569, v_num=1]  "
     ]
    },
    {
     "name": "stderr",
     "output_type": "stream",
     "text": [
      "/opt/conda/envs/scvi/lib/python3.9/site-packages/scvi/distributions/_negative_binomial.py:436: UserWarning: The value argument must be within the support of the distribution\n",
      "  warnings.warn(\n",
      "/opt/conda/envs/scvi/lib/python3.9/site-packages/scvi/distributions/_negative_binomial.py:436: UserWarning: The value argument must be within the support of the distribution\n",
      "  warnings.warn(\n"
     ]
    },
    {
     "name": "stdout",
     "output_type": "stream",
     "text": [
      "Epoch 7/100:   6%|▌         | 6/100 [03:47<58:57, 37.63s/it, loss=570, v_num=1]"
     ]
    },
    {
     "name": "stderr",
     "output_type": "stream",
     "text": [
      "/opt/conda/envs/scvi/lib/python3.9/site-packages/scvi/distributions/_negative_binomial.py:436: UserWarning: The value argument must be within the support of the distribution\n",
      "  warnings.warn(\n",
      "/opt/conda/envs/scvi/lib/python3.9/site-packages/scvi/distributions/_negative_binomial.py:436: UserWarning: The value argument must be within the support of the distribution\n",
      "  warnings.warn(\n"
     ]
    },
    {
     "name": "stdout",
     "output_type": "stream",
     "text": [
      "Epoch 8/100:   7%|▋         | 7/100 [04:24<58:08, 37.51s/it, loss=566, v_num=1]"
     ]
    },
    {
     "name": "stderr",
     "output_type": "stream",
     "text": [
      "/opt/conda/envs/scvi/lib/python3.9/site-packages/scvi/distributions/_negative_binomial.py:436: UserWarning: The value argument must be within the support of the distribution\n",
      "  warnings.warn(\n",
      "/opt/conda/envs/scvi/lib/python3.9/site-packages/scvi/distributions/_negative_binomial.py:436: UserWarning: The value argument must be within the support of the distribution\n",
      "  warnings.warn(\n"
     ]
    },
    {
     "name": "stdout",
     "output_type": "stream",
     "text": [
      "Epoch 9/100:   8%|▊         | 8/100 [05:01<57:08, 37.26s/it, loss=568, v_num=1]"
     ]
    },
    {
     "name": "stderr",
     "output_type": "stream",
     "text": [
      "/opt/conda/envs/scvi/lib/python3.9/site-packages/scvi/distributions/_negative_binomial.py:436: UserWarning: The value argument must be within the support of the distribution\n",
      "  warnings.warn(\n",
      "/opt/conda/envs/scvi/lib/python3.9/site-packages/scvi/distributions/_negative_binomial.py:436: UserWarning: The value argument must be within the support of the distribution\n",
      "  warnings.warn(\n"
     ]
    },
    {
     "name": "stdout",
     "output_type": "stream",
     "text": [
      "Epoch 10/100:   9%|▉         | 9/100 [05:38<56:33, 37.29s/it, loss=563, v_num=1]"
     ]
    },
    {
     "name": "stderr",
     "output_type": "stream",
     "text": [
      "/opt/conda/envs/scvi/lib/python3.9/site-packages/scvi/distributions/_negative_binomial.py:436: UserWarning: The value argument must be within the support of the distribution\n",
      "  warnings.warn(\n",
      "/opt/conda/envs/scvi/lib/python3.9/site-packages/scvi/distributions/_negative_binomial.py:436: UserWarning: The value argument must be within the support of the distribution\n",
      "  warnings.warn(\n"
     ]
    },
    {
     "name": "stdout",
     "output_type": "stream",
     "text": [
      "Epoch 11/100:  10%|█         | 10/100 [06:18<57:04, 38.05s/it, loss=564, v_num=1]"
     ]
    },
    {
     "name": "stderr",
     "output_type": "stream",
     "text": [
      "/opt/conda/envs/scvi/lib/python3.9/site-packages/scvi/distributions/_negative_binomial.py:436: UserWarning: The value argument must be within the support of the distribution\n",
      "  warnings.warn(\n",
      "/opt/conda/envs/scvi/lib/python3.9/site-packages/scvi/distributions/_negative_binomial.py:436: UserWarning: The value argument must be within the support of the distribution\n",
      "  warnings.warn(\n"
     ]
    },
    {
     "name": "stdout",
     "output_type": "stream",
     "text": [
      "Epoch 12/100:  11%|█         | 11/100 [06:55<55:49, 37.64s/it, loss=565, v_num=1]"
     ]
    },
    {
     "name": "stderr",
     "output_type": "stream",
     "text": [
      "/opt/conda/envs/scvi/lib/python3.9/site-packages/scvi/distributions/_negative_binomial.py:436: UserWarning: The value argument must be within the support of the distribution\n",
      "  warnings.warn(\n",
      "/opt/conda/envs/scvi/lib/python3.9/site-packages/scvi/distributions/_negative_binomial.py:436: UserWarning: The value argument must be within the support of the distribution\n",
      "  warnings.warn(\n"
     ]
    },
    {
     "name": "stdout",
     "output_type": "stream",
     "text": [
      "Epoch 13/100:  12%|█▏        | 12/100 [07:32<55:00, 37.50s/it, loss=571, v_num=1]"
     ]
    },
    {
     "name": "stderr",
     "output_type": "stream",
     "text": [
      "/opt/conda/envs/scvi/lib/python3.9/site-packages/scvi/distributions/_negative_binomial.py:436: UserWarning: The value argument must be within the support of the distribution\n",
      "  warnings.warn(\n",
      "/opt/conda/envs/scvi/lib/python3.9/site-packages/scvi/distributions/_negative_binomial.py:436: UserWarning: The value argument must be within the support of the distribution\n",
      "  warnings.warn(\n"
     ]
    },
    {
     "name": "stdout",
     "output_type": "stream",
     "text": [
      "Epoch 14/100:  13%|█▎        | 13/100 [08:09<54:05, 37.30s/it, loss=563, v_num=1]"
     ]
    },
    {
     "name": "stderr",
     "output_type": "stream",
     "text": [
      "/opt/conda/envs/scvi/lib/python3.9/site-packages/scvi/distributions/_negative_binomial.py:436: UserWarning: The value argument must be within the support of the distribution\n",
      "  warnings.warn(\n",
      "/opt/conda/envs/scvi/lib/python3.9/site-packages/scvi/distributions/_negative_binomial.py:436: UserWarning: The value argument must be within the support of the distribution\n",
      "  warnings.warn(\n"
     ]
    },
    {
     "name": "stdout",
     "output_type": "stream",
     "text": [
      "Epoch 15/100:  14%|█▍        | 14/100 [08:46<53:26, 37.29s/it, loss=571, v_num=1]"
     ]
    },
    {
     "name": "stderr",
     "output_type": "stream",
     "text": [
      "/opt/conda/envs/scvi/lib/python3.9/site-packages/scvi/distributions/_negative_binomial.py:436: UserWarning: The value argument must be within the support of the distribution\n",
      "  warnings.warn(\n",
      "/opt/conda/envs/scvi/lib/python3.9/site-packages/scvi/distributions/_negative_binomial.py:436: UserWarning: The value argument must be within the support of the distribution\n",
      "  warnings.warn(\n"
     ]
    },
    {
     "name": "stdout",
     "output_type": "stream",
     "text": [
      "Epoch 16/100:  15%|█▌        | 15/100 [09:23<52:46, 37.25s/it, loss=574, v_num=1]"
     ]
    },
    {
     "name": "stderr",
     "output_type": "stream",
     "text": [
      "/opt/conda/envs/scvi/lib/python3.9/site-packages/scvi/distributions/_negative_binomial.py:436: UserWarning: The value argument must be within the support of the distribution\n",
      "  warnings.warn(\n",
      "/opt/conda/envs/scvi/lib/python3.9/site-packages/scvi/distributions/_negative_binomial.py:436: UserWarning: The value argument must be within the support of the distribution\n",
      "  warnings.warn(\n"
     ]
    },
    {
     "name": "stdout",
     "output_type": "stream",
     "text": [
      "Epoch 17/100:  16%|█▌        | 16/100 [10:00<51:58, 37.13s/it, loss=564, v_num=1]"
     ]
    },
    {
     "name": "stderr",
     "output_type": "stream",
     "text": [
      "/opt/conda/envs/scvi/lib/python3.9/site-packages/scvi/distributions/_negative_binomial.py:436: UserWarning: The value argument must be within the support of the distribution\n",
      "  warnings.warn(\n",
      "/opt/conda/envs/scvi/lib/python3.9/site-packages/scvi/distributions/_negative_binomial.py:436: UserWarning: The value argument must be within the support of the distribution\n",
      "  warnings.warn(\n"
     ]
    },
    {
     "name": "stdout",
     "output_type": "stream",
     "text": [
      "Epoch 18/100:  17%|█▋        | 17/100 [10:37<51:16, 37.06s/it, loss=572, v_num=1]"
     ]
    },
    {
     "name": "stderr",
     "output_type": "stream",
     "text": [
      "/opt/conda/envs/scvi/lib/python3.9/site-packages/scvi/distributions/_negative_binomial.py:436: UserWarning: The value argument must be within the support of the distribution\n",
      "  warnings.warn(\n",
      "/opt/conda/envs/scvi/lib/python3.9/site-packages/scvi/distributions/_negative_binomial.py:436: UserWarning: The value argument must be within the support of the distribution\n",
      "  warnings.warn(\n"
     ]
    },
    {
     "name": "stdout",
     "output_type": "stream",
     "text": [
      "Epoch 19/100:  18%|█▊        | 18/100 [11:14<50:33, 36.99s/it, loss=561, v_num=1]"
     ]
    },
    {
     "name": "stderr",
     "output_type": "stream",
     "text": [
      "/opt/conda/envs/scvi/lib/python3.9/site-packages/scvi/distributions/_negative_binomial.py:436: UserWarning: The value argument must be within the support of the distribution\n",
      "  warnings.warn(\n",
      "/opt/conda/envs/scvi/lib/python3.9/site-packages/scvi/distributions/_negative_binomial.py:436: UserWarning: The value argument must be within the support of the distribution\n",
      "  warnings.warn(\n"
     ]
    },
    {
     "name": "stdout",
     "output_type": "stream",
     "text": [
      "Epoch 20/100:  19%|█▉        | 19/100 [11:50<49:42, 36.82s/it, loss=574, v_num=1]"
     ]
    },
    {
     "name": "stderr",
     "output_type": "stream",
     "text": [
      "/opt/conda/envs/scvi/lib/python3.9/site-packages/scvi/distributions/_negative_binomial.py:436: UserWarning: The value argument must be within the support of the distribution\n",
      "  warnings.warn(\n",
      "/opt/conda/envs/scvi/lib/python3.9/site-packages/scvi/distributions/_negative_binomial.py:436: UserWarning: The value argument must be within the support of the distribution\n",
      "  warnings.warn(\n"
     ]
    },
    {
     "name": "stdout",
     "output_type": "stream",
     "text": [
      "Epoch 21/100:  20%|██        | 20/100 [12:30<50:15, 37.69s/it, loss=568, v_num=1]"
     ]
    },
    {
     "name": "stderr",
     "output_type": "stream",
     "text": [
      "/opt/conda/envs/scvi/lib/python3.9/site-packages/scvi/distributions/_negative_binomial.py:436: UserWarning: The value argument must be within the support of the distribution\n",
      "  warnings.warn(\n",
      "/opt/conda/envs/scvi/lib/python3.9/site-packages/scvi/distributions/_negative_binomial.py:436: UserWarning: The value argument must be within the support of the distribution\n",
      "  warnings.warn(\n"
     ]
    },
    {
     "name": "stdout",
     "output_type": "stream",
     "text": [
      "Epoch 22/100:  21%|██        | 21/100 [13:06<49:10, 37.35s/it, loss=571, v_num=1]"
     ]
    },
    {
     "name": "stderr",
     "output_type": "stream",
     "text": [
      "/opt/conda/envs/scvi/lib/python3.9/site-packages/scvi/distributions/_negative_binomial.py:436: UserWarning: The value argument must be within the support of the distribution\n",
      "  warnings.warn(\n",
      "/opt/conda/envs/scvi/lib/python3.9/site-packages/scvi/distributions/_negative_binomial.py:436: UserWarning: The value argument must be within the support of the distribution\n",
      "  warnings.warn(\n"
     ]
    },
    {
     "name": "stdout",
     "output_type": "stream",
     "text": [
      "Epoch 23/100:  22%|██▏       | 22/100 [13:44<48:35, 37.38s/it, loss=568, v_num=1]"
     ]
    },
    {
     "name": "stderr",
     "output_type": "stream",
     "text": [
      "/opt/conda/envs/scvi/lib/python3.9/site-packages/scvi/distributions/_negative_binomial.py:436: UserWarning: The value argument must be within the support of the distribution\n",
      "  warnings.warn(\n",
      "/opt/conda/envs/scvi/lib/python3.9/site-packages/scvi/distributions/_negative_binomial.py:436: UserWarning: The value argument must be within the support of the distribution\n",
      "  warnings.warn(\n"
     ]
    },
    {
     "name": "stdout",
     "output_type": "stream",
     "text": [
      "Epoch 24/100:  23%|██▎       | 23/100 [14:21<47:50, 37.28s/it, loss=566, v_num=1]"
     ]
    },
    {
     "name": "stderr",
     "output_type": "stream",
     "text": [
      "/opt/conda/envs/scvi/lib/python3.9/site-packages/scvi/distributions/_negative_binomial.py:436: UserWarning: The value argument must be within the support of the distribution\n",
      "  warnings.warn(\n",
      "/opt/conda/envs/scvi/lib/python3.9/site-packages/scvi/distributions/_negative_binomial.py:436: UserWarning: The value argument must be within the support of the distribution\n",
      "  warnings.warn(\n"
     ]
    },
    {
     "name": "stdout",
     "output_type": "stream",
     "text": [
      "Epoch 25/100:  24%|██▍       | 24/100 [14:57<46:57, 37.07s/it, loss=575, v_num=1]"
     ]
    },
    {
     "name": "stderr",
     "output_type": "stream",
     "text": [
      "/opt/conda/envs/scvi/lib/python3.9/site-packages/scvi/distributions/_negative_binomial.py:436: UserWarning: The value argument must be within the support of the distribution\n",
      "  warnings.warn(\n",
      "/opt/conda/envs/scvi/lib/python3.9/site-packages/scvi/distributions/_negative_binomial.py:436: UserWarning: The value argument must be within the support of the distribution\n",
      "  warnings.warn(\n"
     ]
    },
    {
     "name": "stdout",
     "output_type": "stream",
     "text": [
      "Epoch 26/100:  25%|██▌       | 25/100 [15:34<46:17, 37.04s/it, loss=557, v_num=1]"
     ]
    },
    {
     "name": "stderr",
     "output_type": "stream",
     "text": [
      "/opt/conda/envs/scvi/lib/python3.9/site-packages/scvi/distributions/_negative_binomial.py:436: UserWarning: The value argument must be within the support of the distribution\n",
      "  warnings.warn(\n",
      "/opt/conda/envs/scvi/lib/python3.9/site-packages/scvi/distributions/_negative_binomial.py:436: UserWarning: The value argument must be within the support of the distribution\n",
      "  warnings.warn(\n"
     ]
    },
    {
     "name": "stdout",
     "output_type": "stream",
     "text": [
      "Epoch 27/100:  26%|██▌       | 26/100 [16:11<45:34, 36.95s/it, loss=570, v_num=1]"
     ]
    },
    {
     "name": "stderr",
     "output_type": "stream",
     "text": [
      "/opt/conda/envs/scvi/lib/python3.9/site-packages/scvi/distributions/_negative_binomial.py:436: UserWarning: The value argument must be within the support of the distribution\n",
      "  warnings.warn(\n",
      "/opt/conda/envs/scvi/lib/python3.9/site-packages/scvi/distributions/_negative_binomial.py:436: UserWarning: The value argument must be within the support of the distribution\n",
      "  warnings.warn(\n"
     ]
    },
    {
     "name": "stdout",
     "output_type": "stream",
     "text": [
      "Epoch 28/100:  27%|██▋       | 27/100 [16:47<44:41, 36.73s/it, loss=570, v_num=1]"
     ]
    },
    {
     "name": "stderr",
     "output_type": "stream",
     "text": [
      "/opt/conda/envs/scvi/lib/python3.9/site-packages/scvi/distributions/_negative_binomial.py:436: UserWarning: The value argument must be within the support of the distribution\n",
      "  warnings.warn(\n",
      "/opt/conda/envs/scvi/lib/python3.9/site-packages/scvi/distributions/_negative_binomial.py:436: UserWarning: The value argument must be within the support of the distribution\n",
      "  warnings.warn(\n"
     ]
    },
    {
     "name": "stdout",
     "output_type": "stream",
     "text": [
      "Epoch 29/100:  28%|██▊       | 28/100 [17:24<44:04, 36.73s/it, loss=564, v_num=1]"
     ]
    },
    {
     "name": "stderr",
     "output_type": "stream",
     "text": [
      "/opt/conda/envs/scvi/lib/python3.9/site-packages/scvi/distributions/_negative_binomial.py:436: UserWarning: The value argument must be within the support of the distribution\n",
      "  warnings.warn(\n",
      "/opt/conda/envs/scvi/lib/python3.9/site-packages/scvi/distributions/_negative_binomial.py:436: UserWarning: The value argument must be within the support of the distribution\n",
      "  warnings.warn(\n"
     ]
    },
    {
     "name": "stdout",
     "output_type": "stream",
     "text": [
      "Epoch 30/100:  29%|██▉       | 29/100 [18:00<43:17, 36.58s/it, loss=565, v_num=1]"
     ]
    },
    {
     "name": "stderr",
     "output_type": "stream",
     "text": [
      "/opt/conda/envs/scvi/lib/python3.9/site-packages/scvi/distributions/_negative_binomial.py:436: UserWarning: The value argument must be within the support of the distribution\n",
      "  warnings.warn(\n",
      "/opt/conda/envs/scvi/lib/python3.9/site-packages/scvi/distributions/_negative_binomial.py:436: UserWarning: The value argument must be within the support of the distribution\n",
      "  warnings.warn(\n"
     ]
    },
    {
     "name": "stdout",
     "output_type": "stream",
     "text": [
      "Epoch 31/100:  30%|███       | 30/100 [18:40<43:42, 37.46s/it, loss=571, v_num=1]"
     ]
    },
    {
     "name": "stderr",
     "output_type": "stream",
     "text": [
      "/opt/conda/envs/scvi/lib/python3.9/site-packages/scvi/distributions/_negative_binomial.py:436: UserWarning: The value argument must be within the support of the distribution\n",
      "  warnings.warn(\n",
      "/opt/conda/envs/scvi/lib/python3.9/site-packages/scvi/distributions/_negative_binomial.py:436: UserWarning: The value argument must be within the support of the distribution\n",
      "  warnings.warn(\n"
     ]
    },
    {
     "name": "stdout",
     "output_type": "stream",
     "text": [
      "Epoch 32/100:  31%|███       | 31/100 [19:17<42:55, 37.32s/it, loss=564, v_num=1]"
     ]
    },
    {
     "name": "stderr",
     "output_type": "stream",
     "text": [
      "/opt/conda/envs/scvi/lib/python3.9/site-packages/scvi/distributions/_negative_binomial.py:436: UserWarning: The value argument must be within the support of the distribution\n",
      "  warnings.warn(\n",
      "/opt/conda/envs/scvi/lib/python3.9/site-packages/scvi/distributions/_negative_binomial.py:436: UserWarning: The value argument must be within the support of the distribution\n",
      "  warnings.warn(\n"
     ]
    },
    {
     "name": "stdout",
     "output_type": "stream",
     "text": [
      "Epoch 33/100:  32%|███▏      | 32/100 [19:54<42:06, 37.15s/it, loss=564, v_num=1]"
     ]
    },
    {
     "name": "stderr",
     "output_type": "stream",
     "text": [
      "/opt/conda/envs/scvi/lib/python3.9/site-packages/scvi/distributions/_negative_binomial.py:436: UserWarning: The value argument must be within the support of the distribution\n",
      "  warnings.warn(\n",
      "/opt/conda/envs/scvi/lib/python3.9/site-packages/scvi/distributions/_negative_binomial.py:436: UserWarning: The value argument must be within the support of the distribution\n",
      "  warnings.warn(\n"
     ]
    },
    {
     "name": "stdout",
     "output_type": "stream",
     "text": [
      "Epoch 34/100:  33%|███▎      | 33/100 [20:31<41:31, 37.19s/it, loss=568, v_num=1]"
     ]
    },
    {
     "name": "stderr",
     "output_type": "stream",
     "text": [
      "/opt/conda/envs/scvi/lib/python3.9/site-packages/scvi/distributions/_negative_binomial.py:436: UserWarning: The value argument must be within the support of the distribution\n",
      "  warnings.warn(\n",
      "/opt/conda/envs/scvi/lib/python3.9/site-packages/scvi/distributions/_negative_binomial.py:436: UserWarning: The value argument must be within the support of the distribution\n",
      "  warnings.warn(\n"
     ]
    },
    {
     "name": "stdout",
     "output_type": "stream",
     "text": [
      "Epoch 35/100:  34%|███▍      | 34/100 [21:07<40:40, 36.97s/it, loss=565, v_num=1]"
     ]
    },
    {
     "name": "stderr",
     "output_type": "stream",
     "text": [
      "/opt/conda/envs/scvi/lib/python3.9/site-packages/scvi/distributions/_negative_binomial.py:436: UserWarning: The value argument must be within the support of the distribution\n",
      "  warnings.warn(\n",
      "/opt/conda/envs/scvi/lib/python3.9/site-packages/scvi/distributions/_negative_binomial.py:436: UserWarning: The value argument must be within the support of the distribution\n",
      "  warnings.warn(\n"
     ]
    },
    {
     "name": "stdout",
     "output_type": "stream",
     "text": [
      "Epoch 36/100:  35%|███▌      | 35/100 [21:44<39:56, 36.87s/it, loss=575, v_num=1]"
     ]
    },
    {
     "name": "stderr",
     "output_type": "stream",
     "text": [
      "/opt/conda/envs/scvi/lib/python3.9/site-packages/scvi/distributions/_negative_binomial.py:436: UserWarning: The value argument must be within the support of the distribution\n",
      "  warnings.warn(\n",
      "/opt/conda/envs/scvi/lib/python3.9/site-packages/scvi/distributions/_negative_binomial.py:436: UserWarning: The value argument must be within the support of the distribution\n",
      "  warnings.warn(\n"
     ]
    },
    {
     "name": "stdout",
     "output_type": "stream",
     "text": [
      "Epoch 37/100:  36%|███▌      | 36/100 [22:21<39:17, 36.84s/it, loss=568, v_num=1]"
     ]
    },
    {
     "name": "stderr",
     "output_type": "stream",
     "text": [
      "/opt/conda/envs/scvi/lib/python3.9/site-packages/scvi/distributions/_negative_binomial.py:436: UserWarning: The value argument must be within the support of the distribution\n",
      "  warnings.warn(\n",
      "/opt/conda/envs/scvi/lib/python3.9/site-packages/scvi/distributions/_negative_binomial.py:436: UserWarning: The value argument must be within the support of the distribution\n",
      "  warnings.warn(\n"
     ]
    },
    {
     "name": "stdout",
     "output_type": "stream",
     "text": [
      "Epoch 38/100:  37%|███▋      | 37/100 [22:57<38:34, 36.73s/it, loss=564, v_num=1]"
     ]
    },
    {
     "name": "stderr",
     "output_type": "stream",
     "text": [
      "/opt/conda/envs/scvi/lib/python3.9/site-packages/scvi/distributions/_negative_binomial.py:436: UserWarning: The value argument must be within the support of the distribution\n",
      "  warnings.warn(\n",
      "/opt/conda/envs/scvi/lib/python3.9/site-packages/scvi/distributions/_negative_binomial.py:436: UserWarning: The value argument must be within the support of the distribution\n",
      "  warnings.warn(\n"
     ]
    },
    {
     "name": "stdout",
     "output_type": "stream",
     "text": [
      "Epoch 39/100:  38%|███▊      | 38/100 [23:34<38:06, 36.87s/it, loss=579, v_num=1]"
     ]
    },
    {
     "name": "stderr",
     "output_type": "stream",
     "text": [
      "/opt/conda/envs/scvi/lib/python3.9/site-packages/scvi/distributions/_negative_binomial.py:436: UserWarning: The value argument must be within the support of the distribution\n",
      "  warnings.warn(\n",
      "/opt/conda/envs/scvi/lib/python3.9/site-packages/scvi/distributions/_negative_binomial.py:436: UserWarning: The value argument must be within the support of the distribution\n",
      "  warnings.warn(\n"
     ]
    },
    {
     "name": "stdout",
     "output_type": "stream",
     "text": [
      "Epoch 40/100:  39%|███▉      | 39/100 [24:12<37:33, 36.95s/it, loss=564, v_num=1]"
     ]
    },
    {
     "name": "stderr",
     "output_type": "stream",
     "text": [
      "/opt/conda/envs/scvi/lib/python3.9/site-packages/scvi/distributions/_negative_binomial.py:436: UserWarning: The value argument must be within the support of the distribution\n",
      "  warnings.warn(\n",
      "/opt/conda/envs/scvi/lib/python3.9/site-packages/scvi/distributions/_negative_binomial.py:436: UserWarning: The value argument must be within the support of the distribution\n",
      "  warnings.warn(\n"
     ]
    },
    {
     "name": "stdout",
     "output_type": "stream",
     "text": [
      "Epoch 41/100:  40%|████      | 40/100 [24:50<37:32, 37.54s/it, loss=570, v_num=1]"
     ]
    },
    {
     "name": "stderr",
     "output_type": "stream",
     "text": [
      "/opt/conda/envs/scvi/lib/python3.9/site-packages/scvi/distributions/_negative_binomial.py:436: UserWarning: The value argument must be within the support of the distribution\n",
      "  warnings.warn(\n",
      "/opt/conda/envs/scvi/lib/python3.9/site-packages/scvi/distributions/_negative_binomial.py:436: UserWarning: The value argument must be within the support of the distribution\n",
      "  warnings.warn(\n"
     ]
    },
    {
     "name": "stdout",
     "output_type": "stream",
     "text": [
      "Epoch 42/100:  41%|████      | 41/100 [25:27<36:42, 37.33s/it, loss=569, v_num=1]"
     ]
    },
    {
     "name": "stderr",
     "output_type": "stream",
     "text": [
      "/opt/conda/envs/scvi/lib/python3.9/site-packages/scvi/distributions/_negative_binomial.py:436: UserWarning: The value argument must be within the support of the distribution\n",
      "  warnings.warn(\n",
      "/opt/conda/envs/scvi/lib/python3.9/site-packages/scvi/distributions/_negative_binomial.py:436: UserWarning: The value argument must be within the support of the distribution\n",
      "  warnings.warn(\n"
     ]
    },
    {
     "name": "stdout",
     "output_type": "stream",
     "text": [
      "Epoch 43/100:  42%|████▏     | 42/100 [26:04<35:48, 37.04s/it, loss=580, v_num=1]"
     ]
    },
    {
     "name": "stderr",
     "output_type": "stream",
     "text": [
      "/opt/conda/envs/scvi/lib/python3.9/site-packages/scvi/distributions/_negative_binomial.py:436: UserWarning: The value argument must be within the support of the distribution\n",
      "  warnings.warn(\n",
      "/opt/conda/envs/scvi/lib/python3.9/site-packages/scvi/distributions/_negative_binomial.py:436: UserWarning: The value argument must be within the support of the distribution\n",
      "  warnings.warn(\n"
     ]
    },
    {
     "name": "stdout",
     "output_type": "stream",
     "text": [
      "Epoch 44/100:  43%|████▎     | 43/100 [26:40<35:06, 36.96s/it, loss=566, v_num=1]"
     ]
    },
    {
     "name": "stderr",
     "output_type": "stream",
     "text": [
      "/opt/conda/envs/scvi/lib/python3.9/site-packages/scvi/distributions/_negative_binomial.py:436: UserWarning: The value argument must be within the support of the distribution\n",
      "  warnings.warn(\n",
      "/opt/conda/envs/scvi/lib/python3.9/site-packages/scvi/distributions/_negative_binomial.py:436: UserWarning: The value argument must be within the support of the distribution\n",
      "  warnings.warn(\n"
     ]
    },
    {
     "name": "stdout",
     "output_type": "stream",
     "text": [
      "Epoch 45/100:  44%|████▍     | 44/100 [27:17<34:25, 36.89s/it, loss=574, v_num=1]"
     ]
    },
    {
     "name": "stderr",
     "output_type": "stream",
     "text": [
      "/opt/conda/envs/scvi/lib/python3.9/site-packages/scvi/distributions/_negative_binomial.py:436: UserWarning: The value argument must be within the support of the distribution\n",
      "  warnings.warn(\n",
      "/opt/conda/envs/scvi/lib/python3.9/site-packages/scvi/distributions/_negative_binomial.py:436: UserWarning: The value argument must be within the support of the distribution\n",
      "  warnings.warn(\n"
     ]
    },
    {
     "name": "stdout",
     "output_type": "stream",
     "text": [
      "Epoch 46/100:  45%|████▌     | 45/100 [27:54<33:41, 36.75s/it, loss=562, v_num=1]"
     ]
    },
    {
     "name": "stderr",
     "output_type": "stream",
     "text": [
      "/opt/conda/envs/scvi/lib/python3.9/site-packages/scvi/distributions/_negative_binomial.py:436: UserWarning: The value argument must be within the support of the distribution\n",
      "  warnings.warn(\n",
      "/opt/conda/envs/scvi/lib/python3.9/site-packages/scvi/distributions/_negative_binomial.py:436: UserWarning: The value argument must be within the support of the distribution\n",
      "  warnings.warn(\n"
     ]
    },
    {
     "name": "stdout",
     "output_type": "stream",
     "text": [
      "Epoch 47/100:  46%|████▌     | 46/100 [28:31<33:07, 36.81s/it, loss=572, v_num=1]"
     ]
    },
    {
     "name": "stderr",
     "output_type": "stream",
     "text": [
      "/opt/conda/envs/scvi/lib/python3.9/site-packages/scvi/distributions/_negative_binomial.py:436: UserWarning: The value argument must be within the support of the distribution\n",
      "  warnings.warn(\n",
      "/opt/conda/envs/scvi/lib/python3.9/site-packages/scvi/distributions/_negative_binomial.py:436: UserWarning: The value argument must be within the support of the distribution\n",
      "  warnings.warn(\n"
     ]
    },
    {
     "name": "stdout",
     "output_type": "stream",
     "text": [
      "Epoch 48/100:  47%|████▋     | 47/100 [29:07<32:19, 36.59s/it, loss=572, v_num=1]"
     ]
    },
    {
     "name": "stderr",
     "output_type": "stream",
     "text": [
      "/opt/conda/envs/scvi/lib/python3.9/site-packages/scvi/distributions/_negative_binomial.py:436: UserWarning: The value argument must be within the support of the distribution\n",
      "  warnings.warn(\n",
      "/opt/conda/envs/scvi/lib/python3.9/site-packages/scvi/distributions/_negative_binomial.py:436: UserWarning: The value argument must be within the support of the distribution\n",
      "  warnings.warn(\n"
     ]
    },
    {
     "name": "stdout",
     "output_type": "stream",
     "text": [
      "Epoch 49/100:  48%|████▊     | 48/100 [29:43<31:41, 36.57s/it, loss=576, v_num=1]"
     ]
    },
    {
     "name": "stderr",
     "output_type": "stream",
     "text": [
      "/opt/conda/envs/scvi/lib/python3.9/site-packages/scvi/distributions/_negative_binomial.py:436: UserWarning: The value argument must be within the support of the distribution\n",
      "  warnings.warn(\n",
      "/opt/conda/envs/scvi/lib/python3.9/site-packages/scvi/distributions/_negative_binomial.py:436: UserWarning: The value argument must be within the support of the distribution\n",
      "  warnings.warn(\n"
     ]
    },
    {
     "name": "stdout",
     "output_type": "stream",
     "text": [
      "Epoch 50/100:  49%|████▉     | 49/100 [30:20<31:10, 36.68s/it, loss=563, v_num=1]"
     ]
    },
    {
     "name": "stderr",
     "output_type": "stream",
     "text": [
      "/opt/conda/envs/scvi/lib/python3.9/site-packages/scvi/distributions/_negative_binomial.py:436: UserWarning: The value argument must be within the support of the distribution\n",
      "  warnings.warn(\n",
      "/opt/conda/envs/scvi/lib/python3.9/site-packages/scvi/distributions/_negative_binomial.py:436: UserWarning: The value argument must be within the support of the distribution\n",
      "  warnings.warn(\n"
     ]
    },
    {
     "name": "stdout",
     "output_type": "stream",
     "text": [
      "Epoch 51/100:  50%|█████     | 50/100 [30:59<31:06, 37.33s/it, loss=565, v_num=1]"
     ]
    },
    {
     "name": "stderr",
     "output_type": "stream",
     "text": [
      "/opt/conda/envs/scvi/lib/python3.9/site-packages/scvi/distributions/_negative_binomial.py:436: UserWarning: The value argument must be within the support of the distribution\n",
      "  warnings.warn(\n",
      "/opt/conda/envs/scvi/lib/python3.9/site-packages/scvi/distributions/_negative_binomial.py:436: UserWarning: The value argument must be within the support of the distribution\n",
      "  warnings.warn(\n"
     ]
    },
    {
     "name": "stdout",
     "output_type": "stream",
     "text": [
      "Epoch 52/100:  51%|█████     | 51/100 [31:36<30:20, 37.16s/it, loss=562, v_num=1]"
     ]
    },
    {
     "name": "stderr",
     "output_type": "stream",
     "text": [
      "/opt/conda/envs/scvi/lib/python3.9/site-packages/scvi/distributions/_negative_binomial.py:436: UserWarning: The value argument must be within the support of the distribution\n",
      "  warnings.warn(\n",
      "/opt/conda/envs/scvi/lib/python3.9/site-packages/scvi/distributions/_negative_binomial.py:436: UserWarning: The value argument must be within the support of the distribution\n",
      "  warnings.warn(\n"
     ]
    },
    {
     "name": "stdout",
     "output_type": "stream",
     "text": [
      "Epoch 53/100:  52%|█████▏    | 52/100 [32:12<29:33, 36.95s/it, loss=573, v_num=1]"
     ]
    },
    {
     "name": "stderr",
     "output_type": "stream",
     "text": [
      "/opt/conda/envs/scvi/lib/python3.9/site-packages/scvi/distributions/_negative_binomial.py:436: UserWarning: The value argument must be within the support of the distribution\n",
      "  warnings.warn(\n",
      "/opt/conda/envs/scvi/lib/python3.9/site-packages/scvi/distributions/_negative_binomial.py:436: UserWarning: The value argument must be within the support of the distribution\n",
      "  warnings.warn(\n"
     ]
    },
    {
     "name": "stdout",
     "output_type": "stream",
     "text": [
      "Epoch 54/100:  53%|█████▎    | 53/100 [32:48<28:47, 36.76s/it, loss=572, v_num=1]"
     ]
    },
    {
     "name": "stderr",
     "output_type": "stream",
     "text": [
      "/opt/conda/envs/scvi/lib/python3.9/site-packages/scvi/distributions/_negative_binomial.py:436: UserWarning: The value argument must be within the support of the distribution\n",
      "  warnings.warn(\n",
      "/opt/conda/envs/scvi/lib/python3.9/site-packages/scvi/distributions/_negative_binomial.py:436: UserWarning: The value argument must be within the support of the distribution\n",
      "  warnings.warn(\n"
     ]
    },
    {
     "name": "stdout",
     "output_type": "stream",
     "text": [
      "Epoch 55/100:  54%|█████▍    | 54/100 [33:25<28:08, 36.70s/it, loss=567, v_num=1]"
     ]
    },
    {
     "name": "stderr",
     "output_type": "stream",
     "text": [
      "/opt/conda/envs/scvi/lib/python3.9/site-packages/scvi/distributions/_negative_binomial.py:436: UserWarning: The value argument must be within the support of the distribution\n",
      "  warnings.warn(\n",
      "/opt/conda/envs/scvi/lib/python3.9/site-packages/scvi/distributions/_negative_binomial.py:436: UserWarning: The value argument must be within the support of the distribution\n",
      "  warnings.warn(\n"
     ]
    },
    {
     "name": "stdout",
     "output_type": "stream",
     "text": [
      "Epoch 56/100:  55%|█████▌    | 55/100 [34:01<27:22, 36.51s/it, loss=570, v_num=1]"
     ]
    },
    {
     "name": "stderr",
     "output_type": "stream",
     "text": [
      "/opt/conda/envs/scvi/lib/python3.9/site-packages/scvi/distributions/_negative_binomial.py:436: UserWarning: The value argument must be within the support of the distribution\n",
      "  warnings.warn(\n",
      "/opt/conda/envs/scvi/lib/python3.9/site-packages/scvi/distributions/_negative_binomial.py:436: UserWarning: The value argument must be within the support of the distribution\n",
      "  warnings.warn(\n"
     ]
    },
    {
     "name": "stdout",
     "output_type": "stream",
     "text": [
      "Epoch 57/100:  56%|█████▌    | 56/100 [34:38<26:46, 36.50s/it, loss=561, v_num=1]"
     ]
    },
    {
     "name": "stderr",
     "output_type": "stream",
     "text": [
      "/opt/conda/envs/scvi/lib/python3.9/site-packages/scvi/distributions/_negative_binomial.py:436: UserWarning: The value argument must be within the support of the distribution\n",
      "  warnings.warn(\n",
      "/opt/conda/envs/scvi/lib/python3.9/site-packages/scvi/distributions/_negative_binomial.py:436: UserWarning: The value argument must be within the support of the distribution\n",
      "  warnings.warn(\n"
     ]
    },
    {
     "name": "stdout",
     "output_type": "stream",
     "text": [
      "Epoch 58/100:  57%|█████▋    | 57/100 [35:14<26:09, 36.51s/it, loss=571, v_num=1]"
     ]
    },
    {
     "name": "stderr",
     "output_type": "stream",
     "text": [
      "/opt/conda/envs/scvi/lib/python3.9/site-packages/scvi/distributions/_negative_binomial.py:436: UserWarning: The value argument must be within the support of the distribution\n",
      "  warnings.warn(\n",
      "/opt/conda/envs/scvi/lib/python3.9/site-packages/scvi/distributions/_negative_binomial.py:436: UserWarning: The value argument must be within the support of the distribution\n",
      "  warnings.warn(\n"
     ]
    },
    {
     "name": "stdout",
     "output_type": "stream",
     "text": [
      "Epoch 59/100:  58%|█████▊    | 58/100 [35:50<25:28, 36.39s/it, loss=573, v_num=1]"
     ]
    },
    {
     "name": "stderr",
     "output_type": "stream",
     "text": [
      "/opt/conda/envs/scvi/lib/python3.9/site-packages/scvi/distributions/_negative_binomial.py:436: UserWarning: The value argument must be within the support of the distribution\n",
      "  warnings.warn(\n",
      "/opt/conda/envs/scvi/lib/python3.9/site-packages/scvi/distributions/_negative_binomial.py:436: UserWarning: The value argument must be within the support of the distribution\n",
      "  warnings.warn(\n"
     ]
    },
    {
     "name": "stdout",
     "output_type": "stream",
     "text": [
      "Epoch 60/100:  59%|█████▉    | 59/100 [36:27<24:54, 36.46s/it, loss=573, v_num=1]"
     ]
    },
    {
     "name": "stderr",
     "output_type": "stream",
     "text": [
      "/opt/conda/envs/scvi/lib/python3.9/site-packages/scvi/distributions/_negative_binomial.py:436: UserWarning: The value argument must be within the support of the distribution\n",
      "  warnings.warn(\n",
      "/opt/conda/envs/scvi/lib/python3.9/site-packages/scvi/distributions/_negative_binomial.py:436: UserWarning: The value argument must be within the support of the distribution\n",
      "  warnings.warn(\n"
     ]
    },
    {
     "name": "stdout",
     "output_type": "stream",
     "text": [
      "Epoch 61/100:  60%|██████    | 60/100 [37:05<24:43, 37.09s/it, loss=571, v_num=1]"
     ]
    },
    {
     "name": "stderr",
     "output_type": "stream",
     "text": [
      "/opt/conda/envs/scvi/lib/python3.9/site-packages/scvi/distributions/_negative_binomial.py:436: UserWarning: The value argument must be within the support of the distribution\n",
      "  warnings.warn(\n",
      "/opt/conda/envs/scvi/lib/python3.9/site-packages/scvi/distributions/_negative_binomial.py:436: UserWarning: The value argument must be within the support of the distribution\n",
      "  warnings.warn(\n"
     ]
    },
    {
     "name": "stdout",
     "output_type": "stream",
     "text": [
      "Epoch 62/100:  61%|██████    | 61/100 [37:42<24:02, 36.98s/it, loss=563, v_num=1]"
     ]
    },
    {
     "name": "stderr",
     "output_type": "stream",
     "text": [
      "/opt/conda/envs/scvi/lib/python3.9/site-packages/scvi/distributions/_negative_binomial.py:436: UserWarning: The value argument must be within the support of the distribution\n",
      "  warnings.warn(\n",
      "/opt/conda/envs/scvi/lib/python3.9/site-packages/scvi/distributions/_negative_binomial.py:436: UserWarning: The value argument must be within the support of the distribution\n",
      "  warnings.warn(\n"
     ]
    },
    {
     "name": "stdout",
     "output_type": "stream",
     "text": [
      "Epoch 63/100:  62%|██████▏   | 62/100 [38:19<23:21, 36.88s/it, loss=575, v_num=1]"
     ]
    },
    {
     "name": "stderr",
     "output_type": "stream",
     "text": [
      "/opt/conda/envs/scvi/lib/python3.9/site-packages/scvi/distributions/_negative_binomial.py:436: UserWarning: The value argument must be within the support of the distribution\n",
      "  warnings.warn(\n",
      "/opt/conda/envs/scvi/lib/python3.9/site-packages/scvi/distributions/_negative_binomial.py:436: UserWarning: The value argument must be within the support of the distribution\n",
      "  warnings.warn(\n"
     ]
    },
    {
     "name": "stdout",
     "output_type": "stream",
     "text": [
      "Epoch 64/100:  63%|██████▎   | 63/100 [38:54<22:30, 36.49s/it, loss=563, v_num=1]"
     ]
    },
    {
     "name": "stderr",
     "output_type": "stream",
     "text": [
      "/opt/conda/envs/scvi/lib/python3.9/site-packages/scvi/distributions/_negative_binomial.py:436: UserWarning: The value argument must be within the support of the distribution\n",
      "  warnings.warn(\n",
      "/opt/conda/envs/scvi/lib/python3.9/site-packages/scvi/distributions/_negative_binomial.py:436: UserWarning: The value argument must be within the support of the distribution\n",
      "  warnings.warn(\n"
     ]
    },
    {
     "name": "stdout",
     "output_type": "stream",
     "text": [
      "Epoch 65/100:  64%|██████▍   | 64/100 [39:31<21:51, 36.43s/it, loss=575, v_num=1]"
     ]
    },
    {
     "name": "stderr",
     "output_type": "stream",
     "text": [
      "/opt/conda/envs/scvi/lib/python3.9/site-packages/scvi/distributions/_negative_binomial.py:436: UserWarning: The value argument must be within the support of the distribution\n",
      "  warnings.warn(\n",
      "/opt/conda/envs/scvi/lib/python3.9/site-packages/scvi/distributions/_negative_binomial.py:436: UserWarning: The value argument must be within the support of the distribution\n",
      "  warnings.warn(\n"
     ]
    },
    {
     "name": "stdout",
     "output_type": "stream",
     "text": [
      "Epoch 66/100:  65%|██████▌   | 65/100 [40:06<21:07, 36.21s/it, loss=578, v_num=1]"
     ]
    },
    {
     "name": "stderr",
     "output_type": "stream",
     "text": [
      "/opt/conda/envs/scvi/lib/python3.9/site-packages/scvi/distributions/_negative_binomial.py:436: UserWarning: The value argument must be within the support of the distribution\n",
      "  warnings.warn(\n",
      "/opt/conda/envs/scvi/lib/python3.9/site-packages/scvi/distributions/_negative_binomial.py:436: UserWarning: The value argument must be within the support of the distribution\n",
      "  warnings.warn(\n"
     ]
    },
    {
     "name": "stdout",
     "output_type": "stream",
     "text": [
      "Epoch 67/100:  66%|██████▌   | 66/100 [40:43<20:32, 36.24s/it, loss=575, v_num=1]"
     ]
    },
    {
     "name": "stderr",
     "output_type": "stream",
     "text": [
      "/opt/conda/envs/scvi/lib/python3.9/site-packages/scvi/distributions/_negative_binomial.py:436: UserWarning: The value argument must be within the support of the distribution\n",
      "  warnings.warn(\n",
      "/opt/conda/envs/scvi/lib/python3.9/site-packages/scvi/distributions/_negative_binomial.py:436: UserWarning: The value argument must be within the support of the distribution\n",
      "  warnings.warn(\n"
     ]
    },
    {
     "name": "stdout",
     "output_type": "stream",
     "text": [
      "Epoch 68/100:  67%|██████▋   | 67/100 [41:19<19:55, 36.24s/it, loss=584, v_num=1]"
     ]
    },
    {
     "name": "stderr",
     "output_type": "stream",
     "text": [
      "/opt/conda/envs/scvi/lib/python3.9/site-packages/scvi/distributions/_negative_binomial.py:436: UserWarning: The value argument must be within the support of the distribution\n",
      "  warnings.warn(\n",
      "/opt/conda/envs/scvi/lib/python3.9/site-packages/scvi/distributions/_negative_binomial.py:436: UserWarning: The value argument must be within the support of the distribution\n",
      "  warnings.warn(\n"
     ]
    },
    {
     "name": "stdout",
     "output_type": "stream",
     "text": [
      "Epoch 69/100:  68%|██████▊   | 68/100 [41:55<19:19, 36.23s/it, loss=577, v_num=1]"
     ]
    },
    {
     "name": "stderr",
     "output_type": "stream",
     "text": [
      "/opt/conda/envs/scvi/lib/python3.9/site-packages/scvi/distributions/_negative_binomial.py:436: UserWarning: The value argument must be within the support of the distribution\n",
      "  warnings.warn(\n",
      "/opt/conda/envs/scvi/lib/python3.9/site-packages/scvi/distributions/_negative_binomial.py:436: UserWarning: The value argument must be within the support of the distribution\n",
      "  warnings.warn(\n"
     ]
    },
    {
     "name": "stdout",
     "output_type": "stream",
     "text": [
      "Epoch 70/100:  69%|██████▉   | 69/100 [42:32<18:45, 36.31s/it, loss=584, v_num=1]"
     ]
    },
    {
     "name": "stderr",
     "output_type": "stream",
     "text": [
      "/opt/conda/envs/scvi/lib/python3.9/site-packages/scvi/distributions/_negative_binomial.py:436: UserWarning: The value argument must be within the support of the distribution\n",
      "  warnings.warn(\n",
      "/opt/conda/envs/scvi/lib/python3.9/site-packages/scvi/distributions/_negative_binomial.py:436: UserWarning: The value argument must be within the support of the distribution\n",
      "  warnings.warn(\n"
     ]
    },
    {
     "name": "stdout",
     "output_type": "stream",
     "text": [
      "Epoch 71/100:  70%|███████   | 70/100 [43:10<18:31, 37.05s/it, loss=571, v_num=1]"
     ]
    },
    {
     "name": "stderr",
     "output_type": "stream",
     "text": [
      "/opt/conda/envs/scvi/lib/python3.9/site-packages/scvi/distributions/_negative_binomial.py:436: UserWarning: The value argument must be within the support of the distribution\n",
      "  warnings.warn(\n",
      "/opt/conda/envs/scvi/lib/python3.9/site-packages/scvi/distributions/_negative_binomial.py:436: UserWarning: The value argument must be within the support of the distribution\n",
      "  warnings.warn(\n"
     ]
    },
    {
     "name": "stdout",
     "output_type": "stream",
     "text": [
      "Epoch 72/100:  71%|███████   | 71/100 [43:47<17:53, 37.02s/it, loss=576, v_num=1]"
     ]
    },
    {
     "name": "stderr",
     "output_type": "stream",
     "text": [
      "/opt/conda/envs/scvi/lib/python3.9/site-packages/scvi/distributions/_negative_binomial.py:436: UserWarning: The value argument must be within the support of the distribution\n",
      "  warnings.warn(\n",
      "/opt/conda/envs/scvi/lib/python3.9/site-packages/scvi/distributions/_negative_binomial.py:436: UserWarning: The value argument must be within the support of the distribution\n",
      "  warnings.warn(\n"
     ]
    },
    {
     "name": "stdout",
     "output_type": "stream",
     "text": [
      "Epoch 73/100:  72%|███████▏  | 72/100 [44:24<17:14, 36.94s/it, loss=569, v_num=1]"
     ]
    },
    {
     "name": "stderr",
     "output_type": "stream",
     "text": [
      "/opt/conda/envs/scvi/lib/python3.9/site-packages/scvi/distributions/_negative_binomial.py:436: UserWarning: The value argument must be within the support of the distribution\n",
      "  warnings.warn(\n",
      "/opt/conda/envs/scvi/lib/python3.9/site-packages/scvi/distributions/_negative_binomial.py:436: UserWarning: The value argument must be within the support of the distribution\n",
      "  warnings.warn(\n"
     ]
    },
    {
     "name": "stdout",
     "output_type": "stream",
     "text": [
      "Epoch 74/100:  73%|███████▎  | 73/100 [45:00<16:30, 36.69s/it, loss=576, v_num=1]"
     ]
    },
    {
     "name": "stderr",
     "output_type": "stream",
     "text": [
      "/opt/conda/envs/scvi/lib/python3.9/site-packages/scvi/distributions/_negative_binomial.py:436: UserWarning: The value argument must be within the support of the distribution\n",
      "  warnings.warn(\n",
      "/opt/conda/envs/scvi/lib/python3.9/site-packages/scvi/distributions/_negative_binomial.py:436: UserWarning: The value argument must be within the support of the distribution\n",
      "  warnings.warn(\n"
     ]
    },
    {
     "name": "stdout",
     "output_type": "stream",
     "text": [
      "Epoch 75/100:  74%|███████▍  | 74/100 [45:37<15:52, 36.62s/it, loss=575, v_num=1]"
     ]
    },
    {
     "name": "stderr",
     "output_type": "stream",
     "text": [
      "/opt/conda/envs/scvi/lib/python3.9/site-packages/scvi/distributions/_negative_binomial.py:436: UserWarning: The value argument must be within the support of the distribution\n",
      "  warnings.warn(\n",
      "/opt/conda/envs/scvi/lib/python3.9/site-packages/scvi/distributions/_negative_binomial.py:436: UserWarning: The value argument must be within the support of the distribution\n",
      "  warnings.warn(\n"
     ]
    },
    {
     "name": "stdout",
     "output_type": "stream",
     "text": [
      "Epoch 76/100:  75%|███████▌  | 75/100 [46:13<15:13, 36.55s/it, loss=583, v_num=1]"
     ]
    },
    {
     "name": "stderr",
     "output_type": "stream",
     "text": [
      "/opt/conda/envs/scvi/lib/python3.9/site-packages/scvi/distributions/_negative_binomial.py:436: UserWarning: The value argument must be within the support of the distribution\n",
      "  warnings.warn(\n",
      "/opt/conda/envs/scvi/lib/python3.9/site-packages/scvi/distributions/_negative_binomial.py:436: UserWarning: The value argument must be within the support of the distribution\n",
      "  warnings.warn(\n"
     ]
    },
    {
     "name": "stdout",
     "output_type": "stream",
     "text": [
      "Epoch 77/100:  76%|███████▌  | 76/100 [46:49<14:32, 36.36s/it, loss=579, v_num=1]"
     ]
    },
    {
     "name": "stderr",
     "output_type": "stream",
     "text": [
      "/opt/conda/envs/scvi/lib/python3.9/site-packages/scvi/distributions/_negative_binomial.py:436: UserWarning: The value argument must be within the support of the distribution\n",
      "  warnings.warn(\n",
      "/opt/conda/envs/scvi/lib/python3.9/site-packages/scvi/distributions/_negative_binomial.py:436: UserWarning: The value argument must be within the support of the distribution\n",
      "  warnings.warn(\n"
     ]
    },
    {
     "name": "stdout",
     "output_type": "stream",
     "text": [
      "Epoch 78/100:  77%|███████▋  | 77/100 [47:25<13:56, 36.37s/it, loss=577, v_num=1]"
     ]
    },
    {
     "name": "stderr",
     "output_type": "stream",
     "text": [
      "/opt/conda/envs/scvi/lib/python3.9/site-packages/scvi/distributions/_negative_binomial.py:436: UserWarning: The value argument must be within the support of the distribution\n",
      "  warnings.warn(\n",
      "/opt/conda/envs/scvi/lib/python3.9/site-packages/scvi/distributions/_negative_binomial.py:436: UserWarning: The value argument must be within the support of the distribution\n",
      "  warnings.warn(\n"
     ]
    },
    {
     "name": "stdout",
     "output_type": "stream",
     "text": [
      "Epoch 79/100:  78%|███████▊  | 78/100 [48:01<13:15, 36.18s/it, loss=579, v_num=1]"
     ]
    },
    {
     "name": "stderr",
     "output_type": "stream",
     "text": [
      "/opt/conda/envs/scvi/lib/python3.9/site-packages/scvi/distributions/_negative_binomial.py:436: UserWarning: The value argument must be within the support of the distribution\n",
      "  warnings.warn(\n",
      "/opt/conda/envs/scvi/lib/python3.9/site-packages/scvi/distributions/_negative_binomial.py:436: UserWarning: The value argument must be within the support of the distribution\n",
      "  warnings.warn(\n"
     ]
    },
    {
     "name": "stdout",
     "output_type": "stream",
     "text": [
      "Epoch 80/100:  79%|███████▉  | 79/100 [48:37<12:41, 36.24s/it, loss=570, v_num=1]"
     ]
    },
    {
     "name": "stderr",
     "output_type": "stream",
     "text": [
      "/opt/conda/envs/scvi/lib/python3.9/site-packages/scvi/distributions/_negative_binomial.py:436: UserWarning: The value argument must be within the support of the distribution\n",
      "  warnings.warn(\n",
      "/opt/conda/envs/scvi/lib/python3.9/site-packages/scvi/distributions/_negative_binomial.py:436: UserWarning: The value argument must be within the support of the distribution\n",
      "  warnings.warn(\n"
     ]
    },
    {
     "name": "stdout",
     "output_type": "stream",
     "text": [
      "Epoch 81/100:  80%|████████  | 80/100 [49:16<12:20, 37.04s/it, loss=578, v_num=1]"
     ]
    },
    {
     "name": "stderr",
     "output_type": "stream",
     "text": [
      "/opt/conda/envs/scvi/lib/python3.9/site-packages/scvi/distributions/_negative_binomial.py:436: UserWarning: The value argument must be within the support of the distribution\n",
      "  warnings.warn(\n",
      "/opt/conda/envs/scvi/lib/python3.9/site-packages/scvi/distributions/_negative_binomial.py:436: UserWarning: The value argument must be within the support of the distribution\n",
      "  warnings.warn(\n"
     ]
    },
    {
     "name": "stdout",
     "output_type": "stream",
     "text": [
      "Epoch 82/100:  81%|████████  | 81/100 [49:52<11:37, 36.71s/it, loss=569, v_num=1]"
     ]
    },
    {
     "name": "stderr",
     "output_type": "stream",
     "text": [
      "/opt/conda/envs/scvi/lib/python3.9/site-packages/scvi/distributions/_negative_binomial.py:436: UserWarning: The value argument must be within the support of the distribution\n",
      "  warnings.warn(\n",
      "/opt/conda/envs/scvi/lib/python3.9/site-packages/scvi/distributions/_negative_binomial.py:436: UserWarning: The value argument must be within the support of the distribution\n",
      "  warnings.warn(\n"
     ]
    },
    {
     "name": "stdout",
     "output_type": "stream",
     "text": [
      "Epoch 83/100:  82%|████████▏ | 82/100 [50:29<10:59, 36.64s/it, loss=576, v_num=1]"
     ]
    },
    {
     "name": "stderr",
     "output_type": "stream",
     "text": [
      "/opt/conda/envs/scvi/lib/python3.9/site-packages/scvi/distributions/_negative_binomial.py:436: UserWarning: The value argument must be within the support of the distribution\n",
      "  warnings.warn(\n",
      "/opt/conda/envs/scvi/lib/python3.9/site-packages/scvi/distributions/_negative_binomial.py:436: UserWarning: The value argument must be within the support of the distribution\n",
      "  warnings.warn(\n"
     ]
    },
    {
     "name": "stdout",
     "output_type": "stream",
     "text": [
      "Epoch 84/100:  83%|████████▎ | 83/100 [51:05<10:20, 36.51s/it, loss=577, v_num=1]"
     ]
    },
    {
     "name": "stderr",
     "output_type": "stream",
     "text": [
      "/opt/conda/envs/scvi/lib/python3.9/site-packages/scvi/distributions/_negative_binomial.py:436: UserWarning: The value argument must be within the support of the distribution\n",
      "  warnings.warn(\n",
      "/opt/conda/envs/scvi/lib/python3.9/site-packages/scvi/distributions/_negative_binomial.py:436: UserWarning: The value argument must be within the support of the distribution\n",
      "  warnings.warn(\n"
     ]
    },
    {
     "name": "stdout",
     "output_type": "stream",
     "text": [
      "Epoch 85/100:  84%|████████▍ | 84/100 [51:42<09:45, 36.58s/it, loss=582, v_num=1]"
     ]
    },
    {
     "name": "stderr",
     "output_type": "stream",
     "text": [
      "/opt/conda/envs/scvi/lib/python3.9/site-packages/scvi/distributions/_negative_binomial.py:436: UserWarning: The value argument must be within the support of the distribution\n",
      "  warnings.warn(\n",
      "/opt/conda/envs/scvi/lib/python3.9/site-packages/scvi/distributions/_negative_binomial.py:436: UserWarning: The value argument must be within the support of the distribution\n",
      "  warnings.warn(\n"
     ]
    },
    {
     "name": "stdout",
     "output_type": "stream",
     "text": [
      "Epoch 86/100:  85%|████████▌ | 85/100 [52:18<09:09, 36.62s/it, loss=570, v_num=1]"
     ]
    },
    {
     "name": "stderr",
     "output_type": "stream",
     "text": [
      "/opt/conda/envs/scvi/lib/python3.9/site-packages/scvi/distributions/_negative_binomial.py:436: UserWarning: The value argument must be within the support of the distribution\n",
      "  warnings.warn(\n",
      "/opt/conda/envs/scvi/lib/python3.9/site-packages/scvi/distributions/_negative_binomial.py:436: UserWarning: The value argument must be within the support of the distribution\n",
      "  warnings.warn(\n"
     ]
    },
    {
     "name": "stdout",
     "output_type": "stream",
     "text": [
      "Epoch 87/100:  86%|████████▌ | 86/100 [52:54<08:29, 36.41s/it, loss=586, v_num=1]"
     ]
    },
    {
     "name": "stderr",
     "output_type": "stream",
     "text": [
      "/opt/conda/envs/scvi/lib/python3.9/site-packages/scvi/distributions/_negative_binomial.py:436: UserWarning: The value argument must be within the support of the distribution\n",
      "  warnings.warn(\n",
      "/opt/conda/envs/scvi/lib/python3.9/site-packages/scvi/distributions/_negative_binomial.py:436: UserWarning: The value argument must be within the support of the distribution\n",
      "  warnings.warn(\n"
     ]
    },
    {
     "name": "stdout",
     "output_type": "stream",
     "text": [
      "Epoch 88/100:  87%|████████▋ | 87/100 [53:31<07:54, 36.49s/it, loss=578, v_num=1]"
     ]
    },
    {
     "name": "stderr",
     "output_type": "stream",
     "text": [
      "/opt/conda/envs/scvi/lib/python3.9/site-packages/scvi/distributions/_negative_binomial.py:436: UserWarning: The value argument must be within the support of the distribution\n",
      "  warnings.warn(\n",
      "/opt/conda/envs/scvi/lib/python3.9/site-packages/scvi/distributions/_negative_binomial.py:436: UserWarning: The value argument must be within the support of the distribution\n",
      "  warnings.warn(\n"
     ]
    },
    {
     "name": "stdout",
     "output_type": "stream",
     "text": [
      "Epoch 89/100:  88%|████████▊ | 88/100 [54:07<07:16, 36.34s/it, loss=572, v_num=1]"
     ]
    },
    {
     "name": "stderr",
     "output_type": "stream",
     "text": [
      "/opt/conda/envs/scvi/lib/python3.9/site-packages/scvi/distributions/_negative_binomial.py:436: UserWarning: The value argument must be within the support of the distribution\n",
      "  warnings.warn(\n",
      "/opt/conda/envs/scvi/lib/python3.9/site-packages/scvi/distributions/_negative_binomial.py:436: UserWarning: The value argument must be within the support of the distribution\n",
      "  warnings.warn(\n"
     ]
    },
    {
     "name": "stdout",
     "output_type": "stream",
     "text": [
      "Epoch 90/100:  89%|████████▉ | 89/100 [54:43<06:38, 36.26s/it, loss=586, v_num=1]"
     ]
    },
    {
     "name": "stderr",
     "output_type": "stream",
     "text": [
      "/opt/conda/envs/scvi/lib/python3.9/site-packages/scvi/distributions/_negative_binomial.py:436: UserWarning: The value argument must be within the support of the distribution\n",
      "  warnings.warn(\n",
      "/opt/conda/envs/scvi/lib/python3.9/site-packages/scvi/distributions/_negative_binomial.py:436: UserWarning: The value argument must be within the support of the distribution\n",
      "  warnings.warn(\n"
     ]
    },
    {
     "name": "stdout",
     "output_type": "stream",
     "text": [
      "Epoch 91/100:  90%|█████████ | 90/100 [55:22<06:09, 36.95s/it, loss=583, v_num=1]"
     ]
    },
    {
     "name": "stderr",
     "output_type": "stream",
     "text": [
      "/opt/conda/envs/scvi/lib/python3.9/site-packages/scvi/distributions/_negative_binomial.py:436: UserWarning: The value argument must be within the support of the distribution\n",
      "  warnings.warn(\n",
      "/opt/conda/envs/scvi/lib/python3.9/site-packages/scvi/distributions/_negative_binomial.py:436: UserWarning: The value argument must be within the support of the distribution\n",
      "  warnings.warn(\n"
     ]
    },
    {
     "name": "stdout",
     "output_type": "stream",
     "text": [
      "Epoch 92/100:  91%|█████████ | 91/100 [55:57<05:28, 36.49s/it, loss=573, v_num=1]"
     ]
    },
    {
     "name": "stderr",
     "output_type": "stream",
     "text": [
      "/opt/conda/envs/scvi/lib/python3.9/site-packages/scvi/distributions/_negative_binomial.py:436: UserWarning: The value argument must be within the support of the distribution\n",
      "  warnings.warn(\n",
      "/opt/conda/envs/scvi/lib/python3.9/site-packages/scvi/distributions/_negative_binomial.py:436: UserWarning: The value argument must be within the support of the distribution\n",
      "  warnings.warn(\n"
     ]
    },
    {
     "name": "stdout",
     "output_type": "stream",
     "text": [
      "Epoch 93/100:  92%|█████████▏| 92/100 [56:33<04:51, 36.40s/it, loss=576, v_num=1]"
     ]
    },
    {
     "name": "stderr",
     "output_type": "stream",
     "text": [
      "/opt/conda/envs/scvi/lib/python3.9/site-packages/scvi/distributions/_negative_binomial.py:436: UserWarning: The value argument must be within the support of the distribution\n",
      "  warnings.warn(\n",
      "/opt/conda/envs/scvi/lib/python3.9/site-packages/scvi/distributions/_negative_binomial.py:436: UserWarning: The value argument must be within the support of the distribution\n",
      "  warnings.warn(\n"
     ]
    },
    {
     "name": "stdout",
     "output_type": "stream",
     "text": [
      "Epoch 94/100:  93%|█████████▎| 93/100 [57:09<04:12, 36.11s/it, loss=568, v_num=1]"
     ]
    },
    {
     "name": "stderr",
     "output_type": "stream",
     "text": [
      "/opt/conda/envs/scvi/lib/python3.9/site-packages/scvi/distributions/_negative_binomial.py:436: UserWarning: The value argument must be within the support of the distribution\n",
      "  warnings.warn(\n",
      "/opt/conda/envs/scvi/lib/python3.9/site-packages/scvi/distributions/_negative_binomial.py:436: UserWarning: The value argument must be within the support of the distribution\n",
      "  warnings.warn(\n"
     ]
    },
    {
     "name": "stdout",
     "output_type": "stream",
     "text": [
      "Epoch 95/100:  94%|█████████▍| 94/100 [57:44<03:35, 35.92s/it, loss=573, v_num=1]"
     ]
    },
    {
     "name": "stderr",
     "output_type": "stream",
     "text": [
      "/opt/conda/envs/scvi/lib/python3.9/site-packages/scvi/distributions/_negative_binomial.py:436: UserWarning: The value argument must be within the support of the distribution\n",
      "  warnings.warn(\n",
      "/opt/conda/envs/scvi/lib/python3.9/site-packages/scvi/distributions/_negative_binomial.py:436: UserWarning: The value argument must be within the support of the distribution\n",
      "  warnings.warn(\n"
     ]
    },
    {
     "name": "stdout",
     "output_type": "stream",
     "text": [
      "Epoch 96/100:  95%|█████████▌| 95/100 [58:20<02:59, 35.90s/it, loss=580, v_num=1]"
     ]
    },
    {
     "name": "stderr",
     "output_type": "stream",
     "text": [
      "/opt/conda/envs/scvi/lib/python3.9/site-packages/scvi/distributions/_negative_binomial.py:436: UserWarning: The value argument must be within the support of the distribution\n",
      "  warnings.warn(\n",
      "/opt/conda/envs/scvi/lib/python3.9/site-packages/scvi/distributions/_negative_binomial.py:436: UserWarning: The value argument must be within the support of the distribution\n",
      "  warnings.warn(\n"
     ]
    },
    {
     "name": "stdout",
     "output_type": "stream",
     "text": [
      "Epoch 97/100:  96%|█████████▌| 96/100 [58:56<02:23, 35.86s/it, loss=578, v_num=1]"
     ]
    },
    {
     "name": "stderr",
     "output_type": "stream",
     "text": [
      "/opt/conda/envs/scvi/lib/python3.9/site-packages/scvi/distributions/_negative_binomial.py:436: UserWarning: The value argument must be within the support of the distribution\n",
      "  warnings.warn(\n",
      "/opt/conda/envs/scvi/lib/python3.9/site-packages/scvi/distributions/_negative_binomial.py:436: UserWarning: The value argument must be within the support of the distribution\n",
      "  warnings.warn(\n"
     ]
    },
    {
     "name": "stdout",
     "output_type": "stream",
     "text": [
      "Epoch 98/100:  97%|█████████▋| 97/100 [59:32<01:47, 35.93s/it, loss=588, v_num=1]"
     ]
    },
    {
     "name": "stderr",
     "output_type": "stream",
     "text": [
      "/opt/conda/envs/scvi/lib/python3.9/site-packages/scvi/distributions/_negative_binomial.py:436: UserWarning: The value argument must be within the support of the distribution\n",
      "  warnings.warn(\n",
      "/opt/conda/envs/scvi/lib/python3.9/site-packages/scvi/distributions/_negative_binomial.py:436: UserWarning: The value argument must be within the support of the distribution\n",
      "  warnings.warn(\n"
     ]
    },
    {
     "name": "stdout",
     "output_type": "stream",
     "text": [
      "Epoch 99/100:  98%|█████████▊| 98/100 [1:00:07<01:11, 35.83s/it, loss=579, v_num=1]"
     ]
    },
    {
     "name": "stderr",
     "output_type": "stream",
     "text": [
      "/opt/conda/envs/scvi/lib/python3.9/site-packages/scvi/distributions/_negative_binomial.py:436: UserWarning: The value argument must be within the support of the distribution\n",
      "  warnings.warn(\n",
      "/opt/conda/envs/scvi/lib/python3.9/site-packages/scvi/distributions/_negative_binomial.py:436: UserWarning: The value argument must be within the support of the distribution\n",
      "  warnings.warn(\n"
     ]
    },
    {
     "name": "stdout",
     "output_type": "stream",
     "text": [
      "Epoch 100/100:  99%|█████████▉| 99/100 [1:00:43<00:35, 35.87s/it, loss=586, v_num=1]"
     ]
    },
    {
     "name": "stderr",
     "output_type": "stream",
     "text": [
      "/opt/conda/envs/scvi/lib/python3.9/site-packages/scvi/distributions/_negative_binomial.py:436: UserWarning: The value argument must be within the support of the distribution\n",
      "  warnings.warn(\n",
      "/opt/conda/envs/scvi/lib/python3.9/site-packages/scvi/distributions/_negative_binomial.py:436: UserWarning: The value argument must be within the support of the distribution\n",
      "  warnings.warn(\n"
     ]
    },
    {
     "name": "stdout",
     "output_type": "stream",
     "text": [
      "Epoch 100/100: 100%|██████████| 100/100 [1:01:22<00:00, 36.83s/it, loss=569, v_num=1]\n"
     ]
    }
   ],
   "source": [
    "scanvi_query.train(\n",
    "    max_epochs=100, plan_kwargs=dict(weight_decay=0.0), check_val_every_n_epoch=10\n",
    ")"
   ]
  },
  {
   "cell_type": "code",
   "execution_count": 18,
   "id": "sunrise-baking",
   "metadata": {
    "collapsed": true,
    "jupyter": {
     "outputs_hidden": true
    },
    "tags": []
   },
   "outputs": [
    {
     "ename": "ValueError",
     "evalue": "/home/jupyter/Annotations_v3/models/scanvi_output20230126/pooled_healthy_broad_annot.disease_scanvi_model.pt already exists. Please provide an unexisting directory for saving.",
     "output_type": "error",
     "traceback": [
      "\u001b[0;31m---------------------------------------------------------------------------\u001b[0m",
      "\u001b[0;31mValueError\u001b[0m                                Traceback (most recent call last)",
      "Input \u001b[0;32mIn [18]\u001b[0m, in \u001b[0;36m<cell line: 1>\u001b[0;34m()\u001b[0m\n\u001b[0;32m----> 1\u001b[0m \u001b[43mscanvi_query\u001b[49m\u001b[38;5;241;43m.\u001b[39;49m\u001b[43msave\u001b[49m\u001b[43m(\u001b[49m\n\u001b[1;32m      2\u001b[0m \u001b[43m    \u001b[49m\u001b[38;5;124;43m\"\u001b[39;49m\u001b[38;5;124;43m/home/jupyter/Annotations_v3/models/scanvi_output20230126/pooled_healthy_broad_annot.disease_scanvi_model.pt\u001b[39;49m\u001b[38;5;124;43m\"\u001b[39;49m\n\u001b[1;32m      3\u001b[0m \u001b[43m)\u001b[49m\n",
      "File \u001b[0;32m/opt/conda/envs/scvi/lib/python3.9/site-packages/scvi/model/base/_base_model.py:509\u001b[0m, in \u001b[0;36mBaseModelClass.save\u001b[0;34m(self, dir_path, prefix, overwrite, save_anndata, **anndata_write_kwargs)\u001b[0m\n\u001b[1;32m    507\u001b[0m     os\u001b[38;5;241m.\u001b[39mmakedirs(dir_path, exist_ok\u001b[38;5;241m=\u001b[39moverwrite)\n\u001b[1;32m    508\u001b[0m \u001b[38;5;28;01melse\u001b[39;00m:\n\u001b[0;32m--> 509\u001b[0m     \u001b[38;5;28;01mraise\u001b[39;00m \u001b[38;5;167;01mValueError\u001b[39;00m(\n\u001b[1;32m    510\u001b[0m         \u001b[38;5;124m\"\u001b[39m\u001b[38;5;132;01m{}\u001b[39;00m\u001b[38;5;124m already exists. Please provide an unexisting directory for saving.\u001b[39m\u001b[38;5;124m\"\u001b[39m\u001b[38;5;241m.\u001b[39mformat(\n\u001b[1;32m    511\u001b[0m             dir_path\n\u001b[1;32m    512\u001b[0m         )\n\u001b[1;32m    513\u001b[0m     )\n\u001b[1;32m    515\u001b[0m file_name_prefix \u001b[38;5;241m=\u001b[39m prefix \u001b[38;5;129;01mor\u001b[39;00m \u001b[38;5;124m\"\u001b[39m\u001b[38;5;124m\"\u001b[39m\n\u001b[1;32m    517\u001b[0m \u001b[38;5;28;01mif\u001b[39;00m save_anndata:\n",
      "\u001b[0;31mValueError\u001b[0m: /home/jupyter/Annotations_v3/models/scanvi_output20230126/pooled_healthy_broad_annot.disease_scanvi_model.pt already exists. Please provide an unexisting directory for saving."
     ]
    }
   ],
   "source": [
    "scanvi_query.save(\n",
    "    \"/home/jupyter/Annotations_v3/models/scanvi_output20230126/pooled_healthy_broad_annot.disease_scanvi_model.pt\"\n",
    ")"
   ]
  },
  {
   "cell_type": "code",
   "execution_count": 19,
   "id": "damaged-hometown",
   "metadata": {
    "tags": []
   },
   "outputs": [],
   "source": [
    "disease_ad.obsm[\"X_scANVI\"] = scanvi_query.get_latent_representation()"
   ]
  },
  {
   "cell_type": "code",
   "execution_count": 20,
   "id": "2464ea5a-3238-4b73-93e7-0aca19911192",
   "metadata": {},
   "outputs": [
    {
     "data": {
      "image/png": "[encoded data removed]",
      "text/plain": [
       "<Figure size 288x288 with 1 Axes>"
      ]
     },
     "metadata": {},
     "output_type": "display_data"
    }
   ],
   "source": [
    "sc.pp.neighbors(disease_ad, use_rep=\"X_scANVI\")\n",
    "sc.tl.umap(disease_ad)\n",
    "sc.pl.umap(disease_ad, color=['broad_annot_20220917'])"
   ]
  },
  {
   "cell_type": "code",
   "execution_count": 22,
   "id": "b23cdb9d-0034-4c81-aaaf-085b53532d1d",
   "metadata": {},
   "outputs": [
    {
     "name": "stdout",
     "output_type": "stream",
     "text": [
      "Weighted KNN with n_neighbors = 50 ... "
     ]
    }
   ],
   "source": [
    "k_neighbors_transformer = weighted_knn_trainer(\n",
    "        train_adata=adata,\n",
    "        train_adata_emb=\"X_scANVI\",\n",
    "        label_key=\"broad_annot_20220917\",\n",
    "        n_neighbors=50,\n",
    "    )"
   ]
  },
  {
   "cell_type": "code",
   "execution_count": 23,
   "id": "ba5e1b25-b36e-43b9-9029-759420ef696d",
   "metadata": {},
   "outputs": [
    {
     "data": {
      "text/html": [
       "<style>#sk-container-id-1 {color: black;background-color: white;}#sk-container-id-1 pre{padding: 0;}#sk-container-id-1 div.sk-toggleable {background-color: white;}#sk-container-id-1 label.sk-toggleable__label {cursor: pointer;display: block;width: 100%;margin-bottom: 0;padding: 0.3em;box-sizing: border-box;text-align: center;}#sk-container-id-1 label.sk-toggleable__label-arrow:before {content: \"▸\";float: left;margin-right: 0.25em;color: #696969;}#sk-container-id-1 label.sk-toggleable__label-arrow:hover:before {color: black;}#sk-container-id-1 div.sk-estimator:hover label.sk-toggleable__label-arrow:before {color: black;}#sk-container-id-1 div.sk-toggleable__content {max-height: 0;max-width: 0;overflow: hidden;text-align: left;background-color: #f0f8ff;}#sk-container-id-1 div.sk-toggleable__content pre {margin: 0.2em;color: black;border-radius: 0.25em;background-color: #f0f8ff;}#sk-container-id-1 input.sk-toggleable__control:checked~div.sk-toggleable__content {max-height: 200px;max-width: 100%;overflow: auto;}#sk-container-id-1 input.sk-toggleable__control:checked~label.sk-toggleable__label-arrow:before {content: \"▾\";}#sk-container-id-1 div.sk-estimator input.sk-toggleable__control:checked~label.sk-toggleable__label {background-color: #d4ebff;}#sk-container-id-1 div.sk-label input.sk-toggleable__control:checked~label.sk-toggleable__label {background-color: #d4ebff;}#sk-container-id-1 input.sk-hidden--visually {border: 0;clip: rect(1px 1px 1px 1px);clip: rect(1px, 1px, 1px, 1px);height: 1px;margin: -1px;overflow: hidden;padding: 0;position: absolute;width: 1px;}#sk-container-id-1 div.sk-estimator {font-family: monospace;background-color: #f0f8ff;border: 1px dotted black;border-radius: 0.25em;box-sizing: border-box;margin-bottom: 0.5em;}#sk-container-id-1 div.sk-estimator:hover {background-color: #d4ebff;}#sk-container-id-1 div.sk-parallel-item::after {content: \"\";width: 100%;border-bottom: 1px solid gray;flex-grow: 1;}#sk-container-id-1 div.sk-label:hover label.sk-toggleable__label {background-color: #d4ebff;}#sk-container-id-1 div.sk-serial::before {content: \"\";position: absolute;border-left: 1px solid gray;box-sizing: border-box;top: 0;bottom: 0;left: 50%;z-index: 0;}#sk-container-id-1 div.sk-serial {display: flex;flex-direction: column;align-items: center;background-color: white;padding-right: 0.2em;padding-left: 0.2em;position: relative;}#sk-container-id-1 div.sk-item {position: relative;z-index: 1;}#sk-container-id-1 div.sk-parallel {display: flex;align-items: stretch;justify-content: center;background-color: white;position: relative;}#sk-container-id-1 div.sk-item::before, #sk-container-id-1 div.sk-parallel-item::before {content: \"\";position: absolute;border-left: 1px solid gray;box-sizing: border-box;top: 0;bottom: 0;left: 50%;z-index: -1;}#sk-container-id-1 div.sk-parallel-item {display: flex;flex-direction: column;z-index: 1;position: relative;background-color: white;}#sk-container-id-1 div.sk-parallel-item:first-child::after {align-self: flex-end;width: 50%;}#sk-container-id-1 div.sk-parallel-item:last-child::after {align-self: flex-start;width: 50%;}#sk-container-id-1 div.sk-parallel-item:only-child::after {width: 0;}#sk-container-id-1 div.sk-dashed-wrapped {border: 1px dashed gray;margin: 0 0.4em 0.5em 0.4em;box-sizing: border-box;padding-bottom: 0.4em;background-color: white;}#sk-container-id-1 div.sk-label label {font-family: monospace;font-weight: bold;display: inline-block;line-height: 1.2em;}#sk-container-id-1 div.sk-label-container {text-align: center;}#sk-container-id-1 div.sk-container {/* jupyter's `normalize.less` sets `[hidden] { display: none; }` but bootstrap.min.css set `[hidden] { display: none !important; }` so we also need the `!important` here to be able to override the default hidden behavior on the sphinx rendered scikit-learn.org. See: https://github.com/scikit-learn/scikit-learn/issues/21755 */display: inline-block !important;position: relative;}#sk-container-id-1 div.sk-text-repr-fallback {display: none;}</style><div id=\"sk-container-id-1\" class=\"sk-top-container\"><div class=\"sk-text-repr-fallback\"><pre>KNeighborsTransformer(algorithm=&#x27;brute&#x27;, metric=&#x27;euclidean&#x27;, n_jobs=-1,\n",
       "                      n_neighbors=50)</pre><b>In a Jupyter environment, please rerun this cell to show the HTML representation or trust the notebook. <br />On GitHub, the HTML representation is unable to render, please try loading this page with nbviewer.org.</b></div><div class=\"sk-container\" hidden><div class=\"sk-item\"><div class=\"sk-estimator sk-toggleable\"><input class=\"sk-toggleable__control sk-hidden--visually\" id=\"sk-estimator-id-1\" type=\"checkbox\" checked><label for=\"sk-estimator-id-1\" class=\"sk-toggleable__label sk-toggleable__label-arrow\">KNeighborsTransformer</label><div class=\"sk-toggleable__content\"><pre>KNeighborsTransformer(algorithm=&#x27;brute&#x27;, metric=&#x27;euclidean&#x27;, n_jobs=-1,\n",
       "                      n_neighbors=50)</pre></div></div></div></div></div>"
      ],
      "text/plain": [
       "KNeighborsTransformer(algorithm='brute', metric='euclidean', n_jobs=-1,\n",
       "                      n_neighbors=50)"
      ]
     },
     "execution_count": 23,
     "metadata": {},
     "output_type": "execute_result"
    }
   ],
   "source": [
    "k_neighbors_transformer"
   ]
  },
  {
   "cell_type": "code",
   "execution_count": 24,
   "id": "e902f16b-fd2e-450f-a196-25955fe4b983",
   "metadata": {},
   "outputs": [],
   "source": [
    "import pickle"
   ]
  },
  {
   "cell_type": "code",
   "execution_count": 25,
   "id": "b4810ffd-34d6-4c38-9830-7586e9e4fb56",
   "metadata": {},
   "outputs": [],
   "source": [
    "with open(f'/home/jupyter/Annotations_v3/models/scanvi_20230126/kNN_healthy_reference_broad_annot_model.pkl', 'wb') as f:\n",
    "   pickle.dump(k_neighbors_transformer, f)"
   ]
  },
  {
   "cell_type": "code",
   "execution_count": 26,
   "id": "ca31382c-da22-4bfc-8d86-1aaedfc721e4",
   "metadata": {},
   "outputs": [
    {
     "name": "stderr",
     "output_type": "stream",
     "text": [
      "/opt/conda/envs/scvi/lib/python3.9/site-packages/sklearn/base.py:450: UserWarning: X does not have valid feature names, but KNeighborsTransformer was fitted with feature names\n",
      "  warnings.warn(\n"
     ]
    },
    {
     "name": "stdout",
     "output_type": "stream",
     "text": [
      "finished!\n"
     ]
    }
   ],
   "source": [
    "labels, uncert = weighted_knn_transfer(\n",
    "        query_adata=disease_ad,\n",
    "        query_adata_emb=\"X_scANVI\",\n",
    "        label_keys=\"broad_annot_20220917\",\n",
    "        knn_model=k_neighbors_transformer,\n",
    "        ref_adata_obs = adata.obs\n",
    "    )"
   ]
  },
  {
   "cell_type": "code",
   "execution_count": 27,
   "id": "b9556819-83cc-4536-b28b-723a5d681414",
   "metadata": {},
   "outputs": [
    {
     "data": {
      "text/html": [
       "<div>\n",
       "<style scoped>\n",
       "    .dataframe tbody tr th:only-of-type {\n",
       "        vertical-align: middle;\n",
       "    }\n",
       "\n",
       "    .dataframe tbody tr th {\n",
       "        vertical-align: top;\n",
       "    }\n",
       "\n",
       "    .dataframe thead th {\n",
       "        text-align: right;\n",
       "    }\n",
       "</style>\n",
       "<table border=\"1\" class=\"dataframe\">\n",
       "  <thead>\n",
       "    <tr style=\"text-align: right;\">\n",
       "      <th></th>\n",
       "      <th>broad_annot_20220917</th>\n",
       "    </tr>\n",
       "    <tr>\n",
       "      <th>index</th>\n",
       "      <th></th>\n",
       "    </tr>\n",
       "  </thead>\n",
       "  <tbody>\n",
       "    <tr>\n",
       "      <th>AAACCTGAGAGGTTAT-4918STDY7273964</th>\n",
       "      <td>B and B plasma</td>\n",
       "    </tr>\n",
       "    <tr>\n",
       "      <th>AAACCTGAGGCCCTCA-4918STDY7273964</th>\n",
       "      <td>T and NK cells</td>\n",
       "    </tr>\n",
       "    <tr>\n",
       "      <th>AAACCTGTCCAAACTG-4918STDY7273964</th>\n",
       "      <td>T and NK cells</td>\n",
       "    </tr>\n",
       "    <tr>\n",
       "      <th>AAACGGGAGAGCTGGT-4918STDY7273964</th>\n",
       "      <td>B and B plasma</td>\n",
       "    </tr>\n",
       "    <tr>\n",
       "      <th>AAACGGGCACTAAGTC-4918STDY7273964</th>\n",
       "      <td>B and B plasma</td>\n",
       "    </tr>\n",
       "    <tr>\n",
       "      <th>...</th>\n",
       "      <td>...</td>\n",
       "    </tr>\n",
       "    <tr>\n",
       "      <th>TTTGGTTTCAGGTTCA-GSM4546346</th>\n",
       "      <td>Epithelial</td>\n",
       "    </tr>\n",
       "    <tr>\n",
       "      <th>TTTGTCAGTCGCCATG-GSM4546346</th>\n",
       "      <td>Myeloid</td>\n",
       "    </tr>\n",
       "    <tr>\n",
       "      <th>TTTGTCAGTGGTGTAG-GSM4546346</th>\n",
       "      <td>Mesenchymal</td>\n",
       "    </tr>\n",
       "    <tr>\n",
       "      <th>TTTGTCATCGGAAACG-GSM4546346</th>\n",
       "      <td>B and B plasma</td>\n",
       "    </tr>\n",
       "    <tr>\n",
       "      <th>TTTGTCATCGGATGTT-GSM4546346</th>\n",
       "      <td>B and B plasma</td>\n",
       "    </tr>\n",
       "  </tbody>\n",
       "</table>\n",
       "<p>299041 rows × 1 columns</p>\n",
       "</div>"
      ],
      "text/plain": [
       "                                 broad_annot_20220917\n",
       "index                                                \n",
       "AAACCTGAGAGGTTAT-4918STDY7273964       B and B plasma\n",
       "AAACCTGAGGCCCTCA-4918STDY7273964       T and NK cells\n",
       "AAACCTGTCCAAACTG-4918STDY7273964       T and NK cells\n",
       "AAACGGGAGAGCTGGT-4918STDY7273964       B and B plasma\n",
       "AAACGGGCACTAAGTC-4918STDY7273964       B and B plasma\n",
       "...                                               ...\n",
       "TTTGGTTTCAGGTTCA-GSM4546346                Epithelial\n",
       "TTTGTCAGTCGCCATG-GSM4546346                   Myeloid\n",
       "TTTGTCAGTGGTGTAG-GSM4546346               Mesenchymal\n",
       "TTTGTCATCGGAAACG-GSM4546346            B and B plasma\n",
       "TTTGTCATCGGATGTT-GSM4546346            B and B plasma\n",
       "\n",
       "[299041 rows x 1 columns]"
      ]
     },
     "execution_count": 27,
     "metadata": {},
     "output_type": "execute_result"
    }
   ],
   "source": [
    "labels"
   ]
  },
  {
   "cell_type": "code",
   "execution_count": 28,
   "id": "21263e02-ac5e-4945-90e0-a3d2a5c806fe",
   "metadata": {},
   "outputs": [
    {
     "data": {
      "text/html": [
       "<div>\n",
       "<style scoped>\n",
       "    .dataframe tbody tr th:only-of-type {\n",
       "        vertical-align: middle;\n",
       "    }\n",
       "\n",
       "    .dataframe tbody tr th {\n",
       "        vertical-align: top;\n",
       "    }\n",
       "\n",
       "    .dataframe thead th {\n",
       "        text-align: right;\n",
       "    }\n",
       "</style>\n",
       "<table border=\"1\" class=\"dataframe\">\n",
       "  <thead>\n",
       "    <tr style=\"text-align: right;\">\n",
       "      <th></th>\n",
       "      <th>broad_annot_20220917</th>\n",
       "    </tr>\n",
       "    <tr>\n",
       "      <th>index</th>\n",
       "      <th></th>\n",
       "    </tr>\n",
       "  </thead>\n",
       "  <tbody>\n",
       "    <tr>\n",
       "      <th>AAACCTGAGAGGTTAT-4918STDY7273964</th>\n",
       "      <td>0.0</td>\n",
       "    </tr>\n",
       "    <tr>\n",
       "      <th>AAACCTGAGGCCCTCA-4918STDY7273964</th>\n",
       "      <td>0</td>\n",
       "    </tr>\n",
       "    <tr>\n",
       "      <th>AAACCTGTCCAAACTG-4918STDY7273964</th>\n",
       "      <td>0.0</td>\n",
       "    </tr>\n",
       "    <tr>\n",
       "      <th>AAACGGGAGAGCTGGT-4918STDY7273964</th>\n",
       "      <td>0.0</td>\n",
       "    </tr>\n",
       "    <tr>\n",
       "      <th>AAACGGGCACTAAGTC-4918STDY7273964</th>\n",
       "      <td>0.0</td>\n",
       "    </tr>\n",
       "    <tr>\n",
       "      <th>...</th>\n",
       "      <td>...</td>\n",
       "    </tr>\n",
       "    <tr>\n",
       "      <th>TTTGGTTTCAGGTTCA-GSM4546346</th>\n",
       "      <td>0.0</td>\n",
       "    </tr>\n",
       "    <tr>\n",
       "      <th>TTTGTCAGTCGCCATG-GSM4546346</th>\n",
       "      <td>0.0</td>\n",
       "    </tr>\n",
       "    <tr>\n",
       "      <th>TTTGTCAGTGGTGTAG-GSM4546346</th>\n",
       "      <td>0.0</td>\n",
       "    </tr>\n",
       "    <tr>\n",
       "      <th>TTTGTCATCGGAAACG-GSM4546346</th>\n",
       "      <td>0.0</td>\n",
       "    </tr>\n",
       "    <tr>\n",
       "      <th>TTTGTCATCGGATGTT-GSM4546346</th>\n",
       "      <td>0.0</td>\n",
       "    </tr>\n",
       "  </tbody>\n",
       "</table>\n",
       "<p>299041 rows × 1 columns</p>\n",
       "</div>"
      ],
      "text/plain": [
       "                                 broad_annot_20220917\n",
       "index                                                \n",
       "AAACCTGAGAGGTTAT-4918STDY7273964                  0.0\n",
       "AAACCTGAGGCCCTCA-4918STDY7273964                    0\n",
       "AAACCTGTCCAAACTG-4918STDY7273964                  0.0\n",
       "AAACGGGAGAGCTGGT-4918STDY7273964                  0.0\n",
       "AAACGGGCACTAAGTC-4918STDY7273964                  0.0\n",
       "...                                               ...\n",
       "TTTGGTTTCAGGTTCA-GSM4546346                       0.0\n",
       "TTTGTCAGTCGCCATG-GSM4546346                       0.0\n",
       "TTTGTCAGTGGTGTAG-GSM4546346                       0.0\n",
       "TTTGTCATCGGAAACG-GSM4546346                       0.0\n",
       "TTTGTCATCGGATGTT-GSM4546346                       0.0\n",
       "\n",
       "[299041 rows x 1 columns]"
      ]
     },
     "execution_count": 28,
     "metadata": {},
     "output_type": "execute_result"
    }
   ],
   "source": [
    "uncert"
   ]
  },
  {
   "cell_type": "code",
   "execution_count": 29,
   "id": "a47a9452-e7b7-4a98-b5b8-98f6e11b21fd",
   "metadata": {},
   "outputs": [],
   "source": [
    "disease_ad.obs['broad_predicted_labels'] = labels['broad_annot_20220917']\n",
    "disease_ad.obs['broad_predicted_labels_uncertainty'] = uncert['broad_annot_20220917']"
   ]
  },
  {
   "cell_type": "code",
   "execution_count": 30,
   "id": "1435503a-b53e-430a-bc94-a9cd72867ced",
   "metadata": {},
   "outputs": [
    {
     "data": {
      "image/png": "[encoded data removed]",
      "text/plain": [
       "<Figure size 432x432 with 1 Axes>"
      ]
     },
     "metadata": {},
     "output_type": "display_data"
    }
   ],
   "source": [
    "sk.set_figsize((6, 6))\n",
    "sc.pl.umap(disease_ad, color=['broad_predicted_labels'],size=2)"
   ]
  },
  {
   "cell_type": "code",
   "execution_count": 31,
   "id": "18e976b6-7ed1-47ee-a73a-01ce14a1b837",
   "metadata": {},
   "outputs": [
    {
     "data": {
      "image/png": "[encoded data removed]",
      "text/plain": [
       "<Figure size 432x432 with 2 Axes>"
      ]
     },
     "metadata": {
      "needs_background": "light"
     },
     "output_type": "display_data"
    }
   ],
   "source": [
    "sk.set_figsize((6, 6))\n",
    "sc.pl.umap(disease_ad, color=['broad_predicted_labels_uncertainty'],cmap='OrRd',size=2)"
   ]
  },
  {
   "cell_type": "code",
   "execution_count": 33,
   "id": "a3922c0e-50bf-4d0c-adcf-aec64eb49777",
   "metadata": {},
   "outputs": [],
   "source": [
    "disease_ad.obs.broad_predicted_labels.to_csv('/home/jupyter/Annotations_v3/annotations/disease_broad_predicted_labels_sANVI.kNN_20230126.csv')"
   ]
  },
  {
   "cell_type": "code",
   "execution_count": 34,
   "id": "ff25f21a-0441-4a1e-85fd-85b09dee6eac",
   "metadata": {},
   "outputs": [],
   "source": [
    "disease_ad.obs.broad_predicted_labels_uncertainty.to_csv('/home/jupyter/Annotations_v3/annotations/disease_broad_predicted_labels_uncertainty_sANVI.kNN_20230126.csv')"
   ]
  },
  {
   "cell_type": "code",
   "execution_count": 35,
   "id": "984daa9d-8cfc-42d3-9e5c-c6b836057821",
   "metadata": {},
   "outputs": [],
   "source": [
    "del disease_ad.obs['scrublet_done']\n"
   ]
  },
  {
   "cell_type": "code",
   "execution_count": 37,
   "id": "0cb819fe-60f8-4a84-b68d-0476d15e1d3f",
   "metadata": {},
   "outputs": [],
   "source": [
    "del disease_ad.obs['broad_predicted_labels_uncertainty']"
   ]
  },
  {
   "cell_type": "code",
   "execution_count": 38,
   "id": "6854abb9-dd2f-4093-9dcd-a3e2c4ea8d78",
   "metadata": {},
   "outputs": [],
   "source": [
    "disease_ad.write_h5ad('/home/jupyter/Annotations_v3/h5ad/disease/pooled_disease.scanvi_broad_pred_fromkNN.20230126.h5ad')"
   ]
  },
  {
   "cell_type": "code",
   "execution_count": null,
   "id": "7f6e393f-dda2-4296-bbdc-9e51f2455b59",
   "metadata": {},
   "outputs": [],
   "source": []
  },
  {
   "cell_type": "code",
   "execution_count": null,
   "id": "da256eff-7031-4d4b-9fdb-11253b53a3ae",
   "metadata": {},
   "outputs": [],
   "source": []
  }
 ],
 "metadata": {
  "environment": {
   "kernel": "scvi",
   "name": "pytorch-gpu.1-11.m93",
   "type": "gcloud",
   "uri": "gcr.io/deeplearning-platform-release/pytorch-gpu.1-11:m93"
  },
  "kernelspec": {
   "display_name": "Environment (scvi_env)",
   "language": "python",
   "name": "scvi"
  },
  "language_info": {
   "codemirror_mode": {
    "name": "ipython",
    "version": 3
   },
   "file_extension": ".py",
   "mimetype": "text/x-python",
   "name": "python",
   "nbconvert_exporter": "python",
   "pygments_lexer": "ipython3",
   "version": "3.9.13"
  }
 },
 "nbformat": 4,
 "nbformat_minor": 5
}
