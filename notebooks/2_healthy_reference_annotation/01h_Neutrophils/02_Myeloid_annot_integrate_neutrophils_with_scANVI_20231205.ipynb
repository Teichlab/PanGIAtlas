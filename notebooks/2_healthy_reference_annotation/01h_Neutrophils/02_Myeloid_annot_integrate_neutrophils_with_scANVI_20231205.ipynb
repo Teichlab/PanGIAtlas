{
 "cells": [
  {
   "cell_type": "markdown",
   "id": "multiple-nirvana",
   "metadata": {},
   "source": [
    "# scANVI integration of disease dataset - fine grained annotations for myeloid cells"
   ]
  },
  {
   "cell_type": "markdown",
   "id": "mechanical-twenty",
   "metadata": {},
   "source": [
    "# Import and settings"
   ]
  },
  {
   "cell_type": "code",
   "execution_count": 1,
   "id": "uniform-melbourne",
   "metadata": {
    "tags": []
   },
   "outputs": [
    {
     "name": "stderr",
     "output_type": "stream",
     "text": [
      "Global seed set to 0\n"
     ]
    }
   ],
   "source": [
    "%load_ext autoreload\n",
    "%autoreload 2\n",
    "\n",
    "import os, re, gc, joblib\n",
    "\n",
    "import numpy as np\n",
    "import numpy_groupies as npg\n",
    "import scipy.sparse as sp\n",
    "import pandas as pd\n",
    "from sklearn.preprocessing import minmax_scale\n",
    "\n",
    "import matplotlib.pyplot as plt\n",
    "from matplotlib import rcParams\n",
    "from matplotlib.colors import ListedColormap, LogNorm\n",
    "\n",
    "import seaborn as sn\n",
    "\n",
    "import anndata\n",
    "\n",
    "import scanpy as sc\n",
    "import sctk as sk\n",
    "\n",
    "import torch\n",
    "import scvi"
   ]
  },
  {
   "cell_type": "code",
   "execution_count": 2,
   "id": "d1330743-af33-49cb-927e-c3ab5754035a",
   "metadata": {},
   "outputs": [],
   "source": [
    "from collections import Counter\n",
    "from sklearn.neighbors import KNeighborsTransformer"
   ]
  },
  {
   "cell_type": "markdown",
   "id": "3a4d997a-9b1f-42d0-9261-39b26194c8c1",
   "metadata": {
    "execution": {
     "iopub.execute_input": "2022-11-08T14:13:12.149610Z",
     "iopub.status.busy": "2022-11-08T14:13:12.149171Z",
     "iopub.status.idle": "2022-11-08T14:13:12.191337Z",
     "shell.execute_reply": "2022-11-08T14:13:12.190669Z",
     "shell.execute_reply.started": "2022-11-08T14:13:12.149571Z"
    },
    "tags": []
   },
   "source": [
    "import warnings\n",
    "\n",
    "warnings.simplefilter(action=\"ignore\", category=FutureWarning)"
   ]
  },
  {
   "cell_type": "code",
   "execution_count": 3,
   "id": "latest-neighborhood",
   "metadata": {
    "tags": []
   },
   "outputs": [],
   "source": [
    "rcParams[\"pdf.fonttype\"] = 42\n",
    "rcParams[\"ps.fonttype\"] = 42\n",
    "expr_cmap = sk.expression_colormap()\n",
    "np.set_printoptions(linewidth=150)\n",
    "sc.settings.verbosity = 0\n",
    "sk.set_figsize((4, 4))\n",
    "#torch.cuda.set_device(1)\n",
    "\n",
    "#PYTHON = \"/software/team205/miniconda3/envs/rapids-torch/bin/python\"\n",
    "\n",
    "#%cd ~/scratch/20220125_digestive_tract_integration/v2/"
   ]
  },
  {
   "cell_type": "markdown",
   "id": "gothic-circulation",
   "metadata": {},
   "source": [
    "# Define functions"
   ]
  },
  {
   "cell_type": "code",
   "execution_count": 4,
   "id": "1621a90e-a6ad-430e-8ebd-4361132dec7b",
   "metadata": {
    "tags": []
   },
   "outputs": [],
   "source": [
    "def weighted_knn_trainer(train_adata, train_adata_emb, label_key, n_neighbors=50):\n",
    "    \"\"\"Trains a weighted KNN classifier on ``train_adata``.\n",
    "    Parameters\n",
    "    ----------\n",
    "    train_adata: :class:`~anndata.AnnData`\n",
    "        Annotated dataset to be used to train KNN classifier with ``label_key`` as the target variable.\n",
    "    train_adata_emb: str\n",
    "        Name of the obsm layer to be used for calculation of neighbors. If set to \"X\", anndata.X will be\n",
    "        used\n",
    "    label_key: str\n",
    "        Name of the column to be used as target variable (e.g. cell_type) in ``train_adata`` and ``query_adata``.\n",
    "    n_neighbors: int\n",
    "        Number of nearest neighbors in KNN classifier.\n",
    "    \"\"\"\n",
    "    print(\n",
    "        f\"Weighted KNN with n_neighbors = {n_neighbors} ... \",\n",
    "        end=\"\",\n",
    "    )\n",
    "    k_neighbors_transformer = KNeighborsTransformer(\n",
    "        n_neighbors=n_neighbors,\n",
    "        mode=\"distance\",\n",
    "        algorithm=\"brute\",\n",
    "        metric=\"euclidean\",\n",
    "        n_jobs=-1,\n",
    "    )\n",
    "    if train_adata_emb == \"X\":\n",
    "        train_emb = train_adata.X\n",
    "    elif train_adata_emb in train_adata.obsm.keys():\n",
    "        train_emb = train_adata.obsm[train_adata_emb]\n",
    "    else:\n",
    "        raise ValueError(\n",
    "            \"train_adata_emb should be set to either 'X' or the name of the obsm layer to be used!\"\n",
    "        )\n",
    "    k_neighbors_transformer.fit(train_emb)\n",
    "    return k_neighbors_transformer"
   ]
  },
  {
   "cell_type": "code",
   "execution_count": 5,
   "id": "73b11da6-a3a1-46fa-b206-9a6cff87d126",
   "metadata": {},
   "outputs": [],
   "source": [
    "def weighted_knn_transfer(\n",
    "    query_adata,\n",
    "    query_adata_emb,\n",
    "    ref_adata_obs,\n",
    "    label_keys,\n",
    "    knn_model,\n",
    "    threshold=1,\n",
    "    pred_unknown=False,\n",
    "    mode=\"package\",\n",
    "):\n",
    "    \"\"\"Annotates ``query_adata`` cells with an input trained weighted KNN classifier.\n",
    "    Parameters\n",
    "    ----------\n",
    "    query_adata: :class:`~anndata.AnnData`\n",
    "        Annotated dataset to be used to queryate KNN classifier. Embedding to be used\n",
    "    query_adata_emb: str\n",
    "        Name of the obsm layer to be used for label transfer. If set to \"X\",\n",
    "        query_adata.X will be used\n",
    "    ref_adata_obs: :class:`pd.DataFrame`\n",
    "        obs of ref Anndata\n",
    "    label_keys: str\n",
    "        Names of the columns to be used as target variables (e.g. cell_type) in ``query_adata``.\n",
    "    knn_model: :class:`~sklearn.neighbors._graph.KNeighborsTransformer`\n",
    "        knn model trained on reference adata with weighted_knn_trainer function\n",
    "    threshold: float\n",
    "        Threshold of uncertainty used to annotating cells as \"Unknown\". cells with\n",
    "        uncertainties higher than this value will be annotated as \"Unknown\".\n",
    "        Set to 1 to keep all predictions. This enables one to later on play\n",
    "        with thresholds.\n",
    "    pred_unknown: bool\n",
    "        ``False`` by default. Whether to annotate any cell as \"unknown\" or not.\n",
    "        If `False`, ``threshold`` will not be used and each cell will be annotated\n",
    "        with the label which is the most common in its ``n_neighbors`` nearest cells.\n",
    "    mode: str\n",
    "        Has to be one of \"paper\" or \"package\". If mode is set to \"package\",\n",
    "        uncertainties will be 1 - P(pred_label), otherwise it will be 1 - P(true_label).\n",
    "    \"\"\"\n",
    "    if not type(knn_model) == KNeighborsTransformer:\n",
    "        raise ValueError(\n",
    "            \"knn_model should be of type sklearn.neighbors._graph.KNeighborsTransformer!\"\n",
    "        )\n",
    "\n",
    "    if query_adata_emb == \"X\":\n",
    "        query_emb = query_adata.X\n",
    "    elif query_adata_emb in query_adata.obsm.keys():\n",
    "        query_emb = query_adata.obsm[query_adata_emb]\n",
    "    else:\n",
    "        raise ValueError(\n",
    "            \"query_adata_emb should be set to either 'X' or the name of the obsm layer to be used!\"\n",
    "        )\n",
    "    top_k_distances, top_k_indices = k_neighbors_transformer.kneighbors(X=query_emb)\n",
    "\n",
    "    stds = np.std(top_k_distances, axis=1)\n",
    "    stds = (2.0 / stds) ** 2\n",
    "    stds = stds.reshape(-1, 1)\n",
    "\n",
    "    top_k_distances_tilda = np.exp(-np.true_divide(top_k_distances, stds))\n",
    "\n",
    "    weights = top_k_distances_tilda / np.sum(\n",
    "        top_k_distances_tilda, axis=1, keepdims=True\n",
    "    )\n",
    "    cols = ref_adata_obs.columns[ref_adata_obs.columns.str.startswith(label_keys)]\n",
    "    uncertainties = pd.DataFrame(columns=cols, index=query_adata.obs_names)\n",
    "    pred_labels = pd.DataFrame(columns=cols, index=query_adata.obs_names)\n",
    "    for i in range(len(weights)):\n",
    "        for j in cols:\n",
    "            y_train_labels = ref_adata_obs[j].values\n",
    "            unique_labels = np.unique(y_train_labels[top_k_indices[i]])\n",
    "            best_label, best_prob = None, 0.0\n",
    "            for candidate_label in unique_labels:\n",
    "                candidate_prob = weights[\n",
    "                    i, y_train_labels[top_k_indices[i]] == candidate_label\n",
    "                ].sum()\n",
    "                if best_prob < candidate_prob:\n",
    "                    best_prob = candidate_prob\n",
    "                    best_label = candidate_label\n",
    "\n",
    "            if pred_unknown:\n",
    "                if best_prob >= threshold:\n",
    "                    pred_label = best_label\n",
    "                else:\n",
    "                    pred_label = \"Unknown\"\n",
    "            else:\n",
    "                pred_label = best_label\n",
    "\n",
    "            if mode == \"package\":\n",
    "                uncertainties.iloc[i][j] = (max(1 - best_prob, 0))\n",
    "\n",
    "            else:\n",
    "                raise Exception(\"Inquery Mode!\")\n",
    "\n",
    "            pred_labels.iloc[i][j] = (pred_label)\n",
    "\n",
    "    print(\"finished!\")\n",
    "\n",
    "    return pred_labels, uncertainties"
   ]
  },
  {
   "cell_type": "markdown",
   "id": "686ac1dd-a883-4789-b17f-32fb8c9c6c27",
   "metadata": {},
   "source": [
    "# 1. Predict fine grained level on full epithelial object"
   ]
  },
  {
   "cell_type": "markdown",
   "id": "nutritional-restaurant",
   "metadata": {
    "tags": []
   },
   "source": [
    "## Load data"
   ]
  },
  {
   "cell_type": "code",
   "execution_count": 6,
   "id": "7878dcc9-ca64-4da6-909d-f1ed82c32e33",
   "metadata": {},
   "outputs": [],
   "source": [
    "adata = sc.read_h5ad('/home/jupyter/Annotations_v3/pre_scvi20221124_updated_donorID_20230126/with_doublets/pooled_healthy.lv20_batch256.with_broad_annotation.20220917.with_countlayers.20221124.Myeloid.20230126.h5ad')"
   ]
  },
  {
   "cell_type": "code",
   "execution_count": 7,
   "id": "72517017-da51-43d1-8c97-c5371936eae3",
   "metadata": {},
   "outputs": [],
   "source": [
    "ad_output = sc.read_h5ad('/home/jupyter/Annotations_v3/scvi_output20230126/Myeloid.hvg5000_noCC.scvi_output.20230126-ad1.h5ad')"
   ]
  },
  {
   "cell_type": "code",
   "execution_count": 8,
   "id": "1e707f92-3505-407d-b579-aafadd04ee39",
   "metadata": {},
   "outputs": [
    {
     "data": {
      "text/plain": [
       "AnnData object with n_obs × n_vars = 37393 × 36601\n",
       "    obs: 'latent_cell_probability', 'latent_RT_efficiency', 'cecilia22_predH', 'cecilia22_predH_prob', 'cecilia22_predH_uncertain', 'cecilia22_predL', 'cecilia22_predL_prob', 'cecilia22_predL_uncertain', 'elmentaite21_pred', 'elmentaite21_pred_prob', 'elmentaite21_pred_uncertain', 'suo22_pred', 'suo22_pred_prob', 'suo22_pred_uncertain', 'n_counts', 'log1p_n_counts', 'n_genes', 'log1p_n_genes', 'percent_mito', 'n_counts_mito', 'percent_ribo', 'n_counts_ribo', 'percent_hb', 'n_counts_hb', 'percent_top50', 'n_counts_raw', 'log1p_n_counts_raw', 'n_genes_raw', 'log1p_n_genes_raw', 'percent_mito_raw', 'n_counts_mito_raw', 'percent_ribo_raw', 'n_counts_ribo_raw', 'percent_hb_raw', 'n_counts_hb_raw', 'percent_top50_raw', 'n_counts_spliced', 'log1p_n_counts_spliced', 'n_genes_spliced', 'log1p_n_genes_spliced', 'percent_mito_spliced', 'n_counts_mito_spliced', 'percent_ribo_spliced', 'n_counts_ribo_spliced', 'percent_hb_spliced', 'n_counts_hb_spliced', 'percent_top50_spliced', 'n_counts_unspliced', 'log1p_n_counts_unspliced', 'n_genes_unspliced', 'log1p_n_genes_unspliced', 'percent_mito_unspliced', 'n_counts_mito_unspliced', 'percent_ribo_unspliced', 'n_counts_ribo_unspliced', 'percent_hb_unspliced', 'n_counts_hb_unspliced', 'percent_top50_unspliced', 'percent_soup', 'percent_spliced', 'qc_cluster', 'pass_auto_filter_mito20', 'good_qc_cluster_mito20', 'pass_auto_filter_mito50', 'good_qc_cluster_mito50', 'pass_auto_filter_mito80', 'good_qc_cluster_mito80', 'pass_auto_filter', 'good_qc_cluster', 'pass_default', 'sampleID', 'sourceID', 'donorID_original', 'study', 'donorID_corrected', 'donorID_unified', 'donor_category', 'donor_disease', 'organ_original', 'organ_unified', 'organ_broad', 'age_original', 'age_unified', 'age_continuousadult', 'age_continuousdev', 'sex', 'sample_type', 'sample_category', 'sample_retrieval', 'tissue_fraction', 'cell_fraction', 'cell_fraction_unified', 'cell_sorting', 'technology', 'include_150722', 'cluster_scrublet_score', 'bh_pval', 'scrublet_score', 'scrublet_score_z', 'scrublet_done', 'doublet', 'stringent_doublet', 'integration_grouping', '_scvi_batch', '_scvi_labels', 'broad_annot_20220914', 'martin19_pred', 'martin19_pred_prob', 'martin19_pred_uncertain', 'warner20_pred', 'warner20_pred_prob', 'warner20_pred_uncertain', 'broad_annot_20220917', 'annot_v2', 're5_clean', 'Conde_harmonised_clean', 'annot_v3', 'fine_annot'\n",
       "    var: 'gene_ids', 'feature_type', 'mito', 'ribo', 'hb', 'n_counts', 'n_counts_raw', 'n_counts_spliced', 'n_counts_unspliced', 'n_cells', 'n_cells_raw', 'n_cells_spliced', 'n_cells_unspliced', 'cc', 'ig', 'tcr'"
      ]
     },
     "execution_count": 8,
     "metadata": {},
     "output_type": "execute_result"
    }
   ],
   "source": [
    "adata"
   ]
  },
  {
   "cell_type": "code",
   "execution_count": 9,
   "id": "f8a61e02-fd8a-47ce-8406-b0f8a93b589d",
   "metadata": {},
   "outputs": [
    {
     "data": {
      "text/plain": [
       "AnnData object with n_obs × n_vars = 37393 × 4736\n",
       "    obs: 'latent_cell_probability', 'latent_RT_efficiency', 'cecilia22_predH', 'cecilia22_predH_prob', 'cecilia22_predH_uncertain', 'cecilia22_predL', 'cecilia22_predL_prob', 'cecilia22_predL_uncertain', 'elmentaite21_pred', 'elmentaite21_pred_prob', 'elmentaite21_pred_uncertain', 'suo22_pred', 'suo22_pred_prob', 'suo22_pred_uncertain', 'n_counts', 'log1p_n_counts', 'n_genes', 'log1p_n_genes', 'percent_mito', 'n_counts_mito', 'percent_ribo', 'n_counts_ribo', 'percent_hb', 'n_counts_hb', 'percent_top50', 'n_counts_raw', 'log1p_n_counts_raw', 'n_genes_raw', 'log1p_n_genes_raw', 'percent_mito_raw', 'n_counts_mito_raw', 'percent_ribo_raw', 'n_counts_ribo_raw', 'percent_hb_raw', 'n_counts_hb_raw', 'percent_top50_raw', 'n_counts_spliced', 'log1p_n_counts_spliced', 'n_genes_spliced', 'log1p_n_genes_spliced', 'percent_mito_spliced', 'n_counts_mito_spliced', 'percent_ribo_spliced', 'n_counts_ribo_spliced', 'percent_hb_spliced', 'n_counts_hb_spliced', 'percent_top50_spliced', 'n_counts_unspliced', 'log1p_n_counts_unspliced', 'n_genes_unspliced', 'log1p_n_genes_unspliced', 'percent_mito_unspliced', 'n_counts_mito_unspliced', 'percent_ribo_unspliced', 'n_counts_ribo_unspliced', 'percent_hb_unspliced', 'n_counts_hb_unspliced', 'percent_top50_unspliced', 'percent_soup', 'percent_spliced', 'qc_cluster', 'pass_auto_filter_mito20', 'good_qc_cluster_mito20', 'pass_auto_filter_mito50', 'good_qc_cluster_mito50', 'pass_auto_filter_mito80', 'good_qc_cluster_mito80', 'pass_auto_filter', 'good_qc_cluster', 'pass_default', 'sampleID', 'sourceID', 'donorID_original', 'study', 'donorID_corrected', 'donorID_unified', 'donor_category', 'donor_disease', 'organ_original', 'organ_unified', 'organ_broad', 'age_original', 'age_unified', 'age_continuousadult', 'age_continuousdev', 'sex', 'sample_type', 'sample_category', 'sample_retrieval', 'tissue_fraction', 'cell_fraction', 'cell_fraction_unified', 'cell_sorting', 'technology', 'include_150722', 'cluster_scrublet_score', 'bh_pval', 'scrublet_score', 'scrublet_score_z', 'scrublet_done', 'doublet', 'stringent_doublet', 'integration_grouping', '_scvi_batch', '_scvi_labels', 'broad_annot_20220914', 'martin19_pred', 'martin19_pred_prob', 'martin19_pred_uncertain', 'warner20_pred', 'warner20_pred_prob', 'warner20_pred_uncertain', 'broad_annot_20220917', 'annot_v2', 're5_clean', 'Conde_harmonised_clean', 'annot_v3', 'fine_annot'\n",
       "    var: 'gene_ids', 'feature_type', 'mito', 'ribo', 'hb', 'n_counts', 'n_counts_raw', 'n_counts_spliced', 'n_counts_unspliced', 'n_cells', 'n_cells_raw', 'n_cells_spliced', 'n_cells_unspliced', 'cc', 'ig', 'tcr', 'highly_variable', 'highly_variable_rank', 'means', 'variances', 'variances_norm'\n",
       "    uns: '_scvi_manager_uuid', '_scvi_uuid', 'hvg'\n",
       "    obsm: '_scvi_extra_continuous_covs'"
      ]
     },
     "execution_count": 9,
     "metadata": {},
     "output_type": "execute_result"
    }
   ],
   "source": [
    "ad_output"
   ]
  },
  {
   "cell_type": "code",
   "execution_count": 10,
   "id": "f85de08f-a554-4958-afd2-cfd0481a3812",
   "metadata": {},
   "outputs": [
    {
     "data": {
      "text/plain": [
       "Macrophage                8594\n",
       "DC_cDC2                   6381\n",
       "Mast                      5607\n",
       "Doublets                  4180\n",
       "Monocyte                  3792\n",
       "Macrophage_LYVE1          3627\n",
       "Macrophage_TREM2          1511\n",
       "DC_cDC1                    946\n",
       "Macrophage_MMP9            907\n",
       "DC_pDC                     565\n",
       "DC_migratory               417\n",
       "Erythrocytes               350\n",
       "Mono/neutrophil_MPO        178\n",
       "DC_langerhans              164\n",
       "Macrophage_CD5L            100\n",
       "Eosinophil/basophil         70\n",
       "Megakaryocyte/platelet       4\n",
       "Name: fine_annot, dtype: int64"
      ]
     },
     "execution_count": 10,
     "metadata": {},
     "output_type": "execute_result"
    }
   ],
   "source": [
    "adata.obs.fine_annot.value_counts()"
   ]
  },
  {
   "cell_type": "code",
   "execution_count": 11,
   "id": "5aa83f51-e58f-4e79-bfe3-9fdeb06be6d2",
   "metadata": {},
   "outputs": [],
   "source": [
    "adata = adata[:, adata.var_names.isin(ad_output.var_names)].copy()"
   ]
  },
  {
   "cell_type": "code",
   "execution_count": 12,
   "id": "f3c436f2-ce20-44f8-9cf4-03733b8e76c3",
   "metadata": {},
   "outputs": [
    {
     "data": {
      "text/plain": [
       "AnnData object with n_obs × n_vars = 37393 × 4736\n",
       "    obs: 'latent_cell_probability', 'latent_RT_efficiency', 'cecilia22_predH', 'cecilia22_predH_prob', 'cecilia22_predH_uncertain', 'cecilia22_predL', 'cecilia22_predL_prob', 'cecilia22_predL_uncertain', 'elmentaite21_pred', 'elmentaite21_pred_prob', 'elmentaite21_pred_uncertain', 'suo22_pred', 'suo22_pred_prob', 'suo22_pred_uncertain', 'n_counts', 'log1p_n_counts', 'n_genes', 'log1p_n_genes', 'percent_mito', 'n_counts_mito', 'percent_ribo', 'n_counts_ribo', 'percent_hb', 'n_counts_hb', 'percent_top50', 'n_counts_raw', 'log1p_n_counts_raw', 'n_genes_raw', 'log1p_n_genes_raw', 'percent_mito_raw', 'n_counts_mito_raw', 'percent_ribo_raw', 'n_counts_ribo_raw', 'percent_hb_raw', 'n_counts_hb_raw', 'percent_top50_raw', 'n_counts_spliced', 'log1p_n_counts_spliced', 'n_genes_spliced', 'log1p_n_genes_spliced', 'percent_mito_spliced', 'n_counts_mito_spliced', 'percent_ribo_spliced', 'n_counts_ribo_spliced', 'percent_hb_spliced', 'n_counts_hb_spliced', 'percent_top50_spliced', 'n_counts_unspliced', 'log1p_n_counts_unspliced', 'n_genes_unspliced', 'log1p_n_genes_unspliced', 'percent_mito_unspliced', 'n_counts_mito_unspliced', 'percent_ribo_unspliced', 'n_counts_ribo_unspliced', 'percent_hb_unspliced', 'n_counts_hb_unspliced', 'percent_top50_unspliced', 'percent_soup', 'percent_spliced', 'qc_cluster', 'pass_auto_filter_mito20', 'good_qc_cluster_mito20', 'pass_auto_filter_mito50', 'good_qc_cluster_mito50', 'pass_auto_filter_mito80', 'good_qc_cluster_mito80', 'pass_auto_filter', 'good_qc_cluster', 'pass_default', 'sampleID', 'sourceID', 'donorID_original', 'study', 'donorID_corrected', 'donorID_unified', 'donor_category', 'donor_disease', 'organ_original', 'organ_unified', 'organ_broad', 'age_original', 'age_unified', 'age_continuousadult', 'age_continuousdev', 'sex', 'sample_type', 'sample_category', 'sample_retrieval', 'tissue_fraction', 'cell_fraction', 'cell_fraction_unified', 'cell_sorting', 'technology', 'include_150722', 'cluster_scrublet_score', 'bh_pval', 'scrublet_score', 'scrublet_score_z', 'scrublet_done', 'doublet', 'stringent_doublet', 'integration_grouping', '_scvi_batch', '_scvi_labels', 'broad_annot_20220914', 'martin19_pred', 'martin19_pred_prob', 'martin19_pred_uncertain', 'warner20_pred', 'warner20_pred_prob', 'warner20_pred_uncertain', 'broad_annot_20220917', 'annot_v2', 're5_clean', 'Conde_harmonised_clean', 'annot_v3', 'fine_annot'\n",
       "    var: 'gene_ids', 'feature_type', 'mito', 'ribo', 'hb', 'n_counts', 'n_counts_raw', 'n_counts_spliced', 'n_counts_unspliced', 'n_cells', 'n_cells_raw', 'n_cells_spliced', 'n_cells_unspliced', 'cc', 'ig', 'tcr'"
      ]
     },
     "execution_count": 12,
     "metadata": {},
     "output_type": "execute_result"
    }
   ],
   "source": [
    "adata"
   ]
  },
  {
   "cell_type": "code",
   "execution_count": 13,
   "id": "10cca8bf-d3e7-49d6-a343-27f84660eeea",
   "metadata": {},
   "outputs": [
    {
     "name": "stdout",
     "output_type": "stream",
     "text": [
      "\u001b[34mINFO    \u001b[0m File \u001b[35m/home/jupyter/Annotations_v3/scvi_output20230126/Myeloid.hvg5000_noCC.scvi_outp\u001b[0m\n",
      "         \u001b[35mut.20230126.vae/\u001b[0m\u001b[95mmodel.pt\u001b[0m already downloaded                                         \n"
     ]
    },
    {
     "name": "stderr",
     "output_type": "stream",
     "text": [
      "/opt/conda/envs/scvi/lib/python3.9/site-packages/scvi/data/_utils.py:156: UserWarning: Category 28 in adata.obs['_scvi_batch'] has fewer than 3 cells. Models may not train properly.\n",
      "  warnings.warn(\n"
     ]
    }
   ],
   "source": [
    "#load reference that was run without study as a categorical co-variate\n",
    "scvi_ref = scvi.model.SCVI.load(\"/home/jupyter/Annotations_v3/scvi_output20230126/Myeloid.hvg5000_noCC.scvi_output.20230126.vae\",adata)"
   ]
  },
  {
   "cell_type": "markdown",
   "id": "minus-population",
   "metadata": {},
   "source": [
    "# Process"
   ]
  },
  {
   "cell_type": "markdown",
   "id": "recreational-platinum",
   "metadata": {},
   "source": [
    "## Train"
   ]
  },
  {
   "cell_type": "raw",
   "id": "df7d7ac0-b5be-4360-83d1-7192c55ef6d9",
   "metadata": {},
   "source": [
    "scvi_ref"
   ]
  },
  {
   "cell_type": "raw",
   "id": "44022cd7-d660-4c05-9ea5-810add29514d",
   "metadata": {
    "tags": []
   },
   "source": [
    "scvi_ref.adata"
   ]
  },
  {
   "cell_type": "raw",
   "id": "1063622d-ebac-449e-a438-3bacbce21f4c",
   "metadata": {
    "tags": []
   },
   "source": [
    "scvi_ref.adata.obs.columns"
   ]
  },
  {
   "cell_type": "raw",
   "id": "1cf13564-2ba7-4ae9-9679-e7605028a32c",
   "metadata": {
    "tags": []
   },
   "source": [
    "scanvi_ref = scvi.model.SCANVI.from_scvi_model(\n",
    "    scvi_ref, unlabeled_category=\"Unknown\", labels_key=\"fine_annot\"\n",
    ")"
   ]
  },
  {
   "cell_type": "raw",
   "id": "19114d0f-d6cc-4ac6-925d-869feda6855f",
   "metadata": {
    "tags": []
   },
   "source": [
    "scanvi_ref.train(max_epochs=20, n_samples_per_label=100)"
   ]
  },
  {
   "cell_type": "raw",
   "id": "a2bdc666-af2d-4cf9-95ca-86c87cb477c5",
   "metadata": {},
   "source": [
    "scanvi_ref"
   ]
  },
  {
   "cell_type": "raw",
   "id": "41005652-18e6-4ef8-833f-711f4cd233b3",
   "metadata": {},
   "source": [
    "scanvi_ref.save(\n",
    "    \"/home/jupyter/Annotations_v3/models/scanvi_compartments/Myeloid_hvg5000.noCC_scvi.scanvi_fine_annot.20230226/model.pt\"\n",
    ")"
   ]
  },
  {
   "cell_type": "code",
   "execution_count": 21,
   "id": "preliminary-raising",
   "metadata": {
    "tags": []
   },
   "outputs": [
    {
     "data": {
      "text/plain": [
       "AnnData object with n_obs × n_vars = 37393 × 4736\n",
       "    obs: 'latent_cell_probability', 'latent_RT_efficiency', 'cecilia22_predH', 'cecilia22_predH_prob', 'cecilia22_predH_uncertain', 'cecilia22_predL', 'cecilia22_predL_prob', 'cecilia22_predL_uncertain', 'elmentaite21_pred', 'elmentaite21_pred_prob', 'elmentaite21_pred_uncertain', 'suo22_pred', 'suo22_pred_prob', 'suo22_pred_uncertain', 'n_counts', 'log1p_n_counts', 'n_genes', 'log1p_n_genes', 'percent_mito', 'n_counts_mito', 'percent_ribo', 'n_counts_ribo', 'percent_hb', 'n_counts_hb', 'percent_top50', 'n_counts_raw', 'log1p_n_counts_raw', 'n_genes_raw', 'log1p_n_genes_raw', 'percent_mito_raw', 'n_counts_mito_raw', 'percent_ribo_raw', 'n_counts_ribo_raw', 'percent_hb_raw', 'n_counts_hb_raw', 'percent_top50_raw', 'n_counts_spliced', 'log1p_n_counts_spliced', 'n_genes_spliced', 'log1p_n_genes_spliced', 'percent_mito_spliced', 'n_counts_mito_spliced', 'percent_ribo_spliced', 'n_counts_ribo_spliced', 'percent_hb_spliced', 'n_counts_hb_spliced', 'percent_top50_spliced', 'n_counts_unspliced', 'log1p_n_counts_unspliced', 'n_genes_unspliced', 'log1p_n_genes_unspliced', 'percent_mito_unspliced', 'n_counts_mito_unspliced', 'percent_ribo_unspliced', 'n_counts_ribo_unspliced', 'percent_hb_unspliced', 'n_counts_hb_unspliced', 'percent_top50_unspliced', 'percent_soup', 'percent_spliced', 'qc_cluster', 'pass_auto_filter_mito20', 'good_qc_cluster_mito20', 'pass_auto_filter_mito50', 'good_qc_cluster_mito50', 'pass_auto_filter_mito80', 'good_qc_cluster_mito80', 'pass_auto_filter', 'good_qc_cluster', 'pass_default', 'sampleID', 'sourceID', 'donorID_original', 'study', 'donorID_corrected', 'donorID_unified', 'donor_category', 'donor_disease', 'organ_original', 'organ_unified', 'organ_broad', 'age_original', 'age_unified', 'age_continuousadult', 'age_continuousdev', 'sex', 'sample_type', 'sample_category', 'sample_retrieval', 'tissue_fraction', 'cell_fraction', 'cell_fraction_unified', 'cell_sorting', 'technology', 'include_150722', 'cluster_scrublet_score', 'bh_pval', 'scrublet_score', 'scrublet_score_z', 'scrublet_done', 'doublet', 'stringent_doublet', 'integration_grouping', '_scvi_batch', '_scvi_labels', 'broad_annot_20220914', 'martin19_pred', 'martin19_pred_prob', 'martin19_pred_uncertain', 'warner20_pred', 'warner20_pred_prob', 'warner20_pred_uncertain', 'broad_annot_20220917', 'annot_v2', 're5_clean', 'Conde_harmonised_clean', 'annot_v3', 'fine_annot'\n",
       "    var: 'gene_ids', 'feature_type', 'mito', 'ribo', 'hb', 'n_counts', 'n_counts_raw', 'n_counts_spliced', 'n_counts_unspliced', 'n_cells', 'n_cells_raw', 'n_cells_spliced', 'n_cells_unspliced', 'cc', 'ig', 'tcr'\n",
       "    uns: '_scvi_uuid', '_scvi_manager_uuid'\n",
       "    obsm: '_scvi_extra_continuous_covs'"
      ]
     },
     "execution_count": 21,
     "metadata": {},
     "output_type": "execute_result"
    }
   ],
   "source": [
    "scanvi_ref.adata"
   ]
  },
  {
   "cell_type": "raw",
   "id": "7307e97e-ede1-41d0-af72-2a1f75999ed3",
   "metadata": {
    "tags": []
   },
   "source": [
    "scanvi_ref.adata.obsm[\"X_scANVI\"] = scanvi_ref.get_latent_representation()"
   ]
  },
  {
   "cell_type": "raw",
   "id": "cfd0d0a9-1cd3-46a8-9778-d73611c3ba29",
   "metadata": {},
   "source": [
    "pd.DataFrame(\n",
    "    scanvi_ref.adata.obsm[\"X_scANVI\"],\n",
    "    index=scanvi_ref.adata.obs_names,\n",
    "    columns=[f\"LV{i+1}\" for i in range(scanvi_ref.adata.obsm[\"X_scANVI\"].shape[1])],\n",
    ").to_csv(\n",
    "    \"/home/jupyter/Annotations_v3/models/scanvi_compartments/Myeloid_hvg5000.noCC_scvi.scanvi_fine_annot.20230226.csv.gz\"\n",
    ")"
   ]
  },
  {
   "cell_type": "code",
   "execution_count": 14,
   "id": "46f2f66b-9b27-4d25-8532-c9e213424b54",
   "metadata": {},
   "outputs": [],
   "source": [
    "x_scanvi = pd.read_csv(\n",
    "    \"/home/jupyter/Annotations_v3/models/scanvi_compartments/Myeloid_hvg5000.noCC_scvi.scanvi_fine_annot.20230226.csv.gz\",compression='gzip',index_col=0)"
   ]
  },
  {
   "cell_type": "code",
   "execution_count": 15,
   "id": "4562c518-9ac6-426f-9378-17430f8749e3",
   "metadata": {},
   "outputs": [
    {
     "data": {
      "text/html": [
       "<div>\n",
       "<style scoped>\n",
       "    .dataframe tbody tr th:only-of-type {\n",
       "        vertical-align: middle;\n",
       "    }\n",
       "\n",
       "    .dataframe tbody tr th {\n",
       "        vertical-align: top;\n",
       "    }\n",
       "\n",
       "    .dataframe thead th {\n",
       "        text-align: right;\n",
       "    }\n",
       "</style>\n",
       "<table border=\"1\" class=\"dataframe\">\n",
       "  <thead>\n",
       "    <tr style=\"text-align: right;\">\n",
       "      <th></th>\n",
       "      <th>LV1</th>\n",
       "      <th>LV2</th>\n",
       "      <th>LV3</th>\n",
       "      <th>LV4</th>\n",
       "      <th>LV5</th>\n",
       "      <th>LV6</th>\n",
       "      <th>LV7</th>\n",
       "      <th>LV8</th>\n",
       "      <th>LV9</th>\n",
       "      <th>LV10</th>\n",
       "      <th>LV11</th>\n",
       "      <th>LV12</th>\n",
       "      <th>LV13</th>\n",
       "      <th>LV14</th>\n",
       "      <th>LV15</th>\n",
       "      <th>LV16</th>\n",
       "      <th>LV17</th>\n",
       "      <th>LV18</th>\n",
       "      <th>LV19</th>\n",
       "      <th>LV20</th>\n",
       "    </tr>\n",
       "    <tr>\n",
       "      <th>index</th>\n",
       "      <th></th>\n",
       "      <th></th>\n",
       "      <th></th>\n",
       "      <th></th>\n",
       "      <th></th>\n",
       "      <th></th>\n",
       "      <th></th>\n",
       "      <th></th>\n",
       "      <th></th>\n",
       "      <th></th>\n",
       "      <th></th>\n",
       "      <th></th>\n",
       "      <th></th>\n",
       "      <th></th>\n",
       "      <th></th>\n",
       "      <th></th>\n",
       "      <th></th>\n",
       "      <th></th>\n",
       "      <th></th>\n",
       "      <th></th>\n",
       "    </tr>\n",
       "  </thead>\n",
       "  <tbody>\n",
       "    <tr>\n",
       "      <th>AAACGCTAGCGACCCT-GSM4600896</th>\n",
       "      <td>-0.029375</td>\n",
       "      <td>0.598412</td>\n",
       "      <td>0.074087</td>\n",
       "      <td>-0.137727</td>\n",
       "      <td>1.263821</td>\n",
       "      <td>0.124621</td>\n",
       "      <td>-0.035878</td>\n",
       "      <td>0.288551</td>\n",
       "      <td>1.095610</td>\n",
       "      <td>-0.144275</td>\n",
       "      <td>-0.017269</td>\n",
       "      <td>-1.828688</td>\n",
       "      <td>0.023520</td>\n",
       "      <td>-0.101623</td>\n",
       "      <td>0.065990</td>\n",
       "      <td>1.976230</td>\n",
       "      <td>-0.711546</td>\n",
       "      <td>0.730882</td>\n",
       "      <td>0.287919</td>\n",
       "      <td>0.056095</td>\n",
       "    </tr>\n",
       "    <tr>\n",
       "      <th>AAAGGGCAGTCACACT-GSM4600896</th>\n",
       "      <td>-0.036976</td>\n",
       "      <td>0.498846</td>\n",
       "      <td>0.082328</td>\n",
       "      <td>-0.121302</td>\n",
       "      <td>2.019891</td>\n",
       "      <td>0.137434</td>\n",
       "      <td>-0.032392</td>\n",
       "      <td>-0.203248</td>\n",
       "      <td>1.343846</td>\n",
       "      <td>-0.196210</td>\n",
       "      <td>-0.028496</td>\n",
       "      <td>-1.695960</td>\n",
       "      <td>-0.007679</td>\n",
       "      <td>-0.124085</td>\n",
       "      <td>0.055898</td>\n",
       "      <td>0.734803</td>\n",
       "      <td>0.281928</td>\n",
       "      <td>0.510984</td>\n",
       "      <td>0.403333</td>\n",
       "      <td>0.009518</td>\n",
       "    </tr>\n",
       "    <tr>\n",
       "      <th>AAAGGGCCAACACAGG-GSM4600896</th>\n",
       "      <td>-0.222939</td>\n",
       "      <td>-0.784251</td>\n",
       "      <td>0.012773</td>\n",
       "      <td>-0.253297</td>\n",
       "      <td>0.447109</td>\n",
       "      <td>-3.342697</td>\n",
       "      <td>-0.071255</td>\n",
       "      <td>-0.046597</td>\n",
       "      <td>-1.190531</td>\n",
       "      <td>-0.182178</td>\n",
       "      <td>0.075084</td>\n",
       "      <td>-1.371584</td>\n",
       "      <td>0.085910</td>\n",
       "      <td>-0.212031</td>\n",
       "      <td>-0.038512</td>\n",
       "      <td>-1.133625</td>\n",
       "      <td>1.070159</td>\n",
       "      <td>0.103679</td>\n",
       "      <td>1.218980</td>\n",
       "      <td>0.616137</td>\n",
       "    </tr>\n",
       "    <tr>\n",
       "      <th>AAAGTCCGTCGAAGCA-GSM4600896</th>\n",
       "      <td>-0.040166</td>\n",
       "      <td>0.208586</td>\n",
       "      <td>0.075654</td>\n",
       "      <td>-0.118172</td>\n",
       "      <td>1.361113</td>\n",
       "      <td>0.257864</td>\n",
       "      <td>-0.036177</td>\n",
       "      <td>-0.090816</td>\n",
       "      <td>0.782147</td>\n",
       "      <td>-0.080299</td>\n",
       "      <td>-0.010892</td>\n",
       "      <td>-2.149660</td>\n",
       "      <td>0.002015</td>\n",
       "      <td>-0.057738</td>\n",
       "      <td>-0.005992</td>\n",
       "      <td>0.889079</td>\n",
       "      <td>-0.800602</td>\n",
       "      <td>0.486683</td>\n",
       "      <td>-0.233410</td>\n",
       "      <td>0.441300</td>\n",
       "    </tr>\n",
       "    <tr>\n",
       "      <th>AAAGTGACACCCATAA-GSM4600896</th>\n",
       "      <td>-0.086671</td>\n",
       "      <td>0.774538</td>\n",
       "      <td>0.042071</td>\n",
       "      <td>-0.076656</td>\n",
       "      <td>1.404197</td>\n",
       "      <td>0.399673</td>\n",
       "      <td>-0.038933</td>\n",
       "      <td>-1.371565</td>\n",
       "      <td>0.500224</td>\n",
       "      <td>-0.060172</td>\n",
       "      <td>-0.042539</td>\n",
       "      <td>-2.294494</td>\n",
       "      <td>-0.002884</td>\n",
       "      <td>0.001888</td>\n",
       "      <td>-0.009952</td>\n",
       "      <td>1.053782</td>\n",
       "      <td>-0.709229</td>\n",
       "      <td>-0.161011</td>\n",
       "      <td>-0.594445</td>\n",
       "      <td>0.316283</td>\n",
       "    </tr>\n",
       "    <tr>\n",
       "      <th>...</th>\n",
       "      <td>...</td>\n",
       "      <td>...</td>\n",
       "      <td>...</td>\n",
       "      <td>...</td>\n",
       "      <td>...</td>\n",
       "      <td>...</td>\n",
       "      <td>...</td>\n",
       "      <td>...</td>\n",
       "      <td>...</td>\n",
       "      <td>...</td>\n",
       "      <td>...</td>\n",
       "      <td>...</td>\n",
       "      <td>...</td>\n",
       "      <td>...</td>\n",
       "      <td>...</td>\n",
       "      <td>...</td>\n",
       "      <td>...</td>\n",
       "      <td>...</td>\n",
       "      <td>...</td>\n",
       "      <td>...</td>\n",
       "    </tr>\n",
       "    <tr>\n",
       "      <th>TCTTTCCTCCTGCAGG-GSM5525958</th>\n",
       "      <td>-0.042964</td>\n",
       "      <td>-1.354237</td>\n",
       "      <td>-0.037096</td>\n",
       "      <td>-0.068821</td>\n",
       "      <td>0.841769</td>\n",
       "      <td>0.887550</td>\n",
       "      <td>0.027339</td>\n",
       "      <td>-0.705557</td>\n",
       "      <td>0.050462</td>\n",
       "      <td>-0.046727</td>\n",
       "      <td>0.007477</td>\n",
       "      <td>-0.011443</td>\n",
       "      <td>0.068615</td>\n",
       "      <td>0.121413</td>\n",
       "      <td>-0.032975</td>\n",
       "      <td>-0.932305</td>\n",
       "      <td>-0.043650</td>\n",
       "      <td>-0.076635</td>\n",
       "      <td>-0.224351</td>\n",
       "      <td>-0.324805</td>\n",
       "    </tr>\n",
       "    <tr>\n",
       "      <th>TGAGCCGTCTTGAGGT-GSM5525958</th>\n",
       "      <td>-0.005315</td>\n",
       "      <td>-0.838935</td>\n",
       "      <td>0.008191</td>\n",
       "      <td>-0.066718</td>\n",
       "      <td>-0.206473</td>\n",
       "      <td>-0.274866</td>\n",
       "      <td>-0.003288</td>\n",
       "      <td>-1.118631</td>\n",
       "      <td>0.522161</td>\n",
       "      <td>0.002127</td>\n",
       "      <td>-0.011243</td>\n",
       "      <td>0.968082</td>\n",
       "      <td>0.040222</td>\n",
       "      <td>0.068800</td>\n",
       "      <td>0.090801</td>\n",
       "      <td>0.803508</td>\n",
       "      <td>-0.662949</td>\n",
       "      <td>-0.977344</td>\n",
       "      <td>-0.179212</td>\n",
       "      <td>0.064305</td>\n",
       "    </tr>\n",
       "    <tr>\n",
       "      <th>TGGCTGGCAATACGCT-GSM5525958</th>\n",
       "      <td>-0.059708</td>\n",
       "      <td>-0.009673</td>\n",
       "      <td>0.062703</td>\n",
       "      <td>-0.111497</td>\n",
       "      <td>-0.826880</td>\n",
       "      <td>-1.385922</td>\n",
       "      <td>-0.059768</td>\n",
       "      <td>-1.405210</td>\n",
       "      <td>0.603722</td>\n",
       "      <td>0.183278</td>\n",
       "      <td>0.082135</td>\n",
       "      <td>0.210807</td>\n",
       "      <td>-0.000286</td>\n",
       "      <td>0.042226</td>\n",
       "      <td>0.091518</td>\n",
       "      <td>-0.131342</td>\n",
       "      <td>-0.263850</td>\n",
       "      <td>0.614054</td>\n",
       "      <td>-1.214533</td>\n",
       "      <td>0.430498</td>\n",
       "    </tr>\n",
       "    <tr>\n",
       "      <th>TTCGGTCAGTAGTGCG-GSM5525958</th>\n",
       "      <td>0.004165</td>\n",
       "      <td>0.563585</td>\n",
       "      <td>0.046782</td>\n",
       "      <td>-0.065701</td>\n",
       "      <td>-0.740881</td>\n",
       "      <td>0.666559</td>\n",
       "      <td>-0.032635</td>\n",
       "      <td>1.290405</td>\n",
       "      <td>0.106503</td>\n",
       "      <td>0.070378</td>\n",
       "      <td>-0.020684</td>\n",
       "      <td>0.943078</td>\n",
       "      <td>0.069045</td>\n",
       "      <td>0.107729</td>\n",
       "      <td>0.037142</td>\n",
       "      <td>-1.214698</td>\n",
       "      <td>0.133094</td>\n",
       "      <td>-0.384066</td>\n",
       "      <td>0.218494</td>\n",
       "      <td>-1.145161</td>\n",
       "    </tr>\n",
       "    <tr>\n",
       "      <th>TTGGCAAAGAGGTACC-GSM5525958</th>\n",
       "      <td>0.006897</td>\n",
       "      <td>-0.699542</td>\n",
       "      <td>0.006502</td>\n",
       "      <td>-0.085100</td>\n",
       "      <td>-0.683592</td>\n",
       "      <td>-0.574704</td>\n",
       "      <td>-0.072277</td>\n",
       "      <td>-1.206445</td>\n",
       "      <td>0.815650</td>\n",
       "      <td>0.196455</td>\n",
       "      <td>0.095589</td>\n",
       "      <td>-0.308480</td>\n",
       "      <td>0.048324</td>\n",
       "      <td>0.095660</td>\n",
       "      <td>0.039776</td>\n",
       "      <td>-0.558398</td>\n",
       "      <td>-1.080783</td>\n",
       "      <td>0.435464</td>\n",
       "      <td>-0.833483</td>\n",
       "      <td>-0.049984</td>\n",
       "    </tr>\n",
       "  </tbody>\n",
       "</table>\n",
       "<p>37393 rows × 20 columns</p>\n",
       "</div>"
      ],
      "text/plain": [
       "                                  LV1       LV2       LV3       LV4       LV5  \\\n",
       "index                                                                           \n",
       "AAACGCTAGCGACCCT-GSM4600896 -0.029375  0.598412  0.074087 -0.137727  1.263821   \n",
       "AAAGGGCAGTCACACT-GSM4600896 -0.036976  0.498846  0.082328 -0.121302  2.019891   \n",
       "AAAGGGCCAACACAGG-GSM4600896 -0.222939 -0.784251  0.012773 -0.253297  0.447109   \n",
       "AAAGTCCGTCGAAGCA-GSM4600896 -0.040166  0.208586  0.075654 -0.118172  1.361113   \n",
       "AAAGTGACACCCATAA-GSM4600896 -0.086671  0.774538  0.042071 -0.076656  1.404197   \n",
       "...                               ...       ...       ...       ...       ...   \n",
       "TCTTTCCTCCTGCAGG-GSM5525958 -0.042964 -1.354237 -0.037096 -0.068821  0.841769   \n",
       "TGAGCCGTCTTGAGGT-GSM5525958 -0.005315 -0.838935  0.008191 -0.066718 -0.206473   \n",
       "TGGCTGGCAATACGCT-GSM5525958 -0.059708 -0.009673  0.062703 -0.111497 -0.826880   \n",
       "TTCGGTCAGTAGTGCG-GSM5525958  0.004165  0.563585  0.046782 -0.065701 -0.740881   \n",
       "TTGGCAAAGAGGTACC-GSM5525958  0.006897 -0.699542  0.006502 -0.085100 -0.683592   \n",
       "\n",
       "                                  LV6       LV7       LV8       LV9      LV10  \\\n",
       "index                                                                           \n",
       "AAACGCTAGCGACCCT-GSM4600896  0.124621 -0.035878  0.288551  1.095610 -0.144275   \n",
       "AAAGGGCAGTCACACT-GSM4600896  0.137434 -0.032392 -0.203248  1.343846 -0.196210   \n",
       "AAAGGGCCAACACAGG-GSM4600896 -3.342697 -0.071255 -0.046597 -1.190531 -0.182178   \n",
       "AAAGTCCGTCGAAGCA-GSM4600896  0.257864 -0.036177 -0.090816  0.782147 -0.080299   \n",
       "AAAGTGACACCCATAA-GSM4600896  0.399673 -0.038933 -1.371565  0.500224 -0.060172   \n",
       "...                               ...       ...       ...       ...       ...   \n",
       "TCTTTCCTCCTGCAGG-GSM5525958  0.887550  0.027339 -0.705557  0.050462 -0.046727   \n",
       "TGAGCCGTCTTGAGGT-GSM5525958 -0.274866 -0.003288 -1.118631  0.522161  0.002127   \n",
       "TGGCTGGCAATACGCT-GSM5525958 -1.385922 -0.059768 -1.405210  0.603722  0.183278   \n",
       "TTCGGTCAGTAGTGCG-GSM5525958  0.666559 -0.032635  1.290405  0.106503  0.070378   \n",
       "TTGGCAAAGAGGTACC-GSM5525958 -0.574704 -0.072277 -1.206445  0.815650  0.196455   \n",
       "\n",
       "                                 LV11      LV12      LV13      LV14      LV15  \\\n",
       "index                                                                           \n",
       "AAACGCTAGCGACCCT-GSM4600896 -0.017269 -1.828688  0.023520 -0.101623  0.065990   \n",
       "AAAGGGCAGTCACACT-GSM4600896 -0.028496 -1.695960 -0.007679 -0.124085  0.055898   \n",
       "AAAGGGCCAACACAGG-GSM4600896  0.075084 -1.371584  0.085910 -0.212031 -0.038512   \n",
       "AAAGTCCGTCGAAGCA-GSM4600896 -0.010892 -2.149660  0.002015 -0.057738 -0.005992   \n",
       "AAAGTGACACCCATAA-GSM4600896 -0.042539 -2.294494 -0.002884  0.001888 -0.009952   \n",
       "...                               ...       ...       ...       ...       ...   \n",
       "TCTTTCCTCCTGCAGG-GSM5525958  0.007477 -0.011443  0.068615  0.121413 -0.032975   \n",
       "TGAGCCGTCTTGAGGT-GSM5525958 -0.011243  0.968082  0.040222  0.068800  0.090801   \n",
       "TGGCTGGCAATACGCT-GSM5525958  0.082135  0.210807 -0.000286  0.042226  0.091518   \n",
       "TTCGGTCAGTAGTGCG-GSM5525958 -0.020684  0.943078  0.069045  0.107729  0.037142   \n",
       "TTGGCAAAGAGGTACC-GSM5525958  0.095589 -0.308480  0.048324  0.095660  0.039776   \n",
       "\n",
       "                                 LV16      LV17      LV18      LV19      LV20  \n",
       "index                                                                          \n",
       "AAACGCTAGCGACCCT-GSM4600896  1.976230 -0.711546  0.730882  0.287919  0.056095  \n",
       "AAAGGGCAGTCACACT-GSM4600896  0.734803  0.281928  0.510984  0.403333  0.009518  \n",
       "AAAGGGCCAACACAGG-GSM4600896 -1.133625  1.070159  0.103679  1.218980  0.616137  \n",
       "AAAGTCCGTCGAAGCA-GSM4600896  0.889079 -0.800602  0.486683 -0.233410  0.441300  \n",
       "AAAGTGACACCCATAA-GSM4600896  1.053782 -0.709229 -0.161011 -0.594445  0.316283  \n",
       "...                               ...       ...       ...       ...       ...  \n",
       "TCTTTCCTCCTGCAGG-GSM5525958 -0.932305 -0.043650 -0.076635 -0.224351 -0.324805  \n",
       "TGAGCCGTCTTGAGGT-GSM5525958  0.803508 -0.662949 -0.977344 -0.179212  0.064305  \n",
       "TGGCTGGCAATACGCT-GSM5525958 -0.131342 -0.263850  0.614054 -1.214533  0.430498  \n",
       "TTCGGTCAGTAGTGCG-GSM5525958 -1.214698  0.133094 -0.384066  0.218494 -1.145161  \n",
       "TTGGCAAAGAGGTACC-GSM5525958 -0.558398 -1.080783  0.435464 -0.833483 -0.049984  \n",
       "\n",
       "[37393 rows x 20 columns]"
      ]
     },
     "execution_count": 15,
     "metadata": {},
     "output_type": "execute_result"
    }
   ],
   "source": [
    "x_scanvi"
   ]
  },
  {
   "cell_type": "code",
   "execution_count": 16,
   "id": "a87154a1-e5d3-431f-b90e-999c6469a99e",
   "metadata": {},
   "outputs": [],
   "source": [
    "adata.obsm['X_scANVI'] = x_scanvi"
   ]
  },
  {
   "cell_type": "markdown",
   "id": "physical-lover",
   "metadata": {},
   "source": [
    "## Query"
   ]
  },
  {
   "cell_type": "code",
   "execution_count": 17,
   "id": "everyday-subscription",
   "metadata": {
    "tags": []
   },
   "outputs": [],
   "source": [
    "disease_ad = sc.read('/home/jupyter/neutrophils/pooled_healthy.gene_cellbender.bad_qc_cluster_mito80.neutrophil.20221013.h5ad')"
   ]
  },
  {
   "cell_type": "code",
   "execution_count": 18,
   "id": "c1cfa0d3-cadd-4a19-b940-e7ccd4a50579",
   "metadata": {},
   "outputs": [
    {
     "data": {
      "text/plain": [
       "AnnData object with n_obs × n_vars = 1893 × 36601\n",
       "    obs: 'latent_cell_probability', 'latent_RT_efficiency', 'cecilia22_predH', 'cecilia22_predH_prob', 'cecilia22_predH_uncertain', 'cecilia22_predL', 'cecilia22_predL_prob', 'cecilia22_predL_uncertain', 'elmentaite21_pred', 'elmentaite21_pred_prob', 'elmentaite21_pred_uncertain', 'suo22_pred', 'suo22_pred_prob', 'suo22_pred_uncertain', 'n_counts', 'log1p_n_counts', 'n_genes', 'log1p_n_genes', 'percent_mito', 'n_counts_mito', 'percent_ribo', 'n_counts_ribo', 'percent_hb', 'n_counts_hb', 'percent_top50', 'n_counts_raw', 'log1p_n_counts_raw', 'n_genes_raw', 'log1p_n_genes_raw', 'percent_mito_raw', 'n_counts_mito_raw', 'percent_ribo_raw', 'n_counts_ribo_raw', 'percent_hb_raw', 'n_counts_hb_raw', 'percent_top50_raw', 'n_counts_spliced', 'log1p_n_counts_spliced', 'n_genes_spliced', 'log1p_n_genes_spliced', 'percent_mito_spliced', 'n_counts_mito_spliced', 'percent_ribo_spliced', 'n_counts_ribo_spliced', 'percent_hb_spliced', 'n_counts_hb_spliced', 'percent_top50_spliced', 'n_counts_unspliced', 'log1p_n_counts_unspliced', 'n_genes_unspliced', 'log1p_n_genes_unspliced', 'percent_mito_unspliced', 'n_counts_mito_unspliced', 'percent_ribo_unspliced', 'n_counts_ribo_unspliced', 'percent_hb_unspliced', 'n_counts_hb_unspliced', 'percent_top50_unspliced', 'percent_soup', 'percent_spliced', 'qc_cluster', 'pass_auto_filter_mito20', 'good_qc_cluster_mito20', 'pass_auto_filter_mito50', 'good_qc_cluster_mito50', 'pass_auto_filter_mito80', 'good_qc_cluster_mito80', 'pass_auto_filter', 'good_qc_cluster', 'pass_default', 'sampleID', 'sourceID', 'donorID_original', 'study', 'donorID_corrected', 'donorID_unified', 'donor_category', 'donor_disease', 'organ_original', 'organ_unified', 'organ_broad', 'age_original', 'age_unified', 'age_continuousadult', 'age_continuousdev', 'sex', 'sample_type', 'sample_category', 'sample_retrieval', 'tissue_fraction', 'cell_fraction', 'cell_fraction_unified', 'cell_sorting', 'technology', 'include_150722'\n",
       "    var: 'gene_ids', 'feature_type', 'mito', 'ribo', 'hb', 'n_counts', 'n_counts_raw', 'n_counts_spliced', 'n_counts_unspliced', 'n_cells', 'n_cells_raw', 'n_cells_spliced', 'n_cells_unspliced', 'cc', 'ig', 'tcr'"
      ]
     },
     "execution_count": 18,
     "metadata": {},
     "output_type": "execute_result"
    }
   ],
   "source": [
    "disease_ad"
   ]
  },
  {
   "cell_type": "code",
   "execution_count": 19,
   "id": "af25171e-b6c3-4be5-b4ed-2a32a9f6319d",
   "metadata": {},
   "outputs": [],
   "source": [
    "disease_ad = disease_ad[:, disease_ad.var_names.isin(ad_output.var_names)].copy()"
   ]
  },
  {
   "cell_type": "code",
   "execution_count": 20,
   "id": "e4a11420-c722-4f61-82d7-c25e76ef8598",
   "metadata": {},
   "outputs": [
    {
     "data": {
      "text/plain": [
       "AnnData object with n_obs × n_vars = 1893 × 4736\n",
       "    obs: 'latent_cell_probability', 'latent_RT_efficiency', 'cecilia22_predH', 'cecilia22_predH_prob', 'cecilia22_predH_uncertain', 'cecilia22_predL', 'cecilia22_predL_prob', 'cecilia22_predL_uncertain', 'elmentaite21_pred', 'elmentaite21_pred_prob', 'elmentaite21_pred_uncertain', 'suo22_pred', 'suo22_pred_prob', 'suo22_pred_uncertain', 'n_counts', 'log1p_n_counts', 'n_genes', 'log1p_n_genes', 'percent_mito', 'n_counts_mito', 'percent_ribo', 'n_counts_ribo', 'percent_hb', 'n_counts_hb', 'percent_top50', 'n_counts_raw', 'log1p_n_counts_raw', 'n_genes_raw', 'log1p_n_genes_raw', 'percent_mito_raw', 'n_counts_mito_raw', 'percent_ribo_raw', 'n_counts_ribo_raw', 'percent_hb_raw', 'n_counts_hb_raw', 'percent_top50_raw', 'n_counts_spliced', 'log1p_n_counts_spliced', 'n_genes_spliced', 'log1p_n_genes_spliced', 'percent_mito_spliced', 'n_counts_mito_spliced', 'percent_ribo_spliced', 'n_counts_ribo_spliced', 'percent_hb_spliced', 'n_counts_hb_spliced', 'percent_top50_spliced', 'n_counts_unspliced', 'log1p_n_counts_unspliced', 'n_genes_unspliced', 'log1p_n_genes_unspliced', 'percent_mito_unspliced', 'n_counts_mito_unspliced', 'percent_ribo_unspliced', 'n_counts_ribo_unspliced', 'percent_hb_unspliced', 'n_counts_hb_unspliced', 'percent_top50_unspliced', 'percent_soup', 'percent_spliced', 'qc_cluster', 'pass_auto_filter_mito20', 'good_qc_cluster_mito20', 'pass_auto_filter_mito50', 'good_qc_cluster_mito50', 'pass_auto_filter_mito80', 'good_qc_cluster_mito80', 'pass_auto_filter', 'good_qc_cluster', 'pass_default', 'sampleID', 'sourceID', 'donorID_original', 'study', 'donorID_corrected', 'donorID_unified', 'donor_category', 'donor_disease', 'organ_original', 'organ_unified', 'organ_broad', 'age_original', 'age_unified', 'age_continuousadult', 'age_continuousdev', 'sex', 'sample_type', 'sample_category', 'sample_retrieval', 'tissue_fraction', 'cell_fraction', 'cell_fraction_unified', 'cell_sorting', 'technology', 'include_150722'\n",
       "    var: 'gene_ids', 'feature_type', 'mito', 'ribo', 'hb', 'n_counts', 'n_counts_raw', 'n_counts_spliced', 'n_counts_unspliced', 'n_cells', 'n_cells_raw', 'n_cells_spliced', 'n_cells_unspliced', 'cc', 'ig', 'tcr'"
      ]
     },
     "execution_count": 20,
     "metadata": {},
     "output_type": "execute_result"
    }
   ],
   "source": [
    "disease_ad"
   ]
  },
  {
   "cell_type": "code",
   "execution_count": 21,
   "id": "bigger-prevention",
   "metadata": {
    "tags": []
   },
   "outputs": [
    {
     "name": "stdout",
     "output_type": "stream",
     "text": [
      "\u001b[34mINFO    \u001b[0m File \u001b[35m/home/jupyter/Annotations_v3/models/scanvi_compartments/Myeloid_hvg5000.noCC_sc\u001b[0m\n",
      "         \u001b[35mvi.scanvi_fine_annot.20230226/model.pt/\u001b[0m\u001b[95mmodel.pt\u001b[0m already downloaded                  \n"
     ]
    },
    {
     "name": "stderr",
     "output_type": "stream",
     "text": [
      "/opt/conda/envs/scvi/lib/python3.9/site-packages/scvi/data/fields/_scanvi.py:89: UserWarning: Missing labels key fine_annot. Filling in with unlabeled category Unknown.\n",
      "  warnings.warn(\n"
     ]
    }
   ],
   "source": [
    "scanvi_query = scvi.model.SCANVI.load_query_data(\n",
    "    disease_ad,\n",
    "    \"/home/jupyter/Annotations_v3/models/scanvi_compartments/Myeloid_hvg5000.noCC_scvi.scanvi_fine_annot.20230226/model.pt\",\n",
    ")"
   ]
  },
  {
   "cell_type": "code",
   "execution_count": 22,
   "id": "local-dealing",
   "metadata": {
    "tags": []
   },
   "outputs": [
    {
     "name": "stdout",
     "output_type": "stream",
     "text": [
      "\u001b[34mINFO    \u001b[0m Training for \u001b[1;36m100\u001b[0m epochs.                                                            \n"
     ]
    },
    {
     "name": "stderr",
     "output_type": "stream",
     "text": [
      "/opt/conda/envs/scvi/lib/python3.9/site-packages/torchmetrics/utilities/prints.py:36: UserWarning: Torchmetrics v0.9 introduced a new argument class property called `full_state_update` that has\n",
      "                not been set for this class (ElboMetric). The property determines if `update` by\n",
      "                default needs access to the full metric state. If this is not the case, significant speedups can be\n",
      "                achieved and we recommend setting this to `False`.\n",
      "                We provide an checking function\n",
      "                `from torchmetrics.utilities import check_forward_no_full_state`\n",
      "                that can be used to check if the `full_state_update=True` (old and potential slower behaviour,\n",
      "                default for now) or if `full_state_update=False` can be used safely.\n",
      "                \n",
      "  warnings.warn(*args, **kwargs)\n",
      "GPU available: True, used: True\n",
      "TPU available: False, using: 0 TPU cores\n",
      "IPU available: False, using: 0 IPUs\n",
      "LOCAL_RANK: 0 - CUDA_VISIBLE_DEVICES: [0]\n"
     ]
    },
    {
     "name": "stdout",
     "output_type": "stream",
     "text": [
      "Epoch 1/100:   0%|          | 0/100 [00:00<?, ?it/s]"
     ]
    },
    {
     "name": "stderr",
     "output_type": "stream",
     "text": [
      "/opt/conda/envs/scvi/lib/python3.9/site-packages/scvi/distributions/_negative_binomial.py:61: UserWarning: Specified kernel cache directory could not be created! This disables kernel caching. Specified directory is /home/jupyter/.cache/torch/kernels. This warning will appear only once per process. (Triggered internally at  ../aten/src/ATen/native/cuda/jit_utils.cpp:860.)\n",
      "  + torch.lgamma(x + theta)\n"
     ]
    },
    {
     "name": "stdout",
     "output_type": "stream",
     "text": [
      "Epoch 100/100: 100%|██████████| 100/100 [00:23<00:00,  4.20it/s, loss=378, v_num=1]\n"
     ]
    }
   ],
   "source": [
    "scanvi_query.train(\n",
    "    max_epochs=100, plan_kwargs=dict(weight_decay=0.0), check_val_every_n_epoch=10\n",
    ")"
   ]
  },
  {
   "cell_type": "code",
   "execution_count": 23,
   "id": "sunrise-baking",
   "metadata": {
    "tags": []
   },
   "outputs": [],
   "source": [
    "scanvi_query.save(\n",
    "    \"/home/jupyter/Annotations_v3/neutrophils/Myeloid_neutrophils.scanvi_fine_annot_vae.20231205/model.pt\"\n",
    ")"
   ]
  },
  {
   "cell_type": "code",
   "execution_count": 24,
   "id": "damaged-hometown",
   "metadata": {
    "tags": []
   },
   "outputs": [],
   "source": [
    "disease_ad.obsm[\"X_scANVI\"] = scanvi_query.get_latent_representation()"
   ]
  },
  {
   "cell_type": "code",
   "execution_count": 27,
   "id": "2464ea5a-3238-4b73-93e7-0aca19911192",
   "metadata": {},
   "outputs": [
    {
     "data": {
      "image/png": "[encoded data removed]",
      "text/plain": [
       "<Figure size 288x288 with 1 Axes>"
      ]
     },
     "metadata": {},
     "output_type": "display_data"
    }
   ],
   "source": [
    "sc.pp.neighbors(disease_ad, use_rep=\"X_scANVI\")\n",
    "sc.tl.umap(disease_ad)\n",
    "sc.pl.umap(disease_ad, color=['study'])"
   ]
  },
  {
   "cell_type": "code",
   "execution_count": 29,
   "id": "69f744d7-0311-4226-b9d6-0c53e8c989c4",
   "metadata": {
    "collapsed": true,
    "jupyter": {
     "outputs_hidden": true
    },
    "tags": []
   },
   "outputs": [
    {
     "data": {
      "text/plain": [
       "AnnData object with n_obs × n_vars = 37393 × 4736\n",
       "    obs: 'latent_cell_probability', 'latent_RT_efficiency', 'cecilia22_predH', 'cecilia22_predH_prob', 'cecilia22_predH_uncertain', 'cecilia22_predL', 'cecilia22_predL_prob', 'cecilia22_predL_uncertain', 'elmentaite21_pred', 'elmentaite21_pred_prob', 'elmentaite21_pred_uncertain', 'suo22_pred', 'suo22_pred_prob', 'suo22_pred_uncertain', 'n_counts', 'log1p_n_counts', 'n_genes', 'log1p_n_genes', 'percent_mito', 'n_counts_mito', 'percent_ribo', 'n_counts_ribo', 'percent_hb', 'n_counts_hb', 'percent_top50', 'n_counts_raw', 'log1p_n_counts_raw', 'n_genes_raw', 'log1p_n_genes_raw', 'percent_mito_raw', 'n_counts_mito_raw', 'percent_ribo_raw', 'n_counts_ribo_raw', 'percent_hb_raw', 'n_counts_hb_raw', 'percent_top50_raw', 'n_counts_spliced', 'log1p_n_counts_spliced', 'n_genes_spliced', 'log1p_n_genes_spliced', 'percent_mito_spliced', 'n_counts_mito_spliced', 'percent_ribo_spliced', 'n_counts_ribo_spliced', 'percent_hb_spliced', 'n_counts_hb_spliced', 'percent_top50_spliced', 'n_counts_unspliced', 'log1p_n_counts_unspliced', 'n_genes_unspliced', 'log1p_n_genes_unspliced', 'percent_mito_unspliced', 'n_counts_mito_unspliced', 'percent_ribo_unspliced', 'n_counts_ribo_unspliced', 'percent_hb_unspliced', 'n_counts_hb_unspliced', 'percent_top50_unspliced', 'percent_soup', 'percent_spliced', 'qc_cluster', 'pass_auto_filter_mito20', 'good_qc_cluster_mito20', 'pass_auto_filter_mito50', 'good_qc_cluster_mito50', 'pass_auto_filter_mito80', 'good_qc_cluster_mito80', 'pass_auto_filter', 'good_qc_cluster', 'pass_default', 'sampleID', 'sourceID', 'donorID_original', 'study', 'donorID_corrected', 'donorID_unified', 'donor_category', 'donor_disease', 'organ_original', 'organ_unified', 'organ_broad', 'age_original', 'age_unified', 'age_continuousadult', 'age_continuousdev', 'sex', 'sample_type', 'sample_category', 'sample_retrieval', 'tissue_fraction', 'cell_fraction', 'cell_fraction_unified', 'cell_sorting', 'technology', 'include_150722', 'cluster_scrublet_score', 'bh_pval', 'scrublet_score', 'scrublet_score_z', 'scrublet_done', 'doublet', 'stringent_doublet', 'integration_grouping', '_scvi_batch', '_scvi_labels', 'broad_annot_20220914', 'martin19_pred', 'martin19_pred_prob', 'martin19_pred_uncertain', 'warner20_pred', 'warner20_pred_prob', 'warner20_pred_uncertain', 'broad_annot_20220917', 'annot_v2', 're5_clean', 'Conde_harmonised_clean', 'annot_v3', 'fine_annot'\n",
       "    var: 'gene_ids', 'feature_type', 'mito', 'ribo', 'hb', 'n_counts', 'n_counts_raw', 'n_counts_spliced', 'n_counts_unspliced', 'n_cells', 'n_cells_raw', 'n_cells_spliced', 'n_cells_unspliced', 'cc', 'ig', 'tcr'\n",
       "    uns: '_scvi_uuid', '_scvi_manager_uuid'\n",
       "    obsm: '_scvi_extra_continuous_covs', 'X_scANVI'"
      ]
     },
     "execution_count": 29,
     "metadata": {},
     "output_type": "execute_result"
    }
   ],
   "source": [
    "adata"
   ]
  },
  {
   "cell_type": "code",
   "execution_count": 30,
   "id": "7386e085-3d35-4e87-80c5-0237f88439f6",
   "metadata": {},
   "outputs": [
    {
     "name": "stdout",
     "output_type": "stream",
     "text": [
      "Weighted KNN with n_neighbors = 50 ... "
     ]
    }
   ],
   "source": [
    "k_neighbors_transformer = weighted_knn_trainer(\n",
    "        train_adata=adata,\n",
    "        train_adata_emb=\"X_scANVI\",\n",
    "        label_key=\"fine_annot\",\n",
    "        n_neighbors=50,\n",
    "    )"
   ]
  },
  {
   "cell_type": "code",
   "execution_count": 31,
   "id": "0aa1ce75-cc94-4773-860b-91ae82cda6f8",
   "metadata": {},
   "outputs": [
    {
     "data": {
      "text/html": [
       "<style>#sk-container-id-1 {color: black;background-color: white;}#sk-container-id-1 pre{padding: 0;}#sk-container-id-1 div.sk-toggleable {background-color: white;}#sk-container-id-1 label.sk-toggleable__label {cursor: pointer;display: block;width: 100%;margin-bottom: 0;padding: 0.3em;box-sizing: border-box;text-align: center;}#sk-container-id-1 label.sk-toggleable__label-arrow:before {content: \"▸\";float: left;margin-right: 0.25em;color: #696969;}#sk-container-id-1 label.sk-toggleable__label-arrow:hover:before {color: black;}#sk-container-id-1 div.sk-estimator:hover label.sk-toggleable__label-arrow:before {color: black;}#sk-container-id-1 div.sk-toggleable__content {max-height: 0;max-width: 0;overflow: hidden;text-align: left;background-color: #f0f8ff;}#sk-container-id-1 div.sk-toggleable__content pre {margin: 0.2em;color: black;border-radius: 0.25em;background-color: #f0f8ff;}#sk-container-id-1 input.sk-toggleable__control:checked~div.sk-toggleable__content {max-height: 200px;max-width: 100%;overflow: auto;}#sk-container-id-1 input.sk-toggleable__control:checked~label.sk-toggleable__label-arrow:before {content: \"▾\";}#sk-container-id-1 div.sk-estimator input.sk-toggleable__control:checked~label.sk-toggleable__label {background-color: #d4ebff;}#sk-container-id-1 div.sk-label input.sk-toggleable__control:checked~label.sk-toggleable__label {background-color: #d4ebff;}#sk-container-id-1 input.sk-hidden--visually {border: 0;clip: rect(1px 1px 1px 1px);clip: rect(1px, 1px, 1px, 1px);height: 1px;margin: -1px;overflow: hidden;padding: 0;position: absolute;width: 1px;}#sk-container-id-1 div.sk-estimator {font-family: monospace;background-color: #f0f8ff;border: 1px dotted black;border-radius: 0.25em;box-sizing: border-box;margin-bottom: 0.5em;}#sk-container-id-1 div.sk-estimator:hover {background-color: #d4ebff;}#sk-container-id-1 div.sk-parallel-item::after {content: \"\";width: 100%;border-bottom: 1px solid gray;flex-grow: 1;}#sk-container-id-1 div.sk-label:hover label.sk-toggleable__label {background-color: #d4ebff;}#sk-container-id-1 div.sk-serial::before {content: \"\";position: absolute;border-left: 1px solid gray;box-sizing: border-box;top: 0;bottom: 0;left: 50%;z-index: 0;}#sk-container-id-1 div.sk-serial {display: flex;flex-direction: column;align-items: center;background-color: white;padding-right: 0.2em;padding-left: 0.2em;position: relative;}#sk-container-id-1 div.sk-item {position: relative;z-index: 1;}#sk-container-id-1 div.sk-parallel {display: flex;align-items: stretch;justify-content: center;background-color: white;position: relative;}#sk-container-id-1 div.sk-item::before, #sk-container-id-1 div.sk-parallel-item::before {content: \"\";position: absolute;border-left: 1px solid gray;box-sizing: border-box;top: 0;bottom: 0;left: 50%;z-index: -1;}#sk-container-id-1 div.sk-parallel-item {display: flex;flex-direction: column;z-index: 1;position: relative;background-color: white;}#sk-container-id-1 div.sk-parallel-item:first-child::after {align-self: flex-end;width: 50%;}#sk-container-id-1 div.sk-parallel-item:last-child::after {align-self: flex-start;width: 50%;}#sk-container-id-1 div.sk-parallel-item:only-child::after {width: 0;}#sk-container-id-1 div.sk-dashed-wrapped {border: 1px dashed gray;margin: 0 0.4em 0.5em 0.4em;box-sizing: border-box;padding-bottom: 0.4em;background-color: white;}#sk-container-id-1 div.sk-label label {font-family: monospace;font-weight: bold;display: inline-block;line-height: 1.2em;}#sk-container-id-1 div.sk-label-container {text-align: center;}#sk-container-id-1 div.sk-container {/* jupyter's `normalize.less` sets `[hidden] { display: none; }` but bootstrap.min.css set `[hidden] { display: none !important; }` so we also need the `!important` here to be able to override the default hidden behavior on the sphinx rendered scikit-learn.org. See: https://github.com/scikit-learn/scikit-learn/issues/21755 */display: inline-block !important;position: relative;}#sk-container-id-1 div.sk-text-repr-fallback {display: none;}</style><div id=\"sk-container-id-1\" class=\"sk-top-container\"><div class=\"sk-text-repr-fallback\"><pre>KNeighborsTransformer(algorithm=&#x27;brute&#x27;, metric=&#x27;euclidean&#x27;, n_jobs=-1,\n",
       "                      n_neighbors=50)</pre><b>In a Jupyter environment, please rerun this cell to show the HTML representation or trust the notebook. <br />On GitHub, the HTML representation is unable to render, please try loading this page with nbviewer.org.</b></div><div class=\"sk-container\" hidden><div class=\"sk-item\"><div class=\"sk-estimator sk-toggleable\"><input class=\"sk-toggleable__control sk-hidden--visually\" id=\"sk-estimator-id-1\" type=\"checkbox\" checked><label for=\"sk-estimator-id-1\" class=\"sk-toggleable__label sk-toggleable__label-arrow\">KNeighborsTransformer</label><div class=\"sk-toggleable__content\"><pre>KNeighborsTransformer(algorithm=&#x27;brute&#x27;, metric=&#x27;euclidean&#x27;, n_jobs=-1,\n",
       "                      n_neighbors=50)</pre></div></div></div></div></div>"
      ],
      "text/plain": [
       "KNeighborsTransformer(algorithm='brute', metric='euclidean', n_jobs=-1,\n",
       "                      n_neighbors=50)"
      ]
     },
     "execution_count": 31,
     "metadata": {},
     "output_type": "execute_result"
    }
   ],
   "source": [
    "k_neighbors_transformer"
   ]
  },
  {
   "cell_type": "raw",
   "id": "bb89b865-ad75-4148-b794-019b3a31933b",
   "metadata": {},
   "source": [
    "import pickle"
   ]
  },
  {
   "cell_type": "raw",
   "id": "be2d6dc4-f8de-4abe-8b27-91aef65942a2",
   "metadata": {},
   "source": [
    "with open(f'/home/jupyter/Annotations_v3/models/scanvi_compartments/knn_label_transfer_model_healthy_reference_Myeloid_20230226.pkl', 'wb') as f:\n",
    "   pickle.dump(k_neighbors_transformer, f)"
   ]
  },
  {
   "cell_type": "code",
   "execution_count": 33,
   "id": "44a1db19-2a98-4d6f-a4cc-b631133e067e",
   "metadata": {},
   "outputs": [
    {
     "name": "stderr",
     "output_type": "stream",
     "text": [
      "/opt/conda/envs/scvi/lib/python3.9/site-packages/sklearn/base.py:450: UserWarning: X does not have valid feature names, but KNeighborsTransformer was fitted with feature names\n",
      "  warnings.warn(\n"
     ]
    },
    {
     "name": "stdout",
     "output_type": "stream",
     "text": [
      "finished!\n"
     ]
    }
   ],
   "source": [
    "labels, uncert = weighted_knn_transfer(\n",
    "        query_adata=disease_ad,\n",
    "        query_adata_emb=\"X_scANVI\",\n",
    "        label_keys=\"fine_annot\",\n",
    "        knn_model=k_neighbors_transformer,\n",
    "        ref_adata_obs = adata.obs\n",
    "    )"
   ]
  },
  {
   "cell_type": "code",
   "execution_count": 34,
   "id": "ec000796-1d93-40b8-b05b-fd53b13c2655",
   "metadata": {},
   "outputs": [
    {
     "data": {
      "text/html": [
       "<div>\n",
       "<style scoped>\n",
       "    .dataframe tbody tr th:only-of-type {\n",
       "        vertical-align: middle;\n",
       "    }\n",
       "\n",
       "    .dataframe tbody tr th {\n",
       "        vertical-align: top;\n",
       "    }\n",
       "\n",
       "    .dataframe thead th {\n",
       "        text-align: right;\n",
       "    }\n",
       "</style>\n",
       "<table border=\"1\" class=\"dataframe\">\n",
       "  <thead>\n",
       "    <tr style=\"text-align: right;\">\n",
       "      <th></th>\n",
       "      <th>fine_annot</th>\n",
       "    </tr>\n",
       "    <tr>\n",
       "      <th>index</th>\n",
       "      <th></th>\n",
       "    </tr>\n",
       "  </thead>\n",
       "  <tbody>\n",
       "    <tr>\n",
       "      <th>AAACCTGCAACTGCGC-HCA_A_GT12934997</th>\n",
       "      <td>Monocyte</td>\n",
       "    </tr>\n",
       "    <tr>\n",
       "      <th>AAACCTGCATGGTAGG-HCA_A_GT12934997</th>\n",
       "      <td>Monocyte</td>\n",
       "    </tr>\n",
       "    <tr>\n",
       "      <th>AAAGATGAGGACAGCT-HCA_A_GT12934997</th>\n",
       "      <td>Monocyte</td>\n",
       "    </tr>\n",
       "    <tr>\n",
       "      <th>AAAGTAGTCAACGAAA-HCA_A_GT12934997</th>\n",
       "      <td>Monocyte</td>\n",
       "    </tr>\n",
       "    <tr>\n",
       "      <th>AACACGTAGAGACTAT-HCA_A_GT12934997</th>\n",
       "      <td>Monocyte</td>\n",
       "    </tr>\n",
       "    <tr>\n",
       "      <th>...</th>\n",
       "      <td>...</td>\n",
       "    </tr>\n",
       "    <tr>\n",
       "      <th>CTACATTGTCTGCCAG-HT228-fetal-ileum</th>\n",
       "      <td>Mono/neutrophil_MPO</td>\n",
       "    </tr>\n",
       "    <tr>\n",
       "      <th>CTCGTCATCACCTTAT-HT228-fetal-ileum</th>\n",
       "      <td>Mono/neutrophil_MPO</td>\n",
       "    </tr>\n",
       "    <tr>\n",
       "      <th>TGACAACAGAAGGGTA-HT228-fetal-ileum</th>\n",
       "      <td>Monocyte</td>\n",
       "    </tr>\n",
       "    <tr>\n",
       "      <th>TTCTACACATGACATC-HT228-fetal-ileum</th>\n",
       "      <td>Monocyte</td>\n",
       "    </tr>\n",
       "    <tr>\n",
       "      <th>TTTCCTCGTTCGTGAT-HT228-fetal-ileum</th>\n",
       "      <td>Monocyte</td>\n",
       "    </tr>\n",
       "  </tbody>\n",
       "</table>\n",
       "<p>1893 rows × 1 columns</p>\n",
       "</div>"
      ],
      "text/plain": [
       "                                             fine_annot\n",
       "index                                                  \n",
       "AAACCTGCAACTGCGC-HCA_A_GT12934997              Monocyte\n",
       "AAACCTGCATGGTAGG-HCA_A_GT12934997              Monocyte\n",
       "AAAGATGAGGACAGCT-HCA_A_GT12934997              Monocyte\n",
       "AAAGTAGTCAACGAAA-HCA_A_GT12934997              Monocyte\n",
       "AACACGTAGAGACTAT-HCA_A_GT12934997              Monocyte\n",
       "...                                                 ...\n",
       "CTACATTGTCTGCCAG-HT228-fetal-ileum  Mono/neutrophil_MPO\n",
       "CTCGTCATCACCTTAT-HT228-fetal-ileum  Mono/neutrophil_MPO\n",
       "TGACAACAGAAGGGTA-HT228-fetal-ileum             Monocyte\n",
       "TTCTACACATGACATC-HT228-fetal-ileum             Monocyte\n",
       "TTTCCTCGTTCGTGAT-HT228-fetal-ileum             Monocyte\n",
       "\n",
       "[1893 rows x 1 columns]"
      ]
     },
     "execution_count": 34,
     "metadata": {},
     "output_type": "execute_result"
    }
   ],
   "source": [
    "labels"
   ]
  },
  {
   "cell_type": "code",
   "execution_count": 35,
   "id": "a6ebaf26-c465-4cab-b22a-c4d46314408b",
   "metadata": {},
   "outputs": [
    {
     "data": {
      "text/html": [
       "<div>\n",
       "<style scoped>\n",
       "    .dataframe tbody tr th:only-of-type {\n",
       "        vertical-align: middle;\n",
       "    }\n",
       "\n",
       "    .dataframe tbody tr th {\n",
       "        vertical-align: top;\n",
       "    }\n",
       "\n",
       "    .dataframe thead th {\n",
       "        text-align: right;\n",
       "    }\n",
       "</style>\n",
       "<table border=\"1\" class=\"dataframe\">\n",
       "  <thead>\n",
       "    <tr style=\"text-align: right;\">\n",
       "      <th></th>\n",
       "      <th>fine_annot</th>\n",
       "    </tr>\n",
       "    <tr>\n",
       "      <th>index</th>\n",
       "      <th></th>\n",
       "    </tr>\n",
       "  </thead>\n",
       "  <tbody>\n",
       "    <tr>\n",
       "      <th>AAACCTGCAACTGCGC-HCA_A_GT12934997</th>\n",
       "      <td>0.099994</td>\n",
       "    </tr>\n",
       "    <tr>\n",
       "      <th>AAACCTGCATGGTAGG-HCA_A_GT12934997</th>\n",
       "      <td>0.03999</td>\n",
       "    </tr>\n",
       "    <tr>\n",
       "      <th>AAAGATGAGGACAGCT-HCA_A_GT12934997</th>\n",
       "      <td>0.080006</td>\n",
       "    </tr>\n",
       "    <tr>\n",
       "      <th>AAAGTAGTCAACGAAA-HCA_A_GT12934997</th>\n",
       "      <td>0.059993</td>\n",
       "    </tr>\n",
       "    <tr>\n",
       "      <th>AACACGTAGAGACTAT-HCA_A_GT12934997</th>\n",
       "      <td>0.02</td>\n",
       "    </tr>\n",
       "    <tr>\n",
       "      <th>...</th>\n",
       "      <td>...</td>\n",
       "    </tr>\n",
       "    <tr>\n",
       "      <th>CTACATTGTCTGCCAG-HT228-fetal-ileum</th>\n",
       "      <td>0.29961</td>\n",
       "    </tr>\n",
       "    <tr>\n",
       "      <th>CTCGTCATCACCTTAT-HT228-fetal-ileum</th>\n",
       "      <td>0.339713</td>\n",
       "    </tr>\n",
       "    <tr>\n",
       "      <th>TGACAACAGAAGGGTA-HT228-fetal-ileum</th>\n",
       "      <td>0</td>\n",
       "    </tr>\n",
       "    <tr>\n",
       "      <th>TTCTACACATGACATC-HT228-fetal-ileum</th>\n",
       "      <td>0.019953</td>\n",
       "    </tr>\n",
       "    <tr>\n",
       "      <th>TTTCCTCGTTCGTGAT-HT228-fetal-ileum</th>\n",
       "      <td>0.505389</td>\n",
       "    </tr>\n",
       "  </tbody>\n",
       "</table>\n",
       "<p>1893 rows × 1 columns</p>\n",
       "</div>"
      ],
      "text/plain": [
       "                                   fine_annot\n",
       "index                                        \n",
       "AAACCTGCAACTGCGC-HCA_A_GT12934997    0.099994\n",
       "AAACCTGCATGGTAGG-HCA_A_GT12934997     0.03999\n",
       "AAAGATGAGGACAGCT-HCA_A_GT12934997    0.080006\n",
       "AAAGTAGTCAACGAAA-HCA_A_GT12934997    0.059993\n",
       "AACACGTAGAGACTAT-HCA_A_GT12934997        0.02\n",
       "...                                       ...\n",
       "CTACATTGTCTGCCAG-HT228-fetal-ileum    0.29961\n",
       "CTCGTCATCACCTTAT-HT228-fetal-ileum   0.339713\n",
       "TGACAACAGAAGGGTA-HT228-fetal-ileum          0\n",
       "TTCTACACATGACATC-HT228-fetal-ileum   0.019953\n",
       "TTTCCTCGTTCGTGAT-HT228-fetal-ileum   0.505389\n",
       "\n",
       "[1893 rows x 1 columns]"
      ]
     },
     "execution_count": 35,
     "metadata": {},
     "output_type": "execute_result"
    }
   ],
   "source": [
    "uncert"
   ]
  },
  {
   "cell_type": "code",
   "execution_count": 36,
   "id": "f08761b0-84ed-42bc-9f91-4104f3133a6e",
   "metadata": {},
   "outputs": [],
   "source": [
    "disease_ad.obs['fine_predicted_labels'] = labels['fine_annot']\n",
    "disease_ad.obs['fine_predicted_labels_uncertainty'] = uncert['fine_annot']"
   ]
  },
  {
   "cell_type": "code",
   "execution_count": 37,
   "id": "32413199-f562-4c49-852c-56b935751cbb",
   "metadata": {},
   "outputs": [
    {
     "data": {
      "image/png": "[encoded data removed]",
      "text/plain": [
       "<Figure size 288x288 with 1 Axes>"
      ]
     },
     "metadata": {},
     "output_type": "display_data"
    }
   ],
   "source": [
    "sc.pl.umap(disease_ad, color=['fine_predicted_labels'])"
   ]
  },
  {
   "cell_type": "code",
   "execution_count": 38,
   "id": "4b1e9a9c-a796-428f-a7fc-dec56b9a2301",
   "metadata": {},
   "outputs": [
    {
     "data": {
      "image/png": "[encoded data removed]",
      "text/plain": [
       "<Figure size 288x288 with 2 Axes>"
      ]
     },
     "metadata": {
      "needs_background": "light"
     },
     "output_type": "display_data"
    }
   ],
   "source": [
    "sc.pl.umap(disease_ad, color=['fine_predicted_labels_uncertainty'],cmap='OrRd')"
   ]
  },
  {
   "cell_type": "code",
   "execution_count": 39,
   "id": "6c11a1f8-c9e5-4580-89b3-d84a920fa6e7",
   "metadata": {},
   "outputs": [],
   "source": [
    "disease_ad.obs[\"scanvi_pred\"] = scanvi_query.predict(disease_ad)"
   ]
  },
  {
   "cell_type": "code",
   "execution_count": 40,
   "id": "9626c867-d700-4bb7-97f7-240694973352",
   "metadata": {},
   "outputs": [
    {
     "data": {
      "image/png": "[encoded data removed]",
      "text/plain": [
       "<Figure size 288x288 with 1 Axes>"
      ]
     },
     "metadata": {},
     "output_type": "display_data"
    }
   ],
   "source": [
    "sc.pl.umap(disease_ad, color=['scanvi_pred'])"
   ]
  },
  {
   "cell_type": "code",
   "execution_count": 41,
   "id": "0e249e5b-107a-4cf4-9f84-d05fe4e34f16",
   "metadata": {},
   "outputs": [],
   "source": [
    "pd.DataFrame(\n",
    "    disease_ad.obsm[\"X_scANVI\"],\n",
    "    index=disease_ad.obs_names,\n",
    "    columns=[f\"LV{i+1}\" for i in range(disease_ad.obsm[\"X_scANVI\"].shape[1])],\n",
    ").to_csv(\n",
    "    \"/home/jupyter/neutrophils/neutrophils_fine_annot_predict_Myeloid_20231205.csv.gz\"\n",
    ")"
   ]
  },
  {
   "cell_type": "code",
   "execution_count": 42,
   "id": "7372d29c-8e88-4ee6-8f24-469d47863677",
   "metadata": {},
   "outputs": [],
   "source": [
    "disease_ad.obs.to_csv('/home/jupyter/neutrophils/neutrophils_fine_annot_predict_Myeloid_20231205_meta.csv')"
   ]
  },
  {
   "cell_type": "code",
   "execution_count": null,
   "id": "32271e01-2025-4290-b168-497255d9d215",
   "metadata": {},
   "outputs": [],
   "source": []
  }
 ],
 "metadata": {
  "environment": {
   "kernel": "scvi",
   "name": "pytorch-gpu.1-11.m93",
   "type": "gcloud",
   "uri": "gcr.io/deeplearning-platform-release/pytorch-gpu.1-11:m93"
  },
  "kernelspec": {
   "display_name": "Environment (scvi_env)",
   "language": "python",
   "name": "scvi"
  },
  "language_info": {
   "codemirror_mode": {
    "name": "ipython",
    "version": 3
   },
   "file_extension": ".py",
   "mimetype": "text/x-python",
   "name": "python",
   "nbconvert_exporter": "python",
   "pygments_lexer": "ipython3",
   "version": "3.9.13"
  }
 },
 "nbformat": 4,
 "nbformat_minor": 5
}
