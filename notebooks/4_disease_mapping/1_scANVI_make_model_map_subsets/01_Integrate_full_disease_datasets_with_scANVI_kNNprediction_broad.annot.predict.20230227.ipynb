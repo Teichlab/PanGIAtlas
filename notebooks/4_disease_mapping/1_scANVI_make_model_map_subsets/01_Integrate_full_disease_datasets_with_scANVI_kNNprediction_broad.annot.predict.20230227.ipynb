{
 "cells": [
  {
   "cell_type": "markdown",
   "id": "multiple-nirvana",
   "metadata": {},
   "source": [
    "# scANVI integration of disease dataset\n",
    "- Reran scvi without study as a categorical covariate as this currently isn't handled by scArches \n",
    "'''./run_scvi_adsaves.py --n-hvg 7500 \\\n",
    "            --remove-from-hvg feature_list/cc_genes.csv \\\n",
    "            --batch donorID_unified \\\n",
    "            --min-batch-size 0 \\\n",
    "            --continuous log1p_n_counts,percent_mito \\\n",
    "            --train-reference \\\n",
    "            ~/Annotations_v3/pooled_healthy.gene_cellbender.good_qc_cluster_mito80.raw.subsetted.manual_doublet_removed.fine_annot.20230110.h5ad \\\n",
    "            ~/Annotations_v3/scvi_output20230116/pooled_healthy.hvg7500_noCC.nodoublets.scvi_output.20230113\n",
    "- Then used this notebook (from Ni) to run scANVI \n",
    "- Adapt predictions to run from KNN graph rather than genes based on HLCA code: https://github.com/LungCellAtlas/HLCA_reproducibility/blob/main/scripts/label_transfer.py\n"
   ]
  },
  {
   "cell_type": "markdown",
   "id": "mechanical-twenty",
   "metadata": {},
   "source": [
    "# Import and settings"
   ]
  },
  {
   "cell_type": "code",
   "execution_count": 13,
   "id": "uniform-melbourne",
   "metadata": {
    "tags": []
   },
   "outputs": [
    {
     "name": "stdout",
     "output_type": "stream",
     "text": [
      "The autoreload extension is already loaded. To reload it, use:\n",
      "  %reload_ext autoreload\n"
     ]
    }
   ],
   "source": [
    "%load_ext autoreload\n",
    "%autoreload 2\n",
    "\n",
    "import os, re, gc, joblib\n",
    "\n",
    "import numpy as np\n",
    "import numpy_groupies as npg\n",
    "import scipy.sparse as sp\n",
    "import pandas as pd\n",
    "from sklearn.preprocessing import minmax_scale\n",
    "\n",
    "import matplotlib.pyplot as plt\n",
    "from matplotlib import rcParams\n",
    "from matplotlib.colors import ListedColormap, LogNorm\n",
    "\n",
    "import seaborn as sn\n",
    "\n",
    "import anndata\n",
    "\n",
    "import scanpy as sc\n",
    "import sctk as sk\n",
    "\n",
    "import torch\n",
    "import scvi\n",
    "\n",
    "\n",
    "from collections import Counter\n",
    "\n",
    "import numpy as np\n",
    "from sklearn.neighbors import KNeighborsTransformer"
   ]
  },
  {
   "cell_type": "code",
   "execution_count": 14,
   "id": "latest-neighborhood",
   "metadata": {
    "tags": []
   },
   "outputs": [],
   "source": [
    "rcParams[\"pdf.fonttype\"] = 42\n",
    "rcParams[\"ps.fonttype\"] = 42\n",
    "expr_cmap = sk.expression_colormap()\n",
    "np.set_printoptions(linewidth=150)\n",
    "sc.settings.verbosity = 0\n",
    "sk.set_figsize((4, 4))\n",
    "#torch.cuda.set_device(1)\n",
    "\n",
    "#PYTHON = \"/software/team205/miniconda3/envs/rapids-torch/bin/python\"\n",
    "\n",
    "#%cd ~/scratch/20220125_digestive_tract_integration/v2/"
   ]
  },
  {
   "cell_type": "markdown",
   "id": "gothic-circulation",
   "metadata": {},
   "source": [
    "# Define functions"
   ]
  },
  {
   "cell_type": "code",
   "execution_count": 15,
   "id": "88b520b9-0b72-4dee-bfd3-b49a01a87e37",
   "metadata": {},
   "outputs": [],
   "source": [
    "def weighted_knn_trainer(train_adata, train_adata_emb, label_key, n_neighbors=50):\n",
    "    \"\"\"Trains a weighted KNN classifier on ``train_adata``.\n",
    "    Parameters\n",
    "    ----------\n",
    "    train_adata: :class:`~anndata.AnnData`\n",
    "        Annotated dataset to be used to train KNN classifier with ``label_key`` as the target variable.\n",
    "    train_adata_emb: str\n",
    "        Name of the obsm layer to be used for calculation of neighbors. If set to \"X\", anndata.X will be\n",
    "        used\n",
    "    label_key: str\n",
    "        Name of the column to be used as target variable (e.g. cell_type) in ``train_adata`` and ``query_adata``.\n",
    "    n_neighbors: int\n",
    "        Number of nearest neighbors in KNN classifier.\n",
    "    \"\"\"\n",
    "    print(\n",
    "        f\"Weighted KNN with n_neighbors = {n_neighbors} ... \",\n",
    "        end=\"\",\n",
    "    )\n",
    "    k_neighbors_transformer = KNeighborsTransformer(\n",
    "        n_neighbors=n_neighbors,\n",
    "        mode=\"distance\",\n",
    "        algorithm=\"brute\",\n",
    "        metric=\"euclidean\",\n",
    "        n_jobs=-1,\n",
    "    )\n",
    "    if train_adata_emb == \"X\":\n",
    "        train_emb = train_adata.X\n",
    "    elif train_adata_emb in train_adata.obsm.keys():\n",
    "        train_emb = train_adata.obsm[train_adata_emb]\n",
    "    else:\n",
    "        raise ValueError(\n",
    "            \"train_adata_emb should be set to either 'X' or the name of the obsm layer to be used!\"\n",
    "        )\n",
    "    k_neighbors_transformer.fit(train_emb)\n",
    "    return k_neighbors_transformer"
   ]
  },
  {
   "cell_type": "code",
   "execution_count": 16,
   "id": "26dff2cf-301b-4f57-9fa4-ca2233064bcd",
   "metadata": {},
   "outputs": [],
   "source": [
    "def weighted_knn_transfer(\n",
    "    query_adata,\n",
    "    query_adata_emb,\n",
    "    ref_adata_obs,\n",
    "    label_keys,\n",
    "    knn_model,\n",
    "    threshold=1,\n",
    "    pred_unknown=False,\n",
    "    mode=\"package\",\n",
    "):\n",
    "    \"\"\"Annotates ``query_adata`` cells with an input trained weighted KNN classifier.\n",
    "    Parameters\n",
    "    ----------\n",
    "    query_adata: :class:`~anndata.AnnData`\n",
    "        Annotated dataset to be used to queryate KNN classifier. Embedding to be used\n",
    "    query_adata_emb: str\n",
    "        Name of the obsm layer to be used for label transfer. If set to \"X\",\n",
    "        query_adata.X will be used\n",
    "    ref_adata_obs: :class:`pd.DataFrame`\n",
    "        obs of ref Anndata\n",
    "    label_keys: str\n",
    "        Names of the columns to be used as target variables (e.g. cell_type) in ``query_adata``.\n",
    "    knn_model: :class:`~sklearn.neighbors._graph.KNeighborsTransformer`\n",
    "        knn model trained on reference adata with weighted_knn_trainer function\n",
    "    threshold: float\n",
    "        Threshold of uncertainty used to annotating cells as \"Unknown\". cells with\n",
    "        uncertainties higher than this value will be annotated as \"Unknown\".\n",
    "        Set to 1 to keep all predictions. This enables one to later on play\n",
    "        with thresholds.\n",
    "    pred_unknown: bool\n",
    "        ``False`` by default. Whether to annotate any cell as \"unknown\" or not.\n",
    "        If `False`, ``threshold`` will not be used and each cell will be annotated\n",
    "        with the label which is the most common in its ``n_neighbors`` nearest cells.\n",
    "    mode: str\n",
    "        Has to be one of \"paper\" or \"package\". If mode is set to \"package\",\n",
    "        uncertainties will be 1 - P(pred_label), otherwise it will be 1 - P(true_label).\n",
    "    \"\"\"\n",
    "    if not type(knn_model) == KNeighborsTransformer:\n",
    "        raise ValueError(\n",
    "            \"knn_model should be of type sklearn.neighbors._graph.KNeighborsTransformer!\"\n",
    "        )\n",
    "\n",
    "    if query_adata_emb == \"X\":\n",
    "        query_emb = query_adata.X\n",
    "    elif query_adata_emb in query_adata.obsm.keys():\n",
    "        query_emb = query_adata.obsm[query_adata_emb]\n",
    "    else:\n",
    "        raise ValueError(\n",
    "            \"query_adata_emb should be set to either 'X' or the name of the obsm layer to be used!\"\n",
    "        )\n",
    "    top_k_distances, top_k_indices = k_neighbors_transformer.kneighbors(X=query_emb)\n",
    "\n",
    "    stds = np.std(top_k_distances, axis=1)\n",
    "    stds = (2.0 / stds) ** 2\n",
    "    stds = stds.reshape(-1, 1)\n",
    "\n",
    "    top_k_distances_tilda = np.exp(-np.true_divide(top_k_distances, stds))\n",
    "\n",
    "    weights = top_k_distances_tilda / np.sum(\n",
    "        top_k_distances_tilda, axis=1, keepdims=True\n",
    "    )\n",
    "    cols = ref_adata_obs.columns[ref_adata_obs.columns.str.startswith(label_keys)]\n",
    "    uncertainties = pd.DataFrame(columns=cols, index=query_adata.obs_names)\n",
    "    pred_labels = pd.DataFrame(columns=cols, index=query_adata.obs_names)\n",
    "    for i in range(len(weights)):\n",
    "        for j in cols:\n",
    "            y_train_labels = ref_adata_obs[j].values\n",
    "            unique_labels = np.unique(y_train_labels[top_k_indices[i]])\n",
    "            best_label, best_prob = None, 0.0\n",
    "            for candidate_label in unique_labels:\n",
    "                candidate_prob = weights[\n",
    "                    i, y_train_labels[top_k_indices[i]] == candidate_label\n",
    "                ].sum()\n",
    "                if best_prob < candidate_prob:\n",
    "                    best_prob = candidate_prob\n",
    "                    best_label = candidate_label\n",
    "\n",
    "            if pred_unknown:\n",
    "                if best_prob >= threshold:\n",
    "                    pred_label = best_label\n",
    "                else:\n",
    "                    pred_label = \"Unknown\"\n",
    "            else:\n",
    "                pred_label = best_label\n",
    "\n",
    "            if mode == \"package\":\n",
    "                uncertainties.iloc[i][j] = (max(1 - best_prob, 0))\n",
    "\n",
    "            else:\n",
    "                raise Exception(\"Inquery Mode!\")\n",
    "\n",
    "            pred_labels.iloc[i][j] = (pred_label)\n",
    "\n",
    "    print(\"finished!\")\n",
    "\n",
    "    return pred_labels, uncertainties"
   ]
  },
  {
   "cell_type": "markdown",
   "id": "7c1a8312-5d60-4866-a936-0e4ab60ed642",
   "metadata": {},
   "source": [
    "# Load data"
   ]
  },
  {
   "cell_type": "code",
   "execution_count": 17,
   "id": "2adc6abd-cdf8-4910-a77c-2777916f4434",
   "metadata": {},
   "outputs": [],
   "source": [
    "ad_output = sc.read_h5ad('/home/jupyter/Annotations_v3/scvi_output20230126/pooled_healthy.hvg7500_noCC.nodoublets.scvi_output.20230126-ad1.h5ad')"
   ]
  },
  {
   "cell_type": "code",
   "execution_count": 18,
   "id": "7878dcc9-ca64-4da6-909d-f1ed82c32e33",
   "metadata": {},
   "outputs": [],
   "source": [
    "adata = sc.read_h5ad('/home/jupyter/Annotations_v3/h5ad/post_scvi20230126/pooled_healthy.hvg7500_noCC.scvi_output_nocatcovar.fine_annot.20230126.h5ad')"
   ]
  },
  {
   "cell_type": "code",
   "execution_count": 19,
   "id": "2a17a0bc-f351-49c3-a1e1-2b4a535ecd7c",
   "metadata": {},
   "outputs": [
    {
     "data": {
      "text/plain": [
       "AnnData object with n_obs × n_vars = 1077241 × 36601\n",
       "    obs: 'latent_cell_probability', 'latent_RT_efficiency', 'cecilia22_predH', 'cecilia22_predH_prob', 'cecilia22_predH_uncertain', 'cecilia22_predL', 'cecilia22_predL_prob', 'cecilia22_predL_uncertain', 'elmentaite21_pred', 'elmentaite21_pred_prob', 'elmentaite21_pred_uncertain', 'suo22_pred', 'suo22_pred_prob', 'suo22_pred_uncertain', 'n_counts', 'log1p_n_counts', 'n_genes', 'log1p_n_genes', 'percent_mito', 'n_counts_mito', 'percent_ribo', 'n_counts_ribo', 'percent_hb', 'n_counts_hb', 'percent_top50', 'n_counts_raw', 'log1p_n_counts_raw', 'n_genes_raw', 'log1p_n_genes_raw', 'percent_mito_raw', 'n_counts_mito_raw', 'percent_ribo_raw', 'n_counts_ribo_raw', 'percent_hb_raw', 'n_counts_hb_raw', 'percent_top50_raw', 'n_counts_spliced', 'log1p_n_counts_spliced', 'n_genes_spliced', 'log1p_n_genes_spliced', 'percent_mito_spliced', 'n_counts_mito_spliced', 'percent_ribo_spliced', 'n_counts_ribo_spliced', 'percent_hb_spliced', 'n_counts_hb_spliced', 'percent_top50_spliced', 'n_counts_unspliced', 'log1p_n_counts_unspliced', 'n_genes_unspliced', 'log1p_n_genes_unspliced', 'percent_mito_unspliced', 'n_counts_mito_unspliced', 'percent_ribo_unspliced', 'n_counts_ribo_unspliced', 'percent_hb_unspliced', 'n_counts_hb_unspliced', 'percent_top50_unspliced', 'percent_soup', 'percent_spliced', 'qc_cluster', 'pass_auto_filter_mito20', 'good_qc_cluster_mito20', 'pass_auto_filter_mito50', 'good_qc_cluster_mito50', 'pass_auto_filter_mito80', 'good_qc_cluster_mito80', 'pass_auto_filter', 'good_qc_cluster', 'pass_default', 'sampleID', 'sourceID', 'donorID_original', 'study', 'donorID_corrected', 'donorID_unified', 'donor_category', 'donor_disease', 'organ_original', 'organ_unified', 'organ_broad', 'age_original', 'age_unified', 'age_continuousadult', 'age_continuousdev', 'sex', 'sample_type', 'sample_category', 'sample_retrieval', 'tissue_fraction', 'cell_fraction', 'cell_fraction_unified', 'cell_sorting', 'technology', 'include_150722', 'cluster_scrublet_score', 'bh_pval', 'scrublet_score', 'scrublet_score_z', 'scrublet_done', 'doublet', 'stringent_doublet', 'integration_grouping', '_scvi_batch', '_scvi_labels', 'broad_annot_20220914', 'martin19_pred', 'martin19_pred_prob', 'martin19_pred_uncertain', 'warner20_pred', 'warner20_pred_prob', 'warner20_pred_uncertain', 'broad_annot_20220917', 'donor_organ_lineage', 'fine_annot', 'fine_annot_original'\n",
       "    var: 'gene_ids', 'feature_type', 'mito', 'ribo', 'hb', 'n_counts', 'n_counts_raw', 'n_counts_spliced', 'n_counts_unspliced', 'n_cells', 'n_cells_raw', 'n_cells_spliced', 'n_cells_unspliced', 'cc', 'ig', 'tcr'\n",
       "    uns: '_scvi_manager_uuid', '_scvi_uuid', 'age_unified_colors', 'broad_annot_20220914_colors', 'elmentaite21_pred_colors', 'fine_annot_colors', 'hvg', 'neighbors', 'neighbors_scvi', 'organ_unified_colors', 'study_colors', 'umap'\n",
       "    obsm: 'X_mde', 'X_scvi', 'X_umap', '_scvi_extra_categorical_covs', '_scvi_extra_continuous_covs'\n",
       "    layers: 'counts'\n",
       "    obsp: 'connectivities', 'distances', 'neighbors_scvi_connectivities', 'neighbors_scvi_distances'"
      ]
     },
     "execution_count": 19,
     "metadata": {},
     "output_type": "execute_result"
    }
   ],
   "source": [
    "adata"
   ]
  },
  {
   "cell_type": "code",
   "execution_count": 20,
   "id": "67d141d0-7310-4a55-b33e-4478422d67f2",
   "metadata": {},
   "outputs": [
    {
     "data": {
      "text/plain": [
       "AnnData object with n_obs × n_vars = 1077241 × 7280\n",
       "    obs: 'latent_cell_probability', 'latent_RT_efficiency', 'cecilia22_predH', 'cecilia22_predH_prob', 'cecilia22_predH_uncertain', 'cecilia22_predL', 'cecilia22_predL_prob', 'cecilia22_predL_uncertain', 'elmentaite21_pred', 'elmentaite21_pred_prob', 'elmentaite21_pred_uncertain', 'suo22_pred', 'suo22_pred_prob', 'suo22_pred_uncertain', 'n_counts', 'log1p_n_counts', 'n_genes', 'log1p_n_genes', 'percent_mito', 'n_counts_mito', 'percent_ribo', 'n_counts_ribo', 'percent_hb', 'n_counts_hb', 'percent_top50', 'n_counts_raw', 'log1p_n_counts_raw', 'n_genes_raw', 'log1p_n_genes_raw', 'percent_mito_raw', 'n_counts_mito_raw', 'percent_ribo_raw', 'n_counts_ribo_raw', 'percent_hb_raw', 'n_counts_hb_raw', 'percent_top50_raw', 'n_counts_spliced', 'log1p_n_counts_spliced', 'n_genes_spliced', 'log1p_n_genes_spliced', 'percent_mito_spliced', 'n_counts_mito_spliced', 'percent_ribo_spliced', 'n_counts_ribo_spliced', 'percent_hb_spliced', 'n_counts_hb_spliced', 'percent_top50_spliced', 'n_counts_unspliced', 'log1p_n_counts_unspliced', 'n_genes_unspliced', 'log1p_n_genes_unspliced', 'percent_mito_unspliced', 'n_counts_mito_unspliced', 'percent_ribo_unspliced', 'n_counts_ribo_unspliced', 'percent_hb_unspliced', 'n_counts_hb_unspliced', 'percent_top50_unspliced', 'percent_soup', 'percent_spliced', 'qc_cluster', 'pass_auto_filter_mito20', 'good_qc_cluster_mito20', 'pass_auto_filter_mito50', 'good_qc_cluster_mito50', 'pass_auto_filter_mito80', 'good_qc_cluster_mito80', 'pass_auto_filter', 'good_qc_cluster', 'pass_default', 'sampleID', 'sourceID', 'donorID_original', 'study', 'donorID_corrected', 'donorID_unified', 'donor_category', 'donor_disease', 'organ_original', 'organ_unified', 'organ_broad', 'age_original', 'age_unified', 'age_continuousadult', 'age_continuousdev', 'sex', 'sample_type', 'sample_category', 'sample_retrieval', 'tissue_fraction', 'cell_fraction', 'cell_fraction_unified', 'cell_sorting', 'technology', 'include_150722', 'cluster_scrublet_score', 'bh_pval', 'scrublet_score', 'scrublet_score_z', 'scrublet_done', 'doublet', 'stringent_doublet', 'integration_grouping', '_scvi_batch', '_scvi_labels', 'broad_annot_20220914', 'martin19_pred', 'martin19_pred_prob', 'martin19_pred_uncertain', 'warner20_pred', 'warner20_pred_prob', 'warner20_pred_uncertain', 'broad_annot_20220917', 'donor_organ_lineage', 'fine_annot', 'fine_annot_original'\n",
       "    var: 'gene_ids', 'feature_type', 'mito', 'ribo', 'hb', 'n_counts', 'n_counts_raw', 'n_counts_spliced', 'n_counts_unspliced', 'n_cells', 'n_cells_raw', 'n_cells_spliced', 'n_cells_unspliced', 'cc', 'ig', 'tcr', 'highly_variable', 'highly_variable_rank', 'means', 'variances', 'variances_norm'\n",
       "    uns: '_scvi_manager_uuid', '_scvi_uuid', 'broad_annot_20220914_colors', 'elmentaite21_pred_colors', 'fine_annot_colors', 'hvg', 'neighbors', 'neighbors_scvi', 'organ_unified_colors', 'umap'\n",
       "    obsm: 'X_mde', 'X_scvi', 'X_umap', '_scvi_extra_categorical_covs', '_scvi_extra_continuous_covs'\n",
       "    layers: 'counts'\n",
       "    obsp: 'connectivities', 'distances', 'neighbors_scvi_connectivities', 'neighbors_scvi_distances'"
      ]
     },
     "execution_count": 20,
     "metadata": {},
     "output_type": "execute_result"
    }
   ],
   "source": [
    "ad_output"
   ]
  },
  {
   "cell_type": "code",
   "execution_count": 22,
   "id": "6133d2ca-a2cc-4d8c-a3f6-32b522105c88",
   "metadata": {},
   "outputs": [],
   "source": [
    "adata = adata[:, adata.var_names.isin(ad_output.var_names)].copy()"
   ]
  },
  {
   "cell_type": "code",
   "execution_count": 23,
   "id": "1e707f92-3505-407d-b579-aafadd04ee39",
   "metadata": {},
   "outputs": [
    {
     "data": {
      "text/plain": [
       "AnnData object with n_obs × n_vars = 1077241 × 7280\n",
       "    obs: 'latent_cell_probability', 'latent_RT_efficiency', 'cecilia22_predH', 'cecilia22_predH_prob', 'cecilia22_predH_uncertain', 'cecilia22_predL', 'cecilia22_predL_prob', 'cecilia22_predL_uncertain', 'elmentaite21_pred', 'elmentaite21_pred_prob', 'elmentaite21_pred_uncertain', 'suo22_pred', 'suo22_pred_prob', 'suo22_pred_uncertain', 'n_counts', 'log1p_n_counts', 'n_genes', 'log1p_n_genes', 'percent_mito', 'n_counts_mito', 'percent_ribo', 'n_counts_ribo', 'percent_hb', 'n_counts_hb', 'percent_top50', 'n_counts_raw', 'log1p_n_counts_raw', 'n_genes_raw', 'log1p_n_genes_raw', 'percent_mito_raw', 'n_counts_mito_raw', 'percent_ribo_raw', 'n_counts_ribo_raw', 'percent_hb_raw', 'n_counts_hb_raw', 'percent_top50_raw', 'n_counts_spliced', 'log1p_n_counts_spliced', 'n_genes_spliced', 'log1p_n_genes_spliced', 'percent_mito_spliced', 'n_counts_mito_spliced', 'percent_ribo_spliced', 'n_counts_ribo_spliced', 'percent_hb_spliced', 'n_counts_hb_spliced', 'percent_top50_spliced', 'n_counts_unspliced', 'log1p_n_counts_unspliced', 'n_genes_unspliced', 'log1p_n_genes_unspliced', 'percent_mito_unspliced', 'n_counts_mito_unspliced', 'percent_ribo_unspliced', 'n_counts_ribo_unspliced', 'percent_hb_unspliced', 'n_counts_hb_unspliced', 'percent_top50_unspliced', 'percent_soup', 'percent_spliced', 'qc_cluster', 'pass_auto_filter_mito20', 'good_qc_cluster_mito20', 'pass_auto_filter_mito50', 'good_qc_cluster_mito50', 'pass_auto_filter_mito80', 'good_qc_cluster_mito80', 'pass_auto_filter', 'good_qc_cluster', 'pass_default', 'sampleID', 'sourceID', 'donorID_original', 'study', 'donorID_corrected', 'donorID_unified', 'donor_category', 'donor_disease', 'organ_original', 'organ_unified', 'organ_broad', 'age_original', 'age_unified', 'age_continuousadult', 'age_continuousdev', 'sex', 'sample_type', 'sample_category', 'sample_retrieval', 'tissue_fraction', 'cell_fraction', 'cell_fraction_unified', 'cell_sorting', 'technology', 'include_150722', 'cluster_scrublet_score', 'bh_pval', 'scrublet_score', 'scrublet_score_z', 'scrublet_done', 'doublet', 'stringent_doublet', 'integration_grouping', '_scvi_batch', '_scvi_labels', 'broad_annot_20220914', 'martin19_pred', 'martin19_pred_prob', 'martin19_pred_uncertain', 'warner20_pred', 'warner20_pred_prob', 'warner20_pred_uncertain', 'broad_annot_20220917', 'donor_organ_lineage', 'fine_annot', 'fine_annot_original'\n",
       "    var: 'gene_ids', 'feature_type', 'mito', 'ribo', 'hb', 'n_counts', 'n_counts_raw', 'n_counts_spliced', 'n_counts_unspliced', 'n_cells', 'n_cells_raw', 'n_cells_spliced', 'n_cells_unspliced', 'cc', 'ig', 'tcr'\n",
       "    uns: '_scvi_manager_uuid', '_scvi_uuid', 'age_unified_colors', 'broad_annot_20220914_colors', 'elmentaite21_pred_colors', 'fine_annot_colors', 'hvg', 'neighbors', 'neighbors_scvi', 'organ_unified_colors', 'study_colors', 'umap'\n",
       "    obsm: 'X_mde', 'X_scvi', 'X_umap', '_scvi_extra_categorical_covs', '_scvi_extra_continuous_covs'\n",
       "    layers: 'counts'\n",
       "    obsp: 'connectivities', 'distances', 'neighbors_scvi_connectivities', 'neighbors_scvi_distances'"
      ]
     },
     "execution_count": 23,
     "metadata": {},
     "output_type": "execute_result"
    }
   ],
   "source": [
    "adata"
   ]
  },
  {
   "cell_type": "code",
   "execution_count": 24,
   "id": "7df142ea-6dce-4cbe-b79a-f2bb3b6de8a9",
   "metadata": {
    "tags": []
   },
   "outputs": [
    {
     "data": {
      "image/png": "[encoded data removed]",
      "text/plain": [
       "<Figure size 288x288 with 1 Axes>"
      ]
     },
     "metadata": {},
     "output_type": "display_data"
    }
   ],
   "source": [
    "sc.pl.umap(adata,color='broad_annot_20220917')"
   ]
  },
  {
   "cell_type": "code",
   "execution_count": 26,
   "id": "f283e2d3-9a48-4129-bbec-2b21be22dac9",
   "metadata": {},
   "outputs": [],
   "source": [
    "adata.obsm['X_scANVI'] = pd.read_csv(\"/home/jupyter/Annotations_v3/models/scanvi_20230126/pooled_healthy.scanvi_broad_annot.X_scANVI.20230126.csv.gz\", compression='gzip',index_col=0)"
   ]
  },
  {
   "cell_type": "code",
   "execution_count": 27,
   "id": "510f251b-0f21-4de1-86ba-a2eb571b11de",
   "metadata": {},
   "outputs": [
    {
     "data": {
      "text/html": [
       "<div>\n",
       "<style scoped>\n",
       "    .dataframe tbody tr th:only-of-type {\n",
       "        vertical-align: middle;\n",
       "    }\n",
       "\n",
       "    .dataframe tbody tr th {\n",
       "        vertical-align: top;\n",
       "    }\n",
       "\n",
       "    .dataframe thead th {\n",
       "        text-align: right;\n",
       "    }\n",
       "</style>\n",
       "<table border=\"1\" class=\"dataframe\">\n",
       "  <thead>\n",
       "    <tr style=\"text-align: right;\">\n",
       "      <th></th>\n",
       "      <th>LV1</th>\n",
       "      <th>LV2</th>\n",
       "      <th>LV3</th>\n",
       "      <th>LV4</th>\n",
       "      <th>LV5</th>\n",
       "      <th>LV6</th>\n",
       "      <th>LV7</th>\n",
       "      <th>LV8</th>\n",
       "      <th>LV9</th>\n",
       "      <th>LV10</th>\n",
       "      <th>LV11</th>\n",
       "      <th>LV12</th>\n",
       "      <th>LV13</th>\n",
       "      <th>LV14</th>\n",
       "      <th>LV15</th>\n",
       "      <th>LV16</th>\n",
       "      <th>LV17</th>\n",
       "      <th>LV18</th>\n",
       "      <th>LV19</th>\n",
       "      <th>LV20</th>\n",
       "    </tr>\n",
       "    <tr>\n",
       "      <th>index</th>\n",
       "      <th></th>\n",
       "      <th></th>\n",
       "      <th></th>\n",
       "      <th></th>\n",
       "      <th></th>\n",
       "      <th></th>\n",
       "      <th></th>\n",
       "      <th></th>\n",
       "      <th></th>\n",
       "      <th></th>\n",
       "      <th></th>\n",
       "      <th></th>\n",
       "      <th></th>\n",
       "      <th></th>\n",
       "      <th></th>\n",
       "      <th></th>\n",
       "      <th></th>\n",
       "      <th></th>\n",
       "      <th></th>\n",
       "      <th></th>\n",
       "    </tr>\n",
       "  </thead>\n",
       "  <tbody>\n",
       "    <tr>\n",
       "      <th>AAACGAATCTCTTGCG-GSM4600896</th>\n",
       "      <td>-0.262764</td>\n",
       "      <td>1.340677</td>\n",
       "      <td>-2.160902</td>\n",
       "      <td>0.069910</td>\n",
       "      <td>0.357158</td>\n",
       "      <td>-0.287108</td>\n",
       "      <td>-0.965917</td>\n",
       "      <td>0.034153</td>\n",
       "      <td>0.520506</td>\n",
       "      <td>-1.790125</td>\n",
       "      <td>-2.397438</td>\n",
       "      <td>0.138315</td>\n",
       "      <td>1.872088</td>\n",
       "      <td>0.020697</td>\n",
       "      <td>1.892465</td>\n",
       "      <td>-1.511135</td>\n",
       "      <td>0.019417</td>\n",
       "      <td>0.131700</td>\n",
       "      <td>-0.495227</td>\n",
       "      <td>-0.556520</td>\n",
       "    </tr>\n",
       "    <tr>\n",
       "      <th>AAACGCTAGCGACCCT-GSM4600896</th>\n",
       "      <td>-0.072241</td>\n",
       "      <td>-0.613696</td>\n",
       "      <td>-1.073295</td>\n",
       "      <td>0.022658</td>\n",
       "      <td>-0.044960</td>\n",
       "      <td>-2.545102</td>\n",
       "      <td>2.844645</td>\n",
       "      <td>0.187638</td>\n",
       "      <td>1.874540</td>\n",
       "      <td>0.084587</td>\n",
       "      <td>0.673198</td>\n",
       "      <td>0.001966</td>\n",
       "      <td>1.555422</td>\n",
       "      <td>0.085497</td>\n",
       "      <td>-0.334869</td>\n",
       "      <td>-1.109183</td>\n",
       "      <td>-0.238280</td>\n",
       "      <td>0.009870</td>\n",
       "      <td>1.183070</td>\n",
       "      <td>-0.461780</td>\n",
       "    </tr>\n",
       "    <tr>\n",
       "      <th>AAAGAACAGCGACCCT-GSM4600896</th>\n",
       "      <td>-0.186965</td>\n",
       "      <td>0.732935</td>\n",
       "      <td>-3.169084</td>\n",
       "      <td>0.021434</td>\n",
       "      <td>-0.143460</td>\n",
       "      <td>1.466100</td>\n",
       "      <td>-0.358301</td>\n",
       "      <td>0.016458</td>\n",
       "      <td>-0.353812</td>\n",
       "      <td>-1.221823</td>\n",
       "      <td>-2.798178</td>\n",
       "      <td>0.058806</td>\n",
       "      <td>2.864401</td>\n",
       "      <td>0.021629</td>\n",
       "      <td>-0.075594</td>\n",
       "      <td>-1.860333</td>\n",
       "      <td>-0.053360</td>\n",
       "      <td>0.139438</td>\n",
       "      <td>0.201179</td>\n",
       "      <td>0.432220</td>\n",
       "    </tr>\n",
       "    <tr>\n",
       "      <th>AAAGGGCAGTCACACT-GSM4600896</th>\n",
       "      <td>-0.214525</td>\n",
       "      <td>0.690759</td>\n",
       "      <td>-1.187455</td>\n",
       "      <td>0.021666</td>\n",
       "      <td>-0.333761</td>\n",
       "      <td>-2.460742</td>\n",
       "      <td>2.626953</td>\n",
       "      <td>0.113892</td>\n",
       "      <td>1.936636</td>\n",
       "      <td>0.166195</td>\n",
       "      <td>0.925668</td>\n",
       "      <td>0.042487</td>\n",
       "      <td>1.396114</td>\n",
       "      <td>0.062435</td>\n",
       "      <td>-0.161051</td>\n",
       "      <td>-1.128958</td>\n",
       "      <td>-0.226845</td>\n",
       "      <td>0.067524</td>\n",
       "      <td>1.113563</td>\n",
       "      <td>-0.178845</td>\n",
       "    </tr>\n",
       "    <tr>\n",
       "      <th>AAAGGGCCAACACAGG-GSM4600896</th>\n",
       "      <td>-0.132387</td>\n",
       "      <td>0.666024</td>\n",
       "      <td>-2.914824</td>\n",
       "      <td>0.050465</td>\n",
       "      <td>-0.749595</td>\n",
       "      <td>-1.104950</td>\n",
       "      <td>0.792894</td>\n",
       "      <td>0.157958</td>\n",
       "      <td>-1.469138</td>\n",
       "      <td>0.220614</td>\n",
       "      <td>-0.774842</td>\n",
       "      <td>0.057308</td>\n",
       "      <td>3.286594</td>\n",
       "      <td>0.115430</td>\n",
       "      <td>0.791877</td>\n",
       "      <td>1.670156</td>\n",
       "      <td>-0.374083</td>\n",
       "      <td>0.084604</td>\n",
       "      <td>3.532067</td>\n",
       "      <td>-0.859793</td>\n",
       "    </tr>\n",
       "    <tr>\n",
       "      <th>...</th>\n",
       "      <td>...</td>\n",
       "      <td>...</td>\n",
       "      <td>...</td>\n",
       "      <td>...</td>\n",
       "      <td>...</td>\n",
       "      <td>...</td>\n",
       "      <td>...</td>\n",
       "      <td>...</td>\n",
       "      <td>...</td>\n",
       "      <td>...</td>\n",
       "      <td>...</td>\n",
       "      <td>...</td>\n",
       "      <td>...</td>\n",
       "      <td>...</td>\n",
       "      <td>...</td>\n",
       "      <td>...</td>\n",
       "      <td>...</td>\n",
       "      <td>...</td>\n",
       "      <td>...</td>\n",
       "      <td>...</td>\n",
       "    </tr>\n",
       "    <tr>\n",
       "      <th>TTTGTCAAGAACAACT-GSM5525958</th>\n",
       "      <td>-0.082769</td>\n",
       "      <td>0.065547</td>\n",
       "      <td>0.018543</td>\n",
       "      <td>0.025168</td>\n",
       "      <td>0.171616</td>\n",
       "      <td>0.287131</td>\n",
       "      <td>0.165565</td>\n",
       "      <td>0.105013</td>\n",
       "      <td>2.332270</td>\n",
       "      <td>0.280057</td>\n",
       "      <td>-1.596661</td>\n",
       "      <td>0.070707</td>\n",
       "      <td>1.596012</td>\n",
       "      <td>-0.017695</td>\n",
       "      <td>-0.493651</td>\n",
       "      <td>1.424329</td>\n",
       "      <td>-0.008835</td>\n",
       "      <td>0.028931</td>\n",
       "      <td>0.241978</td>\n",
       "      <td>0.316227</td>\n",
       "    </tr>\n",
       "    <tr>\n",
       "      <th>TTTGTCAAGATAGGAG-GSM5525958</th>\n",
       "      <td>-0.089325</td>\n",
       "      <td>0.314489</td>\n",
       "      <td>0.136367</td>\n",
       "      <td>-0.003346</td>\n",
       "      <td>-0.200382</td>\n",
       "      <td>0.061592</td>\n",
       "      <td>0.648185</td>\n",
       "      <td>0.115966</td>\n",
       "      <td>-1.006780</td>\n",
       "      <td>0.291699</td>\n",
       "      <td>2.153949</td>\n",
       "      <td>-0.020209</td>\n",
       "      <td>1.295467</td>\n",
       "      <td>-0.091060</td>\n",
       "      <td>-0.919412</td>\n",
       "      <td>0.742865</td>\n",
       "      <td>0.037235</td>\n",
       "      <td>0.024060</td>\n",
       "      <td>0.007070</td>\n",
       "      <td>-0.251480</td>\n",
       "    </tr>\n",
       "    <tr>\n",
       "      <th>TTTGTCAAGTAGGCCA-GSM5525958</th>\n",
       "      <td>-0.132377</td>\n",
       "      <td>0.496524</td>\n",
       "      <td>0.069856</td>\n",
       "      <td>-0.000387</td>\n",
       "      <td>-0.512903</td>\n",
       "      <td>-0.079071</td>\n",
       "      <td>0.597407</td>\n",
       "      <td>0.104690</td>\n",
       "      <td>-1.041012</td>\n",
       "      <td>0.328690</td>\n",
       "      <td>1.783911</td>\n",
       "      <td>-0.035832</td>\n",
       "      <td>1.460910</td>\n",
       "      <td>-0.092021</td>\n",
       "      <td>-0.789184</td>\n",
       "      <td>1.106185</td>\n",
       "      <td>-0.010677</td>\n",
       "      <td>0.053218</td>\n",
       "      <td>-0.306778</td>\n",
       "      <td>-0.069698</td>\n",
       "    </tr>\n",
       "    <tr>\n",
       "      <th>TTTGTCAGTTGGACCC-GSM5525958</th>\n",
       "      <td>-0.112043</td>\n",
       "      <td>-0.085015</td>\n",
       "      <td>0.491207</td>\n",
       "      <td>0.025162</td>\n",
       "      <td>0.292144</td>\n",
       "      <td>-0.161325</td>\n",
       "      <td>0.033565</td>\n",
       "      <td>0.130139</td>\n",
       "      <td>1.861353</td>\n",
       "      <td>0.902727</td>\n",
       "      <td>-1.244643</td>\n",
       "      <td>0.093687</td>\n",
       "      <td>1.495138</td>\n",
       "      <td>-0.058275</td>\n",
       "      <td>-0.438696</td>\n",
       "      <td>1.131863</td>\n",
       "      <td>0.116039</td>\n",
       "      <td>0.004840</td>\n",
       "      <td>-0.907961</td>\n",
       "      <td>0.762826</td>\n",
       "    </tr>\n",
       "    <tr>\n",
       "      <th>TTTGTCATCACATACG-GSM5525958</th>\n",
       "      <td>-0.169020</td>\n",
       "      <td>0.856356</td>\n",
       "      <td>0.031581</td>\n",
       "      <td>-0.002371</td>\n",
       "      <td>-0.365949</td>\n",
       "      <td>0.243730</td>\n",
       "      <td>0.148172</td>\n",
       "      <td>0.093796</td>\n",
       "      <td>-0.981825</td>\n",
       "      <td>0.284793</td>\n",
       "      <td>2.304328</td>\n",
       "      <td>0.001380</td>\n",
       "      <td>1.384044</td>\n",
       "      <td>-0.066629</td>\n",
       "      <td>-0.859466</td>\n",
       "      <td>0.874790</td>\n",
       "      <td>0.008589</td>\n",
       "      <td>0.066813</td>\n",
       "      <td>0.184234</td>\n",
       "      <td>-0.099124</td>\n",
       "    </tr>\n",
       "  </tbody>\n",
       "</table>\n",
       "<p>1077241 rows × 20 columns</p>\n",
       "</div>"
      ],
      "text/plain": [
       "                                  LV1       LV2       LV3       LV4       LV5  \\\n",
       "index                                                                           \n",
       "AAACGAATCTCTTGCG-GSM4600896 -0.262764  1.340677 -2.160902  0.069910  0.357158   \n",
       "AAACGCTAGCGACCCT-GSM4600896 -0.072241 -0.613696 -1.073295  0.022658 -0.044960   \n",
       "AAAGAACAGCGACCCT-GSM4600896 -0.186965  0.732935 -3.169084  0.021434 -0.143460   \n",
       "AAAGGGCAGTCACACT-GSM4600896 -0.214525  0.690759 -1.187455  0.021666 -0.333761   \n",
       "AAAGGGCCAACACAGG-GSM4600896 -0.132387  0.666024 -2.914824  0.050465 -0.749595   \n",
       "...                               ...       ...       ...       ...       ...   \n",
       "TTTGTCAAGAACAACT-GSM5525958 -0.082769  0.065547  0.018543  0.025168  0.171616   \n",
       "TTTGTCAAGATAGGAG-GSM5525958 -0.089325  0.314489  0.136367 -0.003346 -0.200382   \n",
       "TTTGTCAAGTAGGCCA-GSM5525958 -0.132377  0.496524  0.069856 -0.000387 -0.512903   \n",
       "TTTGTCAGTTGGACCC-GSM5525958 -0.112043 -0.085015  0.491207  0.025162  0.292144   \n",
       "TTTGTCATCACATACG-GSM5525958 -0.169020  0.856356  0.031581 -0.002371 -0.365949   \n",
       "\n",
       "                                  LV6       LV7       LV8       LV9      LV10  \\\n",
       "index                                                                           \n",
       "AAACGAATCTCTTGCG-GSM4600896 -0.287108 -0.965917  0.034153  0.520506 -1.790125   \n",
       "AAACGCTAGCGACCCT-GSM4600896 -2.545102  2.844645  0.187638  1.874540  0.084587   \n",
       "AAAGAACAGCGACCCT-GSM4600896  1.466100 -0.358301  0.016458 -0.353812 -1.221823   \n",
       "AAAGGGCAGTCACACT-GSM4600896 -2.460742  2.626953  0.113892  1.936636  0.166195   \n",
       "AAAGGGCCAACACAGG-GSM4600896 -1.104950  0.792894  0.157958 -1.469138  0.220614   \n",
       "...                               ...       ...       ...       ...       ...   \n",
       "TTTGTCAAGAACAACT-GSM5525958  0.287131  0.165565  0.105013  2.332270  0.280057   \n",
       "TTTGTCAAGATAGGAG-GSM5525958  0.061592  0.648185  0.115966 -1.006780  0.291699   \n",
       "TTTGTCAAGTAGGCCA-GSM5525958 -0.079071  0.597407  0.104690 -1.041012  0.328690   \n",
       "TTTGTCAGTTGGACCC-GSM5525958 -0.161325  0.033565  0.130139  1.861353  0.902727   \n",
       "TTTGTCATCACATACG-GSM5525958  0.243730  0.148172  0.093796 -0.981825  0.284793   \n",
       "\n",
       "                                 LV11      LV12      LV13      LV14      LV15  \\\n",
       "index                                                                           \n",
       "AAACGAATCTCTTGCG-GSM4600896 -2.397438  0.138315  1.872088  0.020697  1.892465   \n",
       "AAACGCTAGCGACCCT-GSM4600896  0.673198  0.001966  1.555422  0.085497 -0.334869   \n",
       "AAAGAACAGCGACCCT-GSM4600896 -2.798178  0.058806  2.864401  0.021629 -0.075594   \n",
       "AAAGGGCAGTCACACT-GSM4600896  0.925668  0.042487  1.396114  0.062435 -0.161051   \n",
       "AAAGGGCCAACACAGG-GSM4600896 -0.774842  0.057308  3.286594  0.115430  0.791877   \n",
       "...                               ...       ...       ...       ...       ...   \n",
       "TTTGTCAAGAACAACT-GSM5525958 -1.596661  0.070707  1.596012 -0.017695 -0.493651   \n",
       "TTTGTCAAGATAGGAG-GSM5525958  2.153949 -0.020209  1.295467 -0.091060 -0.919412   \n",
       "TTTGTCAAGTAGGCCA-GSM5525958  1.783911 -0.035832  1.460910 -0.092021 -0.789184   \n",
       "TTTGTCAGTTGGACCC-GSM5525958 -1.244643  0.093687  1.495138 -0.058275 -0.438696   \n",
       "TTTGTCATCACATACG-GSM5525958  2.304328  0.001380  1.384044 -0.066629 -0.859466   \n",
       "\n",
       "                                 LV16      LV17      LV18      LV19      LV20  \n",
       "index                                                                          \n",
       "AAACGAATCTCTTGCG-GSM4600896 -1.511135  0.019417  0.131700 -0.495227 -0.556520  \n",
       "AAACGCTAGCGACCCT-GSM4600896 -1.109183 -0.238280  0.009870  1.183070 -0.461780  \n",
       "AAAGAACAGCGACCCT-GSM4600896 -1.860333 -0.053360  0.139438  0.201179  0.432220  \n",
       "AAAGGGCAGTCACACT-GSM4600896 -1.128958 -0.226845  0.067524  1.113563 -0.178845  \n",
       "AAAGGGCCAACACAGG-GSM4600896  1.670156 -0.374083  0.084604  3.532067 -0.859793  \n",
       "...                               ...       ...       ...       ...       ...  \n",
       "TTTGTCAAGAACAACT-GSM5525958  1.424329 -0.008835  0.028931  0.241978  0.316227  \n",
       "TTTGTCAAGATAGGAG-GSM5525958  0.742865  0.037235  0.024060  0.007070 -0.251480  \n",
       "TTTGTCAAGTAGGCCA-GSM5525958  1.106185 -0.010677  0.053218 -0.306778 -0.069698  \n",
       "TTTGTCAGTTGGACCC-GSM5525958  1.131863  0.116039  0.004840 -0.907961  0.762826  \n",
       "TTTGTCATCACATACG-GSM5525958  0.874790  0.008589  0.066813  0.184234 -0.099124  \n",
       "\n",
       "[1077241 rows x 20 columns]"
      ]
     },
     "execution_count": 27,
     "metadata": {},
     "output_type": "execute_result"
    }
   ],
   "source": [
    "adata.obsm['X_scANVI']"
   ]
  },
  {
   "cell_type": "code",
   "execution_count": 35,
   "id": "00404b05-0f5d-4478-aec2-7e734837aa74",
   "metadata": {},
   "outputs": [
    {
     "name": "stdout",
     "output_type": "stream",
     "text": [
      "\u001b[34mINFO    \u001b[0m File \u001b[35m/home/jupyter/Annotations_v3/scvi_output20230126/pooled_healthy.hvg7500_noCC.no\u001b[0m\n",
      "         \u001b[35mdoublets.scvi_output.20230126.vae/\u001b[0m\u001b[95mmodel.pt\u001b[0m already downloaded                       \n"
     ]
    }
   ],
   "source": [
    "scvi_ref = scvi.model.SCVI.load(\"/home/jupyter/Annotations_v3/scvi_output20230126/pooled_healthy.hvg7500_noCC.nodoublets.scvi_output.20230126.vae/\",adata)"
   ]
  },
  {
   "cell_type": "markdown",
   "id": "minus-population",
   "metadata": {},
   "source": [
    "# Process"
   ]
  },
  {
   "cell_type": "markdown",
   "id": "physical-lover",
   "metadata": {},
   "source": [
    "## Query"
   ]
  },
  {
   "cell_type": "code",
   "execution_count": 28,
   "id": "everyday-subscription",
   "metadata": {
    "tags": []
   },
   "outputs": [],
   "source": [
    "disease_ad = sc.read('/home/jupyter/Annotations_v3/h5ad/disease/Epi.pooled_disease_with_klennerman_ramnik.log1pcounts.20230221.h5ad')"
   ]
  },
  {
   "cell_type": "code",
   "execution_count": 29,
   "id": "studied-hobby",
   "metadata": {
    "tags": []
   },
   "outputs": [
    {
     "data": {
      "text/plain": [
       "AnnData object with n_obs × n_vars = 311277 × 18485\n",
       "    obs: 'latent_cell_probability', 'latent_RT_efficiency', 'cecilia22_predH', 'cecilia22_predH_prob', 'cecilia22_predH_uncertain', 'cecilia22_predL', 'cecilia22_predL_prob', 'cecilia22_predL_uncertain', 'elmentaite21_pred', 'elmentaite21_pred_prob', 'elmentaite21_pred_uncertain', 'suo22_pred', 'suo22_pred_prob', 'suo22_pred_uncertain', 'n_counts', 'log1p_n_counts', 'n_genes', 'log1p_n_genes', 'percent_mito', 'n_counts_mito', 'percent_ribo', 'n_counts_ribo', 'percent_hb', 'n_counts_hb', 'percent_top50', 'n_counts_raw', 'log1p_n_counts_raw', 'n_genes_raw', 'log1p_n_genes_raw', 'percent_mito_raw', 'n_counts_mito_raw', 'percent_ribo_raw', 'n_counts_ribo_raw', 'percent_hb_raw', 'n_counts_hb_raw', 'percent_top50_raw', 'n_counts_spliced', 'log1p_n_counts_spliced', 'n_genes_spliced', 'log1p_n_genes_spliced', 'percent_mito_spliced', 'n_counts_mito_spliced', 'percent_ribo_spliced', 'n_counts_ribo_spliced', 'percent_hb_spliced', 'n_counts_hb_spliced', 'percent_top50_spliced', 'n_counts_unspliced', 'log1p_n_counts_unspliced', 'n_genes_unspliced', 'log1p_n_genes_unspliced', 'percent_mito_unspliced', 'n_counts_mito_unspliced', 'percent_ribo_unspliced', 'n_counts_ribo_unspliced', 'percent_hb_unspliced', 'n_counts_hb_unspliced', 'percent_top50_unspliced', 'percent_soup', 'percent_spliced', 'qc_cluster', 'pass_auto_filter', 'good_qc_cluster', 'pass_default', 'sampleID', 'sourceID', 'donorID_original', 'study', 'donorID_corrected', 'donorID_unified', 'donor_category', 'donor_disease', 'organ_original', 'organ_unified', 'organ_broad', 'age_original', 'age_unified', 'age_continuousadult', 'age_continuousdev', 'sex', 'sample_type', 'sample_category', 'sample_retrieval', 'tissue_fraction', 'cell_fraction', 'cell_fraction_unified', 'cell_sorting', 'technology', 'include_150722', 'cluster_scrublet_score', 'bh_pval', 'scrublet_score', 'scrublet_score_z', 'scrublet_done', '_scvi_batch', '_scvi_labels', 'martin19_pred', 'martin19_pred_prob', 'martin19_pred_uncertain', 'warner20_pred', 'warner20_pred_prob', 'warner20_pred_uncertain', 'broad_predicted_labels', 'broad_predicted_labels_uncert', 'disease_stage_original1', 'disease_stage_original2', 'TX_antidiarrheal', 'TX_5_ASA', 'TX_biologics', 'TX_steroid', 'TX_immunomodulators', 'TX_antibiotic', 'Smoking', 'batch', 'celltype'\n",
       "    var: 'gene_ids-0-0', 'feature_type-0-0', 'mito-0-0', 'ribo-0-0', 'hb-0-0', 'n_counts-0-0', 'n_counts_raw-0-0', 'n_counts_spliced-0-0', 'n_counts_unspliced-0-0', 'n_cells-0-0', 'n_cells_raw-0-0', 'n_cells_spliced-0-0', 'n_cells_unspliced-0-0', 'cc-0-0', 'ig-0-0', 'tcr-0-0', 'gene_id-1-0', 'mt-1-0', 'ensmbl_id-colon-1-0', 'n_cells_by_counts-colon-1-0', 'mean_counts-colon-1-0', 'pct_dropout_by_counts-colon-1-0', 'total_counts-colon-1-0', 'n_cells_by_counts-ileum-1-0', 'mean_counts-ileum-1-0', 'pct_dropout_by_counts-ileum-1-0', 'total_counts-ileum-1-0'"
      ]
     },
     "execution_count": 29,
     "metadata": {},
     "output_type": "execute_result"
    }
   ],
   "source": [
    "disease_ad"
   ]
  },
  {
   "cell_type": "code",
   "execution_count": 31,
   "id": "7d12704b-f196-4ab2-8e27-59c5ebe6fcea",
   "metadata": {},
   "outputs": [
    {
     "data": {
      "text/plain": [
       "Kong2023           251924\n",
       "Kim2022             26308\n",
       "Lee2020             11362\n",
       "Parikh2019           5717\n",
       "Elmentaite2021       5501\n",
       "Martin2019           3645\n",
       "Jeong2021            3073\n",
       "Fitzpatrick2023      2484\n",
       "Huang2019            1060\n",
       "Uzzan2022             129\n",
       "Kinchen2018            47\n",
       "Jaeger2021             27\n",
       "Name: study, dtype: int64"
      ]
     },
     "execution_count": 31,
     "metadata": {},
     "output_type": "execute_result"
    }
   ],
   "source": [
    "disease_ad.obs.study.value_counts()"
   ]
  },
  {
   "cell_type": "code",
   "execution_count": 32,
   "id": "4a300209-0d45-4dc6-8815-4f1342040eab",
   "metadata": {},
   "outputs": [],
   "source": [
    "disease_ad = disease_ad[disease_ad.obs.study.isin(['Kong2023','Fitzpatrick2023'])].copy()"
   ]
  },
  {
   "cell_type": "code",
   "execution_count": 33,
   "id": "1edf1975-16e3-45cf-8e59-9485c86a68bc",
   "metadata": {},
   "outputs": [
    {
     "data": {
      "text/plain": [
       "AnnData object with n_obs × n_vars = 254408 × 18485\n",
       "    obs: 'latent_cell_probability', 'latent_RT_efficiency', 'cecilia22_predH', 'cecilia22_predH_prob', 'cecilia22_predH_uncertain', 'cecilia22_predL', 'cecilia22_predL_prob', 'cecilia22_predL_uncertain', 'elmentaite21_pred', 'elmentaite21_pred_prob', 'elmentaite21_pred_uncertain', 'suo22_pred', 'suo22_pred_prob', 'suo22_pred_uncertain', 'n_counts', 'log1p_n_counts', 'n_genes', 'log1p_n_genes', 'percent_mito', 'n_counts_mito', 'percent_ribo', 'n_counts_ribo', 'percent_hb', 'n_counts_hb', 'percent_top50', 'n_counts_raw', 'log1p_n_counts_raw', 'n_genes_raw', 'log1p_n_genes_raw', 'percent_mito_raw', 'n_counts_mito_raw', 'percent_ribo_raw', 'n_counts_ribo_raw', 'percent_hb_raw', 'n_counts_hb_raw', 'percent_top50_raw', 'n_counts_spliced', 'log1p_n_counts_spliced', 'n_genes_spliced', 'log1p_n_genes_spliced', 'percent_mito_spliced', 'n_counts_mito_spliced', 'percent_ribo_spliced', 'n_counts_ribo_spliced', 'percent_hb_spliced', 'n_counts_hb_spliced', 'percent_top50_spliced', 'n_counts_unspliced', 'log1p_n_counts_unspliced', 'n_genes_unspliced', 'log1p_n_genes_unspliced', 'percent_mito_unspliced', 'n_counts_mito_unspliced', 'percent_ribo_unspliced', 'n_counts_ribo_unspliced', 'percent_hb_unspliced', 'n_counts_hb_unspliced', 'percent_top50_unspliced', 'percent_soup', 'percent_spliced', 'qc_cluster', 'pass_auto_filter', 'good_qc_cluster', 'pass_default', 'sampleID', 'sourceID', 'donorID_original', 'study', 'donorID_corrected', 'donorID_unified', 'donor_category', 'donor_disease', 'organ_original', 'organ_unified', 'organ_broad', 'age_original', 'age_unified', 'age_continuousadult', 'age_continuousdev', 'sex', 'sample_type', 'sample_category', 'sample_retrieval', 'tissue_fraction', 'cell_fraction', 'cell_fraction_unified', 'cell_sorting', 'technology', 'include_150722', 'cluster_scrublet_score', 'bh_pval', 'scrublet_score', 'scrublet_score_z', 'scrublet_done', '_scvi_batch', '_scvi_labels', 'martin19_pred', 'martin19_pred_prob', 'martin19_pred_uncertain', 'warner20_pred', 'warner20_pred_prob', 'warner20_pred_uncertain', 'broad_predicted_labels', 'broad_predicted_labels_uncert', 'disease_stage_original1', 'disease_stage_original2', 'TX_antidiarrheal', 'TX_5_ASA', 'TX_biologics', 'TX_steroid', 'TX_immunomodulators', 'TX_antibiotic', 'Smoking', 'batch', 'celltype'\n",
       "    var: 'gene_ids-0-0', 'feature_type-0-0', 'mito-0-0', 'ribo-0-0', 'hb-0-0', 'n_counts-0-0', 'n_counts_raw-0-0', 'n_counts_spliced-0-0', 'n_counts_unspliced-0-0', 'n_cells-0-0', 'n_cells_raw-0-0', 'n_cells_spliced-0-0', 'n_cells_unspliced-0-0', 'cc-0-0', 'ig-0-0', 'tcr-0-0', 'gene_id-1-0', 'mt-1-0', 'ensmbl_id-colon-1-0', 'n_cells_by_counts-colon-1-0', 'mean_counts-colon-1-0', 'pct_dropout_by_counts-colon-1-0', 'total_counts-colon-1-0', 'n_cells_by_counts-ileum-1-0', 'mean_counts-ileum-1-0', 'pct_dropout_by_counts-ileum-1-0', 'total_counts-ileum-1-0'"
      ]
     },
     "execution_count": 33,
     "metadata": {},
     "output_type": "execute_result"
    }
   ],
   "source": [
    "disease_ad"
   ]
  },
  {
   "cell_type": "code",
   "execution_count": 36,
   "id": "4e41febe-ebb7-4d1f-8452-d22c4a804c65",
   "metadata": {},
   "outputs": [
    {
     "name": "stdout",
     "output_type": "stream",
     "text": [
      "\u001b[34mINFO    \u001b[0m Found \u001b[1;36m66.71703296703296\u001b[0m% reference vars in query data.                              \n"
     ]
    },
    {
     "name": "stderr",
     "output_type": "stream",
     "text": [
      "/opt/conda/envs/scvi/lib/python3.9/site-packages/scvi/model/base/_archesmixin.py:204: UserWarning: Query data contains less than 1% of reference var names. This may result in poor performance.\n",
      "  warnings.warn(\n",
      "/opt/conda/envs/scvi/lib/python3.9/site-packages/scvi/model/base/_archesmixin.py:211: FutureWarning: X.dtype being converted to np.float32 from float64. In the next version of anndata (0.9) conversion will not be automatic. Pass dtype explicitly to avoid this warning. Pass `AnnData(X, dtype=X.dtype, ...)` to get the future behavour.\n",
      "  adata_padding = AnnData(\n"
     ]
    }
   ],
   "source": [
    "scvi.model.SCANVI.prepare_query_anndata(disease_ad, scvi_ref)"
   ]
  },
  {
   "cell_type": "code",
   "execution_count": 37,
   "id": "b13c62fb-661c-4d35-a47e-c767833b1bf9",
   "metadata": {},
   "outputs": [
    {
     "data": {
      "text/plain": [
       "AnnData object with n_obs × n_vars = 254408 × 7280\n",
       "    obs: 'latent_cell_probability', 'latent_RT_efficiency', 'cecilia22_predH', 'cecilia22_predH_prob', 'cecilia22_predH_uncertain', 'cecilia22_predL', 'cecilia22_predL_prob', 'cecilia22_predL_uncertain', 'elmentaite21_pred', 'elmentaite21_pred_prob', 'elmentaite21_pred_uncertain', 'suo22_pred', 'suo22_pred_prob', 'suo22_pred_uncertain', 'n_counts', 'log1p_n_counts', 'n_genes', 'log1p_n_genes', 'percent_mito', 'n_counts_mito', 'percent_ribo', 'n_counts_ribo', 'percent_hb', 'n_counts_hb', 'percent_top50', 'n_counts_raw', 'log1p_n_counts_raw', 'n_genes_raw', 'log1p_n_genes_raw', 'percent_mito_raw', 'n_counts_mito_raw', 'percent_ribo_raw', 'n_counts_ribo_raw', 'percent_hb_raw', 'n_counts_hb_raw', 'percent_top50_raw', 'n_counts_spliced', 'log1p_n_counts_spliced', 'n_genes_spliced', 'log1p_n_genes_spliced', 'percent_mito_spliced', 'n_counts_mito_spliced', 'percent_ribo_spliced', 'n_counts_ribo_spliced', 'percent_hb_spliced', 'n_counts_hb_spliced', 'percent_top50_spliced', 'n_counts_unspliced', 'log1p_n_counts_unspliced', 'n_genes_unspliced', 'log1p_n_genes_unspliced', 'percent_mito_unspliced', 'n_counts_mito_unspliced', 'percent_ribo_unspliced', 'n_counts_ribo_unspliced', 'percent_hb_unspliced', 'n_counts_hb_unspliced', 'percent_top50_unspliced', 'percent_soup', 'percent_spliced', 'qc_cluster', 'pass_auto_filter', 'good_qc_cluster', 'pass_default', 'sampleID', 'sourceID', 'donorID_original', 'study', 'donorID_corrected', 'donorID_unified', 'donor_category', 'donor_disease', 'organ_original', 'organ_unified', 'organ_broad', 'age_original', 'age_unified', 'age_continuousadult', 'age_continuousdev', 'sex', 'sample_type', 'sample_category', 'sample_retrieval', 'tissue_fraction', 'cell_fraction', 'cell_fraction_unified', 'cell_sorting', 'technology', 'include_150722', 'cluster_scrublet_score', 'bh_pval', 'scrublet_score', 'scrublet_score_z', 'scrublet_done', '_scvi_batch', '_scvi_labels', 'martin19_pred', 'martin19_pred_prob', 'martin19_pred_uncertain', 'warner20_pred', 'warner20_pred_prob', 'warner20_pred_uncertain', 'broad_predicted_labels', 'broad_predicted_labels_uncert', 'disease_stage_original1', 'disease_stage_original2', 'TX_antidiarrheal', 'TX_5_ASA', 'TX_biologics', 'TX_steroid', 'TX_immunomodulators', 'TX_antibiotic', 'Smoking', 'batch', 'celltype'\n",
       "    var: 'gene_ids-0-0', 'feature_type-0-0', 'mito-0-0', 'ribo-0-0', 'hb-0-0', 'n_counts-0-0', 'n_counts_raw-0-0', 'n_counts_spliced-0-0', 'n_counts_unspliced-0-0', 'n_cells-0-0', 'n_cells_raw-0-0', 'n_cells_spliced-0-0', 'n_cells_unspliced-0-0', 'cc-0-0', 'ig-0-0', 'tcr-0-0', 'gene_id-1-0', 'mt-1-0', 'ensmbl_id-colon-1-0', 'n_cells_by_counts-colon-1-0', 'mean_counts-colon-1-0', 'pct_dropout_by_counts-colon-1-0', 'total_counts-colon-1-0', 'n_cells_by_counts-ileum-1-0', 'mean_counts-ileum-1-0', 'pct_dropout_by_counts-ileum-1-0', 'total_counts-ileum-1-0'"
      ]
     },
     "execution_count": 37,
     "metadata": {},
     "output_type": "execute_result"
    }
   ],
   "source": [
    "disease_ad"
   ]
  },
  {
   "cell_type": "code",
   "execution_count": 38,
   "id": "bigger-prevention",
   "metadata": {
    "tags": []
   },
   "outputs": [
    {
     "name": "stdout",
     "output_type": "stream",
     "text": [
      "\u001b[34mINFO    \u001b[0m File \u001b[35m/home/jupyter/Annotations_v3/models/scanvi_20230126/pooled_healthy.broad_annot_\u001b[0m\n",
      "         \u001b[35m20220817.scanvi_model.pt/\u001b[0m\u001b[95mmodel.pt\u001b[0m already downloaded                                \n"
     ]
    },
    {
     "name": "stderr",
     "output_type": "stream",
     "text": [
      "/opt/conda/envs/scvi/lib/python3.9/site-packages/scvi/data/fields/_scanvi.py:89: UserWarning: Missing labels key broad_annot_20220917. Filling in with unlabeled category Unknown.\n",
      "  warnings.warn(\n"
     ]
    }
   ],
   "source": [
    "scanvi_query = scvi.model.SCANVI.load_query_data(\n",
    "    disease_ad,\n",
    "    \"/home/jupyter/Annotations_v3/models/scanvi_20230126/pooled_healthy.broad_annot_20220817.scanvi_model.pt\",\n",
    ")"
   ]
  },
  {
   "cell_type": "code",
   "execution_count": 42,
   "id": "local-dealing",
   "metadata": {
    "tags": []
   },
   "outputs": [
    {
     "name": "stdout",
     "output_type": "stream",
     "text": [
      "\u001b[34mINFO    \u001b[0m Training for \u001b[1;36m100\u001b[0m epochs.                                                            \n"
     ]
    },
    {
     "name": "stderr",
     "output_type": "stream",
     "text": [
      "/opt/conda/envs/scvi/lib/python3.9/site-packages/torchmetrics/utilities/prints.py:36: UserWarning: Torchmetrics v0.9 introduced a new argument class property called `full_state_update` that has\n",
      "                not been set for this class (ElboMetric). The property determines if `update` by\n",
      "                default needs access to the full metric state. If this is not the case, significant speedups can be\n",
      "                achieved and we recommend setting this to `False`.\n",
      "                We provide an checking function\n",
      "                `from torchmetrics.utilities import check_forward_no_full_state`\n",
      "                that can be used to check if the `full_state_update=True` (old and potential slower behaviour,\n",
      "                default for now) or if `full_state_update=False` can be used safely.\n",
      "                \n",
      "  warnings.warn(*args, **kwargs)\n",
      "GPU available: True, used: True\n",
      "TPU available: False, using: 0 TPU cores\n",
      "IPU available: False, using: 0 IPUs\n",
      "LOCAL_RANK: 0 - CUDA_VISIBLE_DEVICES: [0]\n"
     ]
    },
    {
     "name": "stdout",
     "output_type": "stream",
     "text": [
      "Epoch 100/100: 100%|██████████| 100/100 [56:10<00:00, 33.70s/it, loss=832, v_num=1]\n"
     ]
    }
   ],
   "source": [
    "scanvi_query.train(\n",
    "    max_epochs=100, plan_kwargs=dict(weight_decay=0.0), check_val_every_n_epoch=10\n",
    ")"
   ]
  },
  {
   "cell_type": "code",
   "execution_count": 44,
   "id": "sunrise-baking",
   "metadata": {
    "tags": []
   },
   "outputs": [],
   "source": [
    "scanvi_query.save(\n",
    "    \"/home/jupyter/Annotations_v3/models/scanvi_output20230126/pooled_healthy_broad_annot.diseaseRAMNIKKLENERMAN_scanvi_model.pt\"\n",
    ")"
   ]
  },
  {
   "cell_type": "code",
   "execution_count": 45,
   "id": "damaged-hometown",
   "metadata": {
    "tags": []
   },
   "outputs": [],
   "source": [
    "disease_ad.obsm[\"X_scANVI\"] = scanvi_query.get_latent_representation()"
   ]
  },
  {
   "cell_type": "code",
   "execution_count": 46,
   "id": "7f6e393f-dda2-4296-bbdc-9e51f2455b59",
   "metadata": {},
   "outputs": [],
   "source": [
    "pd.DataFrame(\n",
    "    disease_ad.obsm[\"X_scANVI\"],\n",
    "    index=disease_ad.obs_names,\n",
    "    columns=[f\"LV{i+1}\" for i in range(disease_ad.obsm[\"X_scANVI\"].shape[1])],\n",
    ").to_csv(\n",
    "    \"/home/jupyter/Annotations_v3/models/disease_ramnik_klennerman_latentspace_fullreferenceprojection_20230227.csv.gz\"\n",
    ")"
   ]
  },
  {
   "cell_type": "code",
   "execution_count": null,
   "id": "da256eff-7031-4d4b-9fdb-11253b53a3ae",
   "metadata": {},
   "outputs": [],
   "source": []
  }
 ],
 "metadata": {
  "environment": {
   "kernel": "scvi",
   "name": "pytorch-gpu.1-11.m93",
   "type": "gcloud",
   "uri": "gcr.io/deeplearning-platform-release/pytorch-gpu.1-11:m93"
  },
  "kernelspec": {
   "display_name": "Environment (scvi_env)",
   "language": "python",
   "name": "scvi"
  },
  "language_info": {
   "codemirror_mode": {
    "name": "ipython",
    "version": 3
   },
   "file_extension": ".py",
   "mimetype": "text/x-python",
   "name": "python",
   "nbconvert_exporter": "python",
   "pygments_lexer": "ipython3",
   "version": "3.9.13"
  }
 },
 "nbformat": 4,
 "nbformat_minor": 5
}
