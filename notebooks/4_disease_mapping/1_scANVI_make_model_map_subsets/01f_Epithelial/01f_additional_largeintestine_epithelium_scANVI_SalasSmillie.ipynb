{
 "cells": [
  {
   "cell_type": "markdown",
   "id": "multiple-nirvana",
   "metadata": {},
   "source": [
    "# scANVI integration of disease dataset - fine grained annotations for Epithelial cells \n",
    "- integrating additional epithelial data from large intestine\n",
    "- Smillie et al and Salas data (published and unpublished)"
   ]
  },
  {
   "cell_type": "markdown",
   "id": "mechanical-twenty",
   "metadata": {},
   "source": [
    "# Import and settings"
   ]
  },
  {
   "cell_type": "code",
   "execution_count": 1,
   "id": "uniform-melbourne",
   "metadata": {
    "tags": []
   },
   "outputs": [
    {
     "name": "stderr",
     "output_type": "stream",
     "text": [
      "Global seed set to 0\n"
     ]
    }
   ],
   "source": [
    "%load_ext autoreload\n",
    "%autoreload 2\n",
    "\n",
    "import os, re, gc, joblib\n",
    "\n",
    "import numpy as np\n",
    "import numpy_groupies as npg\n",
    "import scipy.sparse as sp\n",
    "import pandas as pd\n",
    "from sklearn.preprocessing import minmax_scale\n",
    "\n",
    "import matplotlib.pyplot as plt\n",
    "from matplotlib import rcParams\n",
    "from matplotlib.colors import ListedColormap, LogNorm\n",
    "\n",
    "import seaborn as sn\n",
    "\n",
    "import anndata\n",
    "\n",
    "import scanpy as sc\n",
    "import sctk as sk\n",
    "\n",
    "import torch\n",
    "import scvi"
   ]
  },
  {
   "cell_type": "code",
   "execution_count": 2,
   "id": "d1330743-af33-49cb-927e-c3ab5754035a",
   "metadata": {},
   "outputs": [],
   "source": [
    "from collections import Counter\n",
    "from sklearn.neighbors import KNeighborsTransformer"
   ]
  },
  {
   "cell_type": "markdown",
   "id": "3a4d997a-9b1f-42d0-9261-39b26194c8c1",
   "metadata": {
    "execution": {
     "iopub.execute_input": "2022-11-08T14:13:12.149610Z",
     "iopub.status.busy": "2022-11-08T14:13:12.149171Z",
     "iopub.status.idle": "2022-11-08T14:13:12.191337Z",
     "shell.execute_reply": "2022-11-08T14:13:12.190669Z",
     "shell.execute_reply.started": "2022-11-08T14:13:12.149571Z"
    },
    "tags": []
   },
   "source": [
    "import warnings\n",
    "\n",
    "warnings.simplefilter(action=\"ignore\", category=FutureWarning)"
   ]
  },
  {
   "cell_type": "code",
   "execution_count": 3,
   "id": "latest-neighborhood",
   "metadata": {
    "tags": []
   },
   "outputs": [],
   "source": [
    "rcParams[\"pdf.fonttype\"] = 42\n",
    "rcParams[\"ps.fonttype\"] = 42\n",
    "expr_cmap = sk.expression_colormap()\n",
    "np.set_printoptions(linewidth=150)\n",
    "sc.settings.verbosity = 0\n",
    "sk.set_figsize((4, 4))\n",
    "#torch.cuda.set_device(1)\n",
    "\n",
    "#PYTHON = \"/software/team205/miniconda3/envs/rapids-torch/bin/python\"\n",
    "\n",
    "#%cd ~/scratch/20220125_digestive_tract_integration/v2/"
   ]
  },
  {
   "cell_type": "markdown",
   "id": "gothic-circulation",
   "metadata": {},
   "source": [
    "# Define functions"
   ]
  },
  {
   "cell_type": "code",
   "execution_count": 4,
   "id": "1621a90e-a6ad-430e-8ebd-4361132dec7b",
   "metadata": {
    "tags": []
   },
   "outputs": [],
   "source": [
    "def weighted_knn_trainer(train_adata, train_adata_emb, label_key, n_neighbors=50):\n",
    "    \"\"\"Trains a weighted KNN classifier on ``train_adata``.\n",
    "    Parameters\n",
    "    ----------\n",
    "    train_adata: :class:`~anndata.AnnData`\n",
    "        Annotated dataset to be used to train KNN classifier with ``label_key`` as the target variable.\n",
    "    train_adata_emb: str\n",
    "        Name of the obsm layer to be used for calculation of neighbors. If set to \"X\", anndata.X will be\n",
    "        used\n",
    "    label_key: str\n",
    "        Name of the column to be used as target variable (e.g. cell_type) in ``train_adata`` and ``query_adata``.\n",
    "    n_neighbors: int\n",
    "        Number of nearest neighbors in KNN classifier.\n",
    "    \"\"\"\n",
    "    print(\n",
    "        f\"Weighted KNN with n_neighbors = {n_neighbors} ... \",\n",
    "        end=\"\",\n",
    "    )\n",
    "    k_neighbors_transformer = KNeighborsTransformer(\n",
    "        n_neighbors=n_neighbors,\n",
    "        mode=\"distance\",\n",
    "        algorithm=\"brute\",\n",
    "        metric=\"euclidean\",\n",
    "        n_jobs=-1,\n",
    "    )\n",
    "    if train_adata_emb == \"X\":\n",
    "        train_emb = train_adata.X\n",
    "    elif train_adata_emb in train_adata.obsm.keys():\n",
    "        train_emb = train_adata.obsm[train_adata_emb]\n",
    "    else:\n",
    "        raise ValueError(\n",
    "            \"train_adata_emb should be set to either 'X' or the name of the obsm layer to be used!\"\n",
    "        )\n",
    "    k_neighbors_transformer.fit(train_emb)\n",
    "    return k_neighbors_transformer"
   ]
  },
  {
   "cell_type": "code",
   "execution_count": 5,
   "id": "73b11da6-a3a1-46fa-b206-9a6cff87d126",
   "metadata": {},
   "outputs": [],
   "source": [
    "def weighted_knn_transfer(\n",
    "    query_adata,\n",
    "    query_adata_emb,\n",
    "    ref_adata_obs,\n",
    "    label_keys,\n",
    "    knn_model,\n",
    "    threshold=1,\n",
    "    pred_unknown=False,\n",
    "    mode=\"package\",\n",
    "):\n",
    "    \"\"\"Annotates ``query_adata`` cells with an input trained weighted KNN classifier.\n",
    "    Parameters\n",
    "    ----------\n",
    "    query_adata: :class:`~anndata.AnnData`\n",
    "        Annotated dataset to be used to queryate KNN classifier. Embedding to be used\n",
    "    query_adata_emb: str\n",
    "        Name of the obsm layer to be used for label transfer. If set to \"X\",\n",
    "        query_adata.X will be used\n",
    "    ref_adata_obs: :class:`pd.DataFrame`\n",
    "        obs of ref Anndata\n",
    "    label_keys: str\n",
    "        Names of the columns to be used as target variables (e.g. cell_type) in ``query_adata``.\n",
    "    knn_model: :class:`~sklearn.neighbors._graph.KNeighborsTransformer`\n",
    "        knn model trained on reference adata with weighted_knn_trainer function\n",
    "    threshold: float\n",
    "        Threshold of uncertainty used to annotating cells as \"Unknown\". cells with\n",
    "        uncertainties higher than this value will be annotated as \"Unknown\".\n",
    "        Set to 1 to keep all predictions. This enables one to later on play\n",
    "        with thresholds.\n",
    "    pred_unknown: bool\n",
    "        ``False`` by default. Whether to annotate any cell as \"unknown\" or not.\n",
    "        If `False`, ``threshold`` will not be used and each cell will be annotated\n",
    "        with the label which is the most common in its ``n_neighbors`` nearest cells.\n",
    "    mode: str\n",
    "        Has to be one of \"paper\" or \"package\". If mode is set to \"package\",\n",
    "        uncertainties will be 1 - P(pred_label), otherwise it will be 1 - P(true_label).\n",
    "    \"\"\"\n",
    "    if not type(knn_model) == KNeighborsTransformer:\n",
    "        raise ValueError(\n",
    "            \"knn_model should be of type sklearn.neighbors._graph.KNeighborsTransformer!\"\n",
    "        )\n",
    "\n",
    "    if query_adata_emb == \"X\":\n",
    "        query_emb = query_adata.X\n",
    "    elif query_adata_emb in query_adata.obsm.keys():\n",
    "        query_emb = query_adata.obsm[query_adata_emb]\n",
    "    else:\n",
    "        raise ValueError(\n",
    "            \"query_adata_emb should be set to either 'X' or the name of the obsm layer to be used!\"\n",
    "        )\n",
    "    top_k_distances, top_k_indices = k_neighbors_transformer.kneighbors(X=query_emb)\n",
    "\n",
    "    stds = np.std(top_k_distances, axis=1)\n",
    "    stds = (2.0 / stds) ** 2\n",
    "    stds = stds.reshape(-1, 1)\n",
    "\n",
    "    top_k_distances_tilda = np.exp(-np.true_divide(top_k_distances, stds))\n",
    "\n",
    "    weights = top_k_distances_tilda / np.sum(\n",
    "        top_k_distances_tilda, axis=1, keepdims=True\n",
    "    )\n",
    "    cols = ref_adata_obs.columns[ref_adata_obs.columns.str.startswith(label_keys)]\n",
    "    uncertainties = pd.DataFrame(columns=cols, index=query_adata.obs_names)\n",
    "    pred_labels = pd.DataFrame(columns=cols, index=query_adata.obs_names)\n",
    "    for i in range(len(weights)):\n",
    "        for j in cols:\n",
    "            y_train_labels = ref_adata_obs[j].values\n",
    "            unique_labels = np.unique(y_train_labels[top_k_indices[i]])\n",
    "            best_label, best_prob = None, 0.0\n",
    "            for candidate_label in unique_labels:\n",
    "                candidate_prob = weights[\n",
    "                    i, y_train_labels[top_k_indices[i]] == candidate_label\n",
    "                ].sum()\n",
    "                if best_prob < candidate_prob:\n",
    "                    best_prob = candidate_prob\n",
    "                    best_label = candidate_label\n",
    "\n",
    "            if pred_unknown:\n",
    "                if best_prob >= threshold:\n",
    "                    pred_label = best_label\n",
    "                else:\n",
    "                    pred_label = \"Unknown\"\n",
    "            else:\n",
    "                pred_label = best_label\n",
    "\n",
    "            if mode == \"package\":\n",
    "                uncertainties.iloc[i][j] = (max(1 - best_prob, 0))\n",
    "\n",
    "            else:\n",
    "                raise Exception(\"Inquery Mode!\")\n",
    "\n",
    "            pred_labels.iloc[i][j] = (pred_label)\n",
    "\n",
    "    print(\"finished!\")\n",
    "\n",
    "    return pred_labels, uncertainties"
   ]
  },
  {
   "cell_type": "markdown",
   "id": "686ac1dd-a883-4789-b17f-32fb8c9c6c27",
   "metadata": {},
   "source": [
    "# 1. Predict fine grained level on full epithelial object"
   ]
  },
  {
   "cell_type": "markdown",
   "id": "nutritional-restaurant",
   "metadata": {
    "tags": []
   },
   "source": [
    "## Load data"
   ]
  },
  {
   "cell_type": "code",
   "execution_count": 6,
   "id": "7878dcc9-ca64-4da6-909d-f1ed82c32e33",
   "metadata": {},
   "outputs": [],
   "source": [
    "adata = sc.read_h5ad('/home/jupyter/Annotations_v3/pre_scvi20221124_updated_donorID_20230126/with_doublets/pooled_healthy.lv20_batch256.with_broad_annotation.20220917.with_countlayers.20221124.LI_AP_epi.20230126.h5ad')"
   ]
  },
  {
   "cell_type": "code",
   "execution_count": 7,
   "id": "72517017-da51-43d1-8c97-c5371936eae3",
   "metadata": {},
   "outputs": [],
   "source": [
    "ad_output = sc.read_h5ad('/home/jupyter/Annotations_v3/scvi_output20230126/LI_AP_epi.hvg5000_noRPL.scvi_output.20230126-ad1.h5ad')"
   ]
  },
  {
   "cell_type": "code",
   "execution_count": 8,
   "id": "1e707f92-3505-407d-b579-aafadd04ee39",
   "metadata": {},
   "outputs": [
    {
     "data": {
      "text/plain": [
       "AnnData object with n_obs × n_vars = 120417 × 36601\n",
       "    obs: 'latent_cell_probability', 'latent_RT_efficiency', 'cecilia22_predH', 'cecilia22_predH_prob', 'cecilia22_predH_uncertain', 'cecilia22_predL', 'cecilia22_predL_prob', 'cecilia22_predL_uncertain', 'elmentaite21_pred', 'elmentaite21_pred_prob', 'elmentaite21_pred_uncertain', 'suo22_pred', 'suo22_pred_prob', 'suo22_pred_uncertain', 'n_counts', 'log1p_n_counts', 'n_genes', 'log1p_n_genes', 'percent_mito', 'n_counts_mito', 'percent_ribo', 'n_counts_ribo', 'percent_hb', 'n_counts_hb', 'percent_top50', 'n_counts_raw', 'log1p_n_counts_raw', 'n_genes_raw', 'log1p_n_genes_raw', 'percent_mito_raw', 'n_counts_mito_raw', 'percent_ribo_raw', 'n_counts_ribo_raw', 'percent_hb_raw', 'n_counts_hb_raw', 'percent_top50_raw', 'n_counts_spliced', 'log1p_n_counts_spliced', 'n_genes_spliced', 'log1p_n_genes_spliced', 'percent_mito_spliced', 'n_counts_mito_spliced', 'percent_ribo_spliced', 'n_counts_ribo_spliced', 'percent_hb_spliced', 'n_counts_hb_spliced', 'percent_top50_spliced', 'n_counts_unspliced', 'log1p_n_counts_unspliced', 'n_genes_unspliced', 'log1p_n_genes_unspliced', 'percent_mito_unspliced', 'n_counts_mito_unspliced', 'percent_ribo_unspliced', 'n_counts_ribo_unspliced', 'percent_hb_unspliced', 'n_counts_hb_unspliced', 'percent_top50_unspliced', 'percent_soup', 'percent_spliced', 'qc_cluster', 'pass_auto_filter_mito20', 'good_qc_cluster_mito20', 'pass_auto_filter_mito50', 'good_qc_cluster_mito50', 'pass_auto_filter_mito80', 'good_qc_cluster_mito80', 'pass_auto_filter', 'good_qc_cluster', 'pass_default', 'sampleID', 'sourceID', 'donorID_original', 'study', 'donorID_corrected', 'donorID_unified', 'donor_category', 'donor_disease', 'organ_original', 'organ_unified', 'organ_broad', 'age_original', 'age_unified', 'age_continuousadult', 'age_continuousdev', 'sex', 'sample_type', 'sample_category', 'sample_retrieval', 'tissue_fraction', 'cell_fraction', 'cell_fraction_unified', 'cell_sorting', 'technology', 'include_150722', 'cluster_scrublet_score', 'bh_pval', 'scrublet_score', 'scrublet_score_z', 'scrublet_done', 'doublet', 'stringent_doublet', 'integration_grouping', '_scvi_batch', '_scvi_labels', 'broad_annot_20220914', 'martin19_pred', 'martin19_pred_prob', 'martin19_pred_uncertain', 'warner20_pred', 'warner20_pred_prob', 'warner20_pred_uncertain', 'broad_annot_20220917', 'fine_annot'\n",
       "    var: 'gene_ids', 'feature_type', 'mito', 'ribo', 'hb', 'n_counts', 'n_counts_raw', 'n_counts_spliced', 'n_counts_unspliced', 'n_cells', 'n_cells_raw', 'n_cells_spliced', 'n_cells_unspliced', 'cc', 'ig', 'tcr'"
      ]
     },
     "execution_count": 8,
     "metadata": {},
     "output_type": "execute_result"
    }
   ],
   "source": [
    "adata"
   ]
  },
  {
   "cell_type": "code",
   "execution_count": 9,
   "id": "f8a61e02-fd8a-47ce-8406-b0f8a93b589d",
   "metadata": {},
   "outputs": [
    {
     "data": {
      "text/plain": [
       "AnnData object with n_obs × n_vars = 120417 × 4917\n",
       "    obs: 'latent_cell_probability', 'latent_RT_efficiency', 'cecilia22_predH', 'cecilia22_predH_prob', 'cecilia22_predH_uncertain', 'cecilia22_predL', 'cecilia22_predL_prob', 'cecilia22_predL_uncertain', 'elmentaite21_pred', 'elmentaite21_pred_prob', 'elmentaite21_pred_uncertain', 'suo22_pred', 'suo22_pred_prob', 'suo22_pred_uncertain', 'n_counts', 'log1p_n_counts', 'n_genes', 'log1p_n_genes', 'percent_mito', 'n_counts_mito', 'percent_ribo', 'n_counts_ribo', 'percent_hb', 'n_counts_hb', 'percent_top50', 'n_counts_raw', 'log1p_n_counts_raw', 'n_genes_raw', 'log1p_n_genes_raw', 'percent_mito_raw', 'n_counts_mito_raw', 'percent_ribo_raw', 'n_counts_ribo_raw', 'percent_hb_raw', 'n_counts_hb_raw', 'percent_top50_raw', 'n_counts_spliced', 'log1p_n_counts_spliced', 'n_genes_spliced', 'log1p_n_genes_spliced', 'percent_mito_spliced', 'n_counts_mito_spliced', 'percent_ribo_spliced', 'n_counts_ribo_spliced', 'percent_hb_spliced', 'n_counts_hb_spliced', 'percent_top50_spliced', 'n_counts_unspliced', 'log1p_n_counts_unspliced', 'n_genes_unspliced', 'log1p_n_genes_unspliced', 'percent_mito_unspliced', 'n_counts_mito_unspliced', 'percent_ribo_unspliced', 'n_counts_ribo_unspliced', 'percent_hb_unspliced', 'n_counts_hb_unspliced', 'percent_top50_unspliced', 'percent_soup', 'percent_spliced', 'qc_cluster', 'pass_auto_filter_mito20', 'good_qc_cluster_mito20', 'pass_auto_filter_mito50', 'good_qc_cluster_mito50', 'pass_auto_filter_mito80', 'good_qc_cluster_mito80', 'pass_auto_filter', 'good_qc_cluster', 'pass_default', 'sampleID', 'sourceID', 'donorID_original', 'study', 'donorID_corrected', 'donorID_unified', 'donor_category', 'donor_disease', 'organ_original', 'organ_unified', 'organ_broad', 'age_original', 'age_unified', 'age_continuousadult', 'age_continuousdev', 'sex', 'sample_type', 'sample_category', 'sample_retrieval', 'tissue_fraction', 'cell_fraction', 'cell_fraction_unified', 'cell_sorting', 'technology', 'include_150722', 'cluster_scrublet_score', 'bh_pval', 'scrublet_score', 'scrublet_score_z', 'scrublet_done', 'doublet', 'stringent_doublet', 'integration_grouping', '_scvi_batch', '_scvi_labels', 'broad_annot_20220914', 'martin19_pred', 'martin19_pred_prob', 'martin19_pred_uncertain', 'warner20_pred', 'warner20_pred_prob', 'warner20_pred_uncertain', 'broad_annot_20220917', 'fine_annot'\n",
       "    var: 'gene_ids', 'feature_type', 'mito', 'ribo', 'hb', 'n_counts', 'n_counts_raw', 'n_counts_spliced', 'n_counts_unspliced', 'n_cells', 'n_cells_raw', 'n_cells_spliced', 'n_cells_unspliced', 'cc', 'ig', 'tcr', 'highly_variable', 'highly_variable_rank', 'means', 'variances', 'variances_norm'\n",
       "    uns: '_scvi_manager_uuid', '_scvi_uuid', 'hvg'\n",
       "    obsm: '_scvi_extra_continuous_covs'"
      ]
     },
     "execution_count": 9,
     "metadata": {},
     "output_type": "execute_result"
    }
   ],
   "source": [
    "ad_output"
   ]
  },
  {
   "cell_type": "code",
   "execution_count": 10,
   "id": "5aa83f51-e58f-4e79-bfe3-9fdeb06be6d2",
   "metadata": {},
   "outputs": [],
   "source": [
    "adata = adata[:, adata.var_names.isin(ad_output.var_names)].copy()"
   ]
  },
  {
   "cell_type": "code",
   "execution_count": 11,
   "id": "f3c436f2-ce20-44f8-9cf4-03733b8e76c3",
   "metadata": {},
   "outputs": [
    {
     "data": {
      "text/plain": [
       "AnnData object with n_obs × n_vars = 120417 × 4917\n",
       "    obs: 'latent_cell_probability', 'latent_RT_efficiency', 'cecilia22_predH', 'cecilia22_predH_prob', 'cecilia22_predH_uncertain', 'cecilia22_predL', 'cecilia22_predL_prob', 'cecilia22_predL_uncertain', 'elmentaite21_pred', 'elmentaite21_pred_prob', 'elmentaite21_pred_uncertain', 'suo22_pred', 'suo22_pred_prob', 'suo22_pred_uncertain', 'n_counts', 'log1p_n_counts', 'n_genes', 'log1p_n_genes', 'percent_mito', 'n_counts_mito', 'percent_ribo', 'n_counts_ribo', 'percent_hb', 'n_counts_hb', 'percent_top50', 'n_counts_raw', 'log1p_n_counts_raw', 'n_genes_raw', 'log1p_n_genes_raw', 'percent_mito_raw', 'n_counts_mito_raw', 'percent_ribo_raw', 'n_counts_ribo_raw', 'percent_hb_raw', 'n_counts_hb_raw', 'percent_top50_raw', 'n_counts_spliced', 'log1p_n_counts_spliced', 'n_genes_spliced', 'log1p_n_genes_spliced', 'percent_mito_spliced', 'n_counts_mito_spliced', 'percent_ribo_spliced', 'n_counts_ribo_spliced', 'percent_hb_spliced', 'n_counts_hb_spliced', 'percent_top50_spliced', 'n_counts_unspliced', 'log1p_n_counts_unspliced', 'n_genes_unspliced', 'log1p_n_genes_unspliced', 'percent_mito_unspliced', 'n_counts_mito_unspliced', 'percent_ribo_unspliced', 'n_counts_ribo_unspliced', 'percent_hb_unspliced', 'n_counts_hb_unspliced', 'percent_top50_unspliced', 'percent_soup', 'percent_spliced', 'qc_cluster', 'pass_auto_filter_mito20', 'good_qc_cluster_mito20', 'pass_auto_filter_mito50', 'good_qc_cluster_mito50', 'pass_auto_filter_mito80', 'good_qc_cluster_mito80', 'pass_auto_filter', 'good_qc_cluster', 'pass_default', 'sampleID', 'sourceID', 'donorID_original', 'study', 'donorID_corrected', 'donorID_unified', 'donor_category', 'donor_disease', 'organ_original', 'organ_unified', 'organ_broad', 'age_original', 'age_unified', 'age_continuousadult', 'age_continuousdev', 'sex', 'sample_type', 'sample_category', 'sample_retrieval', 'tissue_fraction', 'cell_fraction', 'cell_fraction_unified', 'cell_sorting', 'technology', 'include_150722', 'cluster_scrublet_score', 'bh_pval', 'scrublet_score', 'scrublet_score_z', 'scrublet_done', 'doublet', 'stringent_doublet', 'integration_grouping', '_scvi_batch', '_scvi_labels', 'broad_annot_20220914', 'martin19_pred', 'martin19_pred_prob', 'martin19_pred_uncertain', 'warner20_pred', 'warner20_pred_prob', 'warner20_pred_uncertain', 'broad_annot_20220917', 'fine_annot'\n",
       "    var: 'gene_ids', 'feature_type', 'mito', 'ribo', 'hb', 'n_counts', 'n_counts_raw', 'n_counts_spliced', 'n_counts_unspliced', 'n_cells', 'n_cells_raw', 'n_cells_spliced', 'n_cells_unspliced', 'cc', 'ig', 'tcr'"
      ]
     },
     "execution_count": 11,
     "metadata": {},
     "output_type": "execute_result"
    }
   ],
   "source": [
    "adata"
   ]
  },
  {
   "cell_type": "code",
   "execution_count": 12,
   "id": "b6a9f90d-6fb8-4e51-ba9b-ebb17d3209d8",
   "metadata": {},
   "outputs": [
    {
     "data": {
      "text/plain": [
       "Doublets                      38102\n",
       "Colonocyte                    31965\n",
       "Late_colonocyte               16354\n",
       "Goblet                        11494\n",
       "TA_cycling                     9910\n",
       "BEST4                          8485\n",
       "Epithelial_stem                2286\n",
       "Tuft                            956\n",
       "Enteroendocrine                 398\n",
       "DSC_MUC17                       231\n",
       "DSC_MUC17_cycling               107\n",
       "Enterocyte                       87\n",
       "Enteroendocrine_progenitor       42\n",
       "Name: fine_annot, dtype: int64"
      ]
     },
     "execution_count": 12,
     "metadata": {},
     "output_type": "execute_result"
    }
   ],
   "source": [
    "adata.obs.fine_annot.value_counts()"
   ]
  },
  {
   "cell_type": "code",
   "execution_count": 13,
   "id": "10cca8bf-d3e7-49d6-a343-27f84660eeea",
   "metadata": {},
   "outputs": [
    {
     "name": "stdout",
     "output_type": "stream",
     "text": [
      "\u001b[34mINFO    \u001b[0m File \u001b[35m/home/jupyter/Annotations_v3/scvi_output20230126/LI_AP_epi.hvg5000_noRPL.scvi_o\u001b[0m\n",
      "         \u001b[35mutput.20230126.vae/\u001b[0m\u001b[95mmodel.pt\u001b[0m already downloaded                                      \n"
     ]
    },
    {
     "name": "stderr",
     "output_type": "stream",
     "text": [
      "/opt/conda/envs/scvi/lib/python3.9/site-packages/scvi/data/_utils.py:156: UserWarning: Category 19 in adata.obs['_scvi_batch'] has fewer than 3 cells. Models may not train properly.\n",
      "  warnings.warn(\n"
     ]
    }
   ],
   "source": [
    "#load reference that was run without study as a categorical co-variate\n",
    "scvi_ref = scvi.model.SCVI.load(\"/home/jupyter/Annotations_v3/scvi_output20230126/LI_AP_epi.hvg5000_noRPL.scvi_output.20230126.vae\",adata)"
   ]
  },
  {
   "cell_type": "markdown",
   "id": "minus-population",
   "metadata": {},
   "source": [
    "# Reference"
   ]
  },
  {
   "cell_type": "code",
   "execution_count": 14,
   "id": "207c0ba6-83a6-4ee9-a694-fda12f861f92",
   "metadata": {},
   "outputs": [],
   "source": [
    "x_scanvi = pd.read_csv(\n",
    "    \"/home/jupyter/Annotations_v3/models/scanvi_compartments/epi/Epi_LI_hvg5000.noIgVar_noCC_scvi.scanvi_fine_annot.20230130.X_scANVI.20230130.Method2.csv.gz\",compression='gzip',index_col=0)"
   ]
  },
  {
   "cell_type": "code",
   "execution_count": 15,
   "id": "33656322-e18b-4fb1-a7ca-d90f83e8d72a",
   "metadata": {},
   "outputs": [
    {
     "data": {
      "text/html": [
       "<div>\n",
       "<style scoped>\n",
       "    .dataframe tbody tr th:only-of-type {\n",
       "        vertical-align: middle;\n",
       "    }\n",
       "\n",
       "    .dataframe tbody tr th {\n",
       "        vertical-align: top;\n",
       "    }\n",
       "\n",
       "    .dataframe thead th {\n",
       "        text-align: right;\n",
       "    }\n",
       "</style>\n",
       "<table border=\"1\" class=\"dataframe\">\n",
       "  <thead>\n",
       "    <tr style=\"text-align: right;\">\n",
       "      <th></th>\n",
       "      <th>LV1</th>\n",
       "      <th>LV2</th>\n",
       "      <th>LV3</th>\n",
       "      <th>LV4</th>\n",
       "      <th>LV5</th>\n",
       "      <th>LV6</th>\n",
       "      <th>LV7</th>\n",
       "      <th>LV8</th>\n",
       "      <th>LV9</th>\n",
       "      <th>LV10</th>\n",
       "      <th>LV11</th>\n",
       "      <th>LV12</th>\n",
       "      <th>LV13</th>\n",
       "      <th>LV14</th>\n",
       "      <th>LV15</th>\n",
       "      <th>LV16</th>\n",
       "      <th>LV17</th>\n",
       "      <th>LV18</th>\n",
       "      <th>LV19</th>\n",
       "      <th>LV20</th>\n",
       "    </tr>\n",
       "    <tr>\n",
       "      <th>index</th>\n",
       "      <th></th>\n",
       "      <th></th>\n",
       "      <th></th>\n",
       "      <th></th>\n",
       "      <th></th>\n",
       "      <th></th>\n",
       "      <th></th>\n",
       "      <th></th>\n",
       "      <th></th>\n",
       "      <th></th>\n",
       "      <th></th>\n",
       "      <th></th>\n",
       "      <th></th>\n",
       "      <th></th>\n",
       "      <th></th>\n",
       "      <th></th>\n",
       "      <th></th>\n",
       "      <th></th>\n",
       "      <th></th>\n",
       "      <th></th>\n",
       "    </tr>\n",
       "  </thead>\n",
       "  <tbody>\n",
       "    <tr>\n",
       "      <th>AAACGGGAGGCCATAG-Pan_T7917821</th>\n",
       "      <td>0.025858</td>\n",
       "      <td>-0.098910</td>\n",
       "      <td>-0.392315</td>\n",
       "      <td>-0.444723</td>\n",
       "      <td>-2.335377</td>\n",
       "      <td>0.103972</td>\n",
       "      <td>0.030265</td>\n",
       "      <td>0.192570</td>\n",
       "      <td>-0.384404</td>\n",
       "      <td>-0.196672</td>\n",
       "      <td>-0.054854</td>\n",
       "      <td>-0.056368</td>\n",
       "      <td>-0.597677</td>\n",
       "      <td>-0.507710</td>\n",
       "      <td>1.416731</td>\n",
       "      <td>1.230786</td>\n",
       "      <td>-0.092312</td>\n",
       "      <td>0.056425</td>\n",
       "      <td>0.122214</td>\n",
       "      <td>0.076157</td>\n",
       "    </tr>\n",
       "    <tr>\n",
       "      <th>AAACGGGCAAGTAATG-Pan_T7917821</th>\n",
       "      <td>-0.053800</td>\n",
       "      <td>0.204266</td>\n",
       "      <td>0.033677</td>\n",
       "      <td>-0.402458</td>\n",
       "      <td>-0.635403</td>\n",
       "      <td>0.231619</td>\n",
       "      <td>-0.103602</td>\n",
       "      <td>3.947900</td>\n",
       "      <td>-0.271875</td>\n",
       "      <td>-0.274628</td>\n",
       "      <td>0.028786</td>\n",
       "      <td>-0.215015</td>\n",
       "      <td>0.018992</td>\n",
       "      <td>1.142445</td>\n",
       "      <td>-1.274469</td>\n",
       "      <td>-0.088992</td>\n",
       "      <td>0.068975</td>\n",
       "      <td>-0.004944</td>\n",
       "      <td>-0.137865</td>\n",
       "      <td>0.130023</td>\n",
       "    </tr>\n",
       "    <tr>\n",
       "      <th>AAAGATGAGGAGTAGA-Pan_T7917821</th>\n",
       "      <td>0.000949</td>\n",
       "      <td>0.599803</td>\n",
       "      <td>-0.129447</td>\n",
       "      <td>-2.045841</td>\n",
       "      <td>-0.509513</td>\n",
       "      <td>0.187646</td>\n",
       "      <td>-0.068052</td>\n",
       "      <td>2.500325</td>\n",
       "      <td>0.268444</td>\n",
       "      <td>-0.206815</td>\n",
       "      <td>-0.045945</td>\n",
       "      <td>-0.102513</td>\n",
       "      <td>0.810009</td>\n",
       "      <td>-0.144328</td>\n",
       "      <td>-1.164435</td>\n",
       "      <td>-0.195348</td>\n",
       "      <td>-0.045329</td>\n",
       "      <td>0.032735</td>\n",
       "      <td>-0.068725</td>\n",
       "      <td>-0.615040</td>\n",
       "    </tr>\n",
       "    <tr>\n",
       "      <th>AAAGATGTCAATCTCT-Pan_T7917821</th>\n",
       "      <td>-0.006439</td>\n",
       "      <td>0.494937</td>\n",
       "      <td>-0.532695</td>\n",
       "      <td>-1.030109</td>\n",
       "      <td>-0.433786</td>\n",
       "      <td>0.098612</td>\n",
       "      <td>0.013965</td>\n",
       "      <td>1.412904</td>\n",
       "      <td>0.390295</td>\n",
       "      <td>-0.143310</td>\n",
       "      <td>0.100610</td>\n",
       "      <td>-0.095026</td>\n",
       "      <td>-0.017700</td>\n",
       "      <td>1.323850</td>\n",
       "      <td>0.250275</td>\n",
       "      <td>0.279103</td>\n",
       "      <td>0.010860</td>\n",
       "      <td>0.039569</td>\n",
       "      <td>-0.000041</td>\n",
       "      <td>0.837004</td>\n",
       "    </tr>\n",
       "    <tr>\n",
       "      <th>AAAGATGTCTCTGCTG-Pan_T7917821</th>\n",
       "      <td>0.014438</td>\n",
       "      <td>-0.073828</td>\n",
       "      <td>-0.873886</td>\n",
       "      <td>-0.301077</td>\n",
       "      <td>-1.371012</td>\n",
       "      <td>0.033246</td>\n",
       "      <td>0.025029</td>\n",
       "      <td>0.665449</td>\n",
       "      <td>0.503269</td>\n",
       "      <td>-0.125878</td>\n",
       "      <td>-0.003444</td>\n",
       "      <td>-0.044758</td>\n",
       "      <td>0.313645</td>\n",
       "      <td>0.167087</td>\n",
       "      <td>0.838294</td>\n",
       "      <td>0.475493</td>\n",
       "      <td>0.002992</td>\n",
       "      <td>0.042751</td>\n",
       "      <td>0.089277</td>\n",
       "      <td>-0.195318</td>\n",
       "    </tr>\n",
       "    <tr>\n",
       "      <th>...</th>\n",
       "      <td>...</td>\n",
       "      <td>...</td>\n",
       "      <td>...</td>\n",
       "      <td>...</td>\n",
       "      <td>...</td>\n",
       "      <td>...</td>\n",
       "      <td>...</td>\n",
       "      <td>...</td>\n",
       "      <td>...</td>\n",
       "      <td>...</td>\n",
       "      <td>...</td>\n",
       "      <td>...</td>\n",
       "      <td>...</td>\n",
       "      <td>...</td>\n",
       "      <td>...</td>\n",
       "      <td>...</td>\n",
       "      <td>...</td>\n",
       "      <td>...</td>\n",
       "      <td>...</td>\n",
       "      <td>...</td>\n",
       "    </tr>\n",
       "    <tr>\n",
       "      <th>TGAAAGAGTGCCTGTG-GSM5525958</th>\n",
       "      <td>0.039246</td>\n",
       "      <td>0.119412</td>\n",
       "      <td>-0.169728</td>\n",
       "      <td>-0.704911</td>\n",
       "      <td>0.243079</td>\n",
       "      <td>0.091294</td>\n",
       "      <td>-0.038152</td>\n",
       "      <td>-1.252114</td>\n",
       "      <td>-0.612154</td>\n",
       "      <td>-0.150815</td>\n",
       "      <td>-0.002924</td>\n",
       "      <td>-0.001627</td>\n",
       "      <td>-0.248679</td>\n",
       "      <td>-0.263865</td>\n",
       "      <td>-1.920723</td>\n",
       "      <td>-0.334761</td>\n",
       "      <td>-0.044302</td>\n",
       "      <td>0.082536</td>\n",
       "      <td>0.088788</td>\n",
       "      <td>0.130367</td>\n",
       "    </tr>\n",
       "    <tr>\n",
       "      <th>TGCGGGTAGCCAGTAG-GSM5525958</th>\n",
       "      <td>0.043876</td>\n",
       "      <td>-0.919760</td>\n",
       "      <td>-0.047273</td>\n",
       "      <td>-0.562159</td>\n",
       "      <td>0.859712</td>\n",
       "      <td>0.107508</td>\n",
       "      <td>-0.025643</td>\n",
       "      <td>-0.582844</td>\n",
       "      <td>-1.495774</td>\n",
       "      <td>-0.195852</td>\n",
       "      <td>-0.033992</td>\n",
       "      <td>-0.001061</td>\n",
       "      <td>-0.368839</td>\n",
       "      <td>-0.694435</td>\n",
       "      <td>-2.975474</td>\n",
       "      <td>0.196822</td>\n",
       "      <td>0.012332</td>\n",
       "      <td>0.051523</td>\n",
       "      <td>0.078873</td>\n",
       "      <td>0.435836</td>\n",
       "    </tr>\n",
       "    <tr>\n",
       "      <th>TGGCGCACAGATAATG-GSM5525958</th>\n",
       "      <td>0.006594</td>\n",
       "      <td>-0.226267</td>\n",
       "      <td>-0.005980</td>\n",
       "      <td>-1.021010</td>\n",
       "      <td>0.214659</td>\n",
       "      <td>0.158049</td>\n",
       "      <td>-0.062458</td>\n",
       "      <td>-1.535243</td>\n",
       "      <td>-1.835543</td>\n",
       "      <td>-0.300860</td>\n",
       "      <td>-0.134541</td>\n",
       "      <td>-0.079775</td>\n",
       "      <td>-0.533352</td>\n",
       "      <td>-0.141614</td>\n",
       "      <td>-0.157071</td>\n",
       "      <td>-2.370469</td>\n",
       "      <td>0.036067</td>\n",
       "      <td>0.058590</td>\n",
       "      <td>0.060937</td>\n",
       "      <td>-0.456014</td>\n",
       "    </tr>\n",
       "    <tr>\n",
       "      <th>TTCTCAAGTATAGGGC-GSM5525958</th>\n",
       "      <td>0.119457</td>\n",
       "      <td>-1.033772</td>\n",
       "      <td>-0.185387</td>\n",
       "      <td>-1.068604</td>\n",
       "      <td>-1.998325</td>\n",
       "      <td>0.179845</td>\n",
       "      <td>-0.002156</td>\n",
       "      <td>-1.785247</td>\n",
       "      <td>-0.504598</td>\n",
       "      <td>-0.188112</td>\n",
       "      <td>-0.186701</td>\n",
       "      <td>-0.122317</td>\n",
       "      <td>-0.441749</td>\n",
       "      <td>-0.944698</td>\n",
       "      <td>0.417505</td>\n",
       "      <td>1.311706</td>\n",
       "      <td>-0.148402</td>\n",
       "      <td>0.166390</td>\n",
       "      <td>0.059708</td>\n",
       "      <td>-0.112425</td>\n",
       "    </tr>\n",
       "    <tr>\n",
       "      <th>TTGCCGTTCCAGTAGT-GSM5525958</th>\n",
       "      <td>0.049422</td>\n",
       "      <td>-0.970142</td>\n",
       "      <td>-0.434699</td>\n",
       "      <td>-1.565955</td>\n",
       "      <td>-0.579401</td>\n",
       "      <td>0.135135</td>\n",
       "      <td>-0.003580</td>\n",
       "      <td>-1.305799</td>\n",
       "      <td>-1.385176</td>\n",
       "      <td>-0.231102</td>\n",
       "      <td>-0.159936</td>\n",
       "      <td>-0.047405</td>\n",
       "      <td>-0.525305</td>\n",
       "      <td>-0.430457</td>\n",
       "      <td>0.503805</td>\n",
       "      <td>-1.486214</td>\n",
       "      <td>-0.019419</td>\n",
       "      <td>0.094126</td>\n",
       "      <td>0.048965</td>\n",
       "      <td>-0.270679</td>\n",
       "    </tr>\n",
       "  </tbody>\n",
       "</table>\n",
       "<p>120417 rows × 20 columns</p>\n",
       "</div>"
      ],
      "text/plain": [
       "                                    LV1       LV2       LV3       LV4  \\\n",
       "index                                                                   \n",
       "AAACGGGAGGCCATAG-Pan_T7917821  0.025858 -0.098910 -0.392315 -0.444723   \n",
       "AAACGGGCAAGTAATG-Pan_T7917821 -0.053800  0.204266  0.033677 -0.402458   \n",
       "AAAGATGAGGAGTAGA-Pan_T7917821  0.000949  0.599803 -0.129447 -2.045841   \n",
       "AAAGATGTCAATCTCT-Pan_T7917821 -0.006439  0.494937 -0.532695 -1.030109   \n",
       "AAAGATGTCTCTGCTG-Pan_T7917821  0.014438 -0.073828 -0.873886 -0.301077   \n",
       "...                                 ...       ...       ...       ...   \n",
       "TGAAAGAGTGCCTGTG-GSM5525958    0.039246  0.119412 -0.169728 -0.704911   \n",
       "TGCGGGTAGCCAGTAG-GSM5525958    0.043876 -0.919760 -0.047273 -0.562159   \n",
       "TGGCGCACAGATAATG-GSM5525958    0.006594 -0.226267 -0.005980 -1.021010   \n",
       "TTCTCAAGTATAGGGC-GSM5525958    0.119457 -1.033772 -0.185387 -1.068604   \n",
       "TTGCCGTTCCAGTAGT-GSM5525958    0.049422 -0.970142 -0.434699 -1.565955   \n",
       "\n",
       "                                    LV5       LV6       LV7       LV8  \\\n",
       "index                                                                   \n",
       "AAACGGGAGGCCATAG-Pan_T7917821 -2.335377  0.103972  0.030265  0.192570   \n",
       "AAACGGGCAAGTAATG-Pan_T7917821 -0.635403  0.231619 -0.103602  3.947900   \n",
       "AAAGATGAGGAGTAGA-Pan_T7917821 -0.509513  0.187646 -0.068052  2.500325   \n",
       "AAAGATGTCAATCTCT-Pan_T7917821 -0.433786  0.098612  0.013965  1.412904   \n",
       "AAAGATGTCTCTGCTG-Pan_T7917821 -1.371012  0.033246  0.025029  0.665449   \n",
       "...                                 ...       ...       ...       ...   \n",
       "TGAAAGAGTGCCTGTG-GSM5525958    0.243079  0.091294 -0.038152 -1.252114   \n",
       "TGCGGGTAGCCAGTAG-GSM5525958    0.859712  0.107508 -0.025643 -0.582844   \n",
       "TGGCGCACAGATAATG-GSM5525958    0.214659  0.158049 -0.062458 -1.535243   \n",
       "TTCTCAAGTATAGGGC-GSM5525958   -1.998325  0.179845 -0.002156 -1.785247   \n",
       "TTGCCGTTCCAGTAGT-GSM5525958   -0.579401  0.135135 -0.003580 -1.305799   \n",
       "\n",
       "                                    LV9      LV10      LV11      LV12  \\\n",
       "index                                                                   \n",
       "AAACGGGAGGCCATAG-Pan_T7917821 -0.384404 -0.196672 -0.054854 -0.056368   \n",
       "AAACGGGCAAGTAATG-Pan_T7917821 -0.271875 -0.274628  0.028786 -0.215015   \n",
       "AAAGATGAGGAGTAGA-Pan_T7917821  0.268444 -0.206815 -0.045945 -0.102513   \n",
       "AAAGATGTCAATCTCT-Pan_T7917821  0.390295 -0.143310  0.100610 -0.095026   \n",
       "AAAGATGTCTCTGCTG-Pan_T7917821  0.503269 -0.125878 -0.003444 -0.044758   \n",
       "...                                 ...       ...       ...       ...   \n",
       "TGAAAGAGTGCCTGTG-GSM5525958   -0.612154 -0.150815 -0.002924 -0.001627   \n",
       "TGCGGGTAGCCAGTAG-GSM5525958   -1.495774 -0.195852 -0.033992 -0.001061   \n",
       "TGGCGCACAGATAATG-GSM5525958   -1.835543 -0.300860 -0.134541 -0.079775   \n",
       "TTCTCAAGTATAGGGC-GSM5525958   -0.504598 -0.188112 -0.186701 -0.122317   \n",
       "TTGCCGTTCCAGTAGT-GSM5525958   -1.385176 -0.231102 -0.159936 -0.047405   \n",
       "\n",
       "                                   LV13      LV14      LV15      LV16  \\\n",
       "index                                                                   \n",
       "AAACGGGAGGCCATAG-Pan_T7917821 -0.597677 -0.507710  1.416731  1.230786   \n",
       "AAACGGGCAAGTAATG-Pan_T7917821  0.018992  1.142445 -1.274469 -0.088992   \n",
       "AAAGATGAGGAGTAGA-Pan_T7917821  0.810009 -0.144328 -1.164435 -0.195348   \n",
       "AAAGATGTCAATCTCT-Pan_T7917821 -0.017700  1.323850  0.250275  0.279103   \n",
       "AAAGATGTCTCTGCTG-Pan_T7917821  0.313645  0.167087  0.838294  0.475493   \n",
       "...                                 ...       ...       ...       ...   \n",
       "TGAAAGAGTGCCTGTG-GSM5525958   -0.248679 -0.263865 -1.920723 -0.334761   \n",
       "TGCGGGTAGCCAGTAG-GSM5525958   -0.368839 -0.694435 -2.975474  0.196822   \n",
       "TGGCGCACAGATAATG-GSM5525958   -0.533352 -0.141614 -0.157071 -2.370469   \n",
       "TTCTCAAGTATAGGGC-GSM5525958   -0.441749 -0.944698  0.417505  1.311706   \n",
       "TTGCCGTTCCAGTAGT-GSM5525958   -0.525305 -0.430457  0.503805 -1.486214   \n",
       "\n",
       "                                   LV17      LV18      LV19      LV20  \n",
       "index                                                                  \n",
       "AAACGGGAGGCCATAG-Pan_T7917821 -0.092312  0.056425  0.122214  0.076157  \n",
       "AAACGGGCAAGTAATG-Pan_T7917821  0.068975 -0.004944 -0.137865  0.130023  \n",
       "AAAGATGAGGAGTAGA-Pan_T7917821 -0.045329  0.032735 -0.068725 -0.615040  \n",
       "AAAGATGTCAATCTCT-Pan_T7917821  0.010860  0.039569 -0.000041  0.837004  \n",
       "AAAGATGTCTCTGCTG-Pan_T7917821  0.002992  0.042751  0.089277 -0.195318  \n",
       "...                                 ...       ...       ...       ...  \n",
       "TGAAAGAGTGCCTGTG-GSM5525958   -0.044302  0.082536  0.088788  0.130367  \n",
       "TGCGGGTAGCCAGTAG-GSM5525958    0.012332  0.051523  0.078873  0.435836  \n",
       "TGGCGCACAGATAATG-GSM5525958    0.036067  0.058590  0.060937 -0.456014  \n",
       "TTCTCAAGTATAGGGC-GSM5525958   -0.148402  0.166390  0.059708 -0.112425  \n",
       "TTGCCGTTCCAGTAGT-GSM5525958   -0.019419  0.094126  0.048965 -0.270679  \n",
       "\n",
       "[120417 rows x 20 columns]"
      ]
     },
     "execution_count": 15,
     "metadata": {},
     "output_type": "execute_result"
    }
   ],
   "source": [
    "x_scanvi"
   ]
  },
  {
   "cell_type": "code",
   "execution_count": 16,
   "id": "1165e0cf-9bbb-43b0-8982-a4e8ce7c8d9d",
   "metadata": {},
   "outputs": [],
   "source": [
    "adata.obsm['X_scANVI'] = x_scanvi"
   ]
  },
  {
   "cell_type": "markdown",
   "id": "physical-lover",
   "metadata": {},
   "source": [
    "## Query"
   ]
  },
  {
   "cell_type": "code",
   "execution_count": 17,
   "id": "everyday-subscription",
   "metadata": {
    "tags": []
   },
   "outputs": [],
   "source": [
    "disease_ad = sc.read('/home/jupyter/Epi_LI_revisions/epi_Smillie.h5ad')"
   ]
  },
  {
   "cell_type": "code",
   "execution_count": 18,
   "id": "8aa93d15-3817-43ee-af84-4fe254348e27",
   "metadata": {},
   "outputs": [],
   "source": [
    "disease_ad2 = sc.read('/home/jupyter/Epi_LI_revisions/epi_Salas.h5ad')"
   ]
  },
  {
   "cell_type": "markdown",
   "id": "b17ff668-49ae-4bc3-96f9-de2a524302f5",
   "metadata": {},
   "source": [
    "Fill with 0 values"
   ]
  },
  {
   "cell_type": "code",
   "execution_count": 19,
   "id": "5156a295-a94a-4312-98be-cd32936c24f6",
   "metadata": {},
   "outputs": [
    {
     "name": "stdout",
     "output_type": "stream",
     "text": [
      "\u001b[34mINFO    \u001b[0m Found \u001b[1;36m70.4494610534879\u001b[0m% reference vars in query data.                               \n"
     ]
    },
    {
     "name": "stderr",
     "output_type": "stream",
     "text": [
      "/opt/conda/envs/scvi/lib/python3.9/site-packages/scvi/model/base/_archesmixin.py:204: UserWarning: Query data contains less than 1% of reference var names. This may result in poor performance.\n",
      "  warnings.warn(\n",
      "/opt/conda/envs/scvi/lib/python3.9/site-packages/scvi/model/base/_archesmixin.py:211: FutureWarning: X.dtype being converted to np.float32 from float64. In the next version of anndata (0.9) conversion will not be automatic. Pass dtype explicitly to avoid this warning. Pass `AnnData(X, dtype=X.dtype, ...)` to get the future behavour.\n",
      "  adata_padding = AnnData(\n"
     ]
    }
   ],
   "source": [
    "scvi.model.SCANVI.prepare_query_anndata(disease_ad, scvi_ref)"
   ]
  },
  {
   "cell_type": "code",
   "execution_count": 20,
   "id": "cedf08e9-84ee-4f10-8dff-82394ed522a9",
   "metadata": {},
   "outputs": [
    {
     "name": "stdout",
     "output_type": "stream",
     "text": [
      "\u001b[34mINFO    \u001b[0m Found \u001b[1;36m95.5867398820419\u001b[0m% reference vars in query data.                               \n"
     ]
    },
    {
     "name": "stderr",
     "output_type": "stream",
     "text": [
      "/opt/conda/envs/scvi/lib/python3.9/site-packages/scvi/model/base/_archesmixin.py:211: FutureWarning: X.dtype being converted to np.float32 from float64. In the next version of anndata (0.9) conversion will not be automatic. Pass dtype explicitly to avoid this warning. Pass `AnnData(X, dtype=X.dtype, ...)` to get the future behavour.\n",
      "  adata_padding = AnnData(\n"
     ]
    }
   ],
   "source": [
    "scvi.model.SCANVI.prepare_query_anndata(disease_ad2, scvi_ref)"
   ]
  },
  {
   "cell_type": "code",
   "execution_count": 21,
   "id": "c1cfa0d3-cadd-4a19-b940-e7ccd4a50579",
   "metadata": {},
   "outputs": [
    {
     "data": {
      "text/plain": [
       "AnnData object with n_obs × n_vars = 123006 × 4917\n",
       "    obs: 'sampleID', 'sourceID', 'donorID_original', 'study', 'donorID_corrected', 'donorID_unified', 'donor_category', 'donor_disease', 'organ_original', 'organ_unified', 'organ_broad', 'age_original', 'age_unified', 'age_continuousadult', 'age_continuousdev', 'sex', 'sample_type', 'sample_category', 'sample_retrieval', 'tissue_fraction', 'cell_fraction', 'cell_fraction_unified', 'cell_sorting', 'technology', 'original_annot', 'organ_groups', 'disease', 'control_vs_disease', 'n_counts', 'log1p_n_counts', 'n_genes', 'log1p_n_genes', 'percent_top50', 'percent_mito', 'n_counts_mito', 'percent_ribo', 'n_counts_ribo', 'percent_hb', 'n_counts_hb'\n",
       "    var: 'mito', 'ribo', 'hb', 'n_counts', 'n_cells'"
      ]
     },
     "execution_count": 21,
     "metadata": {},
     "output_type": "execute_result"
    }
   ],
   "source": [
    "disease_ad"
   ]
  },
  {
   "cell_type": "code",
   "execution_count": 22,
   "id": "3974ceb1-21f6-4c2d-9e52-2b2fe4e93c92",
   "metadata": {},
   "outputs": [
    {
     "data": {
      "text/plain": [
       "AnnData object with n_obs × n_vars = 77674 × 4917\n",
       "    obs: 'sampleID', 'sourceID', 'donorID_original', 'study', 'donorID_corrected', 'donorID_unified', 'donor_category', 'donor_disease', 'organ_original', 'organ_unified', 'organ_broad', 'age_original', 'age_unified', 'age_continuousadult', 'age_continuousdev', 'sex', 'sample_type', 'sample_category', 'sample_retrieval', 'tissue_fraction', 'cell_fraction', 'cell_fraction_unified', 'cell_sorting', 'technology', 'original_annot', 'publishing_state_x', 'organ_groups', 'disease', 'control_vs_disease', 'n_counts', 'log1p_n_counts', 'n_genes', 'log1p_n_genes', 'percent_mito', 'n_counts_mito', 'percent_ribo', 'n_counts_ribo', 'percent_hb', 'n_counts_hb', 'percent_top50'\n",
       "    var: 'mito', 'ribo', 'hb', 'n_counts', 'n_cells'"
      ]
     },
     "execution_count": 22,
     "metadata": {},
     "output_type": "execute_result"
    }
   ],
   "source": [
    "disease_ad2"
   ]
  },
  {
   "cell_type": "code",
   "execution_count": 23,
   "id": "bigger-prevention",
   "metadata": {
    "tags": []
   },
   "outputs": [
    {
     "name": "stdout",
     "output_type": "stream",
     "text": [
      "\u001b[34mINFO    \u001b[0m File \u001b[35m/home/jupyter/Annotations_v3/models/scanvi_compartments/epi/Epi_LI_hvg5000.noIg\u001b[0m\n",
      "         \u001b[35mVar_noCC_scvi.scanvi_fine_annot.20230130.Method2/model.pt/\u001b[0m\u001b[95mmodel.pt\u001b[0m already          \n",
      "         downloaded                                                                          \n"
     ]
    },
    {
     "name": "stderr",
     "output_type": "stream",
     "text": [
      "/opt/conda/envs/scvi/lib/python3.9/site-packages/scvi/data/fields/_scanvi.py:89: UserWarning: Missing labels key fine_annot. Filling in with unlabeled category Unknown.\n",
      "  warnings.warn(\n"
     ]
    }
   ],
   "source": [
    "scanvi_query = scvi.model.SCANVI.load_query_data(\n",
    "    disease_ad,\n",
    "    \"/home/jupyter/Annotations_v3/models/scanvi_compartments/epi/Epi_LI_hvg5000.noIgVar_noCC_scvi.scanvi_fine_annot.20230130.Method2/model.pt\",\n",
    ")"
   ]
  },
  {
   "cell_type": "code",
   "execution_count": 24,
   "id": "local-dealing",
   "metadata": {
    "tags": []
   },
   "outputs": [
    {
     "name": "stdout",
     "output_type": "stream",
     "text": [
      "\u001b[34mINFO    \u001b[0m Training for \u001b[1;36m100\u001b[0m epochs.                                                            \n"
     ]
    },
    {
     "name": "stderr",
     "output_type": "stream",
     "text": [
      "/opt/conda/envs/scvi/lib/python3.9/site-packages/torchmetrics/utilities/prints.py:36: UserWarning: Torchmetrics v0.9 introduced a new argument class property called `full_state_update` that has\n",
      "                not been set for this class (ElboMetric). The property determines if `update` by\n",
      "                default needs access to the full metric state. If this is not the case, significant speedups can be\n",
      "                achieved and we recommend setting this to `False`.\n",
      "                We provide an checking function\n",
      "                `from torchmetrics.utilities import check_forward_no_full_state`\n",
      "                that can be used to check if the `full_state_update=True` (old and potential slower behaviour,\n",
      "                default for now) or if `full_state_update=False` can be used safely.\n",
      "                \n",
      "  warnings.warn(*args, **kwargs)\n",
      "GPU available: True, used: True\n",
      "TPU available: False, using: 0 TPU cores\n",
      "IPU available: False, using: 0 IPUs\n",
      "LOCAL_RANK: 0 - CUDA_VISIBLE_DEVICES: [0]\n"
     ]
    },
    {
     "name": "stdout",
     "output_type": "stream",
     "text": [
      "Epoch 1/100:   0%|          | 0/100 [00:00<?, ?it/s]"
     ]
    },
    {
     "name": "stderr",
     "output_type": "stream",
     "text": [
      "/opt/conda/envs/scvi/lib/python3.9/site-packages/scvi/distributions/_negative_binomial.py:61: UserWarning: Specified kernel cache directory could not be created! This disables kernel caching. Specified directory is /home/jupyter/.cache/torch/kernels. This warning will appear only once per process. (Triggered internally at  ../aten/src/ATen/native/cuda/jit_utils.cpp:860.)\n",
      "  + torch.lgamma(x + theta)\n"
     ]
    },
    {
     "name": "stdout",
     "output_type": "stream",
     "text": [
      "Epoch 100/100: 100%|██████████| 100/100 [22:31<00:00, 13.52s/it, loss=1.13e+03, v_num=1]\n"
     ]
    }
   ],
   "source": [
    "scanvi_query.train(\n",
    "    max_epochs=100, plan_kwargs=dict(weight_decay=0.0), check_val_every_n_epoch=10\n",
    ")"
   ]
  },
  {
   "cell_type": "code",
   "execution_count": 26,
   "id": "sunrise-baking",
   "metadata": {
    "tags": []
   },
   "outputs": [],
   "source": [
    "scanvi_query.save(\n",
    "    \"/home/jupyter/Epi_LI_revisions/Smillie_scanvi20231227/model.pt\"\n",
    ")"
   ]
  },
  {
   "cell_type": "code",
   "execution_count": 27,
   "id": "damaged-hometown",
   "metadata": {
    "tags": []
   },
   "outputs": [],
   "source": [
    "disease_ad.obsm[\"X_scANVI\"] = scanvi_query.get_latent_representation()"
   ]
  },
  {
   "cell_type": "code",
   "execution_count": 29,
   "id": "2464ea5a-3238-4b73-93e7-0aca19911192",
   "metadata": {},
   "outputs": [
    {
     "data": {
      "image/png": "[encoded data removed]",
      "text/plain": [
       "<Figure size 288x288 with 1 Axes>"
      ]
     },
     "metadata": {},
     "output_type": "display_data"
    }
   ],
   "source": [
    "sc.pp.neighbors(disease_ad, use_rep=\"X_scANVI\")\n",
    "sc.tl.umap(disease_ad)\n",
    "sc.pl.umap(disease_ad, color=['disease'])"
   ]
  },
  {
   "cell_type": "code",
   "execution_count": 30,
   "id": "69f744d7-0311-4226-b9d6-0c53e8c989c4",
   "metadata": {},
   "outputs": [
    {
     "data": {
      "text/plain": [
       "AnnData object with n_obs × n_vars = 120417 × 4917\n",
       "    obs: 'latent_cell_probability', 'latent_RT_efficiency', 'cecilia22_predH', 'cecilia22_predH_prob', 'cecilia22_predH_uncertain', 'cecilia22_predL', 'cecilia22_predL_prob', 'cecilia22_predL_uncertain', 'elmentaite21_pred', 'elmentaite21_pred_prob', 'elmentaite21_pred_uncertain', 'suo22_pred', 'suo22_pred_prob', 'suo22_pred_uncertain', 'n_counts', 'log1p_n_counts', 'n_genes', 'log1p_n_genes', 'percent_mito', 'n_counts_mito', 'percent_ribo', 'n_counts_ribo', 'percent_hb', 'n_counts_hb', 'percent_top50', 'n_counts_raw', 'log1p_n_counts_raw', 'n_genes_raw', 'log1p_n_genes_raw', 'percent_mito_raw', 'n_counts_mito_raw', 'percent_ribo_raw', 'n_counts_ribo_raw', 'percent_hb_raw', 'n_counts_hb_raw', 'percent_top50_raw', 'n_counts_spliced', 'log1p_n_counts_spliced', 'n_genes_spliced', 'log1p_n_genes_spliced', 'percent_mito_spliced', 'n_counts_mito_spliced', 'percent_ribo_spliced', 'n_counts_ribo_spliced', 'percent_hb_spliced', 'n_counts_hb_spliced', 'percent_top50_spliced', 'n_counts_unspliced', 'log1p_n_counts_unspliced', 'n_genes_unspliced', 'log1p_n_genes_unspliced', 'percent_mito_unspliced', 'n_counts_mito_unspliced', 'percent_ribo_unspliced', 'n_counts_ribo_unspliced', 'percent_hb_unspliced', 'n_counts_hb_unspliced', 'percent_top50_unspliced', 'percent_soup', 'percent_spliced', 'qc_cluster', 'pass_auto_filter_mito20', 'good_qc_cluster_mito20', 'pass_auto_filter_mito50', 'good_qc_cluster_mito50', 'pass_auto_filter_mito80', 'good_qc_cluster_mito80', 'pass_auto_filter', 'good_qc_cluster', 'pass_default', 'sampleID', 'sourceID', 'donorID_original', 'study', 'donorID_corrected', 'donorID_unified', 'donor_category', 'donor_disease', 'organ_original', 'organ_unified', 'organ_broad', 'age_original', 'age_unified', 'age_continuousadult', 'age_continuousdev', 'sex', 'sample_type', 'sample_category', 'sample_retrieval', 'tissue_fraction', 'cell_fraction', 'cell_fraction_unified', 'cell_sorting', 'technology', 'include_150722', 'cluster_scrublet_score', 'bh_pval', 'scrublet_score', 'scrublet_score_z', 'scrublet_done', 'doublet', 'stringent_doublet', 'integration_grouping', '_scvi_batch', '_scvi_labels', 'broad_annot_20220914', 'martin19_pred', 'martin19_pred_prob', 'martin19_pred_uncertain', 'warner20_pred', 'warner20_pred_prob', 'warner20_pred_uncertain', 'broad_annot_20220917', 'fine_annot'\n",
       "    var: 'gene_ids', 'feature_type', 'mito', 'ribo', 'hb', 'n_counts', 'n_counts_raw', 'n_counts_spliced', 'n_counts_unspliced', 'n_cells', 'n_cells_raw', 'n_cells_spliced', 'n_cells_unspliced', 'cc', 'ig', 'tcr'\n",
       "    uns: '_scvi_uuid', '_scvi_manager_uuid'\n",
       "    obsm: '_scvi_extra_continuous_covs', 'X_scANVI'"
      ]
     },
     "execution_count": 30,
     "metadata": {},
     "output_type": "execute_result"
    }
   ],
   "source": [
    "adata"
   ]
  },
  {
   "cell_type": "code",
   "execution_count": 31,
   "id": "7386e085-3d35-4e87-80c5-0237f88439f6",
   "metadata": {},
   "outputs": [
    {
     "name": "stdout",
     "output_type": "stream",
     "text": [
      "Weighted KNN with n_neighbors = 50 ... "
     ]
    }
   ],
   "source": [
    "k_neighbors_transformer = weighted_knn_trainer(\n",
    "        train_adata=adata,\n",
    "        train_adata_emb=\"X_scANVI\",\n",
    "        label_key=\"fine_annot\",\n",
    "        n_neighbors=50,\n",
    "    )"
   ]
  },
  {
   "cell_type": "code",
   "execution_count": 32,
   "id": "0aa1ce75-cc94-4773-860b-91ae82cda6f8",
   "metadata": {},
   "outputs": [
    {
     "data": {
      "text/html": [
       "<style>#sk-container-id-1 {color: black;background-color: white;}#sk-container-id-1 pre{padding: 0;}#sk-container-id-1 div.sk-toggleable {background-color: white;}#sk-container-id-1 label.sk-toggleable__label {cursor: pointer;display: block;width: 100%;margin-bottom: 0;padding: 0.3em;box-sizing: border-box;text-align: center;}#sk-container-id-1 label.sk-toggleable__label-arrow:before {content: \"▸\";float: left;margin-right: 0.25em;color: #696969;}#sk-container-id-1 label.sk-toggleable__label-arrow:hover:before {color: black;}#sk-container-id-1 div.sk-estimator:hover label.sk-toggleable__label-arrow:before {color: black;}#sk-container-id-1 div.sk-toggleable__content {max-height: 0;max-width: 0;overflow: hidden;text-align: left;background-color: #f0f8ff;}#sk-container-id-1 div.sk-toggleable__content pre {margin: 0.2em;color: black;border-radius: 0.25em;background-color: #f0f8ff;}#sk-container-id-1 input.sk-toggleable__control:checked~div.sk-toggleable__content {max-height: 200px;max-width: 100%;overflow: auto;}#sk-container-id-1 input.sk-toggleable__control:checked~label.sk-toggleable__label-arrow:before {content: \"▾\";}#sk-container-id-1 div.sk-estimator input.sk-toggleable__control:checked~label.sk-toggleable__label {background-color: #d4ebff;}#sk-container-id-1 div.sk-label input.sk-toggleable__control:checked~label.sk-toggleable__label {background-color: #d4ebff;}#sk-container-id-1 input.sk-hidden--visually {border: 0;clip: rect(1px 1px 1px 1px);clip: rect(1px, 1px, 1px, 1px);height: 1px;margin: -1px;overflow: hidden;padding: 0;position: absolute;width: 1px;}#sk-container-id-1 div.sk-estimator {font-family: monospace;background-color: #f0f8ff;border: 1px dotted black;border-radius: 0.25em;box-sizing: border-box;margin-bottom: 0.5em;}#sk-container-id-1 div.sk-estimator:hover {background-color: #d4ebff;}#sk-container-id-1 div.sk-parallel-item::after {content: \"\";width: 100%;border-bottom: 1px solid gray;flex-grow: 1;}#sk-container-id-1 div.sk-label:hover label.sk-toggleable__label {background-color: #d4ebff;}#sk-container-id-1 div.sk-serial::before {content: \"\";position: absolute;border-left: 1px solid gray;box-sizing: border-box;top: 0;bottom: 0;left: 50%;z-index: 0;}#sk-container-id-1 div.sk-serial {display: flex;flex-direction: column;align-items: center;background-color: white;padding-right: 0.2em;padding-left: 0.2em;position: relative;}#sk-container-id-1 div.sk-item {position: relative;z-index: 1;}#sk-container-id-1 div.sk-parallel {display: flex;align-items: stretch;justify-content: center;background-color: white;position: relative;}#sk-container-id-1 div.sk-item::before, #sk-container-id-1 div.sk-parallel-item::before {content: \"\";position: absolute;border-left: 1px solid gray;box-sizing: border-box;top: 0;bottom: 0;left: 50%;z-index: -1;}#sk-container-id-1 div.sk-parallel-item {display: flex;flex-direction: column;z-index: 1;position: relative;background-color: white;}#sk-container-id-1 div.sk-parallel-item:first-child::after {align-self: flex-end;width: 50%;}#sk-container-id-1 div.sk-parallel-item:last-child::after {align-self: flex-start;width: 50%;}#sk-container-id-1 div.sk-parallel-item:only-child::after {width: 0;}#sk-container-id-1 div.sk-dashed-wrapped {border: 1px dashed gray;margin: 0 0.4em 0.5em 0.4em;box-sizing: border-box;padding-bottom: 0.4em;background-color: white;}#sk-container-id-1 div.sk-label label {font-family: monospace;font-weight: bold;display: inline-block;line-height: 1.2em;}#sk-container-id-1 div.sk-label-container {text-align: center;}#sk-container-id-1 div.sk-container {/* jupyter's `normalize.less` sets `[hidden] { display: none; }` but bootstrap.min.css set `[hidden] { display: none !important; }` so we also need the `!important` here to be able to override the default hidden behavior on the sphinx rendered scikit-learn.org. See: https://github.com/scikit-learn/scikit-learn/issues/21755 */display: inline-block !important;position: relative;}#sk-container-id-1 div.sk-text-repr-fallback {display: none;}</style><div id=\"sk-container-id-1\" class=\"sk-top-container\"><div class=\"sk-text-repr-fallback\"><pre>KNeighborsTransformer(algorithm=&#x27;brute&#x27;, metric=&#x27;euclidean&#x27;, n_jobs=-1,\n",
       "                      n_neighbors=50)</pre><b>In a Jupyter environment, please rerun this cell to show the HTML representation or trust the notebook. <br />On GitHub, the HTML representation is unable to render, please try loading this page with nbviewer.org.</b></div><div class=\"sk-container\" hidden><div class=\"sk-item\"><div class=\"sk-estimator sk-toggleable\"><input class=\"sk-toggleable__control sk-hidden--visually\" id=\"sk-estimator-id-1\" type=\"checkbox\" checked><label for=\"sk-estimator-id-1\" class=\"sk-toggleable__label sk-toggleable__label-arrow\">KNeighborsTransformer</label><div class=\"sk-toggleable__content\"><pre>KNeighborsTransformer(algorithm=&#x27;brute&#x27;, metric=&#x27;euclidean&#x27;, n_jobs=-1,\n",
       "                      n_neighbors=50)</pre></div></div></div></div></div>"
      ],
      "text/plain": [
       "KNeighborsTransformer(algorithm='brute', metric='euclidean', n_jobs=-1,\n",
       "                      n_neighbors=50)"
      ]
     },
     "execution_count": 32,
     "metadata": {},
     "output_type": "execute_result"
    }
   ],
   "source": [
    "k_neighbors_transformer"
   ]
  },
  {
   "cell_type": "code",
   "execution_count": 33,
   "id": "44a1db19-2a98-4d6f-a4cc-b631133e067e",
   "metadata": {},
   "outputs": [
    {
     "name": "stderr",
     "output_type": "stream",
     "text": [
      "/opt/conda/envs/scvi/lib/python3.9/site-packages/sklearn/base.py:450: UserWarning: X does not have valid feature names, but KNeighborsTransformer was fitted with feature names\n",
      "  warnings.warn(\n"
     ]
    },
    {
     "name": "stdout",
     "output_type": "stream",
     "text": [
      "finished!\n"
     ]
    }
   ],
   "source": [
    "labels, uncert = weighted_knn_transfer(\n",
    "        query_adata=disease_ad,\n",
    "        query_adata_emb=\"X_scANVI\",\n",
    "        label_keys=\"fine_annot\",\n",
    "        knn_model=k_neighbors_transformer,\n",
    "        ref_adata_obs = adata.obs\n",
    "    )"
   ]
  },
  {
   "cell_type": "code",
   "execution_count": 34,
   "id": "ec000796-1d93-40b8-b05b-fd53b13c2655",
   "metadata": {},
   "outputs": [
    {
     "data": {
      "text/html": [
       "<div>\n",
       "<style scoped>\n",
       "    .dataframe tbody tr th:only-of-type {\n",
       "        vertical-align: middle;\n",
       "    }\n",
       "\n",
       "    .dataframe tbody tr th {\n",
       "        vertical-align: top;\n",
       "    }\n",
       "\n",
       "    .dataframe thead th {\n",
       "        text-align: right;\n",
       "    }\n",
       "</style>\n",
       "<table border=\"1\" class=\"dataframe\">\n",
       "  <thead>\n",
       "    <tr style=\"text-align: right;\">\n",
       "      <th></th>\n",
       "      <th>fine_annot</th>\n",
       "    </tr>\n",
       "    <tr>\n",
       "      <th>original_index</th>\n",
       "      <th></th>\n",
       "    </tr>\n",
       "  </thead>\n",
       "  <tbody>\n",
       "    <tr>\n",
       "      <th>N7.EpiA.AAACATACACACTG</th>\n",
       "      <td>TA_cycling</td>\n",
       "    </tr>\n",
       "    <tr>\n",
       "      <th>N7.EpiA.AAACCGTGCATCAG</th>\n",
       "      <td>Colonocyte</td>\n",
       "    </tr>\n",
       "    <tr>\n",
       "      <th>N7.EpiA.AAACGCACAATCGC</th>\n",
       "      <td>Colonocyte</td>\n",
       "    </tr>\n",
       "    <tr>\n",
       "      <th>N7.EpiA.AAAGATCTAACCGT</th>\n",
       "      <td>Colonocyte</td>\n",
       "    </tr>\n",
       "    <tr>\n",
       "      <th>N7.EpiA.AAAGATCTAGGCGA</th>\n",
       "      <td>Colonocyte</td>\n",
       "    </tr>\n",
       "    <tr>\n",
       "      <th>...</th>\n",
       "      <td>...</td>\n",
       "    </tr>\n",
       "    <tr>\n",
       "      <th>N110.LPB.TTTGGTTGTGTGGCTC</th>\n",
       "      <td>Late_colonocyte</td>\n",
       "    </tr>\n",
       "    <tr>\n",
       "      <th>N110.LPB.TTTGGTTTCCTTAATC</th>\n",
       "      <td>Colonocyte</td>\n",
       "    </tr>\n",
       "    <tr>\n",
       "      <th>N110.LPB.TTTGGTTTCTTACCTA</th>\n",
       "      <td>Colonocyte</td>\n",
       "    </tr>\n",
       "    <tr>\n",
       "      <th>N110.LPB.TTTGTCAAGGATGGAA</th>\n",
       "      <td>Colonocyte</td>\n",
       "    </tr>\n",
       "    <tr>\n",
       "      <th>N110.LPB.TTTGTCAGTTGTTTGG</th>\n",
       "      <td>Epithelial_stem</td>\n",
       "    </tr>\n",
       "  </tbody>\n",
       "</table>\n",
       "<p>123006 rows × 1 columns</p>\n",
       "</div>"
      ],
      "text/plain": [
       "                                fine_annot\n",
       "original_index                            \n",
       "N7.EpiA.AAACATACACACTG          TA_cycling\n",
       "N7.EpiA.AAACCGTGCATCAG          Colonocyte\n",
       "N7.EpiA.AAACGCACAATCGC          Colonocyte\n",
       "N7.EpiA.AAAGATCTAACCGT          Colonocyte\n",
       "N7.EpiA.AAAGATCTAGGCGA          Colonocyte\n",
       "...                                    ...\n",
       "N110.LPB.TTTGGTTGTGTGGCTC  Late_colonocyte\n",
       "N110.LPB.TTTGGTTTCCTTAATC       Colonocyte\n",
       "N110.LPB.TTTGGTTTCTTACCTA       Colonocyte\n",
       "N110.LPB.TTTGTCAAGGATGGAA       Colonocyte\n",
       "N110.LPB.TTTGTCAGTTGTTTGG  Epithelial_stem\n",
       "\n",
       "[123006 rows x 1 columns]"
      ]
     },
     "execution_count": 34,
     "metadata": {},
     "output_type": "execute_result"
    }
   ],
   "source": [
    "labels"
   ]
  },
  {
   "cell_type": "code",
   "execution_count": 35,
   "id": "a6ebaf26-c465-4cab-b22a-c4d46314408b",
   "metadata": {},
   "outputs": [
    {
     "data": {
      "text/html": [
       "<div>\n",
       "<style scoped>\n",
       "    .dataframe tbody tr th:only-of-type {\n",
       "        vertical-align: middle;\n",
       "    }\n",
       "\n",
       "    .dataframe tbody tr th {\n",
       "        vertical-align: top;\n",
       "    }\n",
       "\n",
       "    .dataframe thead th {\n",
       "        text-align: right;\n",
       "    }\n",
       "</style>\n",
       "<table border=\"1\" class=\"dataframe\">\n",
       "  <thead>\n",
       "    <tr style=\"text-align: right;\">\n",
       "      <th></th>\n",
       "      <th>fine_annot</th>\n",
       "    </tr>\n",
       "    <tr>\n",
       "      <th>original_index</th>\n",
       "      <th></th>\n",
       "    </tr>\n",
       "  </thead>\n",
       "  <tbody>\n",
       "    <tr>\n",
       "      <th>N7.EpiA.AAACATACACACTG</th>\n",
       "      <td>0.159928</td>\n",
       "    </tr>\n",
       "    <tr>\n",
       "      <th>N7.EpiA.AAACCGTGCATCAG</th>\n",
       "      <td>0.0</td>\n",
       "    </tr>\n",
       "    <tr>\n",
       "      <th>N7.EpiA.AAACGCACAATCGC</th>\n",
       "      <td>0.060011</td>\n",
       "    </tr>\n",
       "    <tr>\n",
       "      <th>N7.EpiA.AAAGATCTAACCGT</th>\n",
       "      <td>0.0</td>\n",
       "    </tr>\n",
       "    <tr>\n",
       "      <th>N7.EpiA.AAAGATCTAGGCGA</th>\n",
       "      <td>0.0</td>\n",
       "    </tr>\n",
       "    <tr>\n",
       "      <th>...</th>\n",
       "      <td>...</td>\n",
       "    </tr>\n",
       "    <tr>\n",
       "      <th>N110.LPB.TTTGGTTGTGTGGCTC</th>\n",
       "      <td>0.200043</td>\n",
       "    </tr>\n",
       "    <tr>\n",
       "      <th>N110.LPB.TTTGGTTTCCTTAATC</th>\n",
       "      <td>0.220047</td>\n",
       "    </tr>\n",
       "    <tr>\n",
       "      <th>N110.LPB.TTTGGTTTCTTACCTA</th>\n",
       "      <td>0.360018</td>\n",
       "    </tr>\n",
       "    <tr>\n",
       "      <th>N110.LPB.TTTGTCAAGGATGGAA</th>\n",
       "      <td>0.0</td>\n",
       "    </tr>\n",
       "    <tr>\n",
       "      <th>N110.LPB.TTTGTCAGTTGTTTGG</th>\n",
       "      <td>0.600011</td>\n",
       "    </tr>\n",
       "  </tbody>\n",
       "</table>\n",
       "<p>123006 rows × 1 columns</p>\n",
       "</div>"
      ],
      "text/plain": [
       "                          fine_annot\n",
       "original_index                      \n",
       "N7.EpiA.AAACATACACACTG      0.159928\n",
       "N7.EpiA.AAACCGTGCATCAG           0.0\n",
       "N7.EpiA.AAACGCACAATCGC      0.060011\n",
       "N7.EpiA.AAAGATCTAACCGT           0.0\n",
       "N7.EpiA.AAAGATCTAGGCGA           0.0\n",
       "...                              ...\n",
       "N110.LPB.TTTGGTTGTGTGGCTC   0.200043\n",
       "N110.LPB.TTTGGTTTCCTTAATC   0.220047\n",
       "N110.LPB.TTTGGTTTCTTACCTA   0.360018\n",
       "N110.LPB.TTTGTCAAGGATGGAA        0.0\n",
       "N110.LPB.TTTGTCAGTTGTTTGG   0.600011\n",
       "\n",
       "[123006 rows x 1 columns]"
      ]
     },
     "execution_count": 35,
     "metadata": {},
     "output_type": "execute_result"
    }
   ],
   "source": [
    "uncert"
   ]
  },
  {
   "cell_type": "code",
   "execution_count": 36,
   "id": "f08761b0-84ed-42bc-9f91-4104f3133a6e",
   "metadata": {},
   "outputs": [],
   "source": [
    "disease_ad.obs['fine_predicted_labels'] = labels['fine_annot']\n",
    "disease_ad.obs['fine_predicted_labels_uncertainty'] = uncert['fine_annot']"
   ]
  },
  {
   "cell_type": "code",
   "execution_count": 37,
   "id": "32413199-f562-4c49-852c-56b935751cbb",
   "metadata": {},
   "outputs": [
    {
     "data": {
      "image/png": "[encoded data removed]",
      "text/plain": [
       "<Figure size 288x288 with 1 Axes>"
      ]
     },
     "metadata": {},
     "output_type": "display_data"
    }
   ],
   "source": [
    "sc.pl.umap(disease_ad, color=['fine_predicted_labels'])"
   ]
  },
  {
   "cell_type": "code",
   "execution_count": 38,
   "id": "4b1e9a9c-a796-428f-a7fc-dec56b9a2301",
   "metadata": {},
   "outputs": [
    {
     "data": {
      "image/png": "[encoded data removed]",
      "text/plain": [
       "<Figure size 288x288 with 2 Axes>"
      ]
     },
     "metadata": {
      "needs_background": "light"
     },
     "output_type": "display_data"
    }
   ],
   "source": [
    "sc.pl.umap(disease_ad, color=['fine_predicted_labels_uncertainty'],cmap='OrRd')"
   ]
  },
  {
   "cell_type": "code",
   "execution_count": 39,
   "id": "6c11a1f8-c9e5-4580-89b3-d84a920fa6e7",
   "metadata": {},
   "outputs": [],
   "source": [
    "disease_ad.obs[\"scanvi_pred\"] = scanvi_query.predict(disease_ad)"
   ]
  },
  {
   "cell_type": "code",
   "execution_count": 40,
   "id": "0e249e5b-107a-4cf4-9f84-d05fe4e34f16",
   "metadata": {},
   "outputs": [],
   "source": [
    "pd.DataFrame(\n",
    "    disease_ad.obsm[\"X_scANVI\"],\n",
    "    index=disease_ad.obs_names,\n",
    "    columns=[f\"LV{i+1}\" for i in range(disease_ad.obsm[\"X_scANVI\"].shape[1])],\n",
    ").to_csv(\n",
    "    \"/home/jupyter/Epi_LI_revisions/Smillie_Epi_LI_adult_20231205_scANVIobsm.csv.gz\"\n",
    ")"
   ]
  },
  {
   "cell_type": "code",
   "execution_count": 41,
   "id": "7372d29c-8e88-4ee6-8f24-469d47863677",
   "metadata": {},
   "outputs": [],
   "source": [
    "disease_ad.obs.to_csv('/home/jupyter/Epi_LI_revisions/Smillie_Epi_LI_adult_20231205_meta.csv')"
   ]
  },
  {
   "cell_type": "code",
   "execution_count": 42,
   "id": "d2c64b48-edfc-4591-b13d-f7d5e0eb8d22",
   "metadata": {},
   "outputs": [
    {
     "name": "stdout",
     "output_type": "stream",
     "text": [
      "\u001b[34mINFO    \u001b[0m File \u001b[35m/home/jupyter/Annotations_v3/models/scanvi_compartments/epi/Epi_LI_hvg5000.noIg\u001b[0m\n",
      "         \u001b[35mVar_noCC_scvi.scanvi_fine_annot.20230130.Method2/model.pt/\u001b[0m\u001b[95mmodel.pt\u001b[0m already          \n",
      "         downloaded                                                                          \n"
     ]
    },
    {
     "name": "stderr",
     "output_type": "stream",
     "text": [
      "/opt/conda/envs/scvi/lib/python3.9/site-packages/scvi/data/fields/_layer_field.py:78: UserWarning: adata.X does not contain unnormalized count data. Are you sure this is what you want?\n",
      "  warnings.warn(\n",
      "/opt/conda/envs/scvi/lib/python3.9/site-packages/scvi/data/fields/_scanvi.py:89: UserWarning: Missing labels key fine_annot. Filling in with unlabeled category Unknown.\n",
      "  warnings.warn(\n"
     ]
    }
   ],
   "source": [
    "scanvi_query = scvi.model.SCANVI.load_query_data(\n",
    "    disease_ad2,\n",
    "    \"/home/jupyter/Annotations_v3/models/scanvi_compartments/epi/Epi_LI_hvg5000.noIgVar_noCC_scvi.scanvi_fine_annot.20230130.Method2/model.pt\",\n",
    ")"
   ]
  },
  {
   "cell_type": "code",
   "execution_count": 43,
   "id": "8eacf2a9-c02f-45e2-b469-6e36277f69ff",
   "metadata": {
    "tags": []
   },
   "outputs": [
    {
     "name": "stdout",
     "output_type": "stream",
     "text": [
      "\u001b[34mINFO    \u001b[0m Training for \u001b[1;36m100\u001b[0m epochs.                                                            \n"
     ]
    },
    {
     "name": "stderr",
     "output_type": "stream",
     "text": [
      "/opt/conda/envs/scvi/lib/python3.9/site-packages/torchmetrics/utilities/prints.py:36: UserWarning: Torchmetrics v0.9 introduced a new argument class property called `full_state_update` that has\n",
      "                not been set for this class (ElboMetric). The property determines if `update` by\n",
      "                default needs access to the full metric state. If this is not the case, significant speedups can be\n",
      "                achieved and we recommend setting this to `False`.\n",
      "                We provide an checking function\n",
      "                `from torchmetrics.utilities import check_forward_no_full_state`\n",
      "                that can be used to check if the `full_state_update=True` (old and potential slower behaviour,\n",
      "                default for now) or if `full_state_update=False` can be used safely.\n",
      "                \n",
      "  warnings.warn(*args, **kwargs)\n",
      "GPU available: True, used: True\n",
      "TPU available: False, using: 0 TPU cores\n",
      "IPU available: False, using: 0 IPUs\n",
      "LOCAL_RANK: 0 - CUDA_VISIBLE_DEVICES: [0]\n"
     ]
    },
    {
     "name": "stdout",
     "output_type": "stream",
     "text": [
      "Epoch 1/100:   0%|          | 0/100 [00:00<?, ?it/s]"
     ]
    },
    {
     "name": "stderr",
     "output_type": "stream",
     "text": [
      "/opt/conda/envs/scvi/lib/python3.9/site-packages/scvi/distributions/_negative_binomial.py:436: UserWarning: The value argument must be within the support of the distribution\n",
      "  warnings.warn(\n",
      "/opt/conda/envs/scvi/lib/python3.9/site-packages/scvi/distributions/_negative_binomial.py:436: UserWarning: The value argument must be within the support of the distribution\n",
      "  warnings.warn(\n"
     ]
    },
    {
     "name": "stdout",
     "output_type": "stream",
     "text": [
      "Epoch 2/100:   1%|          | 1/100 [00:10<16:59, 10.30s/it, loss=960, v_num=1]"
     ]
    },
    {
     "name": "stderr",
     "output_type": "stream",
     "text": [
      "/opt/conda/envs/scvi/lib/python3.9/site-packages/scvi/distributions/_negative_binomial.py:436: UserWarning: The value argument must be within the support of the distribution\n",
      "  warnings.warn(\n",
      "/opt/conda/envs/scvi/lib/python3.9/site-packages/scvi/distributions/_negative_binomial.py:436: UserWarning: The value argument must be within the support of the distribution\n",
      "  warnings.warn(\n"
     ]
    },
    {
     "name": "stdout",
     "output_type": "stream",
     "text": [
      "Epoch 3/100:   2%|▏         | 2/100 [00:19<15:51,  9.71s/it, loss=965, v_num=1]"
     ]
    },
    {
     "name": "stderr",
     "output_type": "stream",
     "text": [
      "/opt/conda/envs/scvi/lib/python3.9/site-packages/scvi/distributions/_negative_binomial.py:436: UserWarning: The value argument must be within the support of the distribution\n",
      "  warnings.warn(\n",
      "/opt/conda/envs/scvi/lib/python3.9/site-packages/scvi/distributions/_negative_binomial.py:436: UserWarning: The value argument must be within the support of the distribution\n",
      "  warnings.warn(\n"
     ]
    },
    {
     "name": "stdout",
     "output_type": "stream",
     "text": [
      "Epoch 4/100:   3%|▎         | 3/100 [00:28<15:24,  9.53s/it, loss=950, v_num=1]"
     ]
    },
    {
     "name": "stderr",
     "output_type": "stream",
     "text": [
      "/opt/conda/envs/scvi/lib/python3.9/site-packages/scvi/distributions/_negative_binomial.py:436: UserWarning: The value argument must be within the support of the distribution\n",
      "  warnings.warn(\n",
      "/opt/conda/envs/scvi/lib/python3.9/site-packages/scvi/distributions/_negative_binomial.py:436: UserWarning: The value argument must be within the support of the distribution\n",
      "  warnings.warn(\n"
     ]
    },
    {
     "name": "stdout",
     "output_type": "stream",
     "text": [
      "Epoch 5/100:   4%|▍         | 4/100 [00:38<15:04,  9.42s/it, loss=972, v_num=1]"
     ]
    },
    {
     "name": "stderr",
     "output_type": "stream",
     "text": [
      "/opt/conda/envs/scvi/lib/python3.9/site-packages/scvi/distributions/_negative_binomial.py:436: UserWarning: The value argument must be within the support of the distribution\n",
      "  warnings.warn(\n",
      "/opt/conda/envs/scvi/lib/python3.9/site-packages/scvi/distributions/_negative_binomial.py:436: UserWarning: The value argument must be within the support of the distribution\n",
      "  warnings.warn(\n"
     ]
    },
    {
     "name": "stdout",
     "output_type": "stream",
     "text": [
      "Epoch 6/100:   5%|▌         | 5/100 [00:47<14:49,  9.36s/it, loss=941, v_num=1]"
     ]
    },
    {
     "name": "stderr",
     "output_type": "stream",
     "text": [
      "/opt/conda/envs/scvi/lib/python3.9/site-packages/scvi/distributions/_negative_binomial.py:436: UserWarning: The value argument must be within the support of the distribution\n",
      "  warnings.warn(\n",
      "/opt/conda/envs/scvi/lib/python3.9/site-packages/scvi/distributions/_negative_binomial.py:436: UserWarning: The value argument must be within the support of the distribution\n",
      "  warnings.warn(\n"
     ]
    },
    {
     "name": "stdout",
     "output_type": "stream",
     "text": [
      "Epoch 7/100:   6%|▌         | 6/100 [00:56<14:32,  9.28s/it, loss=970, v_num=1]"
     ]
    },
    {
     "name": "stderr",
     "output_type": "stream",
     "text": [
      "/opt/conda/envs/scvi/lib/python3.9/site-packages/scvi/distributions/_negative_binomial.py:436: UserWarning: The value argument must be within the support of the distribution\n",
      "  warnings.warn(\n",
      "/opt/conda/envs/scvi/lib/python3.9/site-packages/scvi/distributions/_negative_binomial.py:436: UserWarning: The value argument must be within the support of the distribution\n",
      "  warnings.warn(\n"
     ]
    },
    {
     "name": "stdout",
     "output_type": "stream",
     "text": [
      "Epoch 8/100:   7%|▋         | 7/100 [01:06<14:46,  9.53s/it, loss=942, v_num=1]"
     ]
    },
    {
     "name": "stderr",
     "output_type": "stream",
     "text": [
      "/opt/conda/envs/scvi/lib/python3.9/site-packages/scvi/distributions/_negative_binomial.py:436: UserWarning: The value argument must be within the support of the distribution\n",
      "  warnings.warn(\n",
      "/opt/conda/envs/scvi/lib/python3.9/site-packages/scvi/distributions/_negative_binomial.py:436: UserWarning: The value argument must be within the support of the distribution\n",
      "  warnings.warn(\n"
     ]
    },
    {
     "name": "stdout",
     "output_type": "stream",
     "text": [
      "Epoch 9/100:   8%|▊         | 8/100 [01:16<14:32,  9.49s/it, loss=932, v_num=1]"
     ]
    },
    {
     "name": "stderr",
     "output_type": "stream",
     "text": [
      "/opt/conda/envs/scvi/lib/python3.9/site-packages/scvi/distributions/_negative_binomial.py:436: UserWarning: The value argument must be within the support of the distribution\n",
      "  warnings.warn(\n",
      "/opt/conda/envs/scvi/lib/python3.9/site-packages/scvi/distributions/_negative_binomial.py:436: UserWarning: The value argument must be within the support of the distribution\n",
      "  warnings.warn(\n"
     ]
    },
    {
     "name": "stdout",
     "output_type": "stream",
     "text": [
      "Epoch 10/100:   9%|▉         | 9/100 [01:25<14:23,  9.49s/it, loss=989, v_num=1]"
     ]
    },
    {
     "name": "stderr",
     "output_type": "stream",
     "text": [
      "/opt/conda/envs/scvi/lib/python3.9/site-packages/scvi/distributions/_negative_binomial.py:436: UserWarning: The value argument must be within the support of the distribution\n",
      "  warnings.warn(\n",
      "/opt/conda/envs/scvi/lib/python3.9/site-packages/scvi/distributions/_negative_binomial.py:436: UserWarning: The value argument must be within the support of the distribution\n",
      "  warnings.warn(\n"
     ]
    },
    {
     "name": "stdout",
     "output_type": "stream",
     "text": [
      "Epoch 11/100:  10%|█         | 10/100 [01:35<14:35,  9.73s/it, loss=943, v_num=1]"
     ]
    },
    {
     "name": "stderr",
     "output_type": "stream",
     "text": [
      "/opt/conda/envs/scvi/lib/python3.9/site-packages/scvi/distributions/_negative_binomial.py:436: UserWarning: The value argument must be within the support of the distribution\n",
      "  warnings.warn(\n",
      "/opt/conda/envs/scvi/lib/python3.9/site-packages/scvi/distributions/_negative_binomial.py:436: UserWarning: The value argument must be within the support of the distribution\n",
      "  warnings.warn(\n"
     ]
    },
    {
     "name": "stdout",
     "output_type": "stream",
     "text": [
      "Epoch 12/100:  11%|█         | 11/100 [01:45<14:21,  9.68s/it, loss=964, v_num=1]"
     ]
    },
    {
     "name": "stderr",
     "output_type": "stream",
     "text": [
      "/opt/conda/envs/scvi/lib/python3.9/site-packages/scvi/distributions/_negative_binomial.py:436: UserWarning: The value argument must be within the support of the distribution\n",
      "  warnings.warn(\n",
      "/opt/conda/envs/scvi/lib/python3.9/site-packages/scvi/distributions/_negative_binomial.py:436: UserWarning: The value argument must be within the support of the distribution\n",
      "  warnings.warn(\n"
     ]
    },
    {
     "name": "stdout",
     "output_type": "stream",
     "text": [
      "Epoch 13/100:  12%|█▏        | 12/100 [01:54<14:07,  9.63s/it, loss=950, v_num=1]"
     ]
    },
    {
     "name": "stderr",
     "output_type": "stream",
     "text": [
      "/opt/conda/envs/scvi/lib/python3.9/site-packages/scvi/distributions/_negative_binomial.py:436: UserWarning: The value argument must be within the support of the distribution\n",
      "  warnings.warn(\n",
      "/opt/conda/envs/scvi/lib/python3.9/site-packages/scvi/distributions/_negative_binomial.py:436: UserWarning: The value argument must be within the support of the distribution\n",
      "  warnings.warn(\n"
     ]
    },
    {
     "name": "stdout",
     "output_type": "stream",
     "text": [
      "Epoch 14/100:  13%|█▎        | 13/100 [02:04<14:05,  9.71s/it, loss=967, v_num=1]"
     ]
    },
    {
     "name": "stderr",
     "output_type": "stream",
     "text": [
      "/opt/conda/envs/scvi/lib/python3.9/site-packages/scvi/distributions/_negative_binomial.py:436: UserWarning: The value argument must be within the support of the distribution\n",
      "  warnings.warn(\n",
      "/opt/conda/envs/scvi/lib/python3.9/site-packages/scvi/distributions/_negative_binomial.py:436: UserWarning: The value argument must be within the support of the distribution\n",
      "  warnings.warn(\n"
     ]
    },
    {
     "name": "stdout",
     "output_type": "stream",
     "text": [
      "Epoch 15/100:  14%|█▍        | 14/100 [02:14<14:07,  9.85s/it, loss=953, v_num=1]"
     ]
    },
    {
     "name": "stderr",
     "output_type": "stream",
     "text": [
      "/opt/conda/envs/scvi/lib/python3.9/site-packages/scvi/distributions/_negative_binomial.py:436: UserWarning: The value argument must be within the support of the distribution\n",
      "  warnings.warn(\n",
      "/opt/conda/envs/scvi/lib/python3.9/site-packages/scvi/distributions/_negative_binomial.py:436: UserWarning: The value argument must be within the support of the distribution\n",
      "  warnings.warn(\n"
     ]
    },
    {
     "name": "stdout",
     "output_type": "stream",
     "text": [
      "Epoch 16/100:  15%|█▌        | 15/100 [02:24<13:47,  9.73s/it, loss=964, v_num=1]"
     ]
    },
    {
     "name": "stderr",
     "output_type": "stream",
     "text": [
      "/opt/conda/envs/scvi/lib/python3.9/site-packages/scvi/distributions/_negative_binomial.py:436: UserWarning: The value argument must be within the support of the distribution\n",
      "  warnings.warn(\n",
      "/opt/conda/envs/scvi/lib/python3.9/site-packages/scvi/distributions/_negative_binomial.py:436: UserWarning: The value argument must be within the support of the distribution\n",
      "  warnings.warn(\n"
     ]
    },
    {
     "name": "stdout",
     "output_type": "stream",
     "text": [
      "Epoch 17/100:  16%|█▌        | 16/100 [02:33<13:32,  9.67s/it, loss=968, v_num=1]"
     ]
    },
    {
     "name": "stderr",
     "output_type": "stream",
     "text": [
      "/opt/conda/envs/scvi/lib/python3.9/site-packages/scvi/distributions/_negative_binomial.py:436: UserWarning: The value argument must be within the support of the distribution\n",
      "  warnings.warn(\n",
      "/opt/conda/envs/scvi/lib/python3.9/site-packages/scvi/distributions/_negative_binomial.py:436: UserWarning: The value argument must be within the support of the distribution\n",
      "  warnings.warn(\n"
     ]
    },
    {
     "name": "stdout",
     "output_type": "stream",
     "text": [
      "Epoch 18/100:  17%|█▋        | 17/100 [02:43<13:21,  9.66s/it, loss=947, v_num=1]"
     ]
    },
    {
     "name": "stderr",
     "output_type": "stream",
     "text": [
      "/opt/conda/envs/scvi/lib/python3.9/site-packages/scvi/distributions/_negative_binomial.py:436: UserWarning: The value argument must be within the support of the distribution\n",
      "  warnings.warn(\n",
      "/opt/conda/envs/scvi/lib/python3.9/site-packages/scvi/distributions/_negative_binomial.py:436: UserWarning: The value argument must be within the support of the distribution\n",
      "  warnings.warn(\n"
     ]
    },
    {
     "name": "stdout",
     "output_type": "stream",
     "text": [
      "Epoch 19/100:  18%|█▊        | 18/100 [02:53<13:13,  9.68s/it, loss=940, v_num=1]"
     ]
    },
    {
     "name": "stderr",
     "output_type": "stream",
     "text": [
      "/opt/conda/envs/scvi/lib/python3.9/site-packages/scvi/distributions/_negative_binomial.py:436: UserWarning: The value argument must be within the support of the distribution\n",
      "  warnings.warn(\n",
      "/opt/conda/envs/scvi/lib/python3.9/site-packages/scvi/distributions/_negative_binomial.py:436: UserWarning: The value argument must be within the support of the distribution\n",
      "  warnings.warn(\n"
     ]
    },
    {
     "name": "stdout",
     "output_type": "stream",
     "text": [
      "Epoch 20/100:  19%|█▉        | 19/100 [03:03<13:13,  9.79s/it, loss=979, v_num=1]"
     ]
    },
    {
     "name": "stderr",
     "output_type": "stream",
     "text": [
      "/opt/conda/envs/scvi/lib/python3.9/site-packages/scvi/distributions/_negative_binomial.py:436: UserWarning: The value argument must be within the support of the distribution\n",
      "  warnings.warn(\n",
      "/opt/conda/envs/scvi/lib/python3.9/site-packages/scvi/distributions/_negative_binomial.py:436: UserWarning: The value argument must be within the support of the distribution\n",
      "  warnings.warn(\n"
     ]
    },
    {
     "name": "stdout",
     "output_type": "stream",
     "text": [
      "Epoch 21/100:  20%|██        | 20/100 [03:14<13:41, 10.27s/it, loss=982, v_num=1]"
     ]
    },
    {
     "name": "stderr",
     "output_type": "stream",
     "text": [
      "/opt/conda/envs/scvi/lib/python3.9/site-packages/scvi/distributions/_negative_binomial.py:436: UserWarning: The value argument must be within the support of the distribution\n",
      "  warnings.warn(\n",
      "/opt/conda/envs/scvi/lib/python3.9/site-packages/scvi/distributions/_negative_binomial.py:436: UserWarning: The value argument must be within the support of the distribution\n",
      "  warnings.warn(\n"
     ]
    },
    {
     "name": "stdout",
     "output_type": "stream",
     "text": [
      "Epoch 22/100:  21%|██        | 21/100 [03:24<13:20, 10.14s/it, loss=960, v_num=1]"
     ]
    },
    {
     "name": "stderr",
     "output_type": "stream",
     "text": [
      "/opt/conda/envs/scvi/lib/python3.9/site-packages/scvi/distributions/_negative_binomial.py:436: UserWarning: The value argument must be within the support of the distribution\n",
      "  warnings.warn(\n",
      "/opt/conda/envs/scvi/lib/python3.9/site-packages/scvi/distributions/_negative_binomial.py:436: UserWarning: The value argument must be within the support of the distribution\n",
      "  warnings.warn(\n"
     ]
    },
    {
     "name": "stdout",
     "output_type": "stream",
     "text": [
      "Epoch 23/100:  22%|██▏       | 22/100 [03:34<13:04, 10.06s/it, loss=941, v_num=1]"
     ]
    },
    {
     "name": "stderr",
     "output_type": "stream",
     "text": [
      "/opt/conda/envs/scvi/lib/python3.9/site-packages/scvi/distributions/_negative_binomial.py:436: UserWarning: The value argument must be within the support of the distribution\n",
      "  warnings.warn(\n",
      "/opt/conda/envs/scvi/lib/python3.9/site-packages/scvi/distributions/_negative_binomial.py:436: UserWarning: The value argument must be within the support of the distribution\n",
      "  warnings.warn(\n"
     ]
    },
    {
     "name": "stdout",
     "output_type": "stream",
     "text": [
      "Epoch 24/100:  23%|██▎       | 23/100 [03:44<12:47,  9.96s/it, loss=921, v_num=1]"
     ]
    },
    {
     "name": "stderr",
     "output_type": "stream",
     "text": [
      "/opt/conda/envs/scvi/lib/python3.9/site-packages/scvi/distributions/_negative_binomial.py:436: UserWarning: The value argument must be within the support of the distribution\n",
      "  warnings.warn(\n",
      "/opt/conda/envs/scvi/lib/python3.9/site-packages/scvi/distributions/_negative_binomial.py:436: UserWarning: The value argument must be within the support of the distribution\n",
      "  warnings.warn(\n"
     ]
    },
    {
     "name": "stdout",
     "output_type": "stream",
     "text": [
      "Epoch 25/100:  24%|██▍       | 24/100 [03:53<12:25,  9.81s/it, loss=934, v_num=1]"
     ]
    },
    {
     "name": "stderr",
     "output_type": "stream",
     "text": [
      "/opt/conda/envs/scvi/lib/python3.9/site-packages/scvi/distributions/_negative_binomial.py:436: UserWarning: The value argument must be within the support of the distribution\n",
      "  warnings.warn(\n",
      "/opt/conda/envs/scvi/lib/python3.9/site-packages/scvi/distributions/_negative_binomial.py:436: UserWarning: The value argument must be within the support of the distribution\n",
      "  warnings.warn(\n"
     ]
    },
    {
     "name": "stdout",
     "output_type": "stream",
     "text": [
      "Epoch 26/100:  25%|██▌       | 25/100 [04:02<12:05,  9.67s/it, loss=935, v_num=1]"
     ]
    },
    {
     "name": "stderr",
     "output_type": "stream",
     "text": [
      "/opt/conda/envs/scvi/lib/python3.9/site-packages/scvi/distributions/_negative_binomial.py:436: UserWarning: The value argument must be within the support of the distribution\n",
      "  warnings.warn(\n",
      "/opt/conda/envs/scvi/lib/python3.9/site-packages/scvi/distributions/_negative_binomial.py:436: UserWarning: The value argument must be within the support of the distribution\n",
      "  warnings.warn(\n"
     ]
    },
    {
     "name": "stdout",
     "output_type": "stream",
     "text": [
      "Epoch 27/100:  26%|██▌       | 26/100 [04:13<12:07,  9.83s/it, loss=945, v_num=1]"
     ]
    },
    {
     "name": "stderr",
     "output_type": "stream",
     "text": [
      "/opt/conda/envs/scvi/lib/python3.9/site-packages/scvi/distributions/_negative_binomial.py:436: UserWarning: The value argument must be within the support of the distribution\n",
      "  warnings.warn(\n",
      "/opt/conda/envs/scvi/lib/python3.9/site-packages/scvi/distributions/_negative_binomial.py:436: UserWarning: The value argument must be within the support of the distribution\n",
      "  warnings.warn(\n"
     ]
    },
    {
     "name": "stdout",
     "output_type": "stream",
     "text": [
      "Epoch 28/100:  27%|██▋       | 27/100 [04:22<11:45,  9.67s/it, loss=955, v_num=1]"
     ]
    },
    {
     "name": "stderr",
     "output_type": "stream",
     "text": [
      "/opt/conda/envs/scvi/lib/python3.9/site-packages/scvi/distributions/_negative_binomial.py:436: UserWarning: The value argument must be within the support of the distribution\n",
      "  warnings.warn(\n",
      "/opt/conda/envs/scvi/lib/python3.9/site-packages/scvi/distributions/_negative_binomial.py:436: UserWarning: The value argument must be within the support of the distribution\n",
      "  warnings.warn(\n"
     ]
    },
    {
     "name": "stdout",
     "output_type": "stream",
     "text": [
      "Epoch 29/100:  28%|██▊       | 28/100 [04:31<11:28,  9.56s/it, loss=970, v_num=1]"
     ]
    },
    {
     "name": "stderr",
     "output_type": "stream",
     "text": [
      "/opt/conda/envs/scvi/lib/python3.9/site-packages/scvi/distributions/_negative_binomial.py:436: UserWarning: The value argument must be within the support of the distribution\n",
      "  warnings.warn(\n",
      "/opt/conda/envs/scvi/lib/python3.9/site-packages/scvi/distributions/_negative_binomial.py:436: UserWarning: The value argument must be within the support of the distribution\n",
      "  warnings.warn(\n"
     ]
    },
    {
     "name": "stdout",
     "output_type": "stream",
     "text": [
      "Epoch 30/100:  29%|██▉       | 29/100 [04:41<11:14,  9.50s/it, loss=932, v_num=1]"
     ]
    },
    {
     "name": "stderr",
     "output_type": "stream",
     "text": [
      "/opt/conda/envs/scvi/lib/python3.9/site-packages/scvi/distributions/_negative_binomial.py:436: UserWarning: The value argument must be within the support of the distribution\n",
      "  warnings.warn(\n",
      "/opt/conda/envs/scvi/lib/python3.9/site-packages/scvi/distributions/_negative_binomial.py:436: UserWarning: The value argument must be within the support of the distribution\n",
      "  warnings.warn(\n"
     ]
    },
    {
     "name": "stdout",
     "output_type": "stream",
     "text": [
      "Epoch 31/100:  30%|███       | 30/100 [04:51<11:22,  9.76s/it, loss=932, v_num=1]"
     ]
    },
    {
     "name": "stderr",
     "output_type": "stream",
     "text": [
      "/opt/conda/envs/scvi/lib/python3.9/site-packages/scvi/distributions/_negative_binomial.py:436: UserWarning: The value argument must be within the support of the distribution\n",
      "  warnings.warn(\n",
      "/opt/conda/envs/scvi/lib/python3.9/site-packages/scvi/distributions/_negative_binomial.py:436: UserWarning: The value argument must be within the support of the distribution\n",
      "  warnings.warn(\n"
     ]
    },
    {
     "name": "stdout",
     "output_type": "stream",
     "text": [
      "Epoch 32/100:  31%|███       | 31/100 [05:01<11:13,  9.77s/it, loss=943, v_num=1]"
     ]
    },
    {
     "name": "stderr",
     "output_type": "stream",
     "text": [
      "/opt/conda/envs/scvi/lib/python3.9/site-packages/scvi/distributions/_negative_binomial.py:436: UserWarning: The value argument must be within the support of the distribution\n",
      "  warnings.warn(\n",
      "/opt/conda/envs/scvi/lib/python3.9/site-packages/scvi/distributions/_negative_binomial.py:436: UserWarning: The value argument must be within the support of the distribution\n",
      "  warnings.warn(\n"
     ]
    },
    {
     "name": "stdout",
     "output_type": "stream",
     "text": [
      "Epoch 33/100:  32%|███▏      | 32/100 [05:11<11:19,  9.99s/it, loss=916, v_num=1]"
     ]
    },
    {
     "name": "stderr",
     "output_type": "stream",
     "text": [
      "/opt/conda/envs/scvi/lib/python3.9/site-packages/scvi/distributions/_negative_binomial.py:436: UserWarning: The value argument must be within the support of the distribution\n",
      "  warnings.warn(\n",
      "/opt/conda/envs/scvi/lib/python3.9/site-packages/scvi/distributions/_negative_binomial.py:436: UserWarning: The value argument must be within the support of the distribution\n",
      "  warnings.warn(\n"
     ]
    },
    {
     "name": "stdout",
     "output_type": "stream",
     "text": [
      "Epoch 34/100:  33%|███▎      | 33/100 [05:21<11:04,  9.92s/it, loss=934, v_num=1]"
     ]
    },
    {
     "name": "stderr",
     "output_type": "stream",
     "text": [
      "/opt/conda/envs/scvi/lib/python3.9/site-packages/scvi/distributions/_negative_binomial.py:436: UserWarning: The value argument must be within the support of the distribution\n",
      "  warnings.warn(\n",
      "/opt/conda/envs/scvi/lib/python3.9/site-packages/scvi/distributions/_negative_binomial.py:436: UserWarning: The value argument must be within the support of the distribution\n",
      "  warnings.warn(\n"
     ]
    },
    {
     "name": "stdout",
     "output_type": "stream",
     "text": [
      "Epoch 35/100:  34%|███▍      | 34/100 [05:31<10:50,  9.86s/it, loss=938, v_num=1]"
     ]
    },
    {
     "name": "stderr",
     "output_type": "stream",
     "text": [
      "/opt/conda/envs/scvi/lib/python3.9/site-packages/scvi/distributions/_negative_binomial.py:436: UserWarning: The value argument must be within the support of the distribution\n",
      "  warnings.warn(\n",
      "/opt/conda/envs/scvi/lib/python3.9/site-packages/scvi/distributions/_negative_binomial.py:436: UserWarning: The value argument must be within the support of the distribution\n",
      "  warnings.warn(\n"
     ]
    },
    {
     "name": "stdout",
     "output_type": "stream",
     "text": [
      "Epoch 36/100:  35%|███▌      | 35/100 [05:40<10:30,  9.69s/it, loss=942, v_num=1]"
     ]
    },
    {
     "name": "stderr",
     "output_type": "stream",
     "text": [
      "/opt/conda/envs/scvi/lib/python3.9/site-packages/scvi/distributions/_negative_binomial.py:436: UserWarning: The value argument must be within the support of the distribution\n",
      "  warnings.warn(\n",
      "/opt/conda/envs/scvi/lib/python3.9/site-packages/scvi/distributions/_negative_binomial.py:436: UserWarning: The value argument must be within the support of the distribution\n",
      "  warnings.warn(\n"
     ]
    },
    {
     "name": "stdout",
     "output_type": "stream",
     "text": [
      "Epoch 37/100:  36%|███▌      | 36/100 [05:49<10:12,  9.56s/it, loss=949, v_num=1]"
     ]
    },
    {
     "name": "stderr",
     "output_type": "stream",
     "text": [
      "/opt/conda/envs/scvi/lib/python3.9/site-packages/scvi/distributions/_negative_binomial.py:436: UserWarning: The value argument must be within the support of the distribution\n",
      "  warnings.warn(\n",
      "/opt/conda/envs/scvi/lib/python3.9/site-packages/scvi/distributions/_negative_binomial.py:436: UserWarning: The value argument must be within the support of the distribution\n",
      "  warnings.warn(\n"
     ]
    },
    {
     "name": "stdout",
     "output_type": "stream",
     "text": [
      "Epoch 38/100:  37%|███▋      | 37/100 [05:59<09:57,  9.49s/it, loss=960, v_num=1]"
     ]
    },
    {
     "name": "stderr",
     "output_type": "stream",
     "text": [
      "/opt/conda/envs/scvi/lib/python3.9/site-packages/scvi/distributions/_negative_binomial.py:436: UserWarning: The value argument must be within the support of the distribution\n",
      "  warnings.warn(\n",
      "/opt/conda/envs/scvi/lib/python3.9/site-packages/scvi/distributions/_negative_binomial.py:436: UserWarning: The value argument must be within the support of the distribution\n",
      "  warnings.warn(\n"
     ]
    },
    {
     "name": "stdout",
     "output_type": "stream",
     "text": [
      "Epoch 39/100:  38%|███▊      | 38/100 [06:09<10:00,  9.69s/it, loss=931, v_num=1]"
     ]
    },
    {
     "name": "stderr",
     "output_type": "stream",
     "text": [
      "/opt/conda/envs/scvi/lib/python3.9/site-packages/scvi/distributions/_negative_binomial.py:436: UserWarning: The value argument must be within the support of the distribution\n",
      "  warnings.warn(\n",
      "/opt/conda/envs/scvi/lib/python3.9/site-packages/scvi/distributions/_negative_binomial.py:436: UserWarning: The value argument must be within the support of the distribution\n",
      "  warnings.warn(\n"
     ]
    },
    {
     "name": "stdout",
     "output_type": "stream",
     "text": [
      "Epoch 40/100:  39%|███▉      | 39/100 [06:18<09:43,  9.57s/it, loss=968, v_num=1]"
     ]
    },
    {
     "name": "stderr",
     "output_type": "stream",
     "text": [
      "/opt/conda/envs/scvi/lib/python3.9/site-packages/scvi/distributions/_negative_binomial.py:436: UserWarning: The value argument must be within the support of the distribution\n",
      "  warnings.warn(\n",
      "/opt/conda/envs/scvi/lib/python3.9/site-packages/scvi/distributions/_negative_binomial.py:436: UserWarning: The value argument must be within the support of the distribution\n",
      "  warnings.warn(\n"
     ]
    },
    {
     "name": "stdout",
     "output_type": "stream",
     "text": [
      "Epoch 41/100:  40%|████      | 40/100 [06:28<09:40,  9.68s/it, loss=981, v_num=1]"
     ]
    },
    {
     "name": "stderr",
     "output_type": "stream",
     "text": [
      "/opt/conda/envs/scvi/lib/python3.9/site-packages/scvi/distributions/_negative_binomial.py:436: UserWarning: The value argument must be within the support of the distribution\n",
      "  warnings.warn(\n",
      "/opt/conda/envs/scvi/lib/python3.9/site-packages/scvi/distributions/_negative_binomial.py:436: UserWarning: The value argument must be within the support of the distribution\n",
      "  warnings.warn(\n"
     ]
    },
    {
     "name": "stdout",
     "output_type": "stream",
     "text": [
      "Epoch 42/100:  41%|████      | 41/100 [06:37<09:27,  9.62s/it, loss=943, v_num=1]"
     ]
    },
    {
     "name": "stderr",
     "output_type": "stream",
     "text": [
      "/opt/conda/envs/scvi/lib/python3.9/site-packages/scvi/distributions/_negative_binomial.py:436: UserWarning: The value argument must be within the support of the distribution\n",
      "  warnings.warn(\n",
      "/opt/conda/envs/scvi/lib/python3.9/site-packages/scvi/distributions/_negative_binomial.py:436: UserWarning: The value argument must be within the support of the distribution\n",
      "  warnings.warn(\n"
     ]
    },
    {
     "name": "stdout",
     "output_type": "stream",
     "text": [
      "Epoch 43/100:  42%|████▏     | 42/100 [06:47<09:15,  9.57s/it, loss=938, v_num=1]"
     ]
    },
    {
     "name": "stderr",
     "output_type": "stream",
     "text": [
      "/opt/conda/envs/scvi/lib/python3.9/site-packages/scvi/distributions/_negative_binomial.py:436: UserWarning: The value argument must be within the support of the distribution\n",
      "  warnings.warn(\n",
      "/opt/conda/envs/scvi/lib/python3.9/site-packages/scvi/distributions/_negative_binomial.py:436: UserWarning: The value argument must be within the support of the distribution\n",
      "  warnings.warn(\n"
     ]
    },
    {
     "name": "stdout",
     "output_type": "stream",
     "text": [
      "Epoch 44/100:  43%|████▎     | 43/100 [06:56<09:02,  9.52s/it, loss=939, v_num=1]"
     ]
    },
    {
     "name": "stderr",
     "output_type": "stream",
     "text": [
      "/opt/conda/envs/scvi/lib/python3.9/site-packages/scvi/distributions/_negative_binomial.py:436: UserWarning: The value argument must be within the support of the distribution\n",
      "  warnings.warn(\n",
      "/opt/conda/envs/scvi/lib/python3.9/site-packages/scvi/distributions/_negative_binomial.py:436: UserWarning: The value argument must be within the support of the distribution\n",
      "  warnings.warn(\n"
     ]
    },
    {
     "name": "stdout",
     "output_type": "stream",
     "text": [
      "Epoch 45/100:  44%|████▍     | 44/100 [07:07<09:06,  9.76s/it, loss=946, v_num=1]"
     ]
    },
    {
     "name": "stderr",
     "output_type": "stream",
     "text": [
      "/opt/conda/envs/scvi/lib/python3.9/site-packages/scvi/distributions/_negative_binomial.py:436: UserWarning: The value argument must be within the support of the distribution\n",
      "  warnings.warn(\n",
      "/opt/conda/envs/scvi/lib/python3.9/site-packages/scvi/distributions/_negative_binomial.py:436: UserWarning: The value argument must be within the support of the distribution\n",
      "  warnings.warn(\n"
     ]
    },
    {
     "name": "stdout",
     "output_type": "stream",
     "text": [
      "Epoch 46/100:  45%|████▌     | 45/100 [07:16<08:54,  9.72s/it, loss=939, v_num=1]"
     ]
    },
    {
     "name": "stderr",
     "output_type": "stream",
     "text": [
      "/opt/conda/envs/scvi/lib/python3.9/site-packages/scvi/distributions/_negative_binomial.py:436: UserWarning: The value argument must be within the support of the distribution\n",
      "  warnings.warn(\n",
      "/opt/conda/envs/scvi/lib/python3.9/site-packages/scvi/distributions/_negative_binomial.py:436: UserWarning: The value argument must be within the support of the distribution\n",
      "  warnings.warn(\n"
     ]
    },
    {
     "name": "stdout",
     "output_type": "stream",
     "text": [
      "Epoch 47/100:  46%|████▌     | 46/100 [07:26<08:42,  9.68s/it, loss=957, v_num=1]"
     ]
    },
    {
     "name": "stderr",
     "output_type": "stream",
     "text": [
      "/opt/conda/envs/scvi/lib/python3.9/site-packages/scvi/distributions/_negative_binomial.py:436: UserWarning: The value argument must be within the support of the distribution\n",
      "  warnings.warn(\n",
      "/opt/conda/envs/scvi/lib/python3.9/site-packages/scvi/distributions/_negative_binomial.py:436: UserWarning: The value argument must be within the support of the distribution\n",
      "  warnings.warn(\n"
     ]
    },
    {
     "name": "stdout",
     "output_type": "stream",
     "text": [
      "Epoch 48/100:  47%|████▋     | 47/100 [07:35<08:30,  9.64s/it, loss=962, v_num=1]"
     ]
    },
    {
     "name": "stderr",
     "output_type": "stream",
     "text": [
      "/opt/conda/envs/scvi/lib/python3.9/site-packages/scvi/distributions/_negative_binomial.py:436: UserWarning: The value argument must be within the support of the distribution\n",
      "  warnings.warn(\n",
      "/opt/conda/envs/scvi/lib/python3.9/site-packages/scvi/distributions/_negative_binomial.py:436: UserWarning: The value argument must be within the support of the distribution\n",
      "  warnings.warn(\n"
     ]
    },
    {
     "name": "stdout",
     "output_type": "stream",
     "text": [
      "Epoch 49/100:  48%|████▊     | 48/100 [07:45<08:20,  9.62s/it, loss=942, v_num=1]"
     ]
    },
    {
     "name": "stderr",
     "output_type": "stream",
     "text": [
      "/opt/conda/envs/scvi/lib/python3.9/site-packages/scvi/distributions/_negative_binomial.py:436: UserWarning: The value argument must be within the support of the distribution\n",
      "  warnings.warn(\n",
      "/opt/conda/envs/scvi/lib/python3.9/site-packages/scvi/distributions/_negative_binomial.py:436: UserWarning: The value argument must be within the support of the distribution\n",
      "  warnings.warn(\n"
     ]
    },
    {
     "name": "stdout",
     "output_type": "stream",
     "text": [
      "Epoch 50/100:  49%|████▉     | 49/100 [07:55<08:09,  9.61s/it, loss=932, v_num=1]"
     ]
    },
    {
     "name": "stderr",
     "output_type": "stream",
     "text": [
      "/opt/conda/envs/scvi/lib/python3.9/site-packages/scvi/distributions/_negative_binomial.py:436: UserWarning: The value argument must be within the support of the distribution\n",
      "  warnings.warn(\n",
      "/opt/conda/envs/scvi/lib/python3.9/site-packages/scvi/distributions/_negative_binomial.py:436: UserWarning: The value argument must be within the support of the distribution\n",
      "  warnings.warn(\n"
     ]
    },
    {
     "name": "stdout",
     "output_type": "stream",
     "text": [
      "Epoch 51/100:  50%|█████     | 50/100 [08:06<08:23, 10.07s/it, loss=949, v_num=1]"
     ]
    },
    {
     "name": "stderr",
     "output_type": "stream",
     "text": [
      "/opt/conda/envs/scvi/lib/python3.9/site-packages/scvi/distributions/_negative_binomial.py:436: UserWarning: The value argument must be within the support of the distribution\n",
      "  warnings.warn(\n",
      "/opt/conda/envs/scvi/lib/python3.9/site-packages/scvi/distributions/_negative_binomial.py:436: UserWarning: The value argument must be within the support of the distribution\n",
      "  warnings.warn(\n"
     ]
    },
    {
     "name": "stdout",
     "output_type": "stream",
     "text": [
      "Epoch 52/100:  51%|█████     | 51/100 [08:15<08:06,  9.93s/it, loss=986, v_num=1]"
     ]
    },
    {
     "name": "stderr",
     "output_type": "stream",
     "text": [
      "/opt/conda/envs/scvi/lib/python3.9/site-packages/scvi/distributions/_negative_binomial.py:436: UserWarning: The value argument must be within the support of the distribution\n",
      "  warnings.warn(\n",
      "/opt/conda/envs/scvi/lib/python3.9/site-packages/scvi/distributions/_negative_binomial.py:436: UserWarning: The value argument must be within the support of the distribution\n",
      "  warnings.warn(\n"
     ]
    },
    {
     "name": "stdout",
     "output_type": "stream",
     "text": [
      "Epoch 53/100:  52%|█████▏    | 52/100 [08:25<07:51,  9.83s/it, loss=950, v_num=1]"
     ]
    },
    {
     "name": "stderr",
     "output_type": "stream",
     "text": [
      "/opt/conda/envs/scvi/lib/python3.9/site-packages/scvi/distributions/_negative_binomial.py:436: UserWarning: The value argument must be within the support of the distribution\n",
      "  warnings.warn(\n",
      "/opt/conda/envs/scvi/lib/python3.9/site-packages/scvi/distributions/_negative_binomial.py:436: UserWarning: The value argument must be within the support of the distribution\n",
      "  warnings.warn(\n"
     ]
    },
    {
     "name": "stdout",
     "output_type": "stream",
     "text": [
      "Epoch 54/100:  53%|█████▎    | 53/100 [08:34<07:38,  9.75s/it, loss=955, v_num=1]"
     ]
    },
    {
     "name": "stderr",
     "output_type": "stream",
     "text": [
      "/opt/conda/envs/scvi/lib/python3.9/site-packages/scvi/distributions/_negative_binomial.py:436: UserWarning: The value argument must be within the support of the distribution\n",
      "  warnings.warn(\n",
      "/opt/conda/envs/scvi/lib/python3.9/site-packages/scvi/distributions/_negative_binomial.py:436: UserWarning: The value argument must be within the support of the distribution\n",
      "  warnings.warn(\n"
     ]
    },
    {
     "name": "stdout",
     "output_type": "stream",
     "text": [
      "Epoch 55/100:  54%|█████▍    | 54/100 [08:44<07:26,  9.70s/it, loss=958, v_num=1]"
     ]
    },
    {
     "name": "stderr",
     "output_type": "stream",
     "text": [
      "/opt/conda/envs/scvi/lib/python3.9/site-packages/scvi/distributions/_negative_binomial.py:436: UserWarning: The value argument must be within the support of the distribution\n",
      "  warnings.warn(\n",
      "/opt/conda/envs/scvi/lib/python3.9/site-packages/scvi/distributions/_negative_binomial.py:436: UserWarning: The value argument must be within the support of the distribution\n",
      "  warnings.warn(\n"
     ]
    },
    {
     "name": "stdout",
     "output_type": "stream",
     "text": [
      "Epoch 56/100:  55%|█████▌    | 55/100 [08:54<07:13,  9.64s/it, loss=933, v_num=1]"
     ]
    },
    {
     "name": "stderr",
     "output_type": "stream",
     "text": [
      "/opt/conda/envs/scvi/lib/python3.9/site-packages/scvi/distributions/_negative_binomial.py:436: UserWarning: The value argument must be within the support of the distribution\n",
      "  warnings.warn(\n",
      "/opt/conda/envs/scvi/lib/python3.9/site-packages/scvi/distributions/_negative_binomial.py:436: UserWarning: The value argument must be within the support of the distribution\n",
      "  warnings.warn(\n"
     ]
    },
    {
     "name": "stdout",
     "output_type": "stream",
     "text": [
      "Epoch 57/100:  56%|█████▌    | 56/100 [09:02<06:53,  9.39s/it, loss=939, v_num=1]"
     ]
    },
    {
     "name": "stderr",
     "output_type": "stream",
     "text": [
      "/opt/conda/envs/scvi/lib/python3.9/site-packages/scvi/distributions/_negative_binomial.py:436: UserWarning: The value argument must be within the support of the distribution\n",
      "  warnings.warn(\n",
      "/opt/conda/envs/scvi/lib/python3.9/site-packages/scvi/distributions/_negative_binomial.py:436: UserWarning: The value argument must be within the support of the distribution\n",
      "  warnings.warn(\n"
     ]
    },
    {
     "name": "stdout",
     "output_type": "stream",
     "text": [
      "Epoch 58/100:  57%|█████▋    | 57/100 [09:12<06:46,  9.46s/it, loss=955, v_num=1]"
     ]
    },
    {
     "name": "stderr",
     "output_type": "stream",
     "text": [
      "/opt/conda/envs/scvi/lib/python3.9/site-packages/scvi/distributions/_negative_binomial.py:436: UserWarning: The value argument must be within the support of the distribution\n",
      "  warnings.warn(\n",
      "/opt/conda/envs/scvi/lib/python3.9/site-packages/scvi/distributions/_negative_binomial.py:436: UserWarning: The value argument must be within the support of the distribution\n",
      "  warnings.warn(\n"
     ]
    },
    {
     "name": "stdout",
     "output_type": "stream",
     "text": [
      "Epoch 59/100:  58%|█████▊    | 58/100 [09:21<06:29,  9.27s/it, loss=969, v_num=1]"
     ]
    },
    {
     "name": "stderr",
     "output_type": "stream",
     "text": [
      "/opt/conda/envs/scvi/lib/python3.9/site-packages/scvi/distributions/_negative_binomial.py:436: UserWarning: The value argument must be within the support of the distribution\n",
      "  warnings.warn(\n",
      "/opt/conda/envs/scvi/lib/python3.9/site-packages/scvi/distributions/_negative_binomial.py:436: UserWarning: The value argument must be within the support of the distribution\n",
      "  warnings.warn(\n"
     ]
    },
    {
     "name": "stdout",
     "output_type": "stream",
     "text": [
      "Epoch 60/100:  59%|█████▉    | 59/100 [09:30<06:15,  9.15s/it, loss=951, v_num=1]"
     ]
    },
    {
     "name": "stderr",
     "output_type": "stream",
     "text": [
      "/opt/conda/envs/scvi/lib/python3.9/site-packages/scvi/distributions/_negative_binomial.py:436: UserWarning: The value argument must be within the support of the distribution\n",
      "  warnings.warn(\n",
      "/opt/conda/envs/scvi/lib/python3.9/site-packages/scvi/distributions/_negative_binomial.py:436: UserWarning: The value argument must be within the support of the distribution\n",
      "  warnings.warn(\n"
     ]
    },
    {
     "name": "stdout",
     "output_type": "stream",
     "text": [
      "Epoch 61/100:  60%|██████    | 60/100 [09:39<06:10,  9.27s/it, loss=954, v_num=1]"
     ]
    },
    {
     "name": "stderr",
     "output_type": "stream",
     "text": [
      "/opt/conda/envs/scvi/lib/python3.9/site-packages/scvi/distributions/_negative_binomial.py:436: UserWarning: The value argument must be within the support of the distribution\n",
      "  warnings.warn(\n",
      "/opt/conda/envs/scvi/lib/python3.9/site-packages/scvi/distributions/_negative_binomial.py:436: UserWarning: The value argument must be within the support of the distribution\n",
      "  warnings.warn(\n"
     ]
    },
    {
     "name": "stdout",
     "output_type": "stream",
     "text": [
      "Epoch 62/100:  61%|██████    | 61/100 [09:48<05:57,  9.17s/it, loss=974, v_num=1]"
     ]
    },
    {
     "name": "stderr",
     "output_type": "stream",
     "text": [
      "/opt/conda/envs/scvi/lib/python3.9/site-packages/scvi/distributions/_negative_binomial.py:436: UserWarning: The value argument must be within the support of the distribution\n",
      "  warnings.warn(\n",
      "/opt/conda/envs/scvi/lib/python3.9/site-packages/scvi/distributions/_negative_binomial.py:436: UserWarning: The value argument must be within the support of the distribution\n",
      "  warnings.warn(\n"
     ]
    },
    {
     "name": "stdout",
     "output_type": "stream",
     "text": [
      "Epoch 63/100:  62%|██████▏   | 62/100 [09:57<05:45,  9.09s/it, loss=964, v_num=1]"
     ]
    },
    {
     "name": "stderr",
     "output_type": "stream",
     "text": [
      "/opt/conda/envs/scvi/lib/python3.9/site-packages/scvi/distributions/_negative_binomial.py:436: UserWarning: The value argument must be within the support of the distribution\n",
      "  warnings.warn(\n",
      "/opt/conda/envs/scvi/lib/python3.9/site-packages/scvi/distributions/_negative_binomial.py:436: UserWarning: The value argument must be within the support of the distribution\n",
      "  warnings.warn(\n"
     ]
    },
    {
     "name": "stdout",
     "output_type": "stream",
     "text": [
      "Epoch 64/100:  63%|██████▎   | 63/100 [10:07<05:40,  9.21s/it, loss=959, v_num=1]"
     ]
    },
    {
     "name": "stderr",
     "output_type": "stream",
     "text": [
      "/opt/conda/envs/scvi/lib/python3.9/site-packages/scvi/distributions/_negative_binomial.py:436: UserWarning: The value argument must be within the support of the distribution\n",
      "  warnings.warn(\n",
      "/opt/conda/envs/scvi/lib/python3.9/site-packages/scvi/distributions/_negative_binomial.py:436: UserWarning: The value argument must be within the support of the distribution\n",
      "  warnings.warn(\n"
     ]
    },
    {
     "name": "stdout",
     "output_type": "stream",
     "text": [
      "Epoch 65/100:  64%|██████▍   | 64/100 [10:15<05:25,  9.04s/it, loss=951, v_num=1]"
     ]
    },
    {
     "name": "stderr",
     "output_type": "stream",
     "text": [
      "/opt/conda/envs/scvi/lib/python3.9/site-packages/scvi/distributions/_negative_binomial.py:436: UserWarning: The value argument must be within the support of the distribution\n",
      "  warnings.warn(\n",
      "/opt/conda/envs/scvi/lib/python3.9/site-packages/scvi/distributions/_negative_binomial.py:436: UserWarning: The value argument must be within the support of the distribution\n",
      "  warnings.warn(\n"
     ]
    },
    {
     "name": "stdout",
     "output_type": "stream",
     "text": [
      "Epoch 66/100:  65%|██████▌   | 65/100 [10:24<05:11,  8.90s/it, loss=964, v_num=1]"
     ]
    },
    {
     "name": "stderr",
     "output_type": "stream",
     "text": [
      "/opt/conda/envs/scvi/lib/python3.9/site-packages/scvi/distributions/_negative_binomial.py:436: UserWarning: The value argument must be within the support of the distribution\n",
      "  warnings.warn(\n",
      "/opt/conda/envs/scvi/lib/python3.9/site-packages/scvi/distributions/_negative_binomial.py:436: UserWarning: The value argument must be within the support of the distribution\n",
      "  warnings.warn(\n"
     ]
    },
    {
     "name": "stdout",
     "output_type": "stream",
     "text": [
      "Epoch 67/100:  66%|██████▌   | 66/100 [10:32<04:59,  8.81s/it, loss=945, v_num=1]"
     ]
    },
    {
     "name": "stderr",
     "output_type": "stream",
     "text": [
      "/opt/conda/envs/scvi/lib/python3.9/site-packages/scvi/distributions/_negative_binomial.py:436: UserWarning: The value argument must be within the support of the distribution\n",
      "  warnings.warn(\n",
      "/opt/conda/envs/scvi/lib/python3.9/site-packages/scvi/distributions/_negative_binomial.py:436: UserWarning: The value argument must be within the support of the distribution\n",
      "  warnings.warn(\n"
     ]
    },
    {
     "name": "stdout",
     "output_type": "stream",
     "text": [
      "Epoch 68/100:  67%|██████▋   | 67/100 [10:41<04:48,  8.74s/it, loss=954, v_num=1]"
     ]
    },
    {
     "name": "stderr",
     "output_type": "stream",
     "text": [
      "/opt/conda/envs/scvi/lib/python3.9/site-packages/scvi/distributions/_negative_binomial.py:436: UserWarning: The value argument must be within the support of the distribution\n",
      "  warnings.warn(\n",
      "/opt/conda/envs/scvi/lib/python3.9/site-packages/scvi/distributions/_negative_binomial.py:436: UserWarning: The value argument must be within the support of the distribution\n",
      "  warnings.warn(\n"
     ]
    },
    {
     "name": "stdout",
     "output_type": "stream",
     "text": [
      "Epoch 69/100:  68%|██████▊   | 68/100 [10:50<04:37,  8.68s/it, loss=955, v_num=1]"
     ]
    },
    {
     "name": "stderr",
     "output_type": "stream",
     "text": [
      "/opt/conda/envs/scvi/lib/python3.9/site-packages/scvi/distributions/_negative_binomial.py:436: UserWarning: The value argument must be within the support of the distribution\n",
      "  warnings.warn(\n",
      "/opt/conda/envs/scvi/lib/python3.9/site-packages/scvi/distributions/_negative_binomial.py:436: UserWarning: The value argument must be within the support of the distribution\n",
      "  warnings.warn(\n"
     ]
    },
    {
     "name": "stdout",
     "output_type": "stream",
     "text": [
      "Epoch 70/100:  69%|██████▉   | 69/100 [10:58<04:27,  8.64s/it, loss=952, v_num=1]"
     ]
    },
    {
     "name": "stderr",
     "output_type": "stream",
     "text": [
      "/opt/conda/envs/scvi/lib/python3.9/site-packages/scvi/distributions/_negative_binomial.py:436: UserWarning: The value argument must be within the support of the distribution\n",
      "  warnings.warn(\n",
      "/opt/conda/envs/scvi/lib/python3.9/site-packages/scvi/distributions/_negative_binomial.py:436: UserWarning: The value argument must be within the support of the distribution\n",
      "  warnings.warn(\n"
     ]
    },
    {
     "name": "stdout",
     "output_type": "stream",
     "text": [
      "Epoch 71/100:  70%|███████   | 70/100 [11:08<04:31,  9.06s/it, loss=989, v_num=1]"
     ]
    },
    {
     "name": "stderr",
     "output_type": "stream",
     "text": [
      "/opt/conda/envs/scvi/lib/python3.9/site-packages/scvi/distributions/_negative_binomial.py:436: UserWarning: The value argument must be within the support of the distribution\n",
      "  warnings.warn(\n",
      "/opt/conda/envs/scvi/lib/python3.9/site-packages/scvi/distributions/_negative_binomial.py:436: UserWarning: The value argument must be within the support of the distribution\n",
      "  warnings.warn(\n"
     ]
    },
    {
     "name": "stdout",
     "output_type": "stream",
     "text": [
      "Epoch 72/100:  71%|███████   | 71/100 [11:17<04:18,  8.92s/it, loss=970, v_num=1]"
     ]
    },
    {
     "name": "stderr",
     "output_type": "stream",
     "text": [
      "/opt/conda/envs/scvi/lib/python3.9/site-packages/scvi/distributions/_negative_binomial.py:436: UserWarning: The value argument must be within the support of the distribution\n",
      "  warnings.warn(\n",
      "/opt/conda/envs/scvi/lib/python3.9/site-packages/scvi/distributions/_negative_binomial.py:436: UserWarning: The value argument must be within the support of the distribution\n",
      "  warnings.warn(\n"
     ]
    },
    {
     "name": "stdout",
     "output_type": "stream",
     "text": [
      "Epoch 73/100:  72%|███████▏  | 72/100 [11:25<04:06,  8.80s/it, loss=946, v_num=1]"
     ]
    },
    {
     "name": "stderr",
     "output_type": "stream",
     "text": [
      "/opt/conda/envs/scvi/lib/python3.9/site-packages/scvi/distributions/_negative_binomial.py:436: UserWarning: The value argument must be within the support of the distribution\n",
      "  warnings.warn(\n",
      "/opt/conda/envs/scvi/lib/python3.9/site-packages/scvi/distributions/_negative_binomial.py:436: UserWarning: The value argument must be within the support of the distribution\n",
      "  warnings.warn(\n"
     ]
    },
    {
     "name": "stdout",
     "output_type": "stream",
     "text": [
      "Epoch 74/100:  73%|███████▎  | 73/100 [11:34<03:55,  8.73s/it, loss=951, v_num=1]"
     ]
    },
    {
     "name": "stderr",
     "output_type": "stream",
     "text": [
      "/opt/conda/envs/scvi/lib/python3.9/site-packages/scvi/distributions/_negative_binomial.py:436: UserWarning: The value argument must be within the support of the distribution\n",
      "  warnings.warn(\n",
      "/opt/conda/envs/scvi/lib/python3.9/site-packages/scvi/distributions/_negative_binomial.py:436: UserWarning: The value argument must be within the support of the distribution\n",
      "  warnings.warn(\n"
     ]
    },
    {
     "name": "stdout",
     "output_type": "stream",
     "text": [
      "Epoch 75/100:  74%|███████▍  | 74/100 [11:42<03:46,  8.72s/it, loss=950, v_num=1]"
     ]
    },
    {
     "name": "stderr",
     "output_type": "stream",
     "text": [
      "/opt/conda/envs/scvi/lib/python3.9/site-packages/scvi/distributions/_negative_binomial.py:436: UserWarning: The value argument must be within the support of the distribution\n",
      "  warnings.warn(\n",
      "/opt/conda/envs/scvi/lib/python3.9/site-packages/scvi/distributions/_negative_binomial.py:436: UserWarning: The value argument must be within the support of the distribution\n",
      "  warnings.warn(\n"
     ]
    },
    {
     "name": "stdout",
     "output_type": "stream",
     "text": [
      "Epoch 76/100:  75%|███████▌  | 75/100 [11:51<03:36,  8.66s/it, loss=937, v_num=1]"
     ]
    },
    {
     "name": "stderr",
     "output_type": "stream",
     "text": [
      "/opt/conda/envs/scvi/lib/python3.9/site-packages/scvi/distributions/_negative_binomial.py:436: UserWarning: The value argument must be within the support of the distribution\n",
      "  warnings.warn(\n",
      "/opt/conda/envs/scvi/lib/python3.9/site-packages/scvi/distributions/_negative_binomial.py:436: UserWarning: The value argument must be within the support of the distribution\n",
      "  warnings.warn(\n"
     ]
    },
    {
     "name": "stdout",
     "output_type": "stream",
     "text": [
      "Epoch 77/100:  76%|███████▌  | 76/100 [12:00<03:27,  8.64s/it, loss=948, v_num=1]"
     ]
    },
    {
     "name": "stderr",
     "output_type": "stream",
     "text": [
      "/opt/conda/envs/scvi/lib/python3.9/site-packages/scvi/distributions/_negative_binomial.py:436: UserWarning: The value argument must be within the support of the distribution\n",
      "  warnings.warn(\n",
      "/opt/conda/envs/scvi/lib/python3.9/site-packages/scvi/distributions/_negative_binomial.py:436: UserWarning: The value argument must be within the support of the distribution\n",
      "  warnings.warn(\n"
     ]
    },
    {
     "name": "stdout",
     "output_type": "stream",
     "text": [
      "Epoch 78/100:  77%|███████▋  | 77/100 [12:09<03:23,  8.86s/it, loss=938, v_num=1]"
     ]
    },
    {
     "name": "stderr",
     "output_type": "stream",
     "text": [
      "/opt/conda/envs/scvi/lib/python3.9/site-packages/scvi/distributions/_negative_binomial.py:436: UserWarning: The value argument must be within the support of the distribution\n",
      "  warnings.warn(\n",
      "/opt/conda/envs/scvi/lib/python3.9/site-packages/scvi/distributions/_negative_binomial.py:436: UserWarning: The value argument must be within the support of the distribution\n",
      "  warnings.warn(\n"
     ]
    },
    {
     "name": "stdout",
     "output_type": "stream",
     "text": [
      "Epoch 79/100:  78%|███████▊  | 78/100 [12:18<03:13,  8.77s/it, loss=949, v_num=1]"
     ]
    },
    {
     "name": "stderr",
     "output_type": "stream",
     "text": [
      "/opt/conda/envs/scvi/lib/python3.9/site-packages/scvi/distributions/_negative_binomial.py:436: UserWarning: The value argument must be within the support of the distribution\n",
      "  warnings.warn(\n",
      "/opt/conda/envs/scvi/lib/python3.9/site-packages/scvi/distributions/_negative_binomial.py:436: UserWarning: The value argument must be within the support of the distribution\n",
      "  warnings.warn(\n"
     ]
    },
    {
     "name": "stdout",
     "output_type": "stream",
     "text": [
      "Epoch 80/100:  79%|███████▉  | 79/100 [12:26<03:03,  8.72s/it, loss=962, v_num=1]"
     ]
    },
    {
     "name": "stderr",
     "output_type": "stream",
     "text": [
      "/opt/conda/envs/scvi/lib/python3.9/site-packages/scvi/distributions/_negative_binomial.py:436: UserWarning: The value argument must be within the support of the distribution\n",
      "  warnings.warn(\n",
      "/opt/conda/envs/scvi/lib/python3.9/site-packages/scvi/distributions/_negative_binomial.py:436: UserWarning: The value argument must be within the support of the distribution\n",
      "  warnings.warn(\n"
     ]
    },
    {
     "name": "stdout",
     "output_type": "stream",
     "text": [
      "Epoch 81/100:  80%|████████  | 80/100 [12:36<02:58,  8.94s/it, loss=951, v_num=1]"
     ]
    },
    {
     "name": "stderr",
     "output_type": "stream",
     "text": [
      "/opt/conda/envs/scvi/lib/python3.9/site-packages/scvi/distributions/_negative_binomial.py:436: UserWarning: The value argument must be within the support of the distribution\n",
      "  warnings.warn(\n",
      "/opt/conda/envs/scvi/lib/python3.9/site-packages/scvi/distributions/_negative_binomial.py:436: UserWarning: The value argument must be within the support of the distribution\n",
      "  warnings.warn(\n"
     ]
    },
    {
     "name": "stdout",
     "output_type": "stream",
     "text": [
      "Epoch 82/100:  81%|████████  | 81/100 [12:44<02:48,  8.85s/it, loss=948, v_num=1]"
     ]
    },
    {
     "name": "stderr",
     "output_type": "stream",
     "text": [
      "/opt/conda/envs/scvi/lib/python3.9/site-packages/scvi/distributions/_negative_binomial.py:436: UserWarning: The value argument must be within the support of the distribution\n",
      "  warnings.warn(\n",
      "/opt/conda/envs/scvi/lib/python3.9/site-packages/scvi/distributions/_negative_binomial.py:436: UserWarning: The value argument must be within the support of the distribution\n",
      "  warnings.warn(\n"
     ]
    },
    {
     "name": "stdout",
     "output_type": "stream",
     "text": [
      "Epoch 83/100:  82%|████████▏ | 82/100 [12:53<02:40,  8.92s/it, loss=929, v_num=1]"
     ]
    },
    {
     "name": "stderr",
     "output_type": "stream",
     "text": [
      "/opt/conda/envs/scvi/lib/python3.9/site-packages/scvi/distributions/_negative_binomial.py:436: UserWarning: The value argument must be within the support of the distribution\n",
      "  warnings.warn(\n",
      "/opt/conda/envs/scvi/lib/python3.9/site-packages/scvi/distributions/_negative_binomial.py:436: UserWarning: The value argument must be within the support of the distribution\n",
      "  warnings.warn(\n"
     ]
    },
    {
     "name": "stdout",
     "output_type": "stream",
     "text": [
      "Epoch 84/100:  83%|████████▎ | 83/100 [13:02<02:32,  8.99s/it, loss=965, v_num=1]"
     ]
    },
    {
     "name": "stderr",
     "output_type": "stream",
     "text": [
      "/opt/conda/envs/scvi/lib/python3.9/site-packages/scvi/distributions/_negative_binomial.py:436: UserWarning: The value argument must be within the support of the distribution\n",
      "  warnings.warn(\n",
      "/opt/conda/envs/scvi/lib/python3.9/site-packages/scvi/distributions/_negative_binomial.py:436: UserWarning: The value argument must be within the support of the distribution\n",
      "  warnings.warn(\n"
     ]
    },
    {
     "name": "stdout",
     "output_type": "stream",
     "text": [
      "Epoch 85/100:  84%|████████▍ | 84/100 [13:12<02:28,  9.28s/it, loss=937, v_num=1]"
     ]
    },
    {
     "name": "stderr",
     "output_type": "stream",
     "text": [
      "/opt/conda/envs/scvi/lib/python3.9/site-packages/scvi/distributions/_negative_binomial.py:436: UserWarning: The value argument must be within the support of the distribution\n",
      "  warnings.warn(\n",
      "/opt/conda/envs/scvi/lib/python3.9/site-packages/scvi/distributions/_negative_binomial.py:436: UserWarning: The value argument must be within the support of the distribution\n",
      "  warnings.warn(\n"
     ]
    },
    {
     "name": "stdout",
     "output_type": "stream",
     "text": [
      "Epoch 86/100:  85%|████████▌ | 85/100 [13:22<02:18,  9.25s/it, loss=953, v_num=1]"
     ]
    },
    {
     "name": "stderr",
     "output_type": "stream",
     "text": [
      "/opt/conda/envs/scvi/lib/python3.9/site-packages/scvi/distributions/_negative_binomial.py:436: UserWarning: The value argument must be within the support of the distribution\n",
      "  warnings.warn(\n",
      "/opt/conda/envs/scvi/lib/python3.9/site-packages/scvi/distributions/_negative_binomial.py:436: UserWarning: The value argument must be within the support of the distribution\n",
      "  warnings.warn(\n"
     ]
    },
    {
     "name": "stdout",
     "output_type": "stream",
     "text": [
      "Epoch 87/100:  86%|████████▌ | 86/100 [13:31<02:08,  9.21s/it, loss=950, v_num=1]"
     ]
    },
    {
     "name": "stderr",
     "output_type": "stream",
     "text": [
      "/opt/conda/envs/scvi/lib/python3.9/site-packages/scvi/distributions/_negative_binomial.py:436: UserWarning: The value argument must be within the support of the distribution\n",
      "  warnings.warn(\n",
      "/opt/conda/envs/scvi/lib/python3.9/site-packages/scvi/distributions/_negative_binomial.py:436: UserWarning: The value argument must be within the support of the distribution\n",
      "  warnings.warn(\n"
     ]
    },
    {
     "name": "stdout",
     "output_type": "stream",
     "text": [
      "Epoch 88/100:  87%|████████▋ | 87/100 [13:40<01:59,  9.16s/it, loss=940, v_num=1]"
     ]
    },
    {
     "name": "stderr",
     "output_type": "stream",
     "text": [
      "/opt/conda/envs/scvi/lib/python3.9/site-packages/scvi/distributions/_negative_binomial.py:436: UserWarning: The value argument must be within the support of the distribution\n",
      "  warnings.warn(\n",
      "/opt/conda/envs/scvi/lib/python3.9/site-packages/scvi/distributions/_negative_binomial.py:436: UserWarning: The value argument must be within the support of the distribution\n",
      "  warnings.warn(\n"
     ]
    },
    {
     "name": "stdout",
     "output_type": "stream",
     "text": [
      "Epoch 89/100:  88%|████████▊ | 88/100 [13:49<01:50,  9.17s/it, loss=974, v_num=1]"
     ]
    },
    {
     "name": "stderr",
     "output_type": "stream",
     "text": [
      "/opt/conda/envs/scvi/lib/python3.9/site-packages/scvi/distributions/_negative_binomial.py:436: UserWarning: The value argument must be within the support of the distribution\n",
      "  warnings.warn(\n",
      "/opt/conda/envs/scvi/lib/python3.9/site-packages/scvi/distributions/_negative_binomial.py:436: UserWarning: The value argument must be within the support of the distribution\n",
      "  warnings.warn(\n"
     ]
    },
    {
     "name": "stdout",
     "output_type": "stream",
     "text": [
      "Epoch 90/100:  89%|████████▉ | 89/100 [13:58<01:41,  9.21s/it, loss=949, v_num=1]"
     ]
    },
    {
     "name": "stderr",
     "output_type": "stream",
     "text": [
      "/opt/conda/envs/scvi/lib/python3.9/site-packages/scvi/distributions/_negative_binomial.py:436: UserWarning: The value argument must be within the support of the distribution\n",
      "  warnings.warn(\n",
      "/opt/conda/envs/scvi/lib/python3.9/site-packages/scvi/distributions/_negative_binomial.py:436: UserWarning: The value argument must be within the support of the distribution\n",
      "  warnings.warn(\n"
     ]
    },
    {
     "name": "stdout",
     "output_type": "stream",
     "text": [
      "Epoch 91/100:  90%|█████████ | 90/100 [14:09<01:36,  9.65s/it, loss=965, v_num=1]"
     ]
    },
    {
     "name": "stderr",
     "output_type": "stream",
     "text": [
      "/opt/conda/envs/scvi/lib/python3.9/site-packages/scvi/distributions/_negative_binomial.py:436: UserWarning: The value argument must be within the support of the distribution\n",
      "  warnings.warn(\n",
      "/opt/conda/envs/scvi/lib/python3.9/site-packages/scvi/distributions/_negative_binomial.py:436: UserWarning: The value argument must be within the support of the distribution\n",
      "  warnings.warn(\n"
     ]
    },
    {
     "name": "stdout",
     "output_type": "stream",
     "text": [
      "Epoch 92/100:  91%|█████████ | 91/100 [14:18<01:25,  9.48s/it, loss=948, v_num=1]"
     ]
    },
    {
     "name": "stderr",
     "output_type": "stream",
     "text": [
      "/opt/conda/envs/scvi/lib/python3.9/site-packages/scvi/distributions/_negative_binomial.py:436: UserWarning: The value argument must be within the support of the distribution\n",
      "  warnings.warn(\n",
      "/opt/conda/envs/scvi/lib/python3.9/site-packages/scvi/distributions/_negative_binomial.py:436: UserWarning: The value argument must be within the support of the distribution\n",
      "  warnings.warn(\n"
     ]
    },
    {
     "name": "stdout",
     "output_type": "stream",
     "text": [
      "Epoch 93/100:  92%|█████████▏| 92/100 [14:27<01:15,  9.39s/it, loss=963, v_num=1]"
     ]
    },
    {
     "name": "stderr",
     "output_type": "stream",
     "text": [
      "/opt/conda/envs/scvi/lib/python3.9/site-packages/scvi/distributions/_negative_binomial.py:436: UserWarning: The value argument must be within the support of the distribution\n",
      "  warnings.warn(\n",
      "/opt/conda/envs/scvi/lib/python3.9/site-packages/scvi/distributions/_negative_binomial.py:436: UserWarning: The value argument must be within the support of the distribution\n",
      "  warnings.warn(\n"
     ]
    },
    {
     "name": "stdout",
     "output_type": "stream",
     "text": [
      "Epoch 94/100:  93%|█████████▎| 93/100 [14:36<01:04,  9.27s/it, loss=939, v_num=1]"
     ]
    },
    {
     "name": "stderr",
     "output_type": "stream",
     "text": [
      "/opt/conda/envs/scvi/lib/python3.9/site-packages/scvi/distributions/_negative_binomial.py:436: UserWarning: The value argument must be within the support of the distribution\n",
      "  warnings.warn(\n",
      "/opt/conda/envs/scvi/lib/python3.9/site-packages/scvi/distributions/_negative_binomial.py:436: UserWarning: The value argument must be within the support of the distribution\n",
      "  warnings.warn(\n"
     ]
    },
    {
     "name": "stdout",
     "output_type": "stream",
     "text": [
      "Epoch 95/100:  94%|█████████▍| 94/100 [14:45<00:54,  9.16s/it, loss=911, v_num=1]"
     ]
    },
    {
     "name": "stderr",
     "output_type": "stream",
     "text": [
      "/opt/conda/envs/scvi/lib/python3.9/site-packages/scvi/distributions/_negative_binomial.py:436: UserWarning: The value argument must be within the support of the distribution\n",
      "  warnings.warn(\n",
      "/opt/conda/envs/scvi/lib/python3.9/site-packages/scvi/distributions/_negative_binomial.py:436: UserWarning: The value argument must be within the support of the distribution\n",
      "  warnings.warn(\n"
     ]
    },
    {
     "name": "stdout",
     "output_type": "stream",
     "text": [
      "Epoch 96/100:  95%|█████████▌| 95/100 [14:54<00:45,  9.06s/it, loss=932, v_num=1]"
     ]
    },
    {
     "name": "stderr",
     "output_type": "stream",
     "text": [
      "/opt/conda/envs/scvi/lib/python3.9/site-packages/scvi/distributions/_negative_binomial.py:436: UserWarning: The value argument must be within the support of the distribution\n",
      "  warnings.warn(\n",
      "/opt/conda/envs/scvi/lib/python3.9/site-packages/scvi/distributions/_negative_binomial.py:436: UserWarning: The value argument must be within the support of the distribution\n",
      "  warnings.warn(\n"
     ]
    },
    {
     "name": "stdout",
     "output_type": "stream",
     "text": [
      "Epoch 97/100:  96%|█████████▌| 96/100 [15:03<00:35,  9.00s/it, loss=958, v_num=1]"
     ]
    },
    {
     "name": "stderr",
     "output_type": "stream",
     "text": [
      "/opt/conda/envs/scvi/lib/python3.9/site-packages/scvi/distributions/_negative_binomial.py:436: UserWarning: The value argument must be within the support of the distribution\n",
      "  warnings.warn(\n",
      "/opt/conda/envs/scvi/lib/python3.9/site-packages/scvi/distributions/_negative_binomial.py:436: UserWarning: The value argument must be within the support of the distribution\n",
      "  warnings.warn(\n"
     ]
    },
    {
     "name": "stdout",
     "output_type": "stream",
     "text": [
      "Epoch 98/100:  97%|█████████▋| 97/100 [15:13<00:27,  9.26s/it, loss=972, v_num=1]"
     ]
    },
    {
     "name": "stderr",
     "output_type": "stream",
     "text": [
      "/opt/conda/envs/scvi/lib/python3.9/site-packages/scvi/distributions/_negative_binomial.py:436: UserWarning: The value argument must be within the support of the distribution\n",
      "  warnings.warn(\n",
      "/opt/conda/envs/scvi/lib/python3.9/site-packages/scvi/distributions/_negative_binomial.py:436: UserWarning: The value argument must be within the support of the distribution\n",
      "  warnings.warn(\n"
     ]
    },
    {
     "name": "stdout",
     "output_type": "stream",
     "text": [
      "Epoch 99/100:  98%|█████████▊| 98/100 [15:22<00:18,  9.20s/it, loss=931, v_num=1]"
     ]
    },
    {
     "name": "stderr",
     "output_type": "stream",
     "text": [
      "/opt/conda/envs/scvi/lib/python3.9/site-packages/scvi/distributions/_negative_binomial.py:436: UserWarning: The value argument must be within the support of the distribution\n",
      "  warnings.warn(\n",
      "/opt/conda/envs/scvi/lib/python3.9/site-packages/scvi/distributions/_negative_binomial.py:436: UserWarning: The value argument must be within the support of the distribution\n",
      "  warnings.warn(\n"
     ]
    },
    {
     "name": "stdout",
     "output_type": "stream",
     "text": [
      "Epoch 100/100:  99%|█████████▉| 99/100 [15:31<00:09,  9.13s/it, loss=984, v_num=1]"
     ]
    },
    {
     "name": "stderr",
     "output_type": "stream",
     "text": [
      "/opt/conda/envs/scvi/lib/python3.9/site-packages/scvi/distributions/_negative_binomial.py:436: UserWarning: The value argument must be within the support of the distribution\n",
      "  warnings.warn(\n",
      "/opt/conda/envs/scvi/lib/python3.9/site-packages/scvi/distributions/_negative_binomial.py:436: UserWarning: The value argument must be within the support of the distribution\n",
      "  warnings.warn(\n"
     ]
    },
    {
     "name": "stdout",
     "output_type": "stream",
     "text": [
      "Epoch 100/100: 100%|██████████| 100/100 [15:40<00:00,  9.41s/it, loss=945, v_num=1]\n"
     ]
    }
   ],
   "source": [
    "scanvi_query.train(\n",
    "    max_epochs=100, plan_kwargs=dict(weight_decay=0.0), check_val_every_n_epoch=10\n",
    ")"
   ]
  },
  {
   "cell_type": "code",
   "execution_count": 44,
   "id": "46d4cee9-2311-4a35-8d6c-6783dfd12c1c",
   "metadata": {},
   "outputs": [],
   "source": [
    "scanvi_query.save(\n",
    "    \"/home/jupyter/Epi_LI_revisions/Salas_scanvi20231227/model.pt\"\n",
    ")"
   ]
  },
  {
   "cell_type": "code",
   "execution_count": 45,
   "id": "bf5de6b0-f9d0-4e38-9361-64a54305cdc3",
   "metadata": {},
   "outputs": [],
   "source": [
    "disease_ad2.obsm[\"X_scANVI\"] = scanvi_query.get_latent_representation()"
   ]
  },
  {
   "cell_type": "code",
   "execution_count": 46,
   "id": "d5b5bc13-11d7-4abd-8fcd-5238741bbc84",
   "metadata": {},
   "outputs": [
    {
     "data": {
      "image/png": "[encoded data removed]",
      "text/plain": [
       "<Figure size 288x288 with 1 Axes>"
      ]
     },
     "metadata": {},
     "output_type": "display_data"
    }
   ],
   "source": [
    "sc.pp.neighbors(disease_ad2, use_rep=\"X_scANVI\")\n",
    "sc.tl.umap(disease_ad2)\n",
    "sc.pl.umap(disease_ad2, color=['disease'])"
   ]
  },
  {
   "cell_type": "code",
   "execution_count": 47,
   "id": "8703a54c-77ad-45e7-a1db-a97a10b13b92",
   "metadata": {},
   "outputs": [
    {
     "name": "stderr",
     "output_type": "stream",
     "text": [
      "/opt/conda/envs/scvi/lib/python3.9/site-packages/sklearn/base.py:450: UserWarning: X does not have valid feature names, but KNeighborsTransformer was fitted with feature names\n",
      "  warnings.warn(\n"
     ]
    },
    {
     "name": "stdout",
     "output_type": "stream",
     "text": [
      "finished!\n"
     ]
    }
   ],
   "source": [
    "labels, uncert = weighted_knn_transfer(\n",
    "        query_adata=disease_ad2,\n",
    "        query_adata_emb=\"X_scANVI\",\n",
    "        label_keys=\"fine_annot\",\n",
    "        knn_model=k_neighbors_transformer,\n",
    "        ref_adata_obs = adata.obs\n",
    "    )"
   ]
  },
  {
   "cell_type": "code",
   "execution_count": 48,
   "id": "ec125bb9-473b-483c-9f90-61869fb5cec1",
   "metadata": {},
   "outputs": [
    {
     "data": {
      "text/html": [
       "<div>\n",
       "<style scoped>\n",
       "    .dataframe tbody tr th:only-of-type {\n",
       "        vertical-align: middle;\n",
       "    }\n",
       "\n",
       "    .dataframe tbody tr th {\n",
       "        vertical-align: top;\n",
       "    }\n",
       "\n",
       "    .dataframe thead th {\n",
       "        text-align: right;\n",
       "    }\n",
       "</style>\n",
       "<table border=\"1\" class=\"dataframe\">\n",
       "  <thead>\n",
       "    <tr style=\"text-align: right;\">\n",
       "      <th></th>\n",
       "      <th>fine_annot</th>\n",
       "    </tr>\n",
       "    <tr>\n",
       "      <th>original_index</th>\n",
       "      <th></th>\n",
       "    </tr>\n",
       "  </thead>\n",
       "  <tbody>\n",
       "    <tr>\n",
       "      <th>SL_01_AAAGATGTCGAATCCA</th>\n",
       "      <td>Goblet</td>\n",
       "    </tr>\n",
       "    <tr>\n",
       "      <th>SL_01_AAAGTAGAGAGGTACC</th>\n",
       "      <td>Tuft</td>\n",
       "    </tr>\n",
       "    <tr>\n",
       "      <th>SL_01_AAAGTAGAGCCGATTT</th>\n",
       "      <td>Goblet</td>\n",
       "    </tr>\n",
       "    <tr>\n",
       "      <th>SL_01_AACCGCGTCGGAATCT</th>\n",
       "      <td>Colonocyte</td>\n",
       "    </tr>\n",
       "    <tr>\n",
       "      <th>SL_01_AACTCAGCACCCTATC</th>\n",
       "      <td>Tuft</td>\n",
       "    </tr>\n",
       "    <tr>\n",
       "      <th>...</th>\n",
       "      <td>...</td>\n",
       "    </tr>\n",
       "    <tr>\n",
       "      <th>SL_93_TTTGACTGTCCAGTTA</th>\n",
       "      <td>TA_cycling</td>\n",
       "    </tr>\n",
       "    <tr>\n",
       "      <th>SL_93_TTTGACTGTGCGACAA</th>\n",
       "      <td>Colonocyte</td>\n",
       "    </tr>\n",
       "    <tr>\n",
       "      <th>SL_93_TTTGATCAGACAAGCC</th>\n",
       "      <td>Colonocyte</td>\n",
       "    </tr>\n",
       "    <tr>\n",
       "      <th>SL_93_TTTGATCCAACCCGCA</th>\n",
       "      <td>BEST4</td>\n",
       "    </tr>\n",
       "    <tr>\n",
       "      <th>SL_93_TTTGGAGGTATTGCCA</th>\n",
       "      <td>Colonocyte</td>\n",
       "    </tr>\n",
       "  </tbody>\n",
       "</table>\n",
       "<p>77674 rows × 1 columns</p>\n",
       "</div>"
      ],
      "text/plain": [
       "                        fine_annot\n",
       "original_index                    \n",
       "SL_01_AAAGATGTCGAATCCA      Goblet\n",
       "SL_01_AAAGTAGAGAGGTACC        Tuft\n",
       "SL_01_AAAGTAGAGCCGATTT      Goblet\n",
       "SL_01_AACCGCGTCGGAATCT  Colonocyte\n",
       "SL_01_AACTCAGCACCCTATC        Tuft\n",
       "...                            ...\n",
       "SL_93_TTTGACTGTCCAGTTA  TA_cycling\n",
       "SL_93_TTTGACTGTGCGACAA  Colonocyte\n",
       "SL_93_TTTGATCAGACAAGCC  Colonocyte\n",
       "SL_93_TTTGATCCAACCCGCA       BEST4\n",
       "SL_93_TTTGGAGGTATTGCCA  Colonocyte\n",
       "\n",
       "[77674 rows x 1 columns]"
      ]
     },
     "execution_count": 48,
     "metadata": {},
     "output_type": "execute_result"
    }
   ],
   "source": [
    "labels"
   ]
  },
  {
   "cell_type": "code",
   "execution_count": 49,
   "id": "f4a3eef2-7828-4297-ae96-01b48ecacaac",
   "metadata": {},
   "outputs": [
    {
     "data": {
      "text/html": [
       "<div>\n",
       "<style scoped>\n",
       "    .dataframe tbody tr th:only-of-type {\n",
       "        vertical-align: middle;\n",
       "    }\n",
       "\n",
       "    .dataframe tbody tr th {\n",
       "        vertical-align: top;\n",
       "    }\n",
       "\n",
       "    .dataframe thead th {\n",
       "        text-align: right;\n",
       "    }\n",
       "</style>\n",
       "<table border=\"1\" class=\"dataframe\">\n",
       "  <thead>\n",
       "    <tr style=\"text-align: right;\">\n",
       "      <th></th>\n",
       "      <th>fine_annot</th>\n",
       "    </tr>\n",
       "    <tr>\n",
       "      <th>original_index</th>\n",
       "      <th></th>\n",
       "    </tr>\n",
       "  </thead>\n",
       "  <tbody>\n",
       "    <tr>\n",
       "      <th>SL_01_AAAGATGTCGAATCCA</th>\n",
       "      <td>0.020002</td>\n",
       "    </tr>\n",
       "    <tr>\n",
       "      <th>SL_01_AAAGTAGAGAGGTACC</th>\n",
       "      <td>0.0</td>\n",
       "    </tr>\n",
       "    <tr>\n",
       "      <th>SL_01_AAAGTAGAGCCGATTT</th>\n",
       "      <td>0.0</td>\n",
       "    </tr>\n",
       "    <tr>\n",
       "      <th>SL_01_AACCGCGTCGGAATCT</th>\n",
       "      <td>0.0</td>\n",
       "    </tr>\n",
       "    <tr>\n",
       "      <th>SL_01_AACTCAGCACCCTATC</th>\n",
       "      <td>0.0</td>\n",
       "    </tr>\n",
       "    <tr>\n",
       "      <th>...</th>\n",
       "      <td>...</td>\n",
       "    </tr>\n",
       "    <tr>\n",
       "      <th>SL_93_TTTGACTGTCCAGTTA</th>\n",
       "      <td>0.299891</td>\n",
       "    </tr>\n",
       "    <tr>\n",
       "      <th>SL_93_TTTGACTGTGCGACAA</th>\n",
       "      <td>0.280104</td>\n",
       "    </tr>\n",
       "    <tr>\n",
       "      <th>SL_93_TTTGATCAGACAAGCC</th>\n",
       "      <td>0.279992</td>\n",
       "    </tr>\n",
       "    <tr>\n",
       "      <th>SL_93_TTTGATCCAACCCGCA</th>\n",
       "      <td>0.580027</td>\n",
       "    </tr>\n",
       "    <tr>\n",
       "      <th>SL_93_TTTGGAGGTATTGCCA</th>\n",
       "      <td>0.319997</td>\n",
       "    </tr>\n",
       "  </tbody>\n",
       "</table>\n",
       "<p>77674 rows × 1 columns</p>\n",
       "</div>"
      ],
      "text/plain": [
       "                       fine_annot\n",
       "original_index                   \n",
       "SL_01_AAAGATGTCGAATCCA   0.020002\n",
       "SL_01_AAAGTAGAGAGGTACC        0.0\n",
       "SL_01_AAAGTAGAGCCGATTT        0.0\n",
       "SL_01_AACCGCGTCGGAATCT        0.0\n",
       "SL_01_AACTCAGCACCCTATC        0.0\n",
       "...                           ...\n",
       "SL_93_TTTGACTGTCCAGTTA   0.299891\n",
       "SL_93_TTTGACTGTGCGACAA   0.280104\n",
       "SL_93_TTTGATCAGACAAGCC   0.279992\n",
       "SL_93_TTTGATCCAACCCGCA   0.580027\n",
       "SL_93_TTTGGAGGTATTGCCA   0.319997\n",
       "\n",
       "[77674 rows x 1 columns]"
      ]
     },
     "execution_count": 49,
     "metadata": {},
     "output_type": "execute_result"
    }
   ],
   "source": [
    "uncert"
   ]
  },
  {
   "cell_type": "code",
   "execution_count": 50,
   "id": "7fda99db-42ab-4152-850a-38d68fd505f9",
   "metadata": {},
   "outputs": [],
   "source": [
    "disease_ad2.obs['fine_predicted_labels'] = labels['fine_annot']\n",
    "disease_ad2.obs['fine_predicted_labels_uncertainty'] = uncert['fine_annot']"
   ]
  },
  {
   "cell_type": "code",
   "execution_count": 51,
   "id": "90069f9c-662d-4be9-9ed3-536d025232aa",
   "metadata": {},
   "outputs": [
    {
     "data": {
      "image/png": "[encoded data removed]",
      "text/plain": [
       "<Figure size 288x288 with 1 Axes>"
      ]
     },
     "metadata": {},
     "output_type": "display_data"
    }
   ],
   "source": [
    "sc.pl.umap(disease_ad2, color=['fine_predicted_labels'])"
   ]
  },
  {
   "cell_type": "code",
   "execution_count": 52,
   "id": "1139a964-09db-40ee-b9dc-1b42c9815ccf",
   "metadata": {},
   "outputs": [
    {
     "data": {
      "image/png": "[encoded data removed]",
      "text/plain": [
       "<Figure size 288x288 with 2 Axes>"
      ]
     },
     "metadata": {
      "needs_background": "light"
     },
     "output_type": "display_data"
    }
   ],
   "source": [
    "sc.pl.umap(disease_ad2, color=['fine_predicted_labels_uncertainty'],cmap='OrRd')"
   ]
  },
  {
   "cell_type": "code",
   "execution_count": 53,
   "id": "dcff3bc0-7f52-4c33-a625-99facf66d2a2",
   "metadata": {},
   "outputs": [],
   "source": [
    "disease_ad2.obs[\"scanvi_pred\"] = scanvi_query.predict(disease_ad2)"
   ]
  },
  {
   "cell_type": "code",
   "execution_count": 54,
   "id": "d66036aa-abc2-496a-8362-7c88ef35a1df",
   "metadata": {},
   "outputs": [],
   "source": [
    "pd.DataFrame(\n",
    "    disease_ad2.obsm[\"X_scANVI\"],\n",
    "    index=disease_ad2.obs_names,\n",
    "    columns=[f\"LV{i+1}\" for i in range(disease_ad2.obsm[\"X_scANVI\"].shape[1])],\n",
    ").to_csv(\n",
    "    \"/home/jupyter/Epi_LI_revisions/Salas_Epi_LI_adult_20231205_scANVIobsm.csv.gz\"\n",
    ")"
   ]
  },
  {
   "cell_type": "code",
   "execution_count": 55,
   "id": "04986214-0f2e-451f-b5ea-d022af8a9686",
   "metadata": {},
   "outputs": [],
   "source": [
    "disease_ad2.obs.to_csv('/home/jupyter/Epi_LI_revisions/Salas_Epi_LI_adult_20231205_meta.csv')"
   ]
  },
  {
   "cell_type": "code",
   "execution_count": null,
   "id": "14c06f27-13b4-4259-b46e-c28f0bfa2942",
   "metadata": {},
   "outputs": [],
   "source": []
  }
 ],
 "metadata": {
  "environment": {
   "kernel": "scvi",
   "name": "pytorch-gpu.1-11.m93",
   "type": "gcloud",
   "uri": "gcr.io/deeplearning-platform-release/pytorch-gpu.1-11:m93"
  },
  "kernelspec": {
   "display_name": "Environment (scvi_env)",
   "language": "python",
   "name": "scvi"
  },
  "language_info": {
   "codemirror_mode": {
    "name": "ipython",
    "version": 3
   },
   "file_extension": ".py",
   "mimetype": "text/x-python",
   "name": "python",
   "nbconvert_exporter": "python",
   "pygments_lexer": "ipython3",
   "version": "3.9.13"
  }
 },
 "nbformat": 4,
 "nbformat_minor": 5
}
