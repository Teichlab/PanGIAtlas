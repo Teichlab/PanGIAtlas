{
 "cells": [
  {
   "cell_type": "code",
   "execution_count": 1,
   "id": "quantitative-criterion",
   "metadata": {},
   "outputs": [
    {
     "name": "stderr",
     "output_type": "stream",
     "text": [
      "Loading required package: viridisLite\n",
      "\n",
      "\n",
      "Attaching package: ‘dplyr’\n",
      "\n",
      "\n",
      "The following objects are masked from ‘package:data.table’:\n",
      "\n",
      "    between, first, last\n",
      "\n",
      "\n",
      "The following objects are masked from ‘package:stats’:\n",
      "\n",
      "    filter, lag\n",
      "\n",
      "\n",
      "The following objects are masked from ‘package:base’:\n",
      "\n",
      "    intersect, setdiff, setequal, union\n",
      "\n",
      "\n",
      "\n",
      "Attaching package: ‘scales’\n",
      "\n",
      "\n",
      "The following object is masked from ‘package:viridis’:\n",
      "\n",
      "    viridis_pal\n",
      "\n",
      "\n",
      "Loading required package: gridExtra\n",
      "\n",
      "\n",
      "Attaching package: ‘gridExtra’\n",
      "\n",
      "\n",
      "The following object is masked from ‘package:dplyr’:\n",
      "\n",
      "    combine\n",
      "\n",
      "\n"
     ]
    }
   ],
   "source": [
    "library(ggplot2)\n",
    "library(data.table)\n",
    "library(viridis)\n",
    "library(dplyr)\n",
    "library(RColorBrewer)\n",
    "library(scales)\n",
    "\n",
    "library(egg)\n",
    "library(grid)"
   ]
  },
  {
   "cell_type": "markdown",
   "id": "precise-language",
   "metadata": {},
   "source": [
    "Metadata color schemes:\n",
    "https://docs.google.com/document/d/1aoHiYCidordBpsvrk81forVNbjq4PPanLEfFkQs2knA/edit\n"
   ]
  },
  {
   "cell_type": "markdown",
   "id": "modern-seven",
   "metadata": {},
   "source": [
    "# Load megagut metadata"
   ]
  },
  {
   "cell_type": "code",
   "execution_count": 2,
   "id": "arranged-frederick",
   "metadata": {},
   "outputs": [],
   "source": [
    "# Metadata from Amanda, cells\n",
    "meta = fread(\"/nfs/team205/ao15/Megagut/Annotations_v3/metadata/pooled_healthy.no_doublets.annot_all_levels.updated_donorID.20230126.metadata_update.20230421.csv\")"
   ]
  },
  {
   "cell_type": "code",
   "execution_count": 3,
   "id": "southwest-favorite",
   "metadata": {},
   "outputs": [
    {
     "data": {
      "text/html": [
       "<style>\n",
       ".list-inline {list-style: none; margin:0; padding: 0}\n",
       ".list-inline>li {display: inline-block}\n",
       ".list-inline>li:not(:last-child)::after {content: \"\\00b7\"; padding: 0 .5ex}\n",
       "</style>\n",
       "<ol class=list-inline><li>1077241</li><li>123</li></ol>\n"
      ],
      "text/latex": [
       "\\begin{enumerate*}\n",
       "\\item 1077241\n",
       "\\item 123\n",
       "\\end{enumerate*}\n"
      ],
      "text/markdown": [
       "1. 1077241\n",
       "2. 123\n",
       "\n",
       "\n"
      ],
      "text/plain": [
       "[1] 1077241     123"
      ]
     },
     "metadata": {},
     "output_type": "display_data"
    }
   ],
   "source": [
    "dim(meta)"
   ]
  },
  {
   "cell_type": "code",
   "execution_count": 4,
   "id": "renewable-stadium",
   "metadata": {},
   "outputs": [
    {
     "data": {
      "text/html": [
       "<style>\n",
       ".list-inline {list-style: none; margin:0; padding: 0}\n",
       ".list-inline>li {display: inline-block}\n",
       ".list-inline>li:not(:last-child)::after {content: \"\\00b7\"; padding: 0 .5ex}\n",
       "</style>\n",
       "<ol class=list-inline><li>'index'</li><li>'latent_cell_probability'</li><li>'latent_RT_efficiency'</li><li>'cecilia22_predH'</li><li>'cecilia22_predH_prob'</li><li>'cecilia22_predH_uncertain'</li><li>'cecilia22_predL'</li><li>'cecilia22_predL_prob'</li><li>'cecilia22_predL_uncertain'</li><li>'elmentaite21_pred'</li><li>'elmentaite21_pred_prob'</li><li>'elmentaite21_pred_uncertain'</li><li>'suo22_pred'</li><li>'suo22_pred_prob'</li><li>'suo22_pred_uncertain'</li><li>'n_counts'</li><li>'log1p_n_counts'</li><li>'n_genes'</li><li>'log1p_n_genes'</li><li>'percent_mito'</li><li>'n_counts_mito'</li><li>'percent_ribo'</li><li>'n_counts_ribo'</li><li>'percent_hb'</li><li>'n_counts_hb'</li><li>'percent_top50'</li><li>'n_counts_raw'</li><li>'log1p_n_counts_raw'</li><li>'n_genes_raw'</li><li>'log1p_n_genes_raw'</li><li>'percent_mito_raw'</li><li>'n_counts_mito_raw'</li><li>'percent_ribo_raw'</li><li>'n_counts_ribo_raw'</li><li>'percent_hb_raw'</li><li>'n_counts_hb_raw'</li><li>'percent_top50_raw'</li><li>'n_counts_spliced'</li><li>'log1p_n_counts_spliced'</li><li>'n_genes_spliced'</li><li>'log1p_n_genes_spliced'</li><li>'percent_mito_spliced'</li><li>'n_counts_mito_spliced'</li><li>'percent_ribo_spliced'</li><li>'n_counts_ribo_spliced'</li><li>'percent_hb_spliced'</li><li>'n_counts_hb_spliced'</li><li>'percent_top50_spliced'</li><li>'n_counts_unspliced'</li><li>'log1p_n_counts_unspliced'</li><li>'n_genes_unspliced'</li><li>'log1p_n_genes_unspliced'</li><li>'percent_mito_unspliced'</li><li>'n_counts_mito_unspliced'</li><li>'percent_ribo_unspliced'</li><li>'n_counts_ribo_unspliced'</li><li>'percent_hb_unspliced'</li><li>'n_counts_hb_unspliced'</li><li>'percent_top50_unspliced'</li><li>'percent_soup'</li><li>'percent_spliced'</li><li>'qc_cluster'</li><li>'pass_auto_filter_mito20'</li><li>'good_qc_cluster_mito20'</li><li>'pass_auto_filter_mito50'</li><li>'good_qc_cluster_mito50'</li><li>'pass_auto_filter_mito80'</li><li>'good_qc_cluster_mito80'</li><li>'pass_auto_filter'</li><li>'good_qc_cluster'</li><li>'pass_default'</li><li>'sampleID'</li><li>'sourceID'</li><li>'donorID_original'</li><li>'study'</li><li>'donorID_corrected'</li><li>'donorID_unified'</li><li>'donor_category'</li><li>'donor_disease'</li><li>'organ_original'</li><li>'organ_unified'</li><li>'organ_broad'</li><li>'age_original'</li><li>'age_unified'</li><li>'age_continuousadult'</li><li>'age_continuousdev'</li><li>'sex'</li><li>'sample_type'</li><li>'sample_category'</li><li>'sample_retrieval'</li><li>'tissue_fraction'</li><li>'cell_fraction'</li><li>'cell_fraction_unified'</li><li>'cell_sorting'</li><li>'technology'</li><li>'include_150722'</li><li>'cluster_scrublet_score'</li><li>'bh_pval'</li><li>'scrublet_score'</li><li>'scrublet_score_z'</li><li>'scrublet_done'</li><li>'doublet'</li><li>'stringent_doublet'</li><li>'integration_grouping'</li><li>'_scvi_batch'</li><li>'_scvi_labels'</li><li>'broad_annot_20220914'</li><li>'martin19_pred'</li><li>'martin19_pred_prob'</li><li>'martin19_pred_uncertain'</li><li>'warner20_pred'</li><li>'warner20_pred_prob'</li><li>'warner20_pred_uncertain'</li><li>'broad_annot_20220917'</li><li>'donor_organ_lineage'</li><li>'fine_annot'</li><li>'fine_annot_original'</li><li>'level_1_annot'</li><li>'level_2_annot'</li><li>'level_3_annot'</li><li>'organ_groups'</li><li>'disease'</li><li>'control_vs_disease'</li></ol>\n"
      ],
      "text/latex": [
       "\\begin{enumerate*}\n",
       "\\item 'index'\n",
       "\\item 'latent\\_cell\\_probability'\n",
       "\\item 'latent\\_RT\\_efficiency'\n",
       "\\item 'cecilia22\\_predH'\n",
       "\\item 'cecilia22\\_predH\\_prob'\n",
       "\\item 'cecilia22\\_predH\\_uncertain'\n",
       "\\item 'cecilia22\\_predL'\n",
       "\\item 'cecilia22\\_predL\\_prob'\n",
       "\\item 'cecilia22\\_predL\\_uncertain'\n",
       "\\item 'elmentaite21\\_pred'\n",
       "\\item 'elmentaite21\\_pred\\_prob'\n",
       "\\item 'elmentaite21\\_pred\\_uncertain'\n",
       "\\item 'suo22\\_pred'\n",
       "\\item 'suo22\\_pred\\_prob'\n",
       "\\item 'suo22\\_pred\\_uncertain'\n",
       "\\item 'n\\_counts'\n",
       "\\item 'log1p\\_n\\_counts'\n",
       "\\item 'n\\_genes'\n",
       "\\item 'log1p\\_n\\_genes'\n",
       "\\item 'percent\\_mito'\n",
       "\\item 'n\\_counts\\_mito'\n",
       "\\item 'percent\\_ribo'\n",
       "\\item 'n\\_counts\\_ribo'\n",
       "\\item 'percent\\_hb'\n",
       "\\item 'n\\_counts\\_hb'\n",
       "\\item 'percent\\_top50'\n",
       "\\item 'n\\_counts\\_raw'\n",
       "\\item 'log1p\\_n\\_counts\\_raw'\n",
       "\\item 'n\\_genes\\_raw'\n",
       "\\item 'log1p\\_n\\_genes\\_raw'\n",
       "\\item 'percent\\_mito\\_raw'\n",
       "\\item 'n\\_counts\\_mito\\_raw'\n",
       "\\item 'percent\\_ribo\\_raw'\n",
       "\\item 'n\\_counts\\_ribo\\_raw'\n",
       "\\item 'percent\\_hb\\_raw'\n",
       "\\item 'n\\_counts\\_hb\\_raw'\n",
       "\\item 'percent\\_top50\\_raw'\n",
       "\\item 'n\\_counts\\_spliced'\n",
       "\\item 'log1p\\_n\\_counts\\_spliced'\n",
       "\\item 'n\\_genes\\_spliced'\n",
       "\\item 'log1p\\_n\\_genes\\_spliced'\n",
       "\\item 'percent\\_mito\\_spliced'\n",
       "\\item 'n\\_counts\\_mito\\_spliced'\n",
       "\\item 'percent\\_ribo\\_spliced'\n",
       "\\item 'n\\_counts\\_ribo\\_spliced'\n",
       "\\item 'percent\\_hb\\_spliced'\n",
       "\\item 'n\\_counts\\_hb\\_spliced'\n",
       "\\item 'percent\\_top50\\_spliced'\n",
       "\\item 'n\\_counts\\_unspliced'\n",
       "\\item 'log1p\\_n\\_counts\\_unspliced'\n",
       "\\item 'n\\_genes\\_unspliced'\n",
       "\\item 'log1p\\_n\\_genes\\_unspliced'\n",
       "\\item 'percent\\_mito\\_unspliced'\n",
       "\\item 'n\\_counts\\_mito\\_unspliced'\n",
       "\\item 'percent\\_ribo\\_unspliced'\n",
       "\\item 'n\\_counts\\_ribo\\_unspliced'\n",
       "\\item 'percent\\_hb\\_unspliced'\n",
       "\\item 'n\\_counts\\_hb\\_unspliced'\n",
       "\\item 'percent\\_top50\\_unspliced'\n",
       "\\item 'percent\\_soup'\n",
       "\\item 'percent\\_spliced'\n",
       "\\item 'qc\\_cluster'\n",
       "\\item 'pass\\_auto\\_filter\\_mito20'\n",
       "\\item 'good\\_qc\\_cluster\\_mito20'\n",
       "\\item 'pass\\_auto\\_filter\\_mito50'\n",
       "\\item 'good\\_qc\\_cluster\\_mito50'\n",
       "\\item 'pass\\_auto\\_filter\\_mito80'\n",
       "\\item 'good\\_qc\\_cluster\\_mito80'\n",
       "\\item 'pass\\_auto\\_filter'\n",
       "\\item 'good\\_qc\\_cluster'\n",
       "\\item 'pass\\_default'\n",
       "\\item 'sampleID'\n",
       "\\item 'sourceID'\n",
       "\\item 'donorID\\_original'\n",
       "\\item 'study'\n",
       "\\item 'donorID\\_corrected'\n",
       "\\item 'donorID\\_unified'\n",
       "\\item 'donor\\_category'\n",
       "\\item 'donor\\_disease'\n",
       "\\item 'organ\\_original'\n",
       "\\item 'organ\\_unified'\n",
       "\\item 'organ\\_broad'\n",
       "\\item 'age\\_original'\n",
       "\\item 'age\\_unified'\n",
       "\\item 'age\\_continuousadult'\n",
       "\\item 'age\\_continuousdev'\n",
       "\\item 'sex'\n",
       "\\item 'sample\\_type'\n",
       "\\item 'sample\\_category'\n",
       "\\item 'sample\\_retrieval'\n",
       "\\item 'tissue\\_fraction'\n",
       "\\item 'cell\\_fraction'\n",
       "\\item 'cell\\_fraction\\_unified'\n",
       "\\item 'cell\\_sorting'\n",
       "\\item 'technology'\n",
       "\\item 'include\\_150722'\n",
       "\\item 'cluster\\_scrublet\\_score'\n",
       "\\item 'bh\\_pval'\n",
       "\\item 'scrublet\\_score'\n",
       "\\item 'scrublet\\_score\\_z'\n",
       "\\item 'scrublet\\_done'\n",
       "\\item 'doublet'\n",
       "\\item 'stringent\\_doublet'\n",
       "\\item 'integration\\_grouping'\n",
       "\\item '\\_scvi\\_batch'\n",
       "\\item '\\_scvi\\_labels'\n",
       "\\item 'broad\\_annot\\_20220914'\n",
       "\\item 'martin19\\_pred'\n",
       "\\item 'martin19\\_pred\\_prob'\n",
       "\\item 'martin19\\_pred\\_uncertain'\n",
       "\\item 'warner20\\_pred'\n",
       "\\item 'warner20\\_pred\\_prob'\n",
       "\\item 'warner20\\_pred\\_uncertain'\n",
       "\\item 'broad\\_annot\\_20220917'\n",
       "\\item 'donor\\_organ\\_lineage'\n",
       "\\item 'fine\\_annot'\n",
       "\\item 'fine\\_annot\\_original'\n",
       "\\item 'level\\_1\\_annot'\n",
       "\\item 'level\\_2\\_annot'\n",
       "\\item 'level\\_3\\_annot'\n",
       "\\item 'organ\\_groups'\n",
       "\\item 'disease'\n",
       "\\item 'control\\_vs\\_disease'\n",
       "\\end{enumerate*}\n"
      ],
      "text/markdown": [
       "1. 'index'\n",
       "2. 'latent_cell_probability'\n",
       "3. 'latent_RT_efficiency'\n",
       "4. 'cecilia22_predH'\n",
       "5. 'cecilia22_predH_prob'\n",
       "6. 'cecilia22_predH_uncertain'\n",
       "7. 'cecilia22_predL'\n",
       "8. 'cecilia22_predL_prob'\n",
       "9. 'cecilia22_predL_uncertain'\n",
       "10. 'elmentaite21_pred'\n",
       "11. 'elmentaite21_pred_prob'\n",
       "12. 'elmentaite21_pred_uncertain'\n",
       "13. 'suo22_pred'\n",
       "14. 'suo22_pred_prob'\n",
       "15. 'suo22_pred_uncertain'\n",
       "16. 'n_counts'\n",
       "17. 'log1p_n_counts'\n",
       "18. 'n_genes'\n",
       "19. 'log1p_n_genes'\n",
       "20. 'percent_mito'\n",
       "21. 'n_counts_mito'\n",
       "22. 'percent_ribo'\n",
       "23. 'n_counts_ribo'\n",
       "24. 'percent_hb'\n",
       "25. 'n_counts_hb'\n",
       "26. 'percent_top50'\n",
       "27. 'n_counts_raw'\n",
       "28. 'log1p_n_counts_raw'\n",
       "29. 'n_genes_raw'\n",
       "30. 'log1p_n_genes_raw'\n",
       "31. 'percent_mito_raw'\n",
       "32. 'n_counts_mito_raw'\n",
       "33. 'percent_ribo_raw'\n",
       "34. 'n_counts_ribo_raw'\n",
       "35. 'percent_hb_raw'\n",
       "36. 'n_counts_hb_raw'\n",
       "37. 'percent_top50_raw'\n",
       "38. 'n_counts_spliced'\n",
       "39. 'log1p_n_counts_spliced'\n",
       "40. 'n_genes_spliced'\n",
       "41. 'log1p_n_genes_spliced'\n",
       "42. 'percent_mito_spliced'\n",
       "43. 'n_counts_mito_spliced'\n",
       "44. 'percent_ribo_spliced'\n",
       "45. 'n_counts_ribo_spliced'\n",
       "46. 'percent_hb_spliced'\n",
       "47. 'n_counts_hb_spliced'\n",
       "48. 'percent_top50_spliced'\n",
       "49. 'n_counts_unspliced'\n",
       "50. 'log1p_n_counts_unspliced'\n",
       "51. 'n_genes_unspliced'\n",
       "52. 'log1p_n_genes_unspliced'\n",
       "53. 'percent_mito_unspliced'\n",
       "54. 'n_counts_mito_unspliced'\n",
       "55. 'percent_ribo_unspliced'\n",
       "56. 'n_counts_ribo_unspliced'\n",
       "57. 'percent_hb_unspliced'\n",
       "58. 'n_counts_hb_unspliced'\n",
       "59. 'percent_top50_unspliced'\n",
       "60. 'percent_soup'\n",
       "61. 'percent_spliced'\n",
       "62. 'qc_cluster'\n",
       "63. 'pass_auto_filter_mito20'\n",
       "64. 'good_qc_cluster_mito20'\n",
       "65. 'pass_auto_filter_mito50'\n",
       "66. 'good_qc_cluster_mito50'\n",
       "67. 'pass_auto_filter_mito80'\n",
       "68. 'good_qc_cluster_mito80'\n",
       "69. 'pass_auto_filter'\n",
       "70. 'good_qc_cluster'\n",
       "71. 'pass_default'\n",
       "72. 'sampleID'\n",
       "73. 'sourceID'\n",
       "74. 'donorID_original'\n",
       "75. 'study'\n",
       "76. 'donorID_corrected'\n",
       "77. 'donorID_unified'\n",
       "78. 'donor_category'\n",
       "79. 'donor_disease'\n",
       "80. 'organ_original'\n",
       "81. 'organ_unified'\n",
       "82. 'organ_broad'\n",
       "83. 'age_original'\n",
       "84. 'age_unified'\n",
       "85. 'age_continuousadult'\n",
       "86. 'age_continuousdev'\n",
       "87. 'sex'\n",
       "88. 'sample_type'\n",
       "89. 'sample_category'\n",
       "90. 'sample_retrieval'\n",
       "91. 'tissue_fraction'\n",
       "92. 'cell_fraction'\n",
       "93. 'cell_fraction_unified'\n",
       "94. 'cell_sorting'\n",
       "95. 'technology'\n",
       "96. 'include_150722'\n",
       "97. 'cluster_scrublet_score'\n",
       "98. 'bh_pval'\n",
       "99. 'scrublet_score'\n",
       "100. 'scrublet_score_z'\n",
       "101. 'scrublet_done'\n",
       "102. 'doublet'\n",
       "103. 'stringent_doublet'\n",
       "104. 'integration_grouping'\n",
       "105. '_scvi_batch'\n",
       "106. '_scvi_labels'\n",
       "107. 'broad_annot_20220914'\n",
       "108. 'martin19_pred'\n",
       "109. 'martin19_pred_prob'\n",
       "110. 'martin19_pred_uncertain'\n",
       "111. 'warner20_pred'\n",
       "112. 'warner20_pred_prob'\n",
       "113. 'warner20_pred_uncertain'\n",
       "114. 'broad_annot_20220917'\n",
       "115. 'donor_organ_lineage'\n",
       "116. 'fine_annot'\n",
       "117. 'fine_annot_original'\n",
       "118. 'level_1_annot'\n",
       "119. 'level_2_annot'\n",
       "120. 'level_3_annot'\n",
       "121. 'organ_groups'\n",
       "122. 'disease'\n",
       "123. 'control_vs_disease'\n",
       "\n",
       "\n"
      ],
      "text/plain": [
       "  [1] \"index\"                       \"latent_cell_probability\"    \n",
       "  [3] \"latent_RT_efficiency\"        \"cecilia22_predH\"            \n",
       "  [5] \"cecilia22_predH_prob\"        \"cecilia22_predH_uncertain\"  \n",
       "  [7] \"cecilia22_predL\"             \"cecilia22_predL_prob\"       \n",
       "  [9] \"cecilia22_predL_uncertain\"   \"elmentaite21_pred\"          \n",
       " [11] \"elmentaite21_pred_prob\"      \"elmentaite21_pred_uncertain\"\n",
       " [13] \"suo22_pred\"                  \"suo22_pred_prob\"            \n",
       " [15] \"suo22_pred_uncertain\"        \"n_counts\"                   \n",
       " [17] \"log1p_n_counts\"              \"n_genes\"                    \n",
       " [19] \"log1p_n_genes\"               \"percent_mito\"               \n",
       " [21] \"n_counts_mito\"               \"percent_ribo\"               \n",
       " [23] \"n_counts_ribo\"               \"percent_hb\"                 \n",
       " [25] \"n_counts_hb\"                 \"percent_top50\"              \n",
       " [27] \"n_counts_raw\"                \"log1p_n_counts_raw\"         \n",
       " [29] \"n_genes_raw\"                 \"log1p_n_genes_raw\"          \n",
       " [31] \"percent_mito_raw\"            \"n_counts_mito_raw\"          \n",
       " [33] \"percent_ribo_raw\"            \"n_counts_ribo_raw\"          \n",
       " [35] \"percent_hb_raw\"              \"n_counts_hb_raw\"            \n",
       " [37] \"percent_top50_raw\"           \"n_counts_spliced\"           \n",
       " [39] \"log1p_n_counts_spliced\"      \"n_genes_spliced\"            \n",
       " [41] \"log1p_n_genes_spliced\"       \"percent_mito_spliced\"       \n",
       " [43] \"n_counts_mito_spliced\"       \"percent_ribo_spliced\"       \n",
       " [45] \"n_counts_ribo_spliced\"       \"percent_hb_spliced\"         \n",
       " [47] \"n_counts_hb_spliced\"         \"percent_top50_spliced\"      \n",
       " [49] \"n_counts_unspliced\"          \"log1p_n_counts_unspliced\"   \n",
       " [51] \"n_genes_unspliced\"           \"log1p_n_genes_unspliced\"    \n",
       " [53] \"percent_mito_unspliced\"      \"n_counts_mito_unspliced\"    \n",
       " [55] \"percent_ribo_unspliced\"      \"n_counts_ribo_unspliced\"    \n",
       " [57] \"percent_hb_unspliced\"        \"n_counts_hb_unspliced\"      \n",
       " [59] \"percent_top50_unspliced\"     \"percent_soup\"               \n",
       " [61] \"percent_spliced\"             \"qc_cluster\"                 \n",
       " [63] \"pass_auto_filter_mito20\"     \"good_qc_cluster_mito20\"     \n",
       " [65] \"pass_auto_filter_mito50\"     \"good_qc_cluster_mito50\"     \n",
       " [67] \"pass_auto_filter_mito80\"     \"good_qc_cluster_mito80\"     \n",
       " [69] \"pass_auto_filter\"            \"good_qc_cluster\"            \n",
       " [71] \"pass_default\"                \"sampleID\"                   \n",
       " [73] \"sourceID\"                    \"donorID_original\"           \n",
       " [75] \"study\"                       \"donorID_corrected\"          \n",
       " [77] \"donorID_unified\"             \"donor_category\"             \n",
       " [79] \"donor_disease\"               \"organ_original\"             \n",
       " [81] \"organ_unified\"               \"organ_broad\"                \n",
       " [83] \"age_original\"                \"age_unified\"                \n",
       " [85] \"age_continuousadult\"         \"age_continuousdev\"          \n",
       " [87] \"sex\"                         \"sample_type\"                \n",
       " [89] \"sample_category\"             \"sample_retrieval\"           \n",
       " [91] \"tissue_fraction\"             \"cell_fraction\"              \n",
       " [93] \"cell_fraction_unified\"       \"cell_sorting\"               \n",
       " [95] \"technology\"                  \"include_150722\"             \n",
       " [97] \"cluster_scrublet_score\"      \"bh_pval\"                    \n",
       " [99] \"scrublet_score\"              \"scrublet_score_z\"           \n",
       "[101] \"scrublet_done\"               \"doublet\"                    \n",
       "[103] \"stringent_doublet\"           \"integration_grouping\"       \n",
       "[105] \"_scvi_batch\"                 \"_scvi_labels\"               \n",
       "[107] \"broad_annot_20220914\"        \"martin19_pred\"              \n",
       "[109] \"martin19_pred_prob\"          \"martin19_pred_uncertain\"    \n",
       "[111] \"warner20_pred\"               \"warner20_pred_prob\"         \n",
       "[113] \"warner20_pred_uncertain\"     \"broad_annot_20220917\"       \n",
       "[115] \"donor_organ_lineage\"         \"fine_annot\"                 \n",
       "[117] \"fine_annot_original\"         \"level_1_annot\"              \n",
       "[119] \"level_2_annot\"               \"level_3_annot\"              \n",
       "[121] \"organ_groups\"                \"disease\"                    \n",
       "[123] \"control_vs_disease\"         "
      ]
     },
     "metadata": {},
     "output_type": "display_data"
    }
   ],
   "source": [
    "colnames(meta)"
   ]
  },
  {
   "cell_type": "code",
   "execution_count": 5,
   "id": "consecutive-dover",
   "metadata": {},
   "outputs": [
    {
     "data": {
      "text/plain": [
       "\n",
       "               control                inutero    neighbouring_cancer \n",
       "                489029                 333624                 152292 \n",
       "neighbouring_inflammed    neighbouring_polyps                preterm \n",
       "                 77136                  15648                   9512 "
      ]
     },
     "metadata": {},
     "output_type": "display_data"
    }
   ],
   "source": [
    "table(meta$disease)"
   ]
  },
  {
   "cell_type": "code",
   "execution_count": 6,
   "id": "finnish-portrait",
   "metadata": {},
   "outputs": [
    {
     "data": {
      "text/plain": [
       "\n",
       "        appendix  ascending colon    buccal mucosa           caecum \n",
       "            2199            21724            28724            18371 \n",
       "           colon descending colon         duodenum  gingival mucosa \n",
       "          156256             5581           144244            42813 \n",
       "           ileum        intestine          jejunum              MLN \n",
       "          214737             2151            12199            35312 \n",
       "      oesophagus     periodontium           rectum   salivary gland \n",
       "          116866             1975            18950            24094 \n",
       "   sigmoid colon  small intestine          stomach       transverse \n",
       "           28503            29473           143803            29266 \n",
       "            <NA> \n",
       "               0 "
      ]
     },
     "metadata": {},
     "output_type": "display_data"
    }
   ],
   "source": [
    "table(meta$organ_unified, useNA=\"always\")"
   ]
  },
  {
   "cell_type": "code",
   "execution_count": 7,
   "id": "completed-camel",
   "metadata": {},
   "outputs": [
    {
     "data": {
      "text/plain": [
       "\n",
       "                       14-20_second_trimester                  18-34 \n",
       "                 43799                 158426                 154378 \n",
       "         23-31_preterm                  35-54                    4-7 \n",
       "                  9512                 178461                  28729 \n",
       "                 47-80                  55-74   6-13_first_trimester \n",
       "                 19393                 257745                 175198 \n",
       "                   75+                   9-12 \n",
       "                 28264                  23336 "
      ]
     },
     "metadata": {},
     "output_type": "display_data"
    }
   ],
   "source": [
    "table(meta$age_unified)"
   ]
  },
  {
   "cell_type": "code",
   "execution_count": 8,
   "id": "portable-copying",
   "metadata": {},
   "outputs": [
    {
     "data": {
      "text/plain": [
       "\n",
       "                    Adult Embryo/fetal    Pediatric      Preterm \n",
       "       43799       638241       333624        52065         9512 "
      ]
     },
     "metadata": {},
     "output_type": "display_data"
    }
   ],
   "source": [
    "# Group ages into smaller \n",
    "meta$age_groups = recode(\n",
    "    meta$age_unified,\n",
    "    '47-80'='Adult',\n",
    "    '18-34'='Adult',\n",
    "    '55-74'='Adult',\n",
    "    '35-54'='Adult',\n",
    "    '9-12'='Pediatric',\n",
    "    '6-13_first_trimester'='Embryo/fetal',\n",
    "    '4-7'='Pediatric',\n",
    "    '14-20_second_trimester'='Embryo/fetal',\n",
    "    '75+'='Adult',\n",
    "    '23-31_preterm'='Preterm',\n",
    "    '13-17'='Pediatric'\n",
    ")\n",
    "table(meta$age_groups)"
   ]
  },
  {
   "cell_type": "code",
   "execution_count": 9,
   "id": "statutory-marketing",
   "metadata": {},
   "outputs": [
    {
     "data": {
      "text/plain": [
       "\n",
       "        appendix  ascending colon    buccal mucosa           caecum \n",
       "            2199            21724            28724            18371 \n",
       "           colon descending colon         duodenum  gingival mucosa \n",
       "          156256             5581           144244            42813 \n",
       "           ileum        intestine          jejunum              MLN \n",
       "          214737             2151            12199            35312 \n",
       "      oesophagus     periodontium           rectum   salivary gland \n",
       "          116866             1975            18950            24094 \n",
       "   sigmoid colon  small intestine          stomach       transverse \n",
       "           28503            29473           143803            29266 "
      ]
     },
     "metadata": {},
     "output_type": "display_data"
    }
   ],
   "source": [
    "table(meta$organ_unified)"
   ]
  },
  {
   "cell_type": "code",
   "execution_count": 10,
   "id": "little-introduction",
   "metadata": {},
   "outputs": [],
   "source": [
    "# Clean metadata\n",
    "\n",
    "# Relable \"transverse\" => \"transverse colon\"\n",
    "meta$organ_unified[meta$organ_unified == \"transverse\"] = \"transverse colon\"\n",
    "\n",
    "#meta$age_unified[meta$age_unified == \"\"] = NA"
   ]
  },
  {
   "cell_type": "code",
   "execution_count": 11,
   "id": "outside-calcium",
   "metadata": {},
   "outputs": [
    {
     "data": {
      "text/plain": [
       "\n",
       "               Angiogenic_pericyte                             B_GC_I \n",
       "                               849                               3573 \n",
       "                           B_GC_II                           B_memory \n",
       "                              3499                              33026 \n",
       "                           B_naive                      B_plasma_IgA1 \n",
       "                             36366                              54360 \n",
       "                     B_plasma_IgA2                       B_plasma_IgG \n",
       "                              4888                               7033 \n",
       "                      B_plasma_IgM                      B_plasmablast \n",
       "                              4922                                465 \n",
       "                            B_preB                             B_proB \n",
       "                               676                                432 \n",
       "                             Basal                      Basal_cycling \n",
       "                             13722                               2252 \n",
       "       BEST4_enterocyte_colonocyte    Branch_A_inhibtory_motor_neuron \n",
       "                             11287                                861 \n",
       "              Branch_A_interneuron   Branch_A_primary_afferent_neuron \n",
       "                               684                               1013 \n",
       "  Branch_B_excitatory_motor_neuron   Branch_B_primary_afferent_neuron \n",
       "                              2955                               1158 \n",
       "                             Chief                             CLDN10 \n",
       "                              2006                                308 \n",
       "                        Colonocyte              Crypt_fibroblast_PI16 \n",
       "                             34151                              41313 \n",
       "                           Cycling                 Cycling_fibroblast \n",
       "                             11238                              18017 \n",
       "                           DC_cDC1                            DC_cDC2 \n",
       "                               946                               6381 \n",
       "                     DC_langerhans                       DC_migratory \n",
       "                               164                                417 \n",
       "                            DC_pDC                          DCS_MUC17 \n",
       "                               565                                231 \n",
       "                 DCS_MUC17_cycling                  Distal_progenitor \n",
       "                               107                               2765 \n",
       "           Distal_progenitor_PRAC1                               Duct \n",
       "                               323                               1331 \n",
       "                     EC_arterial_1                      EC_arterial_2 \n",
       "                              4780                               3507 \n",
       "                      EC_capillary                         EC_cycling \n",
       "                             11035                               1070 \n",
       "                      EC_lymphatic                          EC_venous \n",
       "                              4248                              28164 \n",
       "      Enteric_neural_crest_cycling                   Enterochromaffin \n",
       "                              4107                                890 \n",
       "                        Enterocyte                    Enteroendocrine \n",
       "                             66321                               2177 \n",
       "                 Enteroendocrine_G                 Enteroendocrine_MX \n",
       "                               423                                606 \n",
       "        Enteroendocrine_progenitor                  Enteroendocrine_X \n",
       "                               303                                465 \n",
       "               Eosinophil/basophil             Epithelial_cycling_G2M \n",
       "                                70                              15948 \n",
       "              Epithelial_cycling_S                    Epithelial_stem \n",
       "                             15166                              10520 \n",
       "                      Erythrocytes               Fibroblast_reticular \n",
       "                               350                               2562 \n",
       "                     Follicular_DC           Gastric_fetal_epithelial \n",
       "                               135                                 29 \n",
       "                               gdT                          gdT_naive \n",
       "                             13986                               3009 \n",
       "                       Gland_basal                         Gland_duct \n",
       "                               735                                254 \n",
       "                       Gland_fetal                       Gland_mucous \n",
       "                               248                                 53 \n",
       "                           Glial_1                            Glial_2 \n",
       "                              1069                               1501 \n",
       "                           Glial_3         Glial/Enteric_neural_crest \n",
       "                              2036                               5024 \n",
       "                            Goblet                     Goblet_cycling \n",
       "                             17475                               1494 \n",
       "                 Goblet_progenitor                                ICC \n",
       "                              1935                                923 \n",
       "                              ILC3                  Immature_pericyte \n",
       "                              4676                               2716 \n",
       "        Immune_recruiting_pericyte                          Ionocytes \n",
       "                               363                                 67 \n",
       "                Keratinocyte_fetal          Keratinocyte_inflammatory \n",
       "                               125                                284 \n",
       "                Keratinocyte_outer            Keratinocyte_stratified \n",
       "                             14615                              63400 \n",
       "Lamina_propria_fibroblast_ADAMDEC1                         Macrophage \n",
       "                             37736                               8594 \n",
       "                   Macrophage_CD5L                   Macrophage_LYVE1 \n",
       "                               100                               3627 \n",
       "                   Macrophage_MMP9                   Macrophage_TREM2 \n",
       "                               907                               1511 \n",
       "                              MAIT                               Mast \n",
       "                              2073                               5607 \n",
       "                 Mature_colonocyte             Megakaryocyte/platelet \n",
       "                             16354                                  4 \n",
       "                        Melanocyte                    Mesenchymal_LTO \n",
       "                               346                                353 \n",
       "                        Mesoderm_1                         Mesoderm_2 \n",
       "                             30022                              53169 \n",
       "                       Mesothelium                          Microfold \n",
       "                              2784                                559 \n",
       "               Mono/neutrophil_MPO                           Monocyte \n",
       "                               178                               3792 \n",
       "                            Mucous                  Mucous_gland_neck \n",
       "                               830                              12696 \n",
       "                  Myoblast/myocyte                      Myoepithelial \n",
       "                               133                                195 \n",
       "                     Myofibroblast                         Neuroblast \n",
       "                             15509                               2713 \n",
       "                           NK_CD16                      NK_CD56bright \n",
       "                              2327                               4479 \n",
       "                               NTS              Oesophagus_fibroblast \n",
       "                               473                                682 \n",
       "            Oral_mucosa_fibroblast                             Paneth \n",
       "                              4378                                508 \n",
       "                          Pareital                           Pericyte \n",
       "                              1259                               6974 \n",
       "       Proximal_progenitor_DUO/JEJ            Proximal_progenitor_ILE \n",
       "                              3575                               4349 \n",
       "                 Rectum_fibroblast                         Seromucous \n",
       "                              1284                               1354 \n",
       "                            Serous                          SMC_CAPN3 \n",
       "                              4279                               6293 \n",
       "                 SMC_CAPN3_cycling                          SMC_PPLP2 \n",
       "                               442                              14522 \n",
       "                  Surface_foveolar                       T/NK_cycling \n",
       "                             10286                               1423 \n",
       "                                TA                                Tfh \n",
       "                             19674                               6910 \n",
       "                         Tfh_naive                      Tnaive/cm_CD4 \n",
       "                              9303                              24797 \n",
       "                     Tnaive/cm_CD8                               Treg \n",
       "                              5399                               5500 \n",
       "                         Treg_IL10                            Trm_CD4 \n",
       "                             10299                              26269 \n",
       "                           Trm_CD8                           Trm_Th17 \n",
       "                             24711                              14688 \n",
       "                        Trm/em_CD8                               Tuft \n",
       "                             16334                               1733 \n",
       "            Vascular_smooth_muscle               Villus_fibroblast_F3 \n",
       "                              8978                              20819 "
      ]
     },
     "metadata": {},
     "output_type": "display_data"
    }
   ],
   "source": [
    "table(meta$level_3_annot)"
   ]
  },
  {
   "cell_type": "code",
   "execution_count": 12,
   "id": "thousand-weight",
   "metadata": {},
   "outputs": [
    {
     "data": {
      "text/html": [
       "136"
      ],
      "text/latex": [
       "136"
      ],
      "text/markdown": [
       "136"
      ],
      "text/plain": [
       "[1] 136"
      ]
     },
     "metadata": {},
     "output_type": "display_data"
    }
   ],
   "source": [
    "length(table(meta$level_3_annot))"
   ]
  },
  {
   "cell_type": "code",
   "execution_count": 13,
   "id": "consistent-james",
   "metadata": {},
   "outputs": [],
   "source": [
    "# Subset data frame for columns to visualize\n",
    "select_columns = c(\"index\", \"disease\", \"organ_unified\", \"study\", \"donorID_unified\", \"age_groups\")\n",
    "meta_sub = meta[, ..select_columns]  # .. is data.table expansion of variable "
   ]
  },
  {
   "cell_type": "code",
   "execution_count": 14,
   "id": "reverse-arrow",
   "metadata": {},
   "outputs": [
    {
     "data": {
      "text/html": [
       "<table class=\"dataframe\">\n",
       "<caption>A data.table: 6 × 6</caption>\n",
       "<thead>\n",
       "\t<tr><th scope=col>index</th><th scope=col>disease</th><th scope=col>organ_unified</th><th scope=col>study</th><th scope=col>donorID_unified</th><th scope=col>age_groups</th></tr>\n",
       "\t<tr><th scope=col>&lt;chr&gt;</th><th scope=col>&lt;chr&gt;</th><th scope=col>&lt;chr&gt;</th><th scope=col>&lt;chr&gt;</th><th scope=col>&lt;chr&gt;</th><th scope=col>&lt;chr&gt;</th></tr>\n",
       "</thead>\n",
       "<tbody>\n",
       "\t<tr><td>AAACGAATCTCTTGCG-GSM4600896</td><td>control</td><td>gingival mucosa</td><td>Caetano2021</td><td>D61</td><td>Adult</td></tr>\n",
       "\t<tr><td>AAACGCTAGCGACCCT-GSM4600896</td><td>control</td><td>gingival mucosa</td><td>Caetano2021</td><td>D61</td><td>Adult</td></tr>\n",
       "\t<tr><td>AAAGAACAGCGACCCT-GSM4600896</td><td>control</td><td>gingival mucosa</td><td>Caetano2021</td><td>D61</td><td>Adult</td></tr>\n",
       "\t<tr><td>AAAGGGCAGTCACACT-GSM4600896</td><td>control</td><td>gingival mucosa</td><td>Caetano2021</td><td>D61</td><td>Adult</td></tr>\n",
       "\t<tr><td>AAAGGGCCAACACAGG-GSM4600896</td><td>control</td><td>gingival mucosa</td><td>Caetano2021</td><td>D61</td><td>Adult</td></tr>\n",
       "\t<tr><td>AAAGTCCGTCGAAGCA-GSM4600896</td><td>control</td><td>gingival mucosa</td><td>Caetano2021</td><td>D61</td><td>Adult</td></tr>\n",
       "</tbody>\n",
       "</table>\n"
      ],
      "text/latex": [
       "A data.table: 6 × 6\n",
       "\\begin{tabular}{llllll}\n",
       " index & disease & organ\\_unified & study & donorID\\_unified & age\\_groups\\\\\n",
       " <chr> & <chr> & <chr> & <chr> & <chr> & <chr>\\\\\n",
       "\\hline\n",
       "\t AAACGAATCTCTTGCG-GSM4600896 & control & gingival mucosa & Caetano2021 & D61 & Adult\\\\\n",
       "\t AAACGCTAGCGACCCT-GSM4600896 & control & gingival mucosa & Caetano2021 & D61 & Adult\\\\\n",
       "\t AAAGAACAGCGACCCT-GSM4600896 & control & gingival mucosa & Caetano2021 & D61 & Adult\\\\\n",
       "\t AAAGGGCAGTCACACT-GSM4600896 & control & gingival mucosa & Caetano2021 & D61 & Adult\\\\\n",
       "\t AAAGGGCCAACACAGG-GSM4600896 & control & gingival mucosa & Caetano2021 & D61 & Adult\\\\\n",
       "\t AAAGTCCGTCGAAGCA-GSM4600896 & control & gingival mucosa & Caetano2021 & D61 & Adult\\\\\n",
       "\\end{tabular}\n"
      ],
      "text/markdown": [
       "\n",
       "A data.table: 6 × 6\n",
       "\n",
       "| index &lt;chr&gt; | disease &lt;chr&gt; | organ_unified &lt;chr&gt; | study &lt;chr&gt; | donorID_unified &lt;chr&gt; | age_groups &lt;chr&gt; |\n",
       "|---|---|---|---|---|---|\n",
       "| AAACGAATCTCTTGCG-GSM4600896 | control | gingival mucosa | Caetano2021 | D61 | Adult |\n",
       "| AAACGCTAGCGACCCT-GSM4600896 | control | gingival mucosa | Caetano2021 | D61 | Adult |\n",
       "| AAAGAACAGCGACCCT-GSM4600896 | control | gingival mucosa | Caetano2021 | D61 | Adult |\n",
       "| AAAGGGCAGTCACACT-GSM4600896 | control | gingival mucosa | Caetano2021 | D61 | Adult |\n",
       "| AAAGGGCCAACACAGG-GSM4600896 | control | gingival mucosa | Caetano2021 | D61 | Adult |\n",
       "| AAAGTCCGTCGAAGCA-GSM4600896 | control | gingival mucosa | Caetano2021 | D61 | Adult |\n",
       "\n"
      ],
      "text/plain": [
       "  index                       disease organ_unified   study      \n",
       "1 AAACGAATCTCTTGCG-GSM4600896 control gingival mucosa Caetano2021\n",
       "2 AAACGCTAGCGACCCT-GSM4600896 control gingival mucosa Caetano2021\n",
       "3 AAAGAACAGCGACCCT-GSM4600896 control gingival mucosa Caetano2021\n",
       "4 AAAGGGCAGTCACACT-GSM4600896 control gingival mucosa Caetano2021\n",
       "5 AAAGGGCCAACACAGG-GSM4600896 control gingival mucosa Caetano2021\n",
       "6 AAAGTCCGTCGAAGCA-GSM4600896 control gingival mucosa Caetano2021\n",
       "  donorID_unified age_groups\n",
       "1 D61             Adult     \n",
       "2 D61             Adult     \n",
       "3 D61             Adult     \n",
       "4 D61             Adult     \n",
       "5 D61             Adult     \n",
       "6 D61             Adult     "
      ]
     },
     "metadata": {},
     "output_type": "display_data"
    }
   ],
   "source": [
    "head(meta_sub)"
   ]
  },
  {
   "cell_type": "code",
   "execution_count": 15,
   "id": "governing-voltage",
   "metadata": {},
   "outputs": [],
   "source": [
    "#sort(table(meta_sub$disease))"
   ]
  },
  {
   "cell_type": "code",
   "execution_count": 16,
   "id": "rapid-mouth",
   "metadata": {},
   "outputs": [],
   "source": [
    "#sort(table(meta_sub$organ_unified))"
   ]
  },
  {
   "cell_type": "code",
   "execution_count": 17,
   "id": "mobile-hughes",
   "metadata": {},
   "outputs": [],
   "source": [
    "#sort(table(meta_sub$study))"
   ]
  },
  {
   "cell_type": "markdown",
   "id": "dependent-admission",
   "metadata": {},
   "source": [
    "# Count cells and donors per condition\n",
    "Condition: disease x organ_unified x study"
   ]
  },
  {
   "cell_type": "code",
   "execution_count": 18,
   "id": "answering-kelly",
   "metadata": {},
   "outputs": [],
   "source": [
    "# Count cells per group in selected features of meta_sub\n",
    "#d_counts = aggregate(index~disease + organ_unified + study + donorID_unified + age_unified, data=d, FUN=length)\n",
    "d_cell_counts = aggregate(index~., data=meta_sub, FUN=length)\n",
    "\n",
    "setnames(d_cell_counts, \"index\", \"n_cells\")  # rename cell counts column"
   ]
  },
  {
   "cell_type": "code",
   "execution_count": 19,
   "id": "threatened-edmonton",
   "metadata": {},
   "outputs": [
    {
     "data": {
      "image/png": "[encoded data removed]",
      "text/plain": [
       "Plot with title “Histogram of d_cell_counts$n_cells”"
      ]
     },
     "metadata": {
      "image/png": {
       "height": 420,
       "width": 420
      }
     },
     "output_type": "display_data"
    }
   ],
   "source": [
    "hist(d_cell_counts$n_cells, breaks=50)"
   ]
  },
  {
   "cell_type": "code",
   "execution_count": 20,
   "id": "bright-bubble",
   "metadata": {},
   "outputs": [
    {
     "data": {
      "text/html": [
       "<table class=\"dataframe\">\n",
       "<caption>A data.frame: 6 × 6</caption>\n",
       "<thead>\n",
       "\t<tr><th></th><th scope=col>disease</th><th scope=col>organ_unified</th><th scope=col>study</th><th scope=col>donorID_unified</th><th scope=col>age_groups</th><th scope=col>n_cells</th></tr>\n",
       "\t<tr><th></th><th scope=col>&lt;chr&gt;</th><th scope=col>&lt;chr&gt;</th><th scope=col>&lt;chr&gt;</th><th scope=col>&lt;chr&gt;</th><th scope=col>&lt;chr&gt;</th><th scope=col>&lt;int&gt;</th></tr>\n",
       "</thead>\n",
       "<tbody>\n",
       "\t<tr><th scope=row>1</th><td>neighbouring_inflammed</td><td>colon</td><td>Jaeger2021</td><td>D142</td><td></td><td>12179</td></tr>\n",
       "\t<tr><th scope=row>2</th><td>neighbouring_inflammed</td><td>ileum</td><td>Martin2019</td><td>D39 </td><td></td><td> 4727</td></tr>\n",
       "\t<tr><th scope=row>3</th><td>neighbouring_inflammed</td><td>ileum</td><td>Martin2019</td><td>D40 </td><td></td><td> 2117</td></tr>\n",
       "\t<tr><th scope=row>4</th><td>neighbouring_inflammed</td><td>ileum</td><td>Martin2019</td><td>D41 </td><td></td><td> 1855</td></tr>\n",
       "\t<tr><th scope=row>5</th><td>neighbouring_inflammed</td><td>ileum</td><td>Martin2019</td><td>D42 </td><td></td><td> 2990</td></tr>\n",
       "\t<tr><th scope=row>6</th><td>neighbouring_inflammed</td><td>ileum</td><td>Martin2019</td><td>D43 </td><td></td><td> 4124</td></tr>\n",
       "</tbody>\n",
       "</table>\n"
      ],
      "text/latex": [
       "A data.frame: 6 × 6\n",
       "\\begin{tabular}{r|llllll}\n",
       "  & disease & organ\\_unified & study & donorID\\_unified & age\\_groups & n\\_cells\\\\\n",
       "  & <chr> & <chr> & <chr> & <chr> & <chr> & <int>\\\\\n",
       "\\hline\n",
       "\t1 & neighbouring\\_inflammed & colon & Jaeger2021 & D142 &  & 12179\\\\\n",
       "\t2 & neighbouring\\_inflammed & ileum & Martin2019 & D39  &  &  4727\\\\\n",
       "\t3 & neighbouring\\_inflammed & ileum & Martin2019 & D40  &  &  2117\\\\\n",
       "\t4 & neighbouring\\_inflammed & ileum & Martin2019 & D41  &  &  1855\\\\\n",
       "\t5 & neighbouring\\_inflammed & ileum & Martin2019 & D42  &  &  2990\\\\\n",
       "\t6 & neighbouring\\_inflammed & ileum & Martin2019 & D43  &  &  4124\\\\\n",
       "\\end{tabular}\n"
      ],
      "text/markdown": [
       "\n",
       "A data.frame: 6 × 6\n",
       "\n",
       "| <!--/--> | disease &lt;chr&gt; | organ_unified &lt;chr&gt; | study &lt;chr&gt; | donorID_unified &lt;chr&gt; | age_groups &lt;chr&gt; | n_cells &lt;int&gt; |\n",
       "|---|---|---|---|---|---|---|\n",
       "| 1 | neighbouring_inflammed | colon | Jaeger2021 | D142 | <!----> | 12179 |\n",
       "| 2 | neighbouring_inflammed | ileum | Martin2019 | D39  | <!----> |  4727 |\n",
       "| 3 | neighbouring_inflammed | ileum | Martin2019 | D40  | <!----> |  2117 |\n",
       "| 4 | neighbouring_inflammed | ileum | Martin2019 | D41  | <!----> |  1855 |\n",
       "| 5 | neighbouring_inflammed | ileum | Martin2019 | D42  | <!----> |  2990 |\n",
       "| 6 | neighbouring_inflammed | ileum | Martin2019 | D43  | <!----> |  4124 |\n",
       "\n"
      ],
      "text/plain": [
       "  disease                organ_unified study      donorID_unified age_groups\n",
       "1 neighbouring_inflammed colon         Jaeger2021 D142                      \n",
       "2 neighbouring_inflammed ileum         Martin2019 D39                       \n",
       "3 neighbouring_inflammed ileum         Martin2019 D40                       \n",
       "4 neighbouring_inflammed ileum         Martin2019 D41                       \n",
       "5 neighbouring_inflammed ileum         Martin2019 D42                       \n",
       "6 neighbouring_inflammed ileum         Martin2019 D43                       \n",
       "  n_cells\n",
       "1 12179  \n",
       "2  4727  \n",
       "3  2117  \n",
       "4  1855  \n",
       "5  2990  \n",
       "6  4124  "
      ]
     },
     "metadata": {},
     "output_type": "display_data"
    }
   ],
   "source": [
    "head(d_cell_counts)"
   ]
  },
  {
   "cell_type": "code",
   "execution_count": 21,
   "id": "removable-foundation",
   "metadata": {},
   "outputs": [],
   "source": [
    "# Count donor sample sizes per condition (organ x study x disease)\n",
    "d_donor_counts = aggregate(donorID_unified ~ organ_unified + study + age_groups, data=d_cell_counts, FUN=length)\n",
    "\n",
    "setnames(d_donor_counts, \"donorID_unified\", \"n_donor\")"
   ]
  },
  {
   "cell_type": "code",
   "execution_count": 23,
   "id": "competent-testament",
   "metadata": {},
   "outputs": [],
   "source": [
    "# Sum cell count per organ x study x disease\n",
    "d_condition = aggregate(n_cells ~ organ_unified + study + age_groups, data=d_cell_counts, FUN=sum)"
   ]
  },
  {
   "cell_type": "code",
   "execution_count": 24,
   "id": "educated-discretion",
   "metadata": {},
   "outputs": [
    {
     "data": {
      "text/html": [
       "<table class=\"dataframe\">\n",
       "<caption>A data.frame: 6 × 5</caption>\n",
       "<thead>\n",
       "\t<tr><th></th><th scope=col>organ_unified</th><th scope=col>study</th><th scope=col>age_groups</th><th scope=col>n_donor</th><th scope=col>n_cells</th></tr>\n",
       "\t<tr><th></th><th scope=col>&lt;chr&gt;</th><th scope=col>&lt;chr&gt;</th><th scope=col>&lt;chr&gt;</th><th scope=col>&lt;int&gt;</th><th scope=col>&lt;int&gt;</th></tr>\n",
       "</thead>\n",
       "<tbody>\n",
       "\t<tr><th scope=row>1</th><td>appendix       </td><td>Elmentaite2021</td><td>Adult</td><td>5</td><td> 2199</td></tr>\n",
       "\t<tr><th scope=row>2</th><td>ascending colon</td><td>Elmentaite2021</td><td>Adult</td><td>5</td><td>13398</td></tr>\n",
       "\t<tr><th scope=row>3</th><td>ascending colon</td><td>Lee2020       </td><td>Adult</td><td>1</td><td> 2700</td></tr>\n",
       "\t<tr><th scope=row>4</th><td>ascending colon</td><td>Wang2020      </td><td>Adult</td><td>2</td><td> 5626</td></tr>\n",
       "\t<tr><th scope=row>5</th><td>buccal mucosa  </td><td>Williams2021  </td><td>Adult</td><td>8</td><td>28724</td></tr>\n",
       "\t<tr><th scope=row>6</th><td>caecum         </td><td>Dominguez2022 </td><td>Adult</td><td>3</td><td> 1491</td></tr>\n",
       "</tbody>\n",
       "</table>\n"
      ],
      "text/latex": [
       "A data.frame: 6 × 5\n",
       "\\begin{tabular}{r|lllll}\n",
       "  & organ\\_unified & study & age\\_groups & n\\_donor & n\\_cells\\\\\n",
       "  & <chr> & <chr> & <chr> & <int> & <int>\\\\\n",
       "\\hline\n",
       "\t1 & appendix        & Elmentaite2021 & Adult & 5 &  2199\\\\\n",
       "\t2 & ascending colon & Elmentaite2021 & Adult & 5 & 13398\\\\\n",
       "\t3 & ascending colon & Lee2020        & Adult & 1 &  2700\\\\\n",
       "\t4 & ascending colon & Wang2020       & Adult & 2 &  5626\\\\\n",
       "\t5 & buccal mucosa   & Williams2021   & Adult & 8 & 28724\\\\\n",
       "\t6 & caecum          & Dominguez2022  & Adult & 3 &  1491\\\\\n",
       "\\end{tabular}\n"
      ],
      "text/markdown": [
       "\n",
       "A data.frame: 6 × 5\n",
       "\n",
       "| <!--/--> | organ_unified &lt;chr&gt; | study &lt;chr&gt; | age_groups &lt;chr&gt; | n_donor &lt;int&gt; | n_cells &lt;int&gt; |\n",
       "|---|---|---|---|---|---|\n",
       "| 1 | appendix        | Elmentaite2021 | Adult | 5 |  2199 |\n",
       "| 2 | ascending colon | Elmentaite2021 | Adult | 5 | 13398 |\n",
       "| 3 | ascending colon | Lee2020        | Adult | 1 |  2700 |\n",
       "| 4 | ascending colon | Wang2020       | Adult | 2 |  5626 |\n",
       "| 5 | buccal mucosa   | Williams2021   | Adult | 8 | 28724 |\n",
       "| 6 | caecum          | Dominguez2022  | Adult | 3 |  1491 |\n",
       "\n"
      ],
      "text/plain": [
       "  organ_unified   study          age_groups n_donor n_cells\n",
       "1 appendix        Elmentaite2021 Adult      5        2199  \n",
       "2 ascending colon Elmentaite2021 Adult      5       13398  \n",
       "3 ascending colon Lee2020        Adult      1        2700  \n",
       "4 ascending colon Wang2020       Adult      2        5626  \n",
       "5 buccal mucosa   Williams2021   Adult      8       28724  \n",
       "6 caecum          Dominguez2022  Adult      3        1491  "
      ]
     },
     "metadata": {},
     "output_type": "display_data"
    }
   ],
   "source": [
    "# Collect cell and donor counts per organ x study x disease\n",
    "d_condition = merge(d_donor_counts, d_condition)\n",
    "head(d_condition)"
   ]
  },
  {
   "cell_type": "code",
   "execution_count": 25,
   "id": "laden-wells",
   "metadata": {},
   "outputs": [
    {
     "data": {
      "text/plain": [
       "\n",
       "        appendix  ascending colon    buccal mucosa           caecum \n",
       "            2199            21724            28724            18371 \n",
       "           colon descending colon         duodenum  gingival mucosa \n",
       "          156256             5581           144244            42813 \n",
       "           ileum        intestine          jejunum              MLN \n",
       "          214737             2151            12199            35312 \n",
       "      oesophagus     periodontium           rectum   salivary gland \n",
       "          116866             1975            18950            24094 \n",
       "   sigmoid colon  small intestine          stomach transverse colon \n",
       "           28503            29473           143803            29266 "
      ]
     },
     "metadata": {},
     "output_type": "display_data"
    }
   ],
   "source": [
    "table(meta$organ_unified)"
   ]
  },
  {
   "cell_type": "code",
   "execution_count": 26,
   "id": "deluxe-provision",
   "metadata": {},
   "outputs": [
    {
     "data": {
      "text/plain": [
       "\n",
       "                       14-20_second_trimester                  18-34 \n",
       "                 43799                 158426                 154378 \n",
       "         23-31_preterm                  35-54                    4-7 \n",
       "                  9512                 178461                  28729 \n",
       "                 47-80                  55-74   6-13_first_trimester \n",
       "                 19393                 257745                 175198 \n",
       "                   75+                   9-12 \n",
       "                 28264                  23336 "
      ]
     },
     "metadata": {},
     "output_type": "display_data"
    }
   ],
   "source": [
    "table(meta$age_unified)"
   ]
  },
  {
   "cell_type": "code",
   "execution_count": null,
   "id": "strategic-belle",
   "metadata": {},
   "outputs": [],
   "source": []
  },
  {
   "cell_type": "markdown",
   "id": "alike-sensitivity",
   "metadata": {},
   "source": [
    "# Plot tabular counts"
   ]
  },
  {
   "cell_type": "code",
   "execution_count": 27,
   "id": "further-shannon",
   "metadata": {},
   "outputs": [
    {
     "data": {
      "text/html": [
       "<style>\n",
       ".list-inline {list-style: none; margin:0; padding: 0}\n",
       ".list-inline>li {display: inline-block}\n",
       ".list-inline>li:not(:last-child)::after {content: \"\\00b7\"; padding: 0 .5ex}\n",
       "</style>\n",
       "<ol class=list-inline><li>'gingival mucosa'</li><li>'stomach'</li><li>'duodenum'</li><li>'ileum'</li><li>'salivary gland'</li><li>'caecum'</li><li>'colon'</li><li>'MLN'</li><li>'ascending colon'</li><li>'transverse colon'</li><li>'descending colon'</li><li>'sigmoid colon'</li><li>'rectum'</li><li>'appendix'</li><li>'jejunum'</li><li>'oesophagus'</li><li>'small intestine'</li><li>'intestine'</li><li>'periodontium'</li><li>'buccal mucosa'</li></ol>\n"
      ],
      "text/latex": [
       "\\begin{enumerate*}\n",
       "\\item 'gingival mucosa'\n",
       "\\item 'stomach'\n",
       "\\item 'duodenum'\n",
       "\\item 'ileum'\n",
       "\\item 'salivary gland'\n",
       "\\item 'caecum'\n",
       "\\item 'colon'\n",
       "\\item 'MLN'\n",
       "\\item 'ascending colon'\n",
       "\\item 'transverse colon'\n",
       "\\item 'descending colon'\n",
       "\\item 'sigmoid colon'\n",
       "\\item 'rectum'\n",
       "\\item 'appendix'\n",
       "\\item 'jejunum'\n",
       "\\item 'oesophagus'\n",
       "\\item 'small intestine'\n",
       "\\item 'intestine'\n",
       "\\item 'periodontium'\n",
       "\\item 'buccal mucosa'\n",
       "\\end{enumerate*}\n"
      ],
      "text/markdown": [
       "1. 'gingival mucosa'\n",
       "2. 'stomach'\n",
       "3. 'duodenum'\n",
       "4. 'ileum'\n",
       "5. 'salivary gland'\n",
       "6. 'caecum'\n",
       "7. 'colon'\n",
       "8. 'MLN'\n",
       "9. 'ascending colon'\n",
       "10. 'transverse colon'\n",
       "11. 'descending colon'\n",
       "12. 'sigmoid colon'\n",
       "13. 'rectum'\n",
       "14. 'appendix'\n",
       "15. 'jejunum'\n",
       "16. 'oesophagus'\n",
       "17. 'small intestine'\n",
       "18. 'intestine'\n",
       "19. 'periodontium'\n",
       "20. 'buccal mucosa'\n",
       "\n",
       "\n"
      ],
      "text/plain": [
       " [1] \"gingival mucosa\"  \"stomach\"          \"duodenum\"         \"ileum\"           \n",
       " [5] \"salivary gland\"   \"caecum\"           \"colon\"            \"MLN\"             \n",
       " [9] \"ascending colon\"  \"transverse colon\" \"descending colon\" \"sigmoid colon\"   \n",
       "[13] \"rectum\"           \"appendix\"         \"jejunum\"          \"oesophagus\"      \n",
       "[17] \"small intestine\"  \"intestine\"        \"periodontium\"     \"buccal mucosa\"   "
      ]
     },
     "metadata": {},
     "output_type": "display_data"
    }
   ],
   "source": [
    "unique(meta_sub$organ_unified)"
   ]
  },
  {
   "cell_type": "code",
   "execution_count": 28,
   "id": "north-samba",
   "metadata": {},
   "outputs": [
    {
     "data": {
      "text/html": [
       "<style>\n",
       ".list-inline {list-style: none; margin:0; padding: 0}\n",
       ".list-inline>li {display: inline-block}\n",
       ".list-inline>li:not(:last-child)::after {content: \"\\00b7\"; padding: 0 .5ex}\n",
       "</style>\n",
       "<ol class=list-inline><li>'control'</li><li>'neighbouring_cancer'</li><li>'inutero'</li><li>'neighbouring_polyps'</li><li>'neighbouring_inflammed'</li><li>'preterm'</li></ol>\n"
      ],
      "text/latex": [
       "\\begin{enumerate*}\n",
       "\\item 'control'\n",
       "\\item 'neighbouring\\_cancer'\n",
       "\\item 'inutero'\n",
       "\\item 'neighbouring\\_polyps'\n",
       "\\item 'neighbouring\\_inflammed'\n",
       "\\item 'preterm'\n",
       "\\end{enumerate*}\n"
      ],
      "text/markdown": [
       "1. 'control'\n",
       "2. 'neighbouring_cancer'\n",
       "3. 'inutero'\n",
       "4. 'neighbouring_polyps'\n",
       "5. 'neighbouring_inflammed'\n",
       "6. 'preterm'\n",
       "\n",
       "\n"
      ],
      "text/plain": [
       "[1] \"control\"                \"neighbouring_cancer\"    \"inutero\"               \n",
       "[4] \"neighbouring_polyps\"    \"neighbouring_inflammed\" \"preterm\"               "
      ]
     },
     "metadata": {},
     "output_type": "display_data"
    }
   ],
   "source": [
    "unique(meta_sub$disease)"
   ]
  },
  {
   "cell_type": "code",
   "execution_count": 39,
   "id": "consecutive-frost",
   "metadata": {},
   "outputs": [
    {
     "data": {
      "image/png": "[encoded data removed]",
      "text/plain": [
       "plot without title"
      ]
     },
     "metadata": {
      "image/png": {
       "height": 330,
       "width": 480
      }
     },
     "output_type": "display_data"
    }
   ],
   "source": [
    "# Dotplot  of cell counts and donor counts per organ x study x disease\n",
    "width = 8\n",
    "height = 5.5\n",
    "options(repr.plot.width=width, repr.plot.height=height)\n",
    "\n",
    "# Copy\n",
    "d = d_condition\n",
    "\n",
    "# Color schemes\n",
    "\n",
    "# Organ colors used for UMAPs\n",
    "# organ_colors = c(\n",
    "#     'periodontium'='#f4e7e7',\n",
    "#     'gingival mucosa'='#eedbdb',\n",
    "#     'buccal mucosa'='#e3c9c9',\n",
    "#     'salivary gland'='#cecbcb',\n",
    "#     'oesophagus'='#f9d4a7',\n",
    "#     'stomach'='#edb75f',\n",
    "#     'duodenum'='#fec8c1',\n",
    "#     'jejunum'='#feb2a8',\n",
    "#     'ileum'='#fc9a8d',\n",
    "#     'appendix'='#debcb4',\n",
    "#     'caecum'='#deb0a4',\n",
    "#     'ascending colon'='#cf9686',\n",
    "#     'transverse colon'='#bd7c68',\n",
    "#     'descending colon'='#a36352',\n",
    "#     'sigmoid colon'='#874533',\n",
    "#     'rectum'='#522e25',\n",
    "#     'small intestine'='#f5a59a',\n",
    "#     'intestine'='#db948a',\n",
    "#     'colon'='#c28e80',\n",
    "#     'MLN'='#ffeb7a'\n",
    "# )\n",
    "\n",
    "# Grouped colors\n",
    "organ_colors = c(\n",
    "    'periodontium'= '#eedbdb',\n",
    "    'gingival mucosa'= '#eedbdb',\n",
    "    'buccal mucosa'= '#eedbdb',\n",
    "    'salivary gland'= '#cecbcb',\n",
    "    'oesophagus'= '#f9d4a7',\n",
    "    'stomach'= '#edb75f',\n",
    "    'duodenum'= '#feb2a8',\n",
    "    'jejunum'= '#feb2a8',\n",
    "    'ileum'= '#feb2a8',\n",
    "    'small intestine'= '#feb2a8',\n",
    "    'appendix'= '#a36352',\n",
    "    'caecum'= '#a36352',\n",
    "    'ascending colon'= '#a36352',\n",
    "    'transverse colon'= '#a36352',\n",
    "    'descending colon'= '#a36352',\n",
    "    'sigmoid colon'= '#a36352',\n",
    "    'rectum'= '#a36352',\n",
    "    'colon'= '#a36352',\n",
    "    'intestine'= '#db948a',\n",
    "    'MLN'= '#ffeb7a'\n",
    ")\n",
    "\n",
    "# # Organ order based on megagut metadata document\n",
    "# organ_order = rev(c(                               \n",
    "#     'periodontium',\n",
    "#     'gingival mucosa',\n",
    "#     'buccal mucosa',\n",
    "#     'salivary gland',\n",
    "#     'oesophagus',\n",
    "#     'stomach',\n",
    "#     'duodenum',\n",
    "#     'jejunum',\n",
    "#     'ileum',\n",
    "#     'appendix',\n",
    "#     'caecum',\n",
    "#     'ascending colon',\n",
    "#     'transverse colon',\n",
    "#     'descending colon',\n",
    "#     'sigmoid colon',\n",
    "#     'rectum',\n",
    "#     'small intestine',\n",
    "#     'intestine',\n",
    "#     'colon',\n",
    "#     'MLN'\n",
    "# ))\n",
    "\n",
    "# Reordered organs, by Amanda\n",
    "organ_order = rev(c(\n",
    "    'periodontium',\n",
    "    'gingival mucosa',\n",
    "    'buccal mucosa',\n",
    "    'salivary gland',\n",
    "    'oesophagus',\n",
    "    'stomach',\n",
    "    'duodenum',\n",
    "    'jejunum',\n",
    "    'ileum',\n",
    "    'small intestine',\n",
    "    'appendix',\n",
    "    'caecum',\n",
    "    'ascending colon',\n",
    "    'transverse colon',\n",
    "    'descending colon',\n",
    "    'sigmoid colon',\n",
    "    'rectum',\n",
    "    'colon',\n",
    "    'intestine',\n",
    "    'MLN'\n",
    "))\n",
    "\n",
    "age_order = c(\n",
    "    'Embryo/fetal',\n",
    "    'Preterm',\n",
    "    'Pediatric',\n",
    "    'Adult'\n",
    ")\n",
    "\n",
    "d$age_groups = factor(d$age_groups, levels=age_order)\n",
    "\n",
    "# Match organ colors\n",
    "organ_colors = organ_colors[match(names(organ_colors), organ_order)]\n",
    "\n",
    "# Reorder organ levels\n",
    "d$organ_unified = factor(\n",
    "    d_condition$organ_unified,\n",
    "    levels=organ_order\n",
    ")\n",
    "\n",
    "# Plot order for disease conditions by number of entries\n",
    "#diseases = names(sort(table(d_condition$disease), decreasing=TRUE))\n",
    "\n",
    "# diseases_order = c(\n",
    "#     'control',\n",
    "#     'inutero',\n",
    "#     'preterm',\n",
    "#     'crohns_disease',\n",
    "#     'ulcerative_colitis',\n",
    "#     'pediatric_IBD',                               \n",
    "#     'neighbouring_inflammed',\n",
    "#     'neighbouring_polyps',\n",
    "#     'celiac_active',\n",
    "#     'celiac_treated',\n",
    "#     'cancer_colorectal',\n",
    "#     'cancer_gastric',\n",
    "#     'neighbouring_cancer'\n",
    "# )\n",
    "\n",
    "# Disease order with adjacent\n",
    "diseases_order = c(\n",
    "    'control',\n",
    "    'neighbouring_inflammed',\n",
    "    'neighbouring_polyps',\n",
    "    'neighbouring_cancer',\n",
    "    'inutero',\n",
    "    'preterm',\n",
    "    'crohns_disease',\n",
    "    'ulcerative_colitis',\n",
    "    'pediatric_IBD',                               \n",
    "    'celiac_active',\n",
    "    'celiac_treated',\n",
    "    'cancer_colorectal',\n",
    "    'cancer_gastric'\n",
    ")\n",
    "\n",
    "#d$disease = factor(d_condition$disease, levels=diseases_order)\n",
    "\n",
    "#d = droplevels(d)  # drop empty levels in data.frame\n",
    "\n",
    "# dotplot\n",
    "g = ggplot(d, aes(x=study, y=organ_unified, size=n_donor, fill=n_cells)) +\n",
    "    # Facets grid per disease condition, starting with controls \n",
    "    facet_grid(~age_groups,\n",
    "               scales=\"free_x\",\n",
    "               space=\"free_x\",\n",
    "               #switch=\"x\"\n",
    "              ) +  # free_x drops empty columns, free_x scales x dimensions to number of entries\n",
    "\n",
    "    # Points\n",
    "    geom_point(pch=21) +\n",
    "\n",
    "    # Scales\n",
    "    #scale_color_gradientn(colors=turbo(20)) +\n",
    "    scale_fill_gradientn(colors=rev(magma(20))) +\n",
    "    scale_size_area(max_size=8, breaks=c(1, 5, 10, 15, 20)) +\n",
    "    \n",
    "    # Style\n",
    "    coord_cartesian(clip=\"off\") +  # allow plotting outside bounding box, preventing clipping\n",
    "    theme_minimal() +\n",
    "    theme(\n",
    "        # Vertical x labels\n",
    "        axis.text.x = element_text(angle=90, vjust=0.5, hjust=1),\n",
    "        \n",
    "        # Horizontal labels\n",
    "        axis.text.y = element_text(\n",
    "            #color=organ_colors\n",
    "        ),\n",
    "        \n",
    "        # Vertical facets labels\n",
    "        strip.text.x = element_text(angle=90, hjust=0),\n",
    "        \n",
    "        # Grid style\n",
    "        panel.grid.major = element_line(\n",
    "            color=\"grey90\",\n",
    "            linewidth=0.2\n",
    "        ),\n",
    "#         panel.grid.major.x = element_line(\n",
    "#             color=alpha(\"grey80\", 0.5),\n",
    "#         ),\n",
    "#         panel.grid.major.y = element_line(\n",
    "#             color=alpha(organ_colors, 0.5),\n",
    "#         ),\n",
    "        panel.grid.minor = element_blank()  # no minor grid\n",
    "    )\n",
    "    \n",
    "\n",
    "# Shared organ color legend annotation across facets groups\n",
    "color_legend = ggplot(data.frame(id=1:length(organ_colors), group=names(organ_colors)), aes(y = id, x = 0, col=group)) +\n",
    "    geom_point(shape = 15, size = 5, show.legend = FALSE) + \n",
    "    theme_classic() +\n",
    "    scale_color_manual(values=alpha(organ_colors, 1.0)) +\n",
    "    theme(\n",
    "        axis.title = element_blank(), axis.line = element_blank(), \n",
    "        axis.text = element_blank(), axis.ticks = element_blank(), \n",
    "        plot.margin = unit(c(0, 0, 0, 0), \"cm\"))\n",
    "\n",
    "g + annotation_custom(ggplotGrob(color_legend),\n",
    "    xmin = 0,\n",
    "    xmax = 0, \n",
    "    ymin = -0.2,\n",
    "    ymax = length(organ_order) + 1\n",
    ")\n",
    "\n",
    "#g\n",
    "\n",
    "ggsave(\"plots/megagut_metadata_visual_overview_healthy_v2.pdf\", width=width, height=height)"
   ]
  },
  {
   "cell_type": "code",
   "execution_count": null,
   "id": "single-requirement",
   "metadata": {},
   "outputs": [],
   "source": []
  },
  {
   "cell_type": "code",
   "execution_count": null,
   "id": "blessed-chess",
   "metadata": {},
   "outputs": [],
   "source": []
  }
 ],
 "metadata": {
  "kernelspec": {
   "display_name": "R 4.2",
   "language": "R",
   "name": "ir42"
  },
  "language_info": {
   "codemirror_mode": "r",
   "file_extension": ".r",
   "mimetype": "text/x-r-source",
   "name": "R",
   "pygments_lexer": "r",
   "version": "4.2.2"
  },
  "widgets": {
   "application/vnd.jupyter.widget-state+json": {
    "state": {},
    "version_major": 2,
    "version_minor": 0
   }
  }
 },
 "nbformat": 4,
 "nbformat_minor": 5
}
