{
 "cells": [
  {
   "cell_type": "markdown",
   "id": "multiple-nirvana",
   "metadata": {},
   "source": [
    "# Make scANVI model for epithelial cells from SI ST (small intestine, second trimester)"
   ]
  },
  {
   "cell_type": "markdown",
   "id": "mechanical-twenty",
   "metadata": {},
   "source": [
    "# Import and settings"
   ]
  },
  {
   "cell_type": "code",
   "execution_count": 1,
   "id": "uniform-melbourne",
   "metadata": {
    "tags": []
   },
   "outputs": [
    {
     "name": "stderr",
     "output_type": "stream",
     "text": [
      "Global seed set to 0\n"
     ]
    }
   ],
   "source": [
    "%load_ext autoreload\n",
    "%autoreload 2\n",
    "\n",
    "import os, re, gc, joblib\n",
    "\n",
    "import numpy as np\n",
    "import numpy_groupies as npg\n",
    "import scipy.sparse as sp\n",
    "import pandas as pd\n",
    "from sklearn.preprocessing import minmax_scale\n",
    "\n",
    "import matplotlib.pyplot as plt\n",
    "from matplotlib import rcParams\n",
    "from matplotlib.colors import ListedColormap, LogNorm\n",
    "\n",
    "import seaborn as sn\n",
    "\n",
    "import anndata\n",
    "\n",
    "import scanpy as sc\n",
    "import sctk as sk\n",
    "\n",
    "import torch\n",
    "import scvi"
   ]
  },
  {
   "cell_type": "code",
   "execution_count": 2,
   "id": "d1330743-af33-49cb-927e-c3ab5754035a",
   "metadata": {},
   "outputs": [],
   "source": [
    "from collections import Counter\n",
    "from sklearn.neighbors import KNeighborsTransformer"
   ]
  },
  {
   "cell_type": "markdown",
   "id": "3a4d997a-9b1f-42d0-9261-39b26194c8c1",
   "metadata": {
    "execution": {
     "iopub.execute_input": "2022-11-08T14:13:12.149610Z",
     "iopub.status.busy": "2022-11-08T14:13:12.149171Z",
     "iopub.status.idle": "2022-11-08T14:13:12.191337Z",
     "shell.execute_reply": "2022-11-08T14:13:12.190669Z",
     "shell.execute_reply.started": "2022-11-08T14:13:12.149571Z"
    },
    "tags": []
   },
   "source": [
    "import warnings\n",
    "\n",
    "warnings.simplefilter(action=\"ignore\", category=FutureWarning)"
   ]
  },
  {
   "cell_type": "code",
   "execution_count": 3,
   "id": "latest-neighborhood",
   "metadata": {
    "tags": []
   },
   "outputs": [],
   "source": [
    "rcParams[\"pdf.fonttype\"] = 42\n",
    "rcParams[\"ps.fonttype\"] = 42\n",
    "expr_cmap = sk.expression_colormap()\n",
    "np.set_printoptions(linewidth=150)\n",
    "sc.settings.verbosity = 0\n",
    "sk.set_figsize((4, 4))\n",
    "#torch.cuda.set_device(1)\n",
    "\n",
    "#PYTHON = \"/software/team205/miniconda3/envs/rapids-torch/bin/python\"\n",
    "\n",
    "#%cd ~/scratch/20220125_digestive_tract_integration/v2/"
   ]
  },
  {
   "cell_type": "markdown",
   "id": "gothic-circulation",
   "metadata": {},
   "source": [
    "# Define functions"
   ]
  },
  {
   "cell_type": "code",
   "execution_count": 4,
   "id": "1621a90e-a6ad-430e-8ebd-4361132dec7b",
   "metadata": {
    "tags": []
   },
   "outputs": [],
   "source": [
    "def weighted_knn_trainer(train_adata, train_adata_emb, label_key, n_neighbors=50):\n",
    "    \"\"\"Trains a weighted KNN classifier on ``train_adata``.\n",
    "    Parameters\n",
    "    ----------\n",
    "    train_adata: :class:`~anndata.AnnData`\n",
    "        Annotated dataset to be used to train KNN classifier with ``label_key`` as the target variable.\n",
    "    train_adata_emb: str\n",
    "        Name of the obsm layer to be used for calculation of neighbors. If set to \"X\", anndata.X will be\n",
    "        used\n",
    "    label_key: str\n",
    "        Name of the column to be used as target variable (e.g. cell_type) in ``train_adata`` and ``query_adata``.\n",
    "    n_neighbors: int\n",
    "        Number of nearest neighbors in KNN classifier.\n",
    "    \"\"\"\n",
    "    print(\n",
    "        f\"Weighted KNN with n_neighbors = {n_neighbors} ... \",\n",
    "        end=\"\",\n",
    "    )\n",
    "    k_neighbors_transformer = KNeighborsTransformer(\n",
    "        n_neighbors=n_neighbors,\n",
    "        mode=\"distance\",\n",
    "        algorithm=\"brute\",\n",
    "        metric=\"euclidean\",\n",
    "        n_jobs=-1,\n",
    "    )\n",
    "    if train_adata_emb == \"X\":\n",
    "        train_emb = train_adata.X\n",
    "    elif train_adata_emb in train_adata.obsm.keys():\n",
    "        train_emb = train_adata.obsm[train_adata_emb]\n",
    "    else:\n",
    "        raise ValueError(\n",
    "            \"train_adata_emb should be set to either 'X' or the name of the obsm layer to be used!\"\n",
    "        )\n",
    "    k_neighbors_transformer.fit(train_emb)\n",
    "    return k_neighbors_transformer"
   ]
  },
  {
   "cell_type": "code",
   "execution_count": 5,
   "id": "73b11da6-a3a1-46fa-b206-9a6cff87d126",
   "metadata": {},
   "outputs": [],
   "source": [
    "def weighted_knn_transfer(\n",
    "    query_adata,\n",
    "    query_adata_emb,\n",
    "    ref_adata_obs,\n",
    "    label_keys,\n",
    "    knn_model,\n",
    "    threshold=1,\n",
    "    pred_unknown=False,\n",
    "    mode=\"package\",\n",
    "):\n",
    "    \"\"\"Annotates ``query_adata`` cells with an input trained weighted KNN classifier.\n",
    "    Parameters\n",
    "    ----------\n",
    "    query_adata: :class:`~anndata.AnnData`\n",
    "        Annotated dataset to be used to queryate KNN classifier. Embedding to be used\n",
    "    query_adata_emb: str\n",
    "        Name of the obsm layer to be used for label transfer. If set to \"X\",\n",
    "        query_adata.X will be used\n",
    "    ref_adata_obs: :class:`pd.DataFrame`\n",
    "        obs of ref Anndata\n",
    "    label_keys: str\n",
    "        Names of the columns to be used as target variables (e.g. cell_type) in ``query_adata``.\n",
    "    knn_model: :class:`~sklearn.neighbors._graph.KNeighborsTransformer`\n",
    "        knn model trained on reference adata with weighted_knn_trainer function\n",
    "    threshold: float\n",
    "        Threshold of uncertainty used to annotating cells as \"Unknown\". cells with\n",
    "        uncertainties higher than this value will be annotated as \"Unknown\".\n",
    "        Set to 1 to keep all predictions. This enables one to later on play\n",
    "        with thresholds.\n",
    "    pred_unknown: bool\n",
    "        ``False`` by default. Whether to annotate any cell as \"unknown\" or not.\n",
    "        If `False`, ``threshold`` will not be used and each cell will be annotated\n",
    "        with the label which is the most common in its ``n_neighbors`` nearest cells.\n",
    "    mode: str\n",
    "        Has to be one of \"paper\" or \"package\". If mode is set to \"package\",\n",
    "        uncertainties will be 1 - P(pred_label), otherwise it will be 1 - P(true_label).\n",
    "    \"\"\"\n",
    "    if not type(knn_model) == KNeighborsTransformer:\n",
    "        raise ValueError(\n",
    "            \"knn_model should be of type sklearn.neighbors._graph.KNeighborsTransformer!\"\n",
    "        )\n",
    "\n",
    "    if query_adata_emb == \"X\":\n",
    "        query_emb = query_adata.X\n",
    "    elif query_adata_emb in query_adata.obsm.keys():\n",
    "        query_emb = query_adata.obsm[query_adata_emb]\n",
    "    else:\n",
    "        raise ValueError(\n",
    "            \"query_adata_emb should be set to either 'X' or the name of the obsm layer to be used!\"\n",
    "        )\n",
    "    top_k_distances, top_k_indices = k_neighbors_transformer.kneighbors(X=query_emb)\n",
    "\n",
    "    stds = np.std(top_k_distances, axis=1)\n",
    "    stds = (2.0 / stds) ** 2\n",
    "    stds = stds.reshape(-1, 1)\n",
    "\n",
    "    top_k_distances_tilda = np.exp(-np.true_divide(top_k_distances, stds))\n",
    "\n",
    "    weights = top_k_distances_tilda / np.sum(\n",
    "        top_k_distances_tilda, axis=1, keepdims=True\n",
    "    )\n",
    "    cols = ref_adata_obs.columns[ref_adata_obs.columns.str.startswith(label_keys)]\n",
    "    uncertainties = pd.DataFrame(columns=cols, index=query_adata.obs_names)\n",
    "    pred_labels = pd.DataFrame(columns=cols, index=query_adata.obs_names)\n",
    "    for i in range(len(weights)):\n",
    "        for j in cols:\n",
    "            y_train_labels = ref_adata_obs[j].values\n",
    "            unique_labels = np.unique(y_train_labels[top_k_indices[i]])\n",
    "            best_label, best_prob = None, 0.0\n",
    "            for candidate_label in unique_labels:\n",
    "                candidate_prob = weights[\n",
    "                    i, y_train_labels[top_k_indices[i]] == candidate_label\n",
    "                ].sum()\n",
    "                if best_prob < candidate_prob:\n",
    "                    best_prob = candidate_prob\n",
    "                    best_label = candidate_label\n",
    "\n",
    "            if pred_unknown:\n",
    "                if best_prob >= threshold:\n",
    "                    pred_label = best_label\n",
    "                else:\n",
    "                    pred_label = \"Unknown\"\n",
    "            else:\n",
    "                pred_label = best_label\n",
    "\n",
    "            if mode == \"package\":\n",
    "                uncertainties.iloc[i][j] = (max(1 - best_prob, 0))\n",
    "\n",
    "            else:\n",
    "                raise Exception(\"Inquery Mode!\")\n",
    "\n",
    "            pred_labels.iloc[i][j] = (pred_label)\n",
    "\n",
    "    print(\"finished!\")\n",
    "\n",
    "    return pred_labels, uncertainties"
   ]
  },
  {
   "cell_type": "markdown",
   "id": "686ac1dd-a883-4789-b17f-32fb8c9c6c27",
   "metadata": {},
   "source": [
    "# 1. Predict fine grained level on full epithelial object"
   ]
  },
  {
   "cell_type": "markdown",
   "id": "nutritional-restaurant",
   "metadata": {
    "tags": []
   },
   "source": [
    "## Load data"
   ]
  },
  {
   "cell_type": "code",
   "execution_count": 6,
   "id": "7878dcc9-ca64-4da6-909d-f1ed82c32e33",
   "metadata": {},
   "outputs": [],
   "source": [
    "adata = sc.read_h5ad('/home/jupyter/Annotations_v3/pre_scvi20221124_updated_donorID_20230126/with_doublets/pooled_healthy.lv20_batch256.with_broad_annotation.20220917.with_countlayers.20221124.SI_ST_epi.20230126.h5ad')"
   ]
  },
  {
   "cell_type": "markdown",
   "id": "8d72f912-38c7-4601-bc7c-ca81d0d25707",
   "metadata": {},
   "source": [
    "ad_output is because of issues with outpupt from scvi from Ni's codeas long as your object and scvi model have the same genes ignore this bit"
   ]
  },
  {
   "cell_type": "code",
   "execution_count": 7,
   "id": "72517017-da51-43d1-8c97-c5371936eae3",
   "metadata": {},
   "outputs": [],
   "source": [
    "ad_output = sc.read_h5ad('/home/jupyter/Annotations_v3/scvi_output20230126/SI_ST_epi.hvg5000_noRPL.scvi_output.20230126-ad1.h5ad')"
   ]
  },
  {
   "cell_type": "code",
   "execution_count": 8,
   "id": "1e707f92-3505-407d-b579-aafadd04ee39",
   "metadata": {},
   "outputs": [
    {
     "data": {
      "text/plain": [
       "AnnData object with n_obs × n_vars = 26387 × 36601\n",
       "    obs: 'latent_cell_probability', 'latent_RT_efficiency', 'cecilia22_predH', 'cecilia22_predH_prob', 'cecilia22_predH_uncertain', 'cecilia22_predL', 'cecilia22_predL_prob', 'cecilia22_predL_uncertain', 'elmentaite21_pred', 'elmentaite21_pred_prob', 'elmentaite21_pred_uncertain', 'suo22_pred', 'suo22_pred_prob', 'suo22_pred_uncertain', 'n_counts', 'log1p_n_counts', 'n_genes', 'log1p_n_genes', 'percent_mito', 'n_counts_mito', 'percent_ribo', 'n_counts_ribo', 'percent_hb', 'n_counts_hb', 'percent_top50', 'n_counts_raw', 'log1p_n_counts_raw', 'n_genes_raw', 'log1p_n_genes_raw', 'percent_mito_raw', 'n_counts_mito_raw', 'percent_ribo_raw', 'n_counts_ribo_raw', 'percent_hb_raw', 'n_counts_hb_raw', 'percent_top50_raw', 'n_counts_spliced', 'log1p_n_counts_spliced', 'n_genes_spliced', 'log1p_n_genes_spliced', 'percent_mito_spliced', 'n_counts_mito_spliced', 'percent_ribo_spliced', 'n_counts_ribo_spliced', 'percent_hb_spliced', 'n_counts_hb_spliced', 'percent_top50_spliced', 'n_counts_unspliced', 'log1p_n_counts_unspliced', 'n_genes_unspliced', 'log1p_n_genes_unspliced', 'percent_mito_unspliced', 'n_counts_mito_unspliced', 'percent_ribo_unspliced', 'n_counts_ribo_unspliced', 'percent_hb_unspliced', 'n_counts_hb_unspliced', 'percent_top50_unspliced', 'percent_soup', 'percent_spliced', 'qc_cluster', 'pass_auto_filter_mito20', 'good_qc_cluster_mito20', 'pass_auto_filter_mito50', 'good_qc_cluster_mito50', 'pass_auto_filter_mito80', 'good_qc_cluster_mito80', 'pass_auto_filter', 'good_qc_cluster', 'pass_default', 'sampleID', 'sourceID', 'donorID_original', 'study', 'donorID_corrected', 'donorID_unified', 'donor_category', 'donor_disease', 'organ_original', 'organ_unified', 'organ_broad', 'age_original', 'age_unified', 'age_continuousadult', 'age_continuousdev', 'sex', 'sample_type', 'sample_category', 'sample_retrieval', 'tissue_fraction', 'cell_fraction', 'cell_fraction_unified', 'cell_sorting', 'technology', 'include_150722', 'cluster_scrublet_score', 'bh_pval', 'scrublet_score', 'scrublet_score_z', 'scrublet_done', 'doublet', 'stringent_doublet', 'integration_grouping', '_scvi_batch', '_scvi_labels', 'broad_annot_20220914', 'martin19_pred', 'martin19_pred_prob', 'martin19_pred_uncertain', 'warner20_pred', 'warner20_pred_prob', 'warner20_pred_uncertain', 'broad_annot_20220917', 'annot_v2', 'fine_annot'\n",
       "    var: 'gene_ids', 'feature_type', 'mito', 'ribo', 'hb', 'n_counts', 'n_counts_raw', 'n_counts_spliced', 'n_counts_unspliced', 'n_cells', 'n_cells_raw', 'n_cells_spliced', 'n_cells_unspliced', 'cc', 'ig', 'tcr'"
      ]
     },
     "execution_count": 8,
     "metadata": {},
     "output_type": "execute_result"
    }
   ],
   "source": [
    "adata"
   ]
  },
  {
   "cell_type": "code",
   "execution_count": 9,
   "id": "f8a61e02-fd8a-47ce-8406-b0f8a93b589d",
   "metadata": {},
   "outputs": [
    {
     "data": {
      "text/plain": [
       "AnnData object with n_obs × n_vars = 26387 × 4969\n",
       "    obs: 'latent_cell_probability', 'latent_RT_efficiency', 'cecilia22_predH', 'cecilia22_predH_prob', 'cecilia22_predH_uncertain', 'cecilia22_predL', 'cecilia22_predL_prob', 'cecilia22_predL_uncertain', 'elmentaite21_pred', 'elmentaite21_pred_prob', 'elmentaite21_pred_uncertain', 'suo22_pred', 'suo22_pred_prob', 'suo22_pred_uncertain', 'n_counts', 'log1p_n_counts', 'n_genes', 'log1p_n_genes', 'percent_mito', 'n_counts_mito', 'percent_ribo', 'n_counts_ribo', 'percent_hb', 'n_counts_hb', 'percent_top50', 'n_counts_raw', 'log1p_n_counts_raw', 'n_genes_raw', 'log1p_n_genes_raw', 'percent_mito_raw', 'n_counts_mito_raw', 'percent_ribo_raw', 'n_counts_ribo_raw', 'percent_hb_raw', 'n_counts_hb_raw', 'percent_top50_raw', 'n_counts_spliced', 'log1p_n_counts_spliced', 'n_genes_spliced', 'log1p_n_genes_spliced', 'percent_mito_spliced', 'n_counts_mito_spliced', 'percent_ribo_spliced', 'n_counts_ribo_spliced', 'percent_hb_spliced', 'n_counts_hb_spliced', 'percent_top50_spliced', 'n_counts_unspliced', 'log1p_n_counts_unspliced', 'n_genes_unspliced', 'log1p_n_genes_unspliced', 'percent_mito_unspliced', 'n_counts_mito_unspliced', 'percent_ribo_unspliced', 'n_counts_ribo_unspliced', 'percent_hb_unspliced', 'n_counts_hb_unspliced', 'percent_top50_unspliced', 'percent_soup', 'percent_spliced', 'qc_cluster', 'pass_auto_filter_mito20', 'good_qc_cluster_mito20', 'pass_auto_filter_mito50', 'good_qc_cluster_mito50', 'pass_auto_filter_mito80', 'good_qc_cluster_mito80', 'pass_auto_filter', 'good_qc_cluster', 'pass_default', 'sampleID', 'sourceID', 'donorID_original', 'study', 'donorID_corrected', 'donorID_unified', 'donor_category', 'donor_disease', 'organ_original', 'organ_unified', 'organ_broad', 'age_original', 'age_unified', 'age_continuousadult', 'age_continuousdev', 'sex', 'sample_type', 'sample_category', 'sample_retrieval', 'tissue_fraction', 'cell_fraction', 'cell_fraction_unified', 'cell_sorting', 'technology', 'include_150722', 'cluster_scrublet_score', 'bh_pval', 'scrublet_score', 'scrublet_score_z', 'scrublet_done', 'doublet', 'stringent_doublet', 'integration_grouping', '_scvi_batch', '_scvi_labels', 'broad_annot_20220914', 'martin19_pred', 'martin19_pred_prob', 'martin19_pred_uncertain', 'warner20_pred', 'warner20_pred_prob', 'warner20_pred_uncertain', 'broad_annot_20220917', 'annot_v2', 'fine_annot'\n",
       "    var: 'gene_ids', 'feature_type', 'mito', 'ribo', 'hb', 'n_counts', 'n_counts_raw', 'n_counts_spliced', 'n_counts_unspliced', 'n_cells', 'n_cells_raw', 'n_cells_spliced', 'n_cells_unspliced', 'cc', 'ig', 'tcr', 'highly_variable', 'highly_variable_rank', 'means', 'variances', 'variances_norm'\n",
       "    uns: '_scvi_manager_uuid', '_scvi_uuid', 'hvg'\n",
       "    obsm: '_scvi_extra_continuous_covs'"
      ]
     },
     "execution_count": 9,
     "metadata": {},
     "output_type": "execute_result"
    }
   ],
   "source": [
    "ad_output"
   ]
  },
  {
   "cell_type": "code",
   "execution_count": 10,
   "id": "f85de08f-a554-4958-afd2-cfd0481a3812",
   "metadata": {},
   "outputs": [
    {
     "data": {
      "text/plain": [
       "Enterocyte                    13743\n",
       "Doublets                       3025\n",
       "Epithelial_stem                2976\n",
       "Epithelial_cycling_S           2114\n",
       "Goblet                         1215\n",
       "Epithelial_cycling_G2M         1160\n",
       "Enteroendocrine                 709\n",
       "Goblet_cycling                  452\n",
       "BEST4                           298\n",
       "Tuft                            186\n",
       "Microfold                       156\n",
       "Colonocyte                      145\n",
       "Paneth                          137\n",
       "Enteroendocrine_progenitor       44\n",
       "MUC6                             19\n",
       "MUC5AC                            8\n",
       "Name: fine_annot, dtype: int64"
      ]
     },
     "execution_count": 10,
     "metadata": {},
     "output_type": "execute_result"
    }
   ],
   "source": [
    "adata.obs.fine_annot.value_counts()"
   ]
  },
  {
   "cell_type": "code",
   "execution_count": 11,
   "id": "5aa83f51-e58f-4e79-bfe3-9fdeb06be6d2",
   "metadata": {},
   "outputs": [],
   "source": [
    "adata = adata[:, adata.var_names.isin(ad_output.var_names)].copy()"
   ]
  },
  {
   "cell_type": "code",
   "execution_count": 12,
   "id": "f3c436f2-ce20-44f8-9cf4-03733b8e76c3",
   "metadata": {},
   "outputs": [
    {
     "data": {
      "text/plain": [
       "AnnData object with n_obs × n_vars = 26387 × 4969\n",
       "    obs: 'latent_cell_probability', 'latent_RT_efficiency', 'cecilia22_predH', 'cecilia22_predH_prob', 'cecilia22_predH_uncertain', 'cecilia22_predL', 'cecilia22_predL_prob', 'cecilia22_predL_uncertain', 'elmentaite21_pred', 'elmentaite21_pred_prob', 'elmentaite21_pred_uncertain', 'suo22_pred', 'suo22_pred_prob', 'suo22_pred_uncertain', 'n_counts', 'log1p_n_counts', 'n_genes', 'log1p_n_genes', 'percent_mito', 'n_counts_mito', 'percent_ribo', 'n_counts_ribo', 'percent_hb', 'n_counts_hb', 'percent_top50', 'n_counts_raw', 'log1p_n_counts_raw', 'n_genes_raw', 'log1p_n_genes_raw', 'percent_mito_raw', 'n_counts_mito_raw', 'percent_ribo_raw', 'n_counts_ribo_raw', 'percent_hb_raw', 'n_counts_hb_raw', 'percent_top50_raw', 'n_counts_spliced', 'log1p_n_counts_spliced', 'n_genes_spliced', 'log1p_n_genes_spliced', 'percent_mito_spliced', 'n_counts_mito_spliced', 'percent_ribo_spliced', 'n_counts_ribo_spliced', 'percent_hb_spliced', 'n_counts_hb_spliced', 'percent_top50_spliced', 'n_counts_unspliced', 'log1p_n_counts_unspliced', 'n_genes_unspliced', 'log1p_n_genes_unspliced', 'percent_mito_unspliced', 'n_counts_mito_unspliced', 'percent_ribo_unspliced', 'n_counts_ribo_unspliced', 'percent_hb_unspliced', 'n_counts_hb_unspliced', 'percent_top50_unspliced', 'percent_soup', 'percent_spliced', 'qc_cluster', 'pass_auto_filter_mito20', 'good_qc_cluster_mito20', 'pass_auto_filter_mito50', 'good_qc_cluster_mito50', 'pass_auto_filter_mito80', 'good_qc_cluster_mito80', 'pass_auto_filter', 'good_qc_cluster', 'pass_default', 'sampleID', 'sourceID', 'donorID_original', 'study', 'donorID_corrected', 'donorID_unified', 'donor_category', 'donor_disease', 'organ_original', 'organ_unified', 'organ_broad', 'age_original', 'age_unified', 'age_continuousadult', 'age_continuousdev', 'sex', 'sample_type', 'sample_category', 'sample_retrieval', 'tissue_fraction', 'cell_fraction', 'cell_fraction_unified', 'cell_sorting', 'technology', 'include_150722', 'cluster_scrublet_score', 'bh_pval', 'scrublet_score', 'scrublet_score_z', 'scrublet_done', 'doublet', 'stringent_doublet', 'integration_grouping', '_scvi_batch', '_scvi_labels', 'broad_annot_20220914', 'martin19_pred', 'martin19_pred_prob', 'martin19_pred_uncertain', 'warner20_pred', 'warner20_pred_prob', 'warner20_pred_uncertain', 'broad_annot_20220917', 'annot_v2', 'fine_annot'\n",
       "    var: 'gene_ids', 'feature_type', 'mito', 'ribo', 'hb', 'n_counts', 'n_counts_raw', 'n_counts_spliced', 'n_counts_unspliced', 'n_cells', 'n_cells_raw', 'n_cells_spliced', 'n_cells_unspliced', 'cc', 'ig', 'tcr'"
      ]
     },
     "execution_count": 12,
     "metadata": {},
     "output_type": "execute_result"
    }
   ],
   "source": [
    "adata"
   ]
  },
  {
   "cell_type": "code",
   "execution_count": 13,
   "id": "10cca8bf-d3e7-49d6-a343-27f84660eeea",
   "metadata": {},
   "outputs": [
    {
     "name": "stdout",
     "output_type": "stream",
     "text": [
      "\u001b[34mINFO    \u001b[0m File \u001b[35m/home/jupyter/Annotations_v3/scvi_output20230126/SI_ST_epi.hvg5000_noRPL.scvi_o\u001b[0m\n",
      "         \u001b[35mutput.20230126.vae/\u001b[0m\u001b[95mmodel.pt\u001b[0m already downloaded                                      \n"
     ]
    }
   ],
   "source": [
    "#load reference that was run without study as a categorical co-variate\n",
    "scvi_ref = scvi.model.SCVI.load(\"/home/jupyter/Annotations_v3/scvi_output20230126/SI_ST_epi.hvg5000_noRPL.scvi_output.20230126.vae\",adata)"
   ]
  },
  {
   "cell_type": "markdown",
   "id": "minus-population",
   "metadata": {},
   "source": [
    "# Process"
   ]
  },
  {
   "cell_type": "markdown",
   "id": "recreational-platinum",
   "metadata": {},
   "source": [
    "## Train"
   ]
  },
  {
   "cell_type": "code",
   "execution_count": 14,
   "id": "48e96ce2-b67d-4b7b-868a-3a2f13829c1e",
   "metadata": {},
   "outputs": [
    {
     "data": {
      "text/html": [
       "<pre style=\"white-space:pre;overflow-x:auto;line-height:normal;font-family:Menlo,'DejaVu Sans Mono',consolas,'Courier New',monospace\">SCVI Model with the following params: \n",
       "n_hidden: <span style=\"color: #008080; text-decoration-color: #008080; font-weight: bold\">128</span>, n_latent: <span style=\"color: #008080; text-decoration-color: #008080; font-weight: bold\">20</span>, n_layers: <span style=\"color: #008080; text-decoration-color: #008080; font-weight: bold\">2</span>, dropout_rate: <span style=\"color: #008080; text-decoration-color: #008080; font-weight: bold\">0.2</span>, dispersion: gene, \n",
       "gene_likelihood: zinb, latent_distribution: normal\n",
       "Training status: Trained\n",
       "</pre>\n"
      ],
      "text/plain": [
       "SCVI Model with the following params: \n",
       "n_hidden: \u001b[1;36m128\u001b[0m, n_latent: \u001b[1;36m20\u001b[0m, n_layers: \u001b[1;36m2\u001b[0m, dropout_rate: \u001b[1;36m0.2\u001b[0m, dispersion: gene, \n",
       "gene_likelihood: zinb, latent_distribution: normal\n",
       "Training status: Trained\n"
      ]
     },
     "metadata": {},
     "output_type": "display_data"
    },
    {
     "data": {
      "text/plain": []
     },
     "execution_count": 14,
     "metadata": {},
     "output_type": "execute_result"
    }
   ],
   "source": [
    "scvi_ref"
   ]
  },
  {
   "cell_type": "code",
   "execution_count": 15,
   "id": "representative-columbus",
   "metadata": {
    "tags": []
   },
   "outputs": [
    {
     "data": {
      "text/plain": [
       "AnnData object with n_obs × n_vars = 26387 × 4969\n",
       "    obs: 'latent_cell_probability', 'latent_RT_efficiency', 'cecilia22_predH', 'cecilia22_predH_prob', 'cecilia22_predH_uncertain', 'cecilia22_predL', 'cecilia22_predL_prob', 'cecilia22_predL_uncertain', 'elmentaite21_pred', 'elmentaite21_pred_prob', 'elmentaite21_pred_uncertain', 'suo22_pred', 'suo22_pred_prob', 'suo22_pred_uncertain', 'n_counts', 'log1p_n_counts', 'n_genes', 'log1p_n_genes', 'percent_mito', 'n_counts_mito', 'percent_ribo', 'n_counts_ribo', 'percent_hb', 'n_counts_hb', 'percent_top50', 'n_counts_raw', 'log1p_n_counts_raw', 'n_genes_raw', 'log1p_n_genes_raw', 'percent_mito_raw', 'n_counts_mito_raw', 'percent_ribo_raw', 'n_counts_ribo_raw', 'percent_hb_raw', 'n_counts_hb_raw', 'percent_top50_raw', 'n_counts_spliced', 'log1p_n_counts_spliced', 'n_genes_spliced', 'log1p_n_genes_spliced', 'percent_mito_spliced', 'n_counts_mito_spliced', 'percent_ribo_spliced', 'n_counts_ribo_spliced', 'percent_hb_spliced', 'n_counts_hb_spliced', 'percent_top50_spliced', 'n_counts_unspliced', 'log1p_n_counts_unspliced', 'n_genes_unspliced', 'log1p_n_genes_unspliced', 'percent_mito_unspliced', 'n_counts_mito_unspliced', 'percent_ribo_unspliced', 'n_counts_ribo_unspliced', 'percent_hb_unspliced', 'n_counts_hb_unspliced', 'percent_top50_unspliced', 'percent_soup', 'percent_spliced', 'qc_cluster', 'pass_auto_filter_mito20', 'good_qc_cluster_mito20', 'pass_auto_filter_mito50', 'good_qc_cluster_mito50', 'pass_auto_filter_mito80', 'good_qc_cluster_mito80', 'pass_auto_filter', 'good_qc_cluster', 'pass_default', 'sampleID', 'sourceID', 'donorID_original', 'study', 'donorID_corrected', 'donorID_unified', 'donor_category', 'donor_disease', 'organ_original', 'organ_unified', 'organ_broad', 'age_original', 'age_unified', 'age_continuousadult', 'age_continuousdev', 'sex', 'sample_type', 'sample_category', 'sample_retrieval', 'tissue_fraction', 'cell_fraction', 'cell_fraction_unified', 'cell_sorting', 'technology', 'include_150722', 'cluster_scrublet_score', 'bh_pval', 'scrublet_score', 'scrublet_score_z', 'scrublet_done', 'doublet', 'stringent_doublet', 'integration_grouping', '_scvi_batch', '_scvi_labels', 'broad_annot_20220914', 'martin19_pred', 'martin19_pred_prob', 'martin19_pred_uncertain', 'warner20_pred', 'warner20_pred_prob', 'warner20_pred_uncertain', 'broad_annot_20220917', 'annot_v2', 'fine_annot'\n",
       "    var: 'gene_ids', 'feature_type', 'mito', 'ribo', 'hb', 'n_counts', 'n_counts_raw', 'n_counts_spliced', 'n_counts_unspliced', 'n_cells', 'n_cells_raw', 'n_cells_spliced', 'n_cells_unspliced', 'cc', 'ig', 'tcr'\n",
       "    uns: '_scvi_uuid', '_scvi_manager_uuid'\n",
       "    obsm: '_scvi_extra_continuous_covs'"
      ]
     },
     "execution_count": 15,
     "metadata": {},
     "output_type": "execute_result"
    }
   ],
   "source": [
    "scvi_ref.adata"
   ]
  },
  {
   "cell_type": "code",
   "execution_count": 16,
   "id": "electoral-james",
   "metadata": {
    "tags": []
   },
   "outputs": [
    {
     "data": {
      "text/plain": [
       "Index(['latent_cell_probability', 'latent_RT_efficiency', 'cecilia22_predH',\n",
       "       'cecilia22_predH_prob', 'cecilia22_predH_uncertain', 'cecilia22_predL',\n",
       "       'cecilia22_predL_prob', 'cecilia22_predL_uncertain',\n",
       "       'elmentaite21_pred', 'elmentaite21_pred_prob',\n",
       "       ...\n",
       "       'broad_annot_20220914', 'martin19_pred', 'martin19_pred_prob',\n",
       "       'martin19_pred_uncertain', 'warner20_pred', 'warner20_pred_prob',\n",
       "       'warner20_pred_uncertain', 'broad_annot_20220917', 'annot_v2',\n",
       "       'fine_annot'],\n",
       "      dtype='object', length=115)"
      ]
     },
     "execution_count": 16,
     "metadata": {},
     "output_type": "execute_result"
    }
   ],
   "source": [
    "scvi_ref.adata.obs.columns"
   ]
  },
  {
   "cell_type": "code",
   "execution_count": 17,
   "id": "periodic-dealing",
   "metadata": {
    "tags": []
   },
   "outputs": [],
   "source": [
    "scanvi_ref = scvi.model.SCANVI.from_scvi_model(\n",
    "    scvi_ref, unlabeled_category=\"Unknown\", labels_key=\"fine_annot\"\n",
    ")"
   ]
  },
  {
   "cell_type": "code",
   "execution_count": 18,
   "id": "aging-above",
   "metadata": {
    "tags": []
   },
   "outputs": [
    {
     "name": "stdout",
     "output_type": "stream",
     "text": [
      "\u001b[34mINFO    \u001b[0m Training for \u001b[1;36m20\u001b[0m epochs.                                                             \n"
     ]
    },
    {
     "name": "stderr",
     "output_type": "stream",
     "text": [
      "/opt/conda/envs/scvi/lib/python3.9/site-packages/torchmetrics/utilities/prints.py:36: UserWarning: Torchmetrics v0.9 introduced a new argument class property called `full_state_update` that has\n",
      "                not been set for this class (ElboMetric). The property determines if `update` by\n",
      "                default needs access to the full metric state. If this is not the case, significant speedups can be\n",
      "                achieved and we recommend setting this to `False`.\n",
      "                We provide an checking function\n",
      "                `from torchmetrics.utilities import check_forward_no_full_state`\n",
      "                that can be used to check if the `full_state_update=True` (old and potential slower behaviour,\n",
      "                default for now) or if `full_state_update=False` can be used safely.\n",
      "                \n",
      "  warnings.warn(*args, **kwargs)\n",
      "GPU available: True, used: True\n",
      "TPU available: False, using: 0 TPU cores\n",
      "IPU available: False, using: 0 IPUs\n",
      "LOCAL_RANK: 0 - CUDA_VISIBLE_DEVICES: [0]\n"
     ]
    },
    {
     "name": "stdout",
     "output_type": "stream",
     "text": [
      "Epoch 1/20:   0%|          | 0/20 [00:00<?, ?it/s]"
     ]
    },
    {
     "name": "stderr",
     "output_type": "stream",
     "text": [
      "/opt/conda/envs/scvi/lib/python3.9/site-packages/scvi/distributions/_negative_binomial.py:61: UserWarning: Specified kernel cache directory could not be created! This disables kernel caching. Specified directory is /home/jupyter/.cache/torch/kernels. This warning will appear only once per process. (Triggered internally at  ../aten/src/ATen/native/cuda/jit_utils.cpp:860.)\n",
      "  + torch.lgamma(x + theta)\n"
     ]
    },
    {
     "name": "stdout",
     "output_type": "stream",
     "text": [
      "Epoch 20/20: 100%|██████████| 20/20 [01:27<00:00,  4.36s/it, loss=1.67e+03, v_num=1]\n"
     ]
    }
   ],
   "source": [
    "scanvi_ref.train(max_epochs=20, n_samples_per_label=100)"
   ]
  },
  {
   "cell_type": "code",
   "execution_count": 19,
   "id": "fc51a138-b38b-4680-b664-39b2f8764dc7",
   "metadata": {},
   "outputs": [
    {
     "data": {
      "text/html": [
       "<pre style=\"white-space:pre;overflow-x:auto;line-height:normal;font-family:Menlo,'DejaVu Sans Mono',consolas,'Courier New',monospace\">ScanVI Model with the following params: \n",
       "unlabeled_category: Unknown, n_hidden: <span style=\"color: #008080; text-decoration-color: #008080; font-weight: bold\">128</span>, n_latent: <span style=\"color: #008080; text-decoration-color: #008080; font-weight: bold\">20</span>, n_layers: <span style=\"color: #008080; text-decoration-color: #008080; font-weight: bold\">2</span>, dropout_rate: <span style=\"color: #008080; text-decoration-color: #008080; font-weight: bold\">0.2</span>, \n",
       "dispersion: gene, gene_likelihood: zinb\n",
       "Training status: Trained\n",
       "</pre>\n"
      ],
      "text/plain": [
       "ScanVI Model with the following params: \n",
       "unlabeled_category: Unknown, n_hidden: \u001b[1;36m128\u001b[0m, n_latent: \u001b[1;36m20\u001b[0m, n_layers: \u001b[1;36m2\u001b[0m, dropout_rate: \u001b[1;36m0.2\u001b[0m, \n",
       "dispersion: gene, gene_likelihood: zinb\n",
       "Training status: Trained\n"
      ]
     },
     "metadata": {},
     "output_type": "display_data"
    },
    {
     "data": {
      "text/plain": []
     },
     "execution_count": 19,
     "metadata": {},
     "output_type": "execute_result"
    }
   ],
   "source": [
    "scanvi_ref"
   ]
  },
  {
   "cell_type": "code",
   "execution_count": 20,
   "id": "27e0ad85-dbad-4413-8578-0511fc93f223",
   "metadata": {},
   "outputs": [],
   "source": [
    "scanvi_ref.save(\n",
    "    \"/home/jupyter/Annotations_v3/models/scanvi_compartments/SI_ST_epi.hvg5000_noRPL_scvi.scanvi_fine_annot.20231010/model.pt\"\n",
    ")"
   ]
  },
  {
   "cell_type": "code",
   "execution_count": 21,
   "id": "preliminary-raising",
   "metadata": {
    "tags": []
   },
   "outputs": [
    {
     "data": {
      "text/plain": [
       "AnnData object with n_obs × n_vars = 26387 × 4969\n",
       "    obs: 'latent_cell_probability', 'latent_RT_efficiency', 'cecilia22_predH', 'cecilia22_predH_prob', 'cecilia22_predH_uncertain', 'cecilia22_predL', 'cecilia22_predL_prob', 'cecilia22_predL_uncertain', 'elmentaite21_pred', 'elmentaite21_pred_prob', 'elmentaite21_pred_uncertain', 'suo22_pred', 'suo22_pred_prob', 'suo22_pred_uncertain', 'n_counts', 'log1p_n_counts', 'n_genes', 'log1p_n_genes', 'percent_mito', 'n_counts_mito', 'percent_ribo', 'n_counts_ribo', 'percent_hb', 'n_counts_hb', 'percent_top50', 'n_counts_raw', 'log1p_n_counts_raw', 'n_genes_raw', 'log1p_n_genes_raw', 'percent_mito_raw', 'n_counts_mito_raw', 'percent_ribo_raw', 'n_counts_ribo_raw', 'percent_hb_raw', 'n_counts_hb_raw', 'percent_top50_raw', 'n_counts_spliced', 'log1p_n_counts_spliced', 'n_genes_spliced', 'log1p_n_genes_spliced', 'percent_mito_spliced', 'n_counts_mito_spliced', 'percent_ribo_spliced', 'n_counts_ribo_spliced', 'percent_hb_spliced', 'n_counts_hb_spliced', 'percent_top50_spliced', 'n_counts_unspliced', 'log1p_n_counts_unspliced', 'n_genes_unspliced', 'log1p_n_genes_unspliced', 'percent_mito_unspliced', 'n_counts_mito_unspliced', 'percent_ribo_unspliced', 'n_counts_ribo_unspliced', 'percent_hb_unspliced', 'n_counts_hb_unspliced', 'percent_top50_unspliced', 'percent_soup', 'percent_spliced', 'qc_cluster', 'pass_auto_filter_mito20', 'good_qc_cluster_mito20', 'pass_auto_filter_mito50', 'good_qc_cluster_mito50', 'pass_auto_filter_mito80', 'good_qc_cluster_mito80', 'pass_auto_filter', 'good_qc_cluster', 'pass_default', 'sampleID', 'sourceID', 'donorID_original', 'study', 'donorID_corrected', 'donorID_unified', 'donor_category', 'donor_disease', 'organ_original', 'organ_unified', 'organ_broad', 'age_original', 'age_unified', 'age_continuousadult', 'age_continuousdev', 'sex', 'sample_type', 'sample_category', 'sample_retrieval', 'tissue_fraction', 'cell_fraction', 'cell_fraction_unified', 'cell_sorting', 'technology', 'include_150722', 'cluster_scrublet_score', 'bh_pval', 'scrublet_score', 'scrublet_score_z', 'scrublet_done', 'doublet', 'stringent_doublet', 'integration_grouping', '_scvi_batch', '_scvi_labels', 'broad_annot_20220914', 'martin19_pred', 'martin19_pred_prob', 'martin19_pred_uncertain', 'warner20_pred', 'warner20_pred_prob', 'warner20_pred_uncertain', 'broad_annot_20220917', 'annot_v2', 'fine_annot'\n",
       "    var: 'gene_ids', 'feature_type', 'mito', 'ribo', 'hb', 'n_counts', 'n_counts_raw', 'n_counts_spliced', 'n_counts_unspliced', 'n_cells', 'n_cells_raw', 'n_cells_spliced', 'n_cells_unspliced', 'cc', 'ig', 'tcr'\n",
       "    uns: '_scvi_uuid', '_scvi_manager_uuid'\n",
       "    obsm: '_scvi_extra_continuous_covs'"
      ]
     },
     "execution_count": 21,
     "metadata": {},
     "output_type": "execute_result"
    }
   ],
   "source": [
    "scanvi_ref.adata"
   ]
  },
  {
   "cell_type": "code",
   "execution_count": 22,
   "id": "material-delivery",
   "metadata": {
    "tags": []
   },
   "outputs": [],
   "source": [
    "scanvi_ref.adata.obsm[\"X_scANVI\"] = scanvi_ref.get_latent_representation()"
   ]
  },
  {
   "cell_type": "code",
   "execution_count": 23,
   "id": "4e52ee02-8c08-4c57-bfe2-13c2757f959d",
   "metadata": {},
   "outputs": [],
   "source": [
    "pd.DataFrame(\n",
    "    scanvi_ref.adata.obsm[\"X_scANVI\"],\n",
    "    index=scanvi_ref.adata.obs_names,\n",
    "    columns=[f\"LV{i+1}\" for i in range(scanvi_ref.adata.obsm[\"X_scANVI\"].shape[1])],\n",
    ").to_csv(\n",
    "    \"/home/jupyter/Annotations_v3/models/scanvi_compartments/SI_ST_epi.hvg5000_noRPL_scvi.scanvi_fine_annot.20231010.csv.gz\"\n",
    ")"
   ]
  },
  {
   "cell_type": "code",
   "execution_count": null,
   "id": "240ca25e-0bfa-45b1-9ea5-51fbe3a5299c",
   "metadata": {},
   "outputs": [],
   "source": []
  }
 ],
 "metadata": {
  "environment": {
   "kernel": "scvi",
   "name": "pytorch-gpu.1-11.m93",
   "type": "gcloud",
   "uri": "gcr.io/deeplearning-platform-release/pytorch-gpu.1-11:m93"
  },
  "kernelspec": {
   "display_name": "Environment (scvi_env)",
   "language": "python",
   "name": "scvi"
  },
  "language_info": {
   "codemirror_mode": {
    "name": "ipython",
    "version": 3
   },
   "file_extension": ".py",
   "mimetype": "text/x-python",
   "name": "python",
   "nbconvert_exporter": "python",
   "pygments_lexer": "ipython3",
   "version": "3.9.13"
  }
 },
 "nbformat": 4,
 "nbformat_minor": 5
}
